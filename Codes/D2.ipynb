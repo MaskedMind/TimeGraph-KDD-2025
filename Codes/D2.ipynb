{
  "nbformat": 4,
  "nbformat_minor": 0,
  "metadata": {
    "colab": {
      "provenance": []
    },
    "kernelspec": {
      "name": "python3",
      "display_name": "Python 3"
    },
    "language_info": {
      "name": "python"
    }
  },
  "cells": [
    {
      "cell_type": "code",
      "execution_count": 1,
      "metadata": {
        "colab": {
          "base_uri": "https://localhost:8080/"
        },
        "id": "toH3RX2cArRN",
        "outputId": "89d4529e-701d-40ce-e01b-6930d94a4b5c"
      },
      "outputs": [
        {
          "output_type": "stream",
          "name": "stdout",
          "text": [
            "Collecting tigramite\n",
            "  Downloading tigramite-5.2.7.0-py3-none-any.whl.metadata (11 kB)\n",
            "Requirement already satisfied: numpy>=1.18 in /usr/local/lib/python3.11/dist-packages (from tigramite) (1.26.4)\n",
            "Requirement already satisfied: scipy>=1.10.0 in /usr/local/lib/python3.11/dist-packages (from tigramite) (1.13.1)\n",
            "Requirement already satisfied: six in /usr/local/lib/python3.11/dist-packages (from tigramite) (1.17.0)\n",
            "Downloading tigramite-5.2.7.0-py3-none-any.whl (309 kB)\n",
            "\u001b[2K   \u001b[90m━━━━━━━━━━━━━━━━━━━━━━━━━━━━━━━━━━━━━━━━\u001b[0m \u001b[32m309.6/309.6 kB\u001b[0m \u001b[31m7.7 MB/s\u001b[0m eta \u001b[36m0:00:00\u001b[0m\n",
            "\u001b[?25hInstalling collected packages: tigramite\n",
            "Successfully installed tigramite-5.2.7.0\n"
          ]
        }
      ],
      "source": [
        "!pip install tigramite"
      ]
    },
    {
      "cell_type": "code",
      "source": [
        "import numpy as np\n",
        "import pandas as pd\n",
        "from scipy import stats\n",
        "from tigramite import plotting as tp\n",
        "import matplotlib.pyplot as plt\n",
        "from pathlib import Path"
      ],
      "metadata": {
        "id": "JSgyFSyfA3sS"
      },
      "execution_count": 2,
      "outputs": []
    },
    {
      "cell_type": "code",
      "source": [
        "def get_nonlinear_equations(n_vars, max_lag):\n",
        "    \"\"\"Get nonlinear polynomial equations for specified configuration\"\"\"\n",
        "    if n_vars == 4:\n",
        "        if max_lag == 2:\n",
        "            return [\n",
        "                \"X4[t] = 0.25 * X1[t-2]^2 - 0.1 * X1[t-2]^3 + e4\",\n",
        "                \"X3[t] = 0.35 * X4[t]^2 - 0.15 * X4[t]^3 + e3\",\n",
        "                \"X2[t] = 0.3 * X3[t-1]^2 - 0.05 * X3[t-1]^3 + e2\",\n",
        "                \"X1[t] = 0.4 * X2[t]^2 - 0.2 * X2[t]^3 + e1\"\n",
        "            ]\n",
        "        elif max_lag == 3:\n",
        "            return [\n",
        "                \"X4[t] = 0.25 * X1[t-2]^2 - 0.1 * X1[t-2]^3 + e4\",\n",
        "                \"X3[t] = 0.35 * X4[t]^2 - 0.15 * X4[t]^3 + 0.2 * X2[t-3]^2 + e3\",\n",
        "                \"X2[t] = 0.3 * X3[t-1]^2 - 0.05 * X3[t-1]^3 + e2\",\n",
        "                \"X1[t] = 0.4 * X2[t]^2 - 0.2 * X2[t]^3 + e1\"\n",
        "            ]\n",
        "        elif max_lag == 4:\n",
        "            return [\n",
        "                \"X4[t] = 0.25 * X1[t-4]^2 - 0.1 * X1[t-4]^3 + e4\",\n",
        "                \"X3[t] = 0.35 * X4[t]^2 - 0.15 * X4[t]^3 + 0.2 * X2[t-3]^2 + e3\",\n",
        "                \"X2[t] = 0.3 * X3[t-1]^2 - 0.05 * X3[t-1]^3 + e2\",\n",
        "                \"X1[t] = 0.4 * X2[t]^2 - 0.2 * X2[t]^3 + e1\"\n",
        "            ]\n",
        "    elif n_vars == 6:\n",
        "        base_equations = get_nonlinear_equations(4, max_lag)\n",
        "        additional = [\n",
        "            \"X6[t] = 0.45 * X5[t]^2 - 0.15 * X5[t]^3 + e6\",\n",
        "            \"X5[t] = 0.3 * X4[t-1]^2 - 0.1 * X4[t-1]^3 + e5\"\n",
        "        ]\n",
        "        return additional + base_equations\n",
        "    elif n_vars == 8:\n",
        "        base_equations = get_nonlinear_equations(6, max_lag)\n",
        "        additional = [\n",
        "            \"X8[t] = 0.4 * X7[t]^2 - 0.12 * X7[t]^3 + e8\",\n",
        "            \"X7[t] = 0.35 * X6[t-1]^2 - 0.08 * X6[t-1]^3 + e7\"\n",
        "        ]\n",
        "        return additional + base_equations\n",
        "    return []\n",
        "\n",
        "class BlockMissingNonlinearGenerator:\n",
        "    def __init__(self, block_size_range=(5, 20), block_prob=0.2, noise_type='gaussian',\n",
        "                 noise_params={'scale': 0.1, 'df': 3}, random_state=None):\n",
        "        \"\"\"\n",
        "        Initialize generator with block missingness pattern\n",
        "\n",
        "        Parameters:\n",
        "        block_size_range: tuple, (min_size, max_size) for missing blocks\n",
        "        block_prob: float between 0 and 1, probability of starting a missing block\n",
        "        noise_type: str, 'gaussian' or 'student_t'\n",
        "        noise_params: dict with 'scale' and 'df' (for Student's t) parameters\n",
        "        random_state: int, random seed\n",
        "        \"\"\"\n",
        "        self.block_size_range = block_size_range\n",
        "        self.block_prob = block_prob\n",
        "        self.noise_type = noise_type\n",
        "        self.noise_params = noise_params\n",
        "        self.random_state = random_state\n",
        "        if random_state is not None:\n",
        "            np.random.seed(random_state)\n",
        "\n",
        "    def generate_noise(self, size):\n",
        "        \"\"\"Generate noise based on specified distribution\"\"\"\n",
        "        if self.noise_type == 'gaussian':\n",
        "            return np.random.normal(0, self.noise_params['scale'], size=size)\n",
        "        elif self.noise_type == 'student_t':\n",
        "            return stats.t.rvs(df=self.noise_params['df'],\n",
        "                             loc=0,\n",
        "                             scale=self.noise_params['scale'],\n",
        "                             size=size)\n",
        "\n",
        "    def generate_irregular_timestamps(self, n_points, total_time, min_gap=0.1):\n",
        "        \"\"\"Generate irregular sampling times\"\"\"\n",
        "        times = np.zeros(n_points)\n",
        "        times[0] = np.random.uniform(0, min_gap)\n",
        "\n",
        "        for i in range(1, n_points):\n",
        "            gap = np.random.exponential(scale=(total_time-times[i-1])/(n_points-i))\n",
        "            times[i] = times[i-1] + max(gap, min_gap)\n",
        "\n",
        "            if times[i] > total_time:\n",
        "                times = times * (total_time / times[i])\n",
        "\n",
        "        return times\n",
        "\n",
        "    def find_nearest_lag_idx(self, timestamps, current_idx, lag_time):\n",
        "        \"\"\"Find index of nearest available past observation for given lag\"\"\"\n",
        "        target_time = timestamps[current_idx] - lag_time\n",
        "        past_timestamps = timestamps[:current_idx]\n",
        "        if len(past_timestamps) == 0:\n",
        "            return 0\n",
        "        return (np.abs(past_timestamps - target_time)).argmin()\n",
        "\n",
        "    def generate_block_missing_pattern(self, n_points, n_vars):\n",
        "        \"\"\"Generate block missingness pattern (MAR/NMAR)\"\"\"\n",
        "        missing_mask = np.zeros((n_points, n_vars), dtype=bool)\n",
        "        current_block = False\n",
        "        block_remaining = 0\n",
        "\n",
        "        for t in range(n_points):\n",
        "            if not current_block and np.random.random() < self.block_prob:\n",
        "                # Start new missing block\n",
        "                current_block = True\n",
        "                block_remaining = np.random.randint(*self.block_size_range)\n",
        "\n",
        "                # Choose which variables to affect (MAR - depends on other variables)\n",
        "                n_affected = np.random.randint(1, n_vars + 1)\n",
        "                affected_vars = np.random.choice(n_vars, size=n_affected, replace=False)\n",
        "\n",
        "                # Set missing pattern for this block\n",
        "                for _ in range(block_remaining):\n",
        "                    if t + _ < n_points:\n",
        "                        missing_mask[t + _, affected_vars] = True\n",
        "\n",
        "            if current_block:\n",
        "                block_remaining -= 1\n",
        "                if block_remaining <= 0:\n",
        "                    current_block = False\n",
        "\n",
        "        return missing_mask\n",
        "\n",
        "    def generate_equations(self, t, X, lag_indices, n_vars, max_lag):\n",
        "        \"\"\"Execute nonlinear polynomial equations with irregular sampling\"\"\"\n",
        "        noise = self.generate_noise(n_vars)\n",
        "        equations = get_nonlinear_equations(n_vars, max_lag)\n",
        "        true_links = extract_coefficients_from_equations(equations)\n",
        "\n",
        "        # Generate values based on nonlinear relationships\n",
        "        for i in range(n_vars-1, -1, -1):\n",
        "            var_name = f'X{i+1}'\n",
        "            value = 0\n",
        "\n",
        "            # Add causal influences with polynomial terms\n",
        "            for (source, lag, target, power), coef in true_links.items():\n",
        "                if target == var_name:\n",
        "                    source_idx = int(source[1:]) - 1\n",
        "                    if lag == 0:\n",
        "                        value += coef * (X[t, source_idx] ** power)\n",
        "                    else:\n",
        "                        lag_idx = lag_indices[abs(lag)-1]\n",
        "                        value += coef * (X[lag_idx, source_idx] ** power)\n",
        "\n",
        "            # Add noise term\n",
        "            X[t, i] = value + noise[i]\n",
        "\n",
        "    def generate_multivariate_ts(self, n_points, n_vars, max_lag, total_time=100, min_gap=0.1):\n",
        "        \"\"\"Generate multivariate time series with irregular sampling and block missingness\"\"\"\n",
        "        # Initialize arrays\n",
        "        X = np.zeros((n_points, n_vars))\n",
        "\n",
        "        # Generate irregular timestamps\n",
        "        timestamps = self.generate_irregular_timestamps(n_points, total_time, min_gap)\n",
        "\n",
        "        # Initialize first steps with noise\n",
        "        for i in range(max_lag):\n",
        "            X[i] = self.generate_noise(n_vars)\n",
        "\n",
        "        # Generate time series\n",
        "        for t in range(max_lag, n_points):\n",
        "            mean_diff = np.mean(np.diff(timestamps))\n",
        "            lag_indices = [self.find_nearest_lag_idx(timestamps, t, i * mean_diff)\n",
        "                         for i in range(1, max_lag + 1)]\n",
        "\n",
        "            self.generate_equations(t, X, lag_indices, n_vars, max_lag)\n",
        "\n",
        "        # Generate and apply block missingness pattern\n",
        "        missing_mask = self.generate_block_missing_pattern(n_points, n_vars)\n",
        "        X_missing = X.copy()\n",
        "        X_missing[missing_mask] = np.nan\n",
        "\n",
        "        # Create DataFrames for both complete and missing data\n",
        "        columns = [f'X{i+1}' for i in range(n_vars)]\n",
        "        df_missing = pd.DataFrame(X_missing, columns=columns)\n",
        "        df_missing['time'] = timestamps\n",
        "\n",
        "        df_complete = pd.DataFrame(X, columns=columns)\n",
        "        df_complete['time'] = timestamps\n",
        "\n",
        "        return df_missing, df_complete, missing_mask\n",
        "\n",
        "def extract_coefficients_from_equations(equations):\n",
        "    \"\"\"Extract coefficients and causal relationships from nonlinear equations\"\"\"\n",
        "    causal_links = {}\n",
        "\n",
        "    for eq in equations:\n",
        "        if '=' not in eq:\n",
        "            continue\n",
        "\n",
        "        left, right = [side.strip() for side in eq.split('=')]\n",
        "        target = left.split('[')[0]\n",
        "\n",
        "        terms = [term.strip() for term in right.split('+')]\n",
        "        for term in terms:\n",
        "            if '*' in term and 'X' in term:\n",
        "                parts = term.split('*')\n",
        "                coeff = float(parts[0].strip())\n",
        "                var_part = parts[1].split('^')[0].strip()\n",
        "                var = var_part.split('[')[0]\n",
        "                lag_part = var_part.split('[')[1].split(']')[0]\n",
        "\n",
        "                power = 1\n",
        "                if '^' in term:\n",
        "                    power = int(term.split('^')[1].split(' ')[0])\n",
        "\n",
        "                lag = 0 if lag_part == 't' else -int(lag_part.split('-')[1])\n",
        "                causal_links[(var, lag, target, power)] = coeff\n",
        "\n",
        "    return causal_links\n",
        "\n",
        "def extract_linear_links_for_graph(equations):\n",
        "    \"\"\"Extract base linear coefficients for graph visualization\"\"\"\n",
        "    links = {}\n",
        "\n",
        "    for eq in equations:\n",
        "        if '=' in eq:\n",
        "            left, right = [side.strip() for side in eq.split('=')]\n",
        "            target = left.split('[')[0]\n",
        "\n",
        "            terms = [term.strip() for term in right.split('+')]\n",
        "            for term in terms:\n",
        "                if '*' in term and 'X' in term:\n",
        "                    # Get base coefficient (first number from polynomial terms)\n",
        "                    parts = term.split('*')\n",
        "                    coeff = float(parts[0].strip())\n",
        "                    var_part = parts[1].strip()\n",
        "\n",
        "                    # Get variable name without power terms\n",
        "                    var = var_part.split('^')[0].split('[')[0]\n",
        "                    lag_part = var_part.split('[')[1].split(']')[0]\n",
        "\n",
        "                    lag = 0 if lag_part == 't' else -int(lag_part.split('-')[1])\n",
        "                    links[(var, lag, target)] = coeff\n",
        "\n",
        "    return links\n",
        "\n",
        "def save_dataset_and_visualizations(df_missing, df_complete, missing_mask, n_vars, max_lag,\n",
        "                                  sample_size, noise_type, block_prob, output_dir=\"output_block_missing\"):\n",
        "    \"\"\"Save dataset and create visualizations including causal graph\"\"\"\n",
        "    Path(output_dir).mkdir(parents=True, exist_ok=True)\n",
        "    base_filename = f'{output_dir}/nonlinear_ts_n{sample_size}_vars{n_vars}_lag{max_lag}_{noise_type}_block{int(block_prob*100)}'\n",
        "\n",
        "    # Save datasets\n",
        "    df_missing.to_csv(f'{base_filename}_missing.csv', index=False)\n",
        "    df_complete.to_csv(f'{base_filename}_complete.csv', index=False)\n",
        "\n",
        "    # Create and save causal graph\n",
        "    equations = get_nonlinear_equations(n_vars, max_lag)\n",
        "    true_links = extract_linear_links_for_graph(equations)\n",
        "\n",
        "    # Create matrices for tigramite plotting\n",
        "    var_names = [f'X{i+1}' for i in range(n_vars)]\n",
        "    val_matrix = np.zeros((n_vars, n_vars, max_lag + 1))\n",
        "    graph_matrix = np.zeros((n_vars, n_vars, max_lag + 1), dtype='bool')\n",
        "\n",
        "    # Fill matrices based on true links\n",
        "    for (source, lag, target), weight in true_links.items():\n",
        "        source_idx = int(source[1:]) - 1\n",
        "        target_idx = int(target[1:]) - 1\n",
        "        lag_idx = abs(lag)\n",
        "\n",
        "        # Add the link to the matrices\n",
        "        val_matrix[source_idx, target_idx, lag_idx] = weight\n",
        "        graph_matrix[source_idx, target_idx, lag_idx] = True\n",
        "\n",
        "        # For contemporaneous links, make val_matrix symmetric\n",
        "        if lag == 0:\n",
        "            val_matrix[target_idx, source_idx, lag_idx] = weight\n",
        "\n",
        "    # Plot and save causal graph\n",
        "    plt.figure(figsize=(12, 12))\n",
        "    tp.plot_time_series_graph(\n",
        "        val_matrix=val_matrix,\n",
        "        graph=graph_matrix,\n",
        "        var_names=var_names,\n",
        "        link_colorbar_label='Nonlinear Effect Strength',\n",
        "        node_size=0.05\n",
        "    )\n",
        "    plt.title(f'Nonlinear Causal Graph\\n(n={sample_size}, vars={n_vars}, lag={max_lag})\\n{noise_type}, Block Prob {block_prob:.1f}')\n",
        "    plt.savefig(f'{base_filename}_causal_graph.png')\n",
        "    plt.close()\n",
        "\n",
        "    # Save causal structure description\n",
        "    with open(f'{base_filename}_causal_structure.txt', 'w') as f:\n",
        "        f.write(f\"True Nonlinear Causal Structure:\\n\")\n",
        "        f.write(\"Format: (source, lag, target) => coefficient\\n\")\n",
        "        f.write(\"\\nEquations:\\n\")\n",
        "        for eq in equations:\n",
        "            f.write(f\"{eq}\\n\")\n",
        "        f.write(\"\\nNonlinear Causal Links:\\n\")\n",
        "        for (source, lag, target), coef in true_links.items():\n",
        "            f.write(f\"({source}, {lag}, {target}) => {coef} [base coefficient]\\n\")\n",
        "\n",
        "    # Plot time series with missing blocks\n",
        "    plt.figure(figsize=(15, 10))\n",
        "    for col in df_missing.columns[:-1]:  # Exclude time column\n",
        "        plt.plot(df_complete['time'], df_complete[col], label=f'{col} (complete)', alpha=0.3)\n",
        "        mask = ~df_missing[col].isna()\n",
        "        plt.scatter(df_missing.loc[mask, 'time'], df_missing.loc[mask, col],\n",
        "                   label=f'{col} (observed)', alpha=0.7, s=20)\n",
        "\n",
        "    plt.title(f'Nonlinear Time Series with Block Missingness\\n(n={sample_size}, vars={n_vars}, lag={max_lag})')\n",
        "    plt.xlabel('Time')\n",
        "    plt.ylabel('Value')\n",
        "    plt.legend()\n",
        "    plt.grid(True)\n",
        "    plt.savefig(f'{base_filename}_series.png')\n",
        "    plt.close()\n",
        "\n",
        "    # Plot missing data pattern\n",
        "    plt.figure(figsize=(15, 5))\n",
        "    plt.imshow(missing_mask.T, aspect='auto', cmap='binary')\n",
        "    plt.title('Missing Data Pattern (black = missing)')\n",
        "    plt.xlabel('Time')\n",
        "    plt.ylabel('Variable')\n",
        "    plt.yticks(range(n_vars), [f'X{i+1}' for i in range(n_vars)])\n",
        "    plt.colorbar(label='Missing')\n",
        "    plt.savefig(f'{base_filename}_missing_pattern.png')\n",
        "    plt.close()\n",
        "\n",
        "    # Save missing data statistics\n",
        "    with open(f'{base_filename}_statistics.txt', 'w') as f:\n",
        "        f.write(f\"Missing Data Statistics:\\n\")\n",
        "        f.write(f\"Total points: {missing_mask.size}\\n\")\n",
        "        f.write(f\"Missing points: {missing_mask.sum()}\\n\")\n",
        "        f.write(f\"Missing percentage: {100 * missing_mask.sum() / missing_mask.size:.2f}%\\n\")\n",
        "        f.write(\"\\nMissing percentage by variable:\\n\")\n",
        "        for i in range(n_vars):\n",
        "            pct = 100 * missing_mask[:, i].sum() / len(missing_mask)\n",
        "            f.write(f\"X{i+1}: {pct:.2f}%\\n\")\n",
        "\n",
        "def analyze_block_missing_data(df_missing, df_complete, missing_mask, title=\"Nonlinear Time Series with Block Missingness\"):\n",
        "    \"\"\"Analyze and visualize block missing data patterns\"\"\"\n",
        "    print(f\"\\nAnalyzing {title}\")\n",
        "    print(\"=\" * 50)\n",
        "\n",
        "    # Basic missing data statistics\n",
        "    n_total = missing_mask.size\n",
        "    n_missing = missing_mask.sum()\n",
        "    missing_rate = n_missing / n_total\n",
        "\n",
        "    print(f\"\\nMissing Data Summary:\")\n",
        "    print(f\"Total values: {n_total}\")\n",
        "    print(f\"Missing values: {n_missing}\")\n",
        "    print(f\"Overall missing rate: {missing_rate:.2%}\")\n",
        "\n",
        "    # Analyze block characteristics\n",
        "    block_lengths = []\n",
        "    current_block = 0\n",
        "\n",
        "    for col in range(missing_mask.shape[1]):\n",
        "        block_start = False\n",
        "        for row in range(missing_mask.shape[0]):\n",
        "            if missing_mask[row, col]:\n",
        "                if not block_start:\n",
        "                    block_start = True\n",
        "                    current_block = 1\n",
        "                else:\n",
        "                    current_block += 1\n",
        "            elif block_start:\n",
        "                block_lengths.append(current_block)\n",
        "                block_start = False\n",
        "                current_block = 0\n",
        "        if block_start:  # Handle case where block ends at the end of series\n",
        "            block_lengths.append(current_block)\n",
        "\n",
        "    if block_lengths:\n",
        "        print(\"\\nBlock Length Statistics:\")\n",
        "        print(f\"Number of blocks: {len(block_lengths)}\")\n",
        "        print(f\"Mean block length: {np.mean(block_lengths):.2f}\")\n",
        "        print(f\"Median block length: {np.median(block_lengths):.2f}\")\n",
        "        print(f\"Min block length: {min(block_lengths)}\")\n",
        "        print(f\"Max block length: {max(block_lengths)}\")\n",
        "\n",
        "    # Statistical comparison between complete and observed data\n",
        "    print(\"\\nStatistical Comparison (Complete vs. Observed):\")\n",
        "    for col in df_missing.columns[:-1]:  # Exclude time\n",
        "        complete_stats = df_complete[col]\n",
        "        observed_stats = df_missing[col].dropna()\n",
        "\n",
        "        print(f\"\\n{col}:\")\n",
        "        print(f\"Complete  - Mean: {np.mean(complete_stats):.3f}, Std: {np.std(complete_stats):.3f}\")\n",
        "        print(f\"Observed - Mean: {np.mean(observed_stats):.3f}, Std: {np.std(observed_stats):.3f}\")\n",
        "\n",
        "    return block_lengths\n",
        "\n",
        "def generate_all_combinations():\n",
        "    \"\"\"Generate datasets for all combinations of parameters\"\"\"\n",
        "\n",
        "if __name__ == \"__main__\":\n",
        "    print(\"Generating nonlinear time series with block missingness...\")\n",
        "\n",
        "    # # Example case for testing\n",
        "    # n_points = 1000\n",
        "    # n_vars = 4\n",
        "    # max_lag = 2\n",
        "    # block_prob = 0.2\n",
        "\n",
        "    # # Generate example with Gaussian noise\n",
        "    # generator = BlockMissingNonlinearGenerator(\n",
        "    #     block_size_range=(5, 20),\n",
        "    #     block_prob=block_prob,\n",
        "    #     noise_type='gaussian',\n",
        "    #     noise_params={'scale': 0.1},\n",
        "    #     random_state=42\n",
        "    # )\n",
        "\n",
        "    # # Generate dataset\n",
        "    # df_missing, df_complete, missing_mask = generator.generate_multivariate_ts(\n",
        "    #     n_points=n_points,\n",
        "    #     n_vars=n_vars,\n",
        "    #     max_lag=max_lag,\n",
        "    #     total_time=100,\n",
        "    #     min_gap=0.1\n",
        "    # )\n",
        "\n",
        "    # # Save and analyze example case\n",
        "    # save_dataset_and_visualizations(\n",
        "    #     df_missing=df_missing,\n",
        "    #     df_complete=df_complete,\n",
        "    #     missing_mask=missing_mask,\n",
        "    #     n_vars=n_vars,\n",
        "    #     max_lag=max_lag,\n",
        "    #     sample_size=n_points,\n",
        "    #     noise_type='gaussian',\n",
        "    #     block_prob=block_prob\n",
        "    # )\n",
        "\n",
        "    # # Analyze the data\n",
        "    # block_lengths = analyze_block_missing_data(\n",
        "    #     df_missing,\n",
        "    #     df_complete,\n",
        "    #     missing_mask,\n",
        "    #     \"Gaussian Example with Block Missingness\"\n",
        "    # )\n",
        "\n",
        "    # # Generate all combinations\n",
        "    # Uncomment the following line to generate full dataset\n",
        "    # generate_all_combinations()\n",
        "    sample_sizes = [500, 1000, 3000, 5000]\n",
        "    n_vars_list = [4, 6, 8]\n",
        "    max_lags = [2, 3, 4]\n",
        "    noise_types = ['gaussian', 'student_t']\n",
        "    block_probs = [0.1, 0.2, 0.3]\n",
        "\n",
        "    for n in sample_sizes:\n",
        "        for vars in n_vars_list:\n",
        "            for lag in max_lags:\n",
        "                for noise_type in noise_types:\n",
        "                    for prob in block_probs:\n",
        "                        print(f\"\\nGenerating dataset: n={n}, vars={vars}, lag={lag}, \"\n",
        "                              f\"noise={noise_type}, block_prob={prob:.1f}\")\n",
        "\n",
        "                        # Configure generator\n",
        "                        noise_params = {'scale': 0.1, 'df': 3} if noise_type == 'student_t' else {'scale': 0.1}\n",
        "                        generator = BlockMissingNonlinearGenerator(\n",
        "                            block_size_range=(5, 20),\n",
        "                            block_prob=prob,\n",
        "                            noise_type=noise_type,\n",
        "                            noise_params=noise_params,\n",
        "                            random_state=42\n",
        "                        )\n",
        "\n",
        "                        # Generate dataset\n",
        "                        df_missing, df_complete, missing_mask = generator.generate_multivariate_ts(\n",
        "                            n_points=n,\n",
        "                            n_vars=vars,\n",
        "                            max_lag=lag,\n",
        "                            total_time=100,\n",
        "                            min_gap=0.1\n",
        "                        )\n",
        "\n",
        "                        # Save dataset and create visualizations\n",
        "                        save_dataset_and_visualizations(\n",
        "                            df_missing=df_missing,\n",
        "                            df_complete=df_complete,\n",
        "                            missing_mask=missing_mask,\n",
        "                            n_vars=vars,\n",
        "                            max_lag=lag,\n",
        "                            sample_size=n,\n",
        "                            noise_type=noise_type,\n",
        "                            block_prob=prob\n",
        "                        )\n",
        "                        print(\"Dataset and visualizations saved successfully\")"
      ],
      "metadata": {
        "colab": {
          "base_uri": "https://localhost:8080/",
          "height": 1000
        },
        "id": "lLUvkwTbCKZ6",
        "outputId": "a3606c47-dcf1-4856-8b32-34f2828691eb"
      },
      "execution_count": 4,
      "outputs": [
        {
          "output_type": "stream",
          "name": "stdout",
          "text": [
            "Generating nonlinear time series with block missingness...\n",
            "\n",
            "Generating dataset: n=500, vars=4, lag=2, noise=gaussian, block_prob=0.1\n",
            "Dataset and visualizations saved successfully\n",
            "\n",
            "Generating dataset: n=500, vars=4, lag=2, noise=gaussian, block_prob=0.2\n",
            "Dataset and visualizations saved successfully\n",
            "\n",
            "Generating dataset: n=500, vars=4, lag=2, noise=gaussian, block_prob=0.3\n",
            "Dataset and visualizations saved successfully\n",
            "\n",
            "Generating dataset: n=500, vars=4, lag=2, noise=student_t, block_prob=0.1\n",
            "Dataset and visualizations saved successfully\n",
            "\n",
            "Generating dataset: n=500, vars=4, lag=2, noise=student_t, block_prob=0.2\n",
            "Dataset and visualizations saved successfully\n",
            "\n",
            "Generating dataset: n=500, vars=4, lag=2, noise=student_t, block_prob=0.3\n",
            "Dataset and visualizations saved successfully\n",
            "\n",
            "Generating dataset: n=500, vars=4, lag=3, noise=gaussian, block_prob=0.1\n",
            "Dataset and visualizations saved successfully\n",
            "\n",
            "Generating dataset: n=500, vars=4, lag=3, noise=gaussian, block_prob=0.2\n",
            "Dataset and visualizations saved successfully\n",
            "\n",
            "Generating dataset: n=500, vars=4, lag=3, noise=gaussian, block_prob=0.3\n",
            "Dataset and visualizations saved successfully\n",
            "\n",
            "Generating dataset: n=500, vars=4, lag=3, noise=student_t, block_prob=0.1\n",
            "Dataset and visualizations saved successfully\n",
            "\n",
            "Generating dataset: n=500, vars=4, lag=3, noise=student_t, block_prob=0.2\n",
            "Dataset and visualizations saved successfully\n",
            "\n",
            "Generating dataset: n=500, vars=4, lag=3, noise=student_t, block_prob=0.3\n",
            "Dataset and visualizations saved successfully\n",
            "\n",
            "Generating dataset: n=500, vars=4, lag=4, noise=gaussian, block_prob=0.1\n",
            "Dataset and visualizations saved successfully\n",
            "\n",
            "Generating dataset: n=500, vars=4, lag=4, noise=gaussian, block_prob=0.2\n",
            "Dataset and visualizations saved successfully\n",
            "\n",
            "Generating dataset: n=500, vars=4, lag=4, noise=gaussian, block_prob=0.3\n",
            "Dataset and visualizations saved successfully\n",
            "\n",
            "Generating dataset: n=500, vars=4, lag=4, noise=student_t, block_prob=0.1\n",
            "Dataset and visualizations saved successfully\n",
            "\n",
            "Generating dataset: n=500, vars=4, lag=4, noise=student_t, block_prob=0.2\n",
            "Dataset and visualizations saved successfully\n",
            "\n",
            "Generating dataset: n=500, vars=4, lag=4, noise=student_t, block_prob=0.3\n",
            "Dataset and visualizations saved successfully\n",
            "\n",
            "Generating dataset: n=500, vars=6, lag=2, noise=gaussian, block_prob=0.1\n",
            "Dataset and visualizations saved successfully\n",
            "\n",
            "Generating dataset: n=500, vars=6, lag=2, noise=gaussian, block_prob=0.2\n"
          ]
        },
        {
          "output_type": "stream",
          "name": "stderr",
          "text": [
            "/usr/local/lib/python3.11/dist-packages/tigramite/plotting.py:3203: RuntimeWarning: More than 20 figures have been opened. Figures created through the pyplot interface (`matplotlib.pyplot.figure`) are retained until explicitly closed and may consume too much memory. (To control this warning, see the rcParam `figure.max_open_warning`). Consider using `matplotlib.pyplot.close()`.\n",
            "  fig = pyplot.figure(figsize=figsize)\n",
            "<ipython-input-4-b0bbbc778a96>:294: RuntimeWarning: More than 20 figures have been opened. Figures created through the pyplot interface (`matplotlib.pyplot.figure`) are retained until explicitly closed and may consume too much memory. (To control this warning, see the rcParam `figure.max_open_warning`). Consider using `matplotlib.pyplot.close()`.\n",
            "  plt.figure(figsize=(15, 10))\n",
            "<ipython-input-4-b0bbbc778a96>:310: RuntimeWarning: More than 20 figures have been opened. Figures created through the pyplot interface (`matplotlib.pyplot.figure`) are retained until explicitly closed and may consume too much memory. (To control this warning, see the rcParam `figure.max_open_warning`). Consider using `matplotlib.pyplot.close()`.\n",
            "  plt.figure(figsize=(15, 5))\n"
          ]
        },
        {
          "output_type": "stream",
          "name": "stdout",
          "text": [
            "Dataset and visualizations saved successfully\n",
            "\n",
            "Generating dataset: n=500, vars=6, lag=2, noise=gaussian, block_prob=0.3\n"
          ]
        },
        {
          "output_type": "stream",
          "name": "stderr",
          "text": [
            "<ipython-input-4-b0bbbc778a96>:270: RuntimeWarning: More than 20 figures have been opened. Figures created through the pyplot interface (`matplotlib.pyplot.figure`) are retained until explicitly closed and may consume too much memory. (To control this warning, see the rcParam `figure.max_open_warning`). Consider using `matplotlib.pyplot.close()`.\n",
            "  plt.figure(figsize=(12, 12))\n"
          ]
        },
        {
          "output_type": "stream",
          "name": "stdout",
          "text": [
            "Dataset and visualizations saved successfully\n",
            "\n",
            "Generating dataset: n=500, vars=6, lag=2, noise=student_t, block_prob=0.1\n",
            "Dataset and visualizations saved successfully\n",
            "\n",
            "Generating dataset: n=500, vars=6, lag=2, noise=student_t, block_prob=0.2\n",
            "Dataset and visualizations saved successfully\n",
            "\n",
            "Generating dataset: n=500, vars=6, lag=2, noise=student_t, block_prob=0.3\n",
            "Dataset and visualizations saved successfully\n",
            "\n",
            "Generating dataset: n=500, vars=6, lag=3, noise=gaussian, block_prob=0.1\n",
            "Dataset and visualizations saved successfully\n",
            "\n",
            "Generating dataset: n=500, vars=6, lag=3, noise=gaussian, block_prob=0.2\n",
            "Dataset and visualizations saved successfully\n",
            "\n",
            "Generating dataset: n=500, vars=6, lag=3, noise=gaussian, block_prob=0.3\n",
            "Dataset and visualizations saved successfully\n",
            "\n",
            "Generating dataset: n=500, vars=6, lag=3, noise=student_t, block_prob=0.1\n",
            "Dataset and visualizations saved successfully\n",
            "\n",
            "Generating dataset: n=500, vars=6, lag=3, noise=student_t, block_prob=0.2\n",
            "Dataset and visualizations saved successfully\n",
            "\n",
            "Generating dataset: n=500, vars=6, lag=3, noise=student_t, block_prob=0.3\n",
            "Dataset and visualizations saved successfully\n",
            "\n",
            "Generating dataset: n=500, vars=6, lag=4, noise=gaussian, block_prob=0.1\n",
            "Dataset and visualizations saved successfully\n",
            "\n",
            "Generating dataset: n=500, vars=6, lag=4, noise=gaussian, block_prob=0.2\n",
            "Dataset and visualizations saved successfully\n",
            "\n",
            "Generating dataset: n=500, vars=6, lag=4, noise=gaussian, block_prob=0.3\n",
            "Dataset and visualizations saved successfully\n",
            "\n",
            "Generating dataset: n=500, vars=6, lag=4, noise=student_t, block_prob=0.1\n",
            "Dataset and visualizations saved successfully\n",
            "\n",
            "Generating dataset: n=500, vars=6, lag=4, noise=student_t, block_prob=0.2\n",
            "Dataset and visualizations saved successfully\n",
            "\n",
            "Generating dataset: n=500, vars=6, lag=4, noise=student_t, block_prob=0.3\n",
            "Dataset and visualizations saved successfully\n",
            "\n",
            "Generating dataset: n=500, vars=8, lag=2, noise=gaussian, block_prob=0.1\n",
            "Dataset and visualizations saved successfully\n",
            "\n",
            "Generating dataset: n=500, vars=8, lag=2, noise=gaussian, block_prob=0.2\n",
            "Dataset and visualizations saved successfully\n",
            "\n",
            "Generating dataset: n=500, vars=8, lag=2, noise=gaussian, block_prob=0.3\n",
            "Dataset and visualizations saved successfully\n",
            "\n",
            "Generating dataset: n=500, vars=8, lag=2, noise=student_t, block_prob=0.1\n",
            "Dataset and visualizations saved successfully\n",
            "\n",
            "Generating dataset: n=500, vars=8, lag=2, noise=student_t, block_prob=0.2\n",
            "Dataset and visualizations saved successfully\n",
            "\n",
            "Generating dataset: n=500, vars=8, lag=2, noise=student_t, block_prob=0.3\n",
            "Dataset and visualizations saved successfully\n",
            "\n",
            "Generating dataset: n=500, vars=8, lag=3, noise=gaussian, block_prob=0.1\n",
            "Dataset and visualizations saved successfully\n",
            "\n",
            "Generating dataset: n=500, vars=8, lag=3, noise=gaussian, block_prob=0.2\n",
            "Dataset and visualizations saved successfully\n",
            "\n",
            "Generating dataset: n=500, vars=8, lag=3, noise=gaussian, block_prob=0.3\n",
            "Dataset and visualizations saved successfully\n",
            "\n",
            "Generating dataset: n=500, vars=8, lag=3, noise=student_t, block_prob=0.1\n",
            "Dataset and visualizations saved successfully\n",
            "\n",
            "Generating dataset: n=500, vars=8, lag=3, noise=student_t, block_prob=0.2\n",
            "Dataset and visualizations saved successfully\n",
            "\n",
            "Generating dataset: n=500, vars=8, lag=3, noise=student_t, block_prob=0.3\n",
            "Dataset and visualizations saved successfully\n",
            "\n",
            "Generating dataset: n=500, vars=8, lag=4, noise=gaussian, block_prob=0.1\n",
            "Dataset and visualizations saved successfully\n",
            "\n",
            "Generating dataset: n=500, vars=8, lag=4, noise=gaussian, block_prob=0.2\n",
            "Dataset and visualizations saved successfully\n",
            "\n",
            "Generating dataset: n=500, vars=8, lag=4, noise=gaussian, block_prob=0.3\n",
            "Dataset and visualizations saved successfully\n",
            "\n",
            "Generating dataset: n=500, vars=8, lag=4, noise=student_t, block_prob=0.1\n",
            "Dataset and visualizations saved successfully\n",
            "\n",
            "Generating dataset: n=500, vars=8, lag=4, noise=student_t, block_prob=0.2\n",
            "Dataset and visualizations saved successfully\n",
            "\n",
            "Generating dataset: n=500, vars=8, lag=4, noise=student_t, block_prob=0.3\n",
            "Dataset and visualizations saved successfully\n",
            "\n",
            "Generating dataset: n=1000, vars=4, lag=2, noise=gaussian, block_prob=0.1\n",
            "Dataset and visualizations saved successfully\n",
            "\n",
            "Generating dataset: n=1000, vars=4, lag=2, noise=gaussian, block_prob=0.2\n",
            "Dataset and visualizations saved successfully\n",
            "\n",
            "Generating dataset: n=1000, vars=4, lag=2, noise=gaussian, block_prob=0.3\n",
            "Dataset and visualizations saved successfully\n",
            "\n",
            "Generating dataset: n=1000, vars=4, lag=2, noise=student_t, block_prob=0.1\n",
            "Dataset and visualizations saved successfully\n",
            "\n",
            "Generating dataset: n=1000, vars=4, lag=2, noise=student_t, block_prob=0.2\n",
            "Dataset and visualizations saved successfully\n",
            "\n",
            "Generating dataset: n=1000, vars=4, lag=2, noise=student_t, block_prob=0.3\n",
            "Dataset and visualizations saved successfully\n",
            "\n",
            "Generating dataset: n=1000, vars=4, lag=3, noise=gaussian, block_prob=0.1\n",
            "Dataset and visualizations saved successfully\n",
            "\n",
            "Generating dataset: n=1000, vars=4, lag=3, noise=gaussian, block_prob=0.2\n",
            "Dataset and visualizations saved successfully\n",
            "\n",
            "Generating dataset: n=1000, vars=4, lag=3, noise=gaussian, block_prob=0.3\n",
            "Dataset and visualizations saved successfully\n",
            "\n",
            "Generating dataset: n=1000, vars=4, lag=3, noise=student_t, block_prob=0.1\n",
            "Dataset and visualizations saved successfully\n",
            "\n",
            "Generating dataset: n=1000, vars=4, lag=3, noise=student_t, block_prob=0.2\n",
            "Dataset and visualizations saved successfully\n",
            "\n",
            "Generating dataset: n=1000, vars=4, lag=3, noise=student_t, block_prob=0.3\n",
            "Dataset and visualizations saved successfully\n",
            "\n",
            "Generating dataset: n=1000, vars=4, lag=4, noise=gaussian, block_prob=0.1\n",
            "Dataset and visualizations saved successfully\n",
            "\n",
            "Generating dataset: n=1000, vars=4, lag=4, noise=gaussian, block_prob=0.2\n",
            "Dataset and visualizations saved successfully\n",
            "\n",
            "Generating dataset: n=1000, vars=4, lag=4, noise=gaussian, block_prob=0.3\n",
            "Dataset and visualizations saved successfully\n",
            "\n",
            "Generating dataset: n=1000, vars=4, lag=4, noise=student_t, block_prob=0.1\n",
            "Dataset and visualizations saved successfully\n",
            "\n",
            "Generating dataset: n=1000, vars=4, lag=4, noise=student_t, block_prob=0.2\n",
            "Dataset and visualizations saved successfully\n",
            "\n",
            "Generating dataset: n=1000, vars=4, lag=4, noise=student_t, block_prob=0.3\n",
            "Dataset and visualizations saved successfully\n",
            "\n",
            "Generating dataset: n=1000, vars=6, lag=2, noise=gaussian, block_prob=0.1\n",
            "Dataset and visualizations saved successfully\n",
            "\n",
            "Generating dataset: n=1000, vars=6, lag=2, noise=gaussian, block_prob=0.2\n",
            "Dataset and visualizations saved successfully\n",
            "\n",
            "Generating dataset: n=1000, vars=6, lag=2, noise=gaussian, block_prob=0.3\n",
            "Dataset and visualizations saved successfully\n",
            "\n",
            "Generating dataset: n=1000, vars=6, lag=2, noise=student_t, block_prob=0.1\n",
            "Dataset and visualizations saved successfully\n",
            "\n",
            "Generating dataset: n=1000, vars=6, lag=2, noise=student_t, block_prob=0.2\n",
            "Dataset and visualizations saved successfully\n",
            "\n",
            "Generating dataset: n=1000, vars=6, lag=2, noise=student_t, block_prob=0.3\n",
            "Dataset and visualizations saved successfully\n",
            "\n",
            "Generating dataset: n=1000, vars=6, lag=3, noise=gaussian, block_prob=0.1\n",
            "Dataset and visualizations saved successfully\n",
            "\n",
            "Generating dataset: n=1000, vars=6, lag=3, noise=gaussian, block_prob=0.2\n",
            "Dataset and visualizations saved successfully\n",
            "\n",
            "Generating dataset: n=1000, vars=6, lag=3, noise=gaussian, block_prob=0.3\n",
            "Dataset and visualizations saved successfully\n",
            "\n",
            "Generating dataset: n=1000, vars=6, lag=3, noise=student_t, block_prob=0.1\n",
            "Dataset and visualizations saved successfully\n",
            "\n",
            "Generating dataset: n=1000, vars=6, lag=3, noise=student_t, block_prob=0.2\n",
            "Dataset and visualizations saved successfully\n",
            "\n",
            "Generating dataset: n=1000, vars=6, lag=3, noise=student_t, block_prob=0.3\n",
            "Dataset and visualizations saved successfully\n",
            "\n",
            "Generating dataset: n=1000, vars=6, lag=4, noise=gaussian, block_prob=0.1\n",
            "Dataset and visualizations saved successfully\n",
            "\n",
            "Generating dataset: n=1000, vars=6, lag=4, noise=gaussian, block_prob=0.2\n",
            "Dataset and visualizations saved successfully\n",
            "\n",
            "Generating dataset: n=1000, vars=6, lag=4, noise=gaussian, block_prob=0.3\n",
            "Dataset and visualizations saved successfully\n",
            "\n",
            "Generating dataset: n=1000, vars=6, lag=4, noise=student_t, block_prob=0.1\n",
            "Dataset and visualizations saved successfully\n",
            "\n",
            "Generating dataset: n=1000, vars=6, lag=4, noise=student_t, block_prob=0.2\n",
            "Dataset and visualizations saved successfully\n",
            "\n",
            "Generating dataset: n=1000, vars=6, lag=4, noise=student_t, block_prob=0.3\n",
            "Dataset and visualizations saved successfully\n",
            "\n",
            "Generating dataset: n=1000, vars=8, lag=2, noise=gaussian, block_prob=0.1\n",
            "Dataset and visualizations saved successfully\n",
            "\n",
            "Generating dataset: n=1000, vars=8, lag=2, noise=gaussian, block_prob=0.2\n",
            "Dataset and visualizations saved successfully\n",
            "\n",
            "Generating dataset: n=1000, vars=8, lag=2, noise=gaussian, block_prob=0.3\n",
            "Dataset and visualizations saved successfully\n",
            "\n",
            "Generating dataset: n=1000, vars=8, lag=2, noise=student_t, block_prob=0.1\n",
            "Dataset and visualizations saved successfully\n",
            "\n",
            "Generating dataset: n=1000, vars=8, lag=2, noise=student_t, block_prob=0.2\n",
            "Dataset and visualizations saved successfully\n",
            "\n",
            "Generating dataset: n=1000, vars=8, lag=2, noise=student_t, block_prob=0.3\n",
            "Dataset and visualizations saved successfully\n",
            "\n",
            "Generating dataset: n=1000, vars=8, lag=3, noise=gaussian, block_prob=0.1\n",
            "Dataset and visualizations saved successfully\n",
            "\n",
            "Generating dataset: n=1000, vars=8, lag=3, noise=gaussian, block_prob=0.2\n",
            "Dataset and visualizations saved successfully\n",
            "\n",
            "Generating dataset: n=1000, vars=8, lag=3, noise=gaussian, block_prob=0.3\n",
            "Dataset and visualizations saved successfully\n",
            "\n",
            "Generating dataset: n=1000, vars=8, lag=3, noise=student_t, block_prob=0.1\n",
            "Dataset and visualizations saved successfully\n",
            "\n",
            "Generating dataset: n=1000, vars=8, lag=3, noise=student_t, block_prob=0.2\n",
            "Dataset and visualizations saved successfully\n",
            "\n",
            "Generating dataset: n=1000, vars=8, lag=3, noise=student_t, block_prob=0.3\n",
            "Dataset and visualizations saved successfully\n",
            "\n",
            "Generating dataset: n=1000, vars=8, lag=4, noise=gaussian, block_prob=0.1\n",
            "Dataset and visualizations saved successfully\n",
            "\n",
            "Generating dataset: n=1000, vars=8, lag=4, noise=gaussian, block_prob=0.2\n",
            "Dataset and visualizations saved successfully\n",
            "\n",
            "Generating dataset: n=1000, vars=8, lag=4, noise=gaussian, block_prob=0.3\n",
            "Dataset and visualizations saved successfully\n",
            "\n",
            "Generating dataset: n=1000, vars=8, lag=4, noise=student_t, block_prob=0.1\n",
            "Dataset and visualizations saved successfully\n",
            "\n",
            "Generating dataset: n=1000, vars=8, lag=4, noise=student_t, block_prob=0.2\n",
            "Dataset and visualizations saved successfully\n",
            "\n",
            "Generating dataset: n=1000, vars=8, lag=4, noise=student_t, block_prob=0.3\n",
            "Dataset and visualizations saved successfully\n",
            "\n",
            "Generating dataset: n=3000, vars=4, lag=2, noise=gaussian, block_prob=0.1\n",
            "Dataset and visualizations saved successfully\n",
            "\n",
            "Generating dataset: n=3000, vars=4, lag=2, noise=gaussian, block_prob=0.2\n",
            "Dataset and visualizations saved successfully\n",
            "\n",
            "Generating dataset: n=3000, vars=4, lag=2, noise=gaussian, block_prob=0.3\n",
            "Dataset and visualizations saved successfully\n",
            "\n",
            "Generating dataset: n=3000, vars=4, lag=2, noise=student_t, block_prob=0.1\n",
            "Dataset and visualizations saved successfully\n",
            "\n",
            "Generating dataset: n=3000, vars=4, lag=2, noise=student_t, block_prob=0.2\n",
            "Dataset and visualizations saved successfully\n",
            "\n",
            "Generating dataset: n=3000, vars=4, lag=2, noise=student_t, block_prob=0.3\n",
            "Dataset and visualizations saved successfully\n",
            "\n",
            "Generating dataset: n=3000, vars=4, lag=3, noise=gaussian, block_prob=0.1\n",
            "Dataset and visualizations saved successfully\n",
            "\n",
            "Generating dataset: n=3000, vars=4, lag=3, noise=gaussian, block_prob=0.2\n",
            "Dataset and visualizations saved successfully\n",
            "\n",
            "Generating dataset: n=3000, vars=4, lag=3, noise=gaussian, block_prob=0.3\n",
            "Dataset and visualizations saved successfully\n",
            "\n",
            "Generating dataset: n=3000, vars=4, lag=3, noise=student_t, block_prob=0.1\n",
            "Dataset and visualizations saved successfully\n",
            "\n",
            "Generating dataset: n=3000, vars=4, lag=3, noise=student_t, block_prob=0.2\n",
            "Dataset and visualizations saved successfully\n",
            "\n",
            "Generating dataset: n=3000, vars=4, lag=3, noise=student_t, block_prob=0.3\n",
            "Dataset and visualizations saved successfully\n",
            "\n",
            "Generating dataset: n=3000, vars=4, lag=4, noise=gaussian, block_prob=0.1\n",
            "Dataset and visualizations saved successfully\n",
            "\n",
            "Generating dataset: n=3000, vars=4, lag=4, noise=gaussian, block_prob=0.2\n",
            "Dataset and visualizations saved successfully\n",
            "\n",
            "Generating dataset: n=3000, vars=4, lag=4, noise=gaussian, block_prob=0.3\n",
            "Dataset and visualizations saved successfully\n",
            "\n",
            "Generating dataset: n=3000, vars=4, lag=4, noise=student_t, block_prob=0.1\n",
            "Dataset and visualizations saved successfully\n",
            "\n",
            "Generating dataset: n=3000, vars=4, lag=4, noise=student_t, block_prob=0.2\n",
            "Dataset and visualizations saved successfully\n",
            "\n",
            "Generating dataset: n=3000, vars=4, lag=4, noise=student_t, block_prob=0.3\n",
            "Dataset and visualizations saved successfully\n",
            "\n",
            "Generating dataset: n=3000, vars=6, lag=2, noise=gaussian, block_prob=0.1\n",
            "Dataset and visualizations saved successfully\n",
            "\n",
            "Generating dataset: n=3000, vars=6, lag=2, noise=gaussian, block_prob=0.2\n",
            "Dataset and visualizations saved successfully\n",
            "\n",
            "Generating dataset: n=3000, vars=6, lag=2, noise=gaussian, block_prob=0.3\n",
            "Dataset and visualizations saved successfully\n",
            "\n",
            "Generating dataset: n=3000, vars=6, lag=2, noise=student_t, block_prob=0.1\n",
            "Dataset and visualizations saved successfully\n",
            "\n",
            "Generating dataset: n=3000, vars=6, lag=2, noise=student_t, block_prob=0.2\n",
            "Dataset and visualizations saved successfully\n",
            "\n",
            "Generating dataset: n=3000, vars=6, lag=2, noise=student_t, block_prob=0.3\n",
            "Dataset and visualizations saved successfully\n",
            "\n",
            "Generating dataset: n=3000, vars=6, lag=3, noise=gaussian, block_prob=0.1\n",
            "Dataset and visualizations saved successfully\n",
            "\n",
            "Generating dataset: n=3000, vars=6, lag=3, noise=gaussian, block_prob=0.2\n",
            "Dataset and visualizations saved successfully\n",
            "\n",
            "Generating dataset: n=3000, vars=6, lag=3, noise=gaussian, block_prob=0.3\n",
            "Dataset and visualizations saved successfully\n",
            "\n",
            "Generating dataset: n=3000, vars=6, lag=3, noise=student_t, block_prob=0.1\n",
            "Dataset and visualizations saved successfully\n",
            "\n",
            "Generating dataset: n=3000, vars=6, lag=3, noise=student_t, block_prob=0.2\n",
            "Dataset and visualizations saved successfully\n",
            "\n",
            "Generating dataset: n=3000, vars=6, lag=3, noise=student_t, block_prob=0.3\n",
            "Dataset and visualizations saved successfully\n",
            "\n",
            "Generating dataset: n=3000, vars=6, lag=4, noise=gaussian, block_prob=0.1\n",
            "Dataset and visualizations saved successfully\n",
            "\n",
            "Generating dataset: n=3000, vars=6, lag=4, noise=gaussian, block_prob=0.2\n",
            "Dataset and visualizations saved successfully\n",
            "\n",
            "Generating dataset: n=3000, vars=6, lag=4, noise=gaussian, block_prob=0.3\n",
            "Dataset and visualizations saved successfully\n",
            "\n",
            "Generating dataset: n=3000, vars=6, lag=4, noise=student_t, block_prob=0.1\n",
            "Dataset and visualizations saved successfully\n",
            "\n",
            "Generating dataset: n=3000, vars=6, lag=4, noise=student_t, block_prob=0.2\n",
            "Dataset and visualizations saved successfully\n",
            "\n",
            "Generating dataset: n=3000, vars=6, lag=4, noise=student_t, block_prob=0.3\n",
            "Dataset and visualizations saved successfully\n",
            "\n",
            "Generating dataset: n=3000, vars=8, lag=2, noise=gaussian, block_prob=0.1\n",
            "Dataset and visualizations saved successfully\n",
            "\n",
            "Generating dataset: n=3000, vars=8, lag=2, noise=gaussian, block_prob=0.2\n",
            "Dataset and visualizations saved successfully\n",
            "\n",
            "Generating dataset: n=3000, vars=8, lag=2, noise=gaussian, block_prob=0.3\n",
            "Dataset and visualizations saved successfully\n",
            "\n",
            "Generating dataset: n=3000, vars=8, lag=2, noise=student_t, block_prob=0.1\n",
            "Dataset and visualizations saved successfully\n",
            "\n",
            "Generating dataset: n=3000, vars=8, lag=2, noise=student_t, block_prob=0.2\n",
            "Dataset and visualizations saved successfully\n",
            "\n",
            "Generating dataset: n=3000, vars=8, lag=2, noise=student_t, block_prob=0.3\n",
            "Dataset and visualizations saved successfully\n",
            "\n",
            "Generating dataset: n=3000, vars=8, lag=3, noise=gaussian, block_prob=0.1\n",
            "Dataset and visualizations saved successfully\n",
            "\n",
            "Generating dataset: n=3000, vars=8, lag=3, noise=gaussian, block_prob=0.2\n",
            "Dataset and visualizations saved successfully\n",
            "\n",
            "Generating dataset: n=3000, vars=8, lag=3, noise=gaussian, block_prob=0.3\n",
            "Dataset and visualizations saved successfully\n",
            "\n",
            "Generating dataset: n=3000, vars=8, lag=3, noise=student_t, block_prob=0.1\n",
            "Dataset and visualizations saved successfully\n",
            "\n",
            "Generating dataset: n=3000, vars=8, lag=3, noise=student_t, block_prob=0.2\n",
            "Dataset and visualizations saved successfully\n",
            "\n",
            "Generating dataset: n=3000, vars=8, lag=3, noise=student_t, block_prob=0.3\n",
            "Dataset and visualizations saved successfully\n",
            "\n",
            "Generating dataset: n=3000, vars=8, lag=4, noise=gaussian, block_prob=0.1\n",
            "Dataset and visualizations saved successfully\n",
            "\n",
            "Generating dataset: n=3000, vars=8, lag=4, noise=gaussian, block_prob=0.2\n",
            "Dataset and visualizations saved successfully\n",
            "\n",
            "Generating dataset: n=3000, vars=8, lag=4, noise=gaussian, block_prob=0.3\n",
            "Dataset and visualizations saved successfully\n",
            "\n",
            "Generating dataset: n=3000, vars=8, lag=4, noise=student_t, block_prob=0.1\n",
            "Dataset and visualizations saved successfully\n",
            "\n",
            "Generating dataset: n=3000, vars=8, lag=4, noise=student_t, block_prob=0.2\n",
            "Dataset and visualizations saved successfully\n",
            "\n",
            "Generating dataset: n=3000, vars=8, lag=4, noise=student_t, block_prob=0.3\n",
            "Dataset and visualizations saved successfully\n",
            "\n",
            "Generating dataset: n=5000, vars=4, lag=2, noise=gaussian, block_prob=0.1\n",
            "Dataset and visualizations saved successfully\n",
            "\n",
            "Generating dataset: n=5000, vars=4, lag=2, noise=gaussian, block_prob=0.2\n",
            "Dataset and visualizations saved successfully\n",
            "\n",
            "Generating dataset: n=5000, vars=4, lag=2, noise=gaussian, block_prob=0.3\n",
            "Dataset and visualizations saved successfully\n",
            "\n",
            "Generating dataset: n=5000, vars=4, lag=2, noise=student_t, block_prob=0.1\n",
            "Dataset and visualizations saved successfully\n",
            "\n",
            "Generating dataset: n=5000, vars=4, lag=2, noise=student_t, block_prob=0.2\n",
            "Dataset and visualizations saved successfully\n",
            "\n",
            "Generating dataset: n=5000, vars=4, lag=2, noise=student_t, block_prob=0.3\n",
            "Dataset and visualizations saved successfully\n",
            "\n",
            "Generating dataset: n=5000, vars=4, lag=3, noise=gaussian, block_prob=0.1\n",
            "Dataset and visualizations saved successfully\n",
            "\n",
            "Generating dataset: n=5000, vars=4, lag=3, noise=gaussian, block_prob=0.2\n",
            "Dataset and visualizations saved successfully\n",
            "\n",
            "Generating dataset: n=5000, vars=4, lag=3, noise=gaussian, block_prob=0.3\n",
            "Dataset and visualizations saved successfully\n",
            "\n",
            "Generating dataset: n=5000, vars=4, lag=3, noise=student_t, block_prob=0.1\n",
            "Dataset and visualizations saved successfully\n",
            "\n",
            "Generating dataset: n=5000, vars=4, lag=3, noise=student_t, block_prob=0.2\n",
            "Dataset and visualizations saved successfully\n",
            "\n",
            "Generating dataset: n=5000, vars=4, lag=3, noise=student_t, block_prob=0.3\n",
            "Dataset and visualizations saved successfully\n",
            "\n",
            "Generating dataset: n=5000, vars=4, lag=4, noise=gaussian, block_prob=0.1\n",
            "Dataset and visualizations saved successfully\n",
            "\n",
            "Generating dataset: n=5000, vars=4, lag=4, noise=gaussian, block_prob=0.2\n",
            "Dataset and visualizations saved successfully\n",
            "\n",
            "Generating dataset: n=5000, vars=4, lag=4, noise=gaussian, block_prob=0.3\n",
            "Dataset and visualizations saved successfully\n",
            "\n",
            "Generating dataset: n=5000, vars=4, lag=4, noise=student_t, block_prob=0.1\n",
            "Dataset and visualizations saved successfully\n",
            "\n",
            "Generating dataset: n=5000, vars=4, lag=4, noise=student_t, block_prob=0.2\n",
            "Dataset and visualizations saved successfully\n",
            "\n",
            "Generating dataset: n=5000, vars=4, lag=4, noise=student_t, block_prob=0.3\n",
            "Dataset and visualizations saved successfully\n",
            "\n",
            "Generating dataset: n=5000, vars=6, lag=2, noise=gaussian, block_prob=0.1\n",
            "Dataset and visualizations saved successfully\n",
            "\n",
            "Generating dataset: n=5000, vars=6, lag=2, noise=gaussian, block_prob=0.2\n",
            "Dataset and visualizations saved successfully\n",
            "\n",
            "Generating dataset: n=5000, vars=6, lag=2, noise=gaussian, block_prob=0.3\n",
            "Dataset and visualizations saved successfully\n",
            "\n",
            "Generating dataset: n=5000, vars=6, lag=2, noise=student_t, block_prob=0.1\n",
            "Dataset and visualizations saved successfully\n",
            "\n",
            "Generating dataset: n=5000, vars=6, lag=2, noise=student_t, block_prob=0.2\n",
            "Dataset and visualizations saved successfully\n",
            "\n",
            "Generating dataset: n=5000, vars=6, lag=2, noise=student_t, block_prob=0.3\n",
            "Dataset and visualizations saved successfully\n",
            "\n",
            "Generating dataset: n=5000, vars=6, lag=3, noise=gaussian, block_prob=0.1\n",
            "Dataset and visualizations saved successfully\n",
            "\n",
            "Generating dataset: n=5000, vars=6, lag=3, noise=gaussian, block_prob=0.2\n",
            "Dataset and visualizations saved successfully\n",
            "\n",
            "Generating dataset: n=5000, vars=6, lag=3, noise=gaussian, block_prob=0.3\n",
            "Dataset and visualizations saved successfully\n",
            "\n",
            "Generating dataset: n=5000, vars=6, lag=3, noise=student_t, block_prob=0.1\n",
            "Dataset and visualizations saved successfully\n",
            "\n",
            "Generating dataset: n=5000, vars=6, lag=3, noise=student_t, block_prob=0.2\n",
            "Dataset and visualizations saved successfully\n",
            "\n",
            "Generating dataset: n=5000, vars=6, lag=3, noise=student_t, block_prob=0.3\n",
            "Dataset and visualizations saved successfully\n",
            "\n",
            "Generating dataset: n=5000, vars=6, lag=4, noise=gaussian, block_prob=0.1\n",
            "Dataset and visualizations saved successfully\n",
            "\n",
            "Generating dataset: n=5000, vars=6, lag=4, noise=gaussian, block_prob=0.2\n",
            "Dataset and visualizations saved successfully\n",
            "\n",
            "Generating dataset: n=5000, vars=6, lag=4, noise=gaussian, block_prob=0.3\n",
            "Dataset and visualizations saved successfully\n",
            "\n",
            "Generating dataset: n=5000, vars=6, lag=4, noise=student_t, block_prob=0.1\n",
            "Dataset and visualizations saved successfully\n",
            "\n",
            "Generating dataset: n=5000, vars=6, lag=4, noise=student_t, block_prob=0.2\n",
            "Dataset and visualizations saved successfully\n",
            "\n",
            "Generating dataset: n=5000, vars=6, lag=4, noise=student_t, block_prob=0.3\n",
            "Dataset and visualizations saved successfully\n",
            "\n",
            "Generating dataset: n=5000, vars=8, lag=2, noise=gaussian, block_prob=0.1\n",
            "Dataset and visualizations saved successfully\n",
            "\n",
            "Generating dataset: n=5000, vars=8, lag=2, noise=gaussian, block_prob=0.2\n",
            "Dataset and visualizations saved successfully\n",
            "\n",
            "Generating dataset: n=5000, vars=8, lag=2, noise=gaussian, block_prob=0.3\n",
            "Dataset and visualizations saved successfully\n",
            "\n",
            "Generating dataset: n=5000, vars=8, lag=2, noise=student_t, block_prob=0.1\n",
            "Dataset and visualizations saved successfully\n",
            "\n",
            "Generating dataset: n=5000, vars=8, lag=2, noise=student_t, block_prob=0.2\n",
            "Dataset and visualizations saved successfully\n",
            "\n",
            "Generating dataset: n=5000, vars=8, lag=2, noise=student_t, block_prob=0.3\n",
            "Dataset and visualizations saved successfully\n",
            "\n",
            "Generating dataset: n=5000, vars=8, lag=3, noise=gaussian, block_prob=0.1\n",
            "Dataset and visualizations saved successfully\n",
            "\n",
            "Generating dataset: n=5000, vars=8, lag=3, noise=gaussian, block_prob=0.2\n",
            "Dataset and visualizations saved successfully\n",
            "\n",
            "Generating dataset: n=5000, vars=8, lag=3, noise=gaussian, block_prob=0.3\n",
            "Dataset and visualizations saved successfully\n",
            "\n",
            "Generating dataset: n=5000, vars=8, lag=3, noise=student_t, block_prob=0.1\n",
            "Dataset and visualizations saved successfully\n",
            "\n",
            "Generating dataset: n=5000, vars=8, lag=3, noise=student_t, block_prob=0.2\n",
            "Dataset and visualizations saved successfully\n",
            "\n",
            "Generating dataset: n=5000, vars=8, lag=3, noise=student_t, block_prob=0.3\n",
            "Dataset and visualizations saved successfully\n",
            "\n",
            "Generating dataset: n=5000, vars=8, lag=4, noise=gaussian, block_prob=0.1\n",
            "Dataset and visualizations saved successfully\n",
            "\n",
            "Generating dataset: n=5000, vars=8, lag=4, noise=gaussian, block_prob=0.2\n",
            "Dataset and visualizations saved successfully\n",
            "\n",
            "Generating dataset: n=5000, vars=8, lag=4, noise=gaussian, block_prob=0.3\n",
            "Dataset and visualizations saved successfully\n",
            "\n",
            "Generating dataset: n=5000, vars=8, lag=4, noise=student_t, block_prob=0.1\n",
            "Dataset and visualizations saved successfully\n",
            "\n",
            "Generating dataset: n=5000, vars=8, lag=4, noise=student_t, block_prob=0.2\n",
            "Dataset and visualizations saved successfully\n",
            "\n",
            "Generating dataset: n=5000, vars=8, lag=4, noise=student_t, block_prob=0.3\n",
            "Dataset and visualizations saved successfully\n"
          ]
        },
        {
          "output_type": "display_data",
          "data": {
            "text/plain": [
              "<Figure size 1200x1200 with 0 Axes>"
            ]
          },
          "metadata": {}
        },
        {
          "output_type": "display_data",
          "data": {
            "text/plain": [
              "<Figure size 1200x1200 with 0 Axes>"
            ]
          },
          "metadata": {}
        },
        {
          "output_type": "display_data",
          "data": {
            "text/plain": [
              "<Figure size 1200x1200 with 0 Axes>"
            ]
          },
          "metadata": {}
        },
        {
          "output_type": "display_data",
          "data": {
            "text/plain": [
              "<Figure size 1200x1200 with 0 Axes>"
            ]
          },
          "metadata": {}
        },
        {
          "output_type": "display_data",
          "data": {
            "text/plain": [
              "<Figure size 1200x1200 with 0 Axes>"
            ]
          },
          "metadata": {}
        },
        {
          "output_type": "display_data",
          "data": {
            "text/plain": [
              "<Figure size 1200x1200 with 0 Axes>"
            ]
          },
          "metadata": {}
        },
        {
          "output_type": "display_data",
          "data": {
            "text/plain": [
              "<Figure size 1200x1200 with 0 Axes>"
            ]
          },
          "metadata": {}
        },
        {
          "output_type": "display_data",
          "data": {
            "text/plain": [
              "<Figure size 1200x1200 with 0 Axes>"
            ]
          },
          "metadata": {}
        },
        {
          "output_type": "display_data",
          "data": {
            "text/plain": [
              "<Figure size 1200x1200 with 0 Axes>"
            ]
          },
          "metadata": {}
        },
        {
          "output_type": "display_data",
          "data": {
            "text/plain": [
              "<Figure size 1200x1200 with 0 Axes>"
            ]
          },
          "metadata": {}
        },
        {
          "output_type": "display_data",
          "data": {
            "text/plain": [
              "<Figure size 1200x1200 with 0 Axes>"
            ]
          },
          "metadata": {}
        },
        {
          "output_type": "display_data",
          "data": {
            "text/plain": [
              "<Figure size 1200x1200 with 0 Axes>"
            ]
          },
          "metadata": {}
        },
        {
          "output_type": "display_data",
          "data": {
            "text/plain": [
              "<Figure size 1200x1200 with 0 Axes>"
            ]
          },
          "metadata": {}
        },
        {
          "output_type": "display_data",
          "data": {
            "text/plain": [
              "<Figure size 1200x1200 with 0 Axes>"
            ]
          },
          "metadata": {}
        },
        {
          "output_type": "display_data",
          "data": {
            "text/plain": [
              "<Figure size 1200x1200 with 0 Axes>"
            ]
          },
          "metadata": {}
        },
        {
          "output_type": "display_data",
          "data": {
            "text/plain": [
              "<Figure size 1200x1200 with 0 Axes>"
            ]
          },
          "metadata": {}
        },
        {
          "output_type": "display_data",
          "data": {
            "text/plain": [
              "<Figure size 1200x1200 with 0 Axes>"
            ]
          },
          "metadata": {}
        },
        {
          "output_type": "display_data",
          "data": {
            "text/plain": [
              "<Figure size 1200x1200 with 0 Axes>"
            ]
          },
          "metadata": {}
        },
        {
          "output_type": "display_data",
          "data": {
            "text/plain": [
              "<Figure size 1200x1200 with 0 Axes>"
            ]
          },
          "metadata": {}
        },
        {
          "output_type": "display_data",
          "data": {
            "text/plain": [
              "<Figure size 1200x1200 with 0 Axes>"
            ]
          },
          "metadata": {}
        },
        {
          "output_type": "display_data",
          "data": {
            "text/plain": [
              "<Figure size 1200x1200 with 0 Axes>"
            ]
          },
          "metadata": {}
        },
        {
          "output_type": "display_data",
          "data": {
            "text/plain": [
              "<Figure size 1200x1200 with 0 Axes>"
            ]
          },
          "metadata": {}
        },
        {
          "output_type": "display_data",
          "data": {
            "text/plain": [
              "<Figure size 1200x1200 with 0 Axes>"
            ]
          },
          "metadata": {}
        },
        {
          "output_type": "display_data",
          "data": {
            "text/plain": [
              "<Figure size 1200x1200 with 0 Axes>"
            ]
          },
          "metadata": {}
        },
        {
          "output_type": "display_data",
          "data": {
            "text/plain": [
              "<Figure size 1200x1200 with 0 Axes>"
            ]
          },
          "metadata": {}
        },
        {
          "output_type": "display_data",
          "data": {
            "text/plain": [
              "<Figure size 1200x1200 with 0 Axes>"
            ]
          },
          "metadata": {}
        },
        {
          "output_type": "display_data",
          "data": {
            "text/plain": [
              "<Figure size 1200x1200 with 0 Axes>"
            ]
          },
          "metadata": {}
        },
        {
          "output_type": "display_data",
          "data": {
            "text/plain": [
              "<Figure size 1200x1200 with 0 Axes>"
            ]
          },
          "metadata": {}
        },
        {
          "output_type": "display_data",
          "data": {
            "text/plain": [
              "<Figure size 1200x1200 with 0 Axes>"
            ]
          },
          "metadata": {}
        },
        {
          "output_type": "display_data",
          "data": {
            "text/plain": [
              "<Figure size 1200x1200 with 0 Axes>"
            ]
          },
          "metadata": {}
        },
        {
          "output_type": "display_data",
          "data": {
            "text/plain": [
              "<Figure size 1200x1200 with 0 Axes>"
            ]
          },
          "metadata": {}
        },
        {
          "output_type": "display_data",
          "data": {
            "text/plain": [
              "<Figure size 1200x1200 with 0 Axes>"
            ]
          },
          "metadata": {}
        },
        {
          "output_type": "display_data",
          "data": {
            "text/plain": [
              "<Figure size 1200x1200 with 0 Axes>"
            ]
          },
          "metadata": {}
        },
        {
          "output_type": "display_data",
          "data": {
            "text/plain": [
              "<Figure size 1200x1200 with 0 Axes>"
            ]
          },
          "metadata": {}
        },
        {
          "output_type": "display_data",
          "data": {
            "text/plain": [
              "<Figure size 1200x1200 with 0 Axes>"
            ]
          },
          "metadata": {}
        },
        {
          "output_type": "display_data",
          "data": {
            "text/plain": [
              "<Figure size 1200x1200 with 0 Axes>"
            ]
          },
          "metadata": {}
        },
        {
          "output_type": "display_data",
          "data": {
            "text/plain": [
              "<Figure size 1200x1200 with 0 Axes>"
            ]
          },
          "metadata": {}
        },
        {
          "output_type": "display_data",
          "data": {
            "text/plain": [
              "<Figure size 1200x1200 with 0 Axes>"
            ]
          },
          "metadata": {}
        },
        {
          "output_type": "display_data",
          "data": {
            "text/plain": [
              "<Figure size 1200x1200 with 0 Axes>"
            ]
          },
          "metadata": {}
        },
        {
          "output_type": "display_data",
          "data": {
            "text/plain": [
              "<Figure size 1200x1200 with 0 Axes>"
            ]
          },
          "metadata": {}
        },
        {
          "output_type": "display_data",
          "data": {
            "text/plain": [
              "<Figure size 1200x1200 with 0 Axes>"
            ]
          },
          "metadata": {}
        },
        {
          "output_type": "display_data",
          "data": {
            "text/plain": [
              "<Figure size 1200x1200 with 0 Axes>"
            ]
          },
          "metadata": {}
        },
        {
          "output_type": "display_data",
          "data": {
            "text/plain": [
              "<Figure size 1200x1200 with 0 Axes>"
            ]
          },
          "metadata": {}
        },
        {
          "output_type": "display_data",
          "data": {
            "text/plain": [
              "<Figure size 1200x1200 with 0 Axes>"
            ]
          },
          "metadata": {}
        },
        {
          "output_type": "display_data",
          "data": {
            "text/plain": [
              "<Figure size 1200x1200 with 0 Axes>"
            ]
          },
          "metadata": {}
        },
        {
          "output_type": "display_data",
          "data": {
            "text/plain": [
              "<Figure size 1200x1200 with 0 Axes>"
            ]
          },
          "metadata": {}
        },
        {
          "output_type": "display_data",
          "data": {
            "text/plain": [
              "<Figure size 1200x1200 with 0 Axes>"
            ]
          },
          "metadata": {}
        },
        {
          "output_type": "display_data",
          "data": {
            "text/plain": [
              "<Figure size 1200x1200 with 0 Axes>"
            ]
          },
          "metadata": {}
        },
        {
          "output_type": "display_data",
          "data": {
            "text/plain": [
              "<Figure size 1200x1200 with 0 Axes>"
            ]
          },
          "metadata": {}
        },
        {
          "output_type": "display_data",
          "data": {
            "text/plain": [
              "<Figure size 1200x1200 with 0 Axes>"
            ]
          },
          "metadata": {}
        },
        {
          "output_type": "display_data",
          "data": {
            "text/plain": [
              "<Figure size 1200x1200 with 0 Axes>"
            ]
          },
          "metadata": {}
        },
        {
          "output_type": "display_data",
          "data": {
            "text/plain": [
              "<Figure size 1200x1200 with 0 Axes>"
            ]
          },
          "metadata": {}
        },
        {
          "output_type": "display_data",
          "data": {
            "text/plain": [
              "<Figure size 1200x1200 with 0 Axes>"
            ]
          },
          "metadata": {}
        },
        {
          "output_type": "display_data",
          "data": {
            "text/plain": [
              "<Figure size 1200x1200 with 0 Axes>"
            ]
          },
          "metadata": {}
        },
        {
          "output_type": "display_data",
          "data": {
            "text/plain": [
              "<Figure size 1200x1200 with 0 Axes>"
            ]
          },
          "metadata": {}
        },
        {
          "output_type": "display_data",
          "data": {
            "text/plain": [
              "<Figure size 1200x1200 with 0 Axes>"
            ]
          },
          "metadata": {}
        },
        {
          "output_type": "display_data",
          "data": {
            "text/plain": [
              "<Figure size 1200x1200 with 0 Axes>"
            ]
          },
          "metadata": {}
        },
        {
          "output_type": "display_data",
          "data": {
            "text/plain": [
              "<Figure size 1200x1200 with 0 Axes>"
            ]
          },
          "metadata": {}
        },
        {
          "output_type": "display_data",
          "data": {
            "text/plain": [
              "<Figure size 1200x1200 with 0 Axes>"
            ]
          },
          "metadata": {}
        },
        {
          "output_type": "display_data",
          "data": {
            "text/plain": [
              "<Figure size 1200x1200 with 0 Axes>"
            ]
          },
          "metadata": {}
        },
        {
          "output_type": "display_data",
          "data": {
            "text/plain": [
              "<Figure size 1200x1200 with 0 Axes>"
            ]
          },
          "metadata": {}
        },
        {
          "output_type": "display_data",
          "data": {
            "text/plain": [
              "<Figure size 1200x1200 with 0 Axes>"
            ]
          },
          "metadata": {}
        },
        {
          "output_type": "display_data",
          "data": {
            "text/plain": [
              "<Figure size 1200x1200 with 0 Axes>"
            ]
          },
          "metadata": {}
        },
        {
          "output_type": "display_data",
          "data": {
            "text/plain": [
              "<Figure size 1200x1200 with 0 Axes>"
            ]
          },
          "metadata": {}
        },
        {
          "output_type": "display_data",
          "data": {
            "text/plain": [
              "<Figure size 1200x1200 with 0 Axes>"
            ]
          },
          "metadata": {}
        },
        {
          "output_type": "display_data",
          "data": {
            "text/plain": [
              "<Figure size 1200x1200 with 0 Axes>"
            ]
          },
          "metadata": {}
        },
        {
          "output_type": "display_data",
          "data": {
            "text/plain": [
              "<Figure size 1200x1200 with 0 Axes>"
            ]
          },
          "metadata": {}
        },
        {
          "output_type": "display_data",
          "data": {
            "text/plain": [
              "<Figure size 1200x1200 with 0 Axes>"
            ]
          },
          "metadata": {}
        },
        {
          "output_type": "display_data",
          "data": {
            "text/plain": [
              "<Figure size 1200x1200 with 0 Axes>"
            ]
          },
          "metadata": {}
        },
        {
          "output_type": "display_data",
          "data": {
            "text/plain": [
              "<Figure size 1200x1200 with 0 Axes>"
            ]
          },
          "metadata": {}
        },
        {
          "output_type": "display_data",
          "data": {
            "text/plain": [
              "<Figure size 1200x1200 with 0 Axes>"
            ]
          },
          "metadata": {}
        },
        {
          "output_type": "display_data",
          "data": {
            "text/plain": [
              "<Figure size 1200x1200 with 0 Axes>"
            ]
          },
          "metadata": {}
        },
        {
          "output_type": "display_data",
          "data": {
            "text/plain": [
              "<Figure size 1200x1200 with 0 Axes>"
            ]
          },
          "metadata": {}
        },
        {
          "output_type": "display_data",
          "data": {
            "text/plain": [
              "<Figure size 1200x1200 with 0 Axes>"
            ]
          },
          "metadata": {}
        },
        {
          "output_type": "display_data",
          "data": {
            "text/plain": [
              "<Figure size 1200x1200 with 0 Axes>"
            ]
          },
          "metadata": {}
        },
        {
          "output_type": "display_data",
          "data": {
            "text/plain": [
              "<Figure size 1200x1200 with 0 Axes>"
            ]
          },
          "metadata": {}
        },
        {
          "output_type": "display_data",
          "data": {
            "text/plain": [
              "<Figure size 1200x1200 with 0 Axes>"
            ]
          },
          "metadata": {}
        },
        {
          "output_type": "display_data",
          "data": {
            "text/plain": [
              "<Figure size 1200x1200 with 0 Axes>"
            ]
          },
          "metadata": {}
        },
        {
          "output_type": "display_data",
          "data": {
            "text/plain": [
              "<Figure size 1200x1200 with 0 Axes>"
            ]
          },
          "metadata": {}
        },
        {
          "output_type": "display_data",
          "data": {
            "text/plain": [
              "<Figure size 1200x1200 with 0 Axes>"
            ]
          },
          "metadata": {}
        },
        {
          "output_type": "display_data",
          "data": {
            "text/plain": [
              "<Figure size 1200x1200 with 0 Axes>"
            ]
          },
          "metadata": {}
        },
        {
          "output_type": "display_data",
          "data": {
            "text/plain": [
              "<Figure size 1200x1200 with 0 Axes>"
            ]
          },
          "metadata": {}
        },
        {
          "output_type": "display_data",
          "data": {
            "text/plain": [
              "<Figure size 1200x1200 with 0 Axes>"
            ]
          },
          "metadata": {}
        },
        {
          "output_type": "display_data",
          "data": {
            "text/plain": [
              "<Figure size 1200x1200 with 0 Axes>"
            ]
          },
          "metadata": {}
        },
        {
          "output_type": "display_data",
          "data": {
            "text/plain": [
              "<Figure size 1200x1200 with 0 Axes>"
            ]
          },
          "metadata": {}
        },
        {
          "output_type": "display_data",
          "data": {
            "text/plain": [
              "<Figure size 1200x1200 with 0 Axes>"
            ]
          },
          "metadata": {}
        },
        {
          "output_type": "display_data",
          "data": {
            "text/plain": [
              "<Figure size 1200x1200 with 0 Axes>"
            ]
          },
          "metadata": {}
        },
        {
          "output_type": "display_data",
          "data": {
            "text/plain": [
              "<Figure size 1200x1200 with 0 Axes>"
            ]
          },
          "metadata": {}
        },
        {
          "output_type": "display_data",
          "data": {
            "text/plain": [
              "<Figure size 1200x1200 with 0 Axes>"
            ]
          },
          "metadata": {}
        },
        {
          "output_type": "display_data",
          "data": {
            "text/plain": [
              "<Figure size 1200x1200 with 0 Axes>"
            ]
          },
          "metadata": {}
        },
        {
          "output_type": "display_data",
          "data": {
            "text/plain": [
              "<Figure size 1200x1200 with 0 Axes>"
            ]
          },
          "metadata": {}
        },
        {
          "output_type": "display_data",
          "data": {
            "text/plain": [
              "<Figure size 1200x1200 with 0 Axes>"
            ]
          },
          "metadata": {}
        },
        {
          "output_type": "display_data",
          "data": {
            "text/plain": [
              "<Figure size 1200x1200 with 0 Axes>"
            ]
          },
          "metadata": {}
        },
        {
          "output_type": "display_data",
          "data": {
            "text/plain": [
              "<Figure size 1200x1200 with 0 Axes>"
            ]
          },
          "metadata": {}
        },
        {
          "output_type": "display_data",
          "data": {
            "text/plain": [
              "<Figure size 1200x1200 with 0 Axes>"
            ]
          },
          "metadata": {}
        },
        {
          "output_type": "display_data",
          "data": {
            "text/plain": [
              "<Figure size 1200x1200 with 0 Axes>"
            ]
          },
          "metadata": {}
        },
        {
          "output_type": "display_data",
          "data": {
            "text/plain": [
              "<Figure size 1200x1200 with 0 Axes>"
            ]
          },
          "metadata": {}
        },
        {
          "output_type": "display_data",
          "data": {
            "text/plain": [
              "<Figure size 1200x1200 with 0 Axes>"
            ]
          },
          "metadata": {}
        },
        {
          "output_type": "display_data",
          "data": {
            "text/plain": [
              "<Figure size 1200x1200 with 0 Axes>"
            ]
          },
          "metadata": {}
        },
        {
          "output_type": "display_data",
          "data": {
            "text/plain": [
              "<Figure size 1200x1200 with 0 Axes>"
            ]
          },
          "metadata": {}
        },
        {
          "output_type": "display_data",
          "data": {
            "text/plain": [
              "<Figure size 1200x1200 with 0 Axes>"
            ]
          },
          "metadata": {}
        },
        {
          "output_type": "display_data",
          "data": {
            "text/plain": [
              "<Figure size 1200x1200 with 0 Axes>"
            ]
          },
          "metadata": {}
        },
        {
          "output_type": "display_data",
          "data": {
            "text/plain": [
              "<Figure size 1200x1200 with 0 Axes>"
            ]
          },
          "metadata": {}
        },
        {
          "output_type": "display_data",
          "data": {
            "text/plain": [
              "<Figure size 1200x1200 with 0 Axes>"
            ]
          },
          "metadata": {}
        },
        {
          "output_type": "display_data",
          "data": {
            "text/plain": [
              "<Figure size 1200x1200 with 0 Axes>"
            ]
          },
          "metadata": {}
        },
        {
          "output_type": "display_data",
          "data": {
            "text/plain": [
              "<Figure size 1200x1200 with 0 Axes>"
            ]
          },
          "metadata": {}
        },
        {
          "output_type": "display_data",
          "data": {
            "text/plain": [
              "<Figure size 1200x1200 with 0 Axes>"
            ]
          },
          "metadata": {}
        },
        {
          "output_type": "display_data",
          "data": {
            "text/plain": [
              "<Figure size 1200x1200 with 0 Axes>"
            ]
          },
          "metadata": {}
        },
        {
          "output_type": "display_data",
          "data": {
            "text/plain": [
              "<Figure size 1200x1200 with 0 Axes>"
            ]
          },
          "metadata": {}
        },
        {
          "output_type": "display_data",
          "data": {
            "text/plain": [
              "<Figure size 1200x1200 with 0 Axes>"
            ]
          },
          "metadata": {}
        },
        {
          "output_type": "display_data",
          "data": {
            "text/plain": [
              "<Figure size 1200x1200 with 0 Axes>"
            ]
          },
          "metadata": {}
        },
        {
          "output_type": "display_data",
          "data": {
            "text/plain": [
              "<Figure size 1200x1200 with 0 Axes>"
            ]
          },
          "metadata": {}
        },
        {
          "output_type": "display_data",
          "data": {
            "text/plain": [
              "<Figure size 1200x1200 with 0 Axes>"
            ]
          },
          "metadata": {}
        },
        {
          "output_type": "display_data",
          "data": {
            "text/plain": [
              "<Figure size 1200x1200 with 0 Axes>"
            ]
          },
          "metadata": {}
        },
        {
          "output_type": "display_data",
          "data": {
            "text/plain": [
              "<Figure size 1200x1200 with 0 Axes>"
            ]
          },
          "metadata": {}
        },
        {
          "output_type": "display_data",
          "data": {
            "text/plain": [
              "<Figure size 1200x1200 with 0 Axes>"
            ]
          },
          "metadata": {}
        },
        {
          "output_type": "display_data",
          "data": {
            "text/plain": [
              "<Figure size 1200x1200 with 0 Axes>"
            ]
          },
          "metadata": {}
        },
        {
          "output_type": "display_data",
          "data": {
            "text/plain": [
              "<Figure size 1200x1200 with 0 Axes>"
            ]
          },
          "metadata": {}
        },
        {
          "output_type": "display_data",
          "data": {
            "text/plain": [
              "<Figure size 1200x1200 with 0 Axes>"
            ]
          },
          "metadata": {}
        },
        {
          "output_type": "display_data",
          "data": {
            "text/plain": [
              "<Figure size 1200x1200 with 0 Axes>"
            ]
          },
          "metadata": {}
        },
        {
          "output_type": "display_data",
          "data": {
            "text/plain": [
              "<Figure size 1200x1200 with 0 Axes>"
            ]
          },
          "metadata": {}
        },
        {
          "output_type": "display_data",
          "data": {
            "text/plain": [
              "<Figure size 1200x1200 with 0 Axes>"
            ]
          },
          "metadata": {}
        },
        {
          "output_type": "display_data",
          "data": {
            "text/plain": [
              "<Figure size 1200x1200 with 0 Axes>"
            ]
          },
          "metadata": {}
        },
        {
          "output_type": "display_data",
          "data": {
            "text/plain": [
              "<Figure size 1200x1200 with 0 Axes>"
            ]
          },
          "metadata": {}
        },
        {
          "output_type": "display_data",
          "data": {
            "text/plain": [
              "<Figure size 1200x1200 with 0 Axes>"
            ]
          },
          "metadata": {}
        },
        {
          "output_type": "display_data",
          "data": {
            "text/plain": [
              "<Figure size 1200x1200 with 0 Axes>"
            ]
          },
          "metadata": {}
        },
        {
          "output_type": "display_data",
          "data": {
            "text/plain": [
              "<Figure size 1200x1200 with 0 Axes>"
            ]
          },
          "metadata": {}
        },
        {
          "output_type": "display_data",
          "data": {
            "text/plain": [
              "<Figure size 1200x1200 with 0 Axes>"
            ]
          },
          "metadata": {}
        },
        {
          "output_type": "display_data",
          "data": {
            "text/plain": [
              "<Figure size 1200x1200 with 0 Axes>"
            ]
          },
          "metadata": {}
        },
        {
          "output_type": "display_data",
          "data": {
            "text/plain": [
              "<Figure size 1200x1200 with 0 Axes>"
            ]
          },
          "metadata": {}
        },
        {
          "output_type": "display_data",
          "data": {
            "text/plain": [
              "<Figure size 1200x1200 with 0 Axes>"
            ]
          },
          "metadata": {}
        },
        {
          "output_type": "display_data",
          "data": {
            "text/plain": [
              "<Figure size 1200x1200 with 0 Axes>"
            ]
          },
          "metadata": {}
        },
        {
          "output_type": "display_data",
          "data": {
            "text/plain": [
              "<Figure size 1200x1200 with 0 Axes>"
            ]
          },
          "metadata": {}
        },
        {
          "output_type": "display_data",
          "data": {
            "text/plain": [
              "<Figure size 1200x1200 with 0 Axes>"
            ]
          },
          "metadata": {}
        },
        {
          "output_type": "display_data",
          "data": {
            "text/plain": [
              "<Figure size 1200x1200 with 0 Axes>"
            ]
          },
          "metadata": {}
        },
        {
          "output_type": "display_data",
          "data": {
            "text/plain": [
              "<Figure size 1200x1200 with 0 Axes>"
            ]
          },
          "metadata": {}
        },
        {
          "output_type": "display_data",
          "data": {
            "text/plain": [
              "<Figure size 1200x1200 with 0 Axes>"
            ]
          },
          "metadata": {}
        },
        {
          "output_type": "display_data",
          "data": {
            "text/plain": [
              "<Figure size 1200x1200 with 0 Axes>"
            ]
          },
          "metadata": {}
        },
        {
          "output_type": "display_data",
          "data": {
            "text/plain": [
              "<Figure size 1200x1200 with 0 Axes>"
            ]
          },
          "metadata": {}
        },
        {
          "output_type": "display_data",
          "data": {
            "text/plain": [
              "<Figure size 1200x1200 with 0 Axes>"
            ]
          },
          "metadata": {}
        },
        {
          "output_type": "display_data",
          "data": {
            "text/plain": [
              "<Figure size 1200x1200 with 0 Axes>"
            ]
          },
          "metadata": {}
        },
        {
          "output_type": "display_data",
          "data": {
            "text/plain": [
              "<Figure size 1200x1200 with 0 Axes>"
            ]
          },
          "metadata": {}
        },
        {
          "output_type": "display_data",
          "data": {
            "text/plain": [
              "<Figure size 1200x1200 with 0 Axes>"
            ]
          },
          "metadata": {}
        },
        {
          "output_type": "display_data",
          "data": {
            "text/plain": [
              "<Figure size 1200x1200 with 0 Axes>"
            ]
          },
          "metadata": {}
        },
        {
          "output_type": "display_data",
          "data": {
            "text/plain": [
              "<Figure size 1200x1200 with 0 Axes>"
            ]
          },
          "metadata": {}
        },
        {
          "output_type": "display_data",
          "data": {
            "text/plain": [
              "<Figure size 1200x1200 with 0 Axes>"
            ]
          },
          "metadata": {}
        },
        {
          "output_type": "display_data",
          "data": {
            "text/plain": [
              "<Figure size 1200x1200 with 0 Axes>"
            ]
          },
          "metadata": {}
        },
        {
          "output_type": "display_data",
          "data": {
            "text/plain": [
              "<Figure size 1200x1200 with 0 Axes>"
            ]
          },
          "metadata": {}
        },
        {
          "output_type": "display_data",
          "data": {
            "text/plain": [
              "<Figure size 1200x1200 with 0 Axes>"
            ]
          },
          "metadata": {}
        },
        {
          "output_type": "display_data",
          "data": {
            "text/plain": [
              "<Figure size 1200x1200 with 0 Axes>"
            ]
          },
          "metadata": {}
        },
        {
          "output_type": "display_data",
          "data": {
            "text/plain": [
              "<Figure size 1200x1200 with 0 Axes>"
            ]
          },
          "metadata": {}
        },
        {
          "output_type": "display_data",
          "data": {
            "text/plain": [
              "<Figure size 1200x1200 with 0 Axes>"
            ]
          },
          "metadata": {}
        },
        {
          "output_type": "display_data",
          "data": {
            "text/plain": [
              "<Figure size 1200x1200 with 0 Axes>"
            ]
          },
          "metadata": {}
        },
        {
          "output_type": "display_data",
          "data": {
            "text/plain": [
              "<Figure size 1200x1200 with 0 Axes>"
            ]
          },
          "metadata": {}
        },
        {
          "output_type": "display_data",
          "data": {
            "text/plain": [
              "<Figure size 1200x1200 with 0 Axes>"
            ]
          },
          "metadata": {}
        },
        {
          "output_type": "display_data",
          "data": {
            "text/plain": [
              "<Figure size 1200x1200 with 0 Axes>"
            ]
          },
          "metadata": {}
        },
        {
          "output_type": "display_data",
          "data": {
            "text/plain": [
              "<Figure size 1200x1200 with 0 Axes>"
            ]
          },
          "metadata": {}
        },
        {
          "output_type": "display_data",
          "data": {
            "text/plain": [
              "<Figure size 1200x1200 with 0 Axes>"
            ]
          },
          "metadata": {}
        },
        {
          "output_type": "display_data",
          "data": {
            "text/plain": [
              "<Figure size 1200x1200 with 0 Axes>"
            ]
          },
          "metadata": {}
        },
        {
          "output_type": "display_data",
          "data": {
            "text/plain": [
              "<Figure size 1200x1200 with 0 Axes>"
            ]
          },
          "metadata": {}
        },
        {
          "output_type": "display_data",
          "data": {
            "text/plain": [
              "<Figure size 1200x1200 with 0 Axes>"
            ]
          },
          "metadata": {}
        },
        {
          "output_type": "display_data",
          "data": {
            "text/plain": [
              "<Figure size 1200x1200 with 0 Axes>"
            ]
          },
          "metadata": {}
        },
        {
          "output_type": "display_data",
          "data": {
            "text/plain": [
              "<Figure size 1200x1200 with 0 Axes>"
            ]
          },
          "metadata": {}
        },
        {
          "output_type": "display_data",
          "data": {
            "text/plain": [
              "<Figure size 1200x1200 with 0 Axes>"
            ]
          },
          "metadata": {}
        },
        {
          "output_type": "display_data",
          "data": {
            "text/plain": [
              "<Figure size 1200x1200 with 0 Axes>"
            ]
          },
          "metadata": {}
        },
        {
          "output_type": "display_data",
          "data": {
            "text/plain": [
              "<Figure size 1200x1200 with 0 Axes>"
            ]
          },
          "metadata": {}
        },
        {
          "output_type": "display_data",
          "data": {
            "text/plain": [
              "<Figure size 1200x1200 with 0 Axes>"
            ]
          },
          "metadata": {}
        },
        {
          "output_type": "display_data",
          "data": {
            "text/plain": [
              "<Figure size 1200x1200 with 0 Axes>"
            ]
          },
          "metadata": {}
        },
        {
          "output_type": "display_data",
          "data": {
            "text/plain": [
              "<Figure size 1200x1200 with 0 Axes>"
            ]
          },
          "metadata": {}
        },
        {
          "output_type": "display_data",
          "data": {
            "text/plain": [
              "<Figure size 1200x1200 with 0 Axes>"
            ]
          },
          "metadata": {}
        },
        {
          "output_type": "display_data",
          "data": {
            "text/plain": [
              "<Figure size 1200x1200 with 0 Axes>"
            ]
          },
          "metadata": {}
        },
        {
          "output_type": "display_data",
          "data": {
            "text/plain": [
              "<Figure size 1200x1200 with 0 Axes>"
            ]
          },
          "metadata": {}
        },
        {
          "output_type": "display_data",
          "data": {
            "text/plain": [
              "<Figure size 1200x1200 with 0 Axes>"
            ]
          },
          "metadata": {}
        },
        {
          "output_type": "display_data",
          "data": {
            "text/plain": [
              "<Figure size 1200x1200 with 0 Axes>"
            ]
          },
          "metadata": {}
        },
        {
          "output_type": "display_data",
          "data": {
            "text/plain": [
              "<Figure size 1200x1200 with 0 Axes>"
            ]
          },
          "metadata": {}
        },
        {
          "output_type": "display_data",
          "data": {
            "text/plain": [
              "<Figure size 1200x1200 with 0 Axes>"
            ]
          },
          "metadata": {}
        },
        {
          "output_type": "display_data",
          "data": {
            "text/plain": [
              "<Figure size 1200x1200 with 0 Axes>"
            ]
          },
          "metadata": {}
        },
        {
          "output_type": "display_data",
          "data": {
            "text/plain": [
              "<Figure size 1200x1200 with 0 Axes>"
            ]
          },
          "metadata": {}
        },
        {
          "output_type": "display_data",
          "data": {
            "text/plain": [
              "<Figure size 1200x1200 with 0 Axes>"
            ]
          },
          "metadata": {}
        },
        {
          "output_type": "display_data",
          "data": {
            "text/plain": [
              "<Figure size 1200x1200 with 0 Axes>"
            ]
          },
          "metadata": {}
        },
        {
          "output_type": "display_data",
          "data": {
            "text/plain": [
              "<Figure size 1200x1200 with 0 Axes>"
            ]
          },
          "metadata": {}
        },
        {
          "output_type": "display_data",
          "data": {
            "text/plain": [
              "<Figure size 1200x1200 with 0 Axes>"
            ]
          },
          "metadata": {}
        },
        {
          "output_type": "display_data",
          "data": {
            "text/plain": [
              "<Figure size 1200x1200 with 0 Axes>"
            ]
          },
          "metadata": {}
        },
        {
          "output_type": "display_data",
          "data": {
            "text/plain": [
              "<Figure size 1200x1200 with 0 Axes>"
            ]
          },
          "metadata": {}
        },
        {
          "output_type": "display_data",
          "data": {
            "text/plain": [
              "<Figure size 1200x1200 with 0 Axes>"
            ]
          },
          "metadata": {}
        },
        {
          "output_type": "display_data",
          "data": {
            "text/plain": [
              "<Figure size 1200x1200 with 0 Axes>"
            ]
          },
          "metadata": {}
        },
        {
          "output_type": "display_data",
          "data": {
            "text/plain": [
              "<Figure size 1200x1200 with 0 Axes>"
            ]
          },
          "metadata": {}
        },
        {
          "output_type": "display_data",
          "data": {
            "text/plain": [
              "<Figure size 1200x1200 with 0 Axes>"
            ]
          },
          "metadata": {}
        },
        {
          "output_type": "display_data",
          "data": {
            "text/plain": [
              "<Figure size 1200x1200 with 0 Axes>"
            ]
          },
          "metadata": {}
        },
        {
          "output_type": "display_data",
          "data": {
            "text/plain": [
              "<Figure size 1200x1200 with 0 Axes>"
            ]
          },
          "metadata": {}
        },
        {
          "output_type": "display_data",
          "data": {
            "text/plain": [
              "<Figure size 1200x1200 with 0 Axes>"
            ]
          },
          "metadata": {}
        },
        {
          "output_type": "display_data",
          "data": {
            "text/plain": [
              "<Figure size 1200x1200 with 0 Axes>"
            ]
          },
          "metadata": {}
        },
        {
          "output_type": "display_data",
          "data": {
            "text/plain": [
              "<Figure size 1200x1200 with 0 Axes>"
            ]
          },
          "metadata": {}
        },
        {
          "output_type": "display_data",
          "data": {
            "text/plain": [
              "<Figure size 1200x1200 with 0 Axes>"
            ]
          },
          "metadata": {}
        },
        {
          "output_type": "display_data",
          "data": {
            "text/plain": [
              "<Figure size 1200x1200 with 0 Axes>"
            ]
          },
          "metadata": {}
        },
        {
          "output_type": "display_data",
          "data": {
            "text/plain": [
              "<Figure size 1200x1200 with 0 Axes>"
            ]
          },
          "metadata": {}
        },
        {
          "output_type": "display_data",
          "data": {
            "text/plain": [
              "<Figure size 1200x1200 with 0 Axes>"
            ]
          },
          "metadata": {}
        },
        {
          "output_type": "display_data",
          "data": {
            "text/plain": [
              "<Figure size 1200x1200 with 0 Axes>"
            ]
          },
          "metadata": {}
        },
        {
          "output_type": "display_data",
          "data": {
            "text/plain": [
              "<Figure size 1200x1200 with 0 Axes>"
            ]
          },
          "metadata": {}
        },
        {
          "output_type": "display_data",
          "data": {
            "text/plain": [
              "<Figure size 1200x1200 with 0 Axes>"
            ]
          },
          "metadata": {}
        },
        {
          "output_type": "display_data",
          "data": {
            "text/plain": [
              "<Figure size 1200x1200 with 0 Axes>"
            ]
          },
          "metadata": {}
        },
        {
          "output_type": "display_data",
          "data": {
            "text/plain": [
              "<Figure size 1200x1200 with 0 Axes>"
            ]
          },
          "metadata": {}
        },
        {
          "output_type": "display_data",
          "data": {
            "text/plain": [
              "<Figure size 1200x1200 with 0 Axes>"
            ]
          },
          "metadata": {}
        },
        {
          "output_type": "display_data",
          "data": {
            "text/plain": [
              "<Figure size 1200x1200 with 0 Axes>"
            ]
          },
          "metadata": {}
        },
        {
          "output_type": "display_data",
          "data": {
            "text/plain": [
              "<Figure size 1200x1200 with 0 Axes>"
            ]
          },
          "metadata": {}
        },
        {
          "output_type": "display_data",
          "data": {
            "text/plain": [
              "<Figure size 1200x1200 with 0 Axes>"
            ]
          },
          "metadata": {}
        },
        {
          "output_type": "display_data",
          "data": {
            "text/plain": [
              "<Figure size 1200x1200 with 0 Axes>"
            ]
          },
          "metadata": {}
        },
        {
          "output_type": "display_data",
          "data": {
            "text/plain": [
              "<Figure size 1200x1200 with 0 Axes>"
            ]
          },
          "metadata": {}
        },
        {
          "output_type": "display_data",
          "data": {
            "text/plain": [
              "<Figure size 1200x1200 with 0 Axes>"
            ]
          },
          "metadata": {}
        },
        {
          "output_type": "display_data",
          "data": {
            "text/plain": [
              "<Figure size 1200x1200 with 0 Axes>"
            ]
          },
          "metadata": {}
        },
        {
          "output_type": "display_data",
          "data": {
            "text/plain": [
              "<Figure size 1200x1200 with 0 Axes>"
            ]
          },
          "metadata": {}
        },
        {
          "output_type": "display_data",
          "data": {
            "text/plain": [
              "<Figure size 1200x1200 with 0 Axes>"
            ]
          },
          "metadata": {}
        },
        {
          "output_type": "display_data",
          "data": {
            "text/plain": [
              "<Figure size 1200x1200 with 0 Axes>"
            ]
          },
          "metadata": {}
        },
        {
          "output_type": "display_data",
          "data": {
            "text/plain": [
              "<Figure size 1200x1200 with 0 Axes>"
            ]
          },
          "metadata": {}
        },
        {
          "output_type": "display_data",
          "data": {
            "text/plain": [
              "<Figure size 1200x1200 with 0 Axes>"
            ]
          },
          "metadata": {}
        },
        {
          "output_type": "display_data",
          "data": {
            "text/plain": [
              "<Figure size 1200x1200 with 0 Axes>"
            ]
          },
          "metadata": {}
        }
      ]
    },
    {
      "cell_type": "code",
      "source": [
        "!zip -r /content/output_D2.zip /content/output_block_missing"
      ],
      "metadata": {
        "colab": {
          "base_uri": "https://localhost:8080/"
        },
        "id": "JExcw0khGwPT",
        "outputId": "753d503c-2fc4-4c77-8a67-8aa36a2d5ca4"
      },
      "execution_count": 5,
      "outputs": [
        {
          "output_type": "stream",
          "name": "stdout",
          "text": [
            "  adding: content/output_block_missing/ (stored 0%)\n",
            "  adding: content/output_block_missing/nonlinear_ts_n1000_vars6_lag3_gaussian_block30_causal_graph.png (deflated 6%)\n",
            "  adding: content/output_block_missing/nonlinear_ts_n1000_vars8_lag2_gaussian_block30_complete.csv (deflated 54%)\n",
            "  adding: content/output_block_missing/nonlinear_ts_n5000_vars4_lag4_gaussian_block30_causal_structure.txt (deflated 53%)\n",
            "  adding: content/output_block_missing/nonlinear_ts_n1000_vars4_lag4_gaussian_block10_statistics.txt (deflated 34%)\n",
            "  adding: content/output_block_missing/nonlinear_ts_n1000_vars6_lag4_gaussian_block20_series.png (deflated 1%)\n",
            "  adding: content/output_block_missing/nonlinear_ts_n500_vars8_lag2_student_t_block10_causal_structure.txt (deflated 62%)\n",
            "  adding: content/output_block_missing/nonlinear_ts_n3000_vars8_lag4_student_t_block30_series.png (deflated 4%)\n",
            "  adding: content/output_block_missing/nonlinear_ts_n500_vars8_lag3_student_t_block30_missing_pattern.png (deflated 8%)\n",
            "  adding: content/output_block_missing/nonlinear_ts_n3000_vars8_lag3_gaussian_block20_causal_graph.png (deflated 6%)\n",
            "  adding: content/output_block_missing/nonlinear_ts_n5000_vars8_lag2_gaussian_block30_causal_graph.png (deflated 7%)\n",
            "  adding: content/output_block_missing/nonlinear_ts_n3000_vars8_lag2_student_t_block20_causal_structure.txt (deflated 62%)\n",
            "  adding: content/output_block_missing/nonlinear_ts_n1000_vars4_lag3_student_t_block30_causal_structure.txt (deflated 53%)\n",
            "  adding: content/output_block_missing/nonlinear_ts_n1000_vars6_lag2_student_t_block10_missing.csv (deflated 53%)\n",
            "  adding: content/output_block_missing/nonlinear_ts_n5000_vars8_lag4_gaussian_block20_statistics.txt (deflated 34%)\n",
            "  adding: content/output_block_missing/nonlinear_ts_n3000_vars4_lag4_gaussian_block30_statistics.txt (deflated 28%)\n",
            "  adding: content/output_block_missing/nonlinear_ts_n5000_vars8_lag4_student_t_block10_statistics.txt (deflated 35%)\n",
            "  adding: content/output_block_missing/nonlinear_ts_n1000_vars4_lag3_gaussian_block30_missing.csv (deflated 52%)\n",
            "  adding: content/output_block_missing/nonlinear_ts_n500_vars6_lag2_student_t_block30_statistics.txt (deflated 32%)\n",
            "  adding: content/output_block_missing/nonlinear_ts_n5000_vars4_lag2_gaussian_block30_causal_structure.txt (deflated 50%)\n",
            "  adding: content/output_block_missing/nonlinear_ts_n1000_vars4_lag3_gaussian_block10_missing_pattern.png (deflated 12%)\n",
            "  adding: content/output_block_missing/nonlinear_ts_n500_vars4_lag3_gaussian_block20_statistics.txt (deflated 33%)\n",
            "  adding: content/output_block_missing/nonlinear_ts_n500_vars6_lag3_gaussian_block30_statistics.txt (deflated 32%)\n",
            "  adding: content/output_block_missing/nonlinear_ts_n1000_vars4_lag4_gaussian_block20_missing_pattern.png (deflated 11%)\n",
            "  adding: content/output_block_missing/nonlinear_ts_n3000_vars8_lag2_student_t_block10_series.png (deflated 4%)\n",
            "  adding: content/output_block_missing/nonlinear_ts_n500_vars6_lag4_gaussian_block20_statistics.txt (deflated 33%)\n",
            "  adding: content/output_block_missing/nonlinear_ts_n3000_vars6_lag3_student_t_block20_causal_structure.txt (deflated 59%)\n",
            "  adding: content/output_block_missing/nonlinear_ts_n1000_vars8_lag3_gaussian_block20_statistics.txt (deflated 35%)\n",
            "  adding: content/output_block_missing/nonlinear_ts_n5000_vars6_lag4_student_t_block10_statistics.txt (deflated 31%)\n",
            "  adding: content/output_block_missing/nonlinear_ts_n5000_vars6_lag4_gaussian_block10_missing_pattern.png (deflated 6%)\n",
            "  adding: content/output_block_missing/nonlinear_ts_n5000_vars4_lag4_gaussian_block30_series.png (deflated 1%)\n",
            "  adding: content/output_block_missing/nonlinear_ts_n500_vars4_lag2_gaussian_block10_complete.csv (deflated 52%)\n",
            "  adding: content/output_block_missing/nonlinear_ts_n500_vars6_lag3_gaussian_block30_missing_pattern.png (deflated 10%)\n",
            "  adding: content/output_block_missing/nonlinear_ts_n3000_vars6_lag3_gaussian_block20_causal_structure.txt (deflated 59%)\n",
            "  adding: content/output_block_missing/nonlinear_ts_n1000_vars6_lag4_student_t_block30_causal_graph.png (deflated 7%)\n",
            "  adding: content/output_block_missing/nonlinear_ts_n500_vars4_lag3_student_t_block10_causal_structure.txt (deflated 53%)\n",
            "  adding: content/output_block_missing/nonlinear_ts_n500_vars4_lag3_student_t_block10_missing.csv (deflated 51%)\n",
            "  adding: content/output_block_missing/nonlinear_ts_n3000_vars6_lag4_gaussian_block10_complete.csv (deflated 54%)\n",
            "  adding: content/output_block_missing/nonlinear_ts_n5000_vars4_lag4_student_t_block30_statistics.txt (deflated 30%)\n",
            "  adding: content/output_block_missing/nonlinear_ts_n5000_vars6_lag3_gaussian_block30_statistics.txt (deflated 31%)\n",
            "  adding: content/output_block_missing/nonlinear_ts_n1000_vars8_lag3_gaussian_block30_complete.csv (deflated 54%)\n",
            "  adding: content/output_block_missing/nonlinear_ts_n500_vars6_lag4_student_t_block20_causal_structure.txt (deflated 59%)\n",
            "  adding: content/output_block_missing/nonlinear_ts_n3000_vars4_lag2_gaussian_block30_missing.csv (deflated 54%)\n",
            "  adding: content/output_block_missing/nonlinear_ts_n5000_vars6_lag3_student_t_block20_causal_graph.png (deflated 6%)\n",
            "  adding: content/output_block_missing/nonlinear_ts_n3000_vars8_lag3_student_t_block30_missing_pattern.png (deflated 5%)\n",
            "  adding: content/output_block_missing/nonlinear_ts_n1000_vars4_lag3_student_t_block30_causal_graph.png (deflated 6%)\n",
            "  adding: content/output_block_missing/nonlinear_ts_n500_vars4_lag4_gaussian_block10_statistics.txt (deflated 30%)\n",
            "  adding: content/output_block_missing/nonlinear_ts_n3000_vars6_lag3_student_t_block30_causal_structure.txt (deflated 59%)\n",
            "  adding: content/output_block_missing/nonlinear_ts_n500_vars6_lag2_student_t_block30_causal_structure.txt (deflated 58%)\n",
            "  adding: content/output_block_missing/nonlinear_ts_n500_vars6_lag4_student_t_block30_series.png (deflated 4%)\n",
            "  adding: content/output_block_missing/nonlinear_ts_n1000_vars4_lag4_gaussian_block10_series.png (deflated 2%)\n",
            "  adding: content/output_block_missing/nonlinear_ts_n5000_vars6_lag3_gaussian_block10_complete.csv (deflated 54%)\n",
            "  adding: content/output_block_missing/nonlinear_ts_n5000_vars4_lag2_gaussian_block10_causal_structure.txt (deflated 50%)\n",
            "  adding: content/output_block_missing/nonlinear_ts_n5000_vars8_lag2_student_t_block10_complete.csv (deflated 54%)\n",
            "  adding: content/output_block_missing/nonlinear_ts_n5000_vars8_lag4_gaussian_block20_series.png (deflated 1%)\n",
            "  adding: content/output_block_missing/nonlinear_ts_n3000_vars4_lag2_student_t_block30_series.png (deflated 4%)\n",
            "  adding: content/output_block_missing/nonlinear_ts_n1000_vars4_lag2_student_t_block10_missing_pattern.png (deflated 12%)\n",
            "  adding: content/output_block_missing/nonlinear_ts_n3000_vars4_lag4_student_t_block30_series.png (deflated 4%)\n",
            "  adding: content/output_block_missing/nonlinear_ts_n1000_vars8_lag2_gaussian_block20_series.png (deflated 1%)\n",
            "  adding: content/output_block_missing/nonlinear_ts_n3000_vars8_lag4_gaussian_block30_causal_structure.txt (deflated 63%)\n",
            "  adding: content/output_block_missing/nonlinear_ts_n5000_vars8_lag2_student_t_block10_causal_structure.txt (deflated 62%)\n",
            "  adding: content/output_block_missing/nonlinear_ts_n5000_vars8_lag2_student_t_block10_missing.csv (deflated 54%)\n",
            "  adding: content/output_block_missing/nonlinear_ts_n1000_vars6_lag4_gaussian_block10_missing.csv (deflated 53%)\n",
            "  adding: content/output_block_missing/nonlinear_ts_n500_vars4_lag4_student_t_block20_missing.csv (deflated 51%)\n",
            "  adding: content/output_block_missing/nonlinear_ts_n3000_vars4_lag2_gaussian_block20_statistics.txt (deflated 31%)\n",
            "  adding: content/output_block_missing/nonlinear_ts_n5000_vars4_lag3_student_t_block10_missing.csv (deflated 54%)\n",
            "  adding: content/output_block_missing/nonlinear_ts_n500_vars4_lag4_gaussian_block10_causal_structure.txt (deflated 53%)\n",
            "  adding: content/output_block_missing/nonlinear_ts_n3000_vars8_lag2_student_t_block20_causal_graph.png (deflated 7%)\n",
            "  adding: content/output_block_missing/nonlinear_ts_n5000_vars6_lag4_gaussian_block30_causal_structure.txt (deflated 59%)\n",
            "  adding: content/output_block_missing/nonlinear_ts_n1000_vars4_lag2_student_t_block20_series.png (deflated 3%)\n",
            "  adding: content/output_block_missing/nonlinear_ts_n1000_vars8_lag4_student_t_block30_statistics.txt (deflated 35%)\n",
            "  adding: content/output_block_missing/nonlinear_ts_n500_vars6_lag3_gaussian_block20_complete.csv (deflated 52%)\n",
            "  adding: content/output_block_missing/nonlinear_ts_n1000_vars4_lag4_student_t_block10_missing.csv (deflated 52%)\n",
            "  adding: content/output_block_missing/nonlinear_ts_n500_vars4_lag3_gaussian_block30_missing_pattern.png (deflated 11%)\n",
            "  adding: content/output_block_missing/nonlinear_ts_n1000_vars6_lag4_student_t_block20_series.png (deflated 4%)\n",
            "  adding: content/output_block_missing/nonlinear_ts_n5000_vars8_lag4_gaussian_block20_causal_structure.txt (deflated 63%)\n",
            "  adding: content/output_block_missing/nonlinear_ts_n1000_vars8_lag3_gaussian_block30_causal_graph.png (deflated 5%)\n",
            "  adding: content/output_block_missing/nonlinear_ts_n5000_vars8_lag2_gaussian_block30_causal_structure.txt (deflated 62%)\n",
            "  adding: content/output_block_missing/nonlinear_ts_n1000_vars8_lag2_student_t_block10_series.png (deflated 3%)\n",
            "  adding: content/output_block_missing/nonlinear_ts_n500_vars6_lag2_gaussian_block10_causal_structure.txt (deflated 58%)\n",
            "  adding: content/output_block_missing/nonlinear_ts_n1000_vars8_lag4_student_t_block20_complete.csv (deflated 54%)\n",
            "  adding: content/output_block_missing/nonlinear_ts_n3000_vars6_lag2_gaussian_block20_statistics.txt (deflated 32%)\n",
            "  adding: content/output_block_missing/nonlinear_ts_n1000_vars8_lag2_student_t_block30_causal_structure.txt (deflated 62%)\n",
            "  adding: content/output_block_missing/nonlinear_ts_n1000_vars4_lag3_student_t_block20_missing_pattern.png (deflated 10%)\n",
            "  adding: content/output_block_missing/nonlinear_ts_n5000_vars6_lag3_student_t_block10_statistics.txt (deflated 31%)\n",
            "  adding: content/output_block_missing/nonlinear_ts_n5000_vars6_lag4_student_t_block20_missing_pattern.png (deflated 5%)\n",
            "  adding: content/output_block_missing/nonlinear_ts_n3000_vars8_lag2_gaussian_block30_missing_pattern.png (deflated 5%)\n",
            "  adding: content/output_block_missing/nonlinear_ts_n500_vars6_lag3_gaussian_block30_complete.csv (deflated 52%)\n",
            "  adding: content/output_block_missing/nonlinear_ts_n1000_vars8_lag4_gaussian_block10_missing_pattern.png (deflated 10%)\n",
            "  adding: content/output_block_missing/nonlinear_ts_n1000_vars4_lag4_student_t_block20_missing.csv (deflated 52%)\n",
            "  adding: content/output_block_missing/nonlinear_ts_n5000_vars4_lag2_gaussian_block30_missing_pattern.png (deflated 4%)\n",
            "  adding: content/output_block_missing/nonlinear_ts_n1000_vars6_lag3_student_t_block20_causal_graph.png (deflated 6%)\n",
            "  adding: content/output_block_missing/nonlinear_ts_n500_vars6_lag3_student_t_block20_causal_graph.png (deflated 6%)\n",
            "  adding: content/output_block_missing/nonlinear_ts_n3000_vars6_lag3_student_t_block10_missing_pattern.png (deflated 7%)\n",
            "  adding: content/output_block_missing/nonlinear_ts_n3000_vars4_lag2_student_t_block20_causal_graph.png (deflated 7%)\n",
            "  adding: content/output_block_missing/nonlinear_ts_n1000_vars8_lag3_gaussian_block20_missing_pattern.png (deflated 9%)\n",
            "  adding: content/output_block_missing/nonlinear_ts_n500_vars8_lag3_gaussian_block30_series.png (deflated 1%)\n",
            "  adding: content/output_block_missing/nonlinear_ts_n1000_vars8_lag2_gaussian_block10_causal_structure.txt (deflated 62%)\n",
            "  adding: content/output_block_missing/nonlinear_ts_n500_vars6_lag3_gaussian_block20_missing.csv (deflated 52%)\n",
            "  adding: content/output_block_missing/nonlinear_ts_n5000_vars8_lag4_student_t_block30_complete.csv (deflated 54%)\n",
            "  adding: content/output_block_missing/nonlinear_ts_n5000_vars6_lag2_gaussian_block30_statistics.txt (deflated 31%)\n",
            "  adding: content/output_block_missing/nonlinear_ts_n1000_vars8_lag4_student_t_block20_causal_structure.txt (deflated 63%)\n",
            "  adding: content/output_block_missing/nonlinear_ts_n1000_vars4_lag4_student_t_block20_causal_graph.png (deflated 6%)\n",
            "  adding: content/output_block_missing/nonlinear_ts_n1000_vars8_lag4_gaussian_block20_causal_graph.png (deflated 5%)\n",
            "  adding: content/output_block_missing/nonlinear_ts_n1000_vars8_lag4_gaussian_block10_series.png (deflated 1%)\n",
            "  adding: content/output_block_missing/nonlinear_ts_n500_vars6_lag4_gaussian_block30_series.png (deflated 2%)\n",
            "  adding: content/output_block_missing/nonlinear_ts_n3000_vars4_lag4_gaussian_block10_statistics.txt (deflated 28%)\n",
            "  adding: content/output_block_missing/nonlinear_ts_n5000_vars4_lag2_gaussian_block30_complete.csv (deflated 54%)\n",
            "  adding: content/output_block_missing/nonlinear_ts_n1000_vars4_lag2_student_t_block30_causal_structure.txt (deflated 50%)\n",
            "  adding: content/output_block_missing/nonlinear_ts_n3000_vars6_lag3_gaussian_block20_complete.csv (deflated 54%)\n",
            "  adding: content/output_block_missing/nonlinear_ts_n5000_vars4_lag4_gaussian_block10_series.png (deflated 1%)\n",
            "  adding: content/output_block_missing/nonlinear_ts_n5000_vars8_lag2_student_t_block30_statistics.txt (deflated 35%)\n",
            "  adding: content/output_block_missing/nonlinear_ts_n5000_vars6_lag3_gaussian_block30_missing_pattern.png (deflated 5%)\n",
            "  adding: content/output_block_missing/nonlinear_ts_n3000_vars4_lag2_gaussian_block10_series.png (deflated 1%)\n",
            "  adding: content/output_block_missing/nonlinear_ts_n3000_vars4_lag2_gaussian_block20_missing_pattern.png (deflated 7%)\n",
            "  adding: content/output_block_missing/nonlinear_ts_n5000_vars6_lag4_student_t_block20_complete.csv (deflated 54%)\n",
            "  adding: content/output_block_missing/nonlinear_ts_n3000_vars6_lag2_student_t_block10_causal_structure.txt (deflated 58%)\n",
            "  adding: content/output_block_missing/nonlinear_ts_n3000_vars6_lag2_student_t_block30_missing.csv (deflated 54%)\n",
            "  adding: content/output_block_missing/nonlinear_ts_n1000_vars4_lag4_gaussian_block20_statistics.txt (deflated 29%)\n",
            "  adding: content/output_block_missing/nonlinear_ts_n1000_vars8_lag3_gaussian_block10_statistics.txt (deflated 35%)\n",
            "  adding: content/output_block_missing/nonlinear_ts_n5000_vars4_lag4_student_t_block30_missing_pattern.png (deflated 4%)\n",
            "  adding: content/output_block_missing/nonlinear_ts_n500_vars8_lag4_student_t_block30_complete.csv (deflated 53%)\n",
            "  adding: content/output_block_missing/nonlinear_ts_n5000_vars8_lag3_gaussian_block10_causal_graph.png (deflated 6%)\n",
            "  adding: content/output_block_missing/nonlinear_ts_n500_vars6_lag2_gaussian_block20_missing_pattern.png (deflated 11%)\n",
            "  adding: content/output_block_missing/nonlinear_ts_n1000_vars8_lag3_gaussian_block20_causal_graph.png (deflated 6%)\n",
            "  adding: content/output_block_missing/nonlinear_ts_n3000_vars6_lag2_student_t_block10_statistics.txt (deflated 33%)\n",
            "  adding: content/output_block_missing/nonlinear_ts_n1000_vars8_lag2_gaussian_block10_missing_pattern.png (deflated 10%)\n",
            "  adding: content/output_block_missing/nonlinear_ts_n5000_vars4_lag2_student_t_block30_missing.csv (deflated 54%)\n",
            "  adding: content/output_block_missing/nonlinear_ts_n3000_vars6_lag4_student_t_block30_series.png (deflated 3%)\n",
            "  adding: content/output_block_missing/nonlinear_ts_n3000_vars6_lag2_student_t_block20_series.png (deflated 3%)\n",
            "  adding: content/output_block_missing/nonlinear_ts_n1000_vars8_lag2_student_t_block30_causal_graph.png (deflated 7%)\n",
            "  adding: content/output_block_missing/nonlinear_ts_n1000_vars8_lag2_gaussian_block20_missing.csv (deflated 53%)\n",
            "  adding: content/output_block_missing/nonlinear_ts_n500_vars6_lag3_student_t_block30_statistics.txt (deflated 32%)\n",
            "  adding: content/output_block_missing/nonlinear_ts_n5000_vars8_lag4_gaussian_block30_causal_structure.txt (deflated 63%)\n",
            "  adding: content/output_block_missing/nonlinear_ts_n500_vars8_lag4_gaussian_block20_missing.csv (deflated 52%)\n",
            "  adding: content/output_block_missing/nonlinear_ts_n1000_vars4_lag4_gaussian_block10_causal_graph.png (deflated 6%)\n",
            "  adding: content/output_block_missing/nonlinear_ts_n500_vars8_lag2_gaussian_block20_causal_structure.txt (deflated 62%)\n",
            "  adding: content/output_block_missing/nonlinear_ts_n500_vars4_lag2_student_t_block30_missing.csv (deflated 51%)\n",
            "  adding: content/output_block_missing/nonlinear_ts_n5000_vars6_lag3_gaussian_block20_series.png (deflated 1%)\n",
            "  adding: content/output_block_missing/nonlinear_ts_n1000_vars4_lag4_student_t_block20_complete.csv (deflated 53%)\n",
            "  adding: content/output_block_missing/nonlinear_ts_n3000_vars6_lag4_gaussian_block20_complete.csv (deflated 54%)\n",
            "  adding: content/output_block_missing/nonlinear_ts_n500_vars6_lag3_student_t_block30_series.png (deflated 4%)\n",
            "  adding: content/output_block_missing/nonlinear_ts_n5000_vars8_lag2_gaussian_block10_series.png (deflated 1%)\n",
            "  adding: content/output_block_missing/nonlinear_ts_n3000_vars8_lag4_student_t_block10_missing.csv (deflated 54%)\n",
            "  adding: content/output_block_missing/nonlinear_ts_n3000_vars8_lag4_student_t_block30_complete.csv (deflated 54%)\n",
            "  adding: content/output_block_missing/nonlinear_ts_n500_vars6_lag2_gaussian_block20_complete.csv (deflated 52%)\n",
            "  adding: content/output_block_missing/nonlinear_ts_n1000_vars6_lag4_gaussian_block10_missing_pattern.png (deflated 11%)\n",
            "  adding: content/output_block_missing/nonlinear_ts_n5000_vars6_lag2_gaussian_block30_complete.csv (deflated 54%)\n",
            "  adding: content/output_block_missing/nonlinear_ts_n5000_vars8_lag2_student_t_block20_series.png (deflated 3%)\n",
            "  adding: content/output_block_missing/nonlinear_ts_n500_vars4_lag4_student_t_block30_series.png (deflated 4%)\n",
            "  adding: content/output_block_missing/nonlinear_ts_n1000_vars6_lag3_student_t_block20_causal_structure.txt (deflated 59%)\n",
            "  adding: content/output_block_missing/nonlinear_ts_n500_vars6_lag2_gaussian_block30_missing_pattern.png (deflated 10%)\n",
            "  adding: content/output_block_missing/nonlinear_ts_n3000_vars4_lag2_student_t_block30_missing.csv (deflated 53%)\n",
            "  adding: content/output_block_missing/nonlinear_ts_n500_vars8_lag2_student_t_block30_complete.csv (deflated 53%)\n",
            "  adding: content/output_block_missing/nonlinear_ts_n500_vars4_lag4_student_t_block10_causal_graph.png (deflated 6%)\n",
            "  adding: content/output_block_missing/nonlinear_ts_n1000_vars8_lag4_student_t_block20_statistics.txt (deflated 35%)\n",
            "  adding: content/output_block_missing/nonlinear_ts_n5000_vars4_lag4_gaussian_block30_missing.csv (deflated 54%)\n",
            "  adding: content/output_block_missing/nonlinear_ts_n500_vars4_lag2_student_t_block20_causal_structure.txt (deflated 50%)\n",
            "  adding: content/output_block_missing/nonlinear_ts_n3000_vars6_lag3_student_t_block10_series.png (deflated 4%)\n",
            "  adding: content/output_block_missing/nonlinear_ts_n5000_vars6_lag3_student_t_block30_missing_pattern.png (deflated 5%)\n",
            "  adding: content/output_block_missing/nonlinear_ts_n3000_vars6_lag3_student_t_block10_missing.csv (deflated 54%)\n",
            "  adding: content/output_block_missing/nonlinear_ts_n3000_vars6_lag3_student_t_block30_missing.csv (deflated 54%)\n",
            "  adding: content/output_block_missing/nonlinear_ts_n500_vars4_lag3_gaussian_block20_missing_pattern.png (deflated 13%)\n",
            "  adding: content/output_block_missing/nonlinear_ts_n5000_vars8_lag4_student_t_block20_complete.csv (deflated 54%)\n",
            "  adding: content/output_block_missing/nonlinear_ts_n5000_vars8_lag3_gaussian_block30_causal_graph.png (deflated 6%)\n",
            "  adding: content/output_block_missing/nonlinear_ts_n500_vars6_lag4_gaussian_block20_causal_graph.png (deflated 7%)\n",
            "  adding: content/output_block_missing/nonlinear_ts_n1000_vars4_lag2_student_t_block30_series.png (deflated 4%)\n",
            "  adding: content/output_block_missing/nonlinear_ts_n1000_vars4_lag2_student_t_block20_causal_graph.png (deflated 8%)\n",
            "  adding: content/output_block_missing/nonlinear_ts_n5000_vars8_lag3_student_t_block30_missing_pattern.png (deflated 4%)\n",
            "  adding: content/output_block_missing/nonlinear_ts_n1000_vars6_lag3_gaussian_block30_series.png (deflated 1%)\n",
            "  adding: content/output_block_missing/nonlinear_ts_n500_vars8_lag4_student_t_block10_causal_graph.png (deflated 5%)\n",
            "  adding: content/output_block_missing/nonlinear_ts_n1000_vars4_lag3_gaussian_block20_causal_structure.txt (deflated 53%)\n",
            "  adding: content/output_block_missing/nonlinear_ts_n3000_vars4_lag4_gaussian_block30_causal_graph.png (deflated 6%)\n",
            "  adding: content/output_block_missing/nonlinear_ts_n500_vars8_lag2_student_t_block20_causal_graph.png (deflated 7%)\n",
            "  adding: content/output_block_missing/nonlinear_ts_n1000_vars8_lag3_student_t_block20_statistics.txt (deflated 35%)\n",
            "  adding: content/output_block_missing/nonlinear_ts_n5000_vars4_lag4_gaussian_block10_statistics.txt (deflated 29%)\n",
            "  adding: content/output_block_missing/nonlinear_ts_n3000_vars8_lag4_student_t_block20_complete.csv (deflated 54%)\n",
            "  adding: content/output_block_missing/nonlinear_ts_n3000_vars4_lag3_student_t_block10_causal_graph.png (deflated 6%)\n",
            "  adding: content/output_block_missing/nonlinear_ts_n5000_vars6_lag2_gaussian_block10_causal_structure.txt (deflated 58%)\n",
            "  adding: content/output_block_missing/nonlinear_ts_n3000_vars6_lag2_gaussian_block30_statistics.txt (deflated 32%)\n",
            "  adding: content/output_block_missing/nonlinear_ts_n3000_vars4_lag4_student_t_block20_causal_structure.txt (deflated 53%)\n",
            "  adding: content/output_block_missing/nonlinear_ts_n500_vars8_lag3_student_t_block20_missing.csv (deflated 52%)\n",
            "  adding: content/output_block_missing/nonlinear_ts_n5000_vars4_lag3_student_t_block30_causal_structure.txt (deflated 53%)\n",
            "  adding: content/output_block_missing/nonlinear_ts_n3000_vars8_lag3_gaussian_block10_causal_graph.png (deflated 6%)\n",
            "  adding: content/output_block_missing/nonlinear_ts_n500_vars8_lag3_student_t_block10_complete.csv (deflated 53%)\n",
            "  adding: content/output_block_missing/nonlinear_ts_n500_vars4_lag2_student_t_block20_missing_pattern.png (deflated 14%)\n",
            "  adding: content/output_block_missing/nonlinear_ts_n1000_vars6_lag2_student_t_block10_causal_structure.txt (deflated 58%)\n",
            "  adding: content/output_block_missing/nonlinear_ts_n5000_vars4_lag3_student_t_block20_complete.csv (deflated 54%)\n",
            "  adding: content/output_block_missing/nonlinear_ts_n5000_vars8_lag3_student_t_block30_series.png (deflated 3%)\n",
            "  adding: content/output_block_missing/nonlinear_ts_n500_vars4_lag3_student_t_block10_missing_pattern.png (deflated 15%)\n",
            "  adding: content/output_block_missing/nonlinear_ts_n5000_vars4_lag4_student_t_block10_causal_graph.png (deflated 6%)\n",
            "  adding: content/output_block_missing/nonlinear_ts_n500_vars4_lag2_student_t_block10_series.png (deflated 4%)\n",
            "  adding: content/output_block_missing/nonlinear_ts_n1000_vars4_lag3_student_t_block20_missing.csv (deflated 52%)\n",
            "  adding: content/output_block_missing/nonlinear_ts_n5000_vars8_lag4_gaussian_block20_causal_graph.png (deflated 6%)\n",
            "  adding: content/output_block_missing/nonlinear_ts_n3000_vars4_lag4_gaussian_block30_series.png (deflated 1%)\n",
            "  adding: content/output_block_missing/nonlinear_ts_n1000_vars6_lag4_gaussian_block30_complete.csv (deflated 53%)\n",
            "  adding: content/output_block_missing/nonlinear_ts_n5000_vars4_lag2_gaussian_block30_missing.csv (deflated 54%)\n",
            "  adding: content/output_block_missing/nonlinear_ts_n3000_vars4_lag3_gaussian_block30_causal_graph.png (deflated 6%)\n",
            "  adding: content/output_block_missing/nonlinear_ts_n500_vars8_lag3_student_t_block10_statistics.txt (deflated 38%)\n",
            "  adding: content/output_block_missing/nonlinear_ts_n3000_vars4_lag4_gaussian_block30_causal_structure.txt (deflated 53%)\n",
            "  adding: content/output_block_missing/nonlinear_ts_n500_vars4_lag4_gaussian_block30_series.png (deflated 2%)\n",
            "  adding: content/output_block_missing/nonlinear_ts_n5000_vars4_lag3_gaussian_block10_complete.csv (deflated 54%)\n",
            "  adding: content/output_block_missing/nonlinear_ts_n500_vars6_lag3_gaussian_block10_statistics.txt (deflated 34%)\n",
            "  adding: content/output_block_missing/nonlinear_ts_n500_vars6_lag3_gaussian_block20_statistics.txt (deflated 33%)\n",
            "  adding: content/output_block_missing/nonlinear_ts_n500_vars4_lag2_student_t_block10_missing_pattern.png (deflated 15%)\n",
            "  adding: content/output_block_missing/nonlinear_ts_n1000_vars8_lag2_student_t_block10_causal_structure.txt (deflated 62%)\n",
            "  adding: content/output_block_missing/nonlinear_ts_n500_vars4_lag4_gaussian_block20_causal_graph.png (deflated 6%)\n",
            "  adding: content/output_block_missing/nonlinear_ts_n5000_vars8_lag4_gaussian_block10_causal_structure.txt (deflated 63%)\n",
            "  adding: content/output_block_missing/nonlinear_ts_n3000_vars6_lag3_student_t_block10_causal_graph.png (deflated 6%)\n",
            "  adding: content/output_block_missing/nonlinear_ts_n5000_vars6_lag2_gaussian_block10_complete.csv (deflated 54%)\n",
            "  adding: content/output_block_missing/nonlinear_ts_n5000_vars4_lag2_student_t_block30_statistics.txt (deflated 30%)\n",
            "  adding: content/output_block_missing/nonlinear_ts_n1000_vars6_lag3_student_t_block10_complete.csv (deflated 53%)\n",
            "  adding: content/output_block_missing/nonlinear_ts_n5000_vars8_lag4_student_t_block10_causal_graph.png (deflated 5%)\n",
            "  adding: content/output_block_missing/nonlinear_ts_n5000_vars8_lag4_gaussian_block20_missing_pattern.png (deflated 4%)\n",
            "  adding: content/output_block_missing/nonlinear_ts_n3000_vars6_lag4_gaussian_block10_causal_graph.png (deflated 7%)\n",
            "  adding: content/output_block_missing/nonlinear_ts_n5000_vars6_lag2_student_t_block30_missing.csv (deflated 54%)\n",
            "  adding: content/output_block_missing/nonlinear_ts_n1000_vars6_lag3_gaussian_block10_causal_graph.png (deflated 6%)\n",
            "  adding: content/output_block_missing/nonlinear_ts_n500_vars8_lag4_student_t_block10_statistics.txt (deflated 38%)\n",
            "  adding: content/output_block_missing/nonlinear_ts_n5000_vars4_lag4_student_t_block30_causal_graph.png (deflated 6%)\n",
            "  adding: content/output_block_missing/nonlinear_ts_n3000_vars4_lag3_student_t_block10_statistics.txt (deflated 29%)\n",
            "  adding: content/output_block_missing/nonlinear_ts_n5000_vars8_lag2_student_t_block20_complete.csv (deflated 54%)\n",
            "  adding: content/output_block_missing/nonlinear_ts_n5000_vars6_lag2_student_t_block10_complete.csv (deflated 54%)\n",
            "  adding: content/output_block_missing/nonlinear_ts_n500_vars4_lag2_gaussian_block30_causal_structure.txt (deflated 50%)\n",
            "  adding: content/output_block_missing/nonlinear_ts_n3000_vars6_lag2_student_t_block10_series.png (deflated 4%)\n",
            "  adding: content/output_block_missing/nonlinear_ts_n500_vars4_lag4_student_t_block10_causal_structure.txt (deflated 53%)\n",
            "  adding: content/output_block_missing/nonlinear_ts_n500_vars4_lag3_gaussian_block10_causal_structure.txt (deflated 53%)\n",
            "  adding: content/output_block_missing/nonlinear_ts_n500_vars4_lag4_student_t_block30_missing_pattern.png (deflated 12%)\n",
            "  adding: content/output_block_missing/nonlinear_ts_n500_vars4_lag3_gaussian_block10_statistics.txt (deflated 30%)\n",
            "  adding: content/output_block_missing/nonlinear_ts_n500_vars4_lag2_student_t_block20_series.png (deflated 4%)\n",
            "  adding: content/output_block_missing/nonlinear_ts_n500_vars8_lag2_student_t_block20_missing.csv (deflated 52%)\n",
            "  adding: content/output_block_missing/nonlinear_ts_n1000_vars8_lag2_gaussian_block10_causal_graph.png (deflated 7%)\n",
            "  adding: content/output_block_missing/nonlinear_ts_n5000_vars4_lag2_student_t_block10_missing.csv (deflated 54%)\n",
            "  adding: content/output_block_missing/nonlinear_ts_n5000_vars8_lag2_student_t_block30_series.png (deflated 3%)\n",
            "  adding: content/output_block_missing/nonlinear_ts_n500_vars4_lag4_student_t_block30_missing.csv (deflated 51%)\n",
            "  adding: content/output_block_missing/nonlinear_ts_n5000_vars4_lag2_gaussian_block10_missing_pattern.png (deflated 6%)\n",
            "  adding: content/output_block_missing/nonlinear_ts_n1000_vars8_lag4_student_t_block20_causal_graph.png (deflated 5%)\n",
            "  adding: content/output_block_missing/nonlinear_ts_n500_vars6_lag2_gaussian_block10_complete.csv (deflated 52%)\n",
            "  adding: content/output_block_missing/nonlinear_ts_n500_vars6_lag3_student_t_block30_missing.csv (deflated 52%)\n",
            "  adding: content/output_block_missing/nonlinear_ts_n1000_vars8_lag2_gaussian_block30_series.png (deflated 1%)\n",
            "  adding: content/output_block_missing/nonlinear_ts_n3000_vars6_lag3_gaussian_block30_statistics.txt (deflated 32%)\n",
            "  adding: content/output_block_missing/nonlinear_ts_n500_vars6_lag3_student_t_block10_complete.csv (deflated 52%)\n",
            "  adding: content/output_block_missing/nonlinear_ts_n1000_vars6_lag4_student_t_block10_causal_structure.txt (deflated 59%)\n",
            "  adding: content/output_block_missing/nonlinear_ts_n1000_vars8_lag2_gaussian_block30_missing_pattern.png (deflated 9%)\n",
            "  adding: content/output_block_missing/nonlinear_ts_n5000_vars4_lag3_student_t_block10_complete.csv (deflated 54%)\n",
            "  adding: content/output_block_missing/nonlinear_ts_n500_vars8_lag3_student_t_block10_missing.csv (deflated 52%)\n",
            "  adding: content/output_block_missing/nonlinear_ts_n5000_vars8_lag4_gaussian_block10_missing.csv (deflated 54%)\n",
            "  adding: content/output_block_missing/nonlinear_ts_n5000_vars6_lag4_student_t_block30_complete.csv (deflated 54%)\n",
            "  adding: content/output_block_missing/nonlinear_ts_n5000_vars8_lag3_student_t_block20_series.png (deflated 3%)\n",
            "  adding: content/output_block_missing/nonlinear_ts_n500_vars4_lag4_gaussian_block20_causal_structure.txt (deflated 53%)\n",
            "  adding: content/output_block_missing/nonlinear_ts_n500_vars8_lag4_student_t_block30_causal_structure.txt (deflated 63%)\n",
            "  adding: content/output_block_missing/nonlinear_ts_n3000_vars8_lag2_gaussian_block20_statistics.txt (deflated 35%)\n",
            "  adding: content/output_block_missing/nonlinear_ts_n500_vars6_lag3_gaussian_block30_series.png (deflated 2%)\n",
            "  adding: content/output_block_missing/nonlinear_ts_n500_vars4_lag4_student_t_block20_series.png (deflated 4%)\n",
            "  adding: content/output_block_missing/nonlinear_ts_n500_vars6_lag3_student_t_block20_missing.csv (deflated 52%)\n",
            "  adding: content/output_block_missing/nonlinear_ts_n500_vars6_lag4_student_t_block30_missing.csv (deflated 52%)\n",
            "  adding: content/output_block_missing/nonlinear_ts_n500_vars8_lag4_student_t_block20_statistics.txt (deflated 35%)\n",
            "  adding: content/output_block_missing/nonlinear_ts_n5000_vars4_lag3_gaussian_block10_series.png (deflated 1%)\n",
            "  adding: content/output_block_missing/nonlinear_ts_n500_vars4_lag2_gaussian_block10_statistics.txt (deflated 30%)\n",
            "  adding: content/output_block_missing/nonlinear_ts_n3000_vars4_lag2_student_t_block30_complete.csv (deflated 54%)\n",
            "  adding: content/output_block_missing/nonlinear_ts_n5000_vars6_lag4_student_t_block20_causal_structure.txt (deflated 59%)\n",
            "  adding: content/output_block_missing/nonlinear_ts_n1000_vars8_lag4_gaussian_block20_complete.csv (deflated 54%)\n",
            "  adding: content/output_block_missing/nonlinear_ts_n500_vars4_lag4_student_t_block10_complete.csv (deflated 51%)\n",
            "  adding: content/output_block_missing/nonlinear_ts_n500_vars6_lag2_student_t_block20_series.png (deflated 4%)\n",
            "  adding: content/output_block_missing/nonlinear_ts_n5000_vars6_lag3_gaussian_block30_series.png (deflated 1%)\n",
            "  adding: content/output_block_missing/nonlinear_ts_n1000_vars8_lag3_gaussian_block20_complete.csv (deflated 54%)\n",
            "  adding: content/output_block_missing/nonlinear_ts_n500_vars6_lag4_student_t_block20_series.png (deflated 4%)\n",
            "  adding: content/output_block_missing/nonlinear_ts_n1000_vars8_lag4_gaussian_block30_causal_graph.png (deflated 5%)\n",
            "  adding: content/output_block_missing/nonlinear_ts_n500_vars6_lag3_gaussian_block10_causal_graph.png (deflated 6%)\n",
            "  adding: content/output_block_missing/nonlinear_ts_n500_vars4_lag3_student_t_block20_causal_graph.png (deflated 6%)\n",
            "  adding: content/output_block_missing/nonlinear_ts_n5000_vars8_lag3_student_t_block20_statistics.txt (deflated 35%)\n",
            "  adding: content/output_block_missing/nonlinear_ts_n5000_vars4_lag4_gaussian_block20_causal_structure.txt (deflated 53%)\n",
            "  adding: content/output_block_missing/nonlinear_ts_n3000_vars8_lag2_gaussian_block20_missing.csv (deflated 54%)\n",
            "  adding: content/output_block_missing/nonlinear_ts_n3000_vars8_lag4_student_t_block20_causal_graph.png (deflated 6%)\n",
            "  adding: content/output_block_missing/nonlinear_ts_n1000_vars6_lag3_student_t_block10_causal_graph.png (deflated 6%)\n",
            "  adding: content/output_block_missing/nonlinear_ts_n3000_vars8_lag4_student_t_block20_missing_pattern.png (deflated 5%)\n",
            "  adding: content/output_block_missing/nonlinear_ts_n5000_vars6_lag2_student_t_block10_missing.csv (deflated 54%)\n",
            "  adding: content/output_block_missing/nonlinear_ts_n1000_vars6_lag3_gaussian_block20_missing.csv (deflated 53%)\n",
            "  adding: content/output_block_missing/nonlinear_ts_n500_vars6_lag3_student_t_block30_missing_pattern.png (deflated 11%)\n",
            "  adding: content/output_block_missing/nonlinear_ts_n5000_vars4_lag2_gaussian_block20_complete.csv (deflated 54%)\n",
            "  adding: content/output_block_missing/nonlinear_ts_n500_vars8_lag3_student_t_block20_complete.csv (deflated 53%)\n",
            "  adding: content/output_block_missing/nonlinear_ts_n5000_vars8_lag4_gaussian_block20_missing.csv (deflated 54%)\n",
            "  adding: content/output_block_missing/nonlinear_ts_n3000_vars4_lag3_gaussian_block20_causal_structure.txt (deflated 53%)\n",
            "  adding: content/output_block_missing/nonlinear_ts_n3000_vars8_lag3_student_t_block20_complete.csv (deflated 54%)\n",
            "  adding: content/output_block_missing/nonlinear_ts_n5000_vars6_lag2_student_t_block30_causal_structure.txt (deflated 58%)\n",
            "  adding: content/output_block_missing/nonlinear_ts_n5000_vars8_lag3_gaussian_block10_series.png (deflated 1%)\n",
            "  adding: content/output_block_missing/nonlinear_ts_n500_vars4_lag4_student_t_block10_missing.csv (deflated 51%)\n",
            "  adding: content/output_block_missing/nonlinear_ts_n1000_vars6_lag2_student_t_block20_causal_structure.txt (deflated 58%)\n",
            "  adding: content/output_block_missing/nonlinear_ts_n3000_vars6_lag2_student_t_block20_statistics.txt (deflated 33%)\n",
            "  adding: content/output_block_missing/nonlinear_ts_n3000_vars4_lag3_student_t_block20_causal_graph.png (deflated 6%)\n",
            "  adding: content/output_block_missing/nonlinear_ts_n3000_vars8_lag2_gaussian_block10_missing_pattern.png (deflated 6%)\n",
            "  adding: content/output_block_missing/nonlinear_ts_n3000_vars4_lag3_gaussian_block20_causal_graph.png (deflated 6%)\n",
            "  adding: content/output_block_missing/nonlinear_ts_n500_vars8_lag2_student_t_block10_missing_pattern.png (deflated 12%)\n",
            "  adding: content/output_block_missing/nonlinear_ts_n1000_vars4_lag3_student_t_block10_missing_pattern.png (deflated 12%)\n",
            "  adding: content/output_block_missing/nonlinear_ts_n500_vars8_lag2_gaussian_block30_causal_structure.txt (deflated 62%)\n",
            "  adding: content/output_block_missing/nonlinear_ts_n1000_vars8_lag4_student_t_block10_missing_pattern.png (deflated 10%)\n",
            "  adding: content/output_block_missing/nonlinear_ts_n3000_vars4_lag3_student_t_block30_statistics.txt (deflated 30%)\n",
            "  adding: content/output_block_missing/nonlinear_ts_n5000_vars8_lag3_student_t_block30_statistics.txt (deflated 35%)\n",
            "  adding: content/output_block_missing/nonlinear_ts_n500_vars6_lag4_student_t_block10_missing_pattern.png (deflated 13%)\n",
            "  adding: content/output_block_missing/nonlinear_ts_n3000_vars4_lag4_student_t_block20_statistics.txt (deflated 29%)\n",
            "  adding: content/output_block_missing/nonlinear_ts_n500_vars6_lag2_gaussian_block20_series.png (deflated 1%)\n",
            "  adding: content/output_block_missing/nonlinear_ts_n500_vars8_lag3_gaussian_block20_causal_graph.png (deflated 5%)\n",
            "  adding: content/output_block_missing/nonlinear_ts_n3000_vars4_lag2_gaussian_block10_statistics.txt (deflated 28%)\n",
            "  adding: content/output_block_missing/nonlinear_ts_n500_vars4_lag3_student_t_block20_statistics.txt (deflated 29%)\n",
            "  adding: content/output_block_missing/nonlinear_ts_n3000_vars4_lag4_gaussian_block10_missing_pattern.png (deflated 7%)\n",
            "  adding: content/output_block_missing/nonlinear_ts_n3000_vars8_lag2_student_t_block20_series.png (deflated 3%)\n",
            "  adding: content/output_block_missing/nonlinear_ts_n500_vars8_lag3_gaussian_block20_complete.csv (deflated 53%)\n",
            "  adding: content/output_block_missing/nonlinear_ts_n1000_vars8_lag2_student_t_block10_missing_pattern.png (deflated 10%)\n",
            "  adding: content/output_block_missing/nonlinear_ts_n3000_vars6_lag3_student_t_block20_causal_graph.png (deflated 6%)\n",
            "  adding: content/output_block_missing/nonlinear_ts_n500_vars6_lag4_student_t_block10_statistics.txt (deflated 31%)\n",
            "  adding: content/output_block_missing/nonlinear_ts_n1000_vars6_lag4_student_t_block10_series.png (deflated 3%)\n",
            "  adding: content/output_block_missing/nonlinear_ts_n500_vars6_lag2_student_t_block20_causal_structure.txt (deflated 58%)\n",
            "  adding: content/output_block_missing/nonlinear_ts_n5000_vars8_lag3_gaussian_block20_series.png (deflated 1%)\n",
            "  adding: content/output_block_missing/nonlinear_ts_n1000_vars8_lag4_student_t_block10_series.png (deflated 4%)\n",
            "  adding: content/output_block_missing/nonlinear_ts_n500_vars4_lag4_student_t_block10_missing_pattern.png (deflated 15%)\n",
            "  adding: content/output_block_missing/nonlinear_ts_n1000_vars4_lag4_gaussian_block10_missing.csv (deflated 52%)\n",
            "  adding: content/output_block_missing/nonlinear_ts_n5000_vars8_lag2_gaussian_block20_statistics.txt (deflated 34%)\n",
            "  adding: content/output_block_missing/nonlinear_ts_n3000_vars8_lag2_gaussian_block20_causal_structure.txt (deflated 62%)\n",
            "  adding: content/output_block_missing/nonlinear_ts_n5000_vars8_lag2_gaussian_block20_causal_structure.txt (deflated 62%)\n",
            "  adding: content/output_block_missing/nonlinear_ts_n1000_vars8_lag3_gaussian_block10_series.png (deflated 1%)\n",
            "  adding: content/output_block_missing/nonlinear_ts_n500_vars4_lag3_gaussian_block30_statistics.txt (deflated 29%)\n",
            "  adding: content/output_block_missing/nonlinear_ts_n3000_vars8_lag2_student_t_block10_causal_graph.png (deflated 7%)\n",
            "  adding: content/output_block_missing/nonlinear_ts_n5000_vars4_lag3_gaussian_block10_causal_graph.png (deflated 6%)\n",
            "  adding: content/output_block_missing/nonlinear_ts_n5000_vars4_lag2_gaussian_block20_series.png (deflated 1%)\n",
            "  adding: content/output_block_missing/nonlinear_ts_n3000_vars4_lag2_gaussian_block10_complete.csv (deflated 54%)\n",
            "  adding: content/output_block_missing/nonlinear_ts_n500_vars6_lag2_student_t_block30_series.png (deflated 4%)\n",
            "  adding: content/output_block_missing/nonlinear_ts_n500_vars6_lag4_student_t_block20_missing.csv (deflated 52%)\n",
            "  adding: content/output_block_missing/nonlinear_ts_n5000_vars4_lag3_student_t_block10_causal_structure.txt (deflated 53%)\n",
            "  adding: content/output_block_missing/nonlinear_ts_n500_vars6_lag3_gaussian_block20_causal_structure.txt (deflated 59%)\n",
            "  adding: content/output_block_missing/nonlinear_ts_n1000_vars6_lag2_student_t_block20_series.png (deflated 3%)\n",
            "  adding: content/output_block_missing/nonlinear_ts_n5000_vars6_lag3_student_t_block30_series.png (deflated 4%)\n",
            "  adding: content/output_block_missing/nonlinear_ts_n500_vars4_lag4_gaussian_block20_missing.csv (deflated 51%)\n",
            "  adding: content/output_block_missing/nonlinear_ts_n5000_vars6_lag3_gaussian_block30_causal_graph.png (deflated 6%)\n",
            "  adding: content/output_block_missing/nonlinear_ts_n500_vars4_lag4_student_t_block20_statistics.txt (deflated 29%)\n",
            "  adding: content/output_block_missing/nonlinear_ts_n1000_vars8_lag2_gaussian_block10_statistics.txt (deflated 35%)\n",
            "  adding: content/output_block_missing/nonlinear_ts_n3000_vars6_lag3_student_t_block20_missing.csv (deflated 54%)\n",
            "  adding: content/output_block_missing/nonlinear_ts_n500_vars8_lag2_gaussian_block10_statistics.txt (deflated 35%)\n",
            "  adding: content/output_block_missing/nonlinear_ts_n500_vars8_lag4_student_t_block30_series.png (deflated 4%)\n",
            "  adding: content/output_block_missing/nonlinear_ts_n5000_vars4_lag2_student_t_block20_causal_structure.txt (deflated 50%)\n",
            "  adding: content/output_block_missing/nonlinear_ts_n1000_vars6_lag2_gaussian_block20_causal_structure.txt (deflated 58%)\n",
            "  adding: content/output_block_missing/nonlinear_ts_n1000_vars4_lag3_student_t_block30_statistics.txt (deflated 29%)\n",
            "  adding: content/output_block_missing/nonlinear_ts_n5000_vars4_lag2_student_t_block10_causal_graph.png (deflated 8%)\n",
            "  adding: content/output_block_missing/nonlinear_ts_n1000_vars6_lag3_student_t_block30_causal_graph.png (deflated 6%)\n",
            "  adding: content/output_block_missing/nonlinear_ts_n3000_vars8_lag4_gaussian_block10_missing.csv (deflated 54%)\n",
            "  adding: content/output_block_missing/nonlinear_ts_n1000_vars4_lag4_gaussian_block30_series.png (deflated 2%)\n",
            "  adding: content/output_block_missing/nonlinear_ts_n3000_vars6_lag4_gaussian_block20_series.png (deflated 1%)\n",
            "  adding: content/output_block_missing/nonlinear_ts_n3000_vars8_lag3_student_t_block20_series.png (deflated 3%)\n",
            "  adding: content/output_block_missing/nonlinear_ts_n1000_vars8_lag4_gaussian_block20_missing.csv (deflated 53%)\n",
            "  adding: content/output_block_missing/nonlinear_ts_n1000_vars8_lag4_gaussian_block30_causal_structure.txt (deflated 63%)\n",
            "  adding: content/output_block_missing/nonlinear_ts_n3000_vars6_lag2_gaussian_block10_missing.csv (deflated 54%)\n",
            "  adding: content/output_block_missing/nonlinear_ts_n1000_vars8_lag3_student_t_block10_statistics.txt (deflated 35%)\n",
            "  adding: content/output_block_missing/nonlinear_ts_n3000_vars4_lag2_gaussian_block10_causal_structure.txt (deflated 50%)\n",
            "  adding: content/output_block_missing/nonlinear_ts_n5000_vars4_lag3_gaussian_block10_statistics.txt (deflated 29%)\n",
            "  adding: content/output_block_missing/nonlinear_ts_n5000_vars4_lag3_gaussian_block20_missing_pattern.png (deflated 5%)\n",
            "  adding: content/output_block_missing/nonlinear_ts_n500_vars8_lag4_gaussian_block20_statistics.txt (deflated 34%)\n",
            "  adding: content/output_block_missing/nonlinear_ts_n1000_vars4_lag4_student_t_block20_missing_pattern.png (deflated 10%)\n",
            "  adding: content/output_block_missing/nonlinear_ts_n5000_vars6_lag2_gaussian_block20_causal_graph.png (deflated 9%)\n",
            "  adding: content/output_block_missing/nonlinear_ts_n5000_vars6_lag4_gaussian_block20_series.png (deflated 1%)\n",
            "  adding: content/output_block_missing/nonlinear_ts_n5000_vars6_lag4_gaussian_block20_statistics.txt (deflated 32%)\n",
            "  adding: content/output_block_missing/nonlinear_ts_n500_vars6_lag2_student_t_block10_statistics.txt (deflated 31%)\n",
            "  adding: content/output_block_missing/nonlinear_ts_n500_vars6_lag2_gaussian_block30_missing.csv (deflated 52%)\n",
            "  adding: content/output_block_missing/nonlinear_ts_n500_vars4_lag3_student_t_block30_missing_pattern.png (deflated 12%)\n",
            "  adding: content/output_block_missing/nonlinear_ts_n3000_vars6_lag3_gaussian_block30_missing.csv (deflated 54%)\n",
            "  adding: content/output_block_missing/nonlinear_ts_n5000_vars8_lag2_student_t_block30_missing_pattern.png (deflated 4%)\n",
            "  adding: content/output_block_missing/nonlinear_ts_n500_vars8_lag4_gaussian_block30_series.png (deflated 1%)\n",
            "  adding: content/output_block_missing/nonlinear_ts_n3000_vars8_lag3_student_t_block10_complete.csv (deflated 54%)\n",
            "  adding: content/output_block_missing/nonlinear_ts_n1000_vars4_lag2_student_t_block10_series.png (deflated 3%)\n",
            "  adding: content/output_block_missing/nonlinear_ts_n1000_vars6_lag3_student_t_block20_complete.csv (deflated 53%)\n",
            "  adding: content/output_block_missing/nonlinear_ts_n3000_vars4_lag4_student_t_block20_causal_graph.png (deflated 6%)\n",
            "  adding: content/output_block_missing/nonlinear_ts_n5000_vars8_lag2_gaussian_block20_series.png (deflated 1%)\n",
            "  adding: content/output_block_missing/nonlinear_ts_n5000_vars8_lag2_student_t_block10_missing_pattern.png (deflated 5%)\n",
            "  adding: content/output_block_missing/nonlinear_ts_n5000_vars6_lag3_student_t_block10_missing_pattern.png (deflated 6%)\n",
            "  adding: content/output_block_missing/nonlinear_ts_n1000_vars6_lag4_gaussian_block10_complete.csv (deflated 53%)\n",
            "  adding: content/output_block_missing/nonlinear_ts_n1000_vars4_lag2_student_t_block10_causal_structure.txt (deflated 50%)\n",
            "  adding: content/output_block_missing/nonlinear_ts_n500_vars6_lag4_gaussian_block10_statistics.txt (deflated 34%)\n",
            "  adding: content/output_block_missing/nonlinear_ts_n3000_vars6_lag4_student_t_block10_causal_structure.txt (deflated 59%)\n",
            "  adding: content/output_block_missing/nonlinear_ts_n500_vars8_lag3_student_t_block30_missing.csv (deflated 52%)\n",
            "  adding: content/output_block_missing/nonlinear_ts_n1000_vars4_lag4_student_t_block30_causal_graph.png (deflated 6%)\n",
            "  adding: content/output_block_missing/nonlinear_ts_n500_vars6_lag2_gaussian_block20_missing.csv (deflated 52%)\n",
            "  adding: content/output_block_missing/nonlinear_ts_n500_vars8_lag3_gaussian_block30_causal_graph.png (deflated 5%)\n",
            "  adding: content/output_block_missing/nonlinear_ts_n3000_vars4_lag2_gaussian_block20_missing.csv (deflated 54%)\n",
            "  adding: content/output_block_missing/nonlinear_ts_n5000_vars4_lag3_gaussian_block30_causal_graph.png (deflated 6%)\n",
            "  adding: content/output_block_missing/nonlinear_ts_n500_vars8_lag2_gaussian_block30_statistics.txt (deflated 36%)\n",
            "  adding: content/output_block_missing/nonlinear_ts_n5000_vars4_lag4_student_t_block10_complete.csv (deflated 54%)\n",
            "  adding: content/output_block_missing/nonlinear_ts_n1000_vars8_lag2_student_t_block20_complete.csv (deflated 53%)\n",
            "  adding: content/output_block_missing/nonlinear_ts_n500_vars8_lag2_gaussian_block10_series.png (deflated 1%)\n",
            "  adding: content/output_block_missing/nonlinear_ts_n5000_vars8_lag4_student_t_block20_missing.csv (deflated 54%)\n",
            "  adding: content/output_block_missing/nonlinear_ts_n3000_vars6_lag2_gaussian_block30_complete.csv (deflated 54%)\n",
            "  adding: content/output_block_missing/nonlinear_ts_n500_vars6_lag4_student_t_block20_causal_graph.png (deflated 7%)\n",
            "  adding: content/output_block_missing/nonlinear_ts_n500_vars6_lag2_gaussian_block20_statistics.txt (deflated 33%)\n",
            "  adding: content/output_block_missing/nonlinear_ts_n500_vars8_lag4_gaussian_block10_statistics.txt (deflated 35%)\n",
            "  adding: content/output_block_missing/nonlinear_ts_n1000_vars4_lag3_gaussian_block30_series.png (deflated 2%)\n",
            "  adding: content/output_block_missing/nonlinear_ts_n3000_vars6_lag2_student_t_block20_causal_structure.txt (deflated 58%)\n",
            "  adding: content/output_block_missing/nonlinear_ts_n3000_vars4_lag4_gaussian_block10_causal_structure.txt (deflated 53%)\n",
            "  adding: content/output_block_missing/nonlinear_ts_n5000_vars8_lag2_gaussian_block30_series.png (deflated 1%)\n",
            "  adding: content/output_block_missing/nonlinear_ts_n3000_vars8_lag3_gaussian_block30_series.png (deflated 1%)\n",
            "  adding: content/output_block_missing/nonlinear_ts_n5000_vars4_lag2_student_t_block30_complete.csv (deflated 54%)\n",
            "  adding: content/output_block_missing/nonlinear_ts_n3000_vars8_lag3_gaussian_block30_missing.csv (deflated 54%)\n",
            "  adding: content/output_block_missing/nonlinear_ts_n1000_vars6_lag2_gaussian_block20_missing.csv (deflated 53%)\n",
            "  adding: content/output_block_missing/nonlinear_ts_n500_vars8_lag3_gaussian_block10_causal_graph.png (deflated 6%)\n",
            "  adding: content/output_block_missing/nonlinear_ts_n3000_vars8_lag4_gaussian_block20_series.png (deflated 1%)\n",
            "  adding: content/output_block_missing/nonlinear_ts_n3000_vars8_lag4_gaussian_block10_complete.csv (deflated 54%)\n",
            "  adding: content/output_block_missing/nonlinear_ts_n500_vars8_lag2_gaussian_block10_missing_pattern.png (deflated 10%)\n",
            "  adding: content/output_block_missing/nonlinear_ts_n500_vars8_lag4_gaussian_block20_series.png (deflated 1%)\n",
            "  adding: content/output_block_missing/nonlinear_ts_n1000_vars6_lag2_student_t_block30_statistics.txt (deflated 31%)\n",
            "  adding: content/output_block_missing/nonlinear_ts_n5000_vars4_lag3_gaussian_block10_missing_pattern.png (deflated 6%)\n",
            "  adding: content/output_block_missing/nonlinear_ts_n3000_vars6_lag2_gaussian_block30_causal_graph.png (deflated 8%)\n",
            "  adding: content/output_block_missing/nonlinear_ts_n1000_vars8_lag3_student_t_block10_complete.csv (deflated 54%)\n",
            "  adding: content/output_block_missing/nonlinear_ts_n1000_vars4_lag3_gaussian_block10_missing.csv (deflated 52%)\n",
            "  adding: content/output_block_missing/nonlinear_ts_n1000_vars4_lag3_student_t_block20_complete.csv (deflated 53%)\n",
            "  adding: content/output_block_missing/nonlinear_ts_n1000_vars8_lag3_student_t_block30_missing.csv (deflated 53%)\n",
            "  adding: content/output_block_missing/nonlinear_ts_n3000_vars6_lag4_gaussian_block10_missing_pattern.png (deflated 7%)\n",
            "  adding: content/output_block_missing/nonlinear_ts_n5000_vars8_lag2_gaussian_block30_statistics.txt (deflated 34%)\n",
            "  adding: content/output_block_missing/nonlinear_ts_n5000_vars6_lag2_gaussian_block10_series.png (deflated 1%)\n",
            "  adding: content/output_block_missing/nonlinear_ts_n1000_vars4_lag3_gaussian_block10_statistics.txt (deflated 34%)\n",
            "  adding: content/output_block_missing/nonlinear_ts_n1000_vars8_lag2_student_t_block20_causal_graph.png (deflated 7%)\n",
            "  adding: content/output_block_missing/nonlinear_ts_n500_vars6_lag3_student_t_block20_complete.csv (deflated 52%)\n",
            "  adding: content/output_block_missing/nonlinear_ts_n5000_vars4_lag2_student_t_block30_series.png (deflated 4%)\n",
            "  adding: content/output_block_missing/nonlinear_ts_n3000_vars8_lag4_gaussian_block30_missing_pattern.png (deflated 5%)\n",
            "  adding: content/output_block_missing/nonlinear_ts_n3000_vars8_lag4_student_t_block20_statistics.txt (deflated 36%)\n",
            "  adding: content/output_block_missing/nonlinear_ts_n5000_vars6_lag3_student_t_block30_missing.csv (deflated 54%)\n",
            "  adding: content/output_block_missing/nonlinear_ts_n1000_vars4_lag3_student_t_block10_complete.csv (deflated 53%)\n",
            "  adding: content/output_block_missing/nonlinear_ts_n500_vars6_lag3_student_t_block10_missing_pattern.png (deflated 13%)\n",
            "  adding: content/output_block_missing/nonlinear_ts_n5000_vars6_lag2_student_t_block20_statistics.txt (deflated 32%)\n",
            "  adding: content/output_block_missing/nonlinear_ts_n500_vars4_lag2_gaussian_block30_causal_graph.png (deflated 8%)\n",
            "  adding: content/output_block_missing/nonlinear_ts_n1000_vars8_lag2_gaussian_block10_series.png (deflated 1%)\n",
            "  adding: content/output_block_missing/nonlinear_ts_n5000_vars4_lag4_gaussian_block30_causal_graph.png (deflated 6%)\n",
            "  adding: content/output_block_missing/nonlinear_ts_n5000_vars6_lag4_gaussian_block10_causal_structure.txt (deflated 59%)\n",
            "  adding: content/output_block_missing/nonlinear_ts_n1000_vars4_lag3_gaussian_block10_causal_structure.txt (deflated 53%)\n",
            "  adding: content/output_block_missing/nonlinear_ts_n1000_vars6_lag2_gaussian_block30_causal_structure.txt (deflated 58%)\n",
            "  adding: content/output_block_missing/nonlinear_ts_n3000_vars8_lag4_student_t_block20_causal_structure.txt (deflated 63%)\n",
            "  adding: content/output_block_missing/nonlinear_ts_n500_vars6_lag3_student_t_block10_causal_structure.txt (deflated 59%)\n",
            "  adding: content/output_block_missing/nonlinear_ts_n500_vars4_lag2_student_t_block30_complete.csv (deflated 51%)\n",
            "  adding: content/output_block_missing/nonlinear_ts_n500_vars4_lag3_student_t_block10_series.png (deflated 4%)\n",
            "  adding: content/output_block_missing/nonlinear_ts_n500_vars8_lag4_gaussian_block10_complete.csv (deflated 53%)\n",
            "  adding: content/output_block_missing/nonlinear_ts_n5000_vars4_lag3_student_t_block20_series.png (deflated 3%)\n",
            "  adding: content/output_block_missing/nonlinear_ts_n3000_vars6_lag3_student_t_block10_causal_structure.txt (deflated 59%)\n",
            "  adding: content/output_block_missing/nonlinear_ts_n500_vars4_lag4_gaussian_block30_missing.csv (deflated 51%)\n",
            "  adding: content/output_block_missing/nonlinear_ts_n1000_vars6_lag4_gaussian_block20_complete.csv (deflated 53%)\n",
            "  adding: content/output_block_missing/nonlinear_ts_n5000_vars6_lag2_student_t_block30_statistics.txt (deflated 32%)\n",
            "  adding: content/output_block_missing/nonlinear_ts_n3000_vars8_lag4_gaussian_block30_statistics.txt (deflated 36%)\n",
            "  adding: content/output_block_missing/nonlinear_ts_n3000_vars8_lag2_gaussian_block10_causal_graph.png (deflated 7%)\n",
            "  adding: content/output_block_missing/nonlinear_ts_n1000_vars4_lag4_gaussian_block10_causal_structure.txt (deflated 53%)\n",
            "  adding: content/output_block_missing/nonlinear_ts_n3000_vars8_lag4_student_t_block30_missing_pattern.png (deflated 5%)\n",
            "  adding: content/output_block_missing/nonlinear_ts_n500_vars4_lag2_student_t_block20_statistics.txt (deflated 29%)\n",
            "  adding: content/output_block_missing/nonlinear_ts_n3000_vars6_lag3_student_t_block20_missing_pattern.png (deflated 6%)\n",
            "  adding: content/output_block_missing/nonlinear_ts_n500_vars8_lag4_gaussian_block30_missing_pattern.png (deflated 9%)\n",
            "  adding: content/output_block_missing/nonlinear_ts_n500_vars8_lag4_student_t_block10_complete.csv (deflated 53%)\n",
            "  adding: content/output_block_missing/nonlinear_ts_n500_vars8_lag3_student_t_block10_causal_structure.txt (deflated 63%)\n",
            "  adding: content/output_block_missing/nonlinear_ts_n500_vars6_lag2_gaussian_block30_series.png (deflated 2%)\n",
            "  adding: content/output_block_missing/nonlinear_ts_n3000_vars8_lag2_student_t_block10_causal_structure.txt (deflated 62%)\n",
            "  adding: content/output_block_missing/nonlinear_ts_n3000_vars6_lag2_gaussian_block10_causal_structure.txt (deflated 58%)\n",
            "  adding: content/output_block_missing/nonlinear_ts_n3000_vars8_lag2_gaussian_block30_statistics.txt (deflated 36%)\n",
            "  adding: content/output_block_missing/nonlinear_ts_n500_vars6_lag2_student_t_block20_statistics.txt (deflated 33%)\n",
            "  adding: content/output_block_missing/nonlinear_ts_n500_vars6_lag3_gaussian_block20_missing_pattern.png (deflated 11%)\n",
            "  adding: content/output_block_missing/nonlinear_ts_n5000_vars4_lag4_student_t_block20_causal_graph.png (deflated 6%)\n",
            "  adding: content/output_block_missing/nonlinear_ts_n1000_vars6_lag2_gaussian_block20_complete.csv (deflated 53%)\n",
            "  adding: content/output_block_missing/nonlinear_ts_n1000_vars8_lag3_student_t_block10_missing_pattern.png (deflated 10%)\n",
            "  adding: content/output_block_missing/nonlinear_ts_n3000_vars6_lag4_gaussian_block30_complete.csv (deflated 54%)\n",
            "  adding: content/output_block_missing/nonlinear_ts_n5000_vars6_lag3_student_t_block20_causal_structure.txt (deflated 59%)\n",
            "  adding: content/output_block_missing/nonlinear_ts_n1000_vars8_lag3_gaussian_block30_causal_structure.txt (deflated 63%)\n",
            "  adding: content/output_block_missing/nonlinear_ts_n500_vars6_lag2_student_t_block20_complete.csv (deflated 52%)\n",
            "  adding: content/output_block_missing/nonlinear_ts_n5000_vars6_lag2_student_t_block10_statistics.txt (deflated 31%)\n",
            "  adding: content/output_block_missing/nonlinear_ts_n1000_vars8_lag2_gaussian_block10_missing.csv (deflated 53%)\n",
            "  adding: content/output_block_missing/nonlinear_ts_n1000_vars4_lag2_student_t_block10_statistics.txt (deflated 30%)\n",
            "  adding: content/output_block_missing/nonlinear_ts_n500_vars4_lag3_gaussian_block30_causal_structure.txt (deflated 53%)\n",
            "  adding: content/output_block_missing/nonlinear_ts_n5000_vars4_lag3_student_t_block20_causal_structure.txt (deflated 53%)\n",
            "  adding: content/output_block_missing/nonlinear_ts_n3000_vars6_lag3_gaussian_block20_causal_graph.png (deflated 6%)\n",
            "  adding: content/output_block_missing/nonlinear_ts_n500_vars8_lag4_gaussian_block10_causal_structure.txt (deflated 63%)\n",
            "  adding: content/output_block_missing/nonlinear_ts_n5000_vars4_lag2_gaussian_block10_causal_graph.png (deflated 8%)\n",
            "  adding: content/output_block_missing/nonlinear_ts_n5000_vars8_lag4_gaussian_block10_missing_pattern.png (deflated 4%)\n",
            "  adding: content/output_block_missing/nonlinear_ts_n500_vars8_lag2_student_t_block30_statistics.txt (deflated 36%)\n",
            "  adding: content/output_block_missing/nonlinear_ts_n500_vars4_lag3_student_t_block20_missing_pattern.png (deflated 14%)\n",
            "  adding: content/output_block_missing/nonlinear_ts_n3000_vars6_lag4_gaussian_block20_missing.csv (deflated 54%)\n",
            "  adding: content/output_block_missing/nonlinear_ts_n500_vars8_lag3_gaussian_block10_missing.csv (deflated 52%)\n",
            "  adding: content/output_block_missing/nonlinear_ts_n500_vars6_lag3_gaussian_block10_missing.csv (deflated 52%)\n",
            "  adding: content/output_block_missing/nonlinear_ts_n1000_vars6_lag3_student_t_block20_statistics.txt (deflated 32%)\n",
            "  adding: content/output_block_missing/nonlinear_ts_n3000_vars8_lag4_student_t_block10_statistics.txt (deflated 35%)\n",
            "  adding: content/output_block_missing/nonlinear_ts_n500_vars6_lag3_gaussian_block30_causal_graph.png (deflated 6%)\n",
            "  adding: content/output_block_missing/nonlinear_ts_n3000_vars8_lag3_gaussian_block30_complete.csv (deflated 54%)\n",
            "  adding: content/output_block_missing/nonlinear_ts_n5000_vars4_lag3_student_t_block20_missing.csv (deflated 54%)\n",
            "  adding: content/output_block_missing/nonlinear_ts_n3000_vars4_lag2_gaussian_block10_missing.csv (deflated 54%)\n",
            "  adding: content/output_block_missing/nonlinear_ts_n5000_vars4_lag2_student_t_block20_causal_graph.png (deflated 8%)\n",
            "  adding: content/output_block_missing/nonlinear_ts_n1000_vars6_lag2_gaussian_block10_statistics.txt (deflated 31%)\n",
            "  adding: content/output_block_missing/nonlinear_ts_n1000_vars8_lag3_gaussian_block10_missing_pattern.png (deflated 10%)\n",
            "  adding: content/output_block_missing/nonlinear_ts_n5000_vars6_lag3_gaussian_block30_complete.csv (deflated 54%)\n",
            "  adding: content/output_block_missing/nonlinear_ts_n5000_vars6_lag2_gaussian_block10_missing.csv (deflated 54%)\n",
            "  adding: content/output_block_missing/nonlinear_ts_n1000_vars6_lag2_student_t_block30_missing.csv (deflated 53%)\n",
            "  adding: content/output_block_missing/nonlinear_ts_n5000_vars6_lag2_gaussian_block30_causal_structure.txt (deflated 58%)\n",
            "  adding: content/output_block_missing/nonlinear_ts_n1000_vars4_lag4_student_t_block30_causal_structure.txt (deflated 53%)\n",
            "  adding: content/output_block_missing/nonlinear_ts_n500_vars6_lag3_student_t_block10_series.png (deflated 4%)\n",
            "  adding: content/output_block_missing/nonlinear_ts_n1000_vars4_lag2_gaussian_block10_statistics.txt (deflated 34%)\n",
            "  adding: content/output_block_missing/nonlinear_ts_n5000_vars8_lag3_gaussian_block30_statistics.txt (deflated 34%)\n",
            "  adding: content/output_block_missing/nonlinear_ts_n5000_vars4_lag3_gaussian_block20_series.png (deflated 1%)\n",
            "  adding: content/output_block_missing/nonlinear_ts_n3000_vars4_lag2_student_t_block10_missing_pattern.png (deflated 7%)\n",
            "  adding: content/output_block_missing/nonlinear_ts_n500_vars6_lag3_gaussian_block10_causal_structure.txt (deflated 59%)\n",
            "  adding: content/output_block_missing/nonlinear_ts_n3000_vars4_lag3_student_t_block10_series.png (deflated 3%)\n",
            "  adding: content/output_block_missing/nonlinear_ts_n3000_vars6_lag2_gaussian_block20_series.png (deflated 1%)\n",
            "  adding: content/output_block_missing/nonlinear_ts_n5000_vars6_lag3_student_t_block10_causal_graph.png (deflated 6%)\n",
            "  adding: content/output_block_missing/nonlinear_ts_n1000_vars4_lag4_student_t_block30_missing.csv (deflated 52%)\n",
            "  adding: content/output_block_missing/nonlinear_ts_n5000_vars4_lag4_student_t_block20_causal_structure.txt (deflated 53%)\n",
            "  adding: content/output_block_missing/nonlinear_ts_n1000_vars8_lag4_student_t_block20_missing.csv (deflated 53%)\n",
            "  adding: content/output_block_missing/nonlinear_ts_n500_vars8_lag3_gaussian_block30_statistics.txt (deflated 36%)\n",
            "  adding: content/output_block_missing/nonlinear_ts_n1000_vars4_lag4_gaussian_block10_missing_pattern.png (deflated 12%)\n",
            "  adding: content/output_block_missing/nonlinear_ts_n500_vars8_lag3_student_t_block30_complete.csv (deflated 53%)\n",
            "  adding: content/output_block_missing/nonlinear_ts_n3000_vars6_lag4_student_t_block30_causal_graph.png (deflated 7%)\n",
            "  adding: content/output_block_missing/nonlinear_ts_n5000_vars6_lag4_student_t_block30_series.png (deflated 3%)\n",
            "  adding: content/output_block_missing/nonlinear_ts_n500_vars8_lag2_gaussian_block10_causal_graph.png (deflated 7%)\n",
            "  adding: content/output_block_missing/nonlinear_ts_n3000_vars6_lag4_gaussian_block20_causal_structure.txt (deflated 59%)\n",
            "  adding: content/output_block_missing/nonlinear_ts_n3000_vars4_lag3_student_t_block30_missing_pattern.png (deflated 6%)\n",
            "  adding: content/output_block_missing/nonlinear_ts_n5000_vars6_lag4_gaussian_block20_causal_structure.txt (deflated 59%)\n",
            "  adding: content/output_block_missing/nonlinear_ts_n3000_vars6_lag4_student_t_block30_missing_pattern.png (deflated 6%)\n",
            "  adding: content/output_block_missing/nonlinear_ts_n3000_vars8_lag4_gaussian_block30_series.png (deflated 1%)\n",
            "  adding: content/output_block_missing/nonlinear_ts_n1000_vars6_lag4_student_t_block20_missing_pattern.png (deflated 10%)\n",
            "  adding: content/output_block_missing/nonlinear_ts_n5000_vars4_lag3_gaussian_block10_causal_structure.txt (deflated 53%)\n",
            "  adding: content/output_block_missing/nonlinear_ts_n5000_vars6_lag4_gaussian_block30_missing.csv (deflated 54%)\n",
            "  adding: content/output_block_missing/nonlinear_ts_n3000_vars6_lag2_student_t_block30_missing_pattern.png (deflated 6%)\n",
            "  adding: content/output_block_missing/nonlinear_ts_n5000_vars6_lag2_student_t_block30_complete.csv (deflated 54%)\n",
            "  adding: content/output_block_missing/nonlinear_ts_n1000_vars4_lag4_gaussian_block20_causal_graph.png (deflated 6%)\n",
            "  adding: content/output_block_missing/nonlinear_ts_n1000_vars6_lag3_student_t_block20_series.png (deflated 3%)\n",
            "  adding: content/output_block_missing/nonlinear_ts_n500_vars8_lag2_student_t_block30_missing_pattern.png (deflated 8%)\n",
            "  adding: content/output_block_missing/nonlinear_ts_n3000_vars6_lag2_student_t_block10_causal_graph.png (deflated 8%)\n",
            "  adding: content/output_block_missing/nonlinear_ts_n3000_vars4_lag3_gaussian_block10_series.png (deflated 1%)\n",
            "  adding: content/output_block_missing/nonlinear_ts_n5000_vars6_lag4_student_t_block20_statistics.txt (deflated 32%)\n",
            "  adding: content/output_block_missing/nonlinear_ts_n500_vars8_lag4_gaussian_block20_causal_graph.png (deflated 5%)\n",
            "  adding: content/output_block_missing/nonlinear_ts_n1000_vars8_lag4_gaussian_block10_causal_structure.txt (deflated 63%)\n",
            "  adding: content/output_block_missing/nonlinear_ts_n500_vars6_lag4_student_t_block30_causal_structure.txt (deflated 59%)\n",
            "  adding: content/output_block_missing/nonlinear_ts_n5000_vars8_lag3_student_t_block30_causal_graph.png (deflated 5%)\n",
            "  adding: content/output_block_missing/nonlinear_ts_n500_vars6_lag4_gaussian_block10_causal_graph.png (deflated 7%)\n",
            "  adding: content/output_block_missing/nonlinear_ts_n5000_vars6_lag3_gaussian_block10_series.png (deflated 1%)\n",
            "  adding: content/output_block_missing/nonlinear_ts_n5000_vars6_lag4_gaussian_block10_statistics.txt (deflated 32%)\n",
            "  adding: content/output_block_missing/nonlinear_ts_n3000_vars8_lag3_gaussian_block30_causal_graph.png (deflated 6%)\n",
            "  adding: content/output_block_missing/nonlinear_ts_n3000_vars4_lag2_student_t_block10_causal_structure.txt (deflated 50%)\n",
            "  adding: content/output_block_missing/nonlinear_ts_n3000_vars4_lag3_student_t_block30_causal_graph.png (deflated 6%)\n",
            "  adding: content/output_block_missing/nonlinear_ts_n3000_vars6_lag2_gaussian_block10_series.png (deflated 1%)\n",
            "  adding: content/output_block_missing/nonlinear_ts_n500_vars4_lag2_student_t_block10_causal_graph.png (deflated 8%)\n",
            "  adding: content/output_block_missing/nonlinear_ts_n3000_vars4_lag3_gaussian_block30_series.png (deflated 1%)\n",
            "  adding: content/output_block_missing/nonlinear_ts_n500_vars6_lag4_student_t_block20_complete.csv (deflated 52%)\n",
            "  adding: content/output_block_missing/nonlinear_ts_n3000_vars4_lag2_gaussian_block20_causal_graph.png (deflated 7%)\n",
            "  adding: content/output_block_missing/nonlinear_ts_n5000_vars6_lag3_gaussian_block10_causal_graph.png (deflated 6%)\n",
            "  adding: content/output_block_missing/nonlinear_ts_n3000_vars4_lag4_gaussian_block20_causal_graph.png (deflated 6%)\n",
            "  adding: content/output_block_missing/nonlinear_ts_n3000_vars8_lag4_gaussian_block20_causal_graph.png (deflated 5%)\n",
            "  adding: content/output_block_missing/nonlinear_ts_n500_vars4_lag3_student_t_block30_complete.csv (deflated 51%)\n",
            "  adding: content/output_block_missing/nonlinear_ts_n5000_vars8_lag4_gaussian_block20_complete.csv (deflated 55%)\n",
            "  adding: content/output_block_missing/nonlinear_ts_n500_vars8_lag2_student_t_block20_missing_pattern.png (deflated 9%)\n",
            "  adding: content/output_block_missing/nonlinear_ts_n1000_vars6_lag3_gaussian_block20_causal_graph.png (deflated 6%)\n",
            "  adding: content/output_block_missing/nonlinear_ts_n3000_vars4_lag4_gaussian_block30_missing_pattern.png (deflated 7%)\n",
            "  adding: content/output_block_missing/nonlinear_ts_n500_vars8_lag2_student_t_block30_series.png (deflated 4%)\n",
            "  adding: content/output_block_missing/nonlinear_ts_n500_vars4_lag3_student_t_block10_complete.csv (deflated 51%)\n",
            "  adding: content/output_block_missing/nonlinear_ts_n5000_vars6_lag2_gaussian_block20_series.png (deflated 1%)\n",
            "  adding: content/output_block_missing/nonlinear_ts_n3000_vars8_lag2_gaussian_block10_statistics.txt (deflated 36%)\n",
            "  adding: content/output_block_missing/nonlinear_ts_n1000_vars4_lag2_gaussian_block20_series.png (deflated 2%)\n",
            "  adding: content/output_block_missing/nonlinear_ts_n5000_vars4_lag2_gaussian_block30_statistics.txt (deflated 29%)\n",
            "  adding: content/output_block_missing/nonlinear_ts_n500_vars4_lag4_gaussian_block30_causal_graph.png (deflated 6%)\n",
            "  adding: content/output_block_missing/nonlinear_ts_n500_vars6_lag2_student_t_block10_causal_structure.txt (deflated 58%)\n",
            "  adding: content/output_block_missing/nonlinear_ts_n3000_vars8_lag3_student_t_block10_causal_structure.txt (deflated 63%)\n",
            "  adding: content/output_block_missing/nonlinear_ts_n3000_vars8_lag3_gaussian_block30_missing_pattern.png (deflated 5%)\n",
            "  adding: content/output_block_missing/nonlinear_ts_n3000_vars4_lag2_student_t_block30_causal_structure.txt (deflated 50%)\n",
            "  adding: content/output_block_missing/nonlinear_ts_n1000_vars4_lag4_student_t_block30_missing_pattern.png (deflated 11%)\n",
            "  adding: content/output_block_missing/nonlinear_ts_n3000_vars8_lag3_gaussian_block20_series.png (deflated 1%)\n",
            "  adding: content/output_block_missing/nonlinear_ts_n3000_vars6_lag4_student_t_block20_causal_graph.png (deflated 6%)\n",
            "  adding: content/output_block_missing/nonlinear_ts_n1000_vars6_lag3_student_t_block20_missing_pattern.png (deflated 10%)\n",
            "  adding: content/output_block_missing/nonlinear_ts_n1000_vars6_lag3_student_t_block10_missing.csv (deflated 53%)\n",
            "  adding: content/output_block_missing/nonlinear_ts_n3000_vars4_lag2_gaussian_block30_statistics.txt (deflated 28%)\n",
            "  adding: content/output_block_missing/nonlinear_ts_n1000_vars6_lag2_gaussian_block10_missing_pattern.png (deflated 11%)\n",
            "  adding: content/output_block_missing/nonlinear_ts_n5000_vars8_lag2_student_t_block10_series.png (deflated 3%)\n",
            "  adding: content/output_block_missing/nonlinear_ts_n5000_vars8_lag3_gaussian_block10_missing.csv (deflated 54%)\n",
            "  adding: content/output_block_missing/nonlinear_ts_n1000_vars6_lag4_student_t_block10_causal_graph.png (deflated 7%)\n",
            "  adding: content/output_block_missing/nonlinear_ts_n5000_vars6_lag4_gaussian_block10_missing.csv (deflated 54%)\n",
            "  adding: content/output_block_missing/nonlinear_ts_n1000_vars8_lag4_gaussian_block10_causal_graph.png (deflated 5%)\n",
            "  adding: content/output_block_missing/nonlinear_ts_n1000_vars6_lag4_student_t_block10_missing.csv (deflated 53%)\n",
            "  adding: content/output_block_missing/nonlinear_ts_n5000_vars6_lag2_student_t_block10_missing_pattern.png (deflated 6%)\n",
            "  adding: content/output_block_missing/nonlinear_ts_n500_vars6_lag3_student_t_block10_missing.csv (deflated 52%)\n",
            "  adding: content/output_block_missing/nonlinear_ts_n500_vars4_lag4_gaussian_block10_causal_graph.png (deflated 6%)\n",
            "  adding: content/output_block_missing/nonlinear_ts_n1000_vars6_lag3_gaussian_block10_statistics.txt (deflated 31%)\n",
            "  adding: content/output_block_missing/nonlinear_ts_n500_vars4_lag4_gaussian_block10_complete.csv (deflated 52%)\n",
            "  adding: content/output_block_missing/nonlinear_ts_n500_vars8_lag2_student_t_block20_series.png (deflated 4%)\n",
            "  adding: content/output_block_missing/nonlinear_ts_n1000_vars6_lag2_gaussian_block20_causal_graph.png (deflated 8%)\n",
            "  adding: content/output_block_missing/nonlinear_ts_n3000_vars6_lag4_gaussian_block10_causal_structure.txt (deflated 59%)\n",
            "  adding: content/output_block_missing/nonlinear_ts_n5000_vars6_lag3_student_t_block20_complete.csv (deflated 54%)\n",
            "  adding: content/output_block_missing/nonlinear_ts_n1000_vars6_lag3_gaussian_block10_missing.csv (deflated 53%)\n",
            "  adding: content/output_block_missing/nonlinear_ts_n3000_vars8_lag3_gaussian_block20_causal_structure.txt (deflated 63%)\n",
            "  adding: content/output_block_missing/nonlinear_ts_n500_vars4_lag2_student_t_block30_statistics.txt (deflated 33%)\n",
            "  adding: content/output_block_missing/nonlinear_ts_n500_vars4_lag4_gaussian_block20_missing_pattern.png (deflated 13%)\n",
            "  adding: content/output_block_missing/nonlinear_ts_n3000_vars6_lag3_student_t_block20_statistics.txt (deflated 33%)\n",
            "  adding: content/output_block_missing/nonlinear_ts_n500_vars6_lag4_student_t_block10_series.png (deflated 4%)\n",
            "  adding: content/output_block_missing/nonlinear_ts_n5000_vars8_lag3_gaussian_block20_causal_graph.png (deflated 6%)\n",
            "  adding: content/output_block_missing/nonlinear_ts_n500_vars8_lag2_student_t_block30_causal_structure.txt (deflated 62%)\n",
            "  adding: content/output_block_missing/nonlinear_ts_n500_vars8_lag2_student_t_block20_causal_structure.txt (deflated 62%)\n",
            "  adding: content/output_block_missing/nonlinear_ts_n500_vars4_lag2_gaussian_block10_causal_graph.png (deflated 8%)\n",
            "  adding: content/output_block_missing/nonlinear_ts_n500_vars8_lag2_gaussian_block30_missing_pattern.png (deflated 9%)\n",
            "  adding: content/output_block_missing/nonlinear_ts_n1000_vars6_lag2_student_t_block20_statistics.txt (deflated 32%)\n",
            "  adding: content/output_block_missing/nonlinear_ts_n5000_vars6_lag2_gaussian_block20_missing.csv (deflated 54%)\n",
            "  adding: content/output_block_missing/nonlinear_ts_n5000_vars4_lag2_student_t_block20_statistics.txt (deflated 28%)\n",
            "  adding: content/output_block_missing/nonlinear_ts_n5000_vars6_lag3_student_t_block10_complete.csv (deflated 54%)\n",
            "  adding: content/output_block_missing/nonlinear_ts_n5000_vars6_lag4_gaussian_block30_statistics.txt (deflated 31%)\n",
            "  adding: content/output_block_missing/nonlinear_ts_n500_vars4_lag2_student_t_block10_missing.csv (deflated 51%)\n",
            "  adding: content/output_block_missing/nonlinear_ts_n500_vars6_lag3_student_t_block20_missing_pattern.png (deflated 11%)\n",
            "  adding: content/output_block_missing/nonlinear_ts_n5000_vars4_lag3_student_t_block20_missing_pattern.png (deflated 5%)\n",
            "  adding: content/output_block_missing/nonlinear_ts_n3000_vars4_lag2_student_t_block20_complete.csv (deflated 54%)\n",
            "  adding: content/output_block_missing/nonlinear_ts_n5000_vars8_lag4_gaussian_block30_complete.csv (deflated 55%)\n",
            "  adding: content/output_block_missing/nonlinear_ts_n3000_vars6_lag4_student_t_block20_missing.csv (deflated 54%)\n",
            "  adding: content/output_block_missing/nonlinear_ts_n3000_vars8_lag2_gaussian_block10_missing.csv (deflated 54%)\n",
            "  adding: content/output_block_missing/nonlinear_ts_n1000_vars8_lag4_gaussian_block30_series.png (deflated 1%)\n",
            "  adding: content/output_block_missing/nonlinear_ts_n3000_vars6_lag2_student_t_block30_statistics.txt (deflated 31%)\n",
            "  adding: content/output_block_missing/nonlinear_ts_n5000_vars4_lag3_student_t_block10_missing_pattern.png (deflated 6%)\n",
            "  adding: content/output_block_missing/nonlinear_ts_n5000_vars6_lag2_gaussian_block30_missing.csv (deflated 54%)\n",
            "  adding: content/output_block_missing/nonlinear_ts_n500_vars4_lag4_gaussian_block30_missing_pattern.png (deflated 11%)\n",
            "  adding: content/output_block_missing/nonlinear_ts_n1000_vars4_lag3_gaussian_block30_missing_pattern.png (deflated 10%)\n",
            "  adding: content/output_block_missing/nonlinear_ts_n3000_vars8_lag3_student_t_block10_causal_graph.png (deflated 5%)\n",
            "  adding: content/output_block_missing/nonlinear_ts_n5000_vars6_lag4_gaussian_block10_complete.csv (deflated 54%)\n",
            "  adding: content/output_block_missing/nonlinear_ts_n1000_vars4_lag2_gaussian_block20_complete.csv (deflated 53%)\n",
            "  adding: content/output_block_missing/nonlinear_ts_n1000_vars4_lag4_student_t_block10_series.png (deflated 3%)\n",
            "  adding: content/output_block_missing/nonlinear_ts_n500_vars6_lag4_student_t_block30_causal_graph.png (deflated 7%)\n",
            "  adding: content/output_block_missing/nonlinear_ts_n3000_vars8_lag3_gaussian_block20_missing.csv (deflated 54%)\n",
            "  adding: content/output_block_missing/nonlinear_ts_n3000_vars8_lag4_student_t_block10_complete.csv (deflated 54%)\n",
            "  adding: content/output_block_missing/nonlinear_ts_n1000_vars4_lag4_student_t_block20_causal_structure.txt (deflated 53%)\n",
            "  adding: content/output_block_missing/nonlinear_ts_n1000_vars6_lag2_gaussian_block30_missing_pattern.png (deflated 10%)\n",
            "  adding: content/output_block_missing/nonlinear_ts_n5000_vars4_lag2_student_t_block30_causal_graph.png (deflated 8%)\n",
            "  adding: content/output_block_missing/nonlinear_ts_n3000_vars4_lag3_gaussian_block10_causal_structure.txt (deflated 53%)\n",
            "  adding: content/output_block_missing/nonlinear_ts_n3000_vars4_lag2_gaussian_block30_series.png (deflated 1%)\n",
            "  adding: content/output_block_missing/nonlinear_ts_n3000_vars4_lag4_gaussian_block20_statistics.txt (deflated 31%)\n",
            "  adding: content/output_block_missing/nonlinear_ts_n500_vars8_lag2_student_t_block20_statistics.txt (deflated 35%)\n",
            "  adding: content/output_block_missing/nonlinear_ts_n5000_vars6_lag3_student_t_block10_missing.csv (deflated 54%)\n",
            "  adding: content/output_block_missing/nonlinear_ts_n3000_vars4_lag4_student_t_block20_missing_pattern.png (deflated 7%)\n",
            "  adding: content/output_block_missing/nonlinear_ts_n3000_vars4_lag4_gaussian_block10_series.png (deflated 1%)\n",
            "  adding: content/output_block_missing/nonlinear_ts_n1000_vars4_lag2_gaussian_block20_causal_structure.txt (deflated 50%)\n",
            "  adding: content/output_block_missing/nonlinear_ts_n3000_vars8_lag3_student_t_block20_missing.csv (deflated 54%)\n",
            "  adding: content/output_block_missing/nonlinear_ts_n500_vars8_lag4_gaussian_block30_causal_structure.txt (deflated 63%)\n",
            "  adding: content/output_block_missing/nonlinear_ts_n1000_vars6_lag4_gaussian_block30_missing_pattern.png (deflated 10%)\n",
            "  adding: content/output_block_missing/nonlinear_ts_n500_vars8_lag2_gaussian_block20_series.png (deflated 1%)\n",
            "  adding: content/output_block_missing/nonlinear_ts_n5000_vars8_lag4_gaussian_block10_statistics.txt (deflated 36%)\n",
            "  adding: content/output_block_missing/nonlinear_ts_n1000_vars6_lag4_gaussian_block30_missing.csv (deflated 53%)\n",
            "  adding: content/output_block_missing/nonlinear_ts_n5000_vars8_lag3_gaussian_block20_missing_pattern.png (deflated 4%)\n",
            "  adding: content/output_block_missing/nonlinear_ts_n3000_vars4_lag2_gaussian_block10_causal_graph.png (deflated 8%)\n",
            "  adding: content/output_block_missing/nonlinear_ts_n1000_vars6_lag3_student_t_block10_missing_pattern.png (deflated 10%)\n",
            "  adding: content/output_block_missing/nonlinear_ts_n3000_vars4_lag3_student_t_block10_causal_structure.txt (deflated 53%)\n",
            "  adding: content/output_block_missing/nonlinear_ts_n5000_vars8_lag3_student_t_block10_missing_pattern.png (deflated 5%)\n",
            "  adding: content/output_block_missing/nonlinear_ts_n5000_vars4_lag2_student_t_block10_statistics.txt (deflated 30%)\n",
            "  adding: content/output_block_missing/nonlinear_ts_n500_vars6_lag4_gaussian_block30_complete.csv (deflated 53%)\n",
            "  adding: content/output_block_missing/nonlinear_ts_n3000_vars6_lag4_gaussian_block10_statistics.txt (deflated 33%)\n",
            "  adding: content/output_block_missing/nonlinear_ts_n5000_vars4_lag3_student_t_block20_causal_graph.png (deflated 6%)\n",
            "  adding: content/output_block_missing/nonlinear_ts_n1000_vars6_lag3_student_t_block30_missing.csv (deflated 53%)\n",
            "  adding: content/output_block_missing/nonlinear_ts_n1000_vars4_lag2_gaussian_block20_missing.csv (deflated 52%)\n",
            "  adding: content/output_block_missing/nonlinear_ts_n500_vars4_lag3_gaussian_block10_causal_graph.png (deflated 6%)\n",
            "  adding: content/output_block_missing/nonlinear_ts_n500_vars6_lag2_gaussian_block10_statistics.txt (deflated 34%)\n",
            "  adding: content/output_block_missing/nonlinear_ts_n1000_vars4_lag3_gaussian_block20_statistics.txt (deflated 29%)\n",
            "  adding: content/output_block_missing/nonlinear_ts_n5000_vars8_lag4_gaussian_block30_series.png (deflated 1%)\n",
            "  adding: content/output_block_missing/nonlinear_ts_n5000_vars6_lag2_gaussian_block20_causal_structure.txt (deflated 58%)\n",
            "  adding: content/output_block_missing/nonlinear_ts_n3000_vars4_lag4_gaussian_block20_complete.csv (deflated 54%)\n",
            "  adding: content/output_block_missing/nonlinear_ts_n3000_vars4_lag3_student_t_block20_causal_structure.txt (deflated 53%)\n",
            "  adding: content/output_block_missing/nonlinear_ts_n1000_vars6_lag4_gaussian_block30_series.png (deflated 1%)\n",
            "  adding: content/output_block_missing/nonlinear_ts_n500_vars8_lag4_gaussian_block20_complete.csv (deflated 53%)\n",
            "  adding: content/output_block_missing/nonlinear_ts_n1000_vars8_lag2_student_t_block20_missing_pattern.png (deflated 9%)\n",
            "  adding: content/output_block_missing/nonlinear_ts_n5000_vars8_lag3_gaussian_block30_missing_pattern.png (deflated 4%)\n",
            "  adding: content/output_block_missing/nonlinear_ts_n500_vars8_lag3_student_t_block20_causal_graph.png (deflated 6%)\n",
            "  adding: content/output_block_missing/nonlinear_ts_n500_vars8_lag3_student_t_block30_causal_structure.txt (deflated 63%)\n",
            "  adding: content/output_block_missing/nonlinear_ts_n1000_vars6_lag2_gaussian_block10_missing.csv (deflated 53%)\n",
            "  adding: content/output_block_missing/nonlinear_ts_n5000_vars8_lag2_gaussian_block20_causal_graph.png (deflated 7%)\n",
            "  adding: content/output_block_missing/nonlinear_ts_n500_vars6_lag3_gaussian_block20_causal_graph.png (deflated 6%)\n",
            "  adding: content/output_block_missing/nonlinear_ts_n3000_vars8_lag2_student_t_block20_complete.csv (deflated 54%)\n",
            "  adding: content/output_block_missing/nonlinear_ts_n3000_vars6_lag4_student_t_block20_causal_structure.txt (deflated 59%)\n",
            "  adding: content/output_block_missing/nonlinear_ts_n1000_vars4_lag4_student_t_block30_complete.csv (deflated 53%)\n",
            "  adding: content/output_block_missing/nonlinear_ts_n500_vars6_lag2_student_t_block30_complete.csv (deflated 52%)\n",
            "  adding: content/output_block_missing/nonlinear_ts_n1000_vars4_lag2_student_t_block20_complete.csv (deflated 53%)\n",
            "  adding: content/output_block_missing/nonlinear_ts_n5000_vars6_lag4_student_t_block10_causal_structure.txt (deflated 59%)\n",
            "  adding: content/output_block_missing/nonlinear_ts_n500_vars8_lag2_student_t_block30_missing.csv (deflated 52%)\n",
            "  adding: content/output_block_missing/nonlinear_ts_n3000_vars8_lag2_gaussian_block30_missing.csv (deflated 54%)\n",
            "  adding: content/output_block_missing/nonlinear_ts_n5000_vars8_lag4_gaussian_block10_complete.csv (deflated 55%)\n",
            "  adding: content/output_block_missing/nonlinear_ts_n3000_vars4_lag4_student_t_block10_complete.csv (deflated 54%)\n",
            "  adding: content/output_block_missing/nonlinear_ts_n5000_vars8_lag2_gaussian_block10_missing_pattern.png (deflated 4%)\n",
            "  adding: content/output_block_missing/nonlinear_ts_n3000_vars8_lag3_student_t_block30_causal_graph.png (deflated 6%)\n",
            "  adding: content/output_block_missing/nonlinear_ts_n1000_vars8_lag4_gaussian_block30_missing_pattern.png (deflated 9%)\n",
            "  adding: content/output_block_missing/nonlinear_ts_n5000_vars8_lag3_gaussian_block20_complete.csv (deflated 55%)\n",
            "  adding: content/output_block_missing/nonlinear_ts_n500_vars6_lag2_student_t_block10_series.png (deflated 4%)\n",
            "  adding: content/output_block_missing/nonlinear_ts_n1000_vars6_lag2_gaussian_block30_statistics.txt (deflated 33%)\n",
            "  adding: content/output_block_missing/nonlinear_ts_n1000_vars6_lag2_student_t_block30_causal_structure.txt (deflated 58%)\n",
            "  adding: content/output_block_missing/nonlinear_ts_n3000_vars6_lag2_gaussian_block20_missing.csv (deflated 54%)\n",
            "  adding: content/output_block_missing/nonlinear_ts_n3000_vars4_lag2_gaussian_block20_causal_structure.txt (deflated 50%)\n",
            "  adding: content/output_block_missing/nonlinear_ts_n5000_vars4_lag2_student_t_block30_missing_pattern.png (deflated 4%)\n",
            "  adding: content/output_block_missing/nonlinear_ts_n500_vars8_lag4_student_t_block10_causal_structure.txt (deflated 63%)\n",
            "  adding: content/output_block_missing/nonlinear_ts_n500_vars4_lag2_gaussian_block30_missing.csv (deflated 51%)\n",
            "  adding: content/output_block_missing/nonlinear_ts_n3000_vars6_lag2_student_t_block30_complete.csv (deflated 54%)\n",
            "  adding: content/output_block_missing/nonlinear_ts_n1000_vars4_lag3_student_t_block10_causal_graph.png (deflated 6%)\n",
            "  adding: content/output_block_missing/nonlinear_ts_n500_vars4_lag3_gaussian_block20_series.png (deflated 1%)\n",
            "  adding: content/output_block_missing/nonlinear_ts_n5000_vars8_lag4_gaussian_block30_missing_pattern.png (deflated 4%)\n",
            "  adding: content/output_block_missing/nonlinear_ts_n500_vars8_lag3_student_t_block20_series.png (deflated 4%)\n",
            "  adding: content/output_block_missing/nonlinear_ts_n5000_vars6_lag3_gaussian_block30_missing.csv (deflated 54%)\n",
            "  adding: content/output_block_missing/nonlinear_ts_n3000_vars6_lag4_gaussian_block30_causal_structure.txt (deflated 59%)\n",
            "  adding: content/output_block_missing/nonlinear_ts_n1000_vars6_lag4_gaussian_block20_causal_graph.png (deflated 7%)\n",
            "  adding: content/output_block_missing/nonlinear_ts_n5000_vars4_lag2_student_t_block10_missing_pattern.png (deflated 6%)\n",
            "  adding: content/output_block_missing/nonlinear_ts_n500_vars4_lag2_gaussian_block10_series.png (deflated 2%)\n",
            "  adding: content/output_block_missing/nonlinear_ts_n500_vars8_lag2_gaussian_block30_causal_graph.png (deflated 7%)\n",
            "  adding: content/output_block_missing/nonlinear_ts_n5000_vars4_lag2_gaussian_block30_series.png (deflated 1%)\n",
            "  adding: content/output_block_missing/nonlinear_ts_n3000_vars8_lag3_gaussian_block10_series.png (deflated 1%)\n",
            "  adding: content/output_block_missing/nonlinear_ts_n3000_vars6_lag2_student_t_block10_missing_pattern.png (deflated 7%)\n",
            "  adding: content/output_block_missing/nonlinear_ts_n5000_vars6_lag4_gaussian_block20_complete.csv (deflated 54%)\n",
            "  adding: content/output_block_missing/nonlinear_ts_n1000_vars4_lag3_student_t_block10_statistics.txt (deflated 30%)\n",
            "  adding: content/output_block_missing/nonlinear_ts_n5000_vars4_lag4_student_t_block20_series.png (deflated 3%)\n",
            "  adding: content/output_block_missing/nonlinear_ts_n500_vars4_lag4_gaussian_block30_causal_structure.txt (deflated 53%)\n",
            "  adding: content/output_block_missing/nonlinear_ts_n500_vars6_lag4_gaussian_block20_causal_structure.txt (deflated 59%)\n",
            "  adding: content/output_block_missing/nonlinear_ts_n3000_vars4_lag4_gaussian_block30_complete.csv (deflated 54%)\n",
            "  adding: content/output_block_missing/nonlinear_ts_n5000_vars8_lag2_gaussian_block30_missing.csv (deflated 55%)\n",
            "  adding: content/output_block_missing/nonlinear_ts_n5000_vars6_lag4_student_t_block20_missing.csv (deflated 54%)\n",
            "  adding: content/output_block_missing/nonlinear_ts_n1000_vars8_lag3_student_t_block30_statistics.txt (deflated 35%)\n",
            "  adding: content/output_block_missing/nonlinear_ts_n500_vars6_lag2_student_t_block10_complete.csv (deflated 52%)\n",
            "  adding: content/output_block_missing/nonlinear_ts_n1000_vars4_lag2_gaussian_block20_statistics.txt (deflated 29%)\n",
            "  adding: content/output_block_missing/nonlinear_ts_n1000_vars4_lag4_student_t_block30_statistics.txt (deflated 29%)\n",
            "  adding: content/output_block_missing/nonlinear_ts_n1000_vars6_lag4_student_t_block20_missing.csv (deflated 53%)\n",
            "  adding: content/output_block_missing/nonlinear_ts_n1000_vars6_lag2_student_t_block10_complete.csv (deflated 53%)\n",
            "  adding: content/output_block_missing/nonlinear_ts_n5000_vars6_lag3_student_t_block30_complete.csv (deflated 54%)\n",
            "  adding: content/output_block_missing/nonlinear_ts_n3000_vars6_lag2_student_t_block20_causal_graph.png (deflated 9%)\n",
            "  adding: content/output_block_missing/nonlinear_ts_n3000_vars4_lag4_gaussian_block20_causal_structure.txt (deflated 53%)\n",
            "  adding: content/output_block_missing/nonlinear_ts_n5000_vars4_lag2_gaussian_block20_missing_pattern.png (deflated 5%)\n",
            "  adding: content/output_block_missing/nonlinear_ts_n500_vars8_lag4_gaussian_block20_causal_structure.txt (deflated 63%)\n",
            "  adding: content/output_block_missing/nonlinear_ts_n1000_vars6_lag4_student_t_block30_missing.csv (deflated 52%)\n",
            "  adding: content/output_block_missing/nonlinear_ts_n500_vars4_lag3_student_t_block30_statistics.txt (deflated 33%)\n",
            "  adding: content/output_block_missing/nonlinear_ts_n3000_vars6_lag4_student_t_block30_complete.csv (deflated 54%)\n",
            "  adding: content/output_block_missing/nonlinear_ts_n5000_vars8_lag2_student_t_block20_statistics.txt (deflated 35%)\n",
            "  adding: content/output_block_missing/nonlinear_ts_n500_vars8_lag3_gaussian_block20_causal_structure.txt (deflated 63%)\n",
            "  adding: content/output_block_missing/nonlinear_ts_n3000_vars6_lag3_gaussian_block20_missing.csv (deflated 54%)\n",
            "  adding: content/output_block_missing/nonlinear_ts_n5000_vars8_lag2_gaussian_block20_complete.csv (deflated 55%)\n",
            "  adding: content/output_block_missing/nonlinear_ts_n3000_vars8_lag2_gaussian_block20_missing_pattern.png (deflated 5%)\n",
            "  adding: content/output_block_missing/nonlinear_ts_n5000_vars6_lag2_gaussian_block10_statistics.txt (deflated 32%)\n",
            "  adding: content/output_block_missing/nonlinear_ts_n5000_vars4_lag4_gaussian_block10_causal_structure.txt (deflated 53%)\n",
            "  adding: content/output_block_missing/nonlinear_ts_n500_vars8_lag2_student_t_block10_complete.csv (deflated 53%)\n",
            "  adding: content/output_block_missing/nonlinear_ts_n1000_vars4_lag2_student_t_block10_missing.csv (deflated 52%)\n",
            "  adding: content/output_block_missing/nonlinear_ts_n500_vars8_lag4_gaussian_block20_missing_pattern.png (deflated 10%)\n",
            "  adding: content/output_block_missing/nonlinear_ts_n5000_vars4_lag4_student_t_block20_missing.csv (deflated 54%)\n",
            "  adding: content/output_block_missing/nonlinear_ts_n1000_vars6_lag3_student_t_block10_statistics.txt (deflated 33%)\n",
            "  adding: content/output_block_missing/nonlinear_ts_n500_vars6_lag4_gaussian_block30_causal_structure.txt (deflated 59%)\n",
            "  adding: content/output_block_missing/nonlinear_ts_n1000_vars8_lag4_student_t_block30_series.png (deflated 4%)\n",
            "  adding: content/output_block_missing/nonlinear_ts_n3000_vars6_lag4_gaussian_block30_causal_graph.png (deflated 7%)\n",
            "  adding: content/output_block_missing/nonlinear_ts_n1000_vars8_lag2_student_t_block10_statistics.txt (deflated 35%)\n",
            "  adding: content/output_block_missing/nonlinear_ts_n3000_vars4_lag4_gaussian_block30_missing.csv (deflated 54%)\n",
            "  adding: content/output_block_missing/nonlinear_ts_n1000_vars8_lag2_gaussian_block20_causal_graph.png (deflated 7%)\n",
            "  adding: content/output_block_missing/nonlinear_ts_n1000_vars4_lag2_student_t_block30_statistics.txt (deflated 29%)\n",
            "  adding: content/output_block_missing/nonlinear_ts_n1000_vars6_lag4_student_t_block30_complete.csv (deflated 53%)\n",
            "  adding: content/output_block_missing/nonlinear_ts_n1000_vars6_lag4_gaussian_block10_statistics.txt (deflated 31%)\n",
            "  adding: content/output_block_missing/nonlinear_ts_n1000_vars6_lag3_student_t_block30_statistics.txt (deflated 31%)\n",
            "  adding: content/output_block_missing/nonlinear_ts_n500_vars8_lag3_student_t_block10_missing_pattern.png (deflated 12%)\n",
            "  adding: content/output_block_missing/nonlinear_ts_n500_vars6_lag4_gaussian_block20_complete.csv (deflated 53%)\n",
            "  adding: content/output_block_missing/nonlinear_ts_n1000_vars4_lag2_student_t_block30_causal_graph.png (deflated 7%)\n",
            "  adding: content/output_block_missing/nonlinear_ts_n1000_vars6_lag3_student_t_block30_missing_pattern.png (deflated 10%)\n",
            "  adding: content/output_block_missing/nonlinear_ts_n1000_vars6_lag4_gaussian_block20_statistics.txt (deflated 33%)\n",
            "  adding: content/output_block_missing/nonlinear_ts_n1000_vars8_lag3_student_t_block20_missing.csv (deflated 53%)\n",
            "  adding: content/output_block_missing/nonlinear_ts_n5000_vars8_lag2_gaussian_block10_causal_structure.txt (deflated 62%)\n",
            "  adding: content/output_block_missing/nonlinear_ts_n500_vars6_lag3_gaussian_block10_series.png (deflated 1%)\n",
            "  adding: content/output_block_missing/nonlinear_ts_n1000_vars6_lag3_gaussian_block30_statistics.txt (deflated 33%)\n",
            "  adding: content/output_block_missing/nonlinear_ts_n500_vars6_lag3_student_t_block10_statistics.txt (deflated 31%)\n",
            "  adding: content/output_block_missing/nonlinear_ts_n500_vars4_lag4_gaussian_block20_complete.csv (deflated 52%)\n",
            "  adding: content/output_block_missing/nonlinear_ts_n500_vars8_lag4_student_t_block20_causal_graph.png (deflated 5%)\n",
            "  adding: content/output_block_missing/nonlinear_ts_n5000_vars8_lag3_student_t_block20_causal_structure.txt (deflated 63%)\n",
            "  adding: content/output_block_missing/nonlinear_ts_n3000_vars8_lag3_student_t_block20_missing_pattern.png (deflated 5%)\n",
            "  adding: content/output_block_missing/nonlinear_ts_n1000_vars8_lag3_gaussian_block20_series.png (deflated 1%)\n",
            "  adding: content/output_block_missing/nonlinear_ts_n500_vars8_lag3_gaussian_block30_missing.csv (deflated 52%)\n",
            "  adding: content/output_block_missing/nonlinear_ts_n1000_vars6_lag2_student_t_block10_statistics.txt (deflated 33%)\n",
            "  adding: content/output_block_missing/nonlinear_ts_n1000_vars6_lag3_gaussian_block30_causal_structure.txt (deflated 59%)\n",
            "  adding: content/output_block_missing/nonlinear_ts_n5000_vars8_lag2_gaussian_block10_complete.csv (deflated 55%)\n",
            "  adding: content/output_block_missing/nonlinear_ts_n5000_vars8_lag2_gaussian_block20_missing.csv (deflated 54%)\n",
            "  adding: content/output_block_missing/nonlinear_ts_n3000_vars4_lag3_gaussian_block20_statistics.txt (deflated 31%)\n",
            "  adding: content/output_block_missing/nonlinear_ts_n1000_vars4_lag3_gaussian_block20_missing_pattern.png (deflated 11%)\n",
            "  adding: content/output_block_missing/nonlinear_ts_n1000_vars6_lag3_gaussian_block30_missing_pattern.png (deflated 10%)\n",
            "  adding: content/output_block_missing/nonlinear_ts_n5000_vars6_lag3_student_t_block10_causal_structure.txt (deflated 59%)\n",
            "  adding: content/output_block_missing/nonlinear_ts_n3000_vars8_lag2_gaussian_block30_series.png (deflated 1%)\n",
            "  adding: content/output_block_missing/nonlinear_ts_n3000_vars4_lag4_student_t_block30_missing_pattern.png (deflated 6%)\n",
            "  adding: content/output_block_missing/nonlinear_ts_n1000_vars8_lag3_student_t_block20_causal_structure.txt (deflated 63%)\n",
            "  adding: content/output_block_missing/nonlinear_ts_n500_vars4_lag3_gaussian_block10_missing_pattern.png (deflated 15%)\n",
            "  adding: content/output_block_missing/nonlinear_ts_n1000_vars6_lag2_gaussian_block20_series.png (deflated 1%)\n",
            "  adding: content/output_block_missing/nonlinear_ts_n500_vars6_lag3_student_t_block30_causal_graph.png (deflated 6%)\n",
            "  adding: content/output_block_missing/nonlinear_ts_n3000_vars4_lag4_gaussian_block20_missing_pattern.png (deflated 7%)\n",
            "  adding: content/output_block_missing/nonlinear_ts_n500_vars8_lag2_gaussian_block30_series.png (deflated 1%)\n",
            "  adding: content/output_block_missing/nonlinear_ts_n500_vars4_lag3_gaussian_block10_complete.csv (deflated 52%)\n",
            "  adding: content/output_block_missing/nonlinear_ts_n3000_vars8_lag2_gaussian_block10_causal_structure.txt (deflated 62%)\n",
            "  adding: content/output_block_missing/nonlinear_ts_n500_vars6_lag2_student_t_block10_missing_pattern.png (deflated 13%)\n",
            "  adding: content/output_block_missing/nonlinear_ts_n1000_vars4_lag2_student_t_block10_complete.csv (deflated 53%)\n",
            "  adding: content/output_block_missing/nonlinear_ts_n500_vars4_lag4_student_t_block10_series.png (deflated 4%)\n",
            "  adding: content/output_block_missing/nonlinear_ts_n5000_vars4_lag4_student_t_block30_causal_structure.txt (deflated 53%)\n",
            "  adding: content/output_block_missing/nonlinear_ts_n500_vars4_lag4_gaussian_block10_missing_pattern.png (deflated 15%)\n",
            "  adding: content/output_block_missing/nonlinear_ts_n500_vars8_lag3_gaussian_block10_statistics.txt (deflated 35%)\n",
            "  adding: content/output_block_missing/nonlinear_ts_n1000_vars8_lag2_gaussian_block20_causal_structure.txt (deflated 62%)\n",
            "  adding: content/output_block_missing/nonlinear_ts_n500_vars8_lag3_student_t_block30_statistics.txt (deflated 36%)\n",
            "  adding: content/output_block_missing/nonlinear_ts_n3000_vars4_lag3_gaussian_block10_statistics.txt (deflated 28%)\n",
            "  adding: content/output_block_missing/nonlinear_ts_n3000_vars8_lag4_gaussian_block10_statistics.txt (deflated 36%)\n",
            "  adding: content/output_block_missing/nonlinear_ts_n5000_vars8_lag3_gaussian_block10_complete.csv (deflated 55%)\n",
            "  adding: content/output_block_missing/nonlinear_ts_n3000_vars6_lag4_student_t_block20_missing_pattern.png (deflated 6%)\n",
            "  adding: content/output_block_missing/nonlinear_ts_n5000_vars4_lag3_student_t_block10_series.png (deflated 3%)\n",
            "  adding: content/output_block_missing/nonlinear_ts_n5000_vars4_lag3_gaussian_block20_statistics.txt (deflated 28%)\n",
            "  adding: content/output_block_missing/nonlinear_ts_n500_vars8_lag3_gaussian_block30_causal_structure.txt (deflated 63%)\n",
            "  adding: content/output_block_missing/nonlinear_ts_n500_vars6_lag4_student_t_block30_complete.csv (deflated 52%)\n",
            "  adding: content/output_block_missing/nonlinear_ts_n5000_vars4_lag4_student_t_block10_series.png (deflated 3%)\n",
            "  adding: content/output_block_missing/nonlinear_ts_n500_vars4_lag4_gaussian_block30_statistics.txt (deflated 29%)\n",
            "  adding: content/output_block_missing/nonlinear_ts_n500_vars4_lag2_gaussian_block20_statistics.txt (deflated 33%)\n",
            "  adding: content/output_block_missing/nonlinear_ts_n500_vars8_lag2_gaussian_block20_missing.csv (deflated 52%)\n",
            "  adding: content/output_block_missing/nonlinear_ts_n5000_vars4_lag4_gaussian_block30_complete.csv (deflated 54%)\n",
            "  adding: content/output_block_missing/nonlinear_ts_n5000_vars4_lag3_student_t_block10_statistics.txt (deflated 30%)\n",
            "  adding: content/output_block_missing/nonlinear_ts_n5000_vars6_lag2_student_t_block20_missing_pattern.png (deflated 5%)\n",
            "  adding: content/output_block_missing/nonlinear_ts_n5000_vars8_lag3_gaussian_block30_missing.csv (deflated 55%)\n",
            "  adding: content/output_block_missing/nonlinear_ts_n5000_vars6_lag2_student_t_block20_series.png (deflated 4%)\n",
            "  adding: content/output_block_missing/nonlinear_ts_n5000_vars8_lag3_student_t_block20_causal_graph.png (deflated 6%)\n",
            "  adding: content/output_block_missing/nonlinear_ts_n500_vars8_lag2_student_t_block10_series.png (deflated 4%)\n",
            "  adding: content/output_block_missing/nonlinear_ts_n3000_vars6_lag2_student_t_block10_complete.csv (deflated 54%)\n",
            "  adding: content/output_block_missing/nonlinear_ts_n3000_vars4_lag4_student_t_block20_complete.csv (deflated 54%)\n",
            "  adding: content/output_block_missing/nonlinear_ts_n3000_vars4_lag4_student_t_block30_causal_structure.txt (deflated 53%)\n",
            "  adding: content/output_block_missing/nonlinear_ts_n500_vars6_lag2_student_t_block30_missing_pattern.png (deflated 11%)\n",
            "  adding: content/output_block_missing/nonlinear_ts_n3000_vars8_lag4_student_t_block20_missing.csv (deflated 54%)\n",
            "  adding: content/output_block_missing/nonlinear_ts_n3000_vars4_lag4_student_t_block10_series.png (deflated 3%)\n",
            "  adding: content/output_block_missing/nonlinear_ts_n5000_vars6_lag4_student_t_block30_causal_graph.png (deflated 7%)\n",
            "  adding: content/output_block_missing/nonlinear_ts_n5000_vars6_lag2_gaussian_block30_series.png (deflated 1%)\n",
            "  adding: content/output_block_missing/nonlinear_ts_n3000_vars6_lag3_student_t_block30_missing_pattern.png (deflated 6%)\n",
            "  adding: content/output_block_missing/nonlinear_ts_n500_vars4_lag4_gaussian_block20_statistics.txt (deflated 33%)\n",
            "  adding: content/output_block_missing/nonlinear_ts_n3000_vars8_lag4_gaussian_block20_complete.csv (deflated 54%)\n",
            "  adding: content/output_block_missing/nonlinear_ts_n500_vars4_lag2_gaussian_block30_complete.csv (deflated 52%)\n",
            "  adding: content/output_block_missing/nonlinear_ts_n1000_vars4_lag2_gaussian_block30_causal_structure.txt (deflated 50%)\n",
            "  adding: content/output_block_missing/nonlinear_ts_n5000_vars8_lag2_student_t_block20_missing.csv (deflated 54%)\n",
            "  adding: content/output_block_missing/nonlinear_ts_n3000_vars6_lag4_gaussian_block20_statistics.txt (deflated 32%)\n",
            "  adding: content/output_block_missing/nonlinear_ts_n1000_vars4_lag2_student_t_block30_missing.csv (deflated 52%)\n",
            "  adding: content/output_block_missing/nonlinear_ts_n3000_vars6_lag4_student_t_block20_statistics.txt (deflated 33%)\n",
            "  adding: content/output_block_missing/nonlinear_ts_n500_vars4_lag4_student_t_block30_causal_graph.png (deflated 6%)\n",
            "  adding: content/output_block_missing/nonlinear_ts_n1000_vars4_lag4_gaussian_block30_complete.csv (deflated 53%)\n",
            "  adding: content/output_block_missing/nonlinear_ts_n5000_vars6_lag2_student_t_block30_series.png (deflated 4%)\n",
            "  adding: content/output_block_missing/nonlinear_ts_n3000_vars6_lag4_gaussian_block30_statistics.txt (deflated 32%)\n",
            "  adding: content/output_block_missing/nonlinear_ts_n1000_vars8_lag3_gaussian_block10_missing.csv (deflated 53%)\n",
            "  adding: content/output_block_missing/nonlinear_ts_n3000_vars4_lag3_student_t_block30_missing.csv (deflated 53%)\n",
            "  adding: content/output_block_missing/nonlinear_ts_n3000_vars4_lag2_student_t_block30_statistics.txt (deflated 30%)\n",
            "  adding: content/output_block_missing/nonlinear_ts_n3000_vars6_lag2_gaussian_block30_missing_pattern.png (deflated 6%)\n",
            "  adding: content/output_block_missing/nonlinear_ts_n1000_vars4_lag2_student_t_block20_missing.csv (deflated 52%)\n",
            "  adding: content/output_block_missing/nonlinear_ts_n1000_vars6_lag2_gaussian_block30_complete.csv (deflated 53%)\n",
            "  adding: content/output_block_missing/nonlinear_ts_n3000_vars4_lag2_gaussian_block30_complete.csv (deflated 54%)\n",
            "  adding: content/output_block_missing/nonlinear_ts_n5000_vars4_lag4_student_t_block20_complete.csv (deflated 54%)\n",
            "  adding: content/output_block_missing/nonlinear_ts_n1000_vars8_lag2_gaussian_block30_missing.csv (deflated 53%)\n",
            "  adding: content/output_block_missing/nonlinear_ts_n1000_vars8_lag3_student_t_block30_missing_pattern.png (deflated 9%)\n",
            "  adding: content/output_block_missing/nonlinear_ts_n500_vars4_lag3_gaussian_block30_series.png (deflated 2%)\n",
            "  adding: content/output_block_missing/nonlinear_ts_n3000_vars8_lag4_student_t_block20_series.png (deflated 3%)\n",
            "  adding: content/output_block_missing/nonlinear_ts_n3000_vars8_lag2_gaussian_block30_complete.csv (deflated 54%)\n",
            "  adding: content/output_block_missing/nonlinear_ts_n1000_vars8_lag4_gaussian_block10_complete.csv (deflated 54%)\n",
            "  adding: content/output_block_missing/nonlinear_ts_n1000_vars4_lag2_gaussian_block20_causal_graph.png (deflated 8%)\n",
            "  adding: content/output_block_missing/nonlinear_ts_n1000_vars4_lag3_gaussian_block20_complete.csv (deflated 53%)\n",
            "  adding: content/output_block_missing/nonlinear_ts_n500_vars8_lag4_gaussian_block10_missing.csv (deflated 53%)\n",
            "  adding: content/output_block_missing/nonlinear_ts_n3000_vars4_lag3_student_t_block20_missing.csv (deflated 53%)\n",
            "  adding: content/output_block_missing/nonlinear_ts_n3000_vars4_lag4_student_t_block10_missing_pattern.png (deflated 7%)\n",
            "  adding: content/output_block_missing/nonlinear_ts_n5000_vars6_lag4_gaussian_block30_causal_graph.png (deflated 7%)\n",
            "  adding: content/output_block_missing/nonlinear_ts_n500_vars4_lag4_gaussian_block10_series.png (deflated 2%)\n",
            "  adding: content/output_block_missing/nonlinear_ts_n3000_vars8_lag2_student_t_block30_series.png (deflated 4%)\n",
            "  adding: content/output_block_missing/nonlinear_ts_n500_vars4_lag3_gaussian_block20_causal_graph.png (deflated 5%)\n",
            "  adding: content/output_block_missing/nonlinear_ts_n1000_vars4_lag3_gaussian_block20_causal_graph.png (deflated 6%)\n",
            "  adding: content/output_block_missing/nonlinear_ts_n1000_vars8_lag3_student_t_block30_series.png (deflated 4%)\n",
            "  adding: content/output_block_missing/nonlinear_ts_n1000_vars4_lag3_student_t_block20_statistics.txt (deflated 29%)\n",
            "  adding: content/output_block_missing/nonlinear_ts_n1000_vars6_lag2_student_t_block30_series.png (deflated 3%)\n",
            "  adding: content/output_block_missing/nonlinear_ts_n1000_vars8_lag4_gaussian_block20_causal_structure.txt (deflated 63%)\n",
            "  adding: content/output_block_missing/nonlinear_ts_n5000_vars6_lag3_gaussian_block10_missing_pattern.png (deflated 6%)\n",
            "  adding: content/output_block_missing/nonlinear_ts_n5000_vars8_lag2_student_t_block10_statistics.txt (deflated 35%)\n",
            "  adding: content/output_block_missing/nonlinear_ts_n3000_vars6_lag4_student_t_block10_series.png (deflated 4%)\n",
            "  adding: content/output_block_missing/nonlinear_ts_n3000_vars6_lag4_gaussian_block20_missing_pattern.png (deflated 6%)\n",
            "  adding: content/output_block_missing/nonlinear_ts_n500_vars6_lag2_gaussian_block10_series.png (deflated 1%)\n",
            "  adding: content/output_block_missing/nonlinear_ts_n3000_vars8_lag2_student_t_block30_causal_structure.txt (deflated 62%)\n",
            "  adding: content/output_block_missing/nonlinear_ts_n5000_vars8_lag3_gaussian_block10_causal_structure.txt (deflated 63%)\n",
            "  adding: content/output_block_missing/nonlinear_ts_n5000_vars8_lag3_gaussian_block20_causal_structure.txt (deflated 63%)\n",
            "  adding: content/output_block_missing/nonlinear_ts_n1000_vars6_lag2_gaussian_block10_causal_graph.png (deflated 8%)\n",
            "  adding: content/output_block_missing/nonlinear_ts_n1000_vars6_lag3_student_t_block10_causal_structure.txt (deflated 59%)\n",
            "  adding: content/output_block_missing/nonlinear_ts_n5000_vars6_lag4_gaussian_block20_missing.csv (deflated 54%)\n",
            "  adding: content/output_block_missing/nonlinear_ts_n1000_vars6_lag3_gaussian_block20_causal_structure.txt (deflated 59%)\n",
            "  adding: content/output_block_missing/nonlinear_ts_n1000_vars8_lag4_gaussian_block20_statistics.txt (deflated 35%)\n",
            "  adding: content/output_block_missing/nonlinear_ts_n5000_vars6_lag2_gaussian_block20_missing_pattern.png (deflated 5%)\n",
            "  adding: content/output_block_missing/nonlinear_ts_n1000_vars6_lag4_student_t_block30_series.png (deflated 3%)\n",
            "  adding: content/output_block_missing/nonlinear_ts_n500_vars4_lag3_student_t_block20_series.png (deflated 4%)\n",
            "  adding: content/output_block_missing/nonlinear_ts_n3000_vars6_lag3_student_t_block30_series.png (deflated 3%)\n",
            "  adding: content/output_block_missing/nonlinear_ts_n1000_vars4_lag4_gaussian_block10_complete.csv (deflated 53%)\n",
            "  adding: content/output_block_missing/nonlinear_ts_n500_vars8_lag2_gaussian_block20_complete.csv (deflated 53%)\n",
            "  adding: content/output_block_missing/nonlinear_ts_n500_vars8_lag3_gaussian_block10_missing_pattern.png (deflated 10%)\n",
            "  adding: content/output_block_missing/nonlinear_ts_n500_vars6_lag4_student_t_block10_complete.csv (deflated 52%)\n",
            "  adding: content/output_block_missing/nonlinear_ts_n1000_vars4_lag3_gaussian_block20_series.png (deflated 2%)\n",
            "  adding: content/output_block_missing/nonlinear_ts_n5000_vars6_lag3_gaussian_block20_causal_graph.png (deflated 6%)\n",
            "  adding: content/output_block_missing/nonlinear_ts_n3000_vars8_lag4_gaussian_block20_causal_structure.txt (deflated 63%)\n",
            "  adding: content/output_block_missing/nonlinear_ts_n5000_vars6_lag2_student_t_block10_causal_graph.png (deflated 9%)\n",
            "  adding: content/output_block_missing/nonlinear_ts_n5000_vars8_lag4_gaussian_block30_statistics.txt (deflated 34%)\n",
            "  adding: content/output_block_missing/nonlinear_ts_n1000_vars6_lag4_student_t_block10_complete.csv (deflated 53%)\n",
            "  adding: content/output_block_missing/nonlinear_ts_n500_vars6_lag4_gaussian_block10_causal_structure.txt (deflated 59%)\n",
            "  adding: content/output_block_missing/nonlinear_ts_n5000_vars8_lag3_student_t_block20_complete.csv (deflated 54%)\n",
            "  adding: content/output_block_missing/nonlinear_ts_n5000_vars4_lag4_gaussian_block10_missing_pattern.png (deflated 6%)\n",
            "  adding: content/output_block_missing/nonlinear_ts_n500_vars6_lag4_gaussian_block20_series.png (deflated 2%)\n",
            "  adding: content/output_block_missing/nonlinear_ts_n500_vars6_lag2_gaussian_block20_causal_graph.png (deflated 9%)\n",
            "  adding: content/output_block_missing/nonlinear_ts_n5000_vars4_lag4_student_t_block30_series.png (deflated 4%)\n",
            "  adding: content/output_block_missing/nonlinear_ts_n5000_vars4_lag3_gaussian_block30_causal_structure.txt (deflated 53%)\n",
            "  adding: content/output_block_missing/nonlinear_ts_n5000_vars6_lag4_gaussian_block10_causal_graph.png (deflated 7%)\n",
            "  adding: content/output_block_missing/nonlinear_ts_n3000_vars6_lag4_gaussian_block10_series.png (deflated 1%)\n",
            "  adding: content/output_block_missing/nonlinear_ts_n5000_vars6_lag4_student_t_block20_causal_graph.png (deflated 6%)\n",
            "  adding: content/output_block_missing/nonlinear_ts_n1000_vars8_lag3_student_t_block30_causal_graph.png (deflated 6%)\n",
            "  adding: content/output_block_missing/nonlinear_ts_n5000_vars8_lag2_student_t_block20_causal_graph.png (deflated 7%)\n",
            "  adding: content/output_block_missing/nonlinear_ts_n500_vars8_lag4_gaussian_block10_causal_graph.png (deflated 6%)\n",
            "  adding: content/output_block_missing/nonlinear_ts_n5000_vars6_lag3_student_t_block30_statistics.txt (deflated 32%)\n",
            "  adding: content/output_block_missing/nonlinear_ts_n3000_vars6_lag2_student_t_block30_causal_graph.png (deflated 8%)\n",
            "  adding: content/output_block_missing/nonlinear_ts_n1000_vars8_lag2_student_t_block10_missing.csv (deflated 53%)\n",
            "  adding: content/output_block_missing/nonlinear_ts_n3000_vars4_lag2_gaussian_block30_causal_graph.png (deflated 7%)\n",
            "  adding: content/output_block_missing/nonlinear_ts_n3000_vars8_lag3_gaussian_block20_statistics.txt (deflated 35%)\n",
            "  adding: content/output_block_missing/nonlinear_ts_n5000_vars4_lag2_gaussian_block10_series.png (deflated 1%)\n",
            "  adding: content/output_block_missing/nonlinear_ts_n500_vars8_lag2_gaussian_block20_statistics.txt (deflated 34%)\n",
            "  adding: content/output_block_missing/nonlinear_ts_n5000_vars4_lag3_gaussian_block20_causal_graph.png (deflated 5%)\n",
            "  adding: content/output_block_missing/nonlinear_ts_n500_vars4_lag2_gaussian_block30_series.png (deflated 2%)\n",
            "  adding: content/output_block_missing/nonlinear_ts_n3000_vars4_lag2_student_t_block20_missing.csv (deflated 53%)\n",
            "  adding: content/output_block_missing/nonlinear_ts_n3000_vars4_lag4_student_t_block30_missing.csv (deflated 53%)\n",
            "  adding: content/output_block_missing/nonlinear_ts_n5000_vars8_lag4_student_t_block10_complete.csv (deflated 54%)\n",
            "  adding: content/output_block_missing/nonlinear_ts_n1000_vars6_lag2_student_t_block20_causal_graph.png (deflated 8%)\n",
            "  adding: content/output_block_missing/nonlinear_ts_n5000_vars8_lag4_gaussian_block30_missing.csv (deflated 55%)\n",
            "  adding: content/output_block_missing/nonlinear_ts_n5000_vars8_lag2_gaussian_block10_missing.csv (deflated 54%)\n",
            "  adding: content/output_block_missing/nonlinear_ts_n3000_vars6_lag3_gaussian_block30_complete.csv (deflated 54%)\n",
            "  adding: content/output_block_missing/nonlinear_ts_n3000_vars4_lag2_student_t_block20_statistics.txt (deflated 29%)\n",
            "  adding: content/output_block_missing/nonlinear_ts_n3000_vars4_lag4_student_t_block20_missing.csv (deflated 53%)\n",
            "  adding: content/output_block_missing/nonlinear_ts_n3000_vars6_lag4_student_t_block10_missing_pattern.png (deflated 7%)\n",
            "  adding: content/output_block_missing/nonlinear_ts_n500_vars6_lag2_gaussian_block30_complete.csv (deflated 52%)\n",
            "  adding: content/output_block_missing/nonlinear_ts_n500_vars6_lag4_gaussian_block20_missing_pattern.png (deflated 11%)\n",
            "  adding: content/output_block_missing/nonlinear_ts_n1000_vars8_lag3_student_t_block20_complete.csv (deflated 54%)\n",
            "  adding: content/output_block_missing/nonlinear_ts_n1000_vars6_lag4_student_t_block30_missing_pattern.png (deflated 10%)\n",
            "  adding: content/output_block_missing/nonlinear_ts_n3000_vars8_lag3_gaussian_block30_statistics.txt (deflated 36%)\n",
            "  adding: content/output_block_missing/nonlinear_ts_n500_vars6_lag4_student_t_block30_missing_pattern.png (deflated 11%)\n",
            "  adding: content/output_block_missing/nonlinear_ts_n5000_vars8_lag3_student_t_block30_causal_structure.txt (deflated 63%)\n",
            "  adding: content/output_block_missing/nonlinear_ts_n1000_vars4_lag3_student_t_block20_causal_graph.png (deflated 6%)\n",
            "  adding: content/output_block_missing/nonlinear_ts_n3000_vars4_lag2_gaussian_block30_missing_pattern.png (deflated 7%)\n",
            "  adding: content/output_block_missing/nonlinear_ts_n500_vars8_lag2_gaussian_block30_missing.csv (deflated 52%)\n",
            "  adding: content/output_block_missing/nonlinear_ts_n5000_vars4_lag2_gaussian_block10_statistics.txt (deflated 29%)\n",
            "  adding: content/output_block_missing/nonlinear_ts_n3000_vars4_lag2_student_t_block20_series.png (deflated 3%)\n",
            "  adding: content/output_block_missing/nonlinear_ts_n3000_vars6_lag3_gaussian_block10_causal_structure.txt (deflated 59%)\n",
            "  adding: content/output_block_missing/nonlinear_ts_n500_vars4_lag2_student_t_block30_series.png (deflated 4%)\n",
            "  adding: content/output_block_missing/nonlinear_ts_n3000_vars8_lag4_student_t_block30_statistics.txt (deflated 34%)\n",
            "  adding: content/output_block_missing/nonlinear_ts_n3000_vars8_lag2_student_t_block10_complete.csv (deflated 54%)\n",
            "  adding: content/output_block_missing/nonlinear_ts_n3000_vars8_lag4_gaussian_block20_statistics.txt (deflated 35%)\n",
            "  adding: content/output_block_missing/nonlinear_ts_n3000_vars4_lag4_student_t_block30_causal_graph.png (deflated 6%)\n",
            "  adding: content/output_block_missing/nonlinear_ts_n1000_vars8_lag2_gaussian_block20_missing_pattern.png (deflated 9%)\n",
            "  adding: content/output_block_missing/nonlinear_ts_n500_vars8_lag2_student_t_block10_statistics.txt (deflated 38%)\n",
            "  adding: content/output_block_missing/nonlinear_ts_n500_vars6_lag2_student_t_block20_missing.csv (deflated 52%)\n",
            "  adding: content/output_block_missing/nonlinear_ts_n1000_vars6_lag4_student_t_block30_statistics.txt (deflated 31%)\n",
            "  adding: content/output_block_missing/nonlinear_ts_n500_vars4_lag3_student_t_block30_causal_graph.png (deflated 6%)\n",
            "  adding: content/output_block_missing/nonlinear_ts_n3000_vars8_lag3_student_t_block20_causal_structure.txt (deflated 63%)\n",
            "  adding: content/output_block_missing/nonlinear_ts_n500_vars4_lag2_gaussian_block20_causal_graph.png (deflated 8%)\n",
            "  adding: content/output_block_missing/nonlinear_ts_n500_vars4_lag3_gaussian_block30_causal_graph.png (deflated 5%)\n",
            "  adding: content/output_block_missing/nonlinear_ts_n1000_vars8_lag2_gaussian_block10_complete.csv (deflated 54%)\n",
            "  adding: content/output_block_missing/nonlinear_ts_n3000_vars6_lag3_student_t_block10_statistics.txt (deflated 33%)\n",
            "  adding: content/output_block_missing/nonlinear_ts_n1000_vars8_lag2_student_t_block10_causal_graph.png (deflated 7%)\n",
            "  adding: content/output_block_missing/nonlinear_ts_n5000_vars6_lag4_gaussian_block30_series.png (deflated 1%)\n",
            "  adding: content/output_block_missing/nonlinear_ts_n1000_vars6_lag2_gaussian_block30_missing.csv (deflated 53%)\n",
            "  adding: content/output_block_missing/nonlinear_ts_n500_vars4_lag2_student_t_block10_causal_structure.txt (deflated 50%)\n",
            "  adding: content/output_block_missing/nonlinear_ts_n5000_vars4_lag3_student_t_block20_statistics.txt (deflated 28%)\n",
            "  adding: content/output_block_missing/nonlinear_ts_n1000_vars8_lag4_student_t_block30_missing_pattern.png (deflated 9%)\n",
            "  adding: content/output_block_missing/nonlinear_ts_n1000_vars6_lag4_student_t_block20_causal_structure.txt (deflated 59%)\n",
            "  adding: content/output_block_missing/nonlinear_ts_n1000_vars8_lag3_student_t_block10_causal_structure.txt (deflated 63%)\n",
            "  adding: content/output_block_missing/nonlinear_ts_n500_vars8_lag2_gaussian_block20_causal_graph.png (deflated 7%)\n",
            "  adding: content/output_block_missing/nonlinear_ts_n5000_vars6_lag4_student_t_block10_causal_graph.png (deflated 7%)\n",
            "  adding: content/output_block_missing/nonlinear_ts_n3000_vars4_lag4_student_t_block10_causal_structure.txt (deflated 53%)\n",
            "  adding: content/output_block_missing/nonlinear_ts_n500_vars6_lag4_gaussian_block20_missing.csv (deflated 52%)\n",
            "  adding: content/output_block_missing/nonlinear_ts_n5000_vars8_lag3_gaussian_block20_statistics.txt (deflated 34%)\n",
            "  adding: content/output_block_missing/nonlinear_ts_n5000_vars6_lag4_student_t_block30_missing_pattern.png (deflated 5%)\n",
            "  adding: content/output_block_missing/nonlinear_ts_n3000_vars4_lag3_gaussian_block30_complete.csv (deflated 54%)\n",
            "  adding: content/output_block_missing/nonlinear_ts_n1000_vars8_lag3_gaussian_block20_missing.csv (deflated 53%)\n",
            "  adding: content/output_block_missing/nonlinear_ts_n500_vars6_lag2_student_t_block10_causal_graph.png (deflated 9%)\n",
            "  adding: content/output_block_missing/nonlinear_ts_n3000_vars6_lag2_student_t_block30_causal_structure.txt (deflated 58%)\n",
            "  adding: content/output_block_missing/nonlinear_ts_n5000_vars4_lag4_gaussian_block20_complete.csv (deflated 54%)\n",
            "  adding: content/output_block_missing/nonlinear_ts_n500_vars4_lag3_gaussian_block30_missing.csv (deflated 51%)\n",
            "  adding: content/output_block_missing/nonlinear_ts_n1000_vars8_lag4_student_t_block10_complete.csv (deflated 54%)\n",
            "  adding: content/output_block_missing/nonlinear_ts_n3000_vars8_lag2_gaussian_block20_series.png (deflated 1%)\n",
            "  adding: content/output_block_missing/nonlinear_ts_n1000_vars4_lag2_student_t_block20_causal_structure.txt (deflated 50%)\n",
            "  adding: content/output_block_missing/nonlinear_ts_n3000_vars4_lag3_gaussian_block10_missing.csv (deflated 54%)\n",
            "  adding: content/output_block_missing/nonlinear_ts_n3000_vars6_lag4_student_t_block10_complete.csv (deflated 54%)\n",
            "  adding: content/output_block_missing/nonlinear_ts_n1000_vars4_lag2_gaussian_block10_complete.csv (deflated 53%)\n",
            "  adding: content/output_block_missing/nonlinear_ts_n1000_vars4_lag3_gaussian_block30_causal_structure.txt (deflated 53%)\n",
            "  adding: content/output_block_missing/nonlinear_ts_n500_vars8_lag4_student_t_block10_series.png (deflated 4%)\n",
            "  adding: content/output_block_missing/nonlinear_ts_n3000_vars8_lag3_student_t_block20_statistics.txt (deflated 36%)\n",
            "  adding: content/output_block_missing/nonlinear_ts_n5000_vars4_lag2_student_t_block10_causal_structure.txt (deflated 50%)\n",
            "  adding: content/output_block_missing/nonlinear_ts_n3000_vars4_lag3_student_t_block20_complete.csv (deflated 54%)\n",
            "  adding: content/output_block_missing/nonlinear_ts_n500_vars8_lag4_student_t_block30_missing.csv (deflated 52%)\n",
            "  adding: content/output_block_missing/nonlinear_ts_n1000_vars6_lag4_gaussian_block20_missing.csv (deflated 53%)\n",
            "  adding: content/output_block_missing/nonlinear_ts_n1000_vars6_lag2_student_t_block10_series.png (deflated 3%)\n",
            "  adding: content/output_block_missing/nonlinear_ts_n1000_vars6_lag4_student_t_block20_causal_graph.png (deflated 7%)\n",
            "  adding: content/output_block_missing/nonlinear_ts_n500_vars6_lag3_student_t_block20_causal_structure.txt (deflated 59%)\n",
            "  adding: content/output_block_missing/nonlinear_ts_n5000_vars8_lag3_gaussian_block30_series.png (deflated 1%)\n",
            "  adding: content/output_block_missing/nonlinear_ts_n3000_vars8_lag4_student_t_block30_causal_structure.txt (deflated 63%)\n",
            "  adding: content/output_block_missing/nonlinear_ts_n5000_vars8_lag4_student_t_block30_series.png (deflated 3%)\n",
            "  adding: content/output_block_missing/nonlinear_ts_n3000_vars6_lag2_gaussian_block30_causal_structure.txt (deflated 58%)\n",
            "  adding: content/output_block_missing/nonlinear_ts_n500_vars6_lag4_gaussian_block30_causal_graph.png (deflated 7%)\n",
            "  adding: content/output_block_missing/nonlinear_ts_n3000_vars8_lag2_gaussian_block20_causal_graph.png (deflated 7%)\n",
            "  adding: content/output_block_missing/nonlinear_ts_n5000_vars4_lag2_gaussian_block10_complete.csv (deflated 54%)\n",
            "  adding: content/output_block_missing/nonlinear_ts_n1000_vars8_lag3_gaussian_block30_statistics.txt (deflated 36%)\n",
            "  adding: content/output_block_missing/nonlinear_ts_n5000_vars4_lag4_gaussian_block20_missing.csv (deflated 54%)\n",
            "  adding: content/output_block_missing/nonlinear_ts_n1000_vars8_lag4_student_t_block30_causal_graph.png (deflated 5%)\n",
            "  adding: content/output_block_missing/nonlinear_ts_n1000_vars6_lag2_student_t_block30_complete.csv (deflated 53%)\n",
            "  adding: content/output_block_missing/nonlinear_ts_n3000_vars6_lag3_gaussian_block20_series.png (deflated 1%)\n",
            "  adding: content/output_block_missing/nonlinear_ts_n3000_vars8_lag2_student_t_block30_missing_pattern.png (deflated 5%)\n",
            "  adding: content/output_block_missing/nonlinear_ts_n3000_vars8_lag3_gaussian_block20_missing_pattern.png (deflated 5%)\n",
            "  adding: content/output_block_missing/nonlinear_ts_n5000_vars6_lag2_student_t_block30_causal_graph.png (deflated 9%)\n",
            "  adding: content/output_block_missing/nonlinear_ts_n5000_vars4_lag2_student_t_block10_complete.csv (deflated 54%)\n",
            "  adding: content/output_block_missing/nonlinear_ts_n1000_vars4_lag4_gaussian_block30_causal_structure.txt (deflated 53%)\n",
            "  adding: content/output_block_missing/nonlinear_ts_n1000_vars4_lag3_student_t_block20_causal_structure.txt (deflated 53%)\n",
            "  adding: content/output_block_missing/nonlinear_ts_n1000_vars8_lag4_gaussian_block20_series.png (deflated 1%)\n",
            "  adding: content/output_block_missing/nonlinear_ts_n3000_vars4_lag3_gaussian_block10_causal_graph.png (deflated 6%)\n",
            "  adding: content/output_block_missing/nonlinear_ts_n3000_vars6_lag3_gaussian_block10_complete.csv (deflated 54%)\n",
            "  adding: content/output_block_missing/nonlinear_ts_n500_vars6_lag3_student_t_block30_causal_structure.txt (deflated 59%)\n",
            "  adding: content/output_block_missing/nonlinear_ts_n500_vars6_lag2_student_t_block30_causal_graph.png (deflated 8%)\n",
            "  adding: content/output_block_missing/nonlinear_ts_n1000_vars4_lag4_student_t_block10_causal_structure.txt (deflated 53%)\n",
            "  adding: content/output_block_missing/nonlinear_ts_n500_vars8_lag4_gaussian_block10_series.png (deflated 1%)\n",
            "  adding: content/output_block_missing/nonlinear_ts_n3000_vars8_lag4_gaussian_block20_missing_pattern.png (deflated 5%)\n",
            "  adding: content/output_block_missing/nonlinear_ts_n3000_vars4_lag2_student_t_block20_missing_pattern.png (deflated 7%)\n",
            "  adding: content/output_block_missing/nonlinear_ts_n500_vars8_lag3_student_t_block20_causal_structure.txt (deflated 63%)\n",
            "  adding: content/output_block_missing/nonlinear_ts_n500_vars8_lag3_student_t_block20_statistics.txt (deflated 35%)\n",
            "  adding: content/output_block_missing/nonlinear_ts_n5000_vars4_lag3_student_t_block30_causal_graph.png (deflated 6%)\n",
            "  adding: content/output_block_missing/nonlinear_ts_n5000_vars8_lag3_student_t_block10_causal_graph.png (deflated 5%)\n",
            "  adding: content/output_block_missing/nonlinear_ts_n500_vars6_lag2_student_t_block30_missing.csv (deflated 52%)\n",
            "  adding: content/output_block_missing/nonlinear_ts_n1000_vars8_lag2_student_t_block30_missing_pattern.png (deflated 9%)\n",
            "  adding: content/output_block_missing/nonlinear_ts_n3000_vars8_lag3_student_t_block30_statistics.txt (deflated 34%)\n",
            "  adding: content/output_block_missing/nonlinear_ts_n3000_vars6_lag4_student_t_block30_missing.csv (deflated 54%)\n",
            "  adding: content/output_block_missing/nonlinear_ts_n3000_vars4_lag4_student_t_block30_statistics.txt (deflated 30%)\n",
            "  adding: content/output_block_missing/nonlinear_ts_n3000_vars4_lag4_student_t_block20_series.png (deflated 4%)\n",
            "  adding: content/output_block_missing/nonlinear_ts_n500_vars6_lag4_student_t_block10_causal_structure.txt (deflated 59%)\n",
            "  adding: content/output_block_missing/nonlinear_ts_n500_vars6_lag2_gaussian_block30_causal_structure.txt (deflated 58%)\n",
            "  adding: content/output_block_missing/nonlinear_ts_n5000_vars8_lag4_gaussian_block10_causal_graph.png (deflated 6%)\n",
            "  adding: content/output_block_missing/nonlinear_ts_n1000_vars8_lag2_gaussian_block20_complete.csv (deflated 54%)\n",
            "  adding: content/output_block_missing/nonlinear_ts_n500_vars4_lag2_student_t_block10_complete.csv (deflated 51%)\n",
            "  adding: content/output_block_missing/nonlinear_ts_n1000_vars4_lag3_student_t_block20_series.png (deflated 3%)\n",
            "  adding: content/output_block_missing/nonlinear_ts_n5000_vars4_lag4_student_t_block10_missing.csv (deflated 54%)\n",
            "  adding: content/output_block_missing/nonlinear_ts_n1000_vars8_lag3_student_t_block20_missing_pattern.png (deflated 9%)\n",
            "  adding: content/output_block_missing/nonlinear_ts_n500_vars4_lag3_gaussian_block10_missing.csv (deflated 51%)\n",
            "  adding: content/output_block_missing/nonlinear_ts_n500_vars4_lag2_gaussian_block20_causal_structure.txt (deflated 50%)\n",
            "  adding: content/output_block_missing/nonlinear_ts_n5000_vars4_lag2_student_t_block20_missing.csv (deflated 54%)\n",
            "  adding: content/output_block_missing/nonlinear_ts_n3000_vars6_lag3_student_t_block20_series.png (deflated 3%)\n",
            "  adding: content/output_block_missing/nonlinear_ts_n5000_vars4_lag4_gaussian_block30_statistics.txt (deflated 29%)\n",
            "  adding: content/output_block_missing/nonlinear_ts_n3000_vars8_lag3_student_t_block30_missing.csv (deflated 54%)\n",
            "  adding: content/output_block_missing/nonlinear_ts_n1000_vars8_lag2_student_t_block10_complete.csv (deflated 53%)\n",
            "  adding: content/output_block_missing/nonlinear_ts_n500_vars4_lag2_gaussian_block10_causal_structure.txt (deflated 50%)\n",
            "  adding: content/output_block_missing/nonlinear_ts_n1000_vars4_lag4_gaussian_block30_causal_graph.png (deflated 6%)\n",
            "  adding: content/output_block_missing/nonlinear_ts_n1000_vars8_lag3_student_t_block30_causal_structure.txt (deflated 63%)\n",
            "  adding: content/output_block_missing/nonlinear_ts_n3000_vars6_lag4_gaussian_block10_missing.csv (deflated 54%)\n",
            "  adding: content/output_block_missing/nonlinear_ts_n1000_vars6_lag4_gaussian_block30_causal_structure.txt (deflated 59%)\n",
            "  adding: content/output_block_missing/nonlinear_ts_n5000_vars8_lag2_student_t_block30_complete.csv (deflated 54%)\n",
            "  adding: content/output_block_missing/nonlinear_ts_n3000_vars6_lag3_student_t_block30_causal_graph.png (deflated 6%)\n",
            "  adding: content/output_block_missing/nonlinear_ts_n5000_vars6_lag4_gaussian_block20_causal_graph.png (deflated 7%)\n",
            "  adding: content/output_block_missing/nonlinear_ts_n3000_vars8_lag2_student_t_block30_statistics.txt (deflated 34%)\n",
            "  adding: content/output_block_missing/nonlinear_ts_n500_vars8_lag3_gaussian_block10_series.png (deflated 1%)\n",
            "  adding: content/output_block_missing/nonlinear_ts_n1000_vars4_lag4_gaussian_block20_series.png (deflated 2%)\n",
            "  adding: content/output_block_missing/nonlinear_ts_n1000_vars6_lag2_student_t_block20_missing.csv (deflated 53%)\n",
            "  adding: content/output_block_missing/nonlinear_ts_n3000_vars4_lag3_student_t_block10_missing.csv (deflated 53%)\n",
            "  adding: content/output_block_missing/nonlinear_ts_n5000_vars8_lag2_student_t_block20_causal_structure.txt (deflated 62%)\n",
            "  adding: content/output_block_missing/nonlinear_ts_n500_vars8_lag3_student_t_block30_causal_graph.png (deflated 5%)\n",
            "  adding: content/output_block_missing/nonlinear_ts_n5000_vars8_lag3_student_t_block10_statistics.txt (deflated 35%)\n",
            "  adding: content/output_block_missing/nonlinear_ts_n500_vars6_lag4_gaussian_block10_missing.csv (deflated 52%)\n",
            "  adding: content/output_block_missing/nonlinear_ts_n1000_vars4_lag4_gaussian_block30_statistics.txt (deflated 29%)\n",
            "  adding: content/output_block_missing/nonlinear_ts_n1000_vars6_lag4_student_t_block20_complete.csv (deflated 53%)\n",
            "  adding: content/output_block_missing/nonlinear_ts_n500_vars4_lag2_student_t_block20_causal_graph.png (deflated 8%)\n",
            "  adding: content/output_block_missing/nonlinear_ts_n3000_vars4_lag2_gaussian_block10_missing_pattern.png (deflated 7%)\n",
            "  adding: content/output_block_missing/nonlinear_ts_n500_vars6_lag4_student_t_block30_statistics.txt (deflated 32%)\n",
            "  adding: content/output_block_missing/nonlinear_ts_n5000_vars6_lag2_student_t_block20_causal_graph.png (deflated 9%)\n",
            "  adding: content/output_block_missing/nonlinear_ts_n500_vars4_lag2_student_t_block30_causal_structure.txt (deflated 50%)\n",
            "  adding: content/output_block_missing/nonlinear_ts_n1000_vars4_lag2_student_t_block30_missing_pattern.png (deflated 11%)\n",
            "  adding: content/output_block_missing/nonlinear_ts_n5000_vars6_lag4_student_t_block20_series.png (deflated 3%)\n",
            "  adding: content/output_block_missing/nonlinear_ts_n5000_vars6_lag3_gaussian_block10_statistics.txt (deflated 32%)\n",
            "  adding: content/output_block_missing/nonlinear_ts_n1000_vars8_lag3_student_t_block30_complete.csv (deflated 54%)\n",
            "  adding: content/output_block_missing/nonlinear_ts_n1000_vars6_lag3_gaussian_block10_causal_structure.txt (deflated 59%)\n",
            "  adding: content/output_block_missing/nonlinear_ts_n500_vars4_lag2_gaussian_block10_missing_pattern.png (deflated 15%)\n",
            "  adding: content/output_block_missing/nonlinear_ts_n3000_vars4_lag3_gaussian_block30_statistics.txt (deflated 28%)\n",
            "  adding: content/output_block_missing/nonlinear_ts_n3000_vars8_lag2_gaussian_block30_causal_graph.png (deflated 7%)\n",
            "  adding: content/output_block_missing/nonlinear_ts_n500_vars8_lag4_gaussian_block10_missing_pattern.png (deflated 10%)\n",
            "  adding: content/output_block_missing/nonlinear_ts_n5000_vars6_lag2_gaussian_block10_missing_pattern.png (deflated 6%)\n",
            "  adding: content/output_block_missing/nonlinear_ts_n500_vars6_lag2_student_t_block20_causal_graph.png (deflated 8%)\n",
            "  adding: content/output_block_missing/nonlinear_ts_n3000_vars4_lag4_gaussian_block20_missing.csv (deflated 54%)\n",
            "  adding: content/output_block_missing/nonlinear_ts_n5000_vars6_lag3_student_t_block20_statistics.txt (deflated 32%)\n",
            "  adding: content/output_block_missing/nonlinear_ts_n1000_vars4_lag3_gaussian_block30_causal_graph.png (deflated 6%)\n",
            "  adding: content/output_block_missing/nonlinear_ts_n5000_vars4_lag3_student_t_block30_series.png (deflated 4%)\n",
            "  adding: content/output_block_missing/nonlinear_ts_n5000_vars4_lag2_gaussian_block20_statistics.txt (deflated 28%)\n",
            "  adding: content/output_block_missing/nonlinear_ts_n5000_vars6_lag4_student_t_block30_statistics.txt (deflated 32%)\n",
            "  adding: content/output_block_missing/nonlinear_ts_n3000_vars8_lag3_gaussian_block10_statistics.txt (deflated 36%)\n",
            "  adding: content/output_block_missing/nonlinear_ts_n1000_vars6_lag4_student_t_block20_statistics.txt (deflated 32%)\n",
            "  adding: content/output_block_missing/nonlinear_ts_n5000_vars6_lag3_student_t_block20_missing.csv (deflated 54%)\n",
            "  adding: content/output_block_missing/nonlinear_ts_n1000_vars8_lag2_student_t_block20_missing.csv (deflated 53%)\n",
            "  adding: content/output_block_missing/nonlinear_ts_n1000_vars8_lag3_student_t_block10_series.png (deflated 4%)\n",
            "  adding: content/output_block_missing/nonlinear_ts_n3000_vars8_lag4_gaussian_block20_missing.csv (deflated 54%)\n",
            "  adding: content/output_block_missing/nonlinear_ts_n3000_vars4_lag4_gaussian_block10_causal_graph.png (deflated 6%)\n",
            "  adding: content/output_block_missing/nonlinear_ts_n5000_vars8_lag4_gaussian_block10_series.png (deflated 1%)\n",
            "  adding: content/output_block_missing/nonlinear_ts_n3000_vars6_lag4_gaussian_block30_series.png (deflated 1%)\n",
            "  adding: content/output_block_missing/nonlinear_ts_n500_vars6_lag3_gaussian_block20_series.png (deflated 1%)\n",
            "  adding: content/output_block_missing/nonlinear_ts_n1000_vars4_lag4_gaussian_block20_complete.csv (deflated 53%)\n",
            "  adding: content/output_block_missing/nonlinear_ts_n5000_vars8_lag4_student_t_block20_series.png (deflated 3%)\n",
            "  adding: content/output_block_missing/nonlinear_ts_n3000_vars8_lag2_student_t_block10_statistics.txt (deflated 35%)\n",
            "  adding: content/output_block_missing/nonlinear_ts_n3000_vars4_lag2_student_t_block30_missing_pattern.png (deflated 6%)\n",
            "  adding: content/output_block_missing/nonlinear_ts_n1000_vars8_lag3_student_t_block20_causal_graph.png (deflated 5%)\n",
            "  adding: content/output_block_missing/nonlinear_ts_n1000_vars8_lag4_gaussian_block20_missing_pattern.png (deflated 9%)\n",
            "  adding: content/output_block_missing/nonlinear_ts_n1000_vars4_lag3_gaussian_block10_series.png (deflated 2%)\n",
            "  adding: content/output_block_missing/nonlinear_ts_n500_vars4_lag4_student_t_block20_causal_graph.png (deflated 6%)\n",
            "  adding: content/output_block_missing/nonlinear_ts_n5000_vars4_lag3_gaussian_block20_complete.csv (deflated 54%)\n",
            "  adding: content/output_block_missing/nonlinear_ts_n1000_vars4_lag2_gaussian_block30_statistics.txt (deflated 29%)\n",
            "  adding: content/output_block_missing/nonlinear_ts_n5000_vars4_lag3_gaussian_block30_statistics.txt (deflated 29%)\n",
            "  adding: content/output_block_missing/nonlinear_ts_n5000_vars6_lag2_gaussian_block20_complete.csv (deflated 54%)\n",
            "  adding: content/output_block_missing/nonlinear_ts_n1000_vars8_lag2_gaussian_block30_causal_structure.txt (deflated 62%)\n",
            "  adding: content/output_block_missing/nonlinear_ts_n500_vars6_lag4_gaussian_block30_missing_pattern.png (deflated 10%)\n",
            "  adding: content/output_block_missing/nonlinear_ts_n1000_vars6_lag3_student_t_block30_causal_structure.txt (deflated 59%)\n",
            "  adding: content/output_block_missing/nonlinear_ts_n500_vars6_lag3_student_t_block30_complete.csv (deflated 52%)\n",
            "  adding: content/output_block_missing/nonlinear_ts_n500_vars4_lag4_student_t_block20_causal_structure.txt (deflated 53%)\n",
            "  adding: content/output_block_missing/nonlinear_ts_n500_vars8_lag3_gaussian_block10_complete.csv (deflated 53%)\n",
            "  adding: content/output_block_missing/nonlinear_ts_n1000_vars8_lag3_student_t_block10_causal_graph.png (deflated 5%)\n",
            "  adding: content/output_block_missing/nonlinear_ts_n1000_vars8_lag4_student_t_block30_missing.csv (deflated 53%)\n",
            "  adding: content/output_block_missing/nonlinear_ts_n1000_vars4_lag4_gaussian_block20_causal_structure.txt (deflated 53%)\n",
            "  adding: content/output_block_missing/nonlinear_ts_n3000_vars4_lag3_gaussian_block30_causal_structure.txt (deflated 53%)\n",
            "  adding: content/output_block_missing/nonlinear_ts_n1000_vars6_lag2_gaussian_block20_missing_pattern.png (deflated 11%)\n",
            "  adding: content/output_block_missing/nonlinear_ts_n1000_vars6_lag3_gaussian_block20_series.png (deflated 1%)\n",
            "  adding: content/output_block_missing/nonlinear_ts_n3000_vars8_lag4_student_t_block10_causal_structure.txt (deflated 63%)\n",
            "  adding: content/output_block_missing/nonlinear_ts_n5000_vars4_lag4_student_t_block10_causal_structure.txt (deflated 53%)\n",
            "  adding: content/output_block_missing/nonlinear_ts_n1000_vars6_lag3_student_t_block10_series.png (deflated 3%)\n",
            "  adding: content/output_block_missing/nonlinear_ts_n1000_vars6_lag3_gaussian_block10_missing_pattern.png (deflated 11%)\n",
            "  adding: content/output_block_missing/nonlinear_ts_n1000_vars6_lag4_gaussian_block20_causal_structure.txt (deflated 59%)\n",
            "  adding: content/output_block_missing/nonlinear_ts_n3000_vars8_lag2_student_t_block30_complete.csv (deflated 54%)\n",
            "  adding: content/output_block_missing/nonlinear_ts_n500_vars4_lag4_student_t_block20_missing_pattern.png (deflated 14%)\n",
            "  adding: content/output_block_missing/nonlinear_ts_n5000_vars8_lag2_gaussian_block30_complete.csv (deflated 55%)\n",
            "  adding: content/output_block_missing/nonlinear_ts_n500_vars8_lag3_gaussian_block10_causal_structure.txt (deflated 63%)\n",
            "  adding: content/output_block_missing/nonlinear_ts_n500_vars4_lag2_student_t_block20_missing.csv (deflated 51%)\n",
            "  adding: content/output_block_missing/nonlinear_ts_n5000_vars4_lag4_gaussian_block20_causal_graph.png (deflated 6%)\n",
            "  adding: content/output_block_missing/nonlinear_ts_n3000_vars6_lag3_student_t_block20_complete.csv (deflated 54%)\n",
            "  adding: content/output_block_missing/nonlinear_ts_n500_vars4_lag3_student_t_block30_causal_structure.txt (deflated 53%)\n",
            "  adding: content/output_block_missing/nonlinear_ts_n500_vars4_lag3_student_t_block20_causal_structure.txt (deflated 53%)\n",
            "  adding: content/output_block_missing/nonlinear_ts_n5000_vars8_lag2_student_t_block30_causal_graph.png (deflated 7%)\n",
            "  adding: content/output_block_missing/nonlinear_ts_n5000_vars6_lag2_student_t_block20_complete.csv (deflated 54%)\n",
            "  adding: content/output_block_missing/nonlinear_ts_n5000_vars4_lag2_gaussian_block20_causal_structure.txt (deflated 50%)\n",
            "  adding: content/output_block_missing/nonlinear_ts_n1000_vars4_lag4_student_t_block20_statistics.txt (deflated 29%)\n",
            "  adding: content/output_block_missing/nonlinear_ts_n1000_vars4_lag4_student_t_block10_missing_pattern.png (deflated 12%)\n",
            "  adding: content/output_block_missing/nonlinear_ts_n3000_vars4_lag3_gaussian_block20_missing_pattern.png (deflated 7%)\n",
            "  adding: content/output_block_missing/nonlinear_ts_n500_vars6_lag2_student_t_block10_missing.csv (deflated 52%)\n",
            "  adding: content/output_block_missing/nonlinear_ts_n1000_vars6_lag3_student_t_block30_series.png (deflated 3%)\n",
            "  adding: content/output_block_missing/nonlinear_ts_n500_vars8_lag2_student_t_block10_causal_graph.png (deflated 7%)\n",
            "  adding: content/output_block_missing/nonlinear_ts_n5000_vars4_lag3_gaussian_block20_causal_structure.txt (deflated 53%)\n",
            "  adding: content/output_block_missing/nonlinear_ts_n1000_vars4_lag3_student_t_block30_missing.csv (deflated 52%)\n",
            "  adding: content/output_block_missing/nonlinear_ts_n500_vars6_lag3_student_t_block10_causal_graph.png (deflated 6%)\n",
            "  adding: content/output_block_missing/nonlinear_ts_n5000_vars8_lag3_student_t_block20_missing.csv (deflated 54%)\n",
            "  adding: content/output_block_missing/nonlinear_ts_n5000_vars6_lag3_gaussian_block10_missing.csv (deflated 54%)\n",
            "  adding: content/output_block_missing/nonlinear_ts_n3000_vars8_lag2_student_t_block30_missing.csv (deflated 54%)\n",
            "  adding: content/output_block_missing/nonlinear_ts_n500_vars4_lag4_student_t_block30_complete.csv (deflated 51%)\n",
            "  adding: content/output_block_missing/nonlinear_ts_n3000_vars4_lag4_gaussian_block10_complete.csv (deflated 54%)\n",
            "  adding: content/output_block_missing/nonlinear_ts_n500_vars8_lag3_student_t_block20_missing_pattern.png (deflated 9%)\n",
            "  adding: content/output_block_missing/nonlinear_ts_n3000_vars6_lag4_gaussian_block30_missing.csv (deflated 54%)\n",
            "  adding: content/output_block_missing/nonlinear_ts_n5000_vars6_lag3_gaussian_block20_missing_pattern.png (deflated 5%)\n",
            "  adding: content/output_block_missing/nonlinear_ts_n1000_vars6_lag3_gaussian_block30_missing.csv (deflated 53%)\n",
            "  adding: content/output_block_missing/nonlinear_ts_n500_vars6_lag2_gaussian_block30_causal_graph.png (deflated 8%)\n",
            "  adding: content/output_block_missing/nonlinear_ts_n3000_vars8_lag3_student_t_block10_missing_pattern.png (deflated 6%)\n",
            "  adding: content/output_block_missing/nonlinear_ts_n500_vars4_lag3_student_t_block10_statistics.txt (deflated 29%)\n",
            "  adding: content/output_block_missing/nonlinear_ts_n1000_vars6_lag4_student_t_block30_causal_structure.txt (deflated 59%)\n",
            "  adding: content/output_block_missing/nonlinear_ts_n5000_vars4_lag4_gaussian_block20_statistics.txt (deflated 28%)\n",
            "  adding: content/output_block_missing/nonlinear_ts_n5000_vars4_lag4_gaussian_block20_missing_pattern.png (deflated 5%)\n",
            "  adding: content/output_block_missing/nonlinear_ts_n500_vars4_lag4_student_t_block20_complete.csv (deflated 51%)\n",
            "  adding: content/output_block_missing/nonlinear_ts_n500_vars4_lag4_student_t_block30_statistics.txt (deflated 33%)\n",
            "  adding: content/output_block_missing/nonlinear_ts_n5000_vars6_lag2_student_t_block10_causal_structure.txt (deflated 58%)\n",
            "  adding: content/output_block_missing/nonlinear_ts_n500_vars4_lag2_student_t_block10_statistics.txt (deflated 29%)\n",
            "  adding: content/output_block_missing/nonlinear_ts_n1000_vars4_lag3_gaussian_block10_causal_graph.png (deflated 6%)\n",
            "  adding: content/output_block_missing/nonlinear_ts_n500_vars8_lag3_gaussian_block20_missing.csv (deflated 52%)\n",
            "  adding: content/output_block_missing/nonlinear_ts_n500_vars4_lag2_student_t_block20_complete.csv (deflated 51%)\n",
            "  adding: content/output_block_missing/nonlinear_ts_n500_vars8_lag4_student_t_block20_missing_pattern.png (deflated 9%)\n",
            "  adding: content/output_block_missing/nonlinear_ts_n3000_vars4_lag3_student_t_block30_complete.csv (deflated 54%)\n",
            "  adding: content/output_block_missing/nonlinear_ts_n3000_vars8_lag4_student_t_block10_causal_graph.png (deflated 6%)\n",
            "  adding: content/output_block_missing/nonlinear_ts_n500_vars6_lag3_gaussian_block10_complete.csv (deflated 52%)\n",
            "  adding: content/output_block_missing/nonlinear_ts_n3000_vars4_lag3_student_t_block20_missing_pattern.png (deflated 7%)\n",
            "  adding: content/output_block_missing/nonlinear_ts_n5000_vars8_lag3_gaussian_block10_missing_pattern.png (deflated 4%)\n",
            "  adding: content/output_block_missing/nonlinear_ts_n5000_vars6_lag3_gaussian_block20_statistics.txt (deflated 32%)\n",
            "  adding: content/output_block_missing/nonlinear_ts_n1000_vars8_lag3_student_t_block20_series.png (deflated 3%)\n",
            "  adding: content/output_block_missing/nonlinear_ts_n500_vars8_lag2_gaussian_block30_complete.csv (deflated 53%)\n",
            "  adding: content/output_block_missing/nonlinear_ts_n3000_vars8_lag4_gaussian_block10_missing_pattern.png (deflated 6%)\n",
            "  adding: content/output_block_missing/nonlinear_ts_n3000_vars4_lag2_student_t_block10_series.png (deflated 3%)\n",
            "  adding: content/output_block_missing/nonlinear_ts_n5000_vars6_lag3_student_t_block20_series.png (deflated 4%)\n",
            "  adding: content/output_block_missing/nonlinear_ts_n500_vars4_lag2_student_t_block30_causal_graph.png (deflated 7%)\n",
            "  adding: content/output_block_missing/nonlinear_ts_n5000_vars6_lag3_gaussian_block20_complete.csv (deflated 54%)\n",
            "  adding: content/output_block_missing/nonlinear_ts_n500_vars4_lag3_student_t_block30_missing.csv (deflated 51%)\n",
            "  adding: content/output_block_missing/nonlinear_ts_n500_vars4_lag2_gaussian_block10_missing.csv (deflated 51%)\n",
            "  adding: content/output_block_missing/nonlinear_ts_n1000_vars4_lag3_gaussian_block10_complete.csv (deflated 53%)\n",
            "  adding: content/output_block_missing/nonlinear_ts_n1000_vars8_lag4_student_t_block10_causal_graph.png (deflated 5%)\n",
            "  adding: content/output_block_missing/nonlinear_ts_n5000_vars6_lag3_gaussian_block20_missing.csv (deflated 54%)\n",
            "  adding: content/output_block_missing/nonlinear_ts_n3000_vars6_lag4_student_t_block20_series.png (deflated 3%)\n",
            "  adding: content/output_block_missing/nonlinear_ts_n3000_vars6_lag4_student_t_block20_complete.csv (deflated 54%)\n",
            "  adding: content/output_block_missing/nonlinear_ts_n5000_vars4_lag2_gaussian_block20_causal_graph.png (deflated 8%)\n",
            "  adding: content/output_block_missing/nonlinear_ts_n3000_vars6_lag3_gaussian_block30_series.png (deflated 1%)\n",
            "  adding: content/output_block_missing/nonlinear_ts_n5000_vars8_lag3_student_t_block10_series.png (deflated 3%)\n",
            "  adding: content/output_block_missing/nonlinear_ts_n3000_vars8_lag2_gaussian_block10_complete.csv (deflated 54%)\n",
            "  adding: content/output_block_missing/nonlinear_ts_n1000_vars4_lag2_gaussian_block30_missing_pattern.png (deflated 10%)\n",
            "  adding: content/output_block_missing/nonlinear_ts_n1000_vars8_lag2_student_t_block20_series.png (deflated 3%)\n",
            "  adding: content/output_block_missing/nonlinear_ts_n3000_vars4_lag2_gaussian_block20_complete.csv (deflated 54%)\n",
            "  adding: content/output_block_missing/nonlinear_ts_n3000_vars8_lag4_student_t_block30_missing.csv (deflated 54%)\n",
            "  adding: content/output_block_missing/nonlinear_ts_n1000_vars6_lag2_student_t_block30_missing_pattern.png (deflated 10%)\n",
            "  adding: content/output_block_missing/nonlinear_ts_n1000_vars6_lag4_gaussian_block20_missing_pattern.png (deflated 11%)\n",
            "  adding: content/output_block_missing/nonlinear_ts_n5000_vars8_lag3_gaussian_block10_statistics.txt (deflated 36%)\n",
            "  adding: content/output_block_missing/nonlinear_ts_n3000_vars6_lag4_gaussian_block20_causal_graph.png (deflated 7%)\n",
            "  adding: content/output_block_missing/nonlinear_ts_n1000_vars6_lag4_gaussian_block10_series.png (deflated 1%)\n",
            "  adding: content/output_block_missing/nonlinear_ts_n3000_vars4_lag3_gaussian_block30_missing.csv (deflated 54%)\n",
            "  adding: content/output_block_missing/nonlinear_ts_n3000_vars6_lag2_gaussian_block10_missing_pattern.png (deflated 7%)\n",
            "  adding: content/output_block_missing/nonlinear_ts_n5000_vars8_lag2_gaussian_block20_missing_pattern.png (deflated 4%)\n",
            "  adding: content/output_block_missing/nonlinear_ts_n1000_vars6_lag3_gaussian_block20_missing_pattern.png (deflated 11%)\n",
            "  adding: content/output_block_missing/nonlinear_ts_n5000_vars6_lag2_gaussian_block30_missing_pattern.png (deflated 5%)\n",
            "  adding: content/output_block_missing/nonlinear_ts_n500_vars4_lag3_gaussian_block20_missing.csv (deflated 51%)\n",
            "  adding: content/output_block_missing/nonlinear_ts_n500_vars6_lag4_gaussian_block30_statistics.txt (deflated 32%)\n",
            "  adding: content/output_block_missing/nonlinear_ts_n1000_vars4_lag3_student_t_block10_missing.csv (deflated 52%)\n",
            "  adding: content/output_block_missing/nonlinear_ts_n500_vars4_lag2_gaussian_block30_missing_pattern.png (deflated 11%)\n",
            "  adding: content/output_block_missing/nonlinear_ts_n1000_vars6_lag2_student_t_block20_missing_pattern.png (deflated 10%)\n",
            "  adding: content/output_block_missing/nonlinear_ts_n3000_vars6_lag3_student_t_block30_complete.csv (deflated 54%)\n",
            "  adding: content/output_block_missing/nonlinear_ts_n5000_vars4_lag3_gaussian_block30_complete.csv (deflated 54%)\n",
            "  adding: content/output_block_missing/nonlinear_ts_n1000_vars6_lag4_gaussian_block10_causal_structure.txt (deflated 59%)\n",
            "  adding: content/output_block_missing/nonlinear_ts_n5000_vars4_lag2_student_t_block20_missing_pattern.png (deflated 5%)\n",
            "  adding: content/output_block_missing/nonlinear_ts_n5000_vars4_lag2_student_t_block10_series.png (deflated 4%)\n",
            "  adding: content/output_block_missing/nonlinear_ts_n1000_vars4_lag3_student_t_block30_missing_pattern.png (deflated 11%)\n",
            "  adding: content/output_block_missing/nonlinear_ts_n1000_vars8_lag4_gaussian_block30_complete.csv (deflated 54%)\n",
            "  adding: content/output_block_missing/nonlinear_ts_n5000_vars4_lag3_student_t_block30_missing_pattern.png (deflated 4%)\n",
            "  adding: content/output_block_missing/nonlinear_ts_n1000_vars4_lag3_student_t_block30_series.png (deflated 3%)\n",
            "  adding: content/output_block_missing/nonlinear_ts_n500_vars6_lag4_student_t_block20_statistics.txt (deflated 33%)\n",
            "  adding: content/output_block_missing/nonlinear_ts_n3000_vars4_lag4_student_t_block10_missing.csv (deflated 53%)\n",
            "  adding: content/output_block_missing/nonlinear_ts_n3000_vars8_lag4_gaussian_block30_complete.csv (deflated 54%)\n",
            "  adding: content/output_block_missing/nonlinear_ts_n3000_vars4_lag2_student_t_block10_statistics.txt (deflated 29%)\n",
            "  adding: content/output_block_missing/nonlinear_ts_n3000_vars4_lag2_student_t_block30_causal_graph.png (deflated 8%)\n",
            "  adding: content/output_block_missing/nonlinear_ts_n500_vars4_lag2_gaussian_block20_series.png (deflated 1%)\n",
            "  adding: content/output_block_missing/nonlinear_ts_n3000_vars6_lag4_student_t_block10_missing.csv (deflated 54%)\n",
            "  adding: content/output_block_missing/nonlinear_ts_n500_vars4_lag3_gaussian_block10_series.png (deflated 2%)\n",
            "  adding: content/output_block_missing/nonlinear_ts_n3000_vars6_lag2_gaussian_block20_complete.csv (deflated 54%)\n",
            "  adding: content/output_block_missing/nonlinear_ts_n1000_vars6_lag3_gaussian_block20_statistics.txt (deflated 33%)\n",
            "  adding: content/output_block_missing/nonlinear_ts_n1000_vars4_lag2_student_t_block20_statistics.txt (deflated 29%)\n",
            "  adding: content/output_block_missing/nonlinear_ts_n1000_vars4_lag3_gaussian_block30_statistics.txt (deflated 29%)\n",
            "  adding: content/output_block_missing/nonlinear_ts_n3000_vars8_lag3_student_t_block10_missing.csv (deflated 54%)\n",
            "  adding: content/output_block_missing/nonlinear_ts_n5000_vars6_lag3_gaussian_block20_causal_structure.txt (deflated 59%)\n",
            "  adding: content/output_block_missing/nonlinear_ts_n1000_vars4_lag4_student_t_block10_statistics.txt (deflated 30%)\n",
            "  adding: content/output_block_missing/nonlinear_ts_n500_vars4_lag2_gaussian_block20_complete.csv (deflated 52%)\n",
            "  adding: content/output_block_missing/nonlinear_ts_n500_vars8_lag4_student_t_block20_missing.csv (deflated 52%)\n",
            "  adding: content/output_block_missing/nonlinear_ts_n5000_vars6_lag2_student_t_block20_causal_structure.txt (deflated 58%)\n",
            "  adding: content/output_block_missing/nonlinear_ts_n3000_vars4_lag3_student_t_block20_statistics.txt (deflated 29%)\n",
            "  adding: content/output_block_missing/nonlinear_ts_n500_vars8_lag3_gaussian_block30_missing_pattern.png (deflated 9%)\n",
            "  adding: content/output_block_missing/nonlinear_ts_n1000_vars6_lag2_student_t_block10_missing_pattern.png (deflated 10%)\n",
            "  adding: content/output_block_missing/nonlinear_ts_n1000_vars4_lag3_student_t_block10_causal_structure.txt (deflated 53%)\n",
            "  adding: content/output_block_missing/nonlinear_ts_n1000_vars4_lag4_student_t_block10_causal_graph.png (deflated 6%)\n",
            "  adding: content/output_block_missing/nonlinear_ts_n5000_vars6_lag4_gaussian_block10_series.png (deflated 1%)\n",
            "  adding: content/output_block_missing/nonlinear_ts_n500_vars8_lag4_student_t_block30_statistics.txt (deflated 36%)\n",
            "  adding: content/output_block_missing/nonlinear_ts_n1000_vars8_lag4_student_t_block10_missing.csv (deflated 53%)\n",
            "  adding: content/output_block_missing/nonlinear_ts_n5000_vars8_lag4_student_t_block30_statistics.txt (deflated 35%)\n",
            "  adding: content/output_block_missing/nonlinear_ts_n500_vars8_lag4_student_t_block30_causal_graph.png (deflated 5%)\n",
            "  adding: content/output_block_missing/nonlinear_ts_n5000_vars8_lag2_student_t_block30_causal_structure.txt (deflated 62%)\n",
            "  adding: content/output_block_missing/nonlinear_ts_n500_vars6_lag3_gaussian_block30_missing.csv (deflated 52%)\n",
            "  adding: content/output_block_missing/nonlinear_ts_n5000_vars6_lag4_gaussian_block20_missing_pattern.png (deflated 5%)\n",
            "  adding: content/output_block_missing/nonlinear_ts_n3000_vars4_lag2_student_t_block20_causal_structure.txt (deflated 50%)\n",
            "  adding: content/output_block_missing/nonlinear_ts_n5000_vars4_lag4_student_t_block10_missing_pattern.png (deflated 6%)\n",
            "  adding: content/output_block_missing/nonlinear_ts_n1000_vars6_lag3_gaussian_block20_complete.csv (deflated 53%)\n",
            "  adding: content/output_block_missing/nonlinear_ts_n5000_vars4_lag4_student_t_block10_statistics.txt (deflated 30%)\n",
            "  adding: content/output_block_missing/nonlinear_ts_n500_vars4_lag2_gaussian_block30_statistics.txt (deflated 29%)\n",
            "  adding: content/output_block_missing/nonlinear_ts_n1000_vars6_lag3_student_t_block20_missing.csv (deflated 53%)\n",
            "  adding: content/output_block_missing/nonlinear_ts_n5000_vars6_lag4_student_t_block10_missing_pattern.png (deflated 6%)\n",
            "  adding: content/output_block_missing/nonlinear_ts_n500_vars8_lag4_student_t_block20_complete.csv (deflated 53%)\n",
            "  adding: content/output_block_missing/nonlinear_ts_n1000_vars8_lag3_gaussian_block10_causal_graph.png (deflated 6%)\n",
            "  adding: content/output_block_missing/nonlinear_ts_n1000_vars4_lag3_student_t_block30_complete.csv (deflated 53%)\n",
            "  adding: content/output_block_missing/nonlinear_ts_n3000_vars6_lag3_gaussian_block10_missing_pattern.png (deflated 7%)\n",
            "  adding: content/output_block_missing/nonlinear_ts_n500_vars4_lag2_gaussian_block20_missing_pattern.png (deflated 13%)\n",
            "  adding: content/output_block_missing/nonlinear_ts_n5000_vars8_lag4_student_t_block20_missing_pattern.png (deflated 4%)\n",
            "  adding: content/output_block_missing/nonlinear_ts_n3000_vars8_lag2_student_t_block10_missing_pattern.png (deflated 6%)\n",
            "  adding: content/output_block_missing/nonlinear_ts_n5000_vars6_lag2_gaussian_block30_causal_graph.png (deflated 9%)\n",
            "  adding: content/output_block_missing/nonlinear_ts_n3000_vars4_lag4_student_t_block10_statistics.txt (deflated 29%)\n",
            "  adding: content/output_block_missing/nonlinear_ts_n3000_vars6_lag3_gaussian_block20_missing_pattern.png (deflated 6%)\n",
            "  adding: content/output_block_missing/nonlinear_ts_n3000_vars8_lag3_student_t_block30_series.png (deflated 4%)\n",
            "  adding: content/output_block_missing/nonlinear_ts_n3000_vars6_lag2_gaussian_block20_missing_pattern.png (deflated 6%)\n",
            "  adding: content/output_block_missing/nonlinear_ts_n3000_vars6_lag2_gaussian_block10_causal_graph.png (deflated 8%)\n",
            "  adding: content/output_block_missing/nonlinear_ts_n500_vars6_lag2_student_t_block20_missing_pattern.png (deflated 11%)\n",
            "  adding: content/output_block_missing/nonlinear_ts_n5000_vars4_lag4_gaussian_block10_causal_graph.png (deflated 6%)\n",
            "  adding: content/output_block_missing/nonlinear_ts_n3000_vars8_lag3_gaussian_block10_missing.csv (deflated 54%)\n",
            "  adding: content/output_block_missing/nonlinear_ts_n1000_vars8_lag3_gaussian_block30_missing.csv (deflated 53%)\n",
            "  adding: content/output_block_missing/nonlinear_ts_n500_vars6_lag2_gaussian_block10_causal_graph.png (deflated 8%)\n",
            "  adding: content/output_block_missing/nonlinear_ts_n500_vars8_lag4_gaussian_block30_complete.csv (deflated 53%)\n",
            "  adding: content/output_block_missing/nonlinear_ts_n500_vars8_lag4_student_t_block20_series.png (deflated 4%)\n",
            "  adding: content/output_block_missing/nonlinear_ts_n500_vars8_lag2_gaussian_block20_missing_pattern.png (deflated 10%)\n",
            "  adding: content/output_block_missing/nonlinear_ts_n500_vars6_lag4_gaussian_block10_series.png (deflated 1%)\n",
            "  adding: content/output_block_missing/nonlinear_ts_n5000_vars6_lag3_student_t_block30_causal_structure.txt (deflated 59%)\n",
            "  adding: content/output_block_missing/nonlinear_ts_n3000_vars8_lag4_student_t_block10_missing_pattern.png (deflated 6%)\n",
            "  adding: content/output_block_missing/nonlinear_ts_n1000_vars4_lag4_gaussian_block20_missing.csv (deflated 52%)\n",
            "  adding: content/output_block_missing/nonlinear_ts_n5000_vars4_lag3_gaussian_block30_series.png (deflated 1%)\n",
            "  adding: content/output_block_missing/nonlinear_ts_n5000_vars6_lag3_student_t_block20_missing_pattern.png (deflated 5%)\n",
            "  adding: content/output_block_missing/nonlinear_ts_n1000_vars8_lag4_gaussian_block30_statistics.txt (deflated 36%)\n",
            "  adding: content/output_block_missing/nonlinear_ts_n500_vars4_lag4_gaussian_block30_complete.csv (deflated 52%)\n",
            "  adding: content/output_block_missing/nonlinear_ts_n500_vars4_lag2_student_t_block30_missing_pattern.png (deflated 12%)\n",
            "  adding: content/output_block_missing/nonlinear_ts_n500_vars4_lag3_student_t_block10_causal_graph.png (deflated 6%)\n",
            "  adding: content/output_block_missing/nonlinear_ts_n1000_vars4_lag3_gaussian_block20_missing.csv (deflated 52%)\n",
            "  adding: content/output_block_missing/nonlinear_ts_n5000_vars8_lag4_student_t_block30_missing.csv (deflated 54%)\n",
            "  adding: content/output_block_missing/nonlinear_ts_n3000_vars8_lag3_student_t_block20_causal_graph.png (deflated 5%)\n",
            "  adding: content/output_block_missing/nonlinear_ts_n1000_vars6_lag4_gaussian_block10_causal_graph.png (deflated 7%)\n",
            "  adding: content/output_block_missing/nonlinear_ts_n5000_vars8_lag4_student_t_block10_missing.csv (deflated 54%)\n",
            "  adding: content/output_block_missing/nonlinear_ts_n1000_vars6_lag2_gaussian_block20_statistics.txt (deflated 33%)\n",
            "  adding: content/output_block_missing/nonlinear_ts_n1000_vars8_lag4_student_t_block30_causal_structure.txt (deflated 63%)\n",
            "  adding: content/output_block_missing/nonlinear_ts_n3000_vars6_lag2_gaussian_block10_complete.csv (deflated 54%)\n",
            "  adding: content/output_block_missing/nonlinear_ts_n1000_vars8_lag4_student_t_block10_causal_structure.txt (deflated 63%)\n",
            "  adding: content/output_block_missing/nonlinear_ts_n500_vars6_lag2_gaussian_block20_causal_structure.txt (deflated 58%)\n",
            "  adding: content/output_block_missing/nonlinear_ts_n1000_vars4_lag2_gaussian_block30_missing.csv (deflated 52%)\n",
            "  adding: content/output_block_missing/nonlinear_ts_n5000_vars6_lag4_gaussian_block30_complete.csv (deflated 54%)\n",
            "  adding: content/output_block_missing/nonlinear_ts_n5000_vars8_lag2_student_t_block30_missing.csv (deflated 54%)\n",
            "  adding: content/output_block_missing/nonlinear_ts_n3000_vars6_lag2_gaussian_block20_causal_graph.png (deflated 9%)\n",
            "  adding: content/output_block_missing/nonlinear_ts_n3000_vars6_lag2_gaussian_block30_series.png (deflated 1%)\n",
            "  adding: content/output_block_missing/nonlinear_ts_n1000_vars8_lag3_gaussian_block30_missing_pattern.png (deflated 9%)\n",
            "  adding: content/output_block_missing/nonlinear_ts_n5000_vars6_lag3_gaussian_block30_causal_structure.txt (deflated 59%)\n",
            "  adding: content/output_block_missing/nonlinear_ts_n500_vars6_lag2_gaussian_block10_missing.csv (deflated 52%)\n",
            "  adding: content/output_block_missing/nonlinear_ts_n500_vars6_lag4_gaussian_block10_complete.csv (deflated 53%)\n",
            "  adding: content/output_block_missing/nonlinear_ts_n3000_vars4_lag2_student_t_block10_causal_graph.png (deflated 8%)\n",
            "  adding: content/output_block_missing/nonlinear_ts_n1000_vars8_lag4_student_t_block20_missing_pattern.png (deflated 9%)\n",
            "  adding: content/output_block_missing/nonlinear_ts_n500_vars4_lag4_gaussian_block20_series.png (deflated 2%)\n",
            "  adding: content/output_block_missing/nonlinear_ts_n5000_vars8_lag2_student_t_block10_causal_graph.png (deflated 7%)\n",
            "  adding: content/output_block_missing/nonlinear_ts_n1000_vars6_lag2_student_t_block10_causal_graph.png (deflated 8%)\n",
            "  adding: content/output_block_missing/nonlinear_ts_n1000_vars4_lag4_student_t_block10_complete.csv (deflated 53%)\n",
            "  adding: content/output_block_missing/nonlinear_ts_n1000_vars8_lag4_student_t_block10_statistics.txt (deflated 35%)\n",
            "  adding: content/output_block_missing/nonlinear_ts_n5000_vars8_lag2_gaussian_block10_statistics.txt (deflated 36%)\n",
            "  adding: content/output_block_missing/nonlinear_ts_n500_vars6_lag3_student_t_block20_statistics.txt (deflated 33%)\n",
            "  adding: content/output_block_missing/nonlinear_ts_n3000_vars4_lag2_gaussian_block20_series.png (deflated 1%)\n",
            "  adding: content/output_block_missing/nonlinear_ts_n3000_vars4_lag3_student_t_block10_missing_pattern.png (deflated 7%)\n",
            "  adding: content/output_block_missing/nonlinear_ts_n5000_vars4_lag3_student_t_block30_statistics.txt (deflated 30%)\n",
            "  adding: content/output_block_missing/nonlinear_ts_n3000_vars8_lag4_student_t_block10_series.png (deflated 3%)\n",
            "  adding: content/output_block_missing/nonlinear_ts_n1000_vars4_lag3_gaussian_block30_complete.csv (deflated 53%)\n",
            "  adding: content/output_block_missing/nonlinear_ts_n5000_vars4_lag4_student_t_block20_missing_pattern.png (deflated 5%)\n",
            "  adding: content/output_block_missing/nonlinear_ts_n3000_vars8_lag2_student_t_block20_statistics.txt (deflated 36%)\n",
            "  adding: content/output_block_missing/nonlinear_ts_n500_vars8_lag2_gaussian_block10_missing.csv (deflated 52%)\n",
            "  adding: content/output_block_missing/nonlinear_ts_n1000_vars6_lag2_gaussian_block30_series.png (deflated 1%)\n",
            "  adding: content/output_block_missing/nonlinear_ts_n500_vars8_lag4_student_t_block10_missing.csv (deflated 52%)\n",
            "  adding: content/output_block_missing/nonlinear_ts_n1000_vars6_lag2_gaussian_block30_causal_graph.png (deflated 9%)\n",
            "  adding: content/output_block_missing/nonlinear_ts_n3000_vars6_lag2_student_t_block10_missing.csv (deflated 54%)\n",
            "  adding: content/output_block_missing/nonlinear_ts_n500_vars8_lag3_gaussian_block20_missing_pattern.png (deflated 10%)\n",
            "  adding: content/output_block_missing/nonlinear_ts_n3000_vars6_lag3_gaussian_block10_series.png (deflated 1%)\n",
            "  adding: content/output_block_missing/nonlinear_ts_n3000_vars6_lag2_student_t_block20_missing_pattern.png (deflated 6%)\n",
            "  adding: content/output_block_missing/nonlinear_ts_n500_vars4_lag3_gaussian_block20_complete.csv (deflated 52%)\n",
            "  adding: content/output_block_missing/nonlinear_ts_n5000_vars8_lag3_gaussian_block20_missing.csv (deflated 54%)\n",
            "  adding: content/output_block_missing/nonlinear_ts_n1000_vars8_lag3_gaussian_block20_causal_structure.txt (deflated 63%)\n",
            "  adding: content/output_block_missing/nonlinear_ts_n5000_vars6_lag2_gaussian_block10_causal_graph.png (deflated 8%)\n",
            "  adding: content/output_block_missing/nonlinear_ts_n1000_vars8_lag3_gaussian_block10_complete.csv (deflated 54%)\n",
            "  adding: content/output_block_missing/nonlinear_ts_n5000_vars4_lag2_gaussian_block10_missing.csv (deflated 54%)\n",
            "  adding: content/output_block_missing/nonlinear_ts_n3000_vars4_lag3_gaussian_block30_missing_pattern.png (deflated 7%)\n",
            "  adding: content/output_block_missing/nonlinear_ts_n3000_vars4_lag2_student_t_block10_missing.csv (deflated 53%)\n",
            "  adding: content/output_block_missing/nonlinear_ts_n5000_vars8_lag3_student_t_block10_missing.csv (deflated 54%)\n",
            "  adding: content/output_block_missing/nonlinear_ts_n5000_vars4_lag3_gaussian_block30_missing_pattern.png (deflated 4%)\n",
            "  adding: content/output_block_missing/nonlinear_ts_n3000_vars6_lag3_student_t_block10_complete.csv (deflated 54%)\n",
            "  adding: content/output_block_missing/nonlinear_ts_n5000_vars6_lag4_student_t_block30_causal_structure.txt (deflated 59%)\n",
            "  adding: content/output_block_missing/nonlinear_ts_n500_vars8_lag3_gaussian_block30_complete.csv (deflated 53%)\n",
            "  adding: content/output_block_missing/nonlinear_ts_n1000_vars4_lag2_gaussian_block10_missing_pattern.png (deflated 12%)\n",
            "  adding: content/output_block_missing/nonlinear_ts_n1000_vars8_lag4_student_t_block30_complete.csv (deflated 54%)\n",
            "  adding: content/output_block_missing/nonlinear_ts_n5000_vars4_lag3_student_t_block30_complete.csv (deflated 54%)\n",
            "  adding: content/output_block_missing/nonlinear_ts_n3000_vars6_lag4_gaussian_block30_missing_pattern.png (deflated 6%)\n",
            "  adding: content/output_block_missing/nonlinear_ts_n500_vars8_lag2_student_t_block30_causal_graph.png (deflated 7%)\n",
            "  adding: content/output_block_missing/nonlinear_ts_n500_vars4_lag2_gaussian_block20_missing.csv (deflated 51%)\n",
            "  adding: content/output_block_missing/nonlinear_ts_n5000_vars6_lag2_student_t_block10_series.png (deflated 3%)\n",
            "  adding: content/output_block_missing/nonlinear_ts_n3000_vars4_lag3_gaussian_block20_complete.csv (deflated 54%)\n",
            "  adding: content/output_block_missing/nonlinear_ts_n5000_vars8_lag3_gaussian_block30_causal_structure.txt (deflated 63%)\n",
            "  adding: content/output_block_missing/nonlinear_ts_n1000_vars4_lag2_gaussian_block10_missing.csv (deflated 52%)\n",
            "  adding: content/output_block_missing/nonlinear_ts_n1000_vars8_lag2_gaussian_block30_causal_graph.png (deflated 7%)\n",
            "  adding: content/output_block_missing/nonlinear_ts_n1000_vars4_lag4_student_t_block20_series.png (deflated 3%)\n",
            "  adding: content/output_block_missing/nonlinear_ts_n1000_vars6_lag3_student_t_block30_complete.csv (deflated 53%)\n",
            "  adding: content/output_block_missing/nonlinear_ts_n1000_vars8_lag2_gaussian_block30_statistics.txt (deflated 36%)\n",
            "  adding: content/output_block_missing/nonlinear_ts_n1000_vars4_lag2_gaussian_block30_series.png (deflated 2%)\n",
            "  adding: content/output_block_missing/nonlinear_ts_n3000_vars4_lag2_student_t_block10_complete.csv (deflated 54%)\n",
            "  adding: content/output_block_missing/nonlinear_ts_n500_vars6_lag4_student_t_block20_missing_pattern.png (deflated 11%)\n",
            "  adding: content/output_block_missing/nonlinear_ts_n5000_vars8_lag2_student_t_block20_missing_pattern.png (deflated 4%)\n",
            "  adding: content/output_block_missing/nonlinear_ts_n1000_vars6_lag3_gaussian_block10_series.png (deflated 1%)\n",
            "  adding: content/output_block_missing/nonlinear_ts_n5000_vars6_lag4_student_t_block10_complete.csv (deflated 54%)\n",
            "  adding: content/output_block_missing/nonlinear_ts_n500_vars4_lag3_gaussian_block30_complete.csv (deflated 52%)\n",
            "  adding: content/output_block_missing/nonlinear_ts_n5000_vars4_lag3_student_t_block30_missing.csv (deflated 54%)\n",
            "  adding: content/output_block_missing/nonlinear_ts_n500_vars6_lag3_gaussian_block30_causal_structure.txt (deflated 59%)\n",
            "  adding: content/output_block_missing/nonlinear_ts_n500_vars8_lag3_gaussian_block20_series.png (deflated 1%)\n",
            "  adding: content/output_block_missing/nonlinear_ts_n3000_vars6_lag2_gaussian_block10_statistics.txt (deflated 33%)\n",
            "  adding: content/output_block_missing/nonlinear_ts_n1000_vars4_lag4_gaussian_block30_missing_pattern.png (deflated 10%)\n",
            "  adding: content/output_block_missing/nonlinear_ts_n3000_vars4_lag3_gaussian_block10_complete.csv (deflated 54%)\n",
            "  adding: content/output_block_missing/nonlinear_ts_n1000_vars8_lag2_gaussian_block20_statistics.txt (deflated 35%)\n",
            "  adding: content/output_block_missing/nonlinear_ts_n500_vars4_lag4_student_t_block30_causal_structure.txt (deflated 53%)\n",
            "  adding: content/output_block_missing/nonlinear_ts_n3000_vars4_lag3_gaussian_block20_missing.csv (deflated 54%)\n",
            "  adding: content/output_block_missing/nonlinear_ts_n1000_vars4_lag2_gaussian_block10_series.png (deflated 2%)\n",
            "  adding: content/output_block_missing/nonlinear_ts_n5000_vars8_lag3_student_t_block30_complete.csv (deflated 54%)\n",
            "  adding: content/output_block_missing/nonlinear_ts_n5000_vars4_lag3_gaussian_block30_missing.csv (deflated 54%)\n",
            "  adding: content/output_block_missing/nonlinear_ts_n500_vars8_lag4_student_t_block10_missing_pattern.png (deflated 12%)\n",
            "  adding: content/output_block_missing/nonlinear_ts_n1000_vars6_lag4_gaussian_block30_statistics.txt (deflated 33%)\n",
            "  adding: content/output_block_missing/nonlinear_ts_n5000_vars4_lag3_student_t_block10_causal_graph.png (deflated 6%)\n",
            "  adding: content/output_block_missing/nonlinear_ts_n3000_vars8_lag3_gaussian_block10_complete.csv (deflated 54%)\n",
            "  adding: content/output_block_missing/nonlinear_ts_n500_vars8_lag3_gaussian_block20_statistics.txt (deflated 34%)\n",
            "  adding: content/output_block_missing/nonlinear_ts_n500_vars8_lag3_student_t_block10_series.png (deflated 4%)\n",
            "  adding: content/output_block_missing/nonlinear_ts_n3000_vars6_lag2_student_t_block20_complete.csv (deflated 54%)\n",
            "  adding: content/output_block_missing/nonlinear_ts_n5000_vars6_lag4_student_t_block30_missing.csv (deflated 54%)\n",
            "  adding: content/output_block_missing/nonlinear_ts_n5000_vars4_lag2_student_t_block30_causal_structure.txt (deflated 50%)\n",
            "  adding: content/output_block_missing/nonlinear_ts_n500_vars6_lag4_student_t_block10_missing.csv (deflated 52%)\n",
            "  adding: content/output_block_missing/nonlinear_ts_n1000_vars6_lag2_student_t_block30_causal_graph.png (deflated 9%)\n",
            "  adding: content/output_block_missing/nonlinear_ts_n500_vars8_lag2_gaussian_block10_complete.csv (deflated 53%)\n",
            "  adding: content/output_block_missing/nonlinear_ts_n500_vars8_lag2_student_t_block10_missing.csv (deflated 52%)\n",
            "  adding: content/output_block_missing/nonlinear_ts_n3000_vars6_lag2_student_t_block30_series.png (deflated 3%)\n",
            "  adding: content/output_block_missing/nonlinear_ts_n5000_vars8_lag3_student_t_block20_missing_pattern.png (deflated 4%)\n",
            "  adding: content/output_block_missing/nonlinear_ts_n500_vars6_lag2_gaussian_block10_missing_pattern.png (deflated 13%)\n",
            "  adding: content/output_block_missing/nonlinear_ts_n3000_vars8_lag2_student_t_block10_missing.csv (deflated 54%)\n",
            "  adding: content/output_block_missing/nonlinear_ts_n3000_vars6_lag4_student_t_block30_causal_structure.txt (deflated 59%)\n",
            "  adding: content/output_block_missing/nonlinear_ts_n3000_vars8_lag2_student_t_block20_missing_pattern.png (deflated 5%)\n",
            "  adding: content/output_block_missing/nonlinear_ts_n3000_vars8_lag4_student_t_block30_causal_graph.png (deflated 5%)\n",
            "  adding: content/output_block_missing/nonlinear_ts_n1000_vars4_lag4_gaussian_block30_missing.csv (deflated 52%)\n",
            "  adding: content/output_block_missing/nonlinear_ts_n3000_vars8_lag3_gaussian_block20_complete.csv (deflated 54%)\n",
            "  adding: content/output_block_missing/nonlinear_ts_n500_vars8_lag3_student_t_block30_series.png (deflated 4%)\n",
            "  adding: content/output_block_missing/nonlinear_ts_n5000_vars6_lag3_student_t_block30_causal_graph.png (deflated 6%)\n",
            "  adding: content/output_block_missing/nonlinear_ts_n5000_vars8_lag4_student_t_block20_causal_structure.txt (deflated 63%)\n",
            "  adding: content/output_block_missing/nonlinear_ts_n500_vars8_lag3_student_t_block10_causal_graph.png (deflated 5%)\n",
            "  adding: content/output_block_missing/nonlinear_ts_n1000_vars6_lag2_gaussian_block10_series.png (deflated 1%)\n",
            "  adding: content/output_block_missing/nonlinear_ts_n5000_vars6_lag4_gaussian_block30_missing_pattern.png (deflated 5%)\n",
            "  adding: content/output_block_missing/nonlinear_ts_n500_vars6_lag4_student_t_block10_causal_graph.png (deflated 7%)\n",
            "  adding: content/output_block_missing/nonlinear_ts_n5000_vars6_lag4_student_t_block10_missing.csv (deflated 54%)\n",
            "  adding: content/output_block_missing/nonlinear_ts_n3000_vars6_lag2_student_t_block20_missing.csv (deflated 54%)\n",
            "  adding: content/output_block_missing/nonlinear_ts_n500_vars8_lag4_gaussian_block30_missing.csv (deflated 52%)\n",
            "  adding: content/output_block_missing/nonlinear_ts_n1000_vars6_lag2_gaussian_block10_causal_structure.txt (deflated 58%)\n",
            "  adding: content/output_block_missing/nonlinear_ts_n3000_vars8_lag2_gaussian_block20_complete.csv (deflated 54%)\n",
            "  adding: content/output_block_missing/nonlinear_ts_n3000_vars6_lag4_student_t_block10_statistics.txt (deflated 33%)\n",
            "  adding: content/output_block_missing/nonlinear_ts_n5000_vars6_lag2_student_t_block30_missing_pattern.png (deflated 5%)\n",
            "  adding: content/output_block_missing/nonlinear_ts_n1000_vars8_lag4_gaussian_block10_missing.csv (deflated 53%)\n",
            "  adding: content/output_block_missing/nonlinear_ts_n500_vars4_lag4_gaussian_block10_missing.csv (deflated 51%)\n",
            "  adding: content/output_block_missing/nonlinear_ts_n5000_vars4_lag2_student_t_block20_series.png (deflated 3%)\n",
            "  adding: content/output_block_missing/nonlinear_ts_n3000_vars4_lag3_student_t_block10_complete.csv (deflated 54%)\n",
            "  adding: content/output_block_missing/nonlinear_ts_n500_vars6_lag2_gaussian_block30_statistics.txt (deflated 32%)\n",
            "  adding: content/output_block_missing/nonlinear_ts_n1000_vars6_lag4_gaussian_block30_causal_graph.png (deflated 7%)\n",
            "  adding: content/output_block_missing/nonlinear_ts_n1000_vars8_lag2_student_t_block30_statistics.txt (deflated 35%)\n",
            "  adding: content/output_block_missing/nonlinear_ts_n3000_vars8_lag3_student_t_block10_series.png (deflated 4%)\n",
            "  adding: content/output_block_missing/nonlinear_ts_n5000_vars4_lag2_gaussian_block30_causal_graph.png (deflated 8%)\n",
            "  adding: content/output_block_missing/nonlinear_ts_n3000_vars4_lag4_gaussian_block10_missing.csv (deflated 54%)\n",
            "  adding: content/output_block_missing/nonlinear_ts_n3000_vars8_lag3_student_t_block30_complete.csv (deflated 54%)\n",
            "  adding: content/output_block_missing/nonlinear_ts_n3000_vars4_lag2_gaussian_block30_causal_structure.txt (deflated 50%)\n",
            "  adding: content/output_block_missing/nonlinear_ts_n3000_vars8_lag4_gaussian_block30_causal_graph.png (deflated 5%)\n",
            "  adding: content/output_block_missing/nonlinear_ts_n3000_vars4_lag3_student_t_block30_causal_structure.txt (deflated 53%)\n",
            "  adding: content/output_block_missing/nonlinear_ts_n5000_vars6_lag2_student_t_block20_missing.csv (deflated 54%)\n",
            "  adding: content/output_block_missing/nonlinear_ts_n5000_vars4_lag4_gaussian_block10_missing.csv (deflated 54%)\n",
            "  adding: content/output_block_missing/nonlinear_ts_n3000_vars6_lag4_student_t_block30_statistics.txt (deflated 31%)\n",
            "  adding: content/output_block_missing/nonlinear_ts_n3000_vars8_lag2_student_t_block20_missing.csv (deflated 54%)\n",
            "  adding: content/output_block_missing/nonlinear_ts_n3000_vars6_lag3_gaussian_block20_statistics.txt (deflated 32%)\n",
            "  adding: content/output_block_missing/nonlinear_ts_n3000_vars4_lag3_student_t_block30_series.png (deflated 4%)\n",
            "  adding: content/output_block_missing/nonlinear_ts_n500_vars4_lag3_student_t_block30_series.png (deflated 4%)\n",
            "  adding: content/output_block_missing/nonlinear_ts_n3000_vars4_lag4_student_t_block30_complete.csv (deflated 54%)\n",
            "  adding: content/output_block_missing/nonlinear_ts_n500_vars4_lag3_gaussian_block20_causal_structure.txt (deflated 53%)\n",
            "  adding: content/output_block_missing/nonlinear_ts_n5000_vars4_lag3_gaussian_block20_missing.csv (deflated 54%)\n",
            "  adding: content/output_block_missing/nonlinear_ts_n3000_vars8_lag2_gaussian_block10_series.png (deflated 1%)\n",
            "  adding: content/output_block_missing/nonlinear_ts_n5000_vars6_lag2_gaussian_block20_statistics.txt (deflated 32%)\n",
            "  adding: content/output_block_missing/nonlinear_ts_n1000_vars4_lag2_gaussian_block30_complete.csv (deflated 53%)\n",
            "  adding: content/output_block_missing/nonlinear_ts_n1000_vars4_lag2_gaussian_block10_causal_structure.txt (deflated 50%)\n",
            "  adding: content/output_block_missing/nonlinear_ts_n5000_vars8_lag4_student_t_block30_missing_pattern.png (deflated 4%)\n",
            "  adding: content/output_block_missing/nonlinear_ts_n5000_vars8_lag4_gaussian_block30_causal_graph.png (deflated 5%)\n",
            "  adding: content/output_block_missing/nonlinear_ts_n5000_vars8_lag4_student_t_block10_series.png (deflated 3%)\n",
            "  adding: content/output_block_missing/nonlinear_ts_n500_vars4_lag3_student_t_block20_missing.csv (deflated 51%)\n",
            "  adding: content/output_block_missing/nonlinear_ts_n5000_vars8_lag4_student_t_block10_causal_structure.txt (deflated 63%)\n",
            "  adding: content/output_block_missing/nonlinear_ts_n5000_vars8_lag3_student_t_block30_missing.csv (deflated 54%)\n",
            "  adding: content/output_block_missing/nonlinear_ts_n3000_vars6_lag2_gaussian_block20_causal_structure.txt (deflated 58%)\n",
            "  adding: content/output_block_missing/nonlinear_ts_n5000_vars6_lag4_student_t_block10_series.png (deflated 3%)\n",
            "  adding: content/output_block_missing/nonlinear_ts_n1000_vars4_lag2_student_t_block10_causal_graph.png (deflated 8%)\n",
            "  adding: content/output_block_missing/nonlinear_ts_n5000_vars4_lag4_gaussian_block10_complete.csv (deflated 54%)\n",
            "  adding: content/output_block_missing/nonlinear_ts_n5000_vars4_lag3_gaussian_block10_missing.csv (deflated 54%)\n",
            "  adding: content/output_block_missing/nonlinear_ts_n5000_vars4_lag4_student_t_block30_missing.csv (deflated 54%)\n",
            "  adding: content/output_block_missing/nonlinear_ts_n1000_vars8_lag4_gaussian_block30_missing.csv (deflated 53%)\n",
            "  adding: content/output_block_missing/nonlinear_ts_n500_vars6_lag3_student_t_block20_series.png (deflated 4%)\n",
            "  adding: content/output_block_missing/nonlinear_ts_n3000_vars4_lag3_gaussian_block10_missing_pattern.png (deflated 7%)\n",
            "  adding: content/output_block_missing/nonlinear_ts_n1000_vars8_lag2_student_t_block30_complete.csv (deflated 53%)\n",
            "  adding: content/output_block_missing/nonlinear_ts_n1000_vars4_lag2_gaussian_block10_causal_graph.png (deflated 8%)\n",
            "  adding: content/output_block_missing/nonlinear_ts_n5000_vars8_lag2_gaussian_block30_missing_pattern.png (deflated 4%)\n",
            "  adding: content/output_block_missing/nonlinear_ts_n3000_vars4_lag3_student_t_block20_series.png (deflated 4%)\n",
            "  adding: content/output_block_missing/nonlinear_ts_n500_vars8_lag4_student_t_block20_causal_structure.txt (deflated 63%)\n",
            "  adding: content/output_block_missing/nonlinear_ts_n3000_vars8_lag4_gaussian_block30_missing.csv (deflated 54%)\n",
            "  adding: content/output_block_missing/nonlinear_ts_n1000_vars8_lag2_student_t_block30_series.png (deflated 4%)\n",
            "  adding: content/output_block_missing/nonlinear_ts_n3000_vars8_lag4_gaussian_block10_series.png (deflated 1%)\n",
            "  adding: content/output_block_missing/nonlinear_ts_n5000_vars8_lag2_gaussian_block10_causal_graph.png (deflated 7%)\n",
            "  adding: content/output_block_missing/nonlinear_ts_n3000_vars8_lag4_gaussian_block10_causal_graph.png (deflated 5%)\n",
            "  adding: content/output_block_missing/nonlinear_ts_n1000_vars4_lag2_gaussian_block30_causal_graph.png (deflated 8%)\n",
            "  adding: content/output_block_missing/nonlinear_ts_n5000_vars8_lag3_student_t_block10_complete.csv (deflated 54%)\n",
            "  adding: content/output_block_missing/nonlinear_ts_n1000_vars6_lag2_gaussian_block10_complete.csv (deflated 53%)\n",
            "  adding: content/output_block_missing/nonlinear_ts_n3000_vars6_lag3_gaussian_block10_statistics.txt (deflated 33%)\n",
            "  adding: content/output_block_missing/nonlinear_ts_n3000_vars6_lag2_gaussian_block30_missing.csv (deflated 54%)\n",
            "  adding: content/output_block_missing/nonlinear_ts_n1000_vars4_lag4_student_t_block30_series.png (deflated 3%)\n",
            "  adding: content/output_block_missing/nonlinear_ts_n3000_vars6_lag3_gaussian_block30_missing_pattern.png (deflated 6%)\n",
            "  adding: content/output_block_missing/nonlinear_ts_n5000_vars4_lag4_student_t_block20_statistics.txt (deflated 28%)\n",
            "  adding: content/output_block_missing/nonlinear_ts_n500_vars8_lag4_student_t_block30_missing_pattern.png (deflated 8%)\n",
            "  adding: content/output_block_missing/nonlinear_ts_n1000_vars4_lag2_student_t_block20_missing_pattern.png (deflated 10%)\n",
            "  adding: content/output_block_missing/nonlinear_ts_n5000_vars8_lag4_student_t_block30_causal_structure.txt (deflated 63%)\n",
            "  adding: content/output_block_missing/nonlinear_ts_n5000_vars8_lag4_student_t_block30_causal_graph.png (deflated 5%)\n",
            "  adding: content/output_block_missing/nonlinear_ts_n3000_vars6_lag4_student_t_block10_causal_graph.png (deflated 7%)\n",
            "  adding: content/output_block_missing/nonlinear_ts_n5000_vars8_lag4_student_t_block20_statistics.txt (deflated 35%)\n",
            "  adding: content/output_block_missing/nonlinear_ts_n1000_vars8_lag2_student_t_block30_missing.csv (deflated 53%)\n",
            "  adding: content/output_block_missing/nonlinear_ts_n1000_vars8_lag3_gaussian_block10_causal_structure.txt (deflated 63%)\n",
            "  adding: content/output_block_missing/nonlinear_ts_n3000_vars6_lag3_student_t_block30_statistics.txt (deflated 31%)\n",
            "  adding: content/output_block_missing/nonlinear_ts_n500_vars4_lag3_student_t_block20_complete.csv (deflated 51%)\n",
            "  adding: content/output_block_missing/nonlinear_ts_n1000_vars6_lag3_gaussian_block30_complete.csv (deflated 53%)\n",
            "  adding: content/output_block_missing/nonlinear_ts_n3000_vars6_lag3_gaussian_block10_missing.csv (deflated 54%)\n",
            "  adding: content/output_block_missing/nonlinear_ts_n5000_vars8_lag3_student_t_block10_causal_structure.txt (deflated 63%)\n",
            "  adding: content/output_block_missing/nonlinear_ts_n3000_vars6_lag3_gaussian_block30_causal_graph.png (deflated 6%)\n",
            "  adding: content/output_block_missing/nonlinear_ts_n5000_vars4_lag4_student_t_block30_complete.csv (deflated 54%)\n",
            "  adding: content/output_block_missing/nonlinear_ts_n1000_vars8_lag2_student_t_block20_causal_structure.txt (deflated 62%)\n",
            "  adding: content/output_block_missing/nonlinear_ts_n3000_vars8_lag3_student_t_block10_statistics.txt (deflated 35%)\n",
            "  adding: content/output_block_missing/nonlinear_ts_n5000_vars8_lag4_student_t_block10_missing_pattern.png (deflated 5%)\n",
            "  adding: content/output_block_missing/nonlinear_ts_n1000_vars6_lag4_student_t_block10_missing_pattern.png (deflated 10%)\n",
            "  adding: content/output_block_missing/nonlinear_ts_n1000_vars6_lag4_student_t_block10_statistics.txt (deflated 33%)\n",
            "  adding: content/output_block_missing/nonlinear_ts_n5000_vars4_lag4_gaussian_block20_series.png (deflated 1%)\n",
            "  adding: content/output_block_missing/nonlinear_ts_n1000_vars4_lag2_gaussian_block20_missing_pattern.png (deflated 11%)\n",
            "  adding: content/output_block_missing/nonlinear_ts_n1000_vars8_lag3_student_t_block10_missing.csv (deflated 53%)\n",
            "  adding: content/output_block_missing/nonlinear_ts_n1000_vars8_lag4_student_t_block20_series.png (deflated 3%)\n",
            "  adding: content/output_block_missing/nonlinear_ts_n3000_vars8_lag2_student_t_block30_causal_graph.png (deflated 7%)\n",
            "  adding: content/output_block_missing/nonlinear_ts_n5000_vars6_lag3_gaussian_block10_causal_structure.txt (deflated 59%)\n",
            "  adding: content/output_block_missing/nonlinear_ts_n1000_vars8_lag3_gaussian_block30_series.png (deflated 1%)\n",
            "  adding: content/output_block_missing/nonlinear_ts_n500_vars8_lag2_student_t_block20_complete.csv (deflated 53%)\n",
            "  adding: content/output_block_missing/nonlinear_ts_n3000_vars8_lag2_gaussian_block30_causal_structure.txt (deflated 62%)\n",
            "  adding: content/output_block_missing/nonlinear_ts_n5000_vars8_lag4_student_t_block20_causal_graph.png (deflated 5%)\n",
            "  adding: content/output_block_missing/nonlinear_ts_n500_vars4_lag4_student_t_block10_statistics.txt (deflated 29%)\n",
            "  adding: content/output_block_missing/nonlinear_ts_n1000_vars4_lag2_student_t_block30_complete.csv (deflated 53%)\n",
            "  adding: content/output_block_missing/nonlinear_ts_n5000_vars4_lag2_gaussian_block20_missing.csv (deflated 54%)\n",
            "  adding: content/output_block_missing/nonlinear_ts_n1000_vars6_lag2_student_t_block20_complete.csv (deflated 53%)\n",
            "  adding: content/output_block_missing/nonlinear_ts_n3000_vars8_lag4_gaussian_block10_causal_structure.txt (deflated 63%)\n",
            "  adding: content/output_block_missing/nonlinear_ts_n3000_vars4_lag4_student_t_block10_causal_graph.png (deflated 6%)\n",
            "  adding: content/output_block_missing/nonlinear_ts_n1000_vars6_lag3_gaussian_block10_complete.csv (deflated 53%)\n",
            "  adding: content/output_block_missing/nonlinear_ts_n3000_vars6_lag3_gaussian_block10_causal_graph.png (deflated 6%)\n",
            "  adding: content/output_block_missing/nonlinear_ts_n500_vars8_lag4_gaussian_block30_statistics.txt (deflated 36%)\n",
            "  adding: content/output_block_missing/nonlinear_ts_n3000_vars8_lag3_student_t_block30_causal_structure.txt (deflated 63%)\n",
            "  adding: content/output_block_missing/nonlinear_ts_n3000_vars4_lag4_gaussian_block20_series.png (deflated 1%)\n",
            "  adding: content/output_block_missing/nonlinear_ts_n500_vars6_lag4_gaussian_block30_missing.csv (deflated 52%)\n",
            "  adding: content/output_block_missing/nonlinear_ts_n1000_vars8_lag4_gaussian_block10_statistics.txt (deflated 35%)\n",
            "  adding: content/output_block_missing/nonlinear_ts_n3000_vars8_lag3_gaussian_block10_missing_pattern.png (deflated 6%)\n",
            "  adding: content/output_block_missing/nonlinear_ts_n5000_vars6_lag3_student_t_block10_series.png (deflated 3%)\n",
            "  adding: content/output_block_missing/nonlinear_ts_n500_vars8_lag2_gaussian_block10_causal_structure.txt (deflated 62%)\n",
            "  adding: content/output_block_missing/nonlinear_ts_n1000_vars4_lag3_student_t_block10_series.png (deflated 3%)\n",
            "  adding: content/output_block_missing/nonlinear_ts_n500_vars8_lag4_gaussian_block30_causal_graph.png (deflated 5%)\n",
            "  adding: content/output_block_missing/nonlinear_ts_n3000_vars8_lag3_gaussian_block10_causal_structure.txt (deflated 63%)\n",
            "  adding: content/output_block_missing/nonlinear_ts_n3000_vars8_lag3_gaussian_block30_causal_structure.txt (deflated 63%)\n",
            "  adding: content/output_block_missing/nonlinear_ts_n5000_vars4_lag4_gaussian_block30_missing_pattern.png (deflated 4%)\n",
            "  adding: content/output_block_missing/nonlinear_ts_n500_vars6_lag3_gaussian_block10_missing_pattern.png (deflated 13%)\n",
            "  adding: content/output_block_missing/nonlinear_ts_n5000_vars8_lag3_gaussian_block30_complete.csv (deflated 55%)\n",
            "  adding: content/output_block_missing/nonlinear_ts_n3000_vars6_lag3_gaussian_block30_causal_structure.txt (deflated 59%)\n",
            "  adding: content/output_block_missing/nonlinear_ts_n1000_vars8_lag2_student_t_block20_statistics.txt (deflated 35%)\n",
            "  adding: content/output_block_missing/nonlinear_ts_n5000_vars4_lag2_student_t_block20_complete.csv (deflated 54%)\n",
            "  adding: content/output_block_missing/nonlinear_ts_n3000_vars4_lag3_gaussian_block20_series.png (deflated 1%)\n",
            "  adding: content/output_block_missing/nonlinear_ts_n500_vars6_lag4_gaussian_block10_missing_pattern.png (deflated 13%)\n"
          ]
        }
      ]
    },
    {
      "cell_type": "code",
      "source": [
        "from google.colab import files\n",
        "files.download('/content/output_D2.zip')"
      ],
      "metadata": {
        "colab": {
          "base_uri": "https://localhost:8080/",
          "height": 17
        },
        "id": "t8RITxIgG_CU",
        "outputId": "a000924a-9dd7-4233-80aa-b3768e13f31c"
      },
      "execution_count": 6,
      "outputs": [
        {
          "output_type": "display_data",
          "data": {
            "text/plain": [
              "<IPython.core.display.Javascript object>"
            ],
            "application/javascript": [
              "\n",
              "    async function download(id, filename, size) {\n",
              "      if (!google.colab.kernel.accessAllowed) {\n",
              "        return;\n",
              "      }\n",
              "      const div = document.createElement('div');\n",
              "      const label = document.createElement('label');\n",
              "      label.textContent = `Downloading \"${filename}\": `;\n",
              "      div.appendChild(label);\n",
              "      const progress = document.createElement('progress');\n",
              "      progress.max = size;\n",
              "      div.appendChild(progress);\n",
              "      document.body.appendChild(div);\n",
              "\n",
              "      const buffers = [];\n",
              "      let downloaded = 0;\n",
              "\n",
              "      const channel = await google.colab.kernel.comms.open(id);\n",
              "      // Send a message to notify the kernel that we're ready.\n",
              "      channel.send({})\n",
              "\n",
              "      for await (const message of channel.messages) {\n",
              "        // Send a message to notify the kernel that we're ready.\n",
              "        channel.send({})\n",
              "        if (message.buffers) {\n",
              "          for (const buffer of message.buffers) {\n",
              "            buffers.push(buffer);\n",
              "            downloaded += buffer.byteLength;\n",
              "            progress.value = downloaded;\n",
              "          }\n",
              "        }\n",
              "      }\n",
              "      const blob = new Blob(buffers, {type: 'application/binary'});\n",
              "      const a = document.createElement('a');\n",
              "      a.href = window.URL.createObjectURL(blob);\n",
              "      a.download = filename;\n",
              "      div.appendChild(a);\n",
              "      a.click();\n",
              "      div.remove();\n",
              "    }\n",
              "  "
            ]
          },
          "metadata": {}
        },
        {
          "output_type": "display_data",
          "data": {
            "text/plain": [
              "<IPython.core.display.Javascript object>"
            ],
            "application/javascript": [
              "download(\"download_2a3afea0-2bb7-45b9-8901-8691ef4af96b\", \"output_D2C.zip\", 186109553)"
            ]
          },
          "metadata": {}
        }
      ]
    }
  ]
}