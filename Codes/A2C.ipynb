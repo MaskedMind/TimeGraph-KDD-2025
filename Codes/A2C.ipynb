{
  "nbformat": 4,
  "nbformat_minor": 0,
  "metadata": {
    "colab": {
      "provenance": []
    },
    "kernelspec": {
      "name": "python3",
      "display_name": "Python 3"
    },
    "language_info": {
      "name": "python"
    }
  },
  "cells": [
    {
      "cell_type": "code",
      "execution_count": 1,
      "metadata": {
        "colab": {
          "base_uri": "https://localhost:8080/"
        },
        "id": "T2R1lxw8OvHC",
        "outputId": "e052bf25-89f4-4ad7-cd1d-99379ef105fe"
      },
      "outputs": [
        {
          "output_type": "stream",
          "name": "stdout",
          "text": [
            "Collecting tigramite\n",
            "  Downloading tigramite-5.2.7.0-py3-none-any.whl.metadata (11 kB)\n",
            "Requirement already satisfied: numpy>=1.18 in /usr/local/lib/python3.11/dist-packages (from tigramite) (1.26.4)\n",
            "Requirement already satisfied: scipy>=1.10.0 in /usr/local/lib/python3.11/dist-packages (from tigramite) (1.13.1)\n",
            "Requirement already satisfied: six in /usr/local/lib/python3.11/dist-packages (from tigramite) (1.17.0)\n",
            "Downloading tigramite-5.2.7.0-py3-none-any.whl (309 kB)\n",
            "\u001b[2K   \u001b[90m━━━━━━━━━━━━━━━━━━━━━━━━━━━━━━━━━━━━━━━━\u001b[0m \u001b[32m309.6/309.6 kB\u001b[0m \u001b[31m4.7 MB/s\u001b[0m eta \u001b[36m0:00:00\u001b[0m\n",
            "\u001b[?25hInstalling collected packages: tigramite\n",
            "Successfully installed tigramite-5.2.7.0\n"
          ]
        }
      ],
      "source": [
        "!pip install tigramite"
      ]
    },
    {
      "cell_type": "code",
      "source": [
        "import numpy as np\n",
        "import pandas as pd\n",
        "from scipy import stats\n",
        "from tigramite import plotting as tp\n",
        "import matplotlib.pyplot as plt\n",
        "from pathlib import Path\n",
        "\n",
        "def get_linear_equations(n_vars, max_lag):\n",
        "    \"\"\"Get linear equations for specified configuration with confounder\"\"\"\n",
        "    if n_vars == 4:\n",
        "        if max_lag == 2:\n",
        "            return [\n",
        "                \"X4[t] = 0.25 * X1[t-2] + e4\",\n",
        "                \"X3[t] = 0.35 * X4[t] + 0.3 * U[t] + e3\",\n",
        "                \"X2[t] = 0.3 * X3[t-1] + e2\",\n",
        "                \"X1[t] = 0.4 * X2[t] + 0.5 * U[t] + e1\",\n",
        "                \"U[t] = eU\"\n",
        "            ]\n",
        "        elif max_lag == 3:\n",
        "            return [\n",
        "                \"X4[t] = 0.25 * X1[t-2] + e4\",\n",
        "                \"X3[t] = 0.35 * X4[t] + 0.2 * X2[t-3] + 0.3 * U[t] + e3\",\n",
        "                \"X2[t] = 0.3 * X3[t-1] + e2\",\n",
        "                \"X1[t] = 0.4 * X2[t] + 0.5 * U[t] + e1\",\n",
        "                \"U[t] = eU\"\n",
        "            ]\n",
        "        elif max_lag == 4:\n",
        "            return [\n",
        "                \"X4[t] = 0.25 * X1[t-4] + e4\",\n",
        "                \"X3[t] = 0.35 * X4[t] + 0.2 * X2[t-3] + 0.3 * U[t] + e3\",\n",
        "                \"X2[t] = 0.3 * X3[t-1] + e2\",\n",
        "                \"X1[t] = 0.4 * X2[t] + 0.5 * U[t] + e1\",\n",
        "                \"U[t] = eU\"\n",
        "            ]\n",
        "    elif n_vars == 6:\n",
        "        if max_lag == 2:\n",
        "            return [\n",
        "                \"X6[t] = 0.85 * X5[t] + 0.4 * U[t] + e6\",\n",
        "                \"X5[t] = e5\",  # exogenous\n",
        "                \"X4[t] = 0.25 * X1[t-2] + 0.3 * X5[t-1] + e4\",\n",
        "                \"X3[t] = 0.35 * X4[t] + 0.3 * U[t] + e3\",\n",
        "                \"X2[t] = 0.3 * X3[t-1] + e2\",\n",
        "                \"X1[t] = 0.4 * X2[t] + 0.5 * U[t] + e1\",\n",
        "                \"U[t] = eU\"\n",
        "            ]\n",
        "        elif max_lag == 3:\n",
        "            return [\n",
        "                \"X6[t] = 0.85 * X5[t] + 0.4 * U[t] + e6\",\n",
        "                \"X5[t] = e5\",  # exogenous\n",
        "                \"X4[t] = 0.25 * X1[t-2] + e4\",\n",
        "                \"X3[t] = 0.35 * X4[t] + 0.2 * X2[t-3] + 0.3 * U[t] + e3\",\n",
        "                \"X2[t] = 0.3 * X3[t-1] + e2\",\n",
        "                \"X1[t] = 0.4 * X2[t] + 0.5 * U[t] + e1\",\n",
        "                \"U[t] = eU\"\n",
        "            ]\n",
        "        elif max_lag == 4:\n",
        "            return [\n",
        "                \"X6[t] = 0.85 * X5[t] + 0.4 * U[t] + e6\",\n",
        "                \"X5[t] = e5\",  # exogenous\n",
        "                \"X4[t] = 0.25 * X1[t-4] + e4\",\n",
        "                \"X3[t] = 0.35 * X4[t] + 0.2 * X2[t-3] + 0.3 * U[t] + e3\",\n",
        "                \"X2[t] = 0.3 * X3[t-1] + e2\",\n",
        "                \"X1[t] = 0.4 * X2[t] + 0.5 * U[t] + e1\",\n",
        "                \"U[t] = eU\"\n",
        "            ]\n",
        "    elif n_vars == 8:\n",
        "        if max_lag == 2:\n",
        "            return [\n",
        "                \"X8[t] = 0.4 * X7[t] + 0.35 * U[t] + e8\",\n",
        "                \"X7[t] = 0.35 * X6[t-1] + e7\",\n",
        "                \"X6[t] = 0.45 * X5[t] + 0.4 * U[t] + e6\",\n",
        "                \"X5[t] = e5\",  # exogenous\n",
        "                \"X4[t] = 0.25 * X1[t-2] + 0.3 * X5[t-1] + e4\",\n",
        "                \"X3[t] = 0.35 * X4[t] + 0.3 * U[t] + e3\",\n",
        "                \"X2[t] = 0.3 * X3[t-1] + e2\",\n",
        "                \"X1[t] = 0.4 * X2[t] + 0.5 * U[t] + e1\",\n",
        "                \"U[t] = eU\"\n",
        "            ]\n",
        "        elif max_lag == 3:\n",
        "            return [\n",
        "                \"X8[t] = 0.4 * X7[t] + 0.35 * U[t] + e8\",\n",
        "                \"X7[t] = 0.35 * X6[t-1] + e7\",\n",
        "                \"X6[t] = 0.45 * X5[t] + 0.4 * U[t] + e6\",\n",
        "                \"X5[t] = e5\",  # exogenous\n",
        "                \"X4[t] = 0.25 * X1[t-2] + e4\",\n",
        "                \"X3[t] = 0.35 * X4[t] + 0.2 * X2[t-3] + 0.3 * U[t] + e3\",\n",
        "                \"X2[t] = 0.3 * X3[t-1] + e2\",\n",
        "                \"X1[t] = 0.4 * X2[t] + 0.5 * U[t] + e1\",\n",
        "                \"U[t] = eU\"\n",
        "            ]\n",
        "        elif max_lag == 4:\n",
        "            return [\n",
        "                \"X8[t] = 0.4 * X7[t] + 0.35 * U[t] + e8\",\n",
        "                \"X7[t] = 0.35 * X6[t-1] + e7\",\n",
        "                \"X6[t] = 0.45 * X5[t] + 0.4 * U[t] + e6\",\n",
        "                \"X5[t] = e5\",  # exogenous\n",
        "                \"X4[t] = 0.25 * X1[t-4] + e4\",\n",
        "                \"X3[t] = 0.35 * X4[t] + 0.2 * X2[t-3] + 0.3 * U[t] + e3\",\n",
        "                \"X2[t] = 0.3 * X3[t-1] + e2\",\n",
        "                \"X1[t] = 0.4 * X2[t] + 0.5 * U[t] + e1\",\n",
        "                \"U[t] = eU\"\n",
        "            ]\n",
        "    return []\n",
        "\n",
        "class TimeSeriesGenerator:\n",
        "    def __init__(self, error_dist='gaussian', noise_params={'scale': 0.1, 'df': 3}, random_state=None):\n",
        "        self.error_dist = error_dist\n",
        "        self.noise_params = noise_params\n",
        "        self.random_state = random_state\n",
        "\n",
        "    def generate_noise(self, size):\n",
        "        if self.error_dist == 'gaussian':\n",
        "            return np.random.normal(0, self.noise_params['scale'], size=size)\n",
        "        elif self.error_dist == 't':\n",
        "            return stats.t.rvs(df=self.noise_params['df'],\n",
        "                             scale=self.noise_params['scale'],\n",
        "                             size=size,\n",
        "                             random_state=self.random_state)\n",
        "\n",
        "    def generate_irregular_timestamps(self, n_points, total_time, min_gap=0.1):\n",
        "        if self.random_state is not None:\n",
        "            np.random.seed(self.random_state)\n",
        "\n",
        "        times = np.zeros(n_points)\n",
        "        times[0] = np.random.uniform(0, min_gap)\n",
        "\n",
        "        for i in range(1, n_points):\n",
        "            gap = np.random.exponential(scale=(total_time-times[i-1])/(n_points-i))\n",
        "            times[i] = times[i-1] + max(gap, min_gap)\n",
        "\n",
        "            if times[i] > total_time:\n",
        "                times = times * (total_time / times[i])\n",
        "\n",
        "        return times\n",
        "\n",
        "    def find_nearest_lag_idx(self, timestamps, current_idx, lag_time):\n",
        "        target_time = timestamps[current_idx] - lag_time\n",
        "        past_timestamps = timestamps[:current_idx]\n",
        "        if len(past_timestamps) == 0:\n",
        "            return 0\n",
        "        return (np.abs(past_timestamps - target_time)).argmin()\n",
        "\n",
        "    def generate_equations(self, t, X, U, lag_indices, n_vars, max_lag):\n",
        "        \"\"\"Execute equations based on configurations with confounder U\"\"\"\n",
        "        noise = self.generate_noise(n_vars + 1)  # +1 for U\n",
        "        equations = get_linear_equations(n_vars, max_lag)\n",
        "        causal_links = extract_coefficients_from_equations(equations)\n",
        "\n",
        "        # Generate U first as it's a confounder\n",
        "        U[t] = noise[-1]  # Use last noise term for U\n",
        "\n",
        "        # Generate the values based on causal relationships\n",
        "        if n_vars >= 4:  # Process base system (4+ variables)\n",
        "            # Handle exogenous and noise terms first\n",
        "            for i in range(n_vars):\n",
        "                var_name = f'X{i+1}'\n",
        "                if var_name not in [link[2] for link in causal_links.keys()]:\n",
        "                    X[t, i] = noise[i]\n",
        "\n",
        "            # Process equations in order of dependencies\n",
        "            for i in range(n_vars-1, -1, -1):\n",
        "                var_name = f'X{i+1}'\n",
        "                value = 0\n",
        "\n",
        "                # Add causal influences\n",
        "                for (source, lag, target), coef in causal_links.items():\n",
        "                    if target == var_name:\n",
        "                        if source == 'U':\n",
        "                            value += coef * U[t]\n",
        "                        else:\n",
        "                            source_idx = int(source[1:]) - 1\n",
        "                            if lag == 0:\n",
        "                                value += coef * X[t, source_idx]\n",
        "                            else:\n",
        "                                lag_idx = lag_indices[abs(lag)-1]\n",
        "                                value += coef * X[lag_idx, source_idx]\n",
        "\n",
        "                # Add noise term if this is not an exogenous variable\n",
        "                if value != 0:  # If variable has any causal influences\n",
        "                    X[t, i] = value + noise[i]\n",
        "\n",
        "    def generate_multivariate_ts(self, n_points, n_vars, max_lag, total_time=100, min_gap=0.1):\n",
        "        \"\"\"Generate multivariate time series with irregular timestamps and confounder\"\"\"\n",
        "        if self.random_state is not None:\n",
        "            np.random.seed(self.random_state)\n",
        "\n",
        "        # Initialize arrays\n",
        "        X = np.zeros((n_points, n_vars))\n",
        "        U = np.zeros(n_points)  # Array for confounder U\n",
        "\n",
        "        # Generate irregular timestamps\n",
        "        timestamps = self.generate_irregular_timestamps(n_points, total_time, min_gap)\n",
        "\n",
        "        # Initialize first steps with noise\n",
        "        for i in range(max_lag):\n",
        "            X[i] = self.generate_noise(n_vars)\n",
        "            U[i] = self.generate_noise(1)[0]\n",
        "\n",
        "        # Generate time series\n",
        "        for t in range(max_lag, n_points):\n",
        "            mean_diff = np.mean(np.diff(timestamps))\n",
        "            lag_indices = [self.find_nearest_lag_idx(timestamps, t, i * mean_diff)\n",
        "                         for i in range(1, max_lag + 1)]\n",
        "\n",
        "            # Apply equations with confounder\n",
        "            self.generate_equations(t, X, U, lag_indices, n_vars, max_lag)\n",
        "\n",
        "        # Create DataFrame including U\n",
        "        columns = [f'X{i+1}' for i in range(n_vars)] + ['U']\n",
        "        df = pd.DataFrame(np.column_stack([X, U[:, np.newaxis]]), columns=columns)\n",
        "        df['time'] = timestamps\n",
        "\n",
        "        return df\n",
        "\n",
        "def extract_coefficients_from_equations(equations):\n",
        "    \"\"\"Extract coefficients and causal relationships from equations including U\"\"\"\n",
        "    causal_links = {}\n",
        "\n",
        "    for eq in equations:\n",
        "        if '=' in eq and 'e' not in eq.split('=')[1]:  # Skip pure noise equations\n",
        "            left, right = [side.strip() for side in eq.split('=')]\n",
        "            target = left.split('[')[0]\n",
        "\n",
        "            # Process each term on the right side\n",
        "            terms = [term.strip() for term in right.split('+')]\n",
        "            for term in terms:\n",
        "                if '*' in term:\n",
        "                    coeff, var_part = [p.strip() for p in term.split('*')]\n",
        "                    var = var_part.split('[')[0]\n",
        "\n",
        "                    # Handle U differently as it doesn't have lags\n",
        "                    if var == 'U':\n",
        "                        causal_links[(var, 0, target)] = float(coeff)\n",
        "                    else:\n",
        "                        lag_part = var_part.split('[')[1].split(']')[0]\n",
        "                        lag = 0 if lag_part == 't' else -int(lag_part.split('-')[1])\n",
        "                        causal_links[(var, lag, target)] = float(coeff)\n",
        "\n",
        "    return causal_links\n",
        "\n",
        "def extract_linear_links(equations):\n",
        "    \"\"\"Extract all linear causal links from the equations\"\"\"\n",
        "    links = {}\n",
        "\n",
        "    for eq in equations:\n",
        "        if '=' in eq:\n",
        "            left, right = [side.strip() for side in eq.split('=')]\n",
        "            target = left.split('[')[0]\n",
        "\n",
        "            if target != 'U':  # Skip U's equation\n",
        "                terms = [term.strip() for term in right.split('+')]\n",
        "                for term in terms:\n",
        "                    if '*' in term and ('X' in term or 'U' in term):\n",
        "                        parts = term.split('*')\n",
        "                        coeff = float(parts[0].strip())\n",
        "                        var_part = parts[1].strip()\n",
        "                        var = var_part.split('[')[0]\n",
        "                        lag_part = var_part.split('[')[1].split(']')[0]\n",
        "\n",
        "                        lag = 0 if lag_part == 't' else -int(lag_part.split('-')[1])\n",
        "                        links[(var, lag, target)] = coeff\n",
        "\n",
        "    return links\n",
        "\n",
        "def create_causal_graph(n_vars, max_lag):\n",
        "    \"\"\"Create causal graph based on equations including U\"\"\"\n",
        "    equations = get_linear_equations(n_vars, max_lag)\n",
        "    true_links = extract_linear_links(equations)\n",
        "\n",
        "    # Create variable names including U\n",
        "    var_names = [f'X{i+1}' for i in range(n_vars)] + ['U']\n",
        "\n",
        "    # Initialize matrices with extra dimension for U\n",
        "    n_total = n_vars + 1\n",
        "    val_matrix = np.zeros((n_total, n_total, max_lag + 1))\n",
        "    graph_matrix = np.zeros((n_total, n_total, max_lag + 1), dtype='bool')\n",
        "\n",
        "    # Fill matrices based on true links\n",
        "    for (source, lag, target), weight in true_links.items():\n",
        "        target_idx = var_names.index(target)\n",
        "\n",
        "        if source == 'U':\n",
        "            source_idx = n_vars  # U is the last variable\n",
        "            val_matrix[source_idx, target_idx, 0] = weight\n",
        "            graph_matrix[source_idx, target_idx, 0] = True\n",
        "        else:\n",
        "            source_idx = var_names.index(source)\n",
        "            lag_idx = abs(lag)\n",
        "            val_matrix[source_idx, target_idx, lag_idx] = weight\n",
        "            graph_matrix[source_idx, target_idx, lag_idx] = True\n",
        "\n",
        "    return true_links, val_matrix, graph_matrix, var_names\n",
        "\n",
        "def save_dataset_and_graph(df, n_vars, max_lag, sample_size, error_dist, output_dir=\"output\"):\n",
        "    \"\"\"Save dataset and create causal graph\"\"\"\n",
        "    Path(output_dir).mkdir(parents=True, exist_ok=True)\n",
        "\n",
        "    # Save dataset\n",
        "    filename = f'{output_dir}/multivariate_ts_n{sample_size}_vars{n_vars}_lag{max_lag}_{error_dist}_with_confounder.csv'\n",
        "    df.to_csv(filename, index=False)\n",
        "\n",
        "    # Get equations and extract links\n",
        "    equations = get_linear_equations(n_vars, max_lag)\n",
        "    true_links = extract_linear_links(equations)\n",
        "\n",
        "    # Create variable names including U\n",
        "    var_names = [f'X{i+1}' for i in range(n_vars)] + ['U']\n",
        "    n_total_vars = n_vars + 1\n",
        "    val_matrix = np.zeros((n_total_vars, n_total_vars, max_lag + 1))\n",
        "    graph_matrix = np.zeros((n_total_vars, n_total_vars, max_lag + 1), dtype='bool')\n",
        "\n",
        "    # Fill matrices based on true links\n",
        "    for (source, lag, target), weight in true_links.items():\n",
        "        if source == 'U':\n",
        "            source_idx = n_vars\n",
        "        else:\n",
        "            source_idx = int(source[1:]) - 1\n",
        "\n",
        "        if target == 'U':\n",
        "            target_idx = n_vars\n",
        "        else:\n",
        "            target_idx = int(target[1:]) - 1\n",
        "\n",
        "        lag_idx = abs(lag)\n",
        "\n",
        "        # Add the link to the matrices\n",
        "        val_matrix[source_idx, target_idx, lag_idx] = weight\n",
        "        graph_matrix[source_idx, target_idx, lag_idx] = True\n",
        "\n",
        "        # For contemporaneous links, make val_matrix symmetric\n",
        "        if lag == 0:\n",
        "            val_matrix[target_idx, source_idx, lag_idx] = weight\n",
        "\n",
        "    # Plot and save causal graph\n",
        "    plt.figure(figsize=(12, 12))\n",
        "    tp.plot_time_series_graph(\n",
        "        val_matrix=val_matrix,\n",
        "        graph=graph_matrix,\n",
        "        var_names=var_names,\n",
        "        link_colorbar_label='Linear Effect Strength',\n",
        "        node_size=0.05\n",
        "    )\n",
        "    plt.title(f'True Causal Graph (n={sample_size}, vars={n_vars}, lag={max_lag}, with confounder)')\n",
        "    plt.savefig(f'{output_dir}/causal_graph_n{sample_size}_vars{n_vars}_lag{max_lag}_{error_dist}_with_confounder.png')\n",
        "    plt.close()\n",
        "\n",
        "    # Plot time series\n",
        "    plt.figure(figsize=(15, 10))\n",
        "    for col in df.columns[:-2]:  # Exclude U and time columns\n",
        "        plt.plot(df['time'], df[col], label=col, alpha=0.7)\n",
        "    plt.title(f'Time Series (n={sample_size}, vars={n_vars}, lag={max_lag})')\n",
        "    plt.xlabel('Time')\n",
        "    plt.ylabel('Value')\n",
        "    plt.legend()\n",
        "    plt.grid(True)\n",
        "    plt.savefig(f'{output_dir}/ts_plot_n{sample_size}_vars{n_vars}_lag{max_lag}_{error_dist}.png')\n",
        "    plt.close()\n",
        "\n",
        "    # Save causal structure description\n",
        "    with open(f'{output_dir}/causal_structure_vars{n_vars}_lag{max_lag}_with_confounder.txt', 'w') as f:\n",
        "        f.write(\"True Causal Structure (including confounder U):\\n\")\n",
        "        f.write(\"Format: (source, lag, target) => weight\\n\")\n",
        "        for link, weight in true_links.items():\n",
        "            f.write(f\"{link} => {weight}\\n\")\n",
        "\n",
        "def generate_and_save_all_combinations():\n",
        "    \"\"\"Generate and save datasets for all combinations including confounder\"\"\"\n",
        "    sample_sizes = [500, 1000, 3000, 5000]\n",
        "    n_vars_list = [4, 6, 8]\n",
        "    max_lags = [2, 3, 4]\n",
        "    error_dists = ['gaussian', 't']\n",
        "\n",
        "    for n in sample_sizes:\n",
        "        for vars in n_vars_list:\n",
        "            for lag in max_lags:\n",
        "                for dist in error_dists:\n",
        "                    print(f\"\\nGenerating dataset: n={n}, vars={vars}, lag={lag}, dist={dist}, with confounder\")\n",
        "\n",
        "                    # Generate dataset\n",
        "                    noise_params = {'scale': 0.1, 'df': 3} if dist == 't' else {'scale': 0.1}\n",
        "                    generator = TimeSeriesGenerator(error_dist=dist,\n",
        "                                                 noise_params=noise_params,\n",
        "                                                 random_state=42)\n",
        "\n",
        "                    df = generator.generate_multivariate_ts(\n",
        "                        n_points=n,\n",
        "                        n_vars=vars,\n",
        "                        max_lag=lag\n",
        "                    )\n",
        "\n",
        "                    # Save dataset and graph\n",
        "                    save_dataset_and_graph(df, vars, lag, n, dist)\n",
        "\n",
        "                    print(f\"Dataset and causal graph saved successfully\")\n",
        "\n",
        "def analyze_generated_data(df, title=\"Time Series Analysis\"):\n",
        "    \"\"\"Analyze and plot the generated time series data\"\"\"\n",
        "    # Analyze time differences\n",
        "    time_diffs = np.diff(df['time'])\n",
        "\n",
        "    plt.figure(figsize=(15, 10))\n",
        "\n",
        "    # Plot 1: Distribution of time differences\n",
        "    plt.subplot(2, 1, 1)\n",
        "    plt.hist(time_diffs, bins=50)\n",
        "    plt.title(f\"Distribution of Time Differences - {title}\")\n",
        "    plt.xlabel(\"Time Difference\")\n",
        "    plt.ylabel(\"Frequency\")\n",
        "\n",
        "    # Plot 2: Time series including U\n",
        "    plt.subplot(2, 1, 2)\n",
        "    for col in df.columns:\n",
        "        if col != 'time':\n",
        "            plt.plot(df['time'], df[col], label=col, marker='o', markersize=2, linestyle='-', alpha=0.7)\n",
        "    plt.title(f\"Time Series with Irregular Sampling - {title}\")\n",
        "    plt.xlabel(\"Time\")\n",
        "    plt.ylabel(\"Value\")\n",
        "    plt.legend()\n",
        "    plt.grid(True)\n",
        "\n",
        "    plt.tight_layout()\n",
        "    plt.show()\n",
        "\n",
        "if __name__ == \"__main__\":\n",
        "    # Generate all datasets\n",
        "    generate_and_save_all_combinations()\n",
        "\n",
        "    # Example analysis of a single case\n",
        "    #generator = TimeSeriesGenerator(error_dist='gaussian',\n",
        "    #                              noise_params={'scale': 0.1},\n",
        "    #                              random_state=42)\n",
        "\n",
        "    # Generate example dataset\n",
        "    #df = generator.generate_multivariate_ts(n_points=1000, n_vars=4, max_lag=2)\n",
        "\n",
        "    # Analyze and plot the data\n",
        "    #analyze_generated_data(df, \"Gaussian Example\")"
      ],
      "metadata": {
        "colab": {
          "base_uri": "https://localhost:8080/",
          "height": 1000
        },
        "id": "j6CpL9DBO8nb",
        "outputId": "f040aa25-a8f9-4f12-8faa-a1fe946b0926"
      },
      "execution_count": 3,
      "outputs": [
        {
          "output_type": "stream",
          "name": "stdout",
          "text": [
            "\n",
            "Generating dataset: n=500, vars=4, lag=2, dist=gaussian, with confounder\n",
            "Dataset and causal graph saved successfully\n",
            "\n",
            "Generating dataset: n=500, vars=4, lag=2, dist=t, with confounder\n",
            "Dataset and causal graph saved successfully\n",
            "\n",
            "Generating dataset: n=500, vars=4, lag=3, dist=gaussian, with confounder\n",
            "Dataset and causal graph saved successfully\n",
            "\n",
            "Generating dataset: n=500, vars=4, lag=3, dist=t, with confounder\n",
            "Dataset and causal graph saved successfully\n",
            "\n",
            "Generating dataset: n=500, vars=4, lag=4, dist=gaussian, with confounder\n",
            "Dataset and causal graph saved successfully\n",
            "\n",
            "Generating dataset: n=500, vars=4, lag=4, dist=t, with confounder\n",
            "Dataset and causal graph saved successfully\n",
            "\n",
            "Generating dataset: n=500, vars=6, lag=2, dist=gaussian, with confounder\n",
            "Dataset and causal graph saved successfully\n",
            "\n",
            "Generating dataset: n=500, vars=6, lag=2, dist=t, with confounder\n",
            "Dataset and causal graph saved successfully\n",
            "\n",
            "Generating dataset: n=500, vars=6, lag=3, dist=gaussian, with confounder\n",
            "Dataset and causal graph saved successfully\n",
            "\n",
            "Generating dataset: n=500, vars=6, lag=3, dist=t, with confounder\n",
            "Dataset and causal graph saved successfully\n",
            "\n",
            "Generating dataset: n=500, vars=6, lag=4, dist=gaussian, with confounder\n",
            "Dataset and causal graph saved successfully\n",
            "\n",
            "Generating dataset: n=500, vars=6, lag=4, dist=t, with confounder\n",
            "Dataset and causal graph saved successfully\n",
            "\n",
            "Generating dataset: n=500, vars=8, lag=2, dist=gaussian, with confounder\n",
            "Dataset and causal graph saved successfully\n",
            "\n",
            "Generating dataset: n=500, vars=8, lag=2, dist=t, with confounder\n",
            "Dataset and causal graph saved successfully\n",
            "\n",
            "Generating dataset: n=500, vars=8, lag=3, dist=gaussian, with confounder\n",
            "Dataset and causal graph saved successfully\n",
            "\n",
            "Generating dataset: n=500, vars=8, lag=3, dist=t, with confounder\n",
            "Dataset and causal graph saved successfully\n",
            "\n",
            "Generating dataset: n=500, vars=8, lag=4, dist=gaussian, with confounder\n",
            "Dataset and causal graph saved successfully\n",
            "\n",
            "Generating dataset: n=500, vars=8, lag=4, dist=t, with confounder\n",
            "Dataset and causal graph saved successfully\n",
            "\n",
            "Generating dataset: n=1000, vars=4, lag=2, dist=gaussian, with confounder\n",
            "Dataset and causal graph saved successfully\n",
            "\n",
            "Generating dataset: n=1000, vars=4, lag=2, dist=t, with confounder\n"
          ]
        },
        {
          "output_type": "stream",
          "name": "stderr",
          "text": [
            "/usr/local/lib/python3.11/dist-packages/tigramite/plotting.py:3203: RuntimeWarning: More than 20 figures have been opened. Figures created through the pyplot interface (`matplotlib.pyplot.figure`) are retained until explicitly closed and may consume too much memory. (To control this warning, see the rcParam `figure.max_open_warning`). Consider using `matplotlib.pyplot.close()`.\n",
            "  fig = pyplot.figure(figsize=figsize)\n",
            "<ipython-input-3-ebfc96a66ebe>:348: RuntimeWarning: More than 20 figures have been opened. Figures created through the pyplot interface (`matplotlib.pyplot.figure`) are retained until explicitly closed and may consume too much memory. (To control this warning, see the rcParam `figure.max_open_warning`). Consider using `matplotlib.pyplot.close()`.\n",
            "  plt.figure(figsize=(15, 10))\n"
          ]
        },
        {
          "output_type": "stream",
          "name": "stdout",
          "text": [
            "Dataset and causal graph saved successfully\n",
            "\n",
            "Generating dataset: n=1000, vars=4, lag=3, dist=gaussian, with confounder\n"
          ]
        },
        {
          "output_type": "stream",
          "name": "stderr",
          "text": [
            "<ipython-input-3-ebfc96a66ebe>:335: RuntimeWarning: More than 20 figures have been opened. Figures created through the pyplot interface (`matplotlib.pyplot.figure`) are retained until explicitly closed and may consume too much memory. (To control this warning, see the rcParam `figure.max_open_warning`). Consider using `matplotlib.pyplot.close()`.\n",
            "  plt.figure(figsize=(12, 12))\n"
          ]
        },
        {
          "output_type": "stream",
          "name": "stdout",
          "text": [
            "Dataset and causal graph saved successfully\n",
            "\n",
            "Generating dataset: n=1000, vars=4, lag=3, dist=t, with confounder\n",
            "Dataset and causal graph saved successfully\n",
            "\n",
            "Generating dataset: n=1000, vars=4, lag=4, dist=gaussian, with confounder\n",
            "Dataset and causal graph saved successfully\n",
            "\n",
            "Generating dataset: n=1000, vars=4, lag=4, dist=t, with confounder\n",
            "Dataset and causal graph saved successfully\n",
            "\n",
            "Generating dataset: n=1000, vars=6, lag=2, dist=gaussian, with confounder\n",
            "Dataset and causal graph saved successfully\n",
            "\n",
            "Generating dataset: n=1000, vars=6, lag=2, dist=t, with confounder\n",
            "Dataset and causal graph saved successfully\n",
            "\n",
            "Generating dataset: n=1000, vars=6, lag=3, dist=gaussian, with confounder\n",
            "Dataset and causal graph saved successfully\n",
            "\n",
            "Generating dataset: n=1000, vars=6, lag=3, dist=t, with confounder\n",
            "Dataset and causal graph saved successfully\n",
            "\n",
            "Generating dataset: n=1000, vars=6, lag=4, dist=gaussian, with confounder\n",
            "Dataset and causal graph saved successfully\n",
            "\n",
            "Generating dataset: n=1000, vars=6, lag=4, dist=t, with confounder\n",
            "Dataset and causal graph saved successfully\n",
            "\n",
            "Generating dataset: n=1000, vars=8, lag=2, dist=gaussian, with confounder\n",
            "Dataset and causal graph saved successfully\n",
            "\n",
            "Generating dataset: n=1000, vars=8, lag=2, dist=t, with confounder\n",
            "Dataset and causal graph saved successfully\n",
            "\n",
            "Generating dataset: n=1000, vars=8, lag=3, dist=gaussian, with confounder\n",
            "Dataset and causal graph saved successfully\n",
            "\n",
            "Generating dataset: n=1000, vars=8, lag=3, dist=t, with confounder\n",
            "Dataset and causal graph saved successfully\n",
            "\n",
            "Generating dataset: n=1000, vars=8, lag=4, dist=gaussian, with confounder\n",
            "Dataset and causal graph saved successfully\n",
            "\n",
            "Generating dataset: n=1000, vars=8, lag=4, dist=t, with confounder\n",
            "Dataset and causal graph saved successfully\n",
            "\n",
            "Generating dataset: n=3000, vars=4, lag=2, dist=gaussian, with confounder\n",
            "Dataset and causal graph saved successfully\n",
            "\n",
            "Generating dataset: n=3000, vars=4, lag=2, dist=t, with confounder\n",
            "Dataset and causal graph saved successfully\n",
            "\n",
            "Generating dataset: n=3000, vars=4, lag=3, dist=gaussian, with confounder\n",
            "Dataset and causal graph saved successfully\n",
            "\n",
            "Generating dataset: n=3000, vars=4, lag=3, dist=t, with confounder\n",
            "Dataset and causal graph saved successfully\n",
            "\n",
            "Generating dataset: n=3000, vars=4, lag=4, dist=gaussian, with confounder\n",
            "Dataset and causal graph saved successfully\n",
            "\n",
            "Generating dataset: n=3000, vars=4, lag=4, dist=t, with confounder\n",
            "Dataset and causal graph saved successfully\n",
            "\n",
            "Generating dataset: n=3000, vars=6, lag=2, dist=gaussian, with confounder\n",
            "Dataset and causal graph saved successfully\n",
            "\n",
            "Generating dataset: n=3000, vars=6, lag=2, dist=t, with confounder\n",
            "Dataset and causal graph saved successfully\n",
            "\n",
            "Generating dataset: n=3000, vars=6, lag=3, dist=gaussian, with confounder\n",
            "Dataset and causal graph saved successfully\n",
            "\n",
            "Generating dataset: n=3000, vars=6, lag=3, dist=t, with confounder\n",
            "Dataset and causal graph saved successfully\n",
            "\n",
            "Generating dataset: n=3000, vars=6, lag=4, dist=gaussian, with confounder\n",
            "Dataset and causal graph saved successfully\n",
            "\n",
            "Generating dataset: n=3000, vars=6, lag=4, dist=t, with confounder\n",
            "Dataset and causal graph saved successfully\n",
            "\n",
            "Generating dataset: n=3000, vars=8, lag=2, dist=gaussian, with confounder\n",
            "Dataset and causal graph saved successfully\n",
            "\n",
            "Generating dataset: n=3000, vars=8, lag=2, dist=t, with confounder\n",
            "Dataset and causal graph saved successfully\n",
            "\n",
            "Generating dataset: n=3000, vars=8, lag=3, dist=gaussian, with confounder\n",
            "Dataset and causal graph saved successfully\n",
            "\n",
            "Generating dataset: n=3000, vars=8, lag=3, dist=t, with confounder\n",
            "Dataset and causal graph saved successfully\n",
            "\n",
            "Generating dataset: n=3000, vars=8, lag=4, dist=gaussian, with confounder\n",
            "Dataset and causal graph saved successfully\n",
            "\n",
            "Generating dataset: n=3000, vars=8, lag=4, dist=t, with confounder\n",
            "Dataset and causal graph saved successfully\n",
            "\n",
            "Generating dataset: n=5000, vars=4, lag=2, dist=gaussian, with confounder\n",
            "Dataset and causal graph saved successfully\n",
            "\n",
            "Generating dataset: n=5000, vars=4, lag=2, dist=t, with confounder\n",
            "Dataset and causal graph saved successfully\n",
            "\n",
            "Generating dataset: n=5000, vars=4, lag=3, dist=gaussian, with confounder\n",
            "Dataset and causal graph saved successfully\n",
            "\n",
            "Generating dataset: n=5000, vars=4, lag=3, dist=t, with confounder\n",
            "Dataset and causal graph saved successfully\n",
            "\n",
            "Generating dataset: n=5000, vars=4, lag=4, dist=gaussian, with confounder\n",
            "Dataset and causal graph saved successfully\n",
            "\n",
            "Generating dataset: n=5000, vars=4, lag=4, dist=t, with confounder\n",
            "Dataset and causal graph saved successfully\n",
            "\n",
            "Generating dataset: n=5000, vars=6, lag=2, dist=gaussian, with confounder\n",
            "Dataset and causal graph saved successfully\n",
            "\n",
            "Generating dataset: n=5000, vars=6, lag=2, dist=t, with confounder\n",
            "Dataset and causal graph saved successfully\n",
            "\n",
            "Generating dataset: n=5000, vars=6, lag=3, dist=gaussian, with confounder\n",
            "Dataset and causal graph saved successfully\n",
            "\n",
            "Generating dataset: n=5000, vars=6, lag=3, dist=t, with confounder\n",
            "Dataset and causal graph saved successfully\n",
            "\n",
            "Generating dataset: n=5000, vars=6, lag=4, dist=gaussian, with confounder\n",
            "Dataset and causal graph saved successfully\n",
            "\n",
            "Generating dataset: n=5000, vars=6, lag=4, dist=t, with confounder\n",
            "Dataset and causal graph saved successfully\n",
            "\n",
            "Generating dataset: n=5000, vars=8, lag=2, dist=gaussian, with confounder\n",
            "Dataset and causal graph saved successfully\n",
            "\n",
            "Generating dataset: n=5000, vars=8, lag=2, dist=t, with confounder\n",
            "Dataset and causal graph saved successfully\n",
            "\n",
            "Generating dataset: n=5000, vars=8, lag=3, dist=gaussian, with confounder\n",
            "Dataset and causal graph saved successfully\n",
            "\n",
            "Generating dataset: n=5000, vars=8, lag=3, dist=t, with confounder\n",
            "Dataset and causal graph saved successfully\n",
            "\n",
            "Generating dataset: n=5000, vars=8, lag=4, dist=gaussian, with confounder\n",
            "Dataset and causal graph saved successfully\n",
            "\n",
            "Generating dataset: n=5000, vars=8, lag=4, dist=t, with confounder\n",
            "Dataset and causal graph saved successfully\n"
          ]
        },
        {
          "output_type": "display_data",
          "data": {
            "text/plain": [
              "<Figure size 1200x1200 with 0 Axes>"
            ]
          },
          "metadata": {}
        },
        {
          "output_type": "display_data",
          "data": {
            "text/plain": [
              "<Figure size 1200x1200 with 0 Axes>"
            ]
          },
          "metadata": {}
        },
        {
          "output_type": "display_data",
          "data": {
            "text/plain": [
              "<Figure size 1200x1200 with 0 Axes>"
            ]
          },
          "metadata": {}
        },
        {
          "output_type": "display_data",
          "data": {
            "text/plain": [
              "<Figure size 1200x1200 with 0 Axes>"
            ]
          },
          "metadata": {}
        },
        {
          "output_type": "display_data",
          "data": {
            "text/plain": [
              "<Figure size 1200x1200 with 0 Axes>"
            ]
          },
          "metadata": {}
        },
        {
          "output_type": "display_data",
          "data": {
            "text/plain": [
              "<Figure size 1200x1200 with 0 Axes>"
            ]
          },
          "metadata": {}
        },
        {
          "output_type": "display_data",
          "data": {
            "text/plain": [
              "<Figure size 1200x1200 with 0 Axes>"
            ]
          },
          "metadata": {}
        },
        {
          "output_type": "display_data",
          "data": {
            "text/plain": [
              "<Figure size 1200x1200 with 0 Axes>"
            ]
          },
          "metadata": {}
        },
        {
          "output_type": "display_data",
          "data": {
            "text/plain": [
              "<Figure size 1200x1200 with 0 Axes>"
            ]
          },
          "metadata": {}
        },
        {
          "output_type": "display_data",
          "data": {
            "text/plain": [
              "<Figure size 1200x1200 with 0 Axes>"
            ]
          },
          "metadata": {}
        },
        {
          "output_type": "display_data",
          "data": {
            "text/plain": [
              "<Figure size 1200x1200 with 0 Axes>"
            ]
          },
          "metadata": {}
        },
        {
          "output_type": "display_data",
          "data": {
            "text/plain": [
              "<Figure size 1200x1200 with 0 Axes>"
            ]
          },
          "metadata": {}
        },
        {
          "output_type": "display_data",
          "data": {
            "text/plain": [
              "<Figure size 1200x1200 with 0 Axes>"
            ]
          },
          "metadata": {}
        },
        {
          "output_type": "display_data",
          "data": {
            "text/plain": [
              "<Figure size 1200x1200 with 0 Axes>"
            ]
          },
          "metadata": {}
        },
        {
          "output_type": "display_data",
          "data": {
            "text/plain": [
              "<Figure size 1200x1200 with 0 Axes>"
            ]
          },
          "metadata": {}
        },
        {
          "output_type": "display_data",
          "data": {
            "text/plain": [
              "<Figure size 1200x1200 with 0 Axes>"
            ]
          },
          "metadata": {}
        },
        {
          "output_type": "display_data",
          "data": {
            "text/plain": [
              "<Figure size 1200x1200 with 0 Axes>"
            ]
          },
          "metadata": {}
        },
        {
          "output_type": "display_data",
          "data": {
            "text/plain": [
              "<Figure size 1200x1200 with 0 Axes>"
            ]
          },
          "metadata": {}
        },
        {
          "output_type": "display_data",
          "data": {
            "text/plain": [
              "<Figure size 1200x1200 with 0 Axes>"
            ]
          },
          "metadata": {}
        },
        {
          "output_type": "display_data",
          "data": {
            "text/plain": [
              "<Figure size 1200x1200 with 0 Axes>"
            ]
          },
          "metadata": {}
        },
        {
          "output_type": "display_data",
          "data": {
            "text/plain": [
              "<Figure size 1200x1200 with 0 Axes>"
            ]
          },
          "metadata": {}
        },
        {
          "output_type": "display_data",
          "data": {
            "text/plain": [
              "<Figure size 1200x1200 with 0 Axes>"
            ]
          },
          "metadata": {}
        },
        {
          "output_type": "display_data",
          "data": {
            "text/plain": [
              "<Figure size 1200x1200 with 0 Axes>"
            ]
          },
          "metadata": {}
        },
        {
          "output_type": "display_data",
          "data": {
            "text/plain": [
              "<Figure size 1200x1200 with 0 Axes>"
            ]
          },
          "metadata": {}
        },
        {
          "output_type": "display_data",
          "data": {
            "text/plain": [
              "<Figure size 1200x1200 with 0 Axes>"
            ]
          },
          "metadata": {}
        },
        {
          "output_type": "display_data",
          "data": {
            "text/plain": [
              "<Figure size 1200x1200 with 0 Axes>"
            ]
          },
          "metadata": {}
        },
        {
          "output_type": "display_data",
          "data": {
            "text/plain": [
              "<Figure size 1200x1200 with 0 Axes>"
            ]
          },
          "metadata": {}
        },
        {
          "output_type": "display_data",
          "data": {
            "text/plain": [
              "<Figure size 1200x1200 with 0 Axes>"
            ]
          },
          "metadata": {}
        },
        {
          "output_type": "display_data",
          "data": {
            "text/plain": [
              "<Figure size 1200x1200 with 0 Axes>"
            ]
          },
          "metadata": {}
        },
        {
          "output_type": "display_data",
          "data": {
            "text/plain": [
              "<Figure size 1200x1200 with 0 Axes>"
            ]
          },
          "metadata": {}
        },
        {
          "output_type": "display_data",
          "data": {
            "text/plain": [
              "<Figure size 1200x1200 with 0 Axes>"
            ]
          },
          "metadata": {}
        },
        {
          "output_type": "display_data",
          "data": {
            "text/plain": [
              "<Figure size 1200x1200 with 0 Axes>"
            ]
          },
          "metadata": {}
        },
        {
          "output_type": "display_data",
          "data": {
            "text/plain": [
              "<Figure size 1200x1200 with 0 Axes>"
            ]
          },
          "metadata": {}
        },
        {
          "output_type": "display_data",
          "data": {
            "text/plain": [
              "<Figure size 1200x1200 with 0 Axes>"
            ]
          },
          "metadata": {}
        },
        {
          "output_type": "display_data",
          "data": {
            "text/plain": [
              "<Figure size 1200x1200 with 0 Axes>"
            ]
          },
          "metadata": {}
        },
        {
          "output_type": "display_data",
          "data": {
            "text/plain": [
              "<Figure size 1200x1200 with 0 Axes>"
            ]
          },
          "metadata": {}
        },
        {
          "output_type": "display_data",
          "data": {
            "text/plain": [
              "<Figure size 1200x1200 with 0 Axes>"
            ]
          },
          "metadata": {}
        },
        {
          "output_type": "display_data",
          "data": {
            "text/plain": [
              "<Figure size 1200x1200 with 0 Axes>"
            ]
          },
          "metadata": {}
        },
        {
          "output_type": "display_data",
          "data": {
            "text/plain": [
              "<Figure size 1200x1200 with 0 Axes>"
            ]
          },
          "metadata": {}
        },
        {
          "output_type": "display_data",
          "data": {
            "text/plain": [
              "<Figure size 1200x1200 with 0 Axes>"
            ]
          },
          "metadata": {}
        },
        {
          "output_type": "display_data",
          "data": {
            "text/plain": [
              "<Figure size 1200x1200 with 0 Axes>"
            ]
          },
          "metadata": {}
        },
        {
          "output_type": "display_data",
          "data": {
            "text/plain": [
              "<Figure size 1200x1200 with 0 Axes>"
            ]
          },
          "metadata": {}
        },
        {
          "output_type": "display_data",
          "data": {
            "text/plain": [
              "<Figure size 1200x1200 with 0 Axes>"
            ]
          },
          "metadata": {}
        },
        {
          "output_type": "display_data",
          "data": {
            "text/plain": [
              "<Figure size 1200x1200 with 0 Axes>"
            ]
          },
          "metadata": {}
        },
        {
          "output_type": "display_data",
          "data": {
            "text/plain": [
              "<Figure size 1200x1200 with 0 Axes>"
            ]
          },
          "metadata": {}
        },
        {
          "output_type": "display_data",
          "data": {
            "text/plain": [
              "<Figure size 1200x1200 with 0 Axes>"
            ]
          },
          "metadata": {}
        },
        {
          "output_type": "display_data",
          "data": {
            "text/plain": [
              "<Figure size 1200x1200 with 0 Axes>"
            ]
          },
          "metadata": {}
        },
        {
          "output_type": "display_data",
          "data": {
            "text/plain": [
              "<Figure size 1200x1200 with 0 Axes>"
            ]
          },
          "metadata": {}
        },
        {
          "output_type": "display_data",
          "data": {
            "text/plain": [
              "<Figure size 1200x1200 with 0 Axes>"
            ]
          },
          "metadata": {}
        },
        {
          "output_type": "display_data",
          "data": {
            "text/plain": [
              "<Figure size 1200x1200 with 0 Axes>"
            ]
          },
          "metadata": {}
        },
        {
          "output_type": "display_data",
          "data": {
            "text/plain": [
              "<Figure size 1200x1200 with 0 Axes>"
            ]
          },
          "metadata": {}
        },
        {
          "output_type": "display_data",
          "data": {
            "text/plain": [
              "<Figure size 1200x1200 with 0 Axes>"
            ]
          },
          "metadata": {}
        },
        {
          "output_type": "display_data",
          "data": {
            "text/plain": [
              "<Figure size 1200x1200 with 0 Axes>"
            ]
          },
          "metadata": {}
        },
        {
          "output_type": "display_data",
          "data": {
            "text/plain": [
              "<Figure size 1200x1200 with 0 Axes>"
            ]
          },
          "metadata": {}
        },
        {
          "output_type": "display_data",
          "data": {
            "text/plain": [
              "<Figure size 1200x1200 with 0 Axes>"
            ]
          },
          "metadata": {}
        },
        {
          "output_type": "display_data",
          "data": {
            "text/plain": [
              "<Figure size 1200x1200 with 0 Axes>"
            ]
          },
          "metadata": {}
        },
        {
          "output_type": "display_data",
          "data": {
            "text/plain": [
              "<Figure size 1200x1200 with 0 Axes>"
            ]
          },
          "metadata": {}
        },
        {
          "output_type": "display_data",
          "data": {
            "text/plain": [
              "<Figure size 1200x1200 with 0 Axes>"
            ]
          },
          "metadata": {}
        },
        {
          "output_type": "display_data",
          "data": {
            "text/plain": [
              "<Figure size 1200x1200 with 0 Axes>"
            ]
          },
          "metadata": {}
        },
        {
          "output_type": "display_data",
          "data": {
            "text/plain": [
              "<Figure size 1200x1200 with 0 Axes>"
            ]
          },
          "metadata": {}
        },
        {
          "output_type": "display_data",
          "data": {
            "text/plain": [
              "<Figure size 1200x1200 with 0 Axes>"
            ]
          },
          "metadata": {}
        },
        {
          "output_type": "display_data",
          "data": {
            "text/plain": [
              "<Figure size 1200x1200 with 0 Axes>"
            ]
          },
          "metadata": {}
        },
        {
          "output_type": "display_data",
          "data": {
            "text/plain": [
              "<Figure size 1200x1200 with 0 Axes>"
            ]
          },
          "metadata": {}
        },
        {
          "output_type": "display_data",
          "data": {
            "text/plain": [
              "<Figure size 1200x1200 with 0 Axes>"
            ]
          },
          "metadata": {}
        },
        {
          "output_type": "display_data",
          "data": {
            "text/plain": [
              "<Figure size 1200x1200 with 0 Axes>"
            ]
          },
          "metadata": {}
        },
        {
          "output_type": "display_data",
          "data": {
            "text/plain": [
              "<Figure size 1200x1200 with 0 Axes>"
            ]
          },
          "metadata": {}
        },
        {
          "output_type": "display_data",
          "data": {
            "text/plain": [
              "<Figure size 1200x1200 with 0 Axes>"
            ]
          },
          "metadata": {}
        },
        {
          "output_type": "display_data",
          "data": {
            "text/plain": [
              "<Figure size 1200x1200 with 0 Axes>"
            ]
          },
          "metadata": {}
        },
        {
          "output_type": "display_data",
          "data": {
            "text/plain": [
              "<Figure size 1200x1200 with 0 Axes>"
            ]
          },
          "metadata": {}
        },
        {
          "output_type": "display_data",
          "data": {
            "text/plain": [
              "<Figure size 1200x1200 with 0 Axes>"
            ]
          },
          "metadata": {}
        },
        {
          "output_type": "display_data",
          "data": {
            "text/plain": [
              "<Figure size 1200x1200 with 0 Axes>"
            ]
          },
          "metadata": {}
        },
        {
          "output_type": "display_data",
          "data": {
            "text/plain": [
              "<Figure size 1200x1200 with 0 Axes>"
            ]
          },
          "metadata": {}
        }
      ]
    },
    {
      "cell_type": "code",
      "source": [
        "!zip -r /content/output.zip /content/output"
      ],
      "metadata": {
        "colab": {
          "base_uri": "https://localhost:8080/"
        },
        "id": "9CQ3PbfPRWez",
        "outputId": "dbae8e14-32dd-46bc-b0ed-c5990faf861c"
      },
      "execution_count": 4,
      "outputs": [
        {
          "output_type": "stream",
          "name": "stdout",
          "text": [
            "  adding: content/output/ (stored 0%)\n",
            "  adding: content/output/causal_graph_n5000_vars6_lag4_gaussian_with_confounder.png (deflated 4%)\n",
            "  adding: content/output/ts_plot_n3000_vars4_lag4_gaussian.png (deflated 2%)\n",
            "  adding: content/output/causal_graph_n1000_vars8_lag4_gaussian_with_confounder.png (deflated 4%)\n",
            "  adding: content/output/ts_plot_n1000_vars8_lag3_t.png (deflated 34%)\n",
            "  adding: content/output/ts_plot_n1000_vars4_lag3_t.png (deflated 36%)\n",
            "  adding: content/output/causal_structure_vars8_lag4_with_confounder.txt (deflated 52%)\n",
            "  adding: content/output/causal_graph_n3000_vars6_lag2_gaussian_with_confounder.png (deflated 5%)\n",
            "  adding: content/output/causal_graph_n5000_vars6_lag2_t_with_confounder.png (deflated 4%)\n",
            "  adding: content/output/causal_graph_n500_vars4_lag4_t_with_confounder.png (deflated 4%)\n",
            "  adding: content/output/ts_plot_n5000_vars4_lag3_t.png (deflated 36%)\n",
            "  adding: content/output/multivariate_ts_n3000_vars8_lag2_gaussian_with_confounder.csv (deflated 55%)\n",
            "  adding: content/output/causal_graph_n500_vars4_lag4_gaussian_with_confounder.png (deflated 4%)\n",
            "  adding: content/output/ts_plot_n5000_vars8_lag2_gaussian.png (deflated 2%)\n",
            "  adding: content/output/multivariate_ts_n3000_vars8_lag2_t_with_confounder.csv (deflated 95%)\n",
            "  adding: content/output/causal_graph_n5000_vars4_lag4_t_with_confounder.png (deflated 4%)\n",
            "  adding: content/output/ts_plot_n5000_vars8_lag4_t.png (deflated 34%)\n",
            "  adding: content/output/ts_plot_n500_vars8_lag3_gaussian.png (deflated 1%)\n",
            "  adding: content/output/causal_graph_n500_vars4_lag3_gaussian_with_confounder.png (deflated 4%)\n",
            "  adding: content/output/causal_graph_n3000_vars4_lag2_gaussian_with_confounder.png (deflated 5%)\n",
            "  adding: content/output/multivariate_ts_n3000_vars8_lag3_gaussian_with_confounder.csv (deflated 55%)\n",
            "  adding: content/output/causal_graph_n500_vars8_lag3_t_with_confounder.png (deflated 4%)\n",
            "  adding: content/output/ts_plot_n500_vars4_lag3_gaussian.png (deflated 1%)\n",
            "  adding: content/output/ts_plot_n5000_vars4_lag4_gaussian.png (deflated 2%)\n",
            "  adding: content/output/ts_plot_n5000_vars4_lag4_t.png (deflated 37%)\n",
            "  adding: content/output/multivariate_ts_n5000_vars4_lag2_t_with_confounder.csv (deflated 91%)\n",
            "  adding: content/output/multivariate_ts_n1000_vars4_lag4_t_with_confounder.csv (deflated 91%)\n",
            "  adding: content/output/ts_plot_n500_vars4_lag2_gaussian.png (deflated 1%)\n",
            "  adding: content/output/ts_plot_n5000_vars6_lag3_gaussian.png (deflated 2%)\n",
            "  adding: content/output/multivariate_ts_n1000_vars6_lag3_t_with_confounder.csv (deflated 93%)\n",
            "  adding: content/output/multivariate_ts_n1000_vars4_lag3_gaussian_with_confounder.csv (deflated 53%)\n",
            "  adding: content/output/multivariate_ts_n1000_vars6_lag3_gaussian_with_confounder.csv (deflated 54%)\n",
            "  adding: content/output/ts_plot_n1000_vars4_lag4_gaussian.png (deflated 2%)\n",
            "  adding: content/output/ts_plot_n3000_vars8_lag4_gaussian.png (deflated 2%)\n",
            "  adding: content/output/causal_graph_n1000_vars6_lag2_gaussian_with_confounder.png (deflated 5%)\n",
            "  adding: content/output/ts_plot_n5000_vars8_lag3_t.png (deflated 35%)\n",
            "  adding: content/output/causal_graph_n3000_vars6_lag4_t_with_confounder.png (deflated 4%)\n",
            "  adding: content/output/multivariate_ts_n3000_vars4_lag2_t_with_confounder.csv (deflated 91%)\n",
            "  adding: content/output/multivariate_ts_n500_vars6_lag3_gaussian_with_confounder.csv (deflated 53%)\n",
            "  adding: content/output/causal_graph_n500_vars6_lag2_t_with_confounder.png (deflated 5%)\n",
            "  adding: content/output/multivariate_ts_n3000_vars6_lag4_gaussian_with_confounder.csv (deflated 54%)\n",
            "  adding: content/output/multivariate_ts_n5000_vars8_lag2_t_with_confounder.csv (deflated 95%)\n",
            "  adding: content/output/causal_graph_n3000_vars6_lag2_t_with_confounder.png (deflated 5%)\n",
            "  adding: content/output/ts_plot_n3000_vars6_lag3_t.png (deflated 34%)\n",
            "  adding: content/output/ts_plot_n500_vars6_lag2_t.png (deflated 34%)\n",
            "  adding: content/output/causal_structure_vars6_lag3_with_confounder.txt (deflated 46%)\n",
            "  adding: content/output/causal_graph_n1000_vars6_lag4_t_with_confounder.png (deflated 4%)\n",
            "  adding: content/output/causal_graph_n500_vars4_lag2_t_with_confounder.png (deflated 5%)\n",
            "  adding: content/output/causal_structure_vars6_lag4_with_confounder.txt (deflated 46%)\n",
            "  adding: content/output/causal_graph_n1000_vars8_lag2_gaussian_with_confounder.png (deflated 5%)\n",
            "  adding: content/output/ts_plot_n500_vars6_lag3_gaussian.png (deflated 1%)\n",
            "  adding: content/output/ts_plot_n1000_vars8_lag4_t.png (deflated 35%)\n",
            "  adding: content/output/ts_plot_n500_vars4_lag4_gaussian.png (deflated 1%)\n",
            "  adding: content/output/causal_graph_n5000_vars8_lag2_t_with_confounder.png (deflated 5%)\n",
            "  adding: content/output/causal_graph_n3000_vars8_lag2_t_with_confounder.png (deflated 5%)\n",
            "  adding: content/output/multivariate_ts_n5000_vars4_lag4_gaussian_with_confounder.csv (deflated 54%)\n",
            "  adding: content/output/multivariate_ts_n5000_vars6_lag3_gaussian_with_confounder.csv (deflated 54%)\n",
            "  adding: content/output/ts_plot_n3000_vars6_lag4_t.png (deflated 34%)\n",
            "  adding: content/output/multivariate_ts_n500_vars6_lag4_gaussian_with_confounder.csv (deflated 53%)\n",
            "  adding: content/output/ts_plot_n500_vars8_lag4_gaussian.png (deflated 1%)\n",
            "  adding: content/output/ts_plot_n500_vars6_lag4_t.png (deflated 34%)\n",
            "  adding: content/output/causal_graph_n3000_vars4_lag4_gaussian_with_confounder.png (deflated 4%)\n",
            "  adding: content/output/causal_graph_n3000_vars8_lag2_gaussian_with_confounder.png (deflated 5%)\n",
            "  adding: content/output/multivariate_ts_n500_vars8_lag3_t_with_confounder.csv (deflated 94%)\n",
            "  adding: content/output/ts_plot_n3000_vars8_lag3_t.png (deflated 35%)\n",
            "  adding: content/output/multivariate_ts_n500_vars4_lag3_t_with_confounder.csv (deflated 91%)\n",
            "  adding: content/output/multivariate_ts_n5000_vars8_lag3_t_with_confounder.csv (deflated 95%)\n",
            "  adding: content/output/causal_graph_n1000_vars6_lag3_t_with_confounder.png (deflated 4%)\n",
            "  adding: content/output/causal_graph_n5000_vars6_lag3_t_with_confounder.png (deflated 4%)\n",
            "  adding: content/output/ts_plot_n5000_vars6_lag4_t.png (deflated 35%)\n",
            "  adding: content/output/causal_graph_n1000_vars4_lag4_gaussian_with_confounder.png (deflated 4%)\n",
            "  adding: content/output/multivariate_ts_n1000_vars4_lag4_gaussian_with_confounder.csv (deflated 53%)\n",
            "  adding: content/output/multivariate_ts_n500_vars4_lag4_gaussian_with_confounder.csv (deflated 52%)\n",
            "  adding: content/output/ts_plot_n5000_vars6_lag4_gaussian.png (deflated 2%)\n",
            "  adding: content/output/ts_plot_n500_vars8_lag4_t.png (deflated 34%)\n",
            "  adding: content/output/causal_graph_n1000_vars6_lag2_t_with_confounder.png (deflated 5%)\n",
            "  adding: content/output/causal_graph_n1000_vars4_lag2_gaussian_with_confounder.png (deflated 5%)\n",
            "  adding: content/output/multivariate_ts_n500_vars4_lag4_t_with_confounder.csv (deflated 91%)\n",
            "  adding: content/output/ts_plot_n5000_vars4_lag3_gaussian.png (deflated 2%)\n",
            "  adding: content/output/multivariate_ts_n500_vars4_lag3_gaussian_with_confounder.csv (deflated 52%)\n",
            "  adding: content/output/causal_graph_n500_vars6_lag3_gaussian_with_confounder.png (deflated 4%)\n",
            "  adding: content/output/multivariate_ts_n3000_vars8_lag3_t_with_confounder.csv (deflated 95%)\n",
            "  adding: content/output/causal_graph_n1000_vars8_lag4_t_with_confounder.png (deflated 4%)\n",
            "  adding: content/output/ts_plot_n3000_vars8_lag4_t.png (deflated 34%)\n",
            "  adding: content/output/ts_plot_n3000_vars8_lag2_gaussian.png (deflated 2%)\n",
            "  adding: content/output/multivariate_ts_n3000_vars8_lag4_t_with_confounder.csv (deflated 95%)\n",
            "  adding: content/output/multivariate_ts_n5000_vars6_lag2_gaussian_with_confounder.csv (deflated 54%)\n",
            "  adding: content/output/causal_graph_n3000_vars4_lag2_t_with_confounder.png (deflated 5%)\n",
            "  adding: content/output/ts_plot_n1000_vars4_lag2_gaussian.png (deflated 1%)\n",
            "  adding: content/output/causal_graph_n3000_vars8_lag3_gaussian_with_confounder.png (deflated 4%)\n",
            "  adding: content/output/causal_graph_n3000_vars8_lag4_gaussian_with_confounder.png (deflated 4%)\n",
            "  adding: content/output/causal_graph_n5000_vars6_lag4_t_with_confounder.png (deflated 4%)\n",
            "  adding: content/output/causal_structure_vars4_lag2_with_confounder.txt (deflated 37%)\n",
            "  adding: content/output/causal_graph_n500_vars6_lag4_gaussian_with_confounder.png (deflated 4%)\n",
            "  adding: content/output/multivariate_ts_n5000_vars4_lag2_gaussian_with_confounder.csv (deflated 54%)\n",
            "  adding: content/output/multivariate_ts_n5000_vars8_lag2_gaussian_with_confounder.csv (deflated 55%)\n",
            "  adding: content/output/multivariate_ts_n500_vars4_lag2_gaussian_with_confounder.csv (deflated 52%)\n",
            "  adding: content/output/multivariate_ts_n3000_vars4_lag3_gaussian_with_confounder.csv (deflated 54%)\n",
            "  adding: content/output/causal_graph_n5000_vars4_lag3_t_with_confounder.png (deflated 4%)\n",
            "  adding: content/output/ts_plot_n500_vars6_lag2_gaussian.png (deflated 1%)\n",
            "  adding: content/output/multivariate_ts_n500_vars6_lag3_t_with_confounder.csv (deflated 93%)\n",
            "  adding: content/output/ts_plot_n1000_vars4_lag3_gaussian.png (deflated 2%)\n",
            "  adding: content/output/ts_plot_n3000_vars6_lag2_t.png (deflated 34%)\n",
            "  adding: content/output/causal_graph_n5000_vars6_lag3_gaussian_with_confounder.png (deflated 4%)\n",
            "  adding: content/output/causal_graph_n5000_vars4_lag4_gaussian_with_confounder.png (deflated 4%)\n",
            "  adding: content/output/ts_plot_n1000_vars6_lag2_gaussian.png (deflated 2%)\n",
            "  adding: content/output/causal_graph_n3000_vars6_lag3_t_with_confounder.png (deflated 4%)\n",
            "  adding: content/output/causal_structure_vars6_lag2_with_confounder.txt (deflated 47%)\n",
            "  adding: content/output/multivariate_ts_n1000_vars8_lag2_gaussian_with_confounder.csv (deflated 54%)\n",
            "  adding: content/output/causal_graph_n1000_vars4_lag3_gaussian_with_confounder.png (deflated 4%)\n",
            "  adding: content/output/multivariate_ts_n500_vars4_lag2_t_with_confounder.csv (deflated 91%)\n",
            "  adding: content/output/multivariate_ts_n5000_vars8_lag4_gaussian_with_confounder.csv (deflated 55%)\n",
            "  adding: content/output/causal_graph_n3000_vars6_lag3_gaussian_with_confounder.png (deflated 4%)\n",
            "  adding: content/output/multivariate_ts_n500_vars6_lag2_t_with_confounder.csv (deflated 93%)\n",
            "  adding: content/output/ts_plot_n1000_vars8_lag4_gaussian.png (deflated 2%)\n",
            "  adding: content/output/ts_plot_n500_vars8_lag2_t.png (deflated 34%)\n",
            "  adding: content/output/multivariate_ts_n5000_vars8_lag4_t_with_confounder.csv (deflated 95%)\n",
            "  adding: content/output/causal_structure_vars4_lag4_with_confounder.txt (deflated 40%)\n",
            "  adding: content/output/ts_plot_n500_vars8_lag2_gaussian.png (deflated 1%)\n",
            "  adding: content/output/multivariate_ts_n3000_vars6_lag3_t_with_confounder.csv (deflated 93%)\n",
            "  adding: content/output/multivariate_ts_n3000_vars4_lag4_gaussian_with_confounder.csv (deflated 54%)\n",
            "  adding: content/output/multivariate_ts_n1000_vars8_lag4_gaussian_with_confounder.csv (deflated 54%)\n",
            "  adding: content/output/ts_plot_n3000_vars4_lag3_gaussian.png (deflated 2%)\n",
            "  adding: content/output/ts_plot_n1000_vars6_lag3_gaussian.png (deflated 2%)\n",
            "  adding: content/output/causal_graph_n3000_vars4_lag3_t_with_confounder.png (deflated 4%)\n",
            "  adding: content/output/ts_plot_n500_vars4_lag2_t.png (deflated 37%)\n",
            "  adding: content/output/ts_plot_n5000_vars8_lag3_gaussian.png (deflated 2%)\n",
            "  adding: content/output/multivariate_ts_n500_vars8_lag4_gaussian_with_confounder.csv (deflated 53%)\n",
            "  adding: content/output/multivariate_ts_n1000_vars4_lag2_t_with_confounder.csv (deflated 91%)\n",
            "  adding: content/output/ts_plot_n500_vars4_lag3_t.png (deflated 37%)\n",
            "  adding: content/output/causal_graph_n500_vars8_lag2_gaussian_with_confounder.png (deflated 5%)\n",
            "  adding: content/output/multivariate_ts_n1000_vars6_lag4_t_with_confounder.csv (deflated 93%)\n",
            "  adding: content/output/ts_plot_n3000_vars8_lag2_t.png (deflated 35%)\n",
            "  adding: content/output/causal_graph_n500_vars4_lag3_t_with_confounder.png (deflated 4%)\n",
            "  adding: content/output/ts_plot_n3000_vars6_lag2_gaussian.png (deflated 2%)\n",
            "  adding: content/output/ts_plot_n3000_vars4_lag2_t.png (deflated 36%)\n",
            "  adding: content/output/multivariate_ts_n1000_vars8_lag4_t_with_confounder.csv (deflated 95%)\n",
            "  adding: content/output/causal_graph_n500_vars4_lag2_gaussian_with_confounder.png (deflated 5%)\n",
            "  adding: content/output/ts_plot_n3000_vars4_lag4_t.png (deflated 36%)\n",
            "  adding: content/output/multivariate_ts_n5000_vars8_lag3_gaussian_with_confounder.csv (deflated 55%)\n",
            "  adding: content/output/ts_plot_n500_vars6_lag4_gaussian.png (deflated 1%)\n",
            "  adding: content/output/causal_structure_vars8_lag2_with_confounder.txt (deflated 53%)\n",
            "  adding: content/output/multivariate_ts_n1000_vars8_lag2_t_with_confounder.csv (deflated 95%)\n",
            "  adding: content/output/multivariate_ts_n5000_vars6_lag2_t_with_confounder.csv (deflated 93%)\n",
            "  adding: content/output/causal_graph_n1000_vars8_lag3_t_with_confounder.png (deflated 4%)\n",
            "  adding: content/output/multivariate_ts_n1000_vars4_lag3_t_with_confounder.csv (deflated 91%)\n",
            "  adding: content/output/multivariate_ts_n5000_vars6_lag3_t_with_confounder.csv (deflated 93%)\n",
            "  adding: content/output/causal_graph_n500_vars6_lag3_t_with_confounder.png (deflated 4%)\n",
            "  adding: content/output/multivariate_ts_n500_vars8_lag2_gaussian_with_confounder.csv (deflated 53%)\n",
            "  adding: content/output/causal_graph_n5000_vars8_lag4_gaussian_with_confounder.png (deflated 4%)\n",
            "  adding: content/output/causal_structure_vars4_lag3_with_confounder.txt (deflated 40%)\n",
            "  adding: content/output/causal_graph_n3000_vars8_lag3_t_with_confounder.png (deflated 4%)\n",
            "  adding: content/output/causal_graph_n5000_vars4_lag2_gaussian_with_confounder.png (deflated 5%)\n",
            "  adding: content/output/causal_graph_n1000_vars8_lag3_gaussian_with_confounder.png (deflated 4%)\n",
            "  adding: content/output/causal_graph_n500_vars6_lag2_gaussian_with_confounder.png (deflated 5%)\n",
            "  adding: content/output/multivariate_ts_n500_vars8_lag2_t_with_confounder.csv (deflated 94%)\n",
            "  adding: content/output/causal_graph_n3000_vars4_lag4_t_with_confounder.png (deflated 4%)\n",
            "  adding: content/output/multivariate_ts_n5000_vars4_lag4_t_with_confounder.csv (deflated 91%)\n",
            "  adding: content/output/multivariate_ts_n5000_vars6_lag4_t_with_confounder.csv (deflated 93%)\n",
            "  adding: content/output/causal_graph_n1000_vars6_lag4_gaussian_with_confounder.png (deflated 4%)\n",
            "  adding: content/output/ts_plot_n1000_vars4_lag2_t.png (deflated 36%)\n",
            "  adding: content/output/multivariate_ts_n1000_vars6_lag2_gaussian_with_confounder.csv (deflated 54%)\n",
            "  adding: content/output/ts_plot_n500_vars6_lag3_t.png (deflated 34%)\n",
            "  adding: content/output/causal_graph_n3000_vars6_lag4_gaussian_with_confounder.png (deflated 4%)\n",
            "  adding: content/output/multivariate_ts_n3000_vars6_lag4_t_with_confounder.csv (deflated 93%)\n",
            "  adding: content/output/causal_structure_vars8_lag3_with_confounder.txt (deflated 52%)\n",
            "  adding: content/output/causal_graph_n3000_vars8_lag4_t_with_confounder.png (deflated 4%)\n",
            "  adding: content/output/ts_plot_n3000_vars6_lag3_gaussian.png (deflated 2%)\n",
            "  adding: content/output/causal_graph_n5000_vars4_lag3_gaussian_with_confounder.png (deflated 4%)\n",
            "  adding: content/output/multivariate_ts_n3000_vars4_lag4_t_with_confounder.csv (deflated 91%)\n",
            "  adding: content/output/ts_plot_n3000_vars8_lag3_gaussian.png (deflated 2%)\n",
            "  adding: content/output/causal_graph_n1000_vars8_lag2_t_with_confounder.png (deflated 5%)\n",
            "  adding: content/output/causal_graph_n5000_vars8_lag3_gaussian_with_confounder.png (deflated 4%)\n",
            "  adding: content/output/multivariate_ts_n3000_vars8_lag4_gaussian_with_confounder.csv (deflated 55%)\n",
            "  adding: content/output/ts_plot_n1000_vars6_lag4_t.png (deflated 34%)\n",
            "  adding: content/output/multivariate_ts_n3000_vars6_lag2_t_with_confounder.csv (deflated 93%)\n",
            "  adding: content/output/multivariate_ts_n5000_vars4_lag3_t_with_confounder.csv (deflated 91%)\n",
            "  adding: content/output/causal_graph_n500_vars8_lag3_gaussian_with_confounder.png (deflated 4%)\n",
            "  adding: content/output/causal_graph_n1000_vars4_lag3_t_with_confounder.png (deflated 4%)\n",
            "  adding: content/output/ts_plot_n1000_vars6_lag2_t.png (deflated 34%)\n",
            "  adding: content/output/causal_graph_n3000_vars4_lag3_gaussian_with_confounder.png (deflated 4%)\n",
            "  adding: content/output/multivariate_ts_n1000_vars8_lag3_t_with_confounder.csv (deflated 95%)\n",
            "  adding: content/output/ts_plot_n1000_vars6_lag3_t.png (deflated 34%)\n",
            "  adding: content/output/causal_graph_n500_vars6_lag4_t_with_confounder.png (deflated 4%)\n",
            "  adding: content/output/causal_graph_n5000_vars6_lag2_gaussian_with_confounder.png (deflated 4%)\n",
            "  adding: content/output/ts_plot_n1000_vars8_lag3_gaussian.png (deflated 2%)\n",
            "  adding: content/output/ts_plot_n5000_vars8_lag2_t.png (deflated 34%)\n",
            "  adding: content/output/ts_plot_n5000_vars6_lag3_t.png (deflated 34%)\n",
            "  adding: content/output/causal_graph_n5000_vars4_lag2_t_with_confounder.png (deflated 5%)\n",
            "  adding: content/output/ts_plot_n1000_vars4_lag4_t.png (deflated 36%)\n",
            "  adding: content/output/multivariate_ts_n500_vars8_lag3_gaussian_with_confounder.csv (deflated 53%)\n",
            "  adding: content/output/multivariate_ts_n1000_vars4_lag2_gaussian_with_confounder.csv (deflated 53%)\n",
            "  adding: content/output/ts_plot_n1000_vars8_lag2_t.png (deflated 35%)\n",
            "  adding: content/output/multivariate_ts_n500_vars8_lag4_t_with_confounder.csv (deflated 94%)\n",
            "  adding: content/output/multivariate_ts_n3000_vars4_lag2_gaussian_with_confounder.csv (deflated 54%)\n",
            "  adding: content/output/ts_plot_n5000_vars8_lag4_gaussian.png (deflated 2%)\n",
            "  adding: content/output/ts_plot_n5000_vars6_lag2_gaussian.png (deflated 2%)\n",
            "  adding: content/output/multivariate_ts_n3000_vars6_lag3_gaussian_with_confounder.csv (deflated 54%)\n",
            "  adding: content/output/ts_plot_n5000_vars6_lag2_t.png (deflated 34%)\n",
            "  adding: content/output/multivariate_ts_n3000_vars6_lag2_gaussian_with_confounder.csv (deflated 54%)\n",
            "  adding: content/output/multivariate_ts_n500_vars6_lag4_t_with_confounder.csv (deflated 93%)\n",
            "  adding: content/output/causal_graph_n1000_vars4_lag2_t_with_confounder.png (deflated 5%)\n",
            "  adding: content/output/ts_plot_n3000_vars4_lag3_t.png (deflated 36%)\n",
            "  adding: content/output/multivariate_ts_n1000_vars8_lag3_gaussian_with_confounder.csv (deflated 54%)\n",
            "  adding: content/output/ts_plot_n500_vars4_lag4_t.png (deflated 36%)\n",
            "  adding: content/output/multivariate_ts_n5000_vars4_lag3_gaussian_with_confounder.csv (deflated 54%)\n",
            "  adding: content/output/ts_plot_n3000_vars4_lag2_gaussian.png (deflated 2%)\n",
            "  adding: content/output/causal_graph_n500_vars8_lag4_gaussian_with_confounder.png (deflated 4%)\n",
            "  adding: content/output/causal_graph_n500_vars8_lag2_t_with_confounder.png (deflated 5%)\n",
            "  adding: content/output/multivariate_ts_n1000_vars6_lag4_gaussian_with_confounder.csv (deflated 54%)\n",
            "  adding: content/output/ts_plot_n3000_vars6_lag4_gaussian.png (deflated 2%)\n",
            "  adding: content/output/causal_graph_n1000_vars4_lag4_t_with_confounder.png (deflated 4%)\n",
            "  adding: content/output/multivariate_ts_n500_vars6_lag2_gaussian_with_confounder.csv (deflated 53%)\n",
            "  adding: content/output/multivariate_ts_n3000_vars4_lag3_t_with_confounder.csv (deflated 91%)\n",
            "  adding: content/output/causal_graph_n500_vars8_lag4_t_with_confounder.png (deflated 4%)\n",
            "  adding: content/output/ts_plot_n1000_vars6_lag4_gaussian.png (deflated 2%)\n",
            "  adding: content/output/ts_plot_n5000_vars4_lag2_t.png (deflated 36%)\n",
            "  adding: content/output/ts_plot_n500_vars8_lag3_t.png (deflated 34%)\n",
            "  adding: content/output/ts_plot_n5000_vars4_lag2_gaussian.png (deflated 2%)\n",
            "  adding: content/output/causal_graph_n5000_vars8_lag3_t_with_confounder.png (deflated 4%)\n",
            "  adding: content/output/causal_graph_n1000_vars6_lag3_gaussian_with_confounder.png (deflated 4%)\n",
            "  adding: content/output/multivariate_ts_n5000_vars6_lag4_gaussian_with_confounder.csv (deflated 54%)\n",
            "  adding: content/output/multivariate_ts_n1000_vars6_lag2_t_with_confounder.csv (deflated 93%)\n",
            "  adding: content/output/ts_plot_n1000_vars8_lag2_gaussian.png (deflated 2%)\n",
            "  adding: content/output/causal_graph_n5000_vars8_lag2_gaussian_with_confounder.png (deflated 5%)\n",
            "  adding: content/output/causal_graph_n5000_vars8_lag4_t_with_confounder.png (deflated 4%)\n"
          ]
        }
      ]
    },
    {
      "cell_type": "code",
      "source": [
        "from google.colab import files\n",
        "files.download('/content/output.zip')"
      ],
      "metadata": {
        "colab": {
          "base_uri": "https://localhost:8080/",
          "height": 17
        },
        "id": "yP4UzAh0RaUE",
        "outputId": "060f759f-25c6-4191-f724-ad915f6dc3d5"
      },
      "execution_count": 5,
      "outputs": [
        {
          "output_type": "display_data",
          "data": {
            "text/plain": [
              "<IPython.core.display.Javascript object>"
            ],
            "application/javascript": [
              "\n",
              "    async function download(id, filename, size) {\n",
              "      if (!google.colab.kernel.accessAllowed) {\n",
              "        return;\n",
              "      }\n",
              "      const div = document.createElement('div');\n",
              "      const label = document.createElement('label');\n",
              "      label.textContent = `Downloading \"${filename}\": `;\n",
              "      div.appendChild(label);\n",
              "      const progress = document.createElement('progress');\n",
              "      progress.max = size;\n",
              "      div.appendChild(progress);\n",
              "      document.body.appendChild(div);\n",
              "\n",
              "      const buffers = [];\n",
              "      let downloaded = 0;\n",
              "\n",
              "      const channel = await google.colab.kernel.comms.open(id);\n",
              "      // Send a message to notify the kernel that we're ready.\n",
              "      channel.send({})\n",
              "\n",
              "      for await (const message of channel.messages) {\n",
              "        // Send a message to notify the kernel that we're ready.\n",
              "        channel.send({})\n",
              "        if (message.buffers) {\n",
              "          for (const buffer of message.buffers) {\n",
              "            buffers.push(buffer);\n",
              "            downloaded += buffer.byteLength;\n",
              "            progress.value = downloaded;\n",
              "          }\n",
              "        }\n",
              "      }\n",
              "      const blob = new Blob(buffers, {type: 'application/binary'});\n",
              "      const a = document.createElement('a');\n",
              "      a.href = window.URL.createObjectURL(blob);\n",
              "      a.download = filename;\n",
              "      div.appendChild(a);\n",
              "      a.click();\n",
              "      div.remove();\n",
              "    }\n",
              "  "
            ]
          },
          "metadata": {}
        },
        {
          "output_type": "display_data",
          "data": {
            "text/plain": [
              "<IPython.core.display.Javascript object>"
            ],
            "application/javascript": [
              "download(\"download_2db5a0be-707f-49b7-9399-de05890b3cef\", \"output.zip\", 23303267)"
            ]
          },
          "metadata": {}
        }
      ]
    }
  ]
}