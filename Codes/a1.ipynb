{
  "nbformat": 4,
  "nbformat_minor": 0,
  "metadata": {
    "colab": {
      "provenance": []
    },
    "kernelspec": {
      "name": "python3",
      "display_name": "Python 3"
    },
    "language_info": {
      "name": "python"
    }
  },
  "cells": [
    {
      "cell_type": "code",
      "execution_count": 1,
      "metadata": {
        "colab": {
          "base_uri": "https://localhost:8080/"
        },
        "id": "MVsJzKARanxL",
        "outputId": "d3359018-af84-4956-825b-54c2a2cb1e3e"
      },
      "outputs": [
        {
          "output_type": "stream",
          "name": "stdout",
          "text": [
            "Collecting tigramite\n",
            "  Downloading tigramite-5.2.7.0-py3-none-any.whl.metadata (11 kB)\n",
            "Requirement already satisfied: numpy>=1.18 in /usr/local/lib/python3.11/dist-packages (from tigramite) (1.26.4)\n",
            "Requirement already satisfied: scipy>=1.10.0 in /usr/local/lib/python3.11/dist-packages (from tigramite) (1.13.1)\n",
            "Requirement already satisfied: six in /usr/local/lib/python3.11/dist-packages (from tigramite) (1.17.0)\n",
            "Downloading tigramite-5.2.7.0-py3-none-any.whl (309 kB)\n",
            "\u001b[2K   \u001b[90m━━━━━━━━━━━━━━━━━━━━━━━━━━━━━━━━━━━━━━━━\u001b[0m \u001b[32m309.6/309.6 kB\u001b[0m \u001b[31m4.3 MB/s\u001b[0m eta \u001b[36m0:00:00\u001b[0m\n",
            "\u001b[?25hInstalling collected packages: tigramite\n",
            "Successfully installed tigramite-5.2.7.0\n"
          ]
        }
      ],
      "source": [
        "!pip install tigramite"
      ]
    },
    {
      "cell_type": "code",
      "source": [
        "import numpy as np\n",
        "import pandas as pd\n",
        "from tigramite import plotting as tp\n",
        "import matplotlib.pyplot as plt\n",
        "from pathlib import Path\n",
        "from scipy import stats"
      ],
      "metadata": {
        "id": "wLB10NPxbLns"
      },
      "execution_count": 2,
      "outputs": []
    },
    {
      "cell_type": "code",
      "source": [
        "def get_linear_equations(n_vars, max_lag):\n",
        "    \"\"\"Get linear equations for specified configuration\"\"\"\n",
        "    if n_vars == 4:\n",
        "        if max_lag == 2:\n",
        "            return [\n",
        "                \"X4[t] = 0.25 * X1[t-2] + e4\",\n",
        "                \"X3[t] = 0.35 * X4[t] + e3\",\n",
        "                \"X2[t] = 0.3 * X3[t-1] + e2\",\n",
        "                \"X1[t] = 0.4 * X2[t] + e1\"\n",
        "            ]\n",
        "        elif max_lag == 3:\n",
        "            return [\n",
        "                \"X4[t] = 0.25 * X1[t-2] + e4\",\n",
        "                \"X3[t] = 0.35 * X4[t] + 0.2 * X2[t-3] + e3\",\n",
        "                \"X2[t] = 0.3 * X3[t-1] + e2\",\n",
        "                \"X1[t] = 0.4 * X2[t] + e1\"\n",
        "            ]\n",
        "        elif max_lag == 4:\n",
        "            return [\n",
        "                \"X4[t] = 0.25 * X1[t-4] + e4\",\n",
        "                \"X3[t] = 0.35 * X4[t] + 0.2 * X2[t-3] + e3\",\n",
        "                \"X2[t] = 0.3 * X3[t-1] + e2\",\n",
        "                \"X1[t] = 0.4 * X2[t] + e1\"\n",
        "            ]\n",
        "    elif n_vars == 6:\n",
        "        if max_lag == 2:\n",
        "            return [\n",
        "                \"X6[t] = 0.85 * X5[t] + e6\",\n",
        "                \"X5[t] = 0.4 * X4[t-1] + e5\",  # Added X4 influence\n",
        "                \"X4[t] = 0.25 * X1[t-2] + 0.3 * X5[t-1] + e4\",\n",
        "                \"X3[t] = 0.35 * X4[t] + e3\",\n",
        "                \"X2[t] = 0.3 * X3[t-1] + e2\",\n",
        "                \"X1[t] = 0.4 * X2[t] + e1\"\n",
        "            ]\n",
        "        elif max_lag == 3:\n",
        "            return [\n",
        "                \"X6[t] = 0.85 * X5[t] + e6\",\n",
        "                \"X5[t] = 0.4 * X4[t-1] + e5\",  # Added X4 influence\n",
        "                \"X4[t] = 0.25 * X1[t-2] + e4\",\n",
        "                \"X3[t] = 0.35 * X4[t] + 0.2 * X2[t-3] + e3\",\n",
        "                \"X2[t] = 0.3 * X3[t-1] + e2\",\n",
        "                \"X1[t] = 0.4 * X2[t] + e1\"\n",
        "            ]\n",
        "        elif max_lag == 4:\n",
        "            return [\n",
        "                \"X6[t] = 0.85 * X5[t] + e6\",\n",
        "                \"X5[t] = 0.4 * X4[t-1] + e5\",  # Added X4 influence\n",
        "                \"X4[t] = 0.25 * X1[t-4] + e4\",\n",
        "                \"X3[t] = 0.35 * X4[t] + 0.2 * X2[t-3] + e3\",\n",
        "                \"X2[t] = 0.3 * X3[t-1] + e2\",\n",
        "                \"X1[t] = 0.4 * X2[t] + e1\"\n",
        "            ]\n",
        "    elif n_vars == 8:\n",
        "        if max_lag == 2:\n",
        "            return [\n",
        "                \"X8[t] = 0.4 * X7[t] + e8\",\n",
        "                \"X7[t] = 0.35 * X6[t-1] + e7\",\n",
        "                \"X6[t] = 0.45 * X5[t] + e6\",\n",
        "                \"X5[t] = 0.4 * X4[t-1] + e5\",  # Added X4 influence\n",
        "                \"X4[t] = 0.25 * X1[t-2] + 0.3 * X5[t-1] + e4\",\n",
        "                \"X3[t] = 0.35 * X4[t] + e3\",\n",
        "                \"X2[t] = 0.3 * X3[t-1] + e2\",\n",
        "                \"X1[t] = 0.4 * X2[t] + e1\"\n",
        "            ]\n",
        "        elif max_lag == 3:\n",
        "            return [\n",
        "                \"X8[t] = 0.4 * X7[t] + e8\",\n",
        "                \"X7[t] = 0.35 * X6[t-1] + e7\",\n",
        "                \"X6[t] = 0.45 * X5[t] + e6\",\n",
        "                \"X5[t] = 0.4 * X4[t-1] + e5\",  # Added X4 influence\n",
        "                \"X4[t] = 0.25 * X1[t-2] + e4\",\n",
        "                \"X3[t] = 0.35 * X4[t] + 0.2 * X2[t-3] + e3\",\n",
        "                \"X2[t] = 0.3 * X3[t-1] + e2\",\n",
        "                \"X1[t] = 0.4 * X2[t] + e1\"\n",
        "            ]\n",
        "        elif max_lag == 4:\n",
        "            return [\n",
        "                \"X8[t] = 0.4 * X7[t] + e8\",\n",
        "                \"X7[t] = 0.35 * X6[t-1] + e7\",\n",
        "                \"X6[t] = 0.45 * X5[t] + e6\",\n",
        "                \"X5[t] = 0.4 * X4[t-1] + e5\",  # Added X4 influence\n",
        "                \"X4[t] = 0.25 * X1[t-4] + e4\",\n",
        "                \"X3[t] = 0.35 * X4[t] + 0.2 * X2[t-3] + e3\",\n",
        "                \"X2[t] = 0.3 * X3[t-1] + e2\",\n",
        "                \"X1[t] = 0.4 * X2[t] + e1\"\n",
        "            ]\n",
        "    return []\n",
        "\n",
        "class LinearTimeSeriesGenerator:\n",
        "    def __init__(self, noise_type='gaussian', noise_scale=0.1, df=3, random_state=None):\n",
        "        \"\"\"\n",
        "        Initialize time series generator with specified noise type\n",
        "\n",
        "        Parameters:\n",
        "        noise_type: str, 'gaussian' or 'student_t'\n",
        "        noise_scale: float, scale parameter for noise distribution\n",
        "        df: int, degrees of freedom for Student's t-distribution (used only if noise_type='student_t')\n",
        "        random_state: int, random seed\n",
        "        \"\"\"\n",
        "        self.noise_type = noise_type\n",
        "        self.noise_scale = noise_scale\n",
        "        self.df = df  # Degrees of freedom for t-distribution\n",
        "        self.random_state = random_state\n",
        "        if random_state is not None:\n",
        "            np.random.seed(random_state)\n",
        "            if noise_type == 'student_t':\n",
        "                stats.t.random_state = np.random.RandomState(random_state)\n",
        "\n",
        "    def generate_noise(self, size):\n",
        "        \"\"\"Generate noise from specified distribution\"\"\"\n",
        "        if self.noise_type == 'gaussian':\n",
        "            return np.random.normal(0, self.noise_scale, size=size)\n",
        "        elif self.noise_type == 'student_t':\n",
        "            return stats.t.rvs(df=self.df, loc=0, scale=self.noise_scale, size=size)\n",
        "        else:\n",
        "            raise ValueError(f\"Unknown noise type: {self.noise_type}\")\n",
        "\n",
        "    def generate_linear_equations(self, t, X, n_vars, max_lag):\n",
        "        \"\"\"Execute linear equations\"\"\"\n",
        "        noise = self.generate_noise(n_vars)\n",
        "        equations = get_linear_equations(n_vars, max_lag)\n",
        "        var_values = {}\n",
        "\n",
        "        # Process equations in the right order to respect dependencies\n",
        "        # For 4 variables model: X4 -> X3 -> X2 -> X1\n",
        "\n",
        "        # Start with variables that only depend on past values (X4)\n",
        "        for var_idx in range(n_vars-1, -1, -1):\n",
        "            var_name = f\"X{var_idx+1}\"\n",
        "\n",
        "            # Find the equation for this variable\n",
        "            eq = None\n",
        "            for equation in equations:\n",
        "                if equation.startswith(var_name):\n",
        "                    eq = equation\n",
        "                    break\n",
        "\n",
        "            if eq is None:\n",
        "                continue  # Skip if no equation for this variable\n",
        "\n",
        "            # Parse equation\n",
        "            left, right = eq.split('=')\n",
        "            terms = [term.strip() for term in right.split('+')]\n",
        "            value = 0.0\n",
        "\n",
        "            for term in terms:\n",
        "                if term.startswith('e'):  # Noise term\n",
        "                    value += noise[var_idx]\n",
        "                else:\n",
        "                    # Parse coefficient and variable\n",
        "                    parts = term.split('*')\n",
        "                    coef = float(parts[0].strip())\n",
        "                    var = parts[1].strip()\n",
        "                    source_name = var.split('[')[0].strip()\n",
        "                    time_idx = var.split('[')[1].split(']')[0].strip()\n",
        "                    source_idx = int(source_name[1:]) - 1\n",
        "\n",
        "                    if time_idx == 't':\n",
        "                        # Current timestep dependency\n",
        "                        if source_name in var_values:\n",
        "                            # Use already computed value\n",
        "                            value += coef * var_values[source_name]\n",
        "                        else:\n",
        "                            # Use value from X if not yet computed in this timestep\n",
        "                            value += coef * X[t, source_idx]\n",
        "                    else:\n",
        "                        # Past timestep dependency\n",
        "                        lag = int(time_idx.split('-')[1])\n",
        "                        value += coef * X[t-lag, source_idx]\n",
        "\n",
        "            # Store the computed value\n",
        "            X[t, var_idx] = value\n",
        "            var_values[var_name] = value\n",
        "\n",
        "    def generate_multivariate_ts(self, n_points, n_vars, max_lag):\n",
        "        \"\"\"Generate multivariate time series with regular sampling\"\"\"\n",
        "        X = np.zeros((n_points, n_vars))\n",
        "\n",
        "        # Initialize first steps with noise\n",
        "        for i in range(max_lag):\n",
        "            X[i] = self.generate_noise(n_vars)\n",
        "\n",
        "        # Generate time series\n",
        "        for t in range(max_lag, n_points):\n",
        "            self.generate_linear_equations(t, X, n_vars, max_lag)\n",
        "\n",
        "        # Create DataFrame\n",
        "        timestamps = np.arange(n_points)\n",
        "        columns = [f'X{i+1}' for i in range(n_vars)]\n",
        "        df = pd.DataFrame(X, columns=columns)\n",
        "        df['time'] = timestamps\n",
        "\n",
        "        return df\n",
        "\n",
        "def extract_linear_links(equations):\n",
        "    \"\"\"Extract all linear causal links from the equations\"\"\"\n",
        "    links = {}\n",
        "\n",
        "    for eq in equations:\n",
        "        if '=' in eq:\n",
        "            left, right = [side.strip() for side in eq.split('=')]\n",
        "            target = left.split('[')[0]\n",
        "\n",
        "            terms = [term.strip() for term in right.split('+')]\n",
        "            for term in terms:\n",
        "                if '*' in term and 'X' in term:\n",
        "                    parts = term.split('*')\n",
        "                    coeff = float(parts[0].strip())\n",
        "                    var_part = parts[1].strip()\n",
        "                    var = var_part.split('[')[0]\n",
        "                    lag_part = var_part.split('[')[1].split(']')[0]\n",
        "\n",
        "                    lag = 0 if lag_part == 't' else -int(lag_part.split('-')[1])\n",
        "                    links[(var, lag, target)] = coeff\n",
        "\n",
        "    return links\n",
        "\n",
        "def save_dataset_and_graph(df, n_vars, max_lag, sample_size, noise_type, output_dir=\"output\"):\n",
        "    \"\"\"Save dataset and create causal graph\"\"\"\n",
        "    Path(output_dir).mkdir(parents=True, exist_ok=True)\n",
        "\n",
        "    # Save dataset\n",
        "    filename = f'{output_dir}/linear_ts_n{sample_size}_vars{n_vars}_lag{max_lag}_{noise_type}.csv'\n",
        "    df.to_csv(filename, index=False)\n",
        "\n",
        "    # Get equations and extract links\n",
        "    equations = get_linear_equations(n_vars, max_lag)\n",
        "    true_links = extract_linear_links(equations)\n",
        "\n",
        "    # Create matrices for tigramite plotting\n",
        "    var_names = [f'X{i+1}' for i in range(n_vars)]\n",
        "    val_matrix = np.zeros((n_vars, n_vars, max_lag + 1))\n",
        "    graph_matrix = np.zeros((n_vars, n_vars, max_lag + 1), dtype='bool')\n",
        "\n",
        "    # Fill matrices based on true links\n",
        "    for (source, lag, target), weight in true_links.items():\n",
        "        source_idx = int(source[1:]) - 1\n",
        "        target_idx = int(target[1:]) - 1\n",
        "        lag_idx = abs(lag)\n",
        "\n",
        "        # Add the link to the matrices\n",
        "        val_matrix[source_idx, target_idx, lag_idx] = weight\n",
        "        graph_matrix[source_idx, target_idx, lag_idx] = True\n",
        "\n",
        "        # For contemporaneous links, make val_matrix symmetric\n",
        "        if lag == 0:\n",
        "            val_matrix[target_idx, source_idx, lag_idx] = weight\n",
        "\n",
        "    # Plot and save causal graph\n",
        "    plt.figure(figsize=(12, 12))\n",
        "    tp.plot_time_series_graph(\n",
        "        val_matrix=val_matrix,\n",
        "        graph=graph_matrix,\n",
        "        var_names=var_names,\n",
        "        link_colorbar_label='Linear Effect Strength',\n",
        "        node_size=0.05\n",
        "    )\n",
        "    plt.title(f'Linear Causal Graph (n={sample_size}, vars={n_vars}, lag={max_lag}, {noise_type} noise)')\n",
        "    plt.savefig(f'{output_dir}/linear_causal_graph_n{sample_size}_vars{n_vars}_lag{max_lag}_{noise_type}.png')\n",
        "    plt.close()\n",
        "\n",
        "    # Plot time series\n",
        "    plt.figure(figsize=(15, 10))\n",
        "    for col in df.columns[:-1]:  # Exclude time column\n",
        "        plt.plot(df['time'], df[col], label=col, alpha=0.7)\n",
        "    plt.title(f'Linear Time Series with {noise_type.capitalize()} Errors (n={sample_size}, vars={n_vars}, lag={max_lag})')\n",
        "    plt.xlabel('Time')\n",
        "    plt.ylabel('Value')\n",
        "    plt.legend()\n",
        "    plt.grid(True)\n",
        "    plt.savefig(f'{output_dir}/linear_ts_plot_n{sample_size}_vars{n_vars}_lag{max_lag}_{noise_type}.png')\n",
        "    plt.close()\n",
        "\n",
        "    # Save causal structure description\n",
        "    with open(f'{output_dir}/linear_causal_structure_vars{n_vars}_lag{max_lag}_{noise_type}.txt', 'w') as f:\n",
        "        f.write(f\"True Linear Causal Structure with {noise_type.capitalize()} Noise:\\n\")\n",
        "        f.write(\"Format: (source, lag, target) => coefficient\\n\")\n",
        "        f.write(\"\\nEquations:\\n\")\n",
        "        for eq in equations:\n",
        "            f.write(f\"{eq}\\n\")\n",
        "        f.write(\"\\nCausal Links:\\n\")\n",
        "        for (source, lag, target), coef in true_links.items():\n",
        "            f.write(f\"({source}, {lag}, {target}) => {coef}\\n\")\n",
        "\n",
        "def generate_all_combinations():\n",
        "    \"\"\"Generate datasets for all combinations\"\"\"\n",
        "    n_vars_list = [4, 6, 8]\n",
        "    max_lags = [2, 3, 4]\n",
        "    sample_sizes = [500, 1000, 3000, 5000]\n",
        "    noise_types = ['gaussian', 'student_t']\n",
        "\n",
        "    for n in sample_sizes:\n",
        "        for vars in n_vars_list:\n",
        "            for lag in max_lags:\n",
        "                for noise_type in noise_types:\n",
        "                    print(f\"\\nGenerating dataset: n={n}, vars={vars}, lag={lag}, noise={noise_type}\")\n",
        "\n",
        "                    # Generate dataset with specified noise distribution\n",
        "                    if noise_type == 'gaussian':\n",
        "                        generator = LinearTimeSeriesGenerator(\n",
        "                            noise_type='gaussian',\n",
        "                            noise_scale=0.1,\n",
        "                            random_state=42\n",
        "                        )\n",
        "                    else:  # student_t\n",
        "                        generator = LinearTimeSeriesGenerator(\n",
        "                            noise_type='student_t',\n",
        "                            noise_scale=0.1,\n",
        "                            df=3,\n",
        "                            random_state=42\n",
        "                        )\n",
        "\n",
        "                    df = generator.generate_multivariate_ts(\n",
        "                        n_points=n,\n",
        "                        n_vars=vars,\n",
        "                        max_lag=lag\n",
        "                    )\n",
        "\n",
        "                    # Save dataset and create visualizations\n",
        "                    save_dataset_and_graph(df, vars, lag, n, noise_type)\n",
        "                    print(f\"Dataset and visualizations saved successfully\")\n",
        "\n",
        "# Function to verify generation is working properly\n",
        "def test_generator(n_points=20, n_vars=4, max_lag=2, noise_type='gaussian'):\n",
        "    \"\"\"Function to test and verify the generator is working correctly\"\"\"\n",
        "    generator = LinearTimeSeriesGenerator(\n",
        "        noise_type=noise_type,\n",
        "        noise_scale=0.1,\n",
        "        random_state=42\n",
        "    )\n",
        "\n",
        "    df = generator.generate_multivariate_ts(\n",
        "        n_points=n_points,\n",
        "        n_vars=n_vars,\n",
        "        max_lag=max_lag\n",
        "    )\n",
        "\n",
        "    print(f\"Generated time series with shape: {df.shape}\")\n",
        "    print(\"\\nSample of generated data:\")\n",
        "    print(df.head(10))\n",
        "\n",
        "    # Check if there are any zeros (indicating potential issues)\n",
        "    all_zeros = (df.iloc[:, :n_vars] == 0).all().any()\n",
        "    if all_zeros:\n",
        "        print(\"\\nWARNING: Found columns with all zeros!\")\n",
        "    else:\n",
        "        print(\"\\nNo columns with all zeros detected.\")\n",
        "\n",
        "    # Basic statistical check\n",
        "    print(\"\\nBasic statistics:\")\n",
        "    print(df.iloc[:, :n_vars].describe())\n",
        "\n",
        "    return df\n",
        "\n"
      ],
      "metadata": {
        "id": "cV4382BUcioX"
      },
      "execution_count": 5,
      "outputs": []
    },
    {
      "cell_type": "code",
      "source": [
        "if __name__ == \"__main__\":\n",
        "    # First run a test to verify everything works\n",
        "    print(\"Testing generator with small dataset...\")\n",
        "    test_df = test_generator(n_points=50, n_vars=4, max_lag=2, noise_type='gaussian')\n",
        "\n",
        "    # If everything looks good, generate all combinations\n",
        "    print(\"\\nStarting generation of all combinations...\")\n",
        "    generate_all_combinations()"
      ],
      "metadata": {
        "colab": {
          "base_uri": "https://localhost:8080/",
          "height": 1000
        },
        "id": "36vxNtM8bQal",
        "outputId": "2c1c8030-d891-4a7d-f78d-28c25b45a1e9"
      },
      "execution_count": 6,
      "outputs": [
        {
          "output_type": "stream",
          "name": "stdout",
          "text": [
            "Testing generator with small dataset...\n",
            "Generated time series with shape: (50, 5)\n",
            "\n",
            "Sample of generated data:\n",
            "         X1        X2        X3        X4  time\n",
            "0  0.049671 -0.013826  0.064769  0.152303     0\n",
            "1 -0.023415 -0.023414  0.157921  0.076743     1\n",
            "2 -0.006294  0.101632 -0.058296 -0.034155     2\n",
            "3 -0.059331 -0.208817 -0.194221 -0.062083     3\n",
            "4 -0.112020 -0.026841 -0.140784 -0.142804     4\n",
            "5  0.120640 -0.064813 -0.048305 -0.157307     5\n",
            "6 -0.055798 -0.003399 -0.111752  0.009565     6\n",
            "7 -0.085142 -0.062695  0.015215  0.215388     7\n",
            "8 -0.041832 -0.101207  0.034643 -0.136034     8\n",
            "9 -0.053343 -0.185574 -0.133378 -0.001599     9\n",
            "\n",
            "No columns with all zeros detected.\n",
            "\n",
            "Basic statistics:\n",
            "              X1         X2         X3         X4\n",
            "count  50.000000  50.000000  50.000000  50.000000\n",
            "mean   -0.010461  -0.004428  -0.014035   0.004838\n",
            "std     0.080976   0.094912   0.106653   0.112814\n",
            "min    -0.179738  -0.208817  -0.222990  -0.195544\n",
            "25%    -0.058447  -0.061592  -0.096483  -0.088934\n",
            "50%    -0.024197  -0.006430  -0.009445   0.009582\n",
            "75%     0.045506   0.048273   0.064567   0.085073\n",
            "max     0.206443   0.248503   0.197206   0.263345\n",
            "\n",
            "Starting generation of all combinations...\n",
            "\n",
            "Generating dataset: n=500, vars=4, lag=2, noise=gaussian\n",
            "Dataset and visualizations saved successfully\n",
            "\n",
            "Generating dataset: n=500, vars=4, lag=2, noise=student_t\n",
            "Dataset and visualizations saved successfully\n",
            "\n",
            "Generating dataset: n=500, vars=4, lag=3, noise=gaussian\n",
            "Dataset and visualizations saved successfully\n",
            "\n",
            "Generating dataset: n=500, vars=4, lag=3, noise=student_t\n",
            "Dataset and visualizations saved successfully\n",
            "\n",
            "Generating dataset: n=500, vars=4, lag=4, noise=gaussian\n",
            "Dataset and visualizations saved successfully\n",
            "\n",
            "Generating dataset: n=500, vars=4, lag=4, noise=student_t\n",
            "Dataset and visualizations saved successfully\n",
            "\n",
            "Generating dataset: n=500, vars=6, lag=2, noise=gaussian\n",
            "Dataset and visualizations saved successfully\n",
            "\n",
            "Generating dataset: n=500, vars=6, lag=2, noise=student_t\n",
            "Dataset and visualizations saved successfully\n",
            "\n",
            "Generating dataset: n=500, vars=6, lag=3, noise=gaussian\n",
            "Dataset and visualizations saved successfully\n",
            "\n",
            "Generating dataset: n=500, vars=6, lag=3, noise=student_t\n",
            "Dataset and visualizations saved successfully\n",
            "\n",
            "Generating dataset: n=500, vars=6, lag=4, noise=gaussian\n",
            "Dataset and visualizations saved successfully\n",
            "\n",
            "Generating dataset: n=500, vars=6, lag=4, noise=student_t\n",
            "Dataset and visualizations saved successfully\n",
            "\n",
            "Generating dataset: n=500, vars=8, lag=2, noise=gaussian\n",
            "Dataset and visualizations saved successfully\n",
            "\n",
            "Generating dataset: n=500, vars=8, lag=2, noise=student_t\n",
            "Dataset and visualizations saved successfully\n",
            "\n",
            "Generating dataset: n=500, vars=8, lag=3, noise=gaussian\n",
            "Dataset and visualizations saved successfully\n",
            "\n",
            "Generating dataset: n=500, vars=8, lag=3, noise=student_t\n",
            "Dataset and visualizations saved successfully\n",
            "\n",
            "Generating dataset: n=500, vars=8, lag=4, noise=gaussian\n",
            "Dataset and visualizations saved successfully\n",
            "\n",
            "Generating dataset: n=500, vars=8, lag=4, noise=student_t\n",
            "Dataset and visualizations saved successfully\n",
            "\n",
            "Generating dataset: n=1000, vars=4, lag=2, noise=gaussian\n",
            "Dataset and visualizations saved successfully\n",
            "\n",
            "Generating dataset: n=1000, vars=4, lag=2, noise=student_t\n"
          ]
        },
        {
          "output_type": "stream",
          "name": "stderr",
          "text": [
            "/usr/local/lib/python3.11/dist-packages/tigramite/plotting.py:3203: RuntimeWarning: More than 20 figures have been opened. Figures created through the pyplot interface (`matplotlib.pyplot.figure`) are retained until explicitly closed and may consume too much memory. (To control this warning, see the rcParam `figure.max_open_warning`). Consider using `matplotlib.pyplot.close()`.\n",
            "  fig = pyplot.figure(figsize=figsize)\n",
            "<ipython-input-5-8271cf70be37>:263: RuntimeWarning: More than 20 figures have been opened. Figures created through the pyplot interface (`matplotlib.pyplot.figure`) are retained until explicitly closed and may consume too much memory. (To control this warning, see the rcParam `figure.max_open_warning`). Consider using `matplotlib.pyplot.close()`.\n",
            "  plt.figure(figsize=(15, 10))\n"
          ]
        },
        {
          "output_type": "stream",
          "name": "stdout",
          "text": [
            "Dataset and visualizations saved successfully\n",
            "\n",
            "Generating dataset: n=1000, vars=4, lag=3, noise=gaussian\n"
          ]
        },
        {
          "output_type": "stream",
          "name": "stderr",
          "text": [
            "<ipython-input-5-8271cf70be37>:250: RuntimeWarning: More than 20 figures have been opened. Figures created through the pyplot interface (`matplotlib.pyplot.figure`) are retained until explicitly closed and may consume too much memory. (To control this warning, see the rcParam `figure.max_open_warning`). Consider using `matplotlib.pyplot.close()`.\n",
            "  plt.figure(figsize=(12, 12))\n"
          ]
        },
        {
          "output_type": "stream",
          "name": "stdout",
          "text": [
            "Dataset and visualizations saved successfully\n",
            "\n",
            "Generating dataset: n=1000, vars=4, lag=3, noise=student_t\n",
            "Dataset and visualizations saved successfully\n",
            "\n",
            "Generating dataset: n=1000, vars=4, lag=4, noise=gaussian\n",
            "Dataset and visualizations saved successfully\n",
            "\n",
            "Generating dataset: n=1000, vars=4, lag=4, noise=student_t\n",
            "Dataset and visualizations saved successfully\n",
            "\n",
            "Generating dataset: n=1000, vars=6, lag=2, noise=gaussian\n",
            "Dataset and visualizations saved successfully\n",
            "\n",
            "Generating dataset: n=1000, vars=6, lag=2, noise=student_t\n",
            "Dataset and visualizations saved successfully\n",
            "\n",
            "Generating dataset: n=1000, vars=6, lag=3, noise=gaussian\n",
            "Dataset and visualizations saved successfully\n",
            "\n",
            "Generating dataset: n=1000, vars=6, lag=3, noise=student_t\n",
            "Dataset and visualizations saved successfully\n",
            "\n",
            "Generating dataset: n=1000, vars=6, lag=4, noise=gaussian\n",
            "Dataset and visualizations saved successfully\n",
            "\n",
            "Generating dataset: n=1000, vars=6, lag=4, noise=student_t\n",
            "Dataset and visualizations saved successfully\n",
            "\n",
            "Generating dataset: n=1000, vars=8, lag=2, noise=gaussian\n",
            "Dataset and visualizations saved successfully\n",
            "\n",
            "Generating dataset: n=1000, vars=8, lag=2, noise=student_t\n",
            "Dataset and visualizations saved successfully\n",
            "\n",
            "Generating dataset: n=1000, vars=8, lag=3, noise=gaussian\n",
            "Dataset and visualizations saved successfully\n",
            "\n",
            "Generating dataset: n=1000, vars=8, lag=3, noise=student_t\n",
            "Dataset and visualizations saved successfully\n",
            "\n",
            "Generating dataset: n=1000, vars=8, lag=4, noise=gaussian\n",
            "Dataset and visualizations saved successfully\n",
            "\n",
            "Generating dataset: n=1000, vars=8, lag=4, noise=student_t\n",
            "Dataset and visualizations saved successfully\n",
            "\n",
            "Generating dataset: n=3000, vars=4, lag=2, noise=gaussian\n",
            "Dataset and visualizations saved successfully\n",
            "\n",
            "Generating dataset: n=3000, vars=4, lag=2, noise=student_t\n",
            "Dataset and visualizations saved successfully\n",
            "\n",
            "Generating dataset: n=3000, vars=4, lag=3, noise=gaussian\n",
            "Dataset and visualizations saved successfully\n",
            "\n",
            "Generating dataset: n=3000, vars=4, lag=3, noise=student_t\n",
            "Dataset and visualizations saved successfully\n",
            "\n",
            "Generating dataset: n=3000, vars=4, lag=4, noise=gaussian\n",
            "Dataset and visualizations saved successfully\n",
            "\n",
            "Generating dataset: n=3000, vars=4, lag=4, noise=student_t\n",
            "Dataset and visualizations saved successfully\n",
            "\n",
            "Generating dataset: n=3000, vars=6, lag=2, noise=gaussian\n",
            "Dataset and visualizations saved successfully\n",
            "\n",
            "Generating dataset: n=3000, vars=6, lag=2, noise=student_t\n",
            "Dataset and visualizations saved successfully\n",
            "\n",
            "Generating dataset: n=3000, vars=6, lag=3, noise=gaussian\n",
            "Dataset and visualizations saved successfully\n",
            "\n",
            "Generating dataset: n=3000, vars=6, lag=3, noise=student_t\n",
            "Dataset and visualizations saved successfully\n",
            "\n",
            "Generating dataset: n=3000, vars=6, lag=4, noise=gaussian\n",
            "Dataset and visualizations saved successfully\n",
            "\n",
            "Generating dataset: n=3000, vars=6, lag=4, noise=student_t\n",
            "Dataset and visualizations saved successfully\n",
            "\n",
            "Generating dataset: n=3000, vars=8, lag=2, noise=gaussian\n",
            "Dataset and visualizations saved successfully\n",
            "\n",
            "Generating dataset: n=3000, vars=8, lag=2, noise=student_t\n",
            "Dataset and visualizations saved successfully\n",
            "\n",
            "Generating dataset: n=3000, vars=8, lag=3, noise=gaussian\n",
            "Dataset and visualizations saved successfully\n",
            "\n",
            "Generating dataset: n=3000, vars=8, lag=3, noise=student_t\n",
            "Dataset and visualizations saved successfully\n",
            "\n",
            "Generating dataset: n=3000, vars=8, lag=4, noise=gaussian\n",
            "Dataset and visualizations saved successfully\n",
            "\n",
            "Generating dataset: n=3000, vars=8, lag=4, noise=student_t\n",
            "Dataset and visualizations saved successfully\n",
            "\n",
            "Generating dataset: n=5000, vars=4, lag=2, noise=gaussian\n",
            "Dataset and visualizations saved successfully\n",
            "\n",
            "Generating dataset: n=5000, vars=4, lag=2, noise=student_t\n",
            "Dataset and visualizations saved successfully\n",
            "\n",
            "Generating dataset: n=5000, vars=4, lag=3, noise=gaussian\n",
            "Dataset and visualizations saved successfully\n",
            "\n",
            "Generating dataset: n=5000, vars=4, lag=3, noise=student_t\n",
            "Dataset and visualizations saved successfully\n",
            "\n",
            "Generating dataset: n=5000, vars=4, lag=4, noise=gaussian\n",
            "Dataset and visualizations saved successfully\n",
            "\n",
            "Generating dataset: n=5000, vars=4, lag=4, noise=student_t\n",
            "Dataset and visualizations saved successfully\n",
            "\n",
            "Generating dataset: n=5000, vars=6, lag=2, noise=gaussian\n",
            "Dataset and visualizations saved successfully\n",
            "\n",
            "Generating dataset: n=5000, vars=6, lag=2, noise=student_t\n",
            "Dataset and visualizations saved successfully\n",
            "\n",
            "Generating dataset: n=5000, vars=6, lag=3, noise=gaussian\n",
            "Dataset and visualizations saved successfully\n",
            "\n",
            "Generating dataset: n=5000, vars=6, lag=3, noise=student_t\n",
            "Dataset and visualizations saved successfully\n",
            "\n",
            "Generating dataset: n=5000, vars=6, lag=4, noise=gaussian\n",
            "Dataset and visualizations saved successfully\n",
            "\n",
            "Generating dataset: n=5000, vars=6, lag=4, noise=student_t\n",
            "Dataset and visualizations saved successfully\n",
            "\n",
            "Generating dataset: n=5000, vars=8, lag=2, noise=gaussian\n",
            "Dataset and visualizations saved successfully\n",
            "\n",
            "Generating dataset: n=5000, vars=8, lag=2, noise=student_t\n",
            "Dataset and visualizations saved successfully\n",
            "\n",
            "Generating dataset: n=5000, vars=8, lag=3, noise=gaussian\n",
            "Dataset and visualizations saved successfully\n",
            "\n",
            "Generating dataset: n=5000, vars=8, lag=3, noise=student_t\n",
            "Dataset and visualizations saved successfully\n",
            "\n",
            "Generating dataset: n=5000, vars=8, lag=4, noise=gaussian\n",
            "Dataset and visualizations saved successfully\n",
            "\n",
            "Generating dataset: n=5000, vars=8, lag=4, noise=student_t\n",
            "Dataset and visualizations saved successfully\n"
          ]
        },
        {
          "output_type": "display_data",
          "data": {
            "text/plain": [
              "<Figure size 1200x1200 with 0 Axes>"
            ]
          },
          "metadata": {}
        },
        {
          "output_type": "display_data",
          "data": {
            "text/plain": [
              "<Figure size 1200x1200 with 0 Axes>"
            ]
          },
          "metadata": {}
        },
        {
          "output_type": "display_data",
          "data": {
            "text/plain": [
              "<Figure size 1200x1200 with 0 Axes>"
            ]
          },
          "metadata": {}
        },
        {
          "output_type": "display_data",
          "data": {
            "text/plain": [
              "<Figure size 1200x1200 with 0 Axes>"
            ]
          },
          "metadata": {}
        },
        {
          "output_type": "display_data",
          "data": {
            "text/plain": [
              "<Figure size 1200x1200 with 0 Axes>"
            ]
          },
          "metadata": {}
        },
        {
          "output_type": "display_data",
          "data": {
            "text/plain": [
              "<Figure size 1200x1200 with 0 Axes>"
            ]
          },
          "metadata": {}
        },
        {
          "output_type": "display_data",
          "data": {
            "text/plain": [
              "<Figure size 1200x1200 with 0 Axes>"
            ]
          },
          "metadata": {}
        },
        {
          "output_type": "display_data",
          "data": {
            "text/plain": [
              "<Figure size 1200x1200 with 0 Axes>"
            ]
          },
          "metadata": {}
        },
        {
          "output_type": "display_data",
          "data": {
            "text/plain": [
              "<Figure size 1200x1200 with 0 Axes>"
            ]
          },
          "metadata": {}
        },
        {
          "output_type": "display_data",
          "data": {
            "text/plain": [
              "<Figure size 1200x1200 with 0 Axes>"
            ]
          },
          "metadata": {}
        },
        {
          "output_type": "display_data",
          "data": {
            "text/plain": [
              "<Figure size 1200x1200 with 0 Axes>"
            ]
          },
          "metadata": {}
        },
        {
          "output_type": "display_data",
          "data": {
            "text/plain": [
              "<Figure size 1200x1200 with 0 Axes>"
            ]
          },
          "metadata": {}
        },
        {
          "output_type": "display_data",
          "data": {
            "text/plain": [
              "<Figure size 1200x1200 with 0 Axes>"
            ]
          },
          "metadata": {}
        },
        {
          "output_type": "display_data",
          "data": {
            "text/plain": [
              "<Figure size 1200x1200 with 0 Axes>"
            ]
          },
          "metadata": {}
        },
        {
          "output_type": "display_data",
          "data": {
            "text/plain": [
              "<Figure size 1200x1200 with 0 Axes>"
            ]
          },
          "metadata": {}
        },
        {
          "output_type": "display_data",
          "data": {
            "text/plain": [
              "<Figure size 1200x1200 with 0 Axes>"
            ]
          },
          "metadata": {}
        },
        {
          "output_type": "display_data",
          "data": {
            "text/plain": [
              "<Figure size 1200x1200 with 0 Axes>"
            ]
          },
          "metadata": {}
        },
        {
          "output_type": "display_data",
          "data": {
            "text/plain": [
              "<Figure size 1200x1200 with 0 Axes>"
            ]
          },
          "metadata": {}
        },
        {
          "output_type": "display_data",
          "data": {
            "text/plain": [
              "<Figure size 1200x1200 with 0 Axes>"
            ]
          },
          "metadata": {}
        },
        {
          "output_type": "display_data",
          "data": {
            "text/plain": [
              "<Figure size 1200x1200 with 0 Axes>"
            ]
          },
          "metadata": {}
        },
        {
          "output_type": "display_data",
          "data": {
            "text/plain": [
              "<Figure size 1200x1200 with 0 Axes>"
            ]
          },
          "metadata": {}
        },
        {
          "output_type": "display_data",
          "data": {
            "text/plain": [
              "<Figure size 1200x1200 with 0 Axes>"
            ]
          },
          "metadata": {}
        },
        {
          "output_type": "display_data",
          "data": {
            "text/plain": [
              "<Figure size 1200x1200 with 0 Axes>"
            ]
          },
          "metadata": {}
        },
        {
          "output_type": "display_data",
          "data": {
            "text/plain": [
              "<Figure size 1200x1200 with 0 Axes>"
            ]
          },
          "metadata": {}
        },
        {
          "output_type": "display_data",
          "data": {
            "text/plain": [
              "<Figure size 1200x1200 with 0 Axes>"
            ]
          },
          "metadata": {}
        },
        {
          "output_type": "display_data",
          "data": {
            "text/plain": [
              "<Figure size 1200x1200 with 0 Axes>"
            ]
          },
          "metadata": {}
        },
        {
          "output_type": "display_data",
          "data": {
            "text/plain": [
              "<Figure size 1200x1200 with 0 Axes>"
            ]
          },
          "metadata": {}
        },
        {
          "output_type": "display_data",
          "data": {
            "text/plain": [
              "<Figure size 1200x1200 with 0 Axes>"
            ]
          },
          "metadata": {}
        },
        {
          "output_type": "display_data",
          "data": {
            "text/plain": [
              "<Figure size 1200x1200 with 0 Axes>"
            ]
          },
          "metadata": {}
        },
        {
          "output_type": "display_data",
          "data": {
            "text/plain": [
              "<Figure size 1200x1200 with 0 Axes>"
            ]
          },
          "metadata": {}
        },
        {
          "output_type": "display_data",
          "data": {
            "text/plain": [
              "<Figure size 1200x1200 with 0 Axes>"
            ]
          },
          "metadata": {}
        },
        {
          "output_type": "display_data",
          "data": {
            "text/plain": [
              "<Figure size 1200x1200 with 0 Axes>"
            ]
          },
          "metadata": {}
        },
        {
          "output_type": "display_data",
          "data": {
            "text/plain": [
              "<Figure size 1200x1200 with 0 Axes>"
            ]
          },
          "metadata": {}
        },
        {
          "output_type": "display_data",
          "data": {
            "text/plain": [
              "<Figure size 1200x1200 with 0 Axes>"
            ]
          },
          "metadata": {}
        },
        {
          "output_type": "display_data",
          "data": {
            "text/plain": [
              "<Figure size 1200x1200 with 0 Axes>"
            ]
          },
          "metadata": {}
        },
        {
          "output_type": "display_data",
          "data": {
            "text/plain": [
              "<Figure size 1200x1200 with 0 Axes>"
            ]
          },
          "metadata": {}
        },
        {
          "output_type": "display_data",
          "data": {
            "text/plain": [
              "<Figure size 1200x1200 with 0 Axes>"
            ]
          },
          "metadata": {}
        },
        {
          "output_type": "display_data",
          "data": {
            "text/plain": [
              "<Figure size 1200x1200 with 0 Axes>"
            ]
          },
          "metadata": {}
        },
        {
          "output_type": "display_data",
          "data": {
            "text/plain": [
              "<Figure size 1200x1200 with 0 Axes>"
            ]
          },
          "metadata": {}
        },
        {
          "output_type": "display_data",
          "data": {
            "text/plain": [
              "<Figure size 1200x1200 with 0 Axes>"
            ]
          },
          "metadata": {}
        },
        {
          "output_type": "display_data",
          "data": {
            "text/plain": [
              "<Figure size 1200x1200 with 0 Axes>"
            ]
          },
          "metadata": {}
        },
        {
          "output_type": "display_data",
          "data": {
            "text/plain": [
              "<Figure size 1200x1200 with 0 Axes>"
            ]
          },
          "metadata": {}
        },
        {
          "output_type": "display_data",
          "data": {
            "text/plain": [
              "<Figure size 1200x1200 with 0 Axes>"
            ]
          },
          "metadata": {}
        },
        {
          "output_type": "display_data",
          "data": {
            "text/plain": [
              "<Figure size 1200x1200 with 0 Axes>"
            ]
          },
          "metadata": {}
        },
        {
          "output_type": "display_data",
          "data": {
            "text/plain": [
              "<Figure size 1200x1200 with 0 Axes>"
            ]
          },
          "metadata": {}
        },
        {
          "output_type": "display_data",
          "data": {
            "text/plain": [
              "<Figure size 1200x1200 with 0 Axes>"
            ]
          },
          "metadata": {}
        },
        {
          "output_type": "display_data",
          "data": {
            "text/plain": [
              "<Figure size 1200x1200 with 0 Axes>"
            ]
          },
          "metadata": {}
        },
        {
          "output_type": "display_data",
          "data": {
            "text/plain": [
              "<Figure size 1200x1200 with 0 Axes>"
            ]
          },
          "metadata": {}
        },
        {
          "output_type": "display_data",
          "data": {
            "text/plain": [
              "<Figure size 1200x1200 with 0 Axes>"
            ]
          },
          "metadata": {}
        },
        {
          "output_type": "display_data",
          "data": {
            "text/plain": [
              "<Figure size 1200x1200 with 0 Axes>"
            ]
          },
          "metadata": {}
        },
        {
          "output_type": "display_data",
          "data": {
            "text/plain": [
              "<Figure size 1200x1200 with 0 Axes>"
            ]
          },
          "metadata": {}
        },
        {
          "output_type": "display_data",
          "data": {
            "text/plain": [
              "<Figure size 1200x1200 with 0 Axes>"
            ]
          },
          "metadata": {}
        },
        {
          "output_type": "display_data",
          "data": {
            "text/plain": [
              "<Figure size 1200x1200 with 0 Axes>"
            ]
          },
          "metadata": {}
        },
        {
          "output_type": "display_data",
          "data": {
            "text/plain": [
              "<Figure size 1200x1200 with 0 Axes>"
            ]
          },
          "metadata": {}
        },
        {
          "output_type": "display_data",
          "data": {
            "text/plain": [
              "<Figure size 1200x1200 with 0 Axes>"
            ]
          },
          "metadata": {}
        },
        {
          "output_type": "display_data",
          "data": {
            "text/plain": [
              "<Figure size 1200x1200 with 0 Axes>"
            ]
          },
          "metadata": {}
        },
        {
          "output_type": "display_data",
          "data": {
            "text/plain": [
              "<Figure size 1200x1200 with 0 Axes>"
            ]
          },
          "metadata": {}
        },
        {
          "output_type": "display_data",
          "data": {
            "text/plain": [
              "<Figure size 1200x1200 with 0 Axes>"
            ]
          },
          "metadata": {}
        },
        {
          "output_type": "display_data",
          "data": {
            "text/plain": [
              "<Figure size 1200x1200 with 0 Axes>"
            ]
          },
          "metadata": {}
        },
        {
          "output_type": "display_data",
          "data": {
            "text/plain": [
              "<Figure size 1200x1200 with 0 Axes>"
            ]
          },
          "metadata": {}
        },
        {
          "output_type": "display_data",
          "data": {
            "text/plain": [
              "<Figure size 1200x1200 with 0 Axes>"
            ]
          },
          "metadata": {}
        },
        {
          "output_type": "display_data",
          "data": {
            "text/plain": [
              "<Figure size 1200x1200 with 0 Axes>"
            ]
          },
          "metadata": {}
        },
        {
          "output_type": "display_data",
          "data": {
            "text/plain": [
              "<Figure size 1200x1200 with 0 Axes>"
            ]
          },
          "metadata": {}
        },
        {
          "output_type": "display_data",
          "data": {
            "text/plain": [
              "<Figure size 1200x1200 with 0 Axes>"
            ]
          },
          "metadata": {}
        },
        {
          "output_type": "display_data",
          "data": {
            "text/plain": [
              "<Figure size 1200x1200 with 0 Axes>"
            ]
          },
          "metadata": {}
        },
        {
          "output_type": "display_data",
          "data": {
            "text/plain": [
              "<Figure size 1200x1200 with 0 Axes>"
            ]
          },
          "metadata": {}
        },
        {
          "output_type": "display_data",
          "data": {
            "text/plain": [
              "<Figure size 1200x1200 with 0 Axes>"
            ]
          },
          "metadata": {}
        },
        {
          "output_type": "display_data",
          "data": {
            "text/plain": [
              "<Figure size 1200x1200 with 0 Axes>"
            ]
          },
          "metadata": {}
        },
        {
          "output_type": "display_data",
          "data": {
            "text/plain": [
              "<Figure size 1200x1200 with 0 Axes>"
            ]
          },
          "metadata": {}
        },
        {
          "output_type": "display_data",
          "data": {
            "text/plain": [
              "<Figure size 1200x1200 with 0 Axes>"
            ]
          },
          "metadata": {}
        },
        {
          "output_type": "display_data",
          "data": {
            "text/plain": [
              "<Figure size 1200x1200 with 0 Axes>"
            ]
          },
          "metadata": {}
        },
        {
          "output_type": "display_data",
          "data": {
            "text/plain": [
              "<Figure size 1200x1200 with 0 Axes>"
            ]
          },
          "metadata": {}
        }
      ]
    },
    {
      "cell_type": "code",
      "source": [
        "!zip -r /content/output_A1.zip /content/output\n",
        "from google.colab import files\n",
        "files.download('/content/output_A1.zip')"
      ],
      "metadata": {
        "colab": {
          "base_uri": "https://localhost:8080/",
          "height": 1000
        },
        "id": "NfOjuldddmrb",
        "outputId": "1b2a19d4-f926-4d2e-a6f6-1c528a29c127"
      },
      "execution_count": 11,
      "outputs": [
        {
          "output_type": "stream",
          "name": "stdout",
          "text": [
            "  adding: content/output/ (stored 0%)\n",
            "  adding: content/output/linear_causal_structure_vars4_lag2_gaussian.txt (deflated 34%)\n",
            "  adding: content/output/linear_ts_n5000_vars4_lag3_gaussian.csv (deflated 54%)\n",
            "  adding: content/output/linear_ts_n500_vars8_lag4_gaussian.csv (deflated 53%)\n",
            "  adding: content/output/linear_causal_structure_vars6_lag4_student_t.txt (deflated 43%)\n",
            "  adding: content/output/linear_ts_plot_n3000_vars4_lag4_student_t.png (deflated 5%)\n",
            "  adding: content/output/linear_causal_graph_n1000_vars8_lag4_student_t.png (deflated 6%)\n",
            "  adding: content/output/linear_causal_graph_n500_vars6_lag2_student_t.png (deflated 8%)\n",
            "  adding: content/output/linear_ts_n1000_vars8_lag3_gaussian.csv (deflated 54%)\n",
            "  adding: content/output/linear_ts_n5000_vars4_lag4_gaussian.csv (deflated 54%)\n",
            "  adding: content/output/linear_causal_graph_n500_vars6_lag3_student_t.png (deflated 7%)\n",
            "  adding: content/output/linear_ts_n500_vars4_lag4_gaussian.csv (deflated 52%)\n",
            "  adding: content/output/linear_causal_graph_n1000_vars4_lag4_gaussian.png (deflated 7%)\n",
            "  adding: content/output/linear_ts_n3000_vars6_lag4_gaussian.csv (deflated 54%)\n",
            "  adding: content/output/linear_ts_plot_n3000_vars8_lag4_student_t.png (deflated 3%)\n",
            "  adding: content/output/linear_ts_n5000_vars8_lag2_gaussian.csv (deflated 55%)\n",
            "  adding: content/output/linear_causal_graph_n1000_vars6_lag4_gaussian.png (deflated 7%)\n",
            "  adding: content/output/linear_causal_graph_n1000_vars6_lag2_student_t.png (deflated 9%)\n",
            "  adding: content/output/linear_causal_graph_n500_vars8_lag2_student_t.png (deflated 7%)\n",
            "  adding: content/output/linear_causal_structure_vars6_lag3_gaussian.txt (deflated 43%)\n",
            "  adding: content/output/linear_ts_plot_n1000_vars6_lag4_student_t.png (deflated 3%)\n",
            "  adding: content/output/linear_ts_plot_n3000_vars4_lag3_gaussian.png (deflated 2%)\n",
            "  adding: content/output/linear_ts_n500_vars6_lag4_gaussian.csv (deflated 53%)\n",
            "  adding: content/output/linear_ts_plot_n5000_vars6_lag2_gaussian.png (deflated 3%)\n",
            "  adding: content/output/linear_causal_structure_vars6_lag3_student_t.txt (deflated 43%)\n",
            "  adding: content/output/linear_causal_graph_n500_vars8_lag3_student_t.png (deflated 6%)\n",
            "  adding: content/output/linear_causal_graph_n3000_vars8_lag2_student_t.png (deflated 7%)\n",
            "  adding: content/output/linear_ts_plot_n500_vars4_lag4_student_t.png (deflated 2%)\n",
            "  adding: content/output/linear_causal_graph_n5000_vars8_lag4_student_t.png (deflated 5%)\n",
            "  adding: content/output/linear_causal_graph_n5000_vars8_lag2_student_t.png (deflated 7%)\n",
            "  adding: content/output/linear_causal_graph_n5000_vars6_lag3_student_t.png (deflated 6%)\n",
            "  adding: content/output/linear_ts_n5000_vars8_lag3_gaussian.csv (deflated 55%)\n",
            "  adding: content/output/linear_ts_n1000_vars8_lag2_student_t.csv (deflated 54%)\n",
            "  adding: content/output/linear_ts_plot_n3000_vars6_lag4_student_t.png (deflated 4%)\n",
            "  adding: content/output/linear_ts_plot_n1000_vars4_lag3_student_t.png (deflated 4%)\n",
            "  adding: content/output/linear_causal_graph_n5000_vars8_lag3_student_t.png (deflated 5%)\n",
            "  adding: content/output/linear_ts_plot_n500_vars8_lag2_gaussian.png (deflated 1%)\n",
            "  adding: content/output/linear_ts_n500_vars4_lag2_student_t.csv (deflated 52%)\n",
            "  adding: content/output/linear_causal_graph_n3000_vars6_lag4_student_t.png (deflated 7%)\n",
            "  adding: content/output/linear_ts_n500_vars4_lag4_student_t.csv (deflated 52%)\n",
            "  adding: content/output/linear_causal_graph_n500_vars6_lag4_student_t.png (deflated 7%)\n",
            "  adding: content/output/linear_causal_graph_n500_vars6_lag4_gaussian.png (deflated 7%)\n",
            "  adding: content/output/linear_ts_n3000_vars8_lag4_gaussian.csv (deflated 55%)\n",
            "  adding: content/output/linear_ts_n1000_vars8_lag4_gaussian.csv (deflated 54%)\n",
            "  adding: content/output/linear_causal_structure_vars6_lag4_gaussian.txt (deflated 43%)\n",
            "  adding: content/output/linear_causal_graph_n1000_vars8_lag4_gaussian.png (deflated 5%)\n",
            "  adding: content/output/linear_ts_n1000_vars6_lag4_gaussian.csv (deflated 53%)\n",
            "  adding: content/output/linear_causal_graph_n3000_vars4_lag3_student_t.png (deflated 6%)\n",
            "  adding: content/output/linear_ts_n1000_vars6_lag4_student_t.csv (deflated 53%)\n",
            "  adding: content/output/linear_causal_graph_n3000_vars6_lag2_student_t.png (deflated 8%)\n",
            "  adding: content/output/linear_ts_n500_vars8_lag2_gaussian.csv (deflated 53%)\n",
            "  adding: content/output/linear_causal_graph_n3000_vars8_lag4_student_t.png (deflated 6%)\n",
            "  adding: content/output/linear_ts_n3000_vars8_lag3_gaussian.csv (deflated 55%)\n",
            "  adding: content/output/linear_ts_n5000_vars6_lag4_gaussian.csv (deflated 55%)\n",
            "  adding: content/output/linear_ts_plot_n5000_vars6_lag4_gaussian.png (deflated 3%)\n",
            "  adding: content/output/linear_ts_plot_n500_vars8_lag4_student_t.png (deflated 3%)\n",
            "  adding: content/output/linear_causal_graph_n3000_vars6_lag3_student_t.png (deflated 6%)\n",
            "  adding: content/output/linear_ts_plot_n1000_vars8_lag4_student_t.png (deflated 3%)\n",
            "  adding: content/output/linear_causal_structure_vars8_lag3_student_t.txt (deflated 49%)\n",
            "  adding: content/output/linear_ts_n5000_vars8_lag4_student_t.csv (deflated 54%)\n",
            "  adding: content/output/linear_causal_graph_n5000_vars4_lag2_student_t.png (deflated 8%)\n",
            "  adding: content/output/linear_ts_plot_n1000_vars4_lag2_gaussian.png (deflated 2%)\n",
            "  adding: content/output/linear_ts_n1000_vars4_lag3_gaussian.csv (deflated 53%)\n",
            "  adding: content/output/linear_ts_n5000_vars8_lag3_student_t.csv (deflated 54%)\n",
            "  adding: content/output/linear_ts_plot_n1000_vars6_lag3_student_t.png (deflated 3%)\n",
            "  adding: content/output/linear_ts_plot_n3000_vars4_lag2_student_t.png (deflated 5%)\n",
            "  adding: content/output/linear_ts_plot_n3000_vars6_lag3_student_t.png (deflated 4%)\n",
            "  adding: content/output/linear_causal_graph_n3000_vars8_lag4_gaussian.png (deflated 6%)\n",
            "  adding: content/output/linear_causal_graph_n1000_vars4_lag2_gaussian.png (deflated 8%)\n",
            "  adding: content/output/linear_causal_graph_n3000_vars4_lag4_student_t.png (deflated 7%)\n",
            "  adding: content/output/linear_causal_graph_n500_vars4_lag2_student_t.png (deflated 8%)\n",
            "  adding: content/output/linear_causal_graph_n1000_vars8_lag2_student_t.png (deflated 7%)\n",
            "  adding: content/output/linear_causal_graph_n5000_vars4_lag4_student_t.png (deflated 7%)\n",
            "  adding: content/output/linear_causal_graph_n500_vars6_lag3_gaussian.png (deflated 7%)\n",
            "  adding: content/output/linear_causal_structure_vars8_lag2_student_t.txt (deflated 50%)\n",
            "  adding: content/output/linear_ts_n1000_vars4_lag2_student_t.csv (deflated 52%)\n",
            "  adding: content/output/linear_causal_graph_n500_vars4_lag4_gaussian.png (deflated 6%)\n",
            "  adding: content/output/linear_ts_plot_n500_vars6_lag4_student_t.png (deflated 3%)\n",
            "  adding: content/output/linear_ts_plot_n3000_vars8_lag4_gaussian.png (deflated 3%)\n",
            "  adding: content/output/linear_causal_graph_n3000_vars6_lag2_gaussian.png (deflated 9%)\n",
            "  adding: content/output/linear_ts_plot_n3000_vars6_lag4_gaussian.png (deflated 3%)\n",
            "  adding: content/output/linear_ts_plot_n500_vars6_lag2_gaussian.png (deflated 1%)\n",
            "  adding: content/output/linear_ts_plot_n500_vars4_lag4_gaussian.png (deflated 2%)\n",
            "  adding: content/output/linear_causal_graph_n500_vars4_lag3_student_t.png (deflated 6%)\n",
            "  adding: content/output/linear_ts_plot_n5000_vars8_lag4_gaussian.png (deflated 3%)\n",
            "  adding: content/output/linear_ts_plot_n3000_vars4_lag3_student_t.png (deflated 5%)\n",
            "  adding: content/output/linear_ts_plot_n1000_vars8_lag3_gaussian.png (deflated 2%)\n",
            "  adding: content/output/linear_ts_plot_n3000_vars8_lag2_student_t.png (deflated 4%)\n",
            "  adding: content/output/linear_causal_structure_vars8_lag4_gaussian.txt (deflated 48%)\n",
            "  adding: content/output/linear_causal_graph_n1000_vars8_lag2_gaussian.png (deflated 7%)\n",
            "  adding: content/output/linear_ts_plot_n5000_vars6_lag4_student_t.png (deflated 4%)\n",
            "  adding: content/output/linear_ts_n5000_vars4_lag3_student_t.csv (deflated 54%)\n",
            "  adding: content/output/linear_ts_plot_n1000_vars4_lag2_student_t.png (deflated 4%)\n",
            "  adding: content/output/linear_causal_graph_n3000_vars4_lag3_gaussian.png (deflated 6%)\n",
            "  adding: content/output/linear_ts_plot_n500_vars4_lag2_gaussian.png (deflated 2%)\n",
            "  adding: content/output/linear_causal_graph_n500_vars8_lag3_gaussian.png (deflated 6%)\n",
            "  adding: content/output/linear_causal_graph_n500_vars6_lag2_gaussian.png (deflated 9%)\n",
            "  adding: content/output/linear_ts_plot_n5000_vars4_lag4_student_t.png (deflated 4%)\n",
            "  adding: content/output/linear_ts_n1000_vars4_lag4_student_t.csv (deflated 53%)\n",
            "  adding: content/output/linear_ts_plot_n1000_vars6_lag4_gaussian.png (deflated 2%)\n",
            "  adding: content/output/linear_causal_structure_vars4_lag3_gaussian.txt (deflated 37%)\n",
            "  adding: content/output/linear_causal_graph_n500_vars8_lag4_gaussian.png (deflated 6%)\n",
            "  adding: content/output/linear_causal_graph_n1000_vars8_lag3_student_t.png (deflated 6%)\n",
            "  adding: content/output/linear_ts_plot_n1000_vars6_lag2_student_t.png (deflated 3%)\n",
            "  adding: content/output/linear_causal_graph_n1000_vars4_lag4_student_t.png (deflated 7%)\n",
            "  adding: content/output/linear_ts_plot_n1000_vars8_lag2_student_t.png (deflated 3%)\n",
            "  adding: content/output/linear_ts_plot_n5000_vars8_lag3_gaussian.png (deflated 3%)\n",
            "  adding: content/output/linear_ts_n500_vars4_lag3_gaussian.csv (deflated 52%)\n",
            "  adding: content/output/linear_causal_structure_vars6_lag2_gaussian.txt (deflated 44%)\n",
            "  adding: content/output/linear_ts_n1000_vars4_lag3_student_t.csv (deflated 53%)\n",
            "  adding: content/output/linear_ts_plot_n5000_vars4_lag3_student_t.png (deflated 4%)\n",
            "  adding: content/output/linear_causal_graph_n500_vars4_lag4_student_t.png (deflated 6%)\n",
            "  adding: content/output/linear_ts_n3000_vars6_lag3_gaussian.csv (deflated 54%)\n",
            "  adding: content/output/linear_causal_graph_n5000_vars6_lag2_student_t.png (deflated 9%)\n",
            "  adding: content/output/linear_causal_graph_n1000_vars8_lag3_gaussian.png (deflated 5%)\n",
            "  adding: content/output/linear_ts_plot_n3000_vars8_lag2_gaussian.png (deflated 2%)\n",
            "  adding: content/output/linear_ts_n500_vars6_lag3_student_t.csv (deflated 52%)\n",
            "  adding: content/output/linear_causal_graph_n3000_vars4_lag4_gaussian.png (deflated 6%)\n",
            "  adding: content/output/linear_ts_n5000_vars8_lag4_gaussian.csv (deflated 55%)\n",
            "  adding: content/output/linear_ts_n3000_vars8_lag2_gaussian.csv (deflated 55%)\n",
            "  adding: content/output/linear_causal_graph_n5000_vars8_lag3_gaussian.png (deflated 6%)\n",
            "  adding: content/output/linear_causal_graph_n3000_vars4_lag2_student_t.png (deflated 8%)\n",
            "  adding: content/output/linear_ts_plot_n1000_vars4_lag4_gaussian.png (deflated 2%)\n",
            "  adding: content/output/linear_ts_n3000_vars6_lag2_student_t.csv (deflated 54%)\n",
            "  adding: content/output/linear_causal_graph_n1000_vars6_lag2_gaussian.png (deflated 8%)\n",
            "  adding: content/output/linear_causal_graph_n5000_vars4_lag3_student_t.png (deflated 6%)\n",
            "  adding: content/output/linear_causal_graph_n5000_vars8_lag2_gaussian.png (deflated 7%)\n",
            "  adding: content/output/linear_ts_n3000_vars8_lag4_student_t.csv (deflated 54%)\n",
            "  adding: content/output/linear_ts_plot_n1000_vars6_lag3_gaussian.png (deflated 2%)\n",
            "  adding: content/output/linear_causal_graph_n500_vars8_lag4_student_t.png (deflated 6%)\n",
            "  adding: content/output/linear_ts_plot_n500_vars4_lag2_student_t.png (deflated 2%)\n",
            "  adding: content/output/linear_ts_n500_vars4_lag2_gaussian.csv (deflated 52%)\n",
            "  adding: content/output/linear_causal_graph_n5000_vars4_lag2_gaussian.png (deflated 8%)\n",
            "  adding: content/output/linear_causal_structure_vars4_lag4_student_t.txt (deflated 37%)\n",
            "  adding: content/output/linear_ts_n1000_vars6_lag3_student_t.csv (deflated 53%)\n",
            "  adding: content/output/linear_ts_plot_n1000_vars4_lag4_student_t.png (deflated 4%)\n",
            "  adding: content/output/linear_ts_plot_n5000_vars6_lag3_student_t.png (deflated 4%)\n",
            "  adding: content/output/linear_causal_graph_n5000_vars6_lag4_student_t.png (deflated 7%)\n",
            "  adding: content/output/linear_ts_plot_n500_vars6_lag3_gaussian.png (deflated 1%)\n",
            "  adding: content/output/linear_ts_plot_n3000_vars4_lag2_gaussian.png (deflated 3%)\n",
            "  adding: content/output/linear_ts_n1000_vars6_lag2_gaussian.csv (deflated 53%)\n",
            "  adding: content/output/linear_ts_n3000_vars8_lag2_student_t.csv (deflated 54%)\n",
            "  adding: content/output/linear_causal_graph_n5000_vars6_lag4_gaussian.png (deflated 7%)\n",
            "  adding: content/output/linear_causal_graph_n3000_vars4_lag2_gaussian.png (deflated 8%)\n",
            "  adding: content/output/linear_ts_n5000_vars4_lag2_gaussian.csv (deflated 54%)\n",
            "  adding: content/output/linear_ts_n500_vars6_lag2_student_t.csv (deflated 52%)\n",
            "  adding: content/output/linear_ts_plot_n5000_vars4_lag2_student_t.png (deflated 4%)\n",
            "  adding: content/output/linear_ts_n5000_vars4_lag4_student_t.csv (deflated 54%)\n",
            "  adding: content/output/linear_ts_n3000_vars6_lag3_student_t.csv (deflated 54%)\n",
            "  adding: content/output/linear_ts_plot_n500_vars8_lag2_student_t.png (deflated 3%)\n",
            "  adding: content/output/linear_causal_graph_n500_vars8_lag2_gaussian.png (deflated 7%)\n",
            "  adding: content/output/linear_ts_plot_n5000_vars4_lag3_gaussian.png (deflated 3%)\n",
            "  adding: content/output/linear_ts_n5000_vars8_lag2_student_t.csv (deflated 54%)\n",
            "  adding: content/output/linear_causal_structure_vars8_lag3_gaussian.txt (deflated 48%)\n",
            "  adding: content/output/linear_causal_graph_n3000_vars8_lag3_gaussian.png (deflated 6%)\n",
            "  adding: content/output/linear_ts_plot_n5000_vars8_lag4_student_t.png (deflated 4%)\n",
            "  adding: content/output/linear_ts_n500_vars6_lag2_gaussian.csv (deflated 53%)\n",
            "  adding: content/output/linear_causal_structure_vars8_lag2_gaussian.txt (deflated 49%)\n",
            "  adding: content/output/linear_ts_n3000_vars4_lag4_student_t.csv (deflated 54%)\n",
            "  adding: content/output/linear_ts_n3000_vars4_lag2_gaussian.csv (deflated 54%)\n",
            "  adding: content/output/linear_causal_graph_n1000_vars6_lag3_gaussian.png (deflated 7%)\n",
            "  adding: content/output/linear_ts_n5000_vars6_lag3_student_t.csv (deflated 54%)\n",
            "  adding: content/output/linear_ts_n500_vars8_lag4_student_t.csv (deflated 53%)\n",
            "  adding: content/output/linear_ts_n1000_vars8_lag2_gaussian.csv (deflated 54%)\n",
            "  adding: content/output/linear_ts_n3000_vars8_lag3_student_t.csv (deflated 54%)\n",
            "  adding: content/output/linear_ts_plot_n3000_vars6_lag2_student_t.png (deflated 4%)\n",
            "  adding: content/output/linear_causal_graph_n500_vars4_lag3_gaussian.png (deflated 6%)\n",
            "  adding: content/output/linear_causal_graph_n3000_vars8_lag3_student_t.png (deflated 6%)\n",
            "  adding: content/output/linear_ts_n500_vars8_lag3_gaussian.csv (deflated 53%)\n",
            "  adding: content/output/linear_causal_graph_n3000_vars6_lag4_gaussian.png (deflated 7%)\n",
            "  adding: content/output/linear_ts_n5000_vars4_lag2_student_t.csv (deflated 54%)\n",
            "  adding: content/output/linear_ts_plot_n500_vars8_lag3_student_t.png (deflated 3%)\n",
            "  adding: content/output/linear_ts_plot_n500_vars4_lag3_gaussian.png (deflated 1%)\n",
            "  adding: content/output/linear_ts_n5000_vars6_lag4_student_t.csv (deflated 54%)\n",
            "  adding: content/output/linear_ts_n3000_vars6_lag4_student_t.csv (deflated 54%)\n",
            "  adding: content/output/linear_ts_n3000_vars4_lag2_student_t.csv (deflated 54%)\n",
            "  adding: content/output/linear_ts_plot_n3000_vars6_lag3_gaussian.png (deflated 3%)\n",
            "  adding: content/output/linear_ts_n500_vars4_lag3_student_t.csv (deflated 52%)\n",
            "  adding: content/output/linear_causal_graph_n3000_vars8_lag2_gaussian.png (deflated 7%)\n",
            "  adding: content/output/linear_causal_graph_n5000_vars4_lag3_gaussian.png (deflated 6%)\n",
            "  adding: content/output/linear_ts_plot_n5000_vars4_lag4_gaussian.png (deflated 3%)\n",
            "  adding: content/output/linear_ts_plot_n500_vars6_lag2_student_t.png (deflated 3%)\n",
            "  adding: content/output/linear_causal_graph_n5000_vars8_lag4_gaussian.png (deflated 5%)\n",
            "  adding: content/output/linear_causal_graph_n1000_vars4_lag3_student_t.png (deflated 6%)\n",
            "  adding: content/output/linear_causal_graph_n1000_vars4_lag2_student_t.png (deflated 8%)\n",
            "  adding: content/output/linear_causal_graph_n1000_vars4_lag3_gaussian.png (deflated 6%)\n",
            "  adding: content/output/linear_causal_structure_vars8_lag4_student_t.txt (deflated 49%)\n",
            "  adding: content/output/linear_causal_structure_vars4_lag2_student_t.txt (deflated 34%)\n",
            "  adding: content/output/linear_ts_plot_n5000_vars8_lag2_student_t.png (deflated 4%)\n",
            "  adding: content/output/linear_ts_n500_vars8_lag3_student_t.csv (deflated 53%)\n",
            "  adding: content/output/linear_ts_n3000_vars4_lag3_gaussian.csv (deflated 54%)\n",
            "  adding: content/output/linear_causal_structure_vars4_lag3_student_t.txt (deflated 37%)\n",
            "  adding: content/output/linear_causal_graph_n500_vars4_lag2_gaussian.png (deflated 8%)\n",
            "  adding: content/output/linear_causal_graph_n5000_vars6_lag2_gaussian.png (deflated 8%)\n",
            "  adding: content/output/linear_causal_graph_n3000_vars6_lag3_gaussian.png (deflated 7%)\n",
            "  adding: content/output/linear_ts_plot_n500_vars6_lag3_student_t.png (deflated 3%)\n",
            "  adding: content/output/linear_ts_n500_vars6_lag4_student_t.csv (deflated 53%)\n",
            "  adding: content/output/linear_causal_structure_vars6_lag2_student_t.txt (deflated 44%)\n",
            "  adding: content/output/linear_ts_plot_n500_vars8_lag3_gaussian.png (deflated 1%)\n",
            "  adding: content/output/linear_ts_n1000_vars6_lag2_student_t.csv (deflated 53%)\n",
            "  adding: content/output/linear_ts_n500_vars8_lag2_student_t.csv (deflated 53%)\n",
            "  adding: content/output/linear_causal_graph_n5000_vars6_lag3_gaussian.png (deflated 6%)\n",
            "  adding: content/output/linear_causal_graph_n5000_vars4_lag4_gaussian.png (deflated 7%)\n",
            "  adding: content/output/linear_ts_n5000_vars6_lag2_gaussian.csv (deflated 55%)\n",
            "  adding: content/output/linear_causal_graph_n1000_vars6_lag3_student_t.png (deflated 6%)\n",
            "  adding: content/output/linear_ts_n1000_vars6_lag3_gaussian.csv (deflated 53%)\n",
            "  adding: content/output/linear_ts_n500_vars6_lag3_gaussian.csv (deflated 53%)\n",
            "  adding: content/output/linear_ts_n1000_vars8_lag4_student_t.csv (deflated 54%)\n",
            "  adding: content/output/linear_ts_plot_n1000_vars4_lag3_gaussian.png (deflated 2%)\n",
            "  adding: content/output/linear_ts_plot_n1000_vars8_lag4_gaussian.png (deflated 2%)\n",
            "  adding: content/output/linear_ts_n5000_vars6_lag3_gaussian.csv (deflated 55%)\n",
            "  adding: content/output/linear_ts_plot_n500_vars8_lag4_gaussian.png (deflated 1%)\n",
            "  adding: content/output/linear_ts_plot_n5000_vars4_lag2_gaussian.png (deflated 3%)\n",
            "  adding: content/output/linear_ts_plot_n1000_vars8_lag2_gaussian.png (deflated 2%)\n",
            "  adding: content/output/linear_ts_plot_n3000_vars8_lag3_gaussian.png (deflated 3%)\n",
            "  adding: content/output/linear_causal_structure_vars4_lag4_gaussian.txt (deflated 38%)\n",
            "  adding: content/output/linear_ts_n1000_vars8_lag3_student_t.csv (deflated 54%)\n",
            "  adding: content/output/linear_ts_plot_n3000_vars4_lag4_gaussian.png (deflated 3%)\n",
            "  adding: content/output/linear_ts_plot_n5000_vars8_lag2_gaussian.png (deflated 3%)\n",
            "  adding: content/output/linear_ts_n5000_vars6_lag2_student_t.csv (deflated 54%)\n",
            "  adding: content/output/linear_ts_plot_n5000_vars6_lag3_gaussian.png (deflated 3%)\n",
            "  adding: content/output/linear_ts_plot_n500_vars6_lag4_gaussian.png (deflated 1%)\n",
            "  adding: content/output/linear_ts_n1000_vars4_lag2_gaussian.csv (deflated 53%)\n",
            "  adding: content/output/linear_ts_plot_n5000_vars6_lag2_student_t.png (deflated 4%)\n",
            "  adding: content/output/linear_ts_n3000_vars4_lag3_student_t.csv (deflated 54%)\n",
            "  adding: content/output/linear_causal_graph_n1000_vars6_lag4_student_t.png (deflated 7%)\n",
            "  adding: content/output/linear_ts_plot_n1000_vars6_lag2_gaussian.png (deflated 2%)\n",
            "  adding: content/output/linear_ts_plot_n5000_vars8_lag3_student_t.png (deflated 4%)\n",
            "  adding: content/output/linear_ts_plot_n3000_vars8_lag3_student_t.png (deflated 4%)\n",
            "  adding: content/output/linear_ts_n1000_vars4_lag4_gaussian.csv (deflated 53%)\n",
            "  adding: content/output/linear_ts_n3000_vars4_lag4_gaussian.csv (deflated 54%)\n",
            "  adding: content/output/linear_ts_plot_n1000_vars8_lag3_student_t.png (deflated 3%)\n",
            "  adding: content/output/linear_ts_plot_n3000_vars6_lag2_gaussian.png (deflated 3%)\n",
            "  adding: content/output/linear_ts_plot_n500_vars4_lag3_student_t.png (deflated 2%)\n",
            "  adding: content/output/linear_ts_n3000_vars6_lag2_gaussian.csv (deflated 54%)\n"
          ]
        },
        {
          "output_type": "display_data",
          "data": {
            "text/plain": [
              "<IPython.core.display.Javascript object>"
            ],
            "application/javascript": [
              "\n",
              "    async function download(id, filename, size) {\n",
              "      if (!google.colab.kernel.accessAllowed) {\n",
              "        return;\n",
              "      }\n",
              "      const div = document.createElement('div');\n",
              "      const label = document.createElement('label');\n",
              "      label.textContent = `Downloading \"${filename}\": `;\n",
              "      div.appendChild(label);\n",
              "      const progress = document.createElement('progress');\n",
              "      progress.max = size;\n",
              "      div.appendChild(progress);\n",
              "      document.body.appendChild(div);\n",
              "\n",
              "      const buffers = [];\n",
              "      let downloaded = 0;\n",
              "\n",
              "      const channel = await google.colab.kernel.comms.open(id);\n",
              "      // Send a message to notify the kernel that we're ready.\n",
              "      channel.send({})\n",
              "\n",
              "      for await (const message of channel.messages) {\n",
              "        // Send a message to notify the kernel that we're ready.\n",
              "        channel.send({})\n",
              "        if (message.buffers) {\n",
              "          for (const buffer of message.buffers) {\n",
              "            buffers.push(buffer);\n",
              "            downloaded += buffer.byteLength;\n",
              "            progress.value = downloaded;\n",
              "          }\n",
              "        }\n",
              "      }\n",
              "      const blob = new Blob(buffers, {type: 'application/binary'});\n",
              "      const a = document.createElement('a');\n",
              "      a.href = window.URL.createObjectURL(blob);\n",
              "      a.download = filename;\n",
              "      div.appendChild(a);\n",
              "      a.click();\n",
              "      div.remove();\n",
              "    }\n",
              "  "
            ]
          },
          "metadata": {}
        },
        {
          "output_type": "display_data",
          "data": {
            "text/plain": [
              "<IPython.core.display.Javascript object>"
            ],
            "application/javascript": [
              "download(\"download_634fc1eb-0a39-4543-afcb-f1897b6d2521\", \"output_A1.zip\", 30273014)"
            ]
          },
          "metadata": {}
        }
      ]
    }
  ]
}