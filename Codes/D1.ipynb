{
  "nbformat": 4,
  "nbformat_minor": 0,
  "metadata": {
    "colab": {
      "provenance": []
    },
    "kernelspec": {
      "name": "python3",
      "display_name": "Python 3"
    },
    "language_info": {
      "name": "python"
    }
  },
  "cells": [
    {
      "cell_type": "code",
      "execution_count": 1,
      "metadata": {
        "colab": {
          "base_uri": "https://localhost:8080/"
        },
        "id": "ddiBAqwBsCeN",
        "outputId": "1bf6c04c-43d4-4b1e-a3ac-e9505d5cef7e"
      },
      "outputs": [
        {
          "output_type": "stream",
          "name": "stdout",
          "text": [
            "Collecting tigramite\n",
            "  Downloading tigramite-5.2.7.0-py3-none-any.whl.metadata (11 kB)\n",
            "Requirement already satisfied: numpy>=1.18 in /usr/local/lib/python3.11/dist-packages (from tigramite) (1.26.4)\n",
            "Requirement already satisfied: scipy>=1.10.0 in /usr/local/lib/python3.11/dist-packages (from tigramite) (1.13.1)\n",
            "Requirement already satisfied: six in /usr/local/lib/python3.11/dist-packages (from tigramite) (1.17.0)\n",
            "Downloading tigramite-5.2.7.0-py3-none-any.whl (309 kB)\n",
            "\u001b[2K   \u001b[90m━━━━━━━━━━━━━━━━━━━━━━━━━━━━━━━━━━━━━━━━\u001b[0m \u001b[32m309.6/309.6 kB\u001b[0m \u001b[31m4.9 MB/s\u001b[0m eta \u001b[36m0:00:00\u001b[0m\n",
            "\u001b[?25hInstalling collected packages: tigramite\n",
            "Successfully installed tigramite-5.2.7.0\n"
          ]
        }
      ],
      "source": [
        "!pip install tigramite"
      ]
    },
    {
      "cell_type": "code",
      "source": [
        "import numpy as np\n",
        "import pandas as pd\n",
        "from tigramite import plotting as tp\n",
        "import matplotlib.pyplot as plt\n",
        "from pathlib import Path\n",
        "from scipy import stats"
      ],
      "metadata": {
        "id": "Wn88ZwijsKBX"
      },
      "execution_count": 2,
      "outputs": []
    },
    {
      "cell_type": "code",
      "source": [
        "def get_linear_equations(n_vars, max_lag):\n",
        "    \"\"\"Get linear equations for specified configuration\"\"\"\n",
        "    if n_vars == 4:\n",
        "        if max_lag == 2:\n",
        "            return [\n",
        "                \"X4[t] = 0.25 * X1[t-2] + e4\",\n",
        "                \"X3[t] = 0.35 * X4[t] + e3\",\n",
        "                \"X2[t] = 0.3 * X3[t-1] + e2\",\n",
        "                \"X1[t] = 0.4 * X2[t] + e1\"\n",
        "            ]\n",
        "        elif max_lag == 3:\n",
        "            return [\n",
        "                \"X4[t] = 0.25 * X1[t-2] + e4\",\n",
        "                \"X3[t] = 0.35 * X4[t] + 0.2 * X2[t-3] + e3\",\n",
        "                \"X2[t] = 0.3 * X3[t-1] + e2\",\n",
        "                \"X1[t] = 0.4 * X2[t] + e1\"\n",
        "            ]\n",
        "        elif max_lag == 4:\n",
        "            return [\n",
        "                \"X4[t] = 0.25 * X1[t-4] + e4\",\n",
        "                \"X3[t] = 0.35 * X4[t] + 0.2 * X2[t-3] + e3\",\n",
        "                \"X2[t] = 0.3 * X3[t-1] + e2\",\n",
        "                \"X1[t] = 0.4 * X2[t] + e1\"\n",
        "            ]\n",
        "    elif n_vars == 6:\n",
        "        if max_lag == 2:\n",
        "            return [\n",
        "                \"X6[t] = 0.85 * X5[t] + e6\",\n",
        "                \"X5[t] = 0.4 * X4[t-1] + e5\",\n",
        "                \"X4[t] = 0.25 * X1[t-2] + 0.3 * X5[t-1] + e4\",\n",
        "                \"X3[t] = 0.35 * X4[t] + e3\",\n",
        "                \"X2[t] = 0.3 * X3[t-1] + e2\",\n",
        "                \"X1[t] = 0.4 * X2[t] + e1\"\n",
        "            ]\n",
        "        elif max_lag == 3:\n",
        "            return [\n",
        "                \"X6[t] = 0.85 * X5[t] + e6\",\n",
        "                \"X5[t] = 0.4 * X4[t-1] + e5\",\n",
        "                \"X4[t] = 0.25 * X1[t-2] + e4\",\n",
        "                \"X3[t] = 0.35 * X4[t] + 0.2 * X2[t-3] + e3\",\n",
        "                \"X2[t] = 0.3 * X3[t-1] + e2\",\n",
        "                \"X1[t] = 0.4 * X2[t] + e1\"\n",
        "            ]\n",
        "        elif max_lag == 4:\n",
        "            return [\n",
        "                \"X6[t] = 0.85 * X5[t] + e6\",\n",
        "                \"X5[t] = 0.4 * X4[t-1] + e5\",\n",
        "                \"X4[t] = 0.25 * X1[t-4] + e4\",\n",
        "                \"X3[t] = 0.35 * X4[t] + 0.2 * X2[t-3] + e3\",\n",
        "                \"X2[t] = 0.3 * X3[t-1] + e2\",\n",
        "                \"X1[t] = 0.4 * X2[t] + e1\"\n",
        "            ]\n",
        "    elif n_vars == 8:\n",
        "        if max_lag == 2:\n",
        "            return [\n",
        "                \"X8[t] = 0.4 * X7[t] + e8\",\n",
        "                \"X7[t] = 0.35 * X6[t-1] + e7\",\n",
        "                \"X6[t] = 0.45 * X5[t] + e6\",\n",
        "                \"X5[t] = 0.4 * X4[t-1] + e5\",\n",
        "                \"X4[t] = 0.25 * X1[t-2] + 0.3 * X5[t-1] + e4\",\n",
        "                \"X3[t] = 0.35 * X4[t] + e3\",\n",
        "                \"X2[t] = 0.3 * X3[t-1] + e2\",\n",
        "                \"X1[t] = 0.4 * X2[t] + e1\"\n",
        "            ]\n",
        "        elif max_lag == 3:\n",
        "            return [\n",
        "                \"X8[t] = 0.4 * X7[t] + e8\",\n",
        "                \"X7[t] = 0.35 * X6[t-1] + e7\",\n",
        "                \"X6[t] = 0.45 * X5[t] + e6\",\n",
        "                \"X5[t] = 0.4 * X4[t-1] + e5\",\n",
        "                \"X4[t] = 0.25 * X1[t-2] + e4\",\n",
        "                \"X3[t] = 0.35 * X4[t] + 0.2 * X2[t-3] + e3\",\n",
        "                \"X2[t] = 0.3 * X3[t-1] + e2\",\n",
        "                \"X1[t] = 0.4 * X2[t] + e1\"\n",
        "            ]\n",
        "        elif max_lag == 4:\n",
        "            return [\n",
        "                \"X8[t] = 0.4 * X7[t] + e8\",\n",
        "                \"X7[t] = 0.35 * X6[t-1] + e7\",\n",
        "                \"X6[t] = 0.45 * X5[t] + e6\",\n",
        "                \"X5[t] = 0.4 * X4[t-1] + e5\",\n",
        "                \"X4[t] = 0.25 * X1[t-4] + e4\",\n",
        "                \"X3[t] = 0.35 * X4[t] + 0.2 * X2[t-3] + e3\",\n",
        "                \"X2[t] = 0.3 * X3[t-1] + e2\",\n",
        "                \"X1[t] = 0.4 * X2[t] + e1\"\n",
        "            ]\n",
        "    return []\n",
        "\n",
        "class LinearTimeSeriesGeneratorMCAR:\n",
        "    def __init__(self, noise_type='gaussian', noise_params={'scale': 0.1, 'df': 3},\n",
        "                 missing_rate=0.2, random_state=None):\n",
        "        \"\"\"\n",
        "        Initialize generator with specified noise type and MCAR missing data\n",
        "\n",
        "        Parameters:\n",
        "        noise_type: str, 'gaussian' or 'student_t'\n",
        "        noise_params: dict with 'scale' and 'df' (for Student's t) parameters\n",
        "        missing_rate: float between 0 and 1, proportion of missing data\n",
        "        random_state: int, random seed\n",
        "        \"\"\"\n",
        "        self.noise_type = noise_type\n",
        "        self.noise_params = noise_params\n",
        "        self.missing_rate = missing_rate\n",
        "        self.random_state = random_state\n",
        "        if random_state is not None:\n",
        "            np.random.seed(random_state)\n",
        "\n",
        "    def generate_noise(self, size):\n",
        "        \"\"\"Generate noise based on specified distribution\"\"\"\n",
        "        if self.noise_type == 'gaussian':\n",
        "            return np.random.normal(0, self.noise_params['scale'], size=size)\n",
        "        elif self.noise_type == 'student_t':\n",
        "            return stats.t.rvs(df=self.noise_params['df'],\n",
        "                             loc=0,\n",
        "                             scale=self.noise_params['scale'],\n",
        "                             size=size)\n",
        "\n",
        "    def generate_linear_equations(self, t, X, n_vars, max_lag):\n",
        "        \"\"\"Execute linear equations\"\"\"\n",
        "        noise = self.generate_noise(n_vars)\n",
        "        equations = get_linear_equations(n_vars, max_lag)\n",
        "        var_values = {}\n",
        "\n",
        "        # First pass: process equations that don't depend on current time step values\n",
        "        for eq in equations:\n",
        "            if '=' not in eq:\n",
        "                continue\n",
        "\n",
        "            left, right = eq.split('=')\n",
        "            var_name = left.split('[')[0]\n",
        "            var_idx = int(var_name[1:]) - 1\n",
        "\n",
        "            # Check if equation only depends on past values\n",
        "            if not any('t]' in term for term in right.split('+')):\n",
        "                terms = [term.strip() for term in right.split('+')]\n",
        "                value = 0\n",
        "\n",
        "                for term in terms:\n",
        "                    if term.startswith('e'):  # Noise term\n",
        "                        value += noise[var_idx]\n",
        "                    else:\n",
        "                        coef = float(term.split('*')[0].strip())\n",
        "                        var = term.split('*')[1].strip()\n",
        "                        var_name = var.split('[')[0].strip()\n",
        "                        time_idx = var.split('[')[1].split(']')[0].strip()\n",
        "                        var_idx_source = int(var_name[1:]) - 1\n",
        "                        lag = int(time_idx.split('-')[1])\n",
        "                        value += coef * X[t-lag, var_idx_source]\n",
        "\n",
        "                X[t, var_idx] = value\n",
        "                var_values[var_name] = value\n",
        "\n",
        "        # Second pass: process equations that depend on current time step values\n",
        "        for eq in equations:\n",
        "            if '=' not in eq:\n",
        "                continue\n",
        "\n",
        "            left, right = eq.split('=')\n",
        "            var_name = left.split('[')[0]\n",
        "            var_idx = int(var_name[1:]) - 1\n",
        "\n",
        "            # Skip if already processed\n",
        "            if var_name in var_values:\n",
        "                continue\n",
        "\n",
        "            terms = [term.strip() for term in right.split('+')]\n",
        "            value = 0\n",
        "\n",
        "            for term in terms:\n",
        "                if term.startswith('e'):  # Noise term\n",
        "                    value += noise[var_idx]\n",
        "                else:\n",
        "                    coef = float(term.split('*')[0].strip())\n",
        "                    var = term.split('*')[1].strip()\n",
        "                    var_name_source = var.split('[')[0].strip()\n",
        "                    time_idx = var.split('[')[1].split(']')[0].strip()\n",
        "                    var_idx_source = int(var_name_source[1:]) - 1\n",
        "\n",
        "                    if time_idx == 't':\n",
        "                        value += coef * var_values.get(var_name_source, X[t, var_idx_source])\n",
        "                    else:\n",
        "                        lag = int(time_idx.split('-')[1])\n",
        "                        value += coef * X[t-lag, var_idx_source]\n",
        "\n",
        "            X[t, var_idx] = value\n",
        "            var_values[var_name] = value\n",
        "\n",
        "    def apply_mcar(self, X):\n",
        "        \"\"\"Apply MCAR missing pattern to the data\"\"\"\n",
        "        mask = np.random.random(X.shape) < self.missing_rate\n",
        "        X_missing = X.copy()\n",
        "        X_missing[mask] = np.nan\n",
        "        return X_missing\n",
        "\n",
        "    def generate_multivariate_ts(self, n_points, n_vars, max_lag):\n",
        "        \"\"\"Generate multivariate time series with MCAR missing data\"\"\"\n",
        "        # Initialize arrays\n",
        "        X = np.zeros((n_points, n_vars))\n",
        "\n",
        "        # Initialize first steps with noise\n",
        "        for i in range(max_lag):\n",
        "            X[i] = self.generate_noise(n_vars)\n",
        "\n",
        "        # Generate time series\n",
        "        for t in range(max_lag, n_points):\n",
        "            self.generate_linear_equations(t, X, n_vars, max_lag)\n",
        "\n",
        "        # Apply MCAR missing pattern\n",
        "        X_missing = self.apply_mcar(X)\n",
        "\n",
        "        # Create DataFrame\n",
        "        timestamps = np.arange(n_points)\n",
        "        columns = [f'X{i+1}' for i in range(n_vars)]\n",
        "        df = pd.DataFrame(X_missing, columns=columns)\n",
        "        df['time'] = timestamps\n",
        "\n",
        "        return df, X  # Return both missing and complete data\n",
        "\n",
        "def extract_linear_links(equations):\n",
        "    \"\"\"Extract all linear causal links from the equations\"\"\"\n",
        "    links = {}\n",
        "\n",
        "    for eq in equations:\n",
        "        if '=' in eq:\n",
        "            left, right = [side.strip() for side in eq.split('=')]\n",
        "            target = left.split('[')[0]\n",
        "\n",
        "            terms = [term.strip() for term in right.split('+')]\n",
        "            for term in terms:\n",
        "                if '*' in term and 'X' in term:\n",
        "                    parts = term.split('*')\n",
        "                    coeff = float(parts[0].strip())\n",
        "                    var_part = parts[1].strip()\n",
        "                    var = var_part.split('[')[0]\n",
        "                    lag_part = var_part.split('[')[1].split(']')[0]\n",
        "\n",
        "                    lag = 0 if lag_part == 't' else -int(lag_part.split('-')[1])\n",
        "                    links[(var, lag, target)] = coeff\n",
        "\n",
        "    return links\n",
        "\n",
        "def save_dataset_and_graph(df, complete_data, n_vars, max_lag, sample_size,\n",
        "                         noise_type, missing_rate, output_dir=\"output_mcar\"):\n",
        "    \"\"\"Save dataset and create causal graph visualization\"\"\"\n",
        "    Path(output_dir).mkdir(parents=True, exist_ok=True)\n",
        "\n",
        "    base_filename = f'{output_dir}/linear_ts_n{sample_size}_vars{n_vars}_lag{max_lag}_{noise_type}_mcar{int(missing_rate*100)}'\n",
        "\n",
        "    # Save datasets (both missing and complete)\n",
        "    df.to_csv(f'{base_filename}_missing.csv', index=False)\n",
        "    df_complete = pd.DataFrame(complete_data, columns=[f'X{i+1}' for i in range(n_vars)])\n",
        "    df_complete['time'] = df['time']\n",
        "    df_complete.to_csv(f'{base_filename}_complete.csv', index=False)\n",
        "\n",
        "    # Get equations and extract links\n",
        "    equations = get_linear_equations(n_vars, max_lag)\n",
        "    true_links = extract_linear_links(equations)\n",
        "\n",
        "    # Create matrices for tigramite plotting\n",
        "    var_names = [f'X{i+1}' for i in range(n_vars)]\n",
        "    val_matrix = np.zeros((n_vars, n_vars, max_lag + 1))\n",
        "    graph_matrix = np.zeros((n_vars, n_vars, max_lag + 1), dtype='bool')\n",
        "\n",
        "    # Fill matrices based on true links\n",
        "    for (source, lag, target), weight in true_links.items():\n",
        "        source_idx = int(source[1:]) - 1\n",
        "        target_idx = int(target[1:]) - 1\n",
        "        lag_idx = abs(lag)\n",
        "\n",
        "        # Add the link to the matrices\n",
        "        val_matrix[source_idx, target_idx, lag_idx] = weight\n",
        "        graph_matrix[source_idx, target_idx, lag_idx] = True\n",
        "\n",
        "        # For contemporaneous links, make val_matrix symmetric\n",
        "        if lag == 0:\n",
        "            val_matrix[target_idx, source_idx, lag_idx] = weight\n",
        "\n",
        "    # Plot and save causal graph\n",
        "    plt.figure(figsize=(12, 12))\n",
        "    tp.plot_time_series_graph(\n",
        "        val_matrix=val_matrix,\n",
        "        graph=graph_matrix,\n",
        "        var_names=var_names,\n",
        "        link_colorbar_label='Linear Effect Strength',\n",
        "        node_size=0.05\n",
        "    )\n",
        "    plt.title(f'Linear Causal Graph\\n(n={sample_size}, vars={n_vars}, lag={max_lag})\\n{noise_type}, MCAR {int(missing_rate*100)}%')\n",
        "    plt.savefig(f'{base_filename}_graph.png')\n",
        "    plt.close()\n",
        "\n",
        "    # Plot time series with missing data\n",
        "    plt.figure(figsize=(15, 10))\n",
        "    for col in df.columns[:-1]:  # Exclude time column\n",
        "        # Plot complete data as solid line\n",
        "        plt.plot(df['time'], df_complete[col], label=f'{col} (complete)', alpha=0.3)\n",
        "        # Plot available data points as scatter\n",
        "        mask = ~df[col].isna()\n",
        "        plt.scatter(df.loc[mask, 'time'], df.loc[mask, col],\n",
        "                   label=f'{col} (observed)', alpha=0.7, s=20)\n",
        "\n",
        "    plt.title(f'Time Series with MCAR {int(missing_rate*100)}% Missing Data\\n(n={sample_size}, vars={n_vars}, lag={max_lag})')\n",
        "    plt.xlabel('Time')\n",
        "    plt.ylabel('Value')\n",
        "    plt.legend()\n",
        "    plt.grid(True)\n",
        "    plt.savefig(f'{base_filename}_series.png')\n",
        "    plt.close()\n",
        "\n",
        "    # Save missing data pattern visualization\n",
        "    plt.figure(figsize=(15, 5))\n",
        "    missing_matrix = df.drop('time', axis=1).isna()\n",
        "    plt.imshow(missing_matrix.T, aspect='auto', cmap='binary')\n",
        "    plt.title(f'Missing Data Pattern (black = missing)\\nMCAR {int(missing_rate*100)}%')\n",
        "    plt.xlabel('Time')\n",
        "    plt.ylabel('Variable')\n",
        "    plt.yticks(range(n_vars), [f'X{i+1}' for i in range(n_vars)])\n",
        "    plt.colorbar(label='Missing')\n",
        "    plt.savefig(f'{base_filename}_missing_pattern.png')\n",
        "    plt.close()\n",
        "\n",
        "    # Save causal structure description\n",
        "    with open(f'{base_filename}_structure.txt', 'w') as f:\n",
        "        f.write(f\"True Linear Causal Structure ({noise_type}, MCAR {int(missing_rate*100)}%):\\n\")\n",
        "        f.write(\"Format: (source, lag, target) => coefficient\\n\")\n",
        "        f.write(\"\\nEquations:\\n\")\n",
        "        for eq in equations:\n",
        "            f.write(f\"{eq}\\n\")\n",
        "        f.write(\"\\nCausal Links:\\n\")\n",
        "        for (source, lag, target), coef in true_links.items():\n",
        "            f.write(f\"({source}, {lag}, {target}) => {coef}\\n\")\n",
        "\n",
        "def analyze_mcar_data(df, complete_data, title=\"Linear Time Series Analysis with MCAR\"):\n",
        "    \"\"\"Analyze and plot the time series data with MCAR missing values\"\"\"\n",
        "    print(f\"\\nAnalyzing {title}\")\n",
        "    print(\"=\" * 50)\n",
        "\n",
        "    # Basic statistics\n",
        "    n_total = df.drop('time', axis=1).size\n",
        "    n_missing = df.drop('time', axis=1).isna().sum().sum()\n",
        "    missing_rate = n_missing / n_total\n",
        "\n",
        "    print(f\"\\nMissing Data Summary:\")\n",
        "    print(f\"Total values: {n_total}\")\n",
        "    print(f\"Missing values: {n_missing}\")\n",
        "    print(f\"Missing rate: {missing_rate:.2%}\")\n",
        "\n",
        "    # Missing pattern by variable\n",
        "    print(\"\\nMissing Data by Variable:\")\n",
        "    missing_by_var = df.drop('time', axis=1).isna().sum()\n",
        "    print(missing_by_var)\n",
        "\n",
        "    # Statistical comparison between complete and observed data\n",
        "    print(\"\\nStatistical Comparison (Complete vs. Observed):\")\n",
        "    for col in df.columns[:-1]:  # Exclude time\n",
        "        complete_stats = complete_data[:, int(col[1])-1]\n",
        "        observed_stats = df[col].dropna()\n",
        "\n",
        "        print(f\"\\n{col}:\")\n",
        "        print(f\"Complete  - Mean: {np.mean(complete_stats):.3f}, Std: {np.std(complete_stats):.3f}\")\n",
        "        print(f\"Observed - Mean: {np.mean(observed_stats):.3f}, Std: {np.std(observed_stats):.3f}\")\n",
        "\n",
        "def generate_all_combinations():\n",
        "    \"\"\"Generate datasets for all combinations\"\"\"\n",
        "    sample_sizes = [500, 1000, 3000, 5000]\n",
        "    n_vars_list = [4, 6, 8]\n",
        "    max_lags = [2, 3, 4]\n",
        "    noise_types = ['gaussian', 'student_t']\n",
        "    missing_rates = [0.1, 0.2, 0.3]\n",
        "\n",
        "    for n in sample_sizes:\n",
        "        for vars in n_vars_list:\n",
        "            for lag in max_lags:\n",
        "                for noise_type in noise_types:\n",
        "                    for rate in missing_rates:\n",
        "                        print(f\"\\nGenerating dataset: n={n}, vars={vars}, lag={lag}, \"\n",
        "                              f\"noise={noise_type}, missing={rate:.0%}\")\n",
        "\n",
        "                        noise_params = {'scale': 0.1, 'df': 3} if noise_type == 'student_t' else {'scale': 0.1}\n",
        "                        generator = LinearTimeSeriesGeneratorMCAR(\n",
        "                            noise_type=noise_type,\n",
        "                            noise_params=noise_params,\n",
        "                            missing_rate=rate,\n",
        "                            random_state=42\n",
        "                        )\n",
        "\n",
        "                        df, complete_data = generator.generate_multivariate_ts(\n",
        "                            n_points=n,\n",
        "                            n_vars=vars,\n",
        "                            max_lag=lag\n",
        "                        )\n",
        "\n",
        "                        save_dataset_and_graph(\n",
        "                            df=df,\n",
        "                            complete_data=complete_data,\n",
        "                            n_vars=vars,\n",
        "                            max_lag=lag,\n",
        "                            sample_size=n,\n",
        "                            noise_type=noise_type,\n",
        "                            missing_rate=rate\n",
        "                        )\n",
        "                        print(\"Dataset and visualizations saved successfully\")\n",
        "\n",
        "if __name__ == \"__main__\":\n",
        "    print(\"Generating linear time series with MCAR missing data...\")\n",
        "\n",
        "    # # Example case\n",
        "    # n_points = 1000\n",
        "    # n_vars = 4\n",
        "    # max_lag = 2\n",
        "    # missing_rate = 0.2\n",
        "\n",
        "    # # Generate example with Gaussian noise\n",
        "    # generator = LinearTimeSeriesGeneratorMCAR(\n",
        "    #     noise_type='gaussian',\n",
        "    #     noise_params={'scale': 0.1},\n",
        "    #     missing_rate=missing_rate,\n",
        "    #     random_state=42\n",
        "    # )\n",
        "\n",
        "    # df, complete_data = generator.generate_multivariate_ts(\n",
        "    #     n_points=n_points,\n",
        "    #     n_vars=n_vars,\n",
        "    #     max_lag=max_lag\n",
        "    # )\n",
        "\n",
        "    # # Save and analyze example case\n",
        "    # save_dataset_and_graph(\n",
        "    #     df=df,\n",
        "    #     complete_data=complete_data,\n",
        "    #     n_vars=n_vars,\n",
        "    #     max_lag=max_lag,\n",
        "    #     sample_size=n_points,\n",
        "    #     noise_type='gaussian',\n",
        "    #     missing_rate=missing_rate\n",
        "    # )\n",
        "\n",
        "    # analyze_mcar_data(df, complete_data, \"Gaussian Example with MCAR\")\n",
        "\n",
        "    # Generate all combinations\n",
        "    generate_all_combinations()"
      ],
      "metadata": {
        "colab": {
          "base_uri": "https://localhost:8080/",
          "height": 1000
        },
        "id": "Bw8_jGsisKbJ",
        "outputId": "ffba4277-7eb1-46b5-f237-422a829b2c13"
      },
      "execution_count": 3,
      "outputs": [
        {
          "output_type": "stream",
          "name": "stdout",
          "text": [
            "Generating linear time series with MCAR missing data...\n",
            "\n",
            "Generating dataset: n=500, vars=4, lag=2, noise=gaussian, missing=10%\n",
            "Dataset and visualizations saved successfully\n",
            "\n",
            "Generating dataset: n=500, vars=4, lag=2, noise=gaussian, missing=20%\n",
            "Dataset and visualizations saved successfully\n",
            "\n",
            "Generating dataset: n=500, vars=4, lag=2, noise=gaussian, missing=30%\n",
            "Dataset and visualizations saved successfully\n",
            "\n",
            "Generating dataset: n=500, vars=4, lag=2, noise=student_t, missing=10%\n",
            "Dataset and visualizations saved successfully\n",
            "\n",
            "Generating dataset: n=500, vars=4, lag=2, noise=student_t, missing=20%\n",
            "Dataset and visualizations saved successfully\n",
            "\n",
            "Generating dataset: n=500, vars=4, lag=2, noise=student_t, missing=30%\n",
            "Dataset and visualizations saved successfully\n",
            "\n",
            "Generating dataset: n=500, vars=4, lag=3, noise=gaussian, missing=10%\n",
            "Dataset and visualizations saved successfully\n",
            "\n",
            "Generating dataset: n=500, vars=4, lag=3, noise=gaussian, missing=20%\n",
            "Dataset and visualizations saved successfully\n",
            "\n",
            "Generating dataset: n=500, vars=4, lag=3, noise=gaussian, missing=30%\n",
            "Dataset and visualizations saved successfully\n",
            "\n",
            "Generating dataset: n=500, vars=4, lag=3, noise=student_t, missing=10%\n",
            "Dataset and visualizations saved successfully\n",
            "\n",
            "Generating dataset: n=500, vars=4, lag=3, noise=student_t, missing=20%\n",
            "Dataset and visualizations saved successfully\n",
            "\n",
            "Generating dataset: n=500, vars=4, lag=3, noise=student_t, missing=30%\n",
            "Dataset and visualizations saved successfully\n",
            "\n",
            "Generating dataset: n=500, vars=4, lag=4, noise=gaussian, missing=10%\n",
            "Dataset and visualizations saved successfully\n",
            "\n",
            "Generating dataset: n=500, vars=4, lag=4, noise=gaussian, missing=20%\n",
            "Dataset and visualizations saved successfully\n",
            "\n",
            "Generating dataset: n=500, vars=4, lag=4, noise=gaussian, missing=30%\n",
            "Dataset and visualizations saved successfully\n",
            "\n",
            "Generating dataset: n=500, vars=4, lag=4, noise=student_t, missing=10%\n",
            "Dataset and visualizations saved successfully\n",
            "\n",
            "Generating dataset: n=500, vars=4, lag=4, noise=student_t, missing=20%\n",
            "Dataset and visualizations saved successfully\n",
            "\n",
            "Generating dataset: n=500, vars=4, lag=4, noise=student_t, missing=30%\n",
            "Dataset and visualizations saved successfully\n",
            "\n",
            "Generating dataset: n=500, vars=6, lag=2, noise=gaussian, missing=10%\n",
            "Dataset and visualizations saved successfully\n",
            "\n",
            "Generating dataset: n=500, vars=6, lag=2, noise=gaussian, missing=20%\n"
          ]
        },
        {
          "output_type": "stream",
          "name": "stderr",
          "text": [
            "/usr/local/lib/python3.11/dist-packages/tigramite/plotting.py:3203: RuntimeWarning: More than 20 figures have been opened. Figures created through the pyplot interface (`matplotlib.pyplot.figure`) are retained until explicitly closed and may consume too much memory. (To control this warning, see the rcParam `figure.max_open_warning`). Consider using `matplotlib.pyplot.close()`.\n",
            "  fig = pyplot.figure(figsize=figsize)\n",
            "<ipython-input-3-3d6b4701dba6>:292: RuntimeWarning: More than 20 figures have been opened. Figures created through the pyplot interface (`matplotlib.pyplot.figure`) are retained until explicitly closed and may consume too much memory. (To control this warning, see the rcParam `figure.max_open_warning`). Consider using `matplotlib.pyplot.close()`.\n",
            "  plt.figure(figsize=(15, 10))\n",
            "<ipython-input-3-3d6b4701dba6>:310: RuntimeWarning: More than 20 figures have been opened. Figures created through the pyplot interface (`matplotlib.pyplot.figure`) are retained until explicitly closed and may consume too much memory. (To control this warning, see the rcParam `figure.max_open_warning`). Consider using `matplotlib.pyplot.close()`.\n",
            "  plt.figure(figsize=(15, 5))\n"
          ]
        },
        {
          "output_type": "stream",
          "name": "stdout",
          "text": [
            "Dataset and visualizations saved successfully\n",
            "\n",
            "Generating dataset: n=500, vars=6, lag=2, noise=gaussian, missing=30%\n"
          ]
        },
        {
          "output_type": "stream",
          "name": "stderr",
          "text": [
            "<ipython-input-3-3d6b4701dba6>:279: RuntimeWarning: More than 20 figures have been opened. Figures created through the pyplot interface (`matplotlib.pyplot.figure`) are retained until explicitly closed and may consume too much memory. (To control this warning, see the rcParam `figure.max_open_warning`). Consider using `matplotlib.pyplot.close()`.\n",
            "  plt.figure(figsize=(12, 12))\n"
          ]
        },
        {
          "output_type": "stream",
          "name": "stdout",
          "text": [
            "Dataset and visualizations saved successfully\n",
            "\n",
            "Generating dataset: n=500, vars=6, lag=2, noise=student_t, missing=10%\n",
            "Dataset and visualizations saved successfully\n",
            "\n",
            "Generating dataset: n=500, vars=6, lag=2, noise=student_t, missing=20%\n",
            "Dataset and visualizations saved successfully\n",
            "\n",
            "Generating dataset: n=500, vars=6, lag=2, noise=student_t, missing=30%\n",
            "Dataset and visualizations saved successfully\n",
            "\n",
            "Generating dataset: n=500, vars=6, lag=3, noise=gaussian, missing=10%\n",
            "Dataset and visualizations saved successfully\n",
            "\n",
            "Generating dataset: n=500, vars=6, lag=3, noise=gaussian, missing=20%\n",
            "Dataset and visualizations saved successfully\n",
            "\n",
            "Generating dataset: n=500, vars=6, lag=3, noise=gaussian, missing=30%\n",
            "Dataset and visualizations saved successfully\n",
            "\n",
            "Generating dataset: n=500, vars=6, lag=3, noise=student_t, missing=10%\n",
            "Dataset and visualizations saved successfully\n",
            "\n",
            "Generating dataset: n=500, vars=6, lag=3, noise=student_t, missing=20%\n",
            "Dataset and visualizations saved successfully\n",
            "\n",
            "Generating dataset: n=500, vars=6, lag=3, noise=student_t, missing=30%\n",
            "Dataset and visualizations saved successfully\n",
            "\n",
            "Generating dataset: n=500, vars=6, lag=4, noise=gaussian, missing=10%\n",
            "Dataset and visualizations saved successfully\n",
            "\n",
            "Generating dataset: n=500, vars=6, lag=4, noise=gaussian, missing=20%\n",
            "Dataset and visualizations saved successfully\n",
            "\n",
            "Generating dataset: n=500, vars=6, lag=4, noise=gaussian, missing=30%\n",
            "Dataset and visualizations saved successfully\n",
            "\n",
            "Generating dataset: n=500, vars=6, lag=4, noise=student_t, missing=10%\n",
            "Dataset and visualizations saved successfully\n",
            "\n",
            "Generating dataset: n=500, vars=6, lag=4, noise=student_t, missing=20%\n",
            "Dataset and visualizations saved successfully\n",
            "\n",
            "Generating dataset: n=500, vars=6, lag=4, noise=student_t, missing=30%\n",
            "Dataset and visualizations saved successfully\n",
            "\n",
            "Generating dataset: n=500, vars=8, lag=2, noise=gaussian, missing=10%\n",
            "Dataset and visualizations saved successfully\n",
            "\n",
            "Generating dataset: n=500, vars=8, lag=2, noise=gaussian, missing=20%\n",
            "Dataset and visualizations saved successfully\n",
            "\n",
            "Generating dataset: n=500, vars=8, lag=2, noise=gaussian, missing=30%\n",
            "Dataset and visualizations saved successfully\n",
            "\n",
            "Generating dataset: n=500, vars=8, lag=2, noise=student_t, missing=10%\n",
            "Dataset and visualizations saved successfully\n",
            "\n",
            "Generating dataset: n=500, vars=8, lag=2, noise=student_t, missing=20%\n",
            "Dataset and visualizations saved successfully\n",
            "\n",
            "Generating dataset: n=500, vars=8, lag=2, noise=student_t, missing=30%\n",
            "Dataset and visualizations saved successfully\n",
            "\n",
            "Generating dataset: n=500, vars=8, lag=3, noise=gaussian, missing=10%\n",
            "Dataset and visualizations saved successfully\n",
            "\n",
            "Generating dataset: n=500, vars=8, lag=3, noise=gaussian, missing=20%\n",
            "Dataset and visualizations saved successfully\n",
            "\n",
            "Generating dataset: n=500, vars=8, lag=3, noise=gaussian, missing=30%\n",
            "Dataset and visualizations saved successfully\n",
            "\n",
            "Generating dataset: n=500, vars=8, lag=3, noise=student_t, missing=10%\n",
            "Dataset and visualizations saved successfully\n",
            "\n",
            "Generating dataset: n=500, vars=8, lag=3, noise=student_t, missing=20%\n",
            "Dataset and visualizations saved successfully\n",
            "\n",
            "Generating dataset: n=500, vars=8, lag=3, noise=student_t, missing=30%\n",
            "Dataset and visualizations saved successfully\n",
            "\n",
            "Generating dataset: n=500, vars=8, lag=4, noise=gaussian, missing=10%\n",
            "Dataset and visualizations saved successfully\n",
            "\n",
            "Generating dataset: n=500, vars=8, lag=4, noise=gaussian, missing=20%\n",
            "Dataset and visualizations saved successfully\n",
            "\n",
            "Generating dataset: n=500, vars=8, lag=4, noise=gaussian, missing=30%\n",
            "Dataset and visualizations saved successfully\n",
            "\n",
            "Generating dataset: n=500, vars=8, lag=4, noise=student_t, missing=10%\n",
            "Dataset and visualizations saved successfully\n",
            "\n",
            "Generating dataset: n=500, vars=8, lag=4, noise=student_t, missing=20%\n",
            "Dataset and visualizations saved successfully\n",
            "\n",
            "Generating dataset: n=500, vars=8, lag=4, noise=student_t, missing=30%\n",
            "Dataset and visualizations saved successfully\n",
            "\n",
            "Generating dataset: n=1000, vars=4, lag=2, noise=gaussian, missing=10%\n",
            "Dataset and visualizations saved successfully\n",
            "\n",
            "Generating dataset: n=1000, vars=4, lag=2, noise=gaussian, missing=20%\n",
            "Dataset and visualizations saved successfully\n",
            "\n",
            "Generating dataset: n=1000, vars=4, lag=2, noise=gaussian, missing=30%\n",
            "Dataset and visualizations saved successfully\n",
            "\n",
            "Generating dataset: n=1000, vars=4, lag=2, noise=student_t, missing=10%\n",
            "Dataset and visualizations saved successfully\n",
            "\n",
            "Generating dataset: n=1000, vars=4, lag=2, noise=student_t, missing=20%\n",
            "Dataset and visualizations saved successfully\n",
            "\n",
            "Generating dataset: n=1000, vars=4, lag=2, noise=student_t, missing=30%\n",
            "Dataset and visualizations saved successfully\n",
            "\n",
            "Generating dataset: n=1000, vars=4, lag=3, noise=gaussian, missing=10%\n",
            "Dataset and visualizations saved successfully\n",
            "\n",
            "Generating dataset: n=1000, vars=4, lag=3, noise=gaussian, missing=20%\n",
            "Dataset and visualizations saved successfully\n",
            "\n",
            "Generating dataset: n=1000, vars=4, lag=3, noise=gaussian, missing=30%\n",
            "Dataset and visualizations saved successfully\n",
            "\n",
            "Generating dataset: n=1000, vars=4, lag=3, noise=student_t, missing=10%\n",
            "Dataset and visualizations saved successfully\n",
            "\n",
            "Generating dataset: n=1000, vars=4, lag=3, noise=student_t, missing=20%\n",
            "Dataset and visualizations saved successfully\n",
            "\n",
            "Generating dataset: n=1000, vars=4, lag=3, noise=student_t, missing=30%\n",
            "Dataset and visualizations saved successfully\n",
            "\n",
            "Generating dataset: n=1000, vars=4, lag=4, noise=gaussian, missing=10%\n",
            "Dataset and visualizations saved successfully\n",
            "\n",
            "Generating dataset: n=1000, vars=4, lag=4, noise=gaussian, missing=20%\n",
            "Dataset and visualizations saved successfully\n",
            "\n",
            "Generating dataset: n=1000, vars=4, lag=4, noise=gaussian, missing=30%\n",
            "Dataset and visualizations saved successfully\n",
            "\n",
            "Generating dataset: n=1000, vars=4, lag=4, noise=student_t, missing=10%\n",
            "Dataset and visualizations saved successfully\n",
            "\n",
            "Generating dataset: n=1000, vars=4, lag=4, noise=student_t, missing=20%\n",
            "Dataset and visualizations saved successfully\n",
            "\n",
            "Generating dataset: n=1000, vars=4, lag=4, noise=student_t, missing=30%\n",
            "Dataset and visualizations saved successfully\n",
            "\n",
            "Generating dataset: n=1000, vars=6, lag=2, noise=gaussian, missing=10%\n",
            "Dataset and visualizations saved successfully\n",
            "\n",
            "Generating dataset: n=1000, vars=6, lag=2, noise=gaussian, missing=20%\n",
            "Dataset and visualizations saved successfully\n",
            "\n",
            "Generating dataset: n=1000, vars=6, lag=2, noise=gaussian, missing=30%\n",
            "Dataset and visualizations saved successfully\n",
            "\n",
            "Generating dataset: n=1000, vars=6, lag=2, noise=student_t, missing=10%\n",
            "Dataset and visualizations saved successfully\n",
            "\n",
            "Generating dataset: n=1000, vars=6, lag=2, noise=student_t, missing=20%\n",
            "Dataset and visualizations saved successfully\n",
            "\n",
            "Generating dataset: n=1000, vars=6, lag=2, noise=student_t, missing=30%\n",
            "Dataset and visualizations saved successfully\n",
            "\n",
            "Generating dataset: n=1000, vars=6, lag=3, noise=gaussian, missing=10%\n",
            "Dataset and visualizations saved successfully\n",
            "\n",
            "Generating dataset: n=1000, vars=6, lag=3, noise=gaussian, missing=20%\n",
            "Dataset and visualizations saved successfully\n",
            "\n",
            "Generating dataset: n=1000, vars=6, lag=3, noise=gaussian, missing=30%\n",
            "Dataset and visualizations saved successfully\n",
            "\n",
            "Generating dataset: n=1000, vars=6, lag=3, noise=student_t, missing=10%\n",
            "Dataset and visualizations saved successfully\n",
            "\n",
            "Generating dataset: n=1000, vars=6, lag=3, noise=student_t, missing=20%\n",
            "Dataset and visualizations saved successfully\n",
            "\n",
            "Generating dataset: n=1000, vars=6, lag=3, noise=student_t, missing=30%\n",
            "Dataset and visualizations saved successfully\n",
            "\n",
            "Generating dataset: n=1000, vars=6, lag=4, noise=gaussian, missing=10%\n",
            "Dataset and visualizations saved successfully\n",
            "\n",
            "Generating dataset: n=1000, vars=6, lag=4, noise=gaussian, missing=20%\n",
            "Dataset and visualizations saved successfully\n",
            "\n",
            "Generating dataset: n=1000, vars=6, lag=4, noise=gaussian, missing=30%\n",
            "Dataset and visualizations saved successfully\n",
            "\n",
            "Generating dataset: n=1000, vars=6, lag=4, noise=student_t, missing=10%\n",
            "Dataset and visualizations saved successfully\n",
            "\n",
            "Generating dataset: n=1000, vars=6, lag=4, noise=student_t, missing=20%\n",
            "Dataset and visualizations saved successfully\n",
            "\n",
            "Generating dataset: n=1000, vars=6, lag=4, noise=student_t, missing=30%\n",
            "Dataset and visualizations saved successfully\n",
            "\n",
            "Generating dataset: n=1000, vars=8, lag=2, noise=gaussian, missing=10%\n",
            "Dataset and visualizations saved successfully\n",
            "\n",
            "Generating dataset: n=1000, vars=8, lag=2, noise=gaussian, missing=20%\n",
            "Dataset and visualizations saved successfully\n",
            "\n",
            "Generating dataset: n=1000, vars=8, lag=2, noise=gaussian, missing=30%\n",
            "Dataset and visualizations saved successfully\n",
            "\n",
            "Generating dataset: n=1000, vars=8, lag=2, noise=student_t, missing=10%\n",
            "Dataset and visualizations saved successfully\n",
            "\n",
            "Generating dataset: n=1000, vars=8, lag=2, noise=student_t, missing=20%\n",
            "Dataset and visualizations saved successfully\n",
            "\n",
            "Generating dataset: n=1000, vars=8, lag=2, noise=student_t, missing=30%\n",
            "Dataset and visualizations saved successfully\n",
            "\n",
            "Generating dataset: n=1000, vars=8, lag=3, noise=gaussian, missing=10%\n",
            "Dataset and visualizations saved successfully\n",
            "\n",
            "Generating dataset: n=1000, vars=8, lag=3, noise=gaussian, missing=20%\n",
            "Dataset and visualizations saved successfully\n",
            "\n",
            "Generating dataset: n=1000, vars=8, lag=3, noise=gaussian, missing=30%\n",
            "Dataset and visualizations saved successfully\n",
            "\n",
            "Generating dataset: n=1000, vars=8, lag=3, noise=student_t, missing=10%\n",
            "Dataset and visualizations saved successfully\n",
            "\n",
            "Generating dataset: n=1000, vars=8, lag=3, noise=student_t, missing=20%\n",
            "Dataset and visualizations saved successfully\n",
            "\n",
            "Generating dataset: n=1000, vars=8, lag=3, noise=student_t, missing=30%\n",
            "Dataset and visualizations saved successfully\n",
            "\n",
            "Generating dataset: n=1000, vars=8, lag=4, noise=gaussian, missing=10%\n",
            "Dataset and visualizations saved successfully\n",
            "\n",
            "Generating dataset: n=1000, vars=8, lag=4, noise=gaussian, missing=20%\n",
            "Dataset and visualizations saved successfully\n",
            "\n",
            "Generating dataset: n=1000, vars=8, lag=4, noise=gaussian, missing=30%\n",
            "Dataset and visualizations saved successfully\n",
            "\n",
            "Generating dataset: n=1000, vars=8, lag=4, noise=student_t, missing=10%\n",
            "Dataset and visualizations saved successfully\n",
            "\n",
            "Generating dataset: n=1000, vars=8, lag=4, noise=student_t, missing=20%\n",
            "Dataset and visualizations saved successfully\n",
            "\n",
            "Generating dataset: n=1000, vars=8, lag=4, noise=student_t, missing=30%\n",
            "Dataset and visualizations saved successfully\n",
            "\n",
            "Generating dataset: n=3000, vars=4, lag=2, noise=gaussian, missing=10%\n",
            "Dataset and visualizations saved successfully\n",
            "\n",
            "Generating dataset: n=3000, vars=4, lag=2, noise=gaussian, missing=20%\n",
            "Dataset and visualizations saved successfully\n",
            "\n",
            "Generating dataset: n=3000, vars=4, lag=2, noise=gaussian, missing=30%\n",
            "Dataset and visualizations saved successfully\n",
            "\n",
            "Generating dataset: n=3000, vars=4, lag=2, noise=student_t, missing=10%\n",
            "Dataset and visualizations saved successfully\n",
            "\n",
            "Generating dataset: n=3000, vars=4, lag=2, noise=student_t, missing=20%\n",
            "Dataset and visualizations saved successfully\n",
            "\n",
            "Generating dataset: n=3000, vars=4, lag=2, noise=student_t, missing=30%\n",
            "Dataset and visualizations saved successfully\n",
            "\n",
            "Generating dataset: n=3000, vars=4, lag=3, noise=gaussian, missing=10%\n",
            "Dataset and visualizations saved successfully\n",
            "\n",
            "Generating dataset: n=3000, vars=4, lag=3, noise=gaussian, missing=20%\n",
            "Dataset and visualizations saved successfully\n",
            "\n",
            "Generating dataset: n=3000, vars=4, lag=3, noise=gaussian, missing=30%\n",
            "Dataset and visualizations saved successfully\n",
            "\n",
            "Generating dataset: n=3000, vars=4, lag=3, noise=student_t, missing=10%\n",
            "Dataset and visualizations saved successfully\n",
            "\n",
            "Generating dataset: n=3000, vars=4, lag=3, noise=student_t, missing=20%\n",
            "Dataset and visualizations saved successfully\n",
            "\n",
            "Generating dataset: n=3000, vars=4, lag=3, noise=student_t, missing=30%\n",
            "Dataset and visualizations saved successfully\n",
            "\n",
            "Generating dataset: n=3000, vars=4, lag=4, noise=gaussian, missing=10%\n",
            "Dataset and visualizations saved successfully\n",
            "\n",
            "Generating dataset: n=3000, vars=4, lag=4, noise=gaussian, missing=20%\n",
            "Dataset and visualizations saved successfully\n",
            "\n",
            "Generating dataset: n=3000, vars=4, lag=4, noise=gaussian, missing=30%\n",
            "Dataset and visualizations saved successfully\n",
            "\n",
            "Generating dataset: n=3000, vars=4, lag=4, noise=student_t, missing=10%\n",
            "Dataset and visualizations saved successfully\n",
            "\n",
            "Generating dataset: n=3000, vars=4, lag=4, noise=student_t, missing=20%\n",
            "Dataset and visualizations saved successfully\n",
            "\n",
            "Generating dataset: n=3000, vars=4, lag=4, noise=student_t, missing=30%\n",
            "Dataset and visualizations saved successfully\n",
            "\n",
            "Generating dataset: n=3000, vars=6, lag=2, noise=gaussian, missing=10%\n",
            "Dataset and visualizations saved successfully\n",
            "\n",
            "Generating dataset: n=3000, vars=6, lag=2, noise=gaussian, missing=20%\n",
            "Dataset and visualizations saved successfully\n",
            "\n",
            "Generating dataset: n=3000, vars=6, lag=2, noise=gaussian, missing=30%\n",
            "Dataset and visualizations saved successfully\n",
            "\n",
            "Generating dataset: n=3000, vars=6, lag=2, noise=student_t, missing=10%\n",
            "Dataset and visualizations saved successfully\n",
            "\n",
            "Generating dataset: n=3000, vars=6, lag=2, noise=student_t, missing=20%\n",
            "Dataset and visualizations saved successfully\n",
            "\n",
            "Generating dataset: n=3000, vars=6, lag=2, noise=student_t, missing=30%\n",
            "Dataset and visualizations saved successfully\n",
            "\n",
            "Generating dataset: n=3000, vars=6, lag=3, noise=gaussian, missing=10%\n",
            "Dataset and visualizations saved successfully\n",
            "\n",
            "Generating dataset: n=3000, vars=6, lag=3, noise=gaussian, missing=20%\n",
            "Dataset and visualizations saved successfully\n",
            "\n",
            "Generating dataset: n=3000, vars=6, lag=3, noise=gaussian, missing=30%\n",
            "Dataset and visualizations saved successfully\n",
            "\n",
            "Generating dataset: n=3000, vars=6, lag=3, noise=student_t, missing=10%\n",
            "Dataset and visualizations saved successfully\n",
            "\n",
            "Generating dataset: n=3000, vars=6, lag=3, noise=student_t, missing=20%\n",
            "Dataset and visualizations saved successfully\n",
            "\n",
            "Generating dataset: n=3000, vars=6, lag=3, noise=student_t, missing=30%\n",
            "Dataset and visualizations saved successfully\n",
            "\n",
            "Generating dataset: n=3000, vars=6, lag=4, noise=gaussian, missing=10%\n",
            "Dataset and visualizations saved successfully\n",
            "\n",
            "Generating dataset: n=3000, vars=6, lag=4, noise=gaussian, missing=20%\n",
            "Dataset and visualizations saved successfully\n",
            "\n",
            "Generating dataset: n=3000, vars=6, lag=4, noise=gaussian, missing=30%\n",
            "Dataset and visualizations saved successfully\n",
            "\n",
            "Generating dataset: n=3000, vars=6, lag=4, noise=student_t, missing=10%\n",
            "Dataset and visualizations saved successfully\n",
            "\n",
            "Generating dataset: n=3000, vars=6, lag=4, noise=student_t, missing=20%\n",
            "Dataset and visualizations saved successfully\n",
            "\n",
            "Generating dataset: n=3000, vars=6, lag=4, noise=student_t, missing=30%\n",
            "Dataset and visualizations saved successfully\n",
            "\n",
            "Generating dataset: n=3000, vars=8, lag=2, noise=gaussian, missing=10%\n",
            "Dataset and visualizations saved successfully\n",
            "\n",
            "Generating dataset: n=3000, vars=8, lag=2, noise=gaussian, missing=20%\n",
            "Dataset and visualizations saved successfully\n",
            "\n",
            "Generating dataset: n=3000, vars=8, lag=2, noise=gaussian, missing=30%\n",
            "Dataset and visualizations saved successfully\n",
            "\n",
            "Generating dataset: n=3000, vars=8, lag=2, noise=student_t, missing=10%\n",
            "Dataset and visualizations saved successfully\n",
            "\n",
            "Generating dataset: n=3000, vars=8, lag=2, noise=student_t, missing=20%\n",
            "Dataset and visualizations saved successfully\n",
            "\n",
            "Generating dataset: n=3000, vars=8, lag=2, noise=student_t, missing=30%\n",
            "Dataset and visualizations saved successfully\n",
            "\n",
            "Generating dataset: n=3000, vars=8, lag=3, noise=gaussian, missing=10%\n",
            "Dataset and visualizations saved successfully\n",
            "\n",
            "Generating dataset: n=3000, vars=8, lag=3, noise=gaussian, missing=20%\n",
            "Dataset and visualizations saved successfully\n",
            "\n",
            "Generating dataset: n=3000, vars=8, lag=3, noise=gaussian, missing=30%\n",
            "Dataset and visualizations saved successfully\n",
            "\n",
            "Generating dataset: n=3000, vars=8, lag=3, noise=student_t, missing=10%\n",
            "Dataset and visualizations saved successfully\n",
            "\n",
            "Generating dataset: n=3000, vars=8, lag=3, noise=student_t, missing=20%\n",
            "Dataset and visualizations saved successfully\n",
            "\n",
            "Generating dataset: n=3000, vars=8, lag=3, noise=student_t, missing=30%\n",
            "Dataset and visualizations saved successfully\n",
            "\n",
            "Generating dataset: n=3000, vars=8, lag=4, noise=gaussian, missing=10%\n",
            "Dataset and visualizations saved successfully\n",
            "\n",
            "Generating dataset: n=3000, vars=8, lag=4, noise=gaussian, missing=20%\n",
            "Dataset and visualizations saved successfully\n",
            "\n",
            "Generating dataset: n=3000, vars=8, lag=4, noise=gaussian, missing=30%\n",
            "Dataset and visualizations saved successfully\n",
            "\n",
            "Generating dataset: n=3000, vars=8, lag=4, noise=student_t, missing=10%\n",
            "Dataset and visualizations saved successfully\n",
            "\n",
            "Generating dataset: n=3000, vars=8, lag=4, noise=student_t, missing=20%\n",
            "Dataset and visualizations saved successfully\n",
            "\n",
            "Generating dataset: n=3000, vars=8, lag=4, noise=student_t, missing=30%\n",
            "Dataset and visualizations saved successfully\n",
            "\n",
            "Generating dataset: n=5000, vars=4, lag=2, noise=gaussian, missing=10%\n",
            "Dataset and visualizations saved successfully\n",
            "\n",
            "Generating dataset: n=5000, vars=4, lag=2, noise=gaussian, missing=20%\n",
            "Dataset and visualizations saved successfully\n",
            "\n",
            "Generating dataset: n=5000, vars=4, lag=2, noise=gaussian, missing=30%\n",
            "Dataset and visualizations saved successfully\n",
            "\n",
            "Generating dataset: n=5000, vars=4, lag=2, noise=student_t, missing=10%\n",
            "Dataset and visualizations saved successfully\n",
            "\n",
            "Generating dataset: n=5000, vars=4, lag=2, noise=student_t, missing=20%\n",
            "Dataset and visualizations saved successfully\n",
            "\n",
            "Generating dataset: n=5000, vars=4, lag=2, noise=student_t, missing=30%\n",
            "Dataset and visualizations saved successfully\n",
            "\n",
            "Generating dataset: n=5000, vars=4, lag=3, noise=gaussian, missing=10%\n",
            "Dataset and visualizations saved successfully\n",
            "\n",
            "Generating dataset: n=5000, vars=4, lag=3, noise=gaussian, missing=20%\n",
            "Dataset and visualizations saved successfully\n",
            "\n",
            "Generating dataset: n=5000, vars=4, lag=3, noise=gaussian, missing=30%\n",
            "Dataset and visualizations saved successfully\n",
            "\n",
            "Generating dataset: n=5000, vars=4, lag=3, noise=student_t, missing=10%\n",
            "Dataset and visualizations saved successfully\n",
            "\n",
            "Generating dataset: n=5000, vars=4, lag=3, noise=student_t, missing=20%\n",
            "Dataset and visualizations saved successfully\n",
            "\n",
            "Generating dataset: n=5000, vars=4, lag=3, noise=student_t, missing=30%\n",
            "Dataset and visualizations saved successfully\n",
            "\n",
            "Generating dataset: n=5000, vars=4, lag=4, noise=gaussian, missing=10%\n",
            "Dataset and visualizations saved successfully\n",
            "\n",
            "Generating dataset: n=5000, vars=4, lag=4, noise=gaussian, missing=20%\n",
            "Dataset and visualizations saved successfully\n",
            "\n",
            "Generating dataset: n=5000, vars=4, lag=4, noise=gaussian, missing=30%\n",
            "Dataset and visualizations saved successfully\n",
            "\n",
            "Generating dataset: n=5000, vars=4, lag=4, noise=student_t, missing=10%\n",
            "Dataset and visualizations saved successfully\n",
            "\n",
            "Generating dataset: n=5000, vars=4, lag=4, noise=student_t, missing=20%\n",
            "Dataset and visualizations saved successfully\n",
            "\n",
            "Generating dataset: n=5000, vars=4, lag=4, noise=student_t, missing=30%\n",
            "Dataset and visualizations saved successfully\n",
            "\n",
            "Generating dataset: n=5000, vars=6, lag=2, noise=gaussian, missing=10%\n",
            "Dataset and visualizations saved successfully\n",
            "\n",
            "Generating dataset: n=5000, vars=6, lag=2, noise=gaussian, missing=20%\n",
            "Dataset and visualizations saved successfully\n",
            "\n",
            "Generating dataset: n=5000, vars=6, lag=2, noise=gaussian, missing=30%\n",
            "Dataset and visualizations saved successfully\n",
            "\n",
            "Generating dataset: n=5000, vars=6, lag=2, noise=student_t, missing=10%\n",
            "Dataset and visualizations saved successfully\n",
            "\n",
            "Generating dataset: n=5000, vars=6, lag=2, noise=student_t, missing=20%\n",
            "Dataset and visualizations saved successfully\n",
            "\n",
            "Generating dataset: n=5000, vars=6, lag=2, noise=student_t, missing=30%\n",
            "Dataset and visualizations saved successfully\n",
            "\n",
            "Generating dataset: n=5000, vars=6, lag=3, noise=gaussian, missing=10%\n",
            "Dataset and visualizations saved successfully\n",
            "\n",
            "Generating dataset: n=5000, vars=6, lag=3, noise=gaussian, missing=20%\n",
            "Dataset and visualizations saved successfully\n",
            "\n",
            "Generating dataset: n=5000, vars=6, lag=3, noise=gaussian, missing=30%\n",
            "Dataset and visualizations saved successfully\n",
            "\n",
            "Generating dataset: n=5000, vars=6, lag=3, noise=student_t, missing=10%\n",
            "Dataset and visualizations saved successfully\n",
            "\n",
            "Generating dataset: n=5000, vars=6, lag=3, noise=student_t, missing=20%\n",
            "Dataset and visualizations saved successfully\n",
            "\n",
            "Generating dataset: n=5000, vars=6, lag=3, noise=student_t, missing=30%\n",
            "Dataset and visualizations saved successfully\n",
            "\n",
            "Generating dataset: n=5000, vars=6, lag=4, noise=gaussian, missing=10%\n",
            "Dataset and visualizations saved successfully\n",
            "\n",
            "Generating dataset: n=5000, vars=6, lag=4, noise=gaussian, missing=20%\n",
            "Dataset and visualizations saved successfully\n",
            "\n",
            "Generating dataset: n=5000, vars=6, lag=4, noise=gaussian, missing=30%\n",
            "Dataset and visualizations saved successfully\n",
            "\n",
            "Generating dataset: n=5000, vars=6, lag=4, noise=student_t, missing=10%\n",
            "Dataset and visualizations saved successfully\n",
            "\n",
            "Generating dataset: n=5000, vars=6, lag=4, noise=student_t, missing=20%\n",
            "Dataset and visualizations saved successfully\n",
            "\n",
            "Generating dataset: n=5000, vars=6, lag=4, noise=student_t, missing=30%\n",
            "Dataset and visualizations saved successfully\n",
            "\n",
            "Generating dataset: n=5000, vars=8, lag=2, noise=gaussian, missing=10%\n",
            "Dataset and visualizations saved successfully\n",
            "\n",
            "Generating dataset: n=5000, vars=8, lag=2, noise=gaussian, missing=20%\n",
            "Dataset and visualizations saved successfully\n",
            "\n",
            "Generating dataset: n=5000, vars=8, lag=2, noise=gaussian, missing=30%\n",
            "Dataset and visualizations saved successfully\n",
            "\n",
            "Generating dataset: n=5000, vars=8, lag=2, noise=student_t, missing=10%\n",
            "Dataset and visualizations saved successfully\n",
            "\n",
            "Generating dataset: n=5000, vars=8, lag=2, noise=student_t, missing=20%\n",
            "Dataset and visualizations saved successfully\n",
            "\n",
            "Generating dataset: n=5000, vars=8, lag=2, noise=student_t, missing=30%\n",
            "Dataset and visualizations saved successfully\n",
            "\n",
            "Generating dataset: n=5000, vars=8, lag=3, noise=gaussian, missing=10%\n",
            "Dataset and visualizations saved successfully\n",
            "\n",
            "Generating dataset: n=5000, vars=8, lag=3, noise=gaussian, missing=20%\n",
            "Dataset and visualizations saved successfully\n",
            "\n",
            "Generating dataset: n=5000, vars=8, lag=3, noise=gaussian, missing=30%\n",
            "Dataset and visualizations saved successfully\n",
            "\n",
            "Generating dataset: n=5000, vars=8, lag=3, noise=student_t, missing=10%\n",
            "Dataset and visualizations saved successfully\n",
            "\n",
            "Generating dataset: n=5000, vars=8, lag=3, noise=student_t, missing=20%\n",
            "Dataset and visualizations saved successfully\n",
            "\n",
            "Generating dataset: n=5000, vars=8, lag=3, noise=student_t, missing=30%\n",
            "Dataset and visualizations saved successfully\n",
            "\n",
            "Generating dataset: n=5000, vars=8, lag=4, noise=gaussian, missing=10%\n",
            "Dataset and visualizations saved successfully\n",
            "\n",
            "Generating dataset: n=5000, vars=8, lag=4, noise=gaussian, missing=20%\n",
            "Dataset and visualizations saved successfully\n",
            "\n",
            "Generating dataset: n=5000, vars=8, lag=4, noise=gaussian, missing=30%\n",
            "Dataset and visualizations saved successfully\n",
            "\n",
            "Generating dataset: n=5000, vars=8, lag=4, noise=student_t, missing=10%\n",
            "Dataset and visualizations saved successfully\n",
            "\n",
            "Generating dataset: n=5000, vars=8, lag=4, noise=student_t, missing=20%\n",
            "Dataset and visualizations saved successfully\n",
            "\n",
            "Generating dataset: n=5000, vars=8, lag=4, noise=student_t, missing=30%\n",
            "Dataset and visualizations saved successfully\n"
          ]
        },
        {
          "output_type": "display_data",
          "data": {
            "text/plain": [
              "<Figure size 1200x1200 with 0 Axes>"
            ]
          },
          "metadata": {}
        },
        {
          "output_type": "display_data",
          "data": {
            "text/plain": [
              "<Figure size 1200x1200 with 0 Axes>"
            ]
          },
          "metadata": {}
        },
        {
          "output_type": "display_data",
          "data": {
            "text/plain": [
              "<Figure size 1200x1200 with 0 Axes>"
            ]
          },
          "metadata": {}
        },
        {
          "output_type": "display_data",
          "data": {
            "text/plain": [
              "<Figure size 1200x1200 with 0 Axes>"
            ]
          },
          "metadata": {}
        },
        {
          "output_type": "display_data",
          "data": {
            "text/plain": [
              "<Figure size 1200x1200 with 0 Axes>"
            ]
          },
          "metadata": {}
        },
        {
          "output_type": "display_data",
          "data": {
            "text/plain": [
              "<Figure size 1200x1200 with 0 Axes>"
            ]
          },
          "metadata": {}
        },
        {
          "output_type": "display_data",
          "data": {
            "text/plain": [
              "<Figure size 1200x1200 with 0 Axes>"
            ]
          },
          "metadata": {}
        },
        {
          "output_type": "display_data",
          "data": {
            "text/plain": [
              "<Figure size 1200x1200 with 0 Axes>"
            ]
          },
          "metadata": {}
        },
        {
          "output_type": "display_data",
          "data": {
            "text/plain": [
              "<Figure size 1200x1200 with 0 Axes>"
            ]
          },
          "metadata": {}
        },
        {
          "output_type": "display_data",
          "data": {
            "text/plain": [
              "<Figure size 1200x1200 with 0 Axes>"
            ]
          },
          "metadata": {}
        },
        {
          "output_type": "display_data",
          "data": {
            "text/plain": [
              "<Figure size 1200x1200 with 0 Axes>"
            ]
          },
          "metadata": {}
        },
        {
          "output_type": "display_data",
          "data": {
            "text/plain": [
              "<Figure size 1200x1200 with 0 Axes>"
            ]
          },
          "metadata": {}
        },
        {
          "output_type": "display_data",
          "data": {
            "text/plain": [
              "<Figure size 1200x1200 with 0 Axes>"
            ]
          },
          "metadata": {}
        },
        {
          "output_type": "display_data",
          "data": {
            "text/plain": [
              "<Figure size 1200x1200 with 0 Axes>"
            ]
          },
          "metadata": {}
        },
        {
          "output_type": "display_data",
          "data": {
            "text/plain": [
              "<Figure size 1200x1200 with 0 Axes>"
            ]
          },
          "metadata": {}
        },
        {
          "output_type": "display_data",
          "data": {
            "text/plain": [
              "<Figure size 1200x1200 with 0 Axes>"
            ]
          },
          "metadata": {}
        },
        {
          "output_type": "display_data",
          "data": {
            "text/plain": [
              "<Figure size 1200x1200 with 0 Axes>"
            ]
          },
          "metadata": {}
        },
        {
          "output_type": "display_data",
          "data": {
            "text/plain": [
              "<Figure size 1200x1200 with 0 Axes>"
            ]
          },
          "metadata": {}
        },
        {
          "output_type": "display_data",
          "data": {
            "text/plain": [
              "<Figure size 1200x1200 with 0 Axes>"
            ]
          },
          "metadata": {}
        },
        {
          "output_type": "display_data",
          "data": {
            "text/plain": [
              "<Figure size 1200x1200 with 0 Axes>"
            ]
          },
          "metadata": {}
        },
        {
          "output_type": "display_data",
          "data": {
            "text/plain": [
              "<Figure size 1200x1200 with 0 Axes>"
            ]
          },
          "metadata": {}
        },
        {
          "output_type": "display_data",
          "data": {
            "text/plain": [
              "<Figure size 1200x1200 with 0 Axes>"
            ]
          },
          "metadata": {}
        },
        {
          "output_type": "display_data",
          "data": {
            "text/plain": [
              "<Figure size 1200x1200 with 0 Axes>"
            ]
          },
          "metadata": {}
        },
        {
          "output_type": "display_data",
          "data": {
            "text/plain": [
              "<Figure size 1200x1200 with 0 Axes>"
            ]
          },
          "metadata": {}
        },
        {
          "output_type": "display_data",
          "data": {
            "text/plain": [
              "<Figure size 1200x1200 with 0 Axes>"
            ]
          },
          "metadata": {}
        },
        {
          "output_type": "display_data",
          "data": {
            "text/plain": [
              "<Figure size 1200x1200 with 0 Axes>"
            ]
          },
          "metadata": {}
        },
        {
          "output_type": "display_data",
          "data": {
            "text/plain": [
              "<Figure size 1200x1200 with 0 Axes>"
            ]
          },
          "metadata": {}
        },
        {
          "output_type": "display_data",
          "data": {
            "text/plain": [
              "<Figure size 1200x1200 with 0 Axes>"
            ]
          },
          "metadata": {}
        },
        {
          "output_type": "display_data",
          "data": {
            "text/plain": [
              "<Figure size 1200x1200 with 0 Axes>"
            ]
          },
          "metadata": {}
        },
        {
          "output_type": "display_data",
          "data": {
            "text/plain": [
              "<Figure size 1200x1200 with 0 Axes>"
            ]
          },
          "metadata": {}
        },
        {
          "output_type": "display_data",
          "data": {
            "text/plain": [
              "<Figure size 1200x1200 with 0 Axes>"
            ]
          },
          "metadata": {}
        },
        {
          "output_type": "display_data",
          "data": {
            "text/plain": [
              "<Figure size 1200x1200 with 0 Axes>"
            ]
          },
          "metadata": {}
        },
        {
          "output_type": "display_data",
          "data": {
            "text/plain": [
              "<Figure size 1200x1200 with 0 Axes>"
            ]
          },
          "metadata": {}
        },
        {
          "output_type": "display_data",
          "data": {
            "text/plain": [
              "<Figure size 1200x1200 with 0 Axes>"
            ]
          },
          "metadata": {}
        },
        {
          "output_type": "display_data",
          "data": {
            "text/plain": [
              "<Figure size 1200x1200 with 0 Axes>"
            ]
          },
          "metadata": {}
        },
        {
          "output_type": "display_data",
          "data": {
            "text/plain": [
              "<Figure size 1200x1200 with 0 Axes>"
            ]
          },
          "metadata": {}
        },
        {
          "output_type": "display_data",
          "data": {
            "text/plain": [
              "<Figure size 1200x1200 with 0 Axes>"
            ]
          },
          "metadata": {}
        },
        {
          "output_type": "display_data",
          "data": {
            "text/plain": [
              "<Figure size 1200x1200 with 0 Axes>"
            ]
          },
          "metadata": {}
        },
        {
          "output_type": "display_data",
          "data": {
            "text/plain": [
              "<Figure size 1200x1200 with 0 Axes>"
            ]
          },
          "metadata": {}
        },
        {
          "output_type": "display_data",
          "data": {
            "text/plain": [
              "<Figure size 1200x1200 with 0 Axes>"
            ]
          },
          "metadata": {}
        },
        {
          "output_type": "display_data",
          "data": {
            "text/plain": [
              "<Figure size 1200x1200 with 0 Axes>"
            ]
          },
          "metadata": {}
        },
        {
          "output_type": "display_data",
          "data": {
            "text/plain": [
              "<Figure size 1200x1200 with 0 Axes>"
            ]
          },
          "metadata": {}
        },
        {
          "output_type": "display_data",
          "data": {
            "text/plain": [
              "<Figure size 1200x1200 with 0 Axes>"
            ]
          },
          "metadata": {}
        },
        {
          "output_type": "display_data",
          "data": {
            "text/plain": [
              "<Figure size 1200x1200 with 0 Axes>"
            ]
          },
          "metadata": {}
        },
        {
          "output_type": "display_data",
          "data": {
            "text/plain": [
              "<Figure size 1200x1200 with 0 Axes>"
            ]
          },
          "metadata": {}
        },
        {
          "output_type": "display_data",
          "data": {
            "text/plain": [
              "<Figure size 1200x1200 with 0 Axes>"
            ]
          },
          "metadata": {}
        },
        {
          "output_type": "display_data",
          "data": {
            "text/plain": [
              "<Figure size 1200x1200 with 0 Axes>"
            ]
          },
          "metadata": {}
        },
        {
          "output_type": "display_data",
          "data": {
            "text/plain": [
              "<Figure size 1200x1200 with 0 Axes>"
            ]
          },
          "metadata": {}
        },
        {
          "output_type": "display_data",
          "data": {
            "text/plain": [
              "<Figure size 1200x1200 with 0 Axes>"
            ]
          },
          "metadata": {}
        },
        {
          "output_type": "display_data",
          "data": {
            "text/plain": [
              "<Figure size 1200x1200 with 0 Axes>"
            ]
          },
          "metadata": {}
        },
        {
          "output_type": "display_data",
          "data": {
            "text/plain": [
              "<Figure size 1200x1200 with 0 Axes>"
            ]
          },
          "metadata": {}
        },
        {
          "output_type": "display_data",
          "data": {
            "text/plain": [
              "<Figure size 1200x1200 with 0 Axes>"
            ]
          },
          "metadata": {}
        },
        {
          "output_type": "display_data",
          "data": {
            "text/plain": [
              "<Figure size 1200x1200 with 0 Axes>"
            ]
          },
          "metadata": {}
        },
        {
          "output_type": "display_data",
          "data": {
            "text/plain": [
              "<Figure size 1200x1200 with 0 Axes>"
            ]
          },
          "metadata": {}
        },
        {
          "output_type": "display_data",
          "data": {
            "text/plain": [
              "<Figure size 1200x1200 with 0 Axes>"
            ]
          },
          "metadata": {}
        },
        {
          "output_type": "display_data",
          "data": {
            "text/plain": [
              "<Figure size 1200x1200 with 0 Axes>"
            ]
          },
          "metadata": {}
        },
        {
          "output_type": "display_data",
          "data": {
            "text/plain": [
              "<Figure size 1200x1200 with 0 Axes>"
            ]
          },
          "metadata": {}
        },
        {
          "output_type": "display_data",
          "data": {
            "text/plain": [
              "<Figure size 1200x1200 with 0 Axes>"
            ]
          },
          "metadata": {}
        },
        {
          "output_type": "display_data",
          "data": {
            "text/plain": [
              "<Figure size 1200x1200 with 0 Axes>"
            ]
          },
          "metadata": {}
        },
        {
          "output_type": "display_data",
          "data": {
            "text/plain": [
              "<Figure size 1200x1200 with 0 Axes>"
            ]
          },
          "metadata": {}
        },
        {
          "output_type": "display_data",
          "data": {
            "text/plain": [
              "<Figure size 1200x1200 with 0 Axes>"
            ]
          },
          "metadata": {}
        },
        {
          "output_type": "display_data",
          "data": {
            "text/plain": [
              "<Figure size 1200x1200 with 0 Axes>"
            ]
          },
          "metadata": {}
        },
        {
          "output_type": "display_data",
          "data": {
            "text/plain": [
              "<Figure size 1200x1200 with 0 Axes>"
            ]
          },
          "metadata": {}
        },
        {
          "output_type": "display_data",
          "data": {
            "text/plain": [
              "<Figure size 1200x1200 with 0 Axes>"
            ]
          },
          "metadata": {}
        },
        {
          "output_type": "display_data",
          "data": {
            "text/plain": [
              "<Figure size 1200x1200 with 0 Axes>"
            ]
          },
          "metadata": {}
        },
        {
          "output_type": "display_data",
          "data": {
            "text/plain": [
              "<Figure size 1200x1200 with 0 Axes>"
            ]
          },
          "metadata": {}
        },
        {
          "output_type": "display_data",
          "data": {
            "text/plain": [
              "<Figure size 1200x1200 with 0 Axes>"
            ]
          },
          "metadata": {}
        },
        {
          "output_type": "display_data",
          "data": {
            "text/plain": [
              "<Figure size 1200x1200 with 0 Axes>"
            ]
          },
          "metadata": {}
        },
        {
          "output_type": "display_data",
          "data": {
            "text/plain": [
              "<Figure size 1200x1200 with 0 Axes>"
            ]
          },
          "metadata": {}
        },
        {
          "output_type": "display_data",
          "data": {
            "text/plain": [
              "<Figure size 1200x1200 with 0 Axes>"
            ]
          },
          "metadata": {}
        },
        {
          "output_type": "display_data",
          "data": {
            "text/plain": [
              "<Figure size 1200x1200 with 0 Axes>"
            ]
          },
          "metadata": {}
        },
        {
          "output_type": "display_data",
          "data": {
            "text/plain": [
              "<Figure size 1200x1200 with 0 Axes>"
            ]
          },
          "metadata": {}
        },
        {
          "output_type": "display_data",
          "data": {
            "text/plain": [
              "<Figure size 1200x1200 with 0 Axes>"
            ]
          },
          "metadata": {}
        },
        {
          "output_type": "display_data",
          "data": {
            "text/plain": [
              "<Figure size 1200x1200 with 0 Axes>"
            ]
          },
          "metadata": {}
        },
        {
          "output_type": "display_data",
          "data": {
            "text/plain": [
              "<Figure size 1200x1200 with 0 Axes>"
            ]
          },
          "metadata": {}
        },
        {
          "output_type": "display_data",
          "data": {
            "text/plain": [
              "<Figure size 1200x1200 with 0 Axes>"
            ]
          },
          "metadata": {}
        },
        {
          "output_type": "display_data",
          "data": {
            "text/plain": [
              "<Figure size 1200x1200 with 0 Axes>"
            ]
          },
          "metadata": {}
        },
        {
          "output_type": "display_data",
          "data": {
            "text/plain": [
              "<Figure size 1200x1200 with 0 Axes>"
            ]
          },
          "metadata": {}
        },
        {
          "output_type": "display_data",
          "data": {
            "text/plain": [
              "<Figure size 1200x1200 with 0 Axes>"
            ]
          },
          "metadata": {}
        },
        {
          "output_type": "display_data",
          "data": {
            "text/plain": [
              "<Figure size 1200x1200 with 0 Axes>"
            ]
          },
          "metadata": {}
        },
        {
          "output_type": "display_data",
          "data": {
            "text/plain": [
              "<Figure size 1200x1200 with 0 Axes>"
            ]
          },
          "metadata": {}
        },
        {
          "output_type": "display_data",
          "data": {
            "text/plain": [
              "<Figure size 1200x1200 with 0 Axes>"
            ]
          },
          "metadata": {}
        },
        {
          "output_type": "display_data",
          "data": {
            "text/plain": [
              "<Figure size 1200x1200 with 0 Axes>"
            ]
          },
          "metadata": {}
        },
        {
          "output_type": "display_data",
          "data": {
            "text/plain": [
              "<Figure size 1200x1200 with 0 Axes>"
            ]
          },
          "metadata": {}
        },
        {
          "output_type": "display_data",
          "data": {
            "text/plain": [
              "<Figure size 1200x1200 with 0 Axes>"
            ]
          },
          "metadata": {}
        },
        {
          "output_type": "display_data",
          "data": {
            "text/plain": [
              "<Figure size 1200x1200 with 0 Axes>"
            ]
          },
          "metadata": {}
        },
        {
          "output_type": "display_data",
          "data": {
            "text/plain": [
              "<Figure size 1200x1200 with 0 Axes>"
            ]
          },
          "metadata": {}
        },
        {
          "output_type": "display_data",
          "data": {
            "text/plain": [
              "<Figure size 1200x1200 with 0 Axes>"
            ]
          },
          "metadata": {}
        },
        {
          "output_type": "display_data",
          "data": {
            "text/plain": [
              "<Figure size 1200x1200 with 0 Axes>"
            ]
          },
          "metadata": {}
        },
        {
          "output_type": "display_data",
          "data": {
            "text/plain": [
              "<Figure size 1200x1200 with 0 Axes>"
            ]
          },
          "metadata": {}
        },
        {
          "output_type": "display_data",
          "data": {
            "text/plain": [
              "<Figure size 1200x1200 with 0 Axes>"
            ]
          },
          "metadata": {}
        },
        {
          "output_type": "display_data",
          "data": {
            "text/plain": [
              "<Figure size 1200x1200 with 0 Axes>"
            ]
          },
          "metadata": {}
        },
        {
          "output_type": "display_data",
          "data": {
            "text/plain": [
              "<Figure size 1200x1200 with 0 Axes>"
            ]
          },
          "metadata": {}
        },
        {
          "output_type": "display_data",
          "data": {
            "text/plain": [
              "<Figure size 1200x1200 with 0 Axes>"
            ]
          },
          "metadata": {}
        },
        {
          "output_type": "display_data",
          "data": {
            "text/plain": [
              "<Figure size 1200x1200 with 0 Axes>"
            ]
          },
          "metadata": {}
        },
        {
          "output_type": "display_data",
          "data": {
            "text/plain": [
              "<Figure size 1200x1200 with 0 Axes>"
            ]
          },
          "metadata": {}
        },
        {
          "output_type": "display_data",
          "data": {
            "text/plain": [
              "<Figure size 1200x1200 with 0 Axes>"
            ]
          },
          "metadata": {}
        },
        {
          "output_type": "display_data",
          "data": {
            "text/plain": [
              "<Figure size 1200x1200 with 0 Axes>"
            ]
          },
          "metadata": {}
        },
        {
          "output_type": "display_data",
          "data": {
            "text/plain": [
              "<Figure size 1200x1200 with 0 Axes>"
            ]
          },
          "metadata": {}
        },
        {
          "output_type": "display_data",
          "data": {
            "text/plain": [
              "<Figure size 1200x1200 with 0 Axes>"
            ]
          },
          "metadata": {}
        },
        {
          "output_type": "display_data",
          "data": {
            "text/plain": [
              "<Figure size 1200x1200 with 0 Axes>"
            ]
          },
          "metadata": {}
        },
        {
          "output_type": "display_data",
          "data": {
            "text/plain": [
              "<Figure size 1200x1200 with 0 Axes>"
            ]
          },
          "metadata": {}
        },
        {
          "output_type": "display_data",
          "data": {
            "text/plain": [
              "<Figure size 1200x1200 with 0 Axes>"
            ]
          },
          "metadata": {}
        },
        {
          "output_type": "display_data",
          "data": {
            "text/plain": [
              "<Figure size 1200x1200 with 0 Axes>"
            ]
          },
          "metadata": {}
        },
        {
          "output_type": "display_data",
          "data": {
            "text/plain": [
              "<Figure size 1200x1200 with 0 Axes>"
            ]
          },
          "metadata": {}
        },
        {
          "output_type": "display_data",
          "data": {
            "text/plain": [
              "<Figure size 1200x1200 with 0 Axes>"
            ]
          },
          "metadata": {}
        },
        {
          "output_type": "display_data",
          "data": {
            "text/plain": [
              "<Figure size 1200x1200 with 0 Axes>"
            ]
          },
          "metadata": {}
        },
        {
          "output_type": "display_data",
          "data": {
            "text/plain": [
              "<Figure size 1200x1200 with 0 Axes>"
            ]
          },
          "metadata": {}
        },
        {
          "output_type": "display_data",
          "data": {
            "text/plain": [
              "<Figure size 1200x1200 with 0 Axes>"
            ]
          },
          "metadata": {}
        },
        {
          "output_type": "display_data",
          "data": {
            "text/plain": [
              "<Figure size 1200x1200 with 0 Axes>"
            ]
          },
          "metadata": {}
        },
        {
          "output_type": "display_data",
          "data": {
            "text/plain": [
              "<Figure size 1200x1200 with 0 Axes>"
            ]
          },
          "metadata": {}
        },
        {
          "output_type": "display_data",
          "data": {
            "text/plain": [
              "<Figure size 1200x1200 with 0 Axes>"
            ]
          },
          "metadata": {}
        },
        {
          "output_type": "display_data",
          "data": {
            "text/plain": [
              "<Figure size 1200x1200 with 0 Axes>"
            ]
          },
          "metadata": {}
        },
        {
          "output_type": "display_data",
          "data": {
            "text/plain": [
              "<Figure size 1200x1200 with 0 Axes>"
            ]
          },
          "metadata": {}
        },
        {
          "output_type": "display_data",
          "data": {
            "text/plain": [
              "<Figure size 1200x1200 with 0 Axes>"
            ]
          },
          "metadata": {}
        },
        {
          "output_type": "display_data",
          "data": {
            "text/plain": [
              "<Figure size 1200x1200 with 0 Axes>"
            ]
          },
          "metadata": {}
        },
        {
          "output_type": "display_data",
          "data": {
            "text/plain": [
              "<Figure size 1200x1200 with 0 Axes>"
            ]
          },
          "metadata": {}
        },
        {
          "output_type": "display_data",
          "data": {
            "text/plain": [
              "<Figure size 1200x1200 with 0 Axes>"
            ]
          },
          "metadata": {}
        },
        {
          "output_type": "display_data",
          "data": {
            "text/plain": [
              "<Figure size 1200x1200 with 0 Axes>"
            ]
          },
          "metadata": {}
        },
        {
          "output_type": "display_data",
          "data": {
            "text/plain": [
              "<Figure size 1200x1200 with 0 Axes>"
            ]
          },
          "metadata": {}
        },
        {
          "output_type": "display_data",
          "data": {
            "text/plain": [
              "<Figure size 1200x1200 with 0 Axes>"
            ]
          },
          "metadata": {}
        },
        {
          "output_type": "display_data",
          "data": {
            "text/plain": [
              "<Figure size 1200x1200 with 0 Axes>"
            ]
          },
          "metadata": {}
        },
        {
          "output_type": "display_data",
          "data": {
            "text/plain": [
              "<Figure size 1200x1200 with 0 Axes>"
            ]
          },
          "metadata": {}
        },
        {
          "output_type": "display_data",
          "data": {
            "text/plain": [
              "<Figure size 1200x1200 with 0 Axes>"
            ]
          },
          "metadata": {}
        },
        {
          "output_type": "display_data",
          "data": {
            "text/plain": [
              "<Figure size 1200x1200 with 0 Axes>"
            ]
          },
          "metadata": {}
        },
        {
          "output_type": "display_data",
          "data": {
            "text/plain": [
              "<Figure size 1200x1200 with 0 Axes>"
            ]
          },
          "metadata": {}
        },
        {
          "output_type": "display_data",
          "data": {
            "text/plain": [
              "<Figure size 1200x1200 with 0 Axes>"
            ]
          },
          "metadata": {}
        },
        {
          "output_type": "display_data",
          "data": {
            "text/plain": [
              "<Figure size 1200x1200 with 0 Axes>"
            ]
          },
          "metadata": {}
        },
        {
          "output_type": "display_data",
          "data": {
            "text/plain": [
              "<Figure size 1200x1200 with 0 Axes>"
            ]
          },
          "metadata": {}
        },
        {
          "output_type": "display_data",
          "data": {
            "text/plain": [
              "<Figure size 1200x1200 with 0 Axes>"
            ]
          },
          "metadata": {}
        },
        {
          "output_type": "display_data",
          "data": {
            "text/plain": [
              "<Figure size 1200x1200 with 0 Axes>"
            ]
          },
          "metadata": {}
        },
        {
          "output_type": "display_data",
          "data": {
            "text/plain": [
              "<Figure size 1200x1200 with 0 Axes>"
            ]
          },
          "metadata": {}
        },
        {
          "output_type": "display_data",
          "data": {
            "text/plain": [
              "<Figure size 1200x1200 with 0 Axes>"
            ]
          },
          "metadata": {}
        },
        {
          "output_type": "display_data",
          "data": {
            "text/plain": [
              "<Figure size 1200x1200 with 0 Axes>"
            ]
          },
          "metadata": {}
        },
        {
          "output_type": "display_data",
          "data": {
            "text/plain": [
              "<Figure size 1200x1200 with 0 Axes>"
            ]
          },
          "metadata": {}
        },
        {
          "output_type": "display_data",
          "data": {
            "text/plain": [
              "<Figure size 1200x1200 with 0 Axes>"
            ]
          },
          "metadata": {}
        },
        {
          "output_type": "display_data",
          "data": {
            "text/plain": [
              "<Figure size 1200x1200 with 0 Axes>"
            ]
          },
          "metadata": {}
        },
        {
          "output_type": "display_data",
          "data": {
            "text/plain": [
              "<Figure size 1200x1200 with 0 Axes>"
            ]
          },
          "metadata": {}
        },
        {
          "output_type": "display_data",
          "data": {
            "text/plain": [
              "<Figure size 1200x1200 with 0 Axes>"
            ]
          },
          "metadata": {}
        },
        {
          "output_type": "display_data",
          "data": {
            "text/plain": [
              "<Figure size 1200x1200 with 0 Axes>"
            ]
          },
          "metadata": {}
        },
        {
          "output_type": "display_data",
          "data": {
            "text/plain": [
              "<Figure size 1200x1200 with 0 Axes>"
            ]
          },
          "metadata": {}
        },
        {
          "output_type": "display_data",
          "data": {
            "text/plain": [
              "<Figure size 1200x1200 with 0 Axes>"
            ]
          },
          "metadata": {}
        },
        {
          "output_type": "display_data",
          "data": {
            "text/plain": [
              "<Figure size 1200x1200 with 0 Axes>"
            ]
          },
          "metadata": {}
        },
        {
          "output_type": "display_data",
          "data": {
            "text/plain": [
              "<Figure size 1200x1200 with 0 Axes>"
            ]
          },
          "metadata": {}
        },
        {
          "output_type": "display_data",
          "data": {
            "text/plain": [
              "<Figure size 1200x1200 with 0 Axes>"
            ]
          },
          "metadata": {}
        },
        {
          "output_type": "display_data",
          "data": {
            "text/plain": [
              "<Figure size 1200x1200 with 0 Axes>"
            ]
          },
          "metadata": {}
        },
        {
          "output_type": "display_data",
          "data": {
            "text/plain": [
              "<Figure size 1200x1200 with 0 Axes>"
            ]
          },
          "metadata": {}
        },
        {
          "output_type": "display_data",
          "data": {
            "text/plain": [
              "<Figure size 1200x1200 with 0 Axes>"
            ]
          },
          "metadata": {}
        },
        {
          "output_type": "display_data",
          "data": {
            "text/plain": [
              "<Figure size 1200x1200 with 0 Axes>"
            ]
          },
          "metadata": {}
        },
        {
          "output_type": "display_data",
          "data": {
            "text/plain": [
              "<Figure size 1200x1200 with 0 Axes>"
            ]
          },
          "metadata": {}
        },
        {
          "output_type": "display_data",
          "data": {
            "text/plain": [
              "<Figure size 1200x1200 with 0 Axes>"
            ]
          },
          "metadata": {}
        },
        {
          "output_type": "display_data",
          "data": {
            "text/plain": [
              "<Figure size 1200x1200 with 0 Axes>"
            ]
          },
          "metadata": {}
        },
        {
          "output_type": "display_data",
          "data": {
            "text/plain": [
              "<Figure size 1200x1200 with 0 Axes>"
            ]
          },
          "metadata": {}
        },
        {
          "output_type": "display_data",
          "data": {
            "text/plain": [
              "<Figure size 1200x1200 with 0 Axes>"
            ]
          },
          "metadata": {}
        },
        {
          "output_type": "display_data",
          "data": {
            "text/plain": [
              "<Figure size 1200x1200 with 0 Axes>"
            ]
          },
          "metadata": {}
        },
        {
          "output_type": "display_data",
          "data": {
            "text/plain": [
              "<Figure size 1200x1200 with 0 Axes>"
            ]
          },
          "metadata": {}
        },
        {
          "output_type": "display_data",
          "data": {
            "text/plain": [
              "<Figure size 1200x1200 with 0 Axes>"
            ]
          },
          "metadata": {}
        },
        {
          "output_type": "display_data",
          "data": {
            "text/plain": [
              "<Figure size 1200x1200 with 0 Axes>"
            ]
          },
          "metadata": {}
        },
        {
          "output_type": "display_data",
          "data": {
            "text/plain": [
              "<Figure size 1200x1200 with 0 Axes>"
            ]
          },
          "metadata": {}
        },
        {
          "output_type": "display_data",
          "data": {
            "text/plain": [
              "<Figure size 1200x1200 with 0 Axes>"
            ]
          },
          "metadata": {}
        },
        {
          "output_type": "display_data",
          "data": {
            "text/plain": [
              "<Figure size 1200x1200 with 0 Axes>"
            ]
          },
          "metadata": {}
        },
        {
          "output_type": "display_data",
          "data": {
            "text/plain": [
              "<Figure size 1200x1200 with 0 Axes>"
            ]
          },
          "metadata": {}
        },
        {
          "output_type": "display_data",
          "data": {
            "text/plain": [
              "<Figure size 1200x1200 with 0 Axes>"
            ]
          },
          "metadata": {}
        },
        {
          "output_type": "display_data",
          "data": {
            "text/plain": [
              "<Figure size 1200x1200 with 0 Axes>"
            ]
          },
          "metadata": {}
        },
        {
          "output_type": "display_data",
          "data": {
            "text/plain": [
              "<Figure size 1200x1200 with 0 Axes>"
            ]
          },
          "metadata": {}
        },
        {
          "output_type": "display_data",
          "data": {
            "text/plain": [
              "<Figure size 1200x1200 with 0 Axes>"
            ]
          },
          "metadata": {}
        },
        {
          "output_type": "display_data",
          "data": {
            "text/plain": [
              "<Figure size 1200x1200 with 0 Axes>"
            ]
          },
          "metadata": {}
        },
        {
          "output_type": "display_data",
          "data": {
            "text/plain": [
              "<Figure size 1200x1200 with 0 Axes>"
            ]
          },
          "metadata": {}
        },
        {
          "output_type": "display_data",
          "data": {
            "text/plain": [
              "<Figure size 1200x1200 with 0 Axes>"
            ]
          },
          "metadata": {}
        },
        {
          "output_type": "display_data",
          "data": {
            "text/plain": [
              "<Figure size 1200x1200 with 0 Axes>"
            ]
          },
          "metadata": {}
        },
        {
          "output_type": "display_data",
          "data": {
            "text/plain": [
              "<Figure size 1200x1200 with 0 Axes>"
            ]
          },
          "metadata": {}
        },
        {
          "output_type": "display_data",
          "data": {
            "text/plain": [
              "<Figure size 1200x1200 with 0 Axes>"
            ]
          },
          "metadata": {}
        },
        {
          "output_type": "display_data",
          "data": {
            "text/plain": [
              "<Figure size 1200x1200 with 0 Axes>"
            ]
          },
          "metadata": {}
        },
        {
          "output_type": "display_data",
          "data": {
            "text/plain": [
              "<Figure size 1200x1200 with 0 Axes>"
            ]
          },
          "metadata": {}
        },
        {
          "output_type": "display_data",
          "data": {
            "text/plain": [
              "<Figure size 1200x1200 with 0 Axes>"
            ]
          },
          "metadata": {}
        },
        {
          "output_type": "display_data",
          "data": {
            "text/plain": [
              "<Figure size 1200x1200 with 0 Axes>"
            ]
          },
          "metadata": {}
        },
        {
          "output_type": "display_data",
          "data": {
            "text/plain": [
              "<Figure size 1200x1200 with 0 Axes>"
            ]
          },
          "metadata": {}
        },
        {
          "output_type": "display_data",
          "data": {
            "text/plain": [
              "<Figure size 1200x1200 with 0 Axes>"
            ]
          },
          "metadata": {}
        },
        {
          "output_type": "display_data",
          "data": {
            "text/plain": [
              "<Figure size 1200x1200 with 0 Axes>"
            ]
          },
          "metadata": {}
        },
        {
          "output_type": "display_data",
          "data": {
            "text/plain": [
              "<Figure size 1200x1200 with 0 Axes>"
            ]
          },
          "metadata": {}
        },
        {
          "output_type": "display_data",
          "data": {
            "text/plain": [
              "<Figure size 1200x1200 with 0 Axes>"
            ]
          },
          "metadata": {}
        },
        {
          "output_type": "display_data",
          "data": {
            "text/plain": [
              "<Figure size 1200x1200 with 0 Axes>"
            ]
          },
          "metadata": {}
        },
        {
          "output_type": "display_data",
          "data": {
            "text/plain": [
              "<Figure size 1200x1200 with 0 Axes>"
            ]
          },
          "metadata": {}
        },
        {
          "output_type": "display_data",
          "data": {
            "text/plain": [
              "<Figure size 1200x1200 with 0 Axes>"
            ]
          },
          "metadata": {}
        },
        {
          "output_type": "display_data",
          "data": {
            "text/plain": [
              "<Figure size 1200x1200 with 0 Axes>"
            ]
          },
          "metadata": {}
        },
        {
          "output_type": "display_data",
          "data": {
            "text/plain": [
              "<Figure size 1200x1200 with 0 Axes>"
            ]
          },
          "metadata": {}
        },
        {
          "output_type": "display_data",
          "data": {
            "text/plain": [
              "<Figure size 1200x1200 with 0 Axes>"
            ]
          },
          "metadata": {}
        },
        {
          "output_type": "display_data",
          "data": {
            "text/plain": [
              "<Figure size 1200x1200 with 0 Axes>"
            ]
          },
          "metadata": {}
        },
        {
          "output_type": "display_data",
          "data": {
            "text/plain": [
              "<Figure size 1200x1200 with 0 Axes>"
            ]
          },
          "metadata": {}
        },
        {
          "output_type": "display_data",
          "data": {
            "text/plain": [
              "<Figure size 1200x1200 with 0 Axes>"
            ]
          },
          "metadata": {}
        },
        {
          "output_type": "display_data",
          "data": {
            "text/plain": [
              "<Figure size 1200x1200 with 0 Axes>"
            ]
          },
          "metadata": {}
        },
        {
          "output_type": "display_data",
          "data": {
            "text/plain": [
              "<Figure size 1200x1200 with 0 Axes>"
            ]
          },
          "metadata": {}
        },
        {
          "output_type": "display_data",
          "data": {
            "text/plain": [
              "<Figure size 1200x1200 with 0 Axes>"
            ]
          },
          "metadata": {}
        },
        {
          "output_type": "display_data",
          "data": {
            "text/plain": [
              "<Figure size 1200x1200 with 0 Axes>"
            ]
          },
          "metadata": {}
        },
        {
          "output_type": "display_data",
          "data": {
            "text/plain": [
              "<Figure size 1200x1200 with 0 Axes>"
            ]
          },
          "metadata": {}
        },
        {
          "output_type": "display_data",
          "data": {
            "text/plain": [
              "<Figure size 1200x1200 with 0 Axes>"
            ]
          },
          "metadata": {}
        },
        {
          "output_type": "display_data",
          "data": {
            "text/plain": [
              "<Figure size 1200x1200 with 0 Axes>"
            ]
          },
          "metadata": {}
        },
        {
          "output_type": "display_data",
          "data": {
            "text/plain": [
              "<Figure size 1200x1200 with 0 Axes>"
            ]
          },
          "metadata": {}
        },
        {
          "output_type": "display_data",
          "data": {
            "text/plain": [
              "<Figure size 1200x1200 with 0 Axes>"
            ]
          },
          "metadata": {}
        },
        {
          "output_type": "display_data",
          "data": {
            "text/plain": [
              "<Figure size 1200x1200 with 0 Axes>"
            ]
          },
          "metadata": {}
        },
        {
          "output_type": "display_data",
          "data": {
            "text/plain": [
              "<Figure size 1200x1200 with 0 Axes>"
            ]
          },
          "metadata": {}
        },
        {
          "output_type": "display_data",
          "data": {
            "text/plain": [
              "<Figure size 1200x1200 with 0 Axes>"
            ]
          },
          "metadata": {}
        },
        {
          "output_type": "display_data",
          "data": {
            "text/plain": [
              "<Figure size 1200x1200 with 0 Axes>"
            ]
          },
          "metadata": {}
        },
        {
          "output_type": "display_data",
          "data": {
            "text/plain": [
              "<Figure size 1200x1200 with 0 Axes>"
            ]
          },
          "metadata": {}
        },
        {
          "output_type": "display_data",
          "data": {
            "text/plain": [
              "<Figure size 1200x1200 with 0 Axes>"
            ]
          },
          "metadata": {}
        },
        {
          "output_type": "display_data",
          "data": {
            "text/plain": [
              "<Figure size 1200x1200 with 0 Axes>"
            ]
          },
          "metadata": {}
        },
        {
          "output_type": "display_data",
          "data": {
            "text/plain": [
              "<Figure size 1200x1200 with 0 Axes>"
            ]
          },
          "metadata": {}
        },
        {
          "output_type": "display_data",
          "data": {
            "text/plain": [
              "<Figure size 1200x1200 with 0 Axes>"
            ]
          },
          "metadata": {}
        },
        {
          "output_type": "display_data",
          "data": {
            "text/plain": [
              "<Figure size 1200x1200 with 0 Axes>"
            ]
          },
          "metadata": {}
        },
        {
          "output_type": "display_data",
          "data": {
            "text/plain": [
              "<Figure size 1200x1200 with 0 Axes>"
            ]
          },
          "metadata": {}
        },
        {
          "output_type": "display_data",
          "data": {
            "text/plain": [
              "<Figure size 1200x1200 with 0 Axes>"
            ]
          },
          "metadata": {}
        },
        {
          "output_type": "display_data",
          "data": {
            "text/plain": [
              "<Figure size 1200x1200 with 0 Axes>"
            ]
          },
          "metadata": {}
        },
        {
          "output_type": "display_data",
          "data": {
            "text/plain": [
              "<Figure size 1200x1200 with 0 Axes>"
            ]
          },
          "metadata": {}
        },
        {
          "output_type": "display_data",
          "data": {
            "text/plain": [
              "<Figure size 1200x1200 with 0 Axes>"
            ]
          },
          "metadata": {}
        },
        {
          "output_type": "display_data",
          "data": {
            "text/plain": [
              "<Figure size 1200x1200 with 0 Axes>"
            ]
          },
          "metadata": {}
        },
        {
          "output_type": "display_data",
          "data": {
            "text/plain": [
              "<Figure size 1200x1200 with 0 Axes>"
            ]
          },
          "metadata": {}
        }
      ]
    },
    {
      "cell_type": "code",
      "source": [
        "!zip -r /content/output_D1.zip /content/output_mcar"
      ],
      "metadata": {
        "colab": {
          "base_uri": "https://localhost:8080/"
        },
        "id": "RehN1wFRvBZl",
        "outputId": "d64ebb34-9469-427e-c5cb-0b04c6b2d85e"
      },
      "execution_count": 4,
      "outputs": [
        {
          "output_type": "stream",
          "name": "stdout",
          "text": [
            "  adding: content/output_mcar/ (stored 0%)\n",
            "  adding: content/output_mcar/linear_ts_n500_vars8_lag4_gaussian_mcar10_missing.csv (deflated 55%)\n",
            "  adding: content/output_mcar/linear_ts_n500_vars6_lag3_gaussian_mcar20_series.png (deflated 2%)\n",
            "  adding: content/output_mcar/linear_ts_n1000_vars6_lag4_gaussian_mcar30_missing_pattern.png (deflated 5%)\n",
            "  adding: content/output_mcar/linear_ts_n3000_vars4_lag4_student_t_mcar30_missing.csv (deflated 58%)\n",
            "  adding: content/output_mcar/linear_ts_n1000_vars8_lag4_gaussian_mcar10_missing.csv (deflated 56%)\n",
            "  adding: content/output_mcar/linear_ts_n1000_vars4_lag3_gaussian_mcar20_graph.png (deflated 6%)\n",
            "  adding: content/output_mcar/linear_ts_n1000_vars8_lag4_student_t_mcar20_missing.csv (deflated 55%)\n",
            "  adding: content/output_mcar/linear_ts_n3000_vars6_lag3_student_t_mcar10_graph.png (deflated 6%)\n",
            "  adding: content/output_mcar/linear_ts_n3000_vars8_lag2_student_t_mcar30_complete.csv (deflated 56%)\n",
            "  adding: content/output_mcar/linear_ts_n1000_vars4_lag4_gaussian_mcar10_missing.csv (deflated 57%)\n",
            "  adding: content/output_mcar/linear_ts_n500_vars8_lag3_gaussian_mcar30_missing_pattern.png (deflated 4%)\n",
            "  adding: content/output_mcar/linear_ts_n5000_vars4_lag3_student_t_mcar10_series.png (deflated 4%)\n",
            "  adding: content/output_mcar/linear_ts_n1000_vars4_lag2_student_t_mcar20_missing.csv (deflated 56%)\n",
            "  adding: content/output_mcar/linear_ts_n1000_vars8_lag2_gaussian_mcar30_missing.csv (deflated 54%)\n",
            "  adding: content/output_mcar/linear_ts_n500_vars8_lag4_gaussian_mcar30_structure.txt (deflated 48%)\n",
            "  adding: content/output_mcar/linear_ts_n3000_vars6_lag2_student_t_mcar20_missing.csv (deflated 54%)\n",
            "  adding: content/output_mcar/linear_ts_n3000_vars4_lag3_gaussian_mcar30_missing.csv (deflated 58%)\n",
            "  adding: content/output_mcar/linear_ts_n1000_vars4_lag2_student_t_mcar10_structure.txt (deflated 34%)\n",
            "  adding: content/output_mcar/linear_ts_n1000_vars4_lag2_gaussian_mcar20_complete.csv (deflated 58%)\n",
            "  adding: content/output_mcar/linear_ts_n1000_vars8_lag2_student_t_mcar30_complete.csv (deflated 55%)\n",
            "  adding: content/output_mcar/linear_ts_n1000_vars8_lag2_gaussian_mcar10_structure.txt (deflated 49%)\n",
            "  adding: content/output_mcar/linear_ts_n5000_vars8_lag4_gaussian_mcar10_complete.csv (deflated 58%)\n",
            "  adding: content/output_mcar/linear_ts_n3000_vars6_lag2_gaussian_mcar30_series.png (deflated 1%)\n",
            "  adding: content/output_mcar/linear_ts_n500_vars8_lag3_student_t_mcar20_missing_pattern.png (deflated 4%)\n",
            "  adding: content/output_mcar/linear_ts_n3000_vars6_lag3_gaussian_mcar30_structure.txt (deflated 43%)\n",
            "  adding: content/output_mcar/linear_ts_n1000_vars4_lag2_gaussian_mcar10_missing.csv (deflated 57%)\n",
            "  adding: content/output_mcar/linear_ts_n5000_vars6_lag2_student_t_mcar10_missing.csv (deflated 55%)\n",
            "  adding: content/output_mcar/linear_ts_n5000_vars4_lag4_student_t_mcar20_structure.txt (deflated 37%)\n",
            "  adding: content/output_mcar/linear_ts_n1000_vars4_lag3_gaussian_mcar20_series.png (deflated 2%)\n",
            "  adding: content/output_mcar/linear_ts_n3000_vars8_lag3_gaussian_mcar20_graph.png (deflated 5%)\n",
            "  adding: content/output_mcar/linear_ts_n5000_vars8_lag3_gaussian_mcar20_structure.txt (deflated 48%)\n",
            "  adding: content/output_mcar/linear_ts_n3000_vars8_lag2_student_t_mcar20_missing_pattern.png (deflated 4%)\n",
            "  adding: content/output_mcar/linear_ts_n1000_vars8_lag3_gaussian_mcar10_missing_pattern.png (deflated 5%)\n",
            "  adding: content/output_mcar/linear_ts_n500_vars4_lag3_gaussian_mcar30_complete.csv (deflated 57%)\n",
            "  adding: content/output_mcar/linear_ts_n3000_vars4_lag3_gaussian_mcar20_graph.png (deflated 6%)\n",
            "  adding: content/output_mcar/linear_ts_n5000_vars8_lag3_gaussian_mcar20_missing.csv (deflated 57%)\n",
            "  adding: content/output_mcar/linear_ts_n3000_vars8_lag4_student_t_mcar30_missing_pattern.png (deflated 4%)\n",
            "  adding: content/output_mcar/linear_ts_n500_vars4_lag4_gaussian_mcar10_missing_pattern.png (deflated 6%)\n",
            "  adding: content/output_mcar/linear_ts_n1000_vars6_lag2_student_t_mcar30_series.png (deflated 3%)\n",
            "  adding: content/output_mcar/linear_ts_n500_vars4_lag2_student_t_mcar10_complete.csv (deflated 57%)\n",
            "  adding: content/output_mcar/linear_ts_n3000_vars6_lag3_gaussian_mcar30_complete.csv (deflated 57%)\n",
            "  adding: content/output_mcar/linear_ts_n3000_vars8_lag2_student_t_mcar10_missing_pattern.png (deflated 4%)\n",
            "  adding: content/output_mcar/linear_ts_n1000_vars6_lag4_gaussian_mcar10_complete.csv (deflated 55%)\n",
            "  adding: content/output_mcar/linear_ts_n5000_vars6_lag3_gaussian_mcar10_series.png (deflated 1%)\n",
            "  adding: content/output_mcar/linear_ts_n500_vars6_lag2_student_t_mcar30_series.png (deflated 4%)\n",
            "  adding: content/output_mcar/linear_ts_n1000_vars4_lag2_student_t_mcar10_graph.png (deflated 8%)\n",
            "  adding: content/output_mcar/linear_ts_n3000_vars4_lag4_gaussian_mcar20_graph.png (deflated 6%)\n",
            "  adding: content/output_mcar/linear_ts_n500_vars6_lag4_gaussian_mcar20_graph.png (deflated 7%)\n",
            "  adding: content/output_mcar/linear_ts_n5000_vars8_lag2_student_t_mcar30_graph.png (deflated 6%)\n",
            "  adding: content/output_mcar/linear_ts_n1000_vars4_lag2_gaussian_mcar30_graph.png (deflated 8%)\n",
            "  adding: content/output_mcar/linear_ts_n5000_vars8_lag3_gaussian_mcar10_complete.csv (deflated 58%)\n",
            "  adding: content/output_mcar/linear_ts_n3000_vars8_lag3_gaussian_mcar30_missing_pattern.png (deflated 4%)\n",
            "  adding: content/output_mcar/linear_ts_n5000_vars6_lag3_student_t_mcar30_complete.csv (deflated 56%)\n",
            "  adding: content/output_mcar/linear_ts_n5000_vars8_lag4_gaussian_mcar20_missing.csv (deflated 57%)\n",
            "  adding: content/output_mcar/linear_ts_n5000_vars6_lag2_gaussian_mcar20_series.png (deflated 1%)\n",
            "  adding: content/output_mcar/linear_ts_n3000_vars6_lag4_gaussian_mcar10_complete.csv (deflated 57%)\n",
            "  adding: content/output_mcar/linear_ts_n5000_vars6_lag3_student_t_mcar10_complete.csv (deflated 56%)\n",
            "  adding: content/output_mcar/linear_ts_n3000_vars4_lag3_gaussian_mcar10_structure.txt (deflated 37%)\n",
            "  adding: content/output_mcar/linear_ts_n1000_vars8_lag2_gaussian_mcar20_graph.png (deflated 6%)\n",
            "  adding: content/output_mcar/linear_ts_n3000_vars8_lag2_gaussian_mcar30_graph.png (deflated 6%)\n",
            "  adding: content/output_mcar/linear_ts_n5000_vars8_lag2_student_t_mcar10_missing.csv (deflated 55%)\n",
            "  adding: content/output_mcar/linear_ts_n500_vars6_lag2_gaussian_mcar30_structure.txt (deflated 44%)\n",
            "  adding: content/output_mcar/linear_ts_n3000_vars6_lag3_gaussian_mcar20_missing_pattern.png (deflated 4%)\n",
            "  adding: content/output_mcar/linear_ts_n3000_vars4_lag4_gaussian_mcar10_structure.txt (deflated 37%)\n",
            "  adding: content/output_mcar/linear_ts_n3000_vars8_lag3_gaussian_mcar20_series.png (deflated 1%)\n",
            "  adding: content/output_mcar/linear_ts_n500_vars8_lag3_gaussian_mcar10_complete.csv (deflated 56%)\n",
            "  adding: content/output_mcar/linear_ts_n500_vars4_lag2_gaussian_mcar30_series.png (deflated 3%)\n",
            "  adding: content/output_mcar/linear_ts_n1000_vars8_lag4_gaussian_mcar30_series.png (deflated 1%)\n",
            "  adding: content/output_mcar/linear_ts_n5000_vars6_lag4_student_t_mcar30_series.png (deflated 3%)\n",
            "  adding: content/output_mcar/linear_ts_n500_vars8_lag3_gaussian_mcar20_structure.txt (deflated 48%)\n",
            "  adding: content/output_mcar/linear_ts_n1000_vars6_lag2_gaussian_mcar10_series.png (deflated 1%)\n",
            "  adding: content/output_mcar/linear_ts_n3000_vars4_lag3_gaussian_mcar20_series.png (deflated 1%)\n",
            "  adding: content/output_mcar/linear_ts_n500_vars8_lag4_student_t_mcar10_series.png (deflated 2%)\n",
            "  adding: content/output_mcar/linear_ts_n3000_vars8_lag2_student_t_mcar30_structure.txt (deflated 49%)\n",
            "  adding: content/output_mcar/linear_ts_n3000_vars6_lag4_student_t_mcar10_missing.csv (deflated 56%)\n",
            "  adding: content/output_mcar/linear_ts_n500_vars4_lag2_student_t_mcar20_graph.png (deflated 8%)\n",
            "  adding: content/output_mcar/linear_ts_n500_vars8_lag4_student_t_mcar10_missing.csv (deflated 55%)\n",
            "  adding: content/output_mcar/linear_ts_n1000_vars6_lag2_gaussian_mcar30_missing.csv (deflated 53%)\n",
            "  adding: content/output_mcar/linear_ts_n5000_vars8_lag4_gaussian_mcar10_graph.png (deflated 5%)\n",
            "  adding: content/output_mcar/linear_ts_n3000_vars4_lag2_gaussian_mcar30_missing_pattern.png (deflated 4%)\n",
            "  adding: content/output_mcar/linear_ts_n1000_vars8_lag4_gaussian_mcar10_missing_pattern.png (deflated 5%)\n",
            "  adding: content/output_mcar/linear_ts_n3000_vars6_lag4_gaussian_mcar30_complete.csv (deflated 57%)\n",
            "  adding: content/output_mcar/linear_ts_n3000_vars6_lag2_student_t_mcar20_complete.csv (deflated 55%)\n",
            "  adding: content/output_mcar/linear_ts_n500_vars6_lag4_gaussian_mcar20_complete.csv (deflated 55%)\n",
            "  adding: content/output_mcar/linear_ts_n1000_vars6_lag2_gaussian_mcar30_missing_pattern.png (deflated 5%)\n",
            "  adding: content/output_mcar/linear_ts_n500_vars4_lag2_gaussian_mcar10_structure.txt (deflated 34%)\n",
            "  adding: content/output_mcar/linear_ts_n3000_vars8_lag3_student_t_mcar10_missing_pattern.png (deflated 4%)\n",
            "  adding: content/output_mcar/linear_ts_n1000_vars8_lag3_student_t_mcar30_missing_pattern.png (deflated 4%)\n",
            "  adding: content/output_mcar/linear_ts_n500_vars8_lag3_gaussian_mcar10_series.png (deflated 2%)\n",
            "  adding: content/output_mcar/linear_ts_n5000_vars8_lag2_student_t_mcar10_missing_pattern.png (deflated 4%)\n",
            "  adding: content/output_mcar/linear_ts_n5000_vars4_lag4_student_t_mcar10_graph.png (deflated 6%)\n",
            "  adding: content/output_mcar/linear_ts_n1000_vars4_lag2_student_t_mcar20_complete.csv (deflated 58%)\n",
            "  adding: content/output_mcar/linear_ts_n500_vars6_lag3_student_t_mcar30_complete.csv (deflated 54%)\n",
            "  adding: content/output_mcar/linear_ts_n1000_vars6_lag4_student_t_mcar10_graph.png (deflated 6%)\n",
            "  adding: content/output_mcar/linear_ts_n3000_vars4_lag4_gaussian_mcar30_missing_pattern.png (deflated 4%)\n",
            "  adding: content/output_mcar/linear_ts_n5000_vars8_lag4_gaussian_mcar30_complete.csv (deflated 58%)\n",
            "  adding: content/output_mcar/linear_ts_n1000_vars4_lag4_gaussian_mcar30_complete.csv (deflated 58%)\n",
            "  adding: content/output_mcar/linear_ts_n500_vars4_lag3_student_t_mcar30_missing_pattern.png (deflated 4%)\n",
            "  adding: content/output_mcar/linear_ts_n1000_vars6_lag4_student_t_mcar20_series.png (deflated 4%)\n",
            "  adding: content/output_mcar/linear_ts_n3000_vars8_lag3_student_t_mcar20_missing.csv (deflated 56%)\n",
            "  adding: content/output_mcar/linear_ts_n3000_vars4_lag2_student_t_mcar30_graph.png (deflated 7%)\n",
            "  adding: content/output_mcar/linear_ts_n5000_vars4_lag4_gaussian_mcar30_graph.png (deflated 6%)\n",
            "  adding: content/output_mcar/linear_ts_n3000_vars4_lag4_gaussian_mcar20_complete.csv (deflated 59%)\n",
            "  adding: content/output_mcar/linear_ts_n500_vars8_lag3_gaussian_mcar10_graph.png (deflated 5%)\n",
            "  adding: content/output_mcar/linear_ts_n500_vars4_lag3_student_t_mcar30_graph.png (deflated 5%)\n",
            "  adding: content/output_mcar/linear_ts_n5000_vars4_lag4_gaussian_mcar10_series.png (deflated 1%)\n",
            "  adding: content/output_mcar/linear_ts_n5000_vars4_lag4_student_t_mcar20_graph.png (deflated 6%)\n",
            "  adding: content/output_mcar/linear_ts_n1000_vars4_lag2_gaussian_mcar20_missing.csv (deflated 56%)\n",
            "  adding: content/output_mcar/linear_ts_n500_vars4_lag4_gaussian_mcar10_complete.csv (deflated 57%)\n",
            "  adding: content/output_mcar/linear_ts_n1000_vars8_lag4_gaussian_mcar30_graph.png (deflated 5%)\n",
            "  adding: content/output_mcar/linear_ts_n500_vars6_lag3_gaussian_mcar10_graph.png (deflated 6%)\n",
            "  adding: content/output_mcar/linear_ts_n1000_vars8_lag4_gaussian_mcar20_structure.txt (deflated 48%)\n",
            "  adding: content/output_mcar/linear_ts_n1000_vars8_lag4_gaussian_mcar30_missing_pattern.png (deflated 4%)\n",
            "  adding: content/output_mcar/linear_ts_n5000_vars6_lag4_gaussian_mcar10_complete.csv (deflated 57%)\n",
            "  adding: content/output_mcar/linear_ts_n3000_vars6_lag2_gaussian_mcar10_missing_pattern.png (deflated 4%)\n",
            "  adding: content/output_mcar/linear_ts_n5000_vars6_lag3_gaussian_mcar20_complete.csv (deflated 57%)\n",
            "  adding: content/output_mcar/linear_ts_n1000_vars4_lag2_student_t_mcar30_complete.csv (deflated 58%)\n",
            "  adding: content/output_mcar/linear_ts_n3000_vars6_lag2_student_t_mcar30_structure.txt (deflated 44%)\n",
            "  adding: content/output_mcar/linear_ts_n1000_vars8_lag3_student_t_mcar20_graph.png (deflated 5%)\n",
            "  adding: content/output_mcar/linear_ts_n500_vars4_lag3_gaussian_mcar10_graph.png (deflated 6%)\n",
            "  adding: content/output_mcar/linear_ts_n5000_vars8_lag3_gaussian_mcar30_missing_pattern.png (deflated 4%)\n",
            "  adding: content/output_mcar/linear_ts_n500_vars6_lag3_gaussian_mcar10_missing.csv (deflated 54%)\n",
            "  adding: content/output_mcar/linear_ts_n500_vars4_lag4_gaussian_mcar20_graph.png (deflated 6%)\n",
            "  adding: content/output_mcar/linear_ts_n5000_vars8_lag4_gaussian_mcar30_missing.csv (deflated 57%)\n",
            "  adding: content/output_mcar/linear_ts_n5000_vars8_lag3_student_t_mcar20_missing_pattern.png (deflated 4%)\n",
            "  adding: content/output_mcar/linear_ts_n3000_vars8_lag3_gaussian_mcar10_graph.png (deflated 5%)\n",
            "  adding: content/output_mcar/linear_ts_n3000_vars8_lag3_student_t_mcar20_graph.png (deflated 5%)\n",
            "  adding: content/output_mcar/linear_ts_n500_vars6_lag3_student_t_mcar20_missing_pattern.png (deflated 5%)\n",
            "  adding: content/output_mcar/linear_ts_n500_vars8_lag4_gaussian_mcar30_graph.png (deflated 5%)\n",
            "  adding: content/output_mcar/linear_ts_n500_vars6_lag4_gaussian_mcar10_missing.csv (deflated 54%)\n",
            "  adding: content/output_mcar/linear_ts_n3000_vars8_lag3_gaussian_mcar30_graph.png (deflated 5%)\n",
            "  adding: content/output_mcar/linear_ts_n5000_vars4_lag3_gaussian_mcar10_missing.csv (deflated 59%)\n",
            "  adding: content/output_mcar/linear_ts_n3000_vars4_lag4_student_t_mcar10_structure.txt (deflated 37%)\n",
            "  adding: content/output_mcar/linear_ts_n1000_vars8_lag4_gaussian_mcar10_series.png (deflated 1%)\n",
            "  adding: content/output_mcar/linear_ts_n1000_vars8_lag3_student_t_mcar20_complete.csv (deflated 56%)\n",
            "  adding: content/output_mcar/linear_ts_n3000_vars6_lag4_gaussian_mcar30_graph.png (deflated 7%)\n",
            "  adding: content/output_mcar/linear_ts_n5000_vars4_lag2_gaussian_mcar20_missing.csv (deflated 58%)\n",
            "  adding: content/output_mcar/linear_ts_n1000_vars4_lag4_student_t_mcar20_missing_pattern.png (deflated 4%)\n",
            "  adding: content/output_mcar/linear_ts_n500_vars6_lag3_gaussian_mcar30_missing.csv (deflated 54%)\n",
            "  adding: content/output_mcar/linear_ts_n500_vars8_lag2_gaussian_mcar20_structure.txt (deflated 49%)\n",
            "  adding: content/output_mcar/linear_ts_n3000_vars6_lag4_gaussian_mcar10_series.png (deflated 1%)\n",
            "  adding: content/output_mcar/linear_ts_n500_vars6_lag3_student_t_mcar10_missing.csv (deflated 54%)\n",
            "  adding: content/output_mcar/linear_ts_n1000_vars8_lag3_student_t_mcar10_graph.png (deflated 5%)\n",
            "  adding: content/output_mcar/linear_ts_n3000_vars4_lag2_gaussian_mcar10_missing.csv (deflated 58%)\n",
            "  adding: content/output_mcar/linear_ts_n1000_vars6_lag3_gaussian_mcar30_missing.csv (deflated 55%)\n",
            "  adding: content/output_mcar/linear_ts_n3000_vars6_lag2_student_t_mcar10_structure.txt (deflated 44%)\n",
            "  adding: content/output_mcar/linear_ts_n1000_vars8_lag2_gaussian_mcar30_series.png (deflated 1%)\n",
            "  adding: content/output_mcar/linear_ts_n3000_vars8_lag4_student_t_mcar20_structure.txt (deflated 48%)\n",
            "  adding: content/output_mcar/linear_ts_n3000_vars8_lag4_gaussian_mcar30_missing_pattern.png (deflated 4%)\n",
            "  adding: content/output_mcar/linear_ts_n3000_vars8_lag4_student_t_mcar10_missing.csv (deflated 57%)\n",
            "  adding: content/output_mcar/linear_ts_n500_vars4_lag4_gaussian_mcar30_series.png (deflated 3%)\n",
            "  adding: content/output_mcar/linear_ts_n5000_vars4_lag3_gaussian_mcar20_complete.csv (deflated 60%)\n",
            "  adding: content/output_mcar/linear_ts_n500_vars6_lag2_gaussian_mcar10_graph.png (deflated 8%)\n",
            "  adding: content/output_mcar/linear_ts_n500_vars6_lag4_student_t_mcar20_series.png (deflated 4%)\n",
            "  adding: content/output_mcar/linear_ts_n500_vars8_lag4_student_t_mcar20_graph.png (deflated 6%)\n",
            "  adding: content/output_mcar/linear_ts_n500_vars4_lag3_student_t_mcar30_complete.csv (deflated 57%)\n",
            "  adding: content/output_mcar/linear_ts_n5000_vars8_lag3_gaussian_mcar10_series.png (deflated 1%)\n",
            "  adding: content/output_mcar/linear_ts_n500_vars8_lag2_gaussian_mcar30_structure.txt (deflated 49%)\n",
            "  adding: content/output_mcar/linear_ts_n1000_vars4_lag3_student_t_mcar10_missing.csv (deflated 57%)\n",
            "  adding: content/output_mcar/linear_ts_n3000_vars4_lag2_gaussian_mcar30_graph.png (deflated 7%)\n",
            "  adding: content/output_mcar/linear_ts_n500_vars8_lag3_student_t_mcar30_missing.csv (deflated 54%)\n",
            "  adding: content/output_mcar/linear_ts_n1000_vars4_lag2_gaussian_mcar10_complete.csv (deflated 58%)\n",
            "  adding: content/output_mcar/linear_ts_n5000_vars4_lag3_gaussian_mcar30_missing_pattern.png (deflated 5%)\n",
            "  adding: content/output_mcar/linear_ts_n5000_vars4_lag4_gaussian_mcar30_missing_pattern.png (deflated 5%)\n",
            "  adding: content/output_mcar/linear_ts_n500_vars6_lag3_student_t_mcar10_series.png (deflated 4%)\n",
            "  adding: content/output_mcar/linear_ts_n500_vars8_lag3_gaussian_mcar20_series.png (deflated 2%)\n",
            "  adding: content/output_mcar/linear_ts_n3000_vars4_lag4_student_t_mcar30_graph.png (deflated 6%)\n",
            "  adding: content/output_mcar/linear_ts_n5000_vars6_lag4_gaussian_mcar30_series.png (deflated 1%)\n",
            "  adding: content/output_mcar/linear_ts_n1000_vars8_lag2_gaussian_mcar30_graph.png (deflated 6%)\n",
            "  adding: content/output_mcar/linear_ts_n3000_vars4_lag3_gaussian_mcar10_complete.csv (deflated 59%)\n",
            "  adding: content/output_mcar/linear_ts_n500_vars8_lag4_student_t_mcar30_series.png (deflated 3%)\n",
            "  adding: content/output_mcar/linear_ts_n1000_vars6_lag3_student_t_mcar20_series.png (deflated 4%)\n",
            "  adding: content/output_mcar/linear_ts_n500_vars4_lag2_gaussian_mcar30_missing_pattern.png (deflated 4%)\n",
            "  adding: content/output_mcar/linear_ts_n1000_vars6_lag2_student_t_mcar10_series.png (deflated 4%)\n",
            "  adding: content/output_mcar/linear_ts_n500_vars4_lag3_student_t_mcar10_graph.png (deflated 6%)\n",
            "  adding: content/output_mcar/linear_ts_n5000_vars8_lag3_student_t_mcar20_series.png (deflated 4%)\n",
            "  adding: content/output_mcar/linear_ts_n1000_vars6_lag3_gaussian_mcar30_complete.csv (deflated 55%)\n",
            "  adding: content/output_mcar/linear_ts_n500_vars8_lag3_student_t_mcar30_missing_pattern.png (deflated 4%)\n",
            "  adding: content/output_mcar/linear_ts_n5000_vars6_lag2_gaussian_mcar30_graph.png (deflated 8%)\n",
            "  adding: content/output_mcar/linear_ts_n500_vars8_lag2_gaussian_mcar10_structure.txt (deflated 49%)\n",
            "  adding: content/output_mcar/linear_ts_n3000_vars8_lag2_student_t_mcar10_structure.txt (deflated 49%)\n",
            "  adding: content/output_mcar/linear_ts_n3000_vars8_lag4_gaussian_mcar10_missing_pattern.png (deflated 4%)\n",
            "  adding: content/output_mcar/linear_ts_n500_vars4_lag2_student_t_mcar30_complete.csv (deflated 57%)\n",
            "  adding: content/output_mcar/linear_ts_n500_vars6_lag3_gaussian_mcar20_structure.txt (deflated 43%)\n",
            "  adding: content/output_mcar/linear_ts_n500_vars8_lag2_student_t_mcar20_graph.png (deflated 6%)\n",
            "  adding: content/output_mcar/linear_ts_n1000_vars6_lag2_student_t_mcar20_series.png (deflated 3%)\n",
            "  adding: content/output_mcar/linear_ts_n3000_vars4_lag4_gaussian_mcar10_missing.csv (deflated 58%)\n",
            "  adding: content/output_mcar/linear_ts_n500_vars8_lag2_gaussian_mcar10_missing_pattern.png (deflated 5%)\n",
            "  adding: content/output_mcar/linear_ts_n500_vars4_lag4_gaussian_mcar20_missing.csv (deflated 56%)\n",
            "  adding: content/output_mcar/linear_ts_n500_vars4_lag4_gaussian_mcar30_missing_pattern.png (deflated 4%)\n",
            "  adding: content/output_mcar/linear_ts_n3000_vars4_lag3_gaussian_mcar20_structure.txt (deflated 37%)\n",
            "  adding: content/output_mcar/linear_ts_n1000_vars4_lag3_student_t_mcar30_series.png (deflated 5%)\n",
            "  adding: content/output_mcar/linear_ts_n1000_vars6_lag4_student_t_mcar30_missing.csv (deflated 54%)\n",
            "  adding: content/output_mcar/linear_ts_n5000_vars6_lag3_student_t_mcar10_graph.png (deflated 6%)\n",
            "  adding: content/output_mcar/linear_ts_n1000_vars4_lag3_student_t_mcar10_structure.txt (deflated 37%)\n",
            "  adding: content/output_mcar/linear_ts_n500_vars4_lag3_student_t_mcar20_graph.png (deflated 5%)\n",
            "  adding: content/output_mcar/linear_ts_n5000_vars8_lag2_student_t_mcar30_complete.csv (deflated 56%)\n",
            "  adding: content/output_mcar/linear_ts_n1000_vars8_lag2_gaussian_mcar10_series.png (deflated 1%)\n",
            "  adding: content/output_mcar/linear_ts_n1000_vars6_lag4_student_t_mcar20_missing_pattern.png (deflated 5%)\n",
            "  adding: content/output_mcar/linear_ts_n3000_vars8_lag3_gaussian_mcar30_series.png (deflated 1%)\n",
            "  adding: content/output_mcar/linear_ts_n5000_vars4_lag3_student_t_mcar10_complete.csv (deflated 59%)\n",
            "  adding: content/output_mcar/linear_ts_n5000_vars8_lag2_student_t_mcar10_graph.png (deflated 6%)\n",
            "  adding: content/output_mcar/linear_ts_n1000_vars6_lag2_gaussian_mcar10_structure.txt (deflated 44%)\n",
            "  adding: content/output_mcar/linear_ts_n500_vars6_lag2_gaussian_mcar20_missing.csv (deflated 52%)\n",
            "  adding: content/output_mcar/linear_ts_n5000_vars4_lag3_student_t_mcar20_graph.png (deflated 6%)\n",
            "  adding: content/output_mcar/linear_ts_n1000_vars6_lag3_gaussian_mcar20_series.png (deflated 2%)\n",
            "  adding: content/output_mcar/linear_ts_n5000_vars8_lag2_student_t_mcar10_series.png (deflated 3%)\n",
            "  adding: content/output_mcar/linear_ts_n1000_vars4_lag4_gaussian_mcar10_structure.txt (deflated 37%)\n",
            "  adding: content/output_mcar/linear_ts_n1000_vars6_lag2_gaussian_mcar10_missing.csv (deflated 53%)\n",
            "  adding: content/output_mcar/linear_ts_n500_vars6_lag4_student_t_mcar20_structure.txt (deflated 43%)\n",
            "  adding: content/output_mcar/linear_ts_n1000_vars4_lag4_gaussian_mcar10_complete.csv (deflated 58%)\n",
            "  adding: content/output_mcar/linear_ts_n1000_vars6_lag4_gaussian_mcar10_series.png (deflated 1%)\n",
            "  adding: content/output_mcar/linear_ts_n500_vars6_lag4_gaussian_mcar20_series.png (deflated 2%)\n",
            "  adding: content/output_mcar/linear_ts_n1000_vars8_lag2_gaussian_mcar10_missing.csv (deflated 55%)\n",
            "  adding: content/output_mcar/linear_ts_n1000_vars8_lag2_student_t_mcar30_missing_pattern.png (deflated 4%)\n",
            "  adding: content/output_mcar/linear_ts_n500_vars4_lag3_student_t_mcar20_series.png (deflated 4%)\n",
            "  adding: content/output_mcar/linear_ts_n3000_vars8_lag3_student_t_mcar10_missing.csv (deflated 57%)\n",
            "  adding: content/output_mcar/linear_ts_n500_vars8_lag4_student_t_mcar30_structure.txt (deflated 48%)\n",
            "  adding: content/output_mcar/linear_ts_n3000_vars4_lag4_student_t_mcar20_complete.csv (deflated 59%)\n",
            "  adding: content/output_mcar/linear_ts_n1000_vars4_lag2_gaussian_mcar20_series.png (deflated 2%)\n",
            "  adding: content/output_mcar/linear_ts_n500_vars6_lag3_gaussian_mcar10_structure.txt (deflated 43%)\n",
            "  adding: content/output_mcar/linear_ts_n1000_vars8_lag3_student_t_mcar20_missing.csv (deflated 55%)\n",
            "  adding: content/output_mcar/linear_ts_n5000_vars4_lag4_gaussian_mcar20_graph.png (deflated 6%)\n",
            "  adding: content/output_mcar/linear_ts_n1000_vars4_lag2_student_t_mcar10_missing_pattern.png (deflated 7%)\n",
            "  adding: content/output_mcar/linear_ts_n500_vars4_lag3_student_t_mcar30_missing.csv (deflated 55%)\n",
            "  adding: content/output_mcar/linear_ts_n1000_vars6_lag3_gaussian_mcar10_complete.csv (deflated 55%)\n",
            "  adding: content/output_mcar/linear_ts_n5000_vars6_lag3_gaussian_mcar20_graph.png (deflated 6%)\n",
            "  adding: content/output_mcar/linear_ts_n500_vars8_lag3_gaussian_mcar30_structure.txt (deflated 48%)\n",
            "  adding: content/output_mcar/linear_ts_n1000_vars4_lag4_gaussian_mcar30_series.png (deflated 2%)\n",
            "  adding: content/output_mcar/linear_ts_n3000_vars4_lag3_student_t_mcar10_graph.png (deflated 6%)\n",
            "  adding: content/output_mcar/linear_ts_n3000_vars8_lag2_gaussian_mcar10_graph.png (deflated 6%)\n",
            "  adding: content/output_mcar/linear_ts_n1000_vars8_lag2_student_t_mcar30_structure.txt (deflated 49%)\n",
            "  adding: content/output_mcar/linear_ts_n500_vars8_lag2_gaussian_mcar10_graph.png (deflated 6%)\n",
            "  adding: content/output_mcar/linear_ts_n1000_vars8_lag4_student_t_mcar30_series.png (deflated 3%)\n",
            "  adding: content/output_mcar/linear_ts_n500_vars6_lag2_gaussian_mcar30_series.png (deflated 2%)\n",
            "  adding: content/output_mcar/linear_ts_n1000_vars4_lag4_gaussian_mcar10_missing_pattern.png (deflated 6%)\n",
            "  adding: content/output_mcar/linear_ts_n500_vars4_lag2_student_t_mcar20_complete.csv (deflated 57%)\n",
            "  adding: content/output_mcar/linear_ts_n1000_vars4_lag3_student_t_mcar30_missing.csv (deflated 56%)\n",
            "  adding: content/output_mcar/linear_ts_n500_vars4_lag2_student_t_mcar10_graph.png (deflated 7%)\n",
            "  adding: content/output_mcar/linear_ts_n3000_vars6_lag4_student_t_mcar30_graph.png (deflated 6%)\n",
            "  adding: content/output_mcar/linear_ts_n5000_vars8_lag4_gaussian_mcar10_series.png (deflated 1%)\n",
            "  adding: content/output_mcar/linear_ts_n3000_vars6_lag2_student_t_mcar10_complete.csv (deflated 55%)\n",
            "  adding: content/output_mcar/linear_ts_n1000_vars4_lag2_student_t_mcar20_missing_pattern.png (deflated 4%)\n",
            "  adding: content/output_mcar/linear_ts_n500_vars8_lag4_student_t_mcar10_missing_pattern.png (deflated 5%)\n",
            "  adding: content/output_mcar/linear_ts_n5000_vars4_lag2_gaussian_mcar10_missing_pattern.png (deflated 5%)\n",
            "  adding: content/output_mcar/linear_ts_n3000_vars6_lag4_student_t_mcar10_missing_pattern.png (deflated 4%)\n",
            "  adding: content/output_mcar/linear_ts_n500_vars4_lag2_student_t_mcar20_series.png (deflated 3%)\n",
            "  adding: content/output_mcar/linear_ts_n500_vars4_lag2_gaussian_mcar10_series.png (deflated 2%)\n",
            "  adding: content/output_mcar/linear_ts_n3000_vars4_lag4_student_t_mcar20_graph.png (deflated 6%)\n",
            "  adding: content/output_mcar/linear_ts_n500_vars4_lag4_gaussian_mcar20_series.png (deflated 2%)\n",
            "  adding: content/output_mcar/linear_ts_n500_vars6_lag3_student_t_mcar30_missing.csv (deflated 53%)\n",
            "  adding: content/output_mcar/linear_ts_n1000_vars6_lag3_gaussian_mcar30_structure.txt (deflated 43%)\n",
            "  adding: content/output_mcar/linear_ts_n1000_vars6_lag4_gaussian_mcar20_missing_pattern.png (deflated 6%)\n",
            "  adding: content/output_mcar/linear_ts_n3000_vars4_lag2_gaussian_mcar20_missing_pattern.png (deflated 5%)\n",
            "  adding: content/output_mcar/linear_ts_n500_vars6_lag3_student_t_mcar30_graph.png (deflated 6%)\n",
            "  adding: content/output_mcar/linear_ts_n3000_vars8_lag2_student_t_mcar20_missing.csv (deflated 55%)\n",
            "  adding: content/output_mcar/linear_ts_n3000_vars8_lag2_gaussian_mcar10_structure.txt (deflated 49%)\n",
            "  adding: content/output_mcar/linear_ts_n1000_vars8_lag4_student_t_mcar30_graph.png (deflated 5%)\n",
            "  adding: content/output_mcar/linear_ts_n500_vars6_lag4_student_t_mcar20_missing.csv (deflated 54%)\n",
            "  adding: content/output_mcar/linear_ts_n500_vars4_lag2_gaussian_mcar30_graph.png (deflated 7%)\n",
            "  adding: content/output_mcar/linear_ts_n500_vars8_lag3_student_t_mcar30_complete.csv (deflated 56%)\n",
            "  adding: content/output_mcar/linear_ts_n1000_vars6_lag4_gaussian_mcar30_missing.csv (deflated 55%)\n",
            "  adding: content/output_mcar/linear_ts_n500_vars8_lag4_student_t_mcar30_missing.csv (deflated 54%)\n",
            "  adding: content/output_mcar/linear_ts_n1000_vars4_lag3_student_t_mcar20_missing.csv (deflated 56%)\n",
            "  adding: content/output_mcar/linear_ts_n1000_vars8_lag3_student_t_mcar20_missing_pattern.png (deflated 4%)\n",
            "  adding: content/output_mcar/linear_ts_n3000_vars8_lag3_gaussian_mcar20_complete.csv (deflated 57%)\n",
            "  adding: content/output_mcar/linear_ts_n1000_vars8_lag4_student_t_mcar10_structure.txt (deflated 48%)\n",
            "  adding: content/output_mcar/linear_ts_n1000_vars4_lag3_student_t_mcar20_structure.txt (deflated 37%)\n",
            "  adding: content/output_mcar/linear_ts_n500_vars6_lag3_gaussian_mcar20_missing.csv (deflated 54%)\n",
            "  adding: content/output_mcar/linear_ts_n1000_vars4_lag3_student_t_mcar10_graph.png (deflated 6%)\n",
            "  adding: content/output_mcar/linear_ts_n3000_vars4_lag3_gaussian_mcar30_structure.txt (deflated 37%)\n",
            "  adding: content/output_mcar/linear_ts_n1000_vars8_lag2_gaussian_mcar10_complete.csv (deflated 55%)\n",
            "  adding: content/output_mcar/linear_ts_n5000_vars8_lag2_student_t_mcar10_complete.csv (deflated 56%)\n",
            "  adding: content/output_mcar/linear_ts_n500_vars6_lag3_student_t_mcar20_complete.csv (deflated 54%)\n",
            "  adding: content/output_mcar/linear_ts_n5000_vars8_lag2_student_t_mcar20_series.png (deflated 3%)\n",
            "  adding: content/output_mcar/linear_ts_n3000_vars6_lag3_student_t_mcar10_series.png (deflated 3%)\n",
            "  adding: content/output_mcar/linear_ts_n1000_vars6_lag2_gaussian_mcar20_graph.png (deflated 8%)\n",
            "  adding: content/output_mcar/linear_ts_n5000_vars8_lag3_gaussian_mcar30_structure.txt (deflated 48%)\n",
            "  adding: content/output_mcar/linear_ts_n3000_vars6_lag2_gaussian_mcar10_complete.csv (deflated 55%)\n",
            "  adding: content/output_mcar/linear_ts_n5000_vars6_lag3_gaussian_mcar10_missing_pattern.png (deflated 4%)\n",
            "  adding: content/output_mcar/linear_ts_n5000_vars6_lag4_student_t_mcar20_series.png (deflated 3%)\n",
            "  adding: content/output_mcar/linear_ts_n5000_vars6_lag2_gaussian_mcar20_missing_pattern.png (deflated 4%)\n",
            "  adding: content/output_mcar/linear_ts_n500_vars8_lag2_student_t_mcar10_structure.txt (deflated 49%)\n",
            "  adding: content/output_mcar/linear_ts_n1000_vars8_lag3_gaussian_mcar20_graph.png (deflated 5%)\n",
            "  adding: content/output_mcar/linear_ts_n1000_vars6_lag3_student_t_mcar30_complete.csv (deflated 55%)\n",
            "  adding: content/output_mcar/linear_ts_n5000_vars4_lag2_student_t_mcar20_complete.csv (deflated 59%)\n",
            "  adding: content/output_mcar/linear_ts_n3000_vars4_lag2_student_t_mcar20_structure.txt (deflated 34%)\n",
            "  adding: content/output_mcar/linear_ts_n500_vars8_lag3_student_t_mcar10_missing.csv (deflated 55%)\n",
            "  adding: content/output_mcar/linear_ts_n5000_vars4_lag2_gaussian_mcar10_series.png (deflated 1%)\n",
            "  adding: content/output_mcar/linear_ts_n500_vars8_lag3_student_t_mcar30_structure.txt (deflated 48%)\n",
            "  adding: content/output_mcar/linear_ts_n5000_vars6_lag2_gaussian_mcar20_missing.csv (deflated 55%)\n",
            "  adding: content/output_mcar/linear_ts_n3000_vars8_lag2_gaussian_mcar20_structure.txt (deflated 49%)\n",
            "  adding: content/output_mcar/linear_ts_n5000_vars6_lag4_gaussian_mcar30_complete.csv (deflated 57%)\n",
            "  adding: content/output_mcar/linear_ts_n5000_vars8_lag4_gaussian_mcar30_missing_pattern.png (deflated 4%)\n",
            "  adding: content/output_mcar/linear_ts_n5000_vars6_lag4_gaussian_mcar30_missing.csv (deflated 56%)\n",
            "  adding: content/output_mcar/linear_ts_n500_vars4_lag3_gaussian_mcar30_missing.csv (deflated 56%)\n",
            "  adding: content/output_mcar/linear_ts_n500_vars4_lag3_gaussian_mcar20_structure.txt (deflated 37%)\n",
            "  adding: content/output_mcar/linear_ts_n500_vars8_lag4_gaussian_mcar30_missing_pattern.png (deflated 4%)\n",
            "  adding: content/output_mcar/linear_ts_n500_vars8_lag3_student_t_mcar10_complete.csv (deflated 56%)\n",
            "  adding: content/output_mcar/linear_ts_n1000_vars4_lag2_student_t_mcar30_missing_pattern.png (deflated 4%)\n",
            "  adding: content/output_mcar/linear_ts_n1000_vars8_lag2_student_t_mcar20_graph.png (deflated 7%)\n",
            "  adding: content/output_mcar/linear_ts_n5000_vars4_lag4_student_t_mcar20_series.png (deflated 4%)\n",
            "  adding: content/output_mcar/linear_ts_n1000_vars8_lag2_student_t_mcar20_complete.csv (deflated 55%)\n",
            "  adding: content/output_mcar/linear_ts_n500_vars6_lag2_student_t_mcar30_missing.csv (deflated 52%)\n",
            "  adding: content/output_mcar/linear_ts_n3000_vars4_lag4_gaussian_mcar10_complete.csv (deflated 59%)\n",
            "  adding: content/output_mcar/linear_ts_n3000_vars6_lag3_student_t_mcar30_missing.csv (deflated 56%)\n",
            "  adding: content/output_mcar/linear_ts_n500_vars6_lag2_student_t_mcar10_series.png (deflated 3%)\n",
            "  adding: content/output_mcar/linear_ts_n1000_vars6_lag3_student_t_mcar20_complete.csv (deflated 55%)\n",
            "  adding: content/output_mcar/linear_ts_n500_vars8_lag2_gaussian_mcar10_series.png (deflated 1%)\n",
            "  adding: content/output_mcar/linear_ts_n5000_vars6_lag2_student_t_mcar30_missing_pattern.png (deflated 4%)\n",
            "  adding: content/output_mcar/linear_ts_n5000_vars8_lag3_gaussian_mcar30_complete.csv (deflated 58%)\n",
            "  adding: content/output_mcar/linear_ts_n500_vars4_lag3_student_t_mcar30_structure.txt (deflated 37%)\n",
            "  adding: content/output_mcar/linear_ts_n1000_vars8_lag3_gaussian_mcar10_series.png (deflated 1%)\n",
            "  adding: content/output_mcar/linear_ts_n3000_vars4_lag2_gaussian_mcar30_missing.csv (deflated 58%)\n",
            "  adding: content/output_mcar/linear_ts_n3000_vars4_lag2_student_t_mcar20_series.png (deflated 4%)\n",
            "  adding: content/output_mcar/linear_ts_n3000_vars6_lag2_gaussian_mcar20_structure.txt (deflated 44%)\n",
            "  adding: content/output_mcar/linear_ts_n1000_vars6_lag4_gaussian_mcar20_graph.png (deflated 6%)\n",
            "  adding: content/output_mcar/linear_ts_n1000_vars4_lag2_student_t_mcar30_structure.txt (deflated 34%)\n",
            "  adding: content/output_mcar/linear_ts_n5000_vars4_lag2_gaussian_mcar10_graph.png (deflated 8%)\n",
            "  adding: content/output_mcar/linear_ts_n5000_vars4_lag3_gaussian_mcar10_graph.png (deflated 6%)\n",
            "  adding: content/output_mcar/linear_ts_n3000_vars6_lag4_gaussian_mcar20_graph.png (deflated 6%)\n",
            "  adding: content/output_mcar/linear_ts_n5000_vars4_lag3_student_t_mcar10_graph.png (deflated 6%)\n",
            "  adding: content/output_mcar/linear_ts_n1000_vars8_lag4_student_t_mcar20_series.png (deflated 3%)\n",
            "  adding: content/output_mcar/linear_ts_n1000_vars8_lag2_student_t_mcar30_series.png (deflated 3%)\n",
            "  adding: content/output_mcar/linear_ts_n3000_vars8_lag2_gaussian_mcar30_series.png (deflated 1%)\n",
            "  adding: content/output_mcar/linear_ts_n500_vars6_lag4_student_t_mcar10_series.png (deflated 4%)\n",
            "  adding: content/output_mcar/linear_ts_n5000_vars6_lag4_student_t_mcar10_missing_pattern.png (deflated 4%)\n",
            "  adding: content/output_mcar/linear_ts_n1000_vars8_lag2_student_t_mcar30_graph.png (deflated 6%)\n",
            "  adding: content/output_mcar/linear_ts_n1000_vars8_lag2_student_t_mcar20_missing.csv (deflated 54%)\n",
            "  adding: content/output_mcar/linear_ts_n5000_vars6_lag3_gaussian_mcar30_complete.csv (deflated 57%)\n",
            "  adding: content/output_mcar/linear_ts_n3000_vars8_lag3_gaussian_mcar10_missing_pattern.png (deflated 4%)\n",
            "  adding: content/output_mcar/linear_ts_n1000_vars4_lag3_student_t_mcar30_structure.txt (deflated 37%)\n",
            "  adding: content/output_mcar/linear_ts_n3000_vars6_lag3_student_t_mcar20_complete.csv (deflated 56%)\n",
            "  adding: content/output_mcar/linear_ts_n1000_vars8_lag3_student_t_mcar30_missing.csv (deflated 55%)\n",
            "  adding: content/output_mcar/linear_ts_n3000_vars8_lag2_student_t_mcar30_missing.csv (deflated 55%)\n",
            "  adding: content/output_mcar/linear_ts_n1000_vars8_lag4_student_t_mcar20_graph.png (deflated 5%)\n",
            "  adding: content/output_mcar/linear_ts_n5000_vars4_lag4_gaussian_mcar10_graph.png (deflated 6%)\n",
            "  adding: content/output_mcar/linear_ts_n3000_vars6_lag3_gaussian_mcar10_complete.csv (deflated 57%)\n",
            "  adding: content/output_mcar/linear_ts_n5000_vars4_lag3_student_t_mcar20_missing_pattern.png (deflated 4%)\n",
            "  adding: content/output_mcar/linear_ts_n5000_vars6_lag4_gaussian_mcar20_structure.txt (deflated 43%)\n",
            "  adding: content/output_mcar/linear_ts_n5000_vars8_lag3_student_t_mcar10_graph.png (deflated 5%)\n",
            "  adding: content/output_mcar/linear_ts_n5000_vars4_lag3_gaussian_mcar30_graph.png (deflated 6%)\n",
            "  adding: content/output_mcar/linear_ts_n5000_vars8_lag2_gaussian_mcar20_series.png (deflated 1%)\n",
            "  adding: content/output_mcar/linear_ts_n500_vars6_lag4_gaussian_mcar20_structure.txt (deflated 43%)\n",
            "  adding: content/output_mcar/linear_ts_n3000_vars4_lag2_student_t_mcar10_graph.png (deflated 7%)\n",
            "  adding: content/output_mcar/linear_ts_n3000_vars4_lag4_student_t_mcar30_series.png (deflated 4%)\n",
            "  adding: content/output_mcar/linear_ts_n3000_vars6_lag3_gaussian_mcar30_missing.csv (deflated 56%)\n",
            "  adding: content/output_mcar/linear_ts_n5000_vars4_lag3_student_t_mcar20_complete.csv (deflated 59%)\n",
            "  adding: content/output_mcar/linear_ts_n500_vars8_lag4_student_t_mcar30_missing_pattern.png (deflated 4%)\n",
            "  adding: content/output_mcar/linear_ts_n3000_vars6_lag4_student_t_mcar30_complete.csv (deflated 56%)\n",
            "  adding: content/output_mcar/linear_ts_n1000_vars8_lag4_student_t_mcar20_complete.csv (deflated 56%)\n",
            "  adding: content/output_mcar/linear_ts_n5000_vars6_lag2_student_t_mcar20_graph.png (deflated 8%)\n",
            "  adding: content/output_mcar/linear_ts_n5000_vars6_lag4_student_t_mcar20_missing.csv (deflated 56%)\n",
            "  adding: content/output_mcar/linear_ts_n500_vars6_lag4_student_t_mcar30_missing_pattern.png (deflated 4%)\n",
            "  adding: content/output_mcar/linear_ts_n1000_vars6_lag3_student_t_mcar10_structure.txt (deflated 43%)\n",
            "  adding: content/output_mcar/linear_ts_n1000_vars4_lag4_student_t_mcar20_graph.png (deflated 6%)\n",
            "  adding: content/output_mcar/linear_ts_n5000_vars8_lag3_student_t_mcar20_graph.png (deflated 5%)\n",
            "  adding: content/output_mcar/linear_ts_n5000_vars4_lag4_gaussian_mcar20_missing_pattern.png (deflated 5%)\n",
            "  adding: content/output_mcar/linear_ts_n500_vars4_lag2_gaussian_mcar20_missing.csv (deflated 56%)\n",
            "  adding: content/output_mcar/linear_ts_n5000_vars4_lag4_gaussian_mcar20_missing.csv (deflated 58%)\n",
            "  adding: content/output_mcar/linear_ts_n3000_vars8_lag4_gaussian_mcar30_graph.png (deflated 5%)\n",
            "  adding: content/output_mcar/linear_ts_n5000_vars8_lag2_student_t_mcar20_graph.png (deflated 6%)\n",
            "  adding: content/output_mcar/linear_ts_n1000_vars8_lag3_student_t_mcar10_complete.csv (deflated 56%)\n",
            "  adding: content/output_mcar/linear_ts_n3000_vars8_lag4_student_t_mcar20_missing.csv (deflated 56%)\n",
            "  adding: content/output_mcar/linear_ts_n3000_vars4_lag4_student_t_mcar10_series.png (deflated 4%)\n",
            "  adding: content/output_mcar/linear_ts_n1000_vars6_lag3_gaussian_mcar10_graph.png (deflated 6%)\n",
            "  adding: content/output_mcar/linear_ts_n3000_vars6_lag2_student_t_mcar30_graph.png (deflated 8%)\n",
            "  adding: content/output_mcar/linear_ts_n500_vars4_lag3_gaussian_mcar30_structure.txt (deflated 37%)\n",
            "  adding: content/output_mcar/linear_ts_n3000_vars6_lag2_gaussian_mcar30_graph.png (deflated 8%)\n",
            "  adding: content/output_mcar/linear_ts_n5000_vars8_lag2_gaussian_mcar10_structure.txt (deflated 49%)\n",
            "  adding: content/output_mcar/linear_ts_n5000_vars6_lag3_student_t_mcar30_structure.txt (deflated 43%)\n",
            "  adding: content/output_mcar/linear_ts_n500_vars8_lag2_student_t_mcar20_missing.csv (deflated 53%)\n",
            "  adding: content/output_mcar/linear_ts_n3000_vars6_lag2_student_t_mcar20_structure.txt (deflated 44%)\n",
            "  adding: content/output_mcar/linear_ts_n5000_vars4_lag4_gaussian_mcar30_series.png (deflated 1%)\n",
            "  adding: content/output_mcar/linear_ts_n5000_vars8_lag2_student_t_mcar30_missing_pattern.png (deflated 4%)\n",
            "  adding: content/output_mcar/linear_ts_n1000_vars4_lag2_gaussian_mcar30_complete.csv (deflated 58%)\n",
            "  adding: content/output_mcar/linear_ts_n500_vars8_lag3_student_t_mcar10_structure.txt (deflated 48%)\n",
            "  adding: content/output_mcar/linear_ts_n3000_vars8_lag3_gaussian_mcar30_complete.csv (deflated 57%)\n",
            "  adding: content/output_mcar/linear_ts_n5000_vars6_lag3_student_t_mcar30_graph.png (deflated 6%)\n",
            "  adding: content/output_mcar/linear_ts_n500_vars4_lag3_gaussian_mcar20_missing.csv (deflated 56%)\n",
            "  adding: content/output_mcar/linear_ts_n3000_vars6_lag4_gaussian_mcar20_complete.csv (deflated 57%)\n",
            "  adding: content/output_mcar/linear_ts_n500_vars6_lag2_student_t_mcar10_structure.txt (deflated 44%)\n",
            "  adding: content/output_mcar/linear_ts_n3000_vars8_lag3_gaussian_mcar20_missing_pattern.png (deflated 3%)\n",
            "  adding: content/output_mcar/linear_ts_n500_vars6_lag4_gaussian_mcar30_structure.txt (deflated 43%)\n",
            "  adding: content/output_mcar/linear_ts_n500_vars6_lag2_student_t_mcar30_graph.png (deflated 8%)\n",
            "  adding: content/output_mcar/linear_ts_n5000_vars8_lag2_student_t_mcar30_structure.txt (deflated 49%)\n",
            "  adding: content/output_mcar/linear_ts_n1000_vars8_lag3_student_t_mcar10_structure.txt (deflated 48%)\n",
            "  adding: content/output_mcar/linear_ts_n3000_vars4_lag2_gaussian_mcar20_complete.csv (deflated 59%)\n",
            "  adding: content/output_mcar/linear_ts_n5000_vars8_lag4_gaussian_mcar30_graph.png (deflated 5%)\n",
            "  adding: content/output_mcar/linear_ts_n3000_vars6_lag3_gaussian_mcar10_series.png (deflated 1%)\n",
            "  adding: content/output_mcar/linear_ts_n3000_vars4_lag2_gaussian_mcar10_graph.png (deflated 8%)\n",
            "  adding: content/output_mcar/linear_ts_n1000_vars8_lag3_gaussian_mcar20_complete.csv (deflated 56%)\n",
            "  adding: content/output_mcar/linear_ts_n1000_vars6_lag4_student_t_mcar20_structure.txt (deflated 43%)\n",
            "  adding: content/output_mcar/linear_ts_n3000_vars6_lag4_student_t_mcar10_series.png (deflated 3%)\n",
            "  adding: content/output_mcar/linear_ts_n1000_vars4_lag4_student_t_mcar30_series.png (deflated 5%)\n",
            "  adding: content/output_mcar/linear_ts_n5000_vars6_lag4_gaussian_mcar30_graph.png (deflated 7%)\n",
            "  adding: content/output_mcar/linear_ts_n1000_vars8_lag3_student_t_mcar10_missing_pattern.png (deflated 5%)\n",
            "  adding: content/output_mcar/linear_ts_n3000_vars4_lag4_gaussian_mcar30_graph.png (deflated 6%)\n",
            "  adding: content/output_mcar/linear_ts_n3000_vars6_lag2_gaussian_mcar30_structure.txt (deflated 44%)\n",
            "  adding: content/output_mcar/linear_ts_n3000_vars4_lag4_student_t_mcar20_missing_pattern.png (deflated 5%)\n",
            "  adding: content/output_mcar/linear_ts_n500_vars4_lag2_student_t_mcar20_missing.csv (deflated 56%)\n",
            "  adding: content/output_mcar/linear_ts_n1000_vars6_lag4_gaussian_mcar10_missing.csv (deflated 55%)\n",
            "  adding: content/output_mcar/linear_ts_n500_vars8_lag4_gaussian_mcar20_graph.png (deflated 5%)\n",
            "  adding: content/output_mcar/linear_ts_n1000_vars4_lag4_gaussian_mcar30_missing.csv (deflated 56%)\n",
            "  adding: content/output_mcar/linear_ts_n500_vars8_lag2_student_t_mcar10_series.png (deflated 3%)\n",
            "  adding: content/output_mcar/linear_ts_n3000_vars8_lag4_gaussian_mcar30_complete.csv (deflated 57%)\n",
            "  adding: content/output_mcar/linear_ts_n5000_vars6_lag2_gaussian_mcar20_complete.csv (deflated 55%)\n",
            "  adding: content/output_mcar/linear_ts_n3000_vars8_lag2_gaussian_mcar20_missing.csv (deflated 55%)\n",
            "  adding: content/output_mcar/linear_ts_n1000_vars8_lag3_gaussian_mcar30_missing_pattern.png (deflated 4%)\n",
            "  adding: content/output_mcar/linear_ts_n5000_vars8_lag4_student_t_mcar30_missing_pattern.png (deflated 4%)\n",
            "  adding: content/output_mcar/linear_ts_n3000_vars6_lag3_gaussian_mcar20_missing.csv (deflated 56%)\n",
            "  adding: content/output_mcar/linear_ts_n5000_vars6_lag2_student_t_mcar10_structure.txt (deflated 44%)\n",
            "  adding: content/output_mcar/linear_ts_n1000_vars6_lag4_student_t_mcar30_series.png (deflated 4%)\n",
            "  adding: content/output_mcar/linear_ts_n5000_vars8_lag3_gaussian_mcar10_graph.png (deflated 5%)\n",
            "  adding: content/output_mcar/linear_ts_n500_vars6_lag2_gaussian_mcar10_series.png (deflated 1%)\n",
            "  adding: content/output_mcar/linear_ts_n500_vars4_lag4_student_t_mcar30_complete.csv (deflated 57%)\n",
            "  adding: content/output_mcar/linear_ts_n500_vars6_lag4_student_t_mcar10_structure.txt (deflated 43%)\n",
            "  adding: content/output_mcar/linear_ts_n1000_vars6_lag2_student_t_mcar10_missing.csv (deflated 53%)\n",
            "  adding: content/output_mcar/linear_ts_n1000_vars4_lag2_student_t_mcar30_series.png (deflated 4%)\n",
            "  adding: content/output_mcar/linear_ts_n5000_vars6_lag4_student_t_mcar10_graph.png (deflated 6%)\n",
            "  adding: content/output_mcar/linear_ts_n5000_vars4_lag4_gaussian_mcar20_structure.txt (deflated 37%)\n",
            "  adding: content/output_mcar/linear_ts_n5000_vars4_lag4_student_t_mcar10_missing.csv (deflated 59%)\n",
            "  adding: content/output_mcar/linear_ts_n500_vars8_lag2_student_t_mcar20_missing_pattern.png (deflated 4%)\n",
            "  adding: content/output_mcar/linear_ts_n1000_vars6_lag4_gaussian_mcar20_complete.csv (deflated 55%)\n",
            "  adding: content/output_mcar/linear_ts_n1000_vars8_lag4_gaussian_mcar20_missing_pattern.png (deflated 4%)\n",
            "  adding: content/output_mcar/linear_ts_n5000_vars6_lag2_gaussian_mcar30_missing_pattern.png (deflated 4%)\n",
            "  adding: content/output_mcar/linear_ts_n3000_vars8_lag4_gaussian_mcar20_series.png (deflated 1%)\n",
            "  adding: content/output_mcar/linear_ts_n5000_vars6_lag2_student_t_mcar20_structure.txt (deflated 44%)\n",
            "  adding: content/output_mcar/linear_ts_n1000_vars8_lag4_student_t_mcar10_missing_pattern.png (deflated 5%)\n",
            "  adding: content/output_mcar/linear_ts_n1000_vars6_lag4_gaussian_mcar30_series.png (deflated 2%)\n",
            "  adding: content/output_mcar/linear_ts_n3000_vars6_lag4_gaussian_mcar30_missing_pattern.png (deflated 4%)\n",
            "  adding: content/output_mcar/linear_ts_n500_vars4_lag2_gaussian_mcar10_missing.csv (deflated 57%)\n",
            "  adding: content/output_mcar/linear_ts_n500_vars8_lag2_student_t_mcar20_series.png (deflated 2%)\n",
            "  adding: content/output_mcar/linear_ts_n3000_vars4_lag2_gaussian_mcar10_structure.txt (deflated 34%)\n",
            "  adding: content/output_mcar/linear_ts_n500_vars6_lag3_gaussian_mcar20_missing_pattern.png (deflated 5%)\n",
            "  adding: content/output_mcar/linear_ts_n500_vars6_lag4_gaussian_mcar30_graph.png (deflated 7%)\n",
            "  adding: content/output_mcar/linear_ts_n3000_vars6_lag3_student_t_mcar10_missing.csv (deflated 56%)\n",
            "  adding: content/output_mcar/linear_ts_n5000_vars4_lag2_student_t_mcar10_missing_pattern.png (deflated 5%)\n",
            "  adding: content/output_mcar/linear_ts_n5000_vars6_lag3_student_t_mcar20_missing_pattern.png (deflated 4%)\n",
            "  adding: content/output_mcar/linear_ts_n5000_vars6_lag2_gaussian_mcar30_structure.txt (deflated 44%)\n",
            "  adding: content/output_mcar/linear_ts_n5000_vars8_lag4_gaussian_mcar20_structure.txt (deflated 48%)\n",
            "  adding: content/output_mcar/linear_ts_n5000_vars8_lag3_student_t_mcar30_missing.csv (deflated 57%)\n",
            "  adding: content/output_mcar/linear_ts_n500_vars8_lag3_gaussian_mcar10_missing.csv (deflated 55%)\n",
            "  adding: content/output_mcar/linear_ts_n1000_vars8_lag3_student_t_mcar10_series.png (deflated 3%)\n",
            "  adding: content/output_mcar/linear_ts_n3000_vars8_lag4_student_t_mcar10_structure.txt (deflated 48%)\n",
            "  adding: content/output_mcar/linear_ts_n500_vars6_lag2_student_t_mcar30_complete.csv (deflated 53%)\n",
            "  adding: content/output_mcar/linear_ts_n1000_vars6_lag2_gaussian_mcar20_complete.csv (deflated 54%)\n",
            "  adding: content/output_mcar/linear_ts_n1000_vars6_lag2_student_t_mcar30_complete.csv (deflated 54%)\n",
            "  adding: content/output_mcar/linear_ts_n1000_vars6_lag3_gaussian_mcar30_graph.png (deflated 6%)\n",
            "  adding: content/output_mcar/linear_ts_n3000_vars4_lag4_gaussian_mcar30_series.png (deflated 2%)\n",
            "  adding: content/output_mcar/linear_ts_n500_vars4_lag2_gaussian_mcar20_graph.png (deflated 8%)\n",
            "  adding: content/output_mcar/linear_ts_n500_vars6_lag3_student_t_mcar30_series.png (deflated 4%)\n",
            "  adding: content/output_mcar/linear_ts_n500_vars8_lag2_student_t_mcar20_structure.txt (deflated 49%)\n",
            "  adding: content/output_mcar/linear_ts_n5000_vars4_lag3_student_t_mcar20_structure.txt (deflated 37%)\n",
            "  adding: content/output_mcar/linear_ts_n5000_vars4_lag4_student_t_mcar20_missing_pattern.png (deflated 4%)\n",
            "  adding: content/output_mcar/linear_ts_n500_vars8_lag4_student_t_mcar10_complete.csv (deflated 56%)\n",
            "  adding: content/output_mcar/linear_ts_n1000_vars4_lag4_student_t_mcar30_complete.csv (deflated 58%)\n",
            "  adding: content/output_mcar/linear_ts_n3000_vars4_lag3_gaussian_mcar10_missing.csv (deflated 58%)\n",
            "  adding: content/output_mcar/linear_ts_n1000_vars6_lag2_gaussian_mcar20_series.png (deflated 1%)\n",
            "  adding: content/output_mcar/linear_ts_n5000_vars6_lag3_student_t_mcar20_series.png (deflated 3%)\n",
            "  adding: content/output_mcar/linear_ts_n5000_vars8_lag2_gaussian_mcar30_structure.txt (deflated 49%)\n",
            "  adding: content/output_mcar/linear_ts_n1000_vars8_lag2_gaussian_mcar20_missing_pattern.png (deflated 4%)\n",
            "  adding: content/output_mcar/linear_ts_n3000_vars6_lag3_gaussian_mcar30_graph.png (deflated 6%)\n",
            "  adding: content/output_mcar/linear_ts_n3000_vars4_lag2_gaussian_mcar30_series.png (deflated 2%)\n",
            "  adding: content/output_mcar/linear_ts_n1000_vars4_lag4_gaussian_mcar30_graph.png (deflated 6%)\n",
            "  adding: content/output_mcar/linear_ts_n3000_vars8_lag4_gaussian_mcar20_missing_pattern.png (deflated 3%)\n",
            "  adding: content/output_mcar/linear_ts_n500_vars6_lag3_student_t_mcar20_structure.txt (deflated 43%)\n",
            "  adding: content/output_mcar/linear_ts_n3000_vars4_lag2_student_t_mcar30_missing_pattern.png (deflated 4%)\n",
            "  adding: content/output_mcar/linear_ts_n3000_vars6_lag2_student_t_mcar10_missing.csv (deflated 54%)\n",
            "  adding: content/output_mcar/linear_ts_n500_vars4_lag3_gaussian_mcar30_series.png (deflated 2%)\n",
            "  adding: content/output_mcar/linear_ts_n500_vars4_lag2_gaussian_mcar30_structure.txt (deflated 34%)\n",
            "  adding: content/output_mcar/linear_ts_n1000_vars6_lag2_gaussian_mcar30_structure.txt (deflated 44%)\n",
            "  adding: content/output_mcar/linear_ts_n5000_vars6_lag2_gaussian_mcar30_missing.csv (deflated 55%)\n",
            "  adding: content/output_mcar/linear_ts_n500_vars4_lag3_student_t_mcar20_missing.csv (deflated 56%)\n",
            "  adding: content/output_mcar/linear_ts_n1000_vars4_lag2_gaussian_mcar10_graph.png (deflated 8%)\n",
            "  adding: content/output_mcar/linear_ts_n3000_vars8_lag4_gaussian_mcar10_graph.png (deflated 5%)\n",
            "  adding: content/output_mcar/linear_ts_n500_vars8_lag4_student_t_mcar20_series.png (deflated 3%)\n",
            "  adding: content/output_mcar/linear_ts_n5000_vars6_lag3_gaussian_mcar30_structure.txt (deflated 43%)\n",
            "  adding: content/output_mcar/linear_ts_n5000_vars4_lag4_gaussian_mcar10_structure.txt (deflated 37%)\n",
            "  adding: content/output_mcar/linear_ts_n1000_vars6_lag4_student_t_mcar30_structure.txt (deflated 43%)\n",
            "  adding: content/output_mcar/linear_ts_n1000_vars4_lag3_student_t_mcar20_graph.png (deflated 6%)\n",
            "  adding: content/output_mcar/linear_ts_n500_vars6_lag2_gaussian_mcar20_structure.txt (deflated 44%)\n",
            "  adding: content/output_mcar/linear_ts_n500_vars4_lag2_student_t_mcar30_graph.png (deflated 8%)\n",
            "  adding: content/output_mcar/linear_ts_n5000_vars4_lag2_student_t_mcar10_structure.txt (deflated 34%)\n",
            "  adding: content/output_mcar/linear_ts_n3000_vars4_lag2_gaussian_mcar10_missing_pattern.png (deflated 5%)\n",
            "  adding: content/output_mcar/linear_ts_n500_vars8_lag3_student_t_mcar30_graph.png (deflated 6%)\n",
            "  adding: content/output_mcar/linear_ts_n3000_vars6_lag4_student_t_mcar20_series.png (deflated 3%)\n",
            "  adding: content/output_mcar/linear_ts_n3000_vars4_lag4_student_t_mcar30_structure.txt (deflated 37%)\n",
            "  adding: content/output_mcar/linear_ts_n3000_vars4_lag3_student_t_mcar20_series.png (deflated 4%)\n",
            "  adding: content/output_mcar/linear_ts_n1000_vars4_lag3_student_t_mcar10_complete.csv (deflated 58%)\n",
            "  adding: content/output_mcar/linear_ts_n1000_vars8_lag3_gaussian_mcar10_structure.txt (deflated 48%)\n",
            "  adding: content/output_mcar/linear_ts_n500_vars8_lag4_student_t_mcar20_structure.txt (deflated 48%)\n",
            "  adding: content/output_mcar/linear_ts_n3000_vars4_lag3_gaussian_mcar30_graph.png (deflated 6%)\n",
            "  adding: content/output_mcar/linear_ts_n500_vars4_lag2_student_t_mcar30_missing.csv (deflated 56%)\n",
            "  adding: content/output_mcar/linear_ts_n3000_vars4_lag2_student_t_mcar30_series.png (deflated 4%)\n",
            "  adding: content/output_mcar/linear_ts_n5000_vars8_lag3_student_t_mcar20_complete.csv (deflated 57%)\n",
            "  adding: content/output_mcar/linear_ts_n3000_vars4_lag3_gaussian_mcar30_complete.csv (deflated 59%)\n",
            "  adding: content/output_mcar/linear_ts_n1000_vars4_lag3_gaussian_mcar30_graph.png (deflated 6%)\n",
            "  adding: content/output_mcar/linear_ts_n1000_vars8_lag4_gaussian_mcar30_missing.csv (deflated 55%)\n",
            "  adding: content/output_mcar/linear_ts_n5000_vars4_lag3_student_t_mcar30_structure.txt (deflated 37%)\n",
            "  adding: content/output_mcar/linear_ts_n3000_vars4_lag4_gaussian_mcar30_complete.csv (deflated 59%)\n",
            "  adding: content/output_mcar/linear_ts_n500_vars4_lag4_student_t_mcar20_complete.csv (deflated 57%)\n",
            "  adding: content/output_mcar/linear_ts_n3000_vars4_lag2_gaussian_mcar20_series.png (deflated 2%)\n",
            "  adding: content/output_mcar/linear_ts_n5000_vars8_lag3_student_t_mcar30_missing_pattern.png (deflated 4%)\n",
            "  adding: content/output_mcar/linear_ts_n3000_vars4_lag3_student_t_mcar20_missing_pattern.png (deflated 5%)\n",
            "  adding: content/output_mcar/linear_ts_n1000_vars8_lag4_student_t_mcar30_missing_pattern.png (deflated 4%)\n",
            "  adding: content/output_mcar/linear_ts_n5000_vars4_lag4_gaussian_mcar30_structure.txt (deflated 37%)\n",
            "  adding: content/output_mcar/linear_ts_n3000_vars4_lag4_gaussian_mcar20_missing_pattern.png (deflated 5%)\n",
            "  adding: content/output_mcar/linear_ts_n3000_vars6_lag3_student_t_mcar10_structure.txt (deflated 43%)\n",
            "  adding: content/output_mcar/linear_ts_n1000_vars6_lag2_student_t_mcar30_missing.csv (deflated 53%)\n",
            "  adding: content/output_mcar/linear_ts_n5000_vars8_lag3_student_t_mcar10_missing_pattern.png (deflated 4%)\n",
            "  adding: content/output_mcar/linear_ts_n3000_vars6_lag2_gaussian_mcar10_missing.csv (deflated 55%)\n",
            "  adding: content/output_mcar/linear_ts_n3000_vars4_lag2_student_t_mcar10_series.png (deflated 4%)\n",
            "  adding: content/output_mcar/linear_ts_n500_vars6_lag4_gaussian_mcar30_series.png (deflated 2%)\n",
            "  adding: content/output_mcar/linear_ts_n1000_vars6_lag3_student_t_mcar10_complete.csv (deflated 55%)\n",
            "  adding: content/output_mcar/linear_ts_n3000_vars8_lag2_student_t_mcar20_structure.txt (deflated 49%)\n",
            "  adding: content/output_mcar/linear_ts_n500_vars6_lag4_student_t_mcar30_graph.png (deflated 6%)\n",
            "  adding: content/output_mcar/linear_ts_n1000_vars8_lag4_gaussian_mcar20_graph.png (deflated 5%)\n",
            "  adding: content/output_mcar/linear_ts_n3000_vars6_lag4_gaussian_mcar10_missing.csv (deflated 56%)\n",
            "  adding: content/output_mcar/linear_ts_n5000_vars4_lag2_gaussian_mcar10_missing.csv (deflated 59%)\n",
            "  adding: content/output_mcar/linear_ts_n1000_vars4_lag4_gaussian_mcar10_graph.png (deflated 6%)\n",
            "  adding: content/output_mcar/linear_ts_n500_vars4_lag2_gaussian_mcar10_graph.png (deflated 8%)\n",
            "  adding: content/output_mcar/linear_ts_n3000_vars4_lag2_student_t_mcar20_graph.png (deflated 8%)\n",
            "  adding: content/output_mcar/linear_ts_n3000_vars8_lag3_student_t_mcar30_complete.csv (deflated 57%)\n",
            "  adding: content/output_mcar/linear_ts_n1000_vars8_lag3_gaussian_mcar10_complete.csv (deflated 56%)\n",
            "  adding: content/output_mcar/linear_ts_n1000_vars4_lag2_student_t_mcar30_graph.png (deflated 7%)\n",
            "  adding: content/output_mcar/linear_ts_n3000_vars8_lag2_gaussian_mcar30_missing_pattern.png (deflated 4%)\n",
            "  adding: content/output_mcar/linear_ts_n3000_vars6_lag2_gaussian_mcar20_missing_pattern.png (deflated 4%)\n",
            "  adding: content/output_mcar/linear_ts_n1000_vars4_lag4_gaussian_mcar20_graph.png (deflated 6%)\n",
            "  adding: content/output_mcar/linear_ts_n5000_vars6_lag4_gaussian_mcar20_series.png (deflated 1%)\n",
            "  adding: content/output_mcar/linear_ts_n500_vars8_lag4_gaussian_mcar10_series.png (deflated 2%)\n",
            "  adding: content/output_mcar/linear_ts_n5000_vars4_lag2_student_t_mcar30_series.png (deflated 4%)\n",
            "  adding: content/output_mcar/linear_ts_n5000_vars6_lag3_student_t_mcar10_missing.csv (deflated 56%)\n",
            "  adding: content/output_mcar/linear_ts_n3000_vars6_lag4_student_t_mcar30_structure.txt (deflated 43%)\n",
            "  adding: content/output_mcar/linear_ts_n3000_vars6_lag4_student_t_mcar30_missing_pattern.png (deflated 4%)\n",
            "  adding: content/output_mcar/linear_ts_n1000_vars4_lag4_gaussian_mcar20_missing_pattern.png (deflated 4%)\n",
            "  adding: content/output_mcar/linear_ts_n3000_vars6_lag3_gaussian_mcar30_missing_pattern.png (deflated 4%)\n",
            "  adding: content/output_mcar/linear_ts_n500_vars4_lag4_student_t_mcar20_graph.png (deflated 6%)\n",
            "  adding: content/output_mcar/linear_ts_n500_vars6_lag2_student_t_mcar10_complete.csv (deflated 53%)\n",
            "  adding: content/output_mcar/linear_ts_n1000_vars6_lag3_gaussian_mcar10_missing_pattern.png (deflated 7%)\n",
            "  adding: content/output_mcar/linear_ts_n1000_vars6_lag4_student_t_mcar30_missing_pattern.png (deflated 5%)\n",
            "  adding: content/output_mcar/linear_ts_n500_vars4_lag3_gaussian_mcar10_missing.csv (deflated 57%)\n",
            "  adding: content/output_mcar/linear_ts_n1000_vars4_lag3_student_t_mcar10_series.png (deflated 4%)\n",
            "  adding: content/output_mcar/linear_ts_n500_vars4_lag4_gaussian_mcar20_complete.csv (deflated 57%)\n",
            "  adding: content/output_mcar/linear_ts_n500_vars8_lag2_student_t_mcar20_complete.csv (deflated 54%)\n",
            "  adding: content/output_mcar/linear_ts_n1000_vars6_lag3_student_t_mcar30_missing_pattern.png (deflated 5%)\n",
            "  adding: content/output_mcar/linear_ts_n500_vars6_lag4_gaussian_mcar10_series.png (deflated 2%)\n",
            "  adding: content/output_mcar/linear_ts_n500_vars8_lag2_gaussian_mcar20_missing.csv (deflated 54%)\n",
            "  adding: content/output_mcar/linear_ts_n500_vars6_lag3_gaussian_mcar30_series.png (deflated 2%)\n",
            "  adding: content/output_mcar/linear_ts_n3000_vars6_lag2_gaussian_mcar30_complete.csv (deflated 55%)\n",
            "  adding: content/output_mcar/linear_ts_n3000_vars4_lag3_gaussian_mcar20_missing_pattern.png (deflated 5%)\n",
            "  adding: content/output_mcar/linear_ts_n5000_vars4_lag4_student_t_mcar10_complete.csv (deflated 59%)\n",
            "  adding: content/output_mcar/linear_ts_n5000_vars8_lag4_student_t_mcar30_structure.txt (deflated 48%)\n",
            "  adding: content/output_mcar/linear_ts_n1000_vars6_lag2_gaussian_mcar20_missing.csv (deflated 53%)\n",
            "  adding: content/output_mcar/linear_ts_n3000_vars8_lag4_gaussian_mcar30_structure.txt (deflated 48%)\n",
            "  adding: content/output_mcar/linear_ts_n1000_vars6_lag2_gaussian_mcar20_structure.txt (deflated 44%)\n",
            "  adding: content/output_mcar/linear_ts_n3000_vars4_lag3_student_t_mcar20_graph.png (deflated 6%)\n",
            "  adding: content/output_mcar/linear_ts_n5000_vars4_lag2_gaussian_mcar10_complete.csv (deflated 60%)\n",
            "  adding: content/output_mcar/linear_ts_n5000_vars6_lag2_student_t_mcar30_missing.csv (deflated 54%)\n",
            "  adding: content/output_mcar/linear_ts_n5000_vars6_lag3_student_t_mcar20_complete.csv (deflated 56%)\n",
            "  adding: content/output_mcar/linear_ts_n5000_vars8_lag4_student_t_mcar20_missing.csv (deflated 57%)\n",
            "  adding: content/output_mcar/linear_ts_n5000_vars8_lag3_student_t_mcar30_graph.png (deflated 5%)\n",
            "  adding: content/output_mcar/linear_ts_n3000_vars6_lag2_student_t_mcar30_complete.csv (deflated 55%)\n",
            "  adding: content/output_mcar/linear_ts_n1000_vars6_lag2_gaussian_mcar10_graph.png (deflated 8%)\n",
            "  adding: content/output_mcar/linear_ts_n3000_vars6_lag2_gaussian_mcar30_missing.csv (deflated 54%)\n",
            "  adding: content/output_mcar/linear_ts_n5000_vars4_lag3_gaussian_mcar30_series.png (deflated 1%)\n",
            "  adding: content/output_mcar/linear_ts_n1000_vars8_lag4_student_t_mcar30_complete.csv (deflated 56%)\n",
            "  adding: content/output_mcar/linear_ts_n5000_vars6_lag4_gaussian_mcar20_graph.png (deflated 7%)\n",
            "  adding: content/output_mcar/linear_ts_n1000_vars4_lag4_student_t_mcar30_structure.txt (deflated 37%)\n",
            "  adding: content/output_mcar/linear_ts_n3000_vars8_lag4_student_t_mcar10_missing_pattern.png (deflated 4%)\n",
            "  adding: content/output_mcar/linear_ts_n500_vars8_lag3_gaussian_mcar20_missing_pattern.png (deflated 4%)\n",
            "  adding: content/output_mcar/linear_ts_n5000_vars6_lag2_student_t_mcar20_series.png (deflated 3%)\n",
            "  adding: content/output_mcar/linear_ts_n1000_vars4_lag4_student_t_mcar10_missing.csv (deflated 57%)\n",
            "  adding: content/output_mcar/linear_ts_n3000_vars4_lag4_student_t_mcar20_structure.txt (deflated 37%)\n",
            "  adding: content/output_mcar/linear_ts_n500_vars6_lag4_student_t_mcar30_missing.csv (deflated 53%)\n",
            "  adding: content/output_mcar/linear_ts_n3000_vars4_lag3_student_t_mcar30_missing_pattern.png (deflated 4%)\n",
            "  adding: content/output_mcar/linear_ts_n1000_vars8_lag2_student_t_mcar10_complete.csv (deflated 55%)\n",
            "  adding: content/output_mcar/linear_ts_n1000_vars8_lag3_gaussian_mcar20_missing.csv (deflated 56%)\n",
            "  adding: content/output_mcar/linear_ts_n1000_vars8_lag3_gaussian_mcar30_missing.csv (deflated 55%)\n",
            "  adding: content/output_mcar/linear_ts_n3000_vars8_lag4_student_t_mcar20_series.png (deflated 4%)\n",
            "  adding: content/output_mcar/linear_ts_n5000_vars6_lag3_student_t_mcar20_missing.csv (deflated 56%)\n",
            "  adding: content/output_mcar/linear_ts_n5000_vars8_lag2_gaussian_mcar20_missing_pattern.png (deflated 4%)\n",
            "  adding: content/output_mcar/linear_ts_n3000_vars8_lag2_student_t_mcar30_series.png (deflated 4%)\n",
            "  adding: content/output_mcar/linear_ts_n3000_vars6_lag2_student_t_mcar30_missing_pattern.png (deflated 4%)\n",
            "  adding: content/output_mcar/linear_ts_n500_vars6_lag4_gaussian_mcar20_missing.csv (deflated 54%)\n",
            "  adding: content/output_mcar/linear_ts_n3000_vars4_lag4_gaussian_mcar10_series.png (deflated 1%)\n",
            "  adding: content/output_mcar/linear_ts_n5000_vars4_lag4_gaussian_mcar30_complete.csv (deflated 60%)\n",
            "  adding: content/output_mcar/linear_ts_n3000_vars8_lag2_gaussian_mcar20_complete.csv (deflated 56%)\n",
            "  adding: content/output_mcar/linear_ts_n1000_vars6_lag2_student_t_mcar20_missing_pattern.png (deflated 5%)\n",
            "  adding: content/output_mcar/linear_ts_n3000_vars8_lag4_gaussian_mcar20_complete.csv (deflated 57%)\n",
            "  adding: content/output_mcar/linear_ts_n500_vars6_lag3_student_t_mcar20_graph.png (deflated 6%)\n",
            "  adding: content/output_mcar/linear_ts_n1000_vars6_lag2_student_t_mcar10_complete.csv (deflated 54%)\n",
            "  adding: content/output_mcar/linear_ts_n5000_vars8_lag3_gaussian_mcar20_complete.csv (deflated 58%)\n",
            "  adding: content/output_mcar/linear_ts_n3000_vars6_lag4_gaussian_mcar30_missing.csv (deflated 56%)\n",
            "  adding: content/output_mcar/linear_ts_n3000_vars8_lag4_student_t_mcar10_graph.png (deflated 5%)\n",
            "  adding: content/output_mcar/linear_ts_n1000_vars4_lag4_student_t_mcar20_structure.txt (deflated 37%)\n",
            "  adding: content/output_mcar/linear_ts_n500_vars4_lag4_student_t_mcar20_missing.csv (deflated 56%)\n",
            "  adding: content/output_mcar/linear_ts_n1000_vars8_lag2_gaussian_mcar10_graph.png (deflated 6%)\n",
            "  adding: content/output_mcar/linear_ts_n1000_vars8_lag2_student_t_mcar30_missing.csv (deflated 54%)\n",
            "  adding: content/output_mcar/linear_ts_n1000_vars4_lag4_gaussian_mcar30_missing_pattern.png (deflated 4%)\n",
            "  adding: content/output_mcar/linear_ts_n5000_vars4_lag2_gaussian_mcar20_series.png (deflated 1%)\n",
            "  adding: content/output_mcar/linear_ts_n500_vars6_lag2_student_t_mcar10_missing.csv (deflated 53%)\n",
            "  adding: content/output_mcar/linear_ts_n5000_vars8_lag4_student_t_mcar10_series.png (deflated 3%)\n",
            "  adding: content/output_mcar/linear_ts_n1000_vars8_lag2_student_t_mcar10_missing.csv (deflated 54%)\n",
            "  adding: content/output_mcar/linear_ts_n5000_vars8_lag4_student_t_mcar20_graph.png (deflated 5%)\n",
            "  adding: content/output_mcar/linear_ts_n1000_vars8_lag4_student_t_mcar10_graph.png (deflated 5%)\n",
            "  adding: content/output_mcar/linear_ts_n3000_vars6_lag2_gaussian_mcar10_structure.txt (deflated 44%)\n",
            "  adding: content/output_mcar/linear_ts_n500_vars4_lag4_student_t_mcar10_graph.png (deflated 6%)\n",
            "  adding: content/output_mcar/linear_ts_n500_vars8_lag2_student_t_mcar30_complete.csv (deflated 54%)\n",
            "  adding: content/output_mcar/linear_ts_n500_vars4_lag4_gaussian_mcar30_missing.csv (deflated 56%)\n",
            "  adding: content/output_mcar/linear_ts_n3000_vars4_lag4_student_t_mcar10_missing.csv (deflated 58%)\n",
            "  adding: content/output_mcar/linear_ts_n3000_vars6_lag3_gaussian_mcar20_graph.png (deflated 6%)\n",
            "  adding: content/output_mcar/linear_ts_n1000_vars6_lag2_gaussian_mcar20_missing_pattern.png (deflated 6%)\n",
            "  adding: content/output_mcar/linear_ts_n500_vars8_lag3_gaussian_mcar20_missing.csv (deflated 55%)\n",
            "  adding: content/output_mcar/linear_ts_n1000_vars6_lag3_student_t_mcar30_series.png (deflated 4%)\n",
            "  adding: content/output_mcar/linear_ts_n3000_vars6_lag3_student_t_mcar20_missing.csv (deflated 56%)\n",
            "  adding: content/output_mcar/linear_ts_n1000_vars8_lag4_gaussian_mcar20_missing.csv (deflated 56%)\n",
            "  adding: content/output_mcar/linear_ts_n1000_vars6_lag3_student_t_mcar10_missing_pattern.png (deflated 7%)\n",
            "  adding: content/output_mcar/linear_ts_n500_vars6_lag3_student_t_mcar10_structure.txt (deflated 43%)\n",
            "  adding: content/output_mcar/linear_ts_n3000_vars6_lag3_gaussian_mcar20_structure.txt (deflated 43%)\n",
            "  adding: content/output_mcar/linear_ts_n500_vars6_lag2_gaussian_mcar30_missing.csv (deflated 52%)\n",
            "  adding: content/output_mcar/linear_ts_n5000_vars8_lag2_gaussian_mcar10_missing_pattern.png (deflated 4%)\n",
            "  adding: content/output_mcar/linear_ts_n500_vars6_lag3_gaussian_mcar10_complete.csv (deflated 55%)\n",
            "  adding: content/output_mcar/linear_ts_n5000_vars6_lag4_student_t_mcar20_complete.csv (deflated 56%)\n",
            "  adding: content/output_mcar/linear_ts_n3000_vars4_lag3_gaussian_mcar20_missing.csv (deflated 58%)\n",
            "  adding: content/output_mcar/linear_ts_n500_vars4_lag4_gaussian_mcar30_complete.csv (deflated 57%)\n",
            "  adding: content/output_mcar/linear_ts_n500_vars4_lag2_student_t_mcar10_series.png (deflated 4%)\n",
            "  adding: content/output_mcar/linear_ts_n1000_vars4_lag2_student_t_mcar30_missing.csv (deflated 56%)\n",
            "  adding: content/output_mcar/linear_ts_n5000_vars4_lag3_gaussian_mcar20_missing.csv (deflated 58%)\n",
            "  adding: content/output_mcar/linear_ts_n3000_vars6_lag2_gaussian_mcar20_series.png (deflated 1%)\n",
            "  adding: content/output_mcar/linear_ts_n1000_vars4_lag4_gaussian_mcar10_series.png (deflated 2%)\n",
            "  adding: content/output_mcar/linear_ts_n5000_vars4_lag2_gaussian_mcar20_missing_pattern.png (deflated 5%)\n",
            "  adding: content/output_mcar/linear_ts_n5000_vars8_lag4_student_t_mcar20_missing_pattern.png (deflated 4%)\n",
            "  adding: content/output_mcar/linear_ts_n500_vars6_lag3_student_t_mcar20_series.png (deflated 4%)\n",
            "  adding: content/output_mcar/linear_ts_n1000_vars4_lag2_gaussian_mcar30_structure.txt (deflated 34%)\n",
            "  adding: content/output_mcar/linear_ts_n1000_vars6_lag4_gaussian_mcar30_graph.png (deflated 6%)\n",
            "  adding: content/output_mcar/linear_ts_n1000_vars6_lag2_student_t_mcar20_structure.txt (deflated 44%)\n",
            "  adding: content/output_mcar/linear_ts_n5000_vars8_lag2_student_t_mcar20_structure.txt (deflated 49%)\n",
            "  adding: content/output_mcar/linear_ts_n1000_vars4_lag3_gaussian_mcar10_graph.png (deflated 5%)\n",
            "  adding: content/output_mcar/linear_ts_n500_vars8_lag4_gaussian_mcar10_missing_pattern.png (deflated 5%)\n",
            "  adding: content/output_mcar/linear_ts_n3000_vars4_lag2_student_t_mcar30_missing.csv (deflated 58%)\n",
            "  adding: content/output_mcar/linear_ts_n5000_vars8_lag4_student_t_mcar10_complete.csv (deflated 57%)\n",
            "  adding: content/output_mcar/linear_ts_n5000_vars4_lag2_gaussian_mcar30_complete.csv (deflated 60%)\n",
            "  adding: content/output_mcar/linear_ts_n500_vars4_lag3_gaussian_mcar30_graph.png (deflated 6%)\n",
            "  adding: content/output_mcar/linear_ts_n1000_vars4_lag3_student_t_mcar30_complete.csv (deflated 58%)\n",
            "  adding: content/output_mcar/linear_ts_n500_vars8_lag4_gaussian_mcar20_complete.csv (deflated 56%)\n",
            "  adding: content/output_mcar/linear_ts_n5000_vars6_lag2_student_t_mcar30_series.png (deflated 3%)\n",
            "  adding: content/output_mcar/linear_ts_n5000_vars4_lag2_student_t_mcar20_series.png (deflated 4%)\n",
            "  adding: content/output_mcar/linear_ts_n3000_vars6_lag4_gaussian_mcar30_series.png (deflated 1%)\n",
            "  adding: content/output_mcar/linear_ts_n5000_vars6_lag3_gaussian_mcar10_missing.csv (deflated 56%)\n",
            "  adding: content/output_mcar/linear_ts_n3000_vars6_lag4_gaussian_mcar20_structure.txt (deflated 43%)\n",
            "  adding: content/output_mcar/linear_ts_n5000_vars6_lag2_gaussian_mcar10_graph.png (deflated 8%)\n",
            "  adding: content/output_mcar/linear_ts_n1000_vars6_lag2_gaussian_mcar30_graph.png (deflated 8%)\n",
            "  adding: content/output_mcar/linear_ts_n5000_vars8_lag4_gaussian_mcar10_missing_pattern.png (deflated 4%)\n",
            "  adding: content/output_mcar/linear_ts_n5000_vars6_lag4_gaussian_mcar10_missing.csv (deflated 56%)\n",
            "  adding: content/output_mcar/linear_ts_n1000_vars8_lag4_gaussian_mcar10_complete.csv (deflated 56%)\n",
            "  adding: content/output_mcar/linear_ts_n5000_vars4_lag3_gaussian_mcar10_structure.txt (deflated 37%)\n",
            "  adding: content/output_mcar/linear_ts_n5000_vars8_lag2_gaussian_mcar30_missing_pattern.png (deflated 4%)\n",
            "  adding: content/output_mcar/linear_ts_n1000_vars4_lag4_student_t_mcar10_structure.txt (deflated 37%)\n",
            "  adding: content/output_mcar/linear_ts_n500_vars6_lag3_student_t_mcar10_complete.csv (deflated 54%)\n",
            "  adding: content/output_mcar/linear_ts_n500_vars4_lag3_gaussian_mcar10_structure.txt (deflated 37%)\n",
            "  adding: content/output_mcar/linear_ts_n1000_vars8_lag2_gaussian_mcar30_complete.csv (deflated 55%)\n",
            "  adding: content/output_mcar/linear_ts_n5000_vars6_lag2_gaussian_mcar10_missing.csv (deflated 55%)\n",
            "  adding: content/output_mcar/linear_ts_n5000_vars8_lag4_gaussian_mcar20_missing_pattern.png (deflated 4%)\n",
            "  adding: content/output_mcar/linear_ts_n3000_vars8_lag3_student_t_mcar20_missing_pattern.png (deflated 4%)\n",
            "  adding: content/output_mcar/linear_ts_n5000_vars6_lag2_student_t_mcar10_series.png (deflated 3%)\n",
            "  adding: content/output_mcar/linear_ts_n3000_vars6_lag4_student_t_mcar20_graph.png (deflated 6%)\n",
            "  adding: content/output_mcar/linear_ts_n3000_vars4_lag3_student_t_mcar30_complete.csv (deflated 59%)\n",
            "  adding: content/output_mcar/linear_ts_n500_vars4_lag2_student_t_mcar30_series.png (deflated 3%)\n",
            "  adding: content/output_mcar/linear_ts_n500_vars6_lag2_gaussian_mcar30_missing_pattern.png (deflated 4%)\n",
            "  adding: content/output_mcar/linear_ts_n500_vars6_lag3_gaussian_mcar30_graph.png (deflated 6%)\n",
            "  adding: content/output_mcar/linear_ts_n5000_vars4_lag4_student_t_mcar30_graph.png (deflated 6%)\n",
            "  adding: content/output_mcar/linear_ts_n1000_vars8_lag4_student_t_mcar10_missing.csv (deflated 56%)\n",
            "  adding: content/output_mcar/linear_ts_n500_vars8_lag2_student_t_mcar10_missing_pattern.png (deflated 5%)\n",
            "  adding: content/output_mcar/linear_ts_n500_vars4_lag3_gaussian_mcar10_series.png (deflated 2%)\n",
            "  adding: content/output_mcar/linear_ts_n1000_vars8_lag4_gaussian_mcar30_complete.csv (deflated 56%)\n",
            "  adding: content/output_mcar/linear_ts_n3000_vars6_lag4_gaussian_mcar10_structure.txt (deflated 43%)\n",
            "  adding: content/output_mcar/linear_ts_n500_vars6_lag3_gaussian_mcar10_missing_pattern.png (deflated 6%)\n",
            "  adding: content/output_mcar/linear_ts_n1000_vars6_lag4_student_t_mcar10_missing.csv (deflated 55%)\n",
            "  adding: content/output_mcar/linear_ts_n500_vars8_lag4_gaussian_mcar10_structure.txt (deflated 48%)\n",
            "  adding: content/output_mcar/linear_ts_n500_vars8_lag3_gaussian_mcar30_complete.csv (deflated 56%)\n",
            "  adding: content/output_mcar/linear_ts_n500_vars4_lag3_student_t_mcar10_missing_pattern.png (deflated 6%)\n",
            "  adding: content/output_mcar/linear_ts_n3000_vars8_lag3_student_t_mcar10_structure.txt (deflated 48%)\n",
            "  adding: content/output_mcar/linear_ts_n3000_vars6_lag2_gaussian_mcar20_graph.png (deflated 8%)\n",
            "  adding: content/output_mcar/linear_ts_n500_vars6_lag3_gaussian_mcar10_series.png (deflated 2%)\n",
            "  adding: content/output_mcar/linear_ts_n5000_vars6_lag2_gaussian_mcar10_structure.txt (deflated 44%)\n",
            "  adding: content/output_mcar/linear_ts_n1000_vars8_lag3_student_t_mcar30_series.png (deflated 3%)\n",
            "  adding: content/output_mcar/linear_ts_n5000_vars4_lag2_student_t_mcar30_graph.png (deflated 7%)\n",
            "  adding: content/output_mcar/linear_ts_n5000_vars6_lag2_student_t_mcar10_missing_pattern.png (deflated 4%)\n",
            "  adding: content/output_mcar/linear_ts_n3000_vars6_lag4_gaussian_mcar20_series.png (deflated 1%)\n",
            "  adding: content/output_mcar/linear_ts_n500_vars4_lag3_student_t_mcar20_missing_pattern.png (deflated 5%)\n",
            "  adding: content/output_mcar/linear_ts_n5000_vars4_lag4_student_t_mcar10_structure.txt (deflated 37%)\n",
            "  adding: content/output_mcar/linear_ts_n500_vars6_lag4_gaussian_mcar30_missing.csv (deflated 54%)\n",
            "  adding: content/output_mcar/linear_ts_n1000_vars4_lag3_gaussian_mcar10_missing.csv (deflated 57%)\n",
            "  adding: content/output_mcar/linear_ts_n3000_vars4_lag4_gaussian_mcar10_missing_pattern.png (deflated 5%)\n",
            "  adding: content/output_mcar/linear_ts_n1000_vars4_lag2_gaussian_mcar20_structure.txt (deflated 34%)\n",
            "  adding: content/output_mcar/linear_ts_n500_vars4_lag3_gaussian_mcar10_complete.csv (deflated 57%)\n",
            "  adding: content/output_mcar/linear_ts_n3000_vars4_lag4_gaussian_mcar20_series.png (deflated 2%)\n",
            "  adding: content/output_mcar/linear_ts_n5000_vars6_lag2_student_t_mcar30_structure.txt (deflated 44%)\n",
            "  adding: content/output_mcar/linear_ts_n3000_vars4_lag4_student_t_mcar30_complete.csv (deflated 59%)\n",
            "  adding: content/output_mcar/linear_ts_n1000_vars6_lag4_gaussian_mcar10_structure.txt (deflated 43%)\n",
            "  adding: content/output_mcar/linear_ts_n3000_vars8_lag2_gaussian_mcar30_missing.csv (deflated 55%)\n",
            "  adding: content/output_mcar/linear_ts_n500_vars4_lag4_student_t_mcar10_series.png (deflated 4%)\n",
            "  adding: content/output_mcar/linear_ts_n3000_vars6_lag3_gaussian_mcar20_complete.csv (deflated 57%)\n",
            "  adding: content/output_mcar/linear_ts_n3000_vars4_lag2_gaussian_mcar30_complete.csv (deflated 59%)\n",
            "  adding: content/output_mcar/linear_ts_n500_vars8_lag3_gaussian_mcar30_series.png (deflated 2%)\n",
            "  adding: content/output_mcar/linear_ts_n3000_vars4_lag4_student_t_mcar10_graph.png (deflated 6%)\n",
            "  adding: content/output_mcar/linear_ts_n5000_vars4_lag2_gaussian_mcar30_missing.csv (deflated 58%)\n",
            "  adding: content/output_mcar/linear_ts_n500_vars8_lag3_student_t_mcar10_series.png (deflated 2%)\n",
            "  adding: content/output_mcar/linear_ts_n5000_vars6_lag3_student_t_mcar10_structure.txt (deflated 43%)\n",
            "  adding: content/output_mcar/linear_ts_n5000_vars4_lag3_student_t_mcar10_structure.txt (deflated 37%)\n",
            "  adding: content/output_mcar/linear_ts_n500_vars4_lag3_student_t_mcar20_complete.csv (deflated 57%)\n",
            "  adding: content/output_mcar/linear_ts_n3000_vars6_lag3_gaussian_mcar10_missing_pattern.png (deflated 4%)\n",
            "  adding: content/output_mcar/linear_ts_n3000_vars4_lag3_gaussian_mcar30_missing_pattern.png (deflated 4%)\n",
            "  adding: content/output_mcar/linear_ts_n5000_vars4_lag4_student_t_mcar10_missing_pattern.png (deflated 5%)\n",
            "  adding: content/output_mcar/linear_ts_n500_vars8_lag3_gaussian_mcar30_graph.png (deflated 5%)\n",
            "  adding: content/output_mcar/linear_ts_n5000_vars4_lag3_student_t_mcar30_complete.csv (deflated 59%)\n",
            "  adding: content/output_mcar/linear_ts_n5000_vars8_lag4_gaussian_mcar10_structure.txt (deflated 48%)\n",
            "  adding: content/output_mcar/linear_ts_n5000_vars8_lag2_student_t_mcar10_structure.txt (deflated 49%)\n",
            "  adding: content/output_mcar/linear_ts_n3000_vars4_lag3_student_t_mcar20_structure.txt (deflated 37%)\n",
            "  adding: content/output_mcar/linear_ts_n5000_vars8_lag3_student_t_mcar10_structure.txt (deflated 48%)\n",
            "  adding: content/output_mcar/linear_ts_n500_vars8_lag3_gaussian_mcar10_structure.txt (deflated 48%)\n",
            "  adding: content/output_mcar/linear_ts_n1000_vars4_lag4_student_t_mcar20_series.png (deflated 5%)\n",
            "  adding: content/output_mcar/linear_ts_n500_vars4_lag3_gaussian_mcar30_missing_pattern.png (deflated 4%)\n",
            "  adding: content/output_mcar/linear_ts_n5000_vars6_lag4_gaussian_mcar10_graph.png (deflated 6%)\n",
            "  adding: content/output_mcar/linear_ts_n5000_vars8_lag2_gaussian_mcar30_complete.csv (deflated 56%)\n",
            "  adding: content/output_mcar/linear_ts_n500_vars6_lag4_student_t_mcar10_graph.png (deflated 6%)\n",
            "  adding: content/output_mcar/linear_ts_n3000_vars6_lag3_student_t_mcar20_graph.png (deflated 6%)\n",
            "  adding: content/output_mcar/linear_ts_n3000_vars4_lag2_student_t_mcar20_missing.csv (deflated 58%)\n",
            "  adding: content/output_mcar/linear_ts_n1000_vars8_lag2_gaussian_mcar20_complete.csv (deflated 55%)\n",
            "  adding: content/output_mcar/linear_ts_n5000_vars8_lag2_gaussian_mcar10_missing.csv (deflated 56%)\n",
            "  adding: content/output_mcar/linear_ts_n500_vars4_lag2_student_t_mcar30_missing_pattern.png (deflated 4%)\n",
            "  adding: content/output_mcar/linear_ts_n3000_vars8_lag3_gaussian_mcar10_complete.csv (deflated 57%)\n",
            "  adding: content/output_mcar/linear_ts_n500_vars4_lag4_student_t_mcar10_missing.csv (deflated 56%)\n",
            "  adding: content/output_mcar/linear_ts_n3000_vars6_lag3_gaussian_mcar10_missing.csv (deflated 56%)\n",
            "  adding: content/output_mcar/linear_ts_n1000_vars4_lag3_gaussian_mcar20_missing_pattern.png (deflated 4%)\n",
            "  adding: content/output_mcar/linear_ts_n1000_vars6_lag3_gaussian_mcar20_structure.txt (deflated 43%)\n",
            "  adding: content/output_mcar/linear_ts_n500_vars8_lag4_gaussian_mcar30_complete.csv (deflated 56%)\n",
            "  adding: content/output_mcar/linear_ts_n5000_vars4_lag2_student_t_mcar30_structure.txt (deflated 34%)\n",
            "  adding: content/output_mcar/linear_ts_n500_vars6_lag3_gaussian_mcar30_complete.csv (deflated 55%)\n",
            "  adding: content/output_mcar/linear_ts_n5000_vars4_lag2_gaussian_mcar30_structure.txt (deflated 34%)\n",
            "  adding: content/output_mcar/linear_ts_n5000_vars4_lag2_student_t_mcar20_structure.txt (deflated 34%)\n",
            "  adding: content/output_mcar/linear_ts_n1000_vars8_lag2_gaussian_mcar20_missing.csv (deflated 54%)\n",
            "  adding: content/output_mcar/linear_ts_n1000_vars4_lag3_gaussian_mcar30_missing.csv (deflated 56%)\n",
            "  adding: content/output_mcar/linear_ts_n3000_vars8_lag4_student_t_mcar30_graph.png (deflated 5%)\n",
            "  adding: content/output_mcar/linear_ts_n5000_vars8_lag4_student_t_mcar10_missing_pattern.png (deflated 4%)\n",
            "  adding: content/output_mcar/linear_ts_n1000_vars4_lag2_gaussian_mcar10_missing_pattern.png (deflated 6%)\n",
            "  adding: content/output_mcar/linear_ts_n1000_vars8_lag4_gaussian_mcar10_structure.txt (deflated 48%)\n",
            "  adding: content/output_mcar/linear_ts_n3000_vars8_lag2_gaussian_mcar10_missing.csv (deflated 55%)\n",
            "  adding: content/output_mcar/linear_ts_n5000_vars4_lag2_gaussian_mcar30_missing_pattern.png (deflated 5%)\n",
            "  adding: content/output_mcar/linear_ts_n1000_vars4_lag4_student_t_mcar10_missing_pattern.png (deflated 7%)\n",
            "  adding: content/output_mcar/linear_ts_n3000_vars4_lag4_student_t_mcar20_missing.csv (deflated 58%)\n",
            "  adding: content/output_mcar/linear_ts_n5000_vars8_lag4_gaussian_mcar20_graph.png (deflated 5%)\n",
            "  adding: content/output_mcar/linear_ts_n3000_vars8_lag2_gaussian_mcar20_missing_pattern.png (deflated 3%)\n",
            "  adding: content/output_mcar/linear_ts_n3000_vars4_lag2_gaussian_mcar20_missing.csv (deflated 58%)\n",
            "  adding: content/output_mcar/linear_ts_n1000_vars4_lag3_student_t_mcar10_missing_pattern.png (deflated 7%)\n",
            "  adding: content/output_mcar/linear_ts_n500_vars4_lag4_student_t_mcar30_structure.txt (deflated 37%)\n",
            "  adding: content/output_mcar/linear_ts_n500_vars4_lag2_student_t_mcar20_missing_pattern.png (deflated 5%)\n",
            "  adding: content/output_mcar/linear_ts_n3000_vars8_lag4_student_t_mcar10_complete.csv (deflated 57%)\n",
            "  adding: content/output_mcar/linear_ts_n3000_vars4_lag3_student_t_mcar30_missing.csv (deflated 58%)\n",
            "  adding: content/output_mcar/linear_ts_n1000_vars4_lag3_gaussian_mcar10_missing_pattern.png (deflated 6%)\n",
            "  adding: content/output_mcar/linear_ts_n3000_vars8_lag4_student_t_mcar30_series.png (deflated 3%)\n",
            "  adding: content/output_mcar/linear_ts_n500_vars6_lag4_student_t_mcar20_complete.csv (deflated 54%)\n",
            "  adding: content/output_mcar/linear_ts_n500_vars8_lag2_student_t_mcar10_graph.png (deflated 6%)\n",
            "  adding: content/output_mcar/linear_ts_n5000_vars8_lag3_gaussian_mcar10_missing.csv (deflated 57%)\n",
            "  adding: content/output_mcar/linear_ts_n1000_vars4_lag2_student_t_mcar10_complete.csv (deflated 58%)\n",
            "  adding: content/output_mcar/linear_ts_n1000_vars6_lag2_student_t_mcar20_complete.csv (deflated 54%)\n",
            "  adding: content/output_mcar/linear_ts_n5000_vars4_lag3_student_t_mcar10_missing.csv (deflated 59%)\n",
            "  adding: content/output_mcar/linear_ts_n5000_vars8_lag3_gaussian_mcar30_graph.png (deflated 5%)\n",
            "  adding: content/output_mcar/linear_ts_n3000_vars8_lag4_student_t_mcar30_missing.csv (deflated 56%)\n",
            "  adding: content/output_mcar/linear_ts_n500_vars4_lag2_student_t_mcar20_structure.txt (deflated 34%)\n",
            "  adding: content/output_mcar/linear_ts_n500_vars8_lag4_student_t_mcar20_missing_pattern.png (deflated 4%)\n",
            "  adding: content/output_mcar/linear_ts_n1000_vars8_lag3_gaussian_mcar30_structure.txt (deflated 48%)\n",
            "  adding: content/output_mcar/linear_ts_n1000_vars6_lag3_gaussian_mcar10_series.png (deflated 1%)\n",
            "  adding: content/output_mcar/linear_ts_n500_vars4_lag4_student_t_mcar20_structure.txt (deflated 37%)\n",
            "  adding: content/output_mcar/linear_ts_n500_vars8_lag4_student_t_mcar10_graph.png (deflated 5%)\n",
            "  adding: content/output_mcar/linear_ts_n5000_vars8_lag4_student_t_mcar30_graph.png (deflated 5%)\n",
            "  adding: content/output_mcar/linear_ts_n3000_vars4_lag4_gaussian_mcar20_structure.txt (deflated 37%)\n",
            "  adding: content/output_mcar/linear_ts_n5000_vars8_lag2_gaussian_mcar30_graph.png (deflated 6%)\n",
            "  adding: content/output_mcar/linear_ts_n1000_vars4_lag3_gaussian_mcar30_complete.csv (deflated 58%)\n",
            "  adding: content/output_mcar/linear_ts_n500_vars4_lag4_gaussian_mcar20_missing_pattern.png (deflated 5%)\n",
            "  adding: content/output_mcar/linear_ts_n5000_vars8_lag3_student_t_mcar30_structure.txt (deflated 48%)\n",
            "  adding: content/output_mcar/linear_ts_n5000_vars8_lag3_gaussian_mcar10_missing_pattern.png (deflated 4%)\n",
            "  adding: content/output_mcar/linear_ts_n1000_vars8_lag2_gaussian_mcar20_structure.txt (deflated 49%)\n",
            "  adding: content/output_mcar/linear_ts_n5000_vars4_lag2_student_t_mcar10_graph.png (deflated 8%)\n",
            "  adding: content/output_mcar/linear_ts_n5000_vars6_lag3_gaussian_mcar20_structure.txt (deflated 43%)\n",
            "  adding: content/output_mcar/linear_ts_n1000_vars8_lag4_student_t_mcar10_complete.csv (deflated 56%)\n",
            "  adding: content/output_mcar/linear_ts_n1000_vars6_lag4_gaussian_mcar20_missing.csv (deflated 55%)\n",
            "  adding: content/output_mcar/linear_ts_n5000_vars6_lag4_student_t_mcar20_graph.png (deflated 7%)\n",
            "  adding: content/output_mcar/linear_ts_n3000_vars6_lag4_gaussian_mcar10_graph.png (deflated 6%)\n",
            "  adding: content/output_mcar/linear_ts_n3000_vars6_lag2_student_t_mcar10_missing_pattern.png (deflated 4%)\n",
            "  adding: content/output_mcar/linear_ts_n5000_vars6_lag3_gaussian_mcar20_series.png (deflated 1%)\n",
            "  adding: content/output_mcar/linear_ts_n5000_vars4_lag3_student_t_mcar30_graph.png (deflated 6%)\n",
            "  adding: content/output_mcar/linear_ts_n1000_vars4_lag4_student_t_mcar30_missing_pattern.png (deflated 4%)\n",
            "  adding: content/output_mcar/linear_ts_n3000_vars8_lag2_gaussian_mcar30_structure.txt (deflated 49%)\n",
            "  adding: content/output_mcar/linear_ts_n500_vars4_lag4_gaussian_mcar30_graph.png (deflated 6%)\n",
            "  adding: content/output_mcar/linear_ts_n1000_vars8_lag3_gaussian_mcar30_series.png (deflated 2%)\n",
            "  adding: content/output_mcar/linear_ts_n1000_vars8_lag4_gaussian_mcar10_graph.png (deflated 5%)\n",
            "  adding: content/output_mcar/linear_ts_n5000_vars4_lag2_gaussian_mcar20_complete.csv (deflated 60%)\n",
            "  adding: content/output_mcar/linear_ts_n3000_vars8_lag3_student_t_mcar10_complete.csv (deflated 57%)\n",
            "  adding: content/output_mcar/linear_ts_n500_vars4_lag3_student_t_mcar10_structure.txt (deflated 37%)\n",
            "  adding: content/output_mcar/linear_ts_n3000_vars4_lag3_gaussian_mcar10_graph.png (deflated 5%)\n",
            "  adding: content/output_mcar/linear_ts_n5000_vars8_lag4_gaussian_mcar20_series.png (deflated 1%)\n",
            "  adding: content/output_mcar/linear_ts_n3000_vars8_lag2_gaussian_mcar20_series.png (deflated 1%)\n",
            "  adding: content/output_mcar/linear_ts_n500_vars8_lag3_student_t_mcar20_missing.csv (deflated 55%)\n",
            "  adding: content/output_mcar/linear_ts_n1000_vars6_lag3_gaussian_mcar30_missing_pattern.png (deflated 5%)\n",
            "  adding: content/output_mcar/linear_ts_n3000_vars4_lag3_gaussian_mcar10_missing_pattern.png (deflated 5%)\n",
            "  adding: content/output_mcar/linear_ts_n500_vars6_lag2_gaussian_mcar30_complete.csv (deflated 53%)\n",
            "  adding: content/output_mcar/linear_ts_n500_vars8_lag2_gaussian_mcar20_series.png (deflated 2%)\n",
            "  adding: content/output_mcar/linear_ts_n3000_vars8_lag2_student_t_mcar10_missing.csv (deflated 55%)\n",
            "  adding: content/output_mcar/linear_ts_n3000_vars6_lag4_gaussian_mcar20_missing.csv (deflated 56%)\n",
            "  adding: content/output_mcar/linear_ts_n5000_vars8_lag3_gaussian_mcar30_series.png (deflated 1%)\n",
            "  adding: content/output_mcar/linear_ts_n1000_vars6_lag2_student_t_mcar30_graph.png (deflated 8%)\n",
            "  adding: content/output_mcar/linear_ts_n1000_vars4_lag2_student_t_mcar20_graph.png (deflated 7%)\n",
            "  adding: content/output_mcar/linear_ts_n1000_vars6_lag3_student_t_mcar30_missing.csv (deflated 54%)\n",
            "  adding: content/output_mcar/linear_ts_n1000_vars4_lag4_gaussian_mcar30_structure.txt (deflated 37%)\n",
            "  adding: content/output_mcar/linear_ts_n500_vars6_lag2_student_t_mcar30_structure.txt (deflated 44%)\n",
            "  adding: content/output_mcar/linear_ts_n1000_vars4_lag3_student_t_mcar20_series.png (deflated 5%)\n",
            "  adding: content/output_mcar/linear_ts_n5000_vars8_lag3_student_t_mcar30_complete.csv (deflated 57%)\n",
            "  adding: content/output_mcar/linear_ts_n3000_vars6_lag2_gaussian_mcar10_graph.png (deflated 8%)\n",
            "  adding: content/output_mcar/linear_ts_n1000_vars8_lag2_student_t_mcar20_series.png (deflated 3%)\n",
            "  adding: content/output_mcar/linear_ts_n500_vars6_lag2_student_t_mcar20_structure.txt (deflated 44%)\n",
            "  adding: content/output_mcar/linear_ts_n5000_vars6_lag4_gaussian_mcar20_missing_pattern.png (deflated 4%)\n",
            "  adding: content/output_mcar/linear_ts_n3000_vars4_lag2_student_t_mcar20_complete.csv (deflated 59%)\n",
            "  adding: content/output_mcar/linear_ts_n5000_vars6_lag4_student_t_mcar10_series.png (deflated 3%)\n",
            "  adding: content/output_mcar/linear_ts_n5000_vars8_lag2_student_t_mcar20_missing.csv (deflated 55%)\n",
            "  adding: content/output_mcar/linear_ts_n1000_vars8_lag4_student_t_mcar20_missing_pattern.png (deflated 4%)\n",
            "  adding: content/output_mcar/linear_ts_n1000_vars4_lag3_student_t_mcar20_missing_pattern.png (deflated 4%)\n",
            "  adding: content/output_mcar/linear_ts_n5000_vars4_lag4_student_t_mcar30_complete.csv (deflated 59%)\n",
            "  adding: content/output_mcar/linear_ts_n1000_vars4_lag4_gaussian_mcar20_structure.txt (deflated 37%)\n",
            "  adding: content/output_mcar/linear_ts_n5000_vars8_lag2_gaussian_mcar20_complete.csv (deflated 56%)\n",
            "  adding: content/output_mcar/linear_ts_n1000_vars6_lag2_student_t_mcar20_graph.png (deflated 8%)\n",
            "  adding: content/output_mcar/linear_ts_n3000_vars8_lag4_student_t_mcar30_structure.txt (deflated 48%)\n",
            "  adding: content/output_mcar/linear_ts_n500_vars6_lag2_gaussian_mcar10_missing.csv (deflated 53%)\n",
            "  adding: content/output_mcar/linear_ts_n500_vars8_lag3_gaussian_mcar20_graph.png (deflated 5%)\n",
            "  adding: content/output_mcar/linear_ts_n5000_vars6_lag2_gaussian_mcar30_series.png (deflated 1%)\n",
            "  adding: content/output_mcar/linear_ts_n3000_vars6_lag4_student_t_mcar20_missing_pattern.png (deflated 4%)\n",
            "  adding: content/output_mcar/linear_ts_n5000_vars4_lag4_student_t_mcar30_missing_pattern.png (deflated 4%)\n",
            "  adding: content/output_mcar/linear_ts_n3000_vars4_lag2_student_t_mcar10_complete.csv (deflated 59%)\n",
            "  adding: content/output_mcar/linear_ts_n500_vars8_lag4_student_t_mcar30_complete.csv (deflated 56%)\n",
            "  adding: content/output_mcar/linear_ts_n1000_vars4_lag3_gaussian_mcar10_complete.csv (deflated 58%)\n",
            "  adding: content/output_mcar/linear_ts_n3000_vars6_lag4_student_t_mcar20_structure.txt (deflated 43%)\n",
            "  adding: content/output_mcar/linear_ts_n5000_vars4_lag3_student_t_mcar30_missing_pattern.png (deflated 4%)\n",
            "  adding: content/output_mcar/linear_ts_n500_vars4_lag4_student_t_mcar30_series.png (deflated 3%)\n",
            "  adding: content/output_mcar/linear_ts_n500_vars6_lag4_student_t_mcar10_missing.csv (deflated 54%)\n",
            "  adding: content/output_mcar/linear_ts_n500_vars8_lag4_gaussian_mcar20_missing.csv (deflated 55%)\n",
            "  adding: content/output_mcar/linear_ts_n5000_vars4_lag3_student_t_mcar20_missing.csv (deflated 58%)\n",
            "  adding: content/output_mcar/linear_ts_n3000_vars8_lag3_gaussian_mcar10_series.png (deflated 1%)\n",
            "  adding: content/output_mcar/linear_ts_n500_vars6_lag2_student_t_mcar30_missing_pattern.png (deflated 4%)\n",
            "  adding: content/output_mcar/linear_ts_n5000_vars6_lag4_student_t_mcar30_missing.csv (deflated 56%)\n",
            "  adding: content/output_mcar/linear_ts_n5000_vars6_lag2_student_t_mcar20_complete.csv (deflated 55%)\n",
            "  adding: content/output_mcar/linear_ts_n3000_vars8_lag2_gaussian_mcar10_series.png (deflated 1%)\n",
            "  adding: content/output_mcar/linear_ts_n500_vars4_lag2_gaussian_mcar20_missing_pattern.png (deflated 5%)\n",
            "  adding: content/output_mcar/linear_ts_n5000_vars4_lag2_gaussian_mcar20_graph.png (deflated 8%)\n",
            "  adding: content/output_mcar/linear_ts_n5000_vars8_lag2_gaussian_mcar20_missing.csv (deflated 56%)\n",
            "  adding: content/output_mcar/linear_ts_n500_vars4_lag2_gaussian_mcar10_missing_pattern.png (deflated 6%)\n",
            "  adding: content/output_mcar/linear_ts_n500_vars8_lag4_gaussian_mcar10_graph.png (deflated 5%)\n",
            "  adding: content/output_mcar/linear_ts_n5000_vars8_lag3_gaussian_mcar30_missing.csv (deflated 57%)\n",
            "  adding: content/output_mcar/linear_ts_n3000_vars4_lag2_gaussian_mcar30_structure.txt (deflated 34%)\n",
            "  adding: content/output_mcar/linear_ts_n3000_vars4_lag2_gaussian_mcar20_structure.txt (deflated 34%)\n",
            "  adding: content/output_mcar/linear_ts_n3000_vars6_lag3_gaussian_mcar10_graph.png (deflated 6%)\n",
            "  adding: content/output_mcar/linear_ts_n3000_vars6_lag3_student_t_mcar20_structure.txt (deflated 43%)\n",
            "  adding: content/output_mcar/linear_ts_n5000_vars6_lag2_student_t_mcar20_missing_pattern.png (deflated 4%)\n",
            "  adding: content/output_mcar/linear_ts_n1000_vars6_lag3_gaussian_mcar20_missing.csv (deflated 55%)\n",
            "  adding: content/output_mcar/linear_ts_n5000_vars4_lag4_student_t_mcar30_series.png (deflated 4%)\n",
            "  adding: content/output_mcar/linear_ts_n3000_vars8_lag2_student_t_mcar20_series.png (deflated 4%)\n",
            "  adding: content/output_mcar/linear_ts_n3000_vars4_lag3_student_t_mcar30_graph.png (deflated 6%)\n",
            "  adding: content/output_mcar/linear_ts_n3000_vars6_lag4_student_t_mcar10_structure.txt (deflated 43%)\n",
            "  adding: content/output_mcar/linear_ts_n500_vars6_lag3_gaussian_mcar20_complete.csv (deflated 55%)\n",
            "  adding: content/output_mcar/linear_ts_n1000_vars8_lag3_gaussian_mcar20_structure.txt (deflated 48%)\n",
            "  adding: content/output_mcar/linear_ts_n1000_vars6_lag4_gaussian_mcar20_series.png (deflated 2%)\n",
            "  adding: content/output_mcar/linear_ts_n3000_vars6_lag2_gaussian_mcar20_complete.csv (deflated 55%)\n",
            "  adding: content/output_mcar/linear_ts_n5000_vars6_lag4_student_t_mcar20_missing_pattern.png (deflated 4%)\n",
            "  adding: content/output_mcar/linear_ts_n5000_vars8_lag4_student_t_mcar20_complete.csv (deflated 57%)\n",
            "  adding: content/output_mcar/linear_ts_n5000_vars6_lag4_student_t_mcar10_missing.csv (deflated 56%)\n",
            "  adding: content/output_mcar/linear_ts_n5000_vars4_lag3_gaussian_mcar30_structure.txt (deflated 37%)\n",
            "  adding: content/output_mcar/linear_ts_n5000_vars8_lag2_gaussian_mcar20_graph.png (deflated 7%)\n",
            "  adding: content/output_mcar/linear_ts_n3000_vars8_lag4_gaussian_mcar20_graph.png (deflated 5%)\n",
            "  adding: content/output_mcar/linear_ts_n1000_vars4_lag2_student_t_mcar20_structure.txt (deflated 34%)\n",
            "  adding: content/output_mcar/linear_ts_n5000_vars4_lag3_student_t_mcar10_missing_pattern.png (deflated 5%)\n",
            "  adding: content/output_mcar/linear_ts_n5000_vars8_lag3_student_t_mcar10_missing.csv (deflated 57%)\n",
            "  adding: content/output_mcar/linear_ts_n1000_vars8_lag3_gaussian_mcar10_graph.png (deflated 6%)\n",
            "  adding: content/output_mcar/linear_ts_n5000_vars8_lag2_gaussian_mcar20_structure.txt (deflated 49%)\n",
            "  adding: content/output_mcar/linear_ts_n3000_vars8_lag4_gaussian_mcar30_missing.csv (deflated 56%)\n",
            "  adding: content/output_mcar/linear_ts_n3000_vars8_lag4_student_t_mcar20_complete.csv (deflated 57%)\n",
            "  adding: content/output_mcar/linear_ts_n5000_vars6_lag4_student_t_mcar10_complete.csv (deflated 56%)\n",
            "  adding: content/output_mcar/linear_ts_n3000_vars6_lag3_student_t_mcar30_series.png (deflated 3%)\n",
            "  adding: content/output_mcar/linear_ts_n5000_vars6_lag4_gaussian_mcar10_missing_pattern.png (deflated 4%)\n",
            "  adding: content/output_mcar/linear_ts_n3000_vars6_lag2_student_t_mcar30_series.png (deflated 4%)\n",
            "  adding: content/output_mcar/linear_ts_n500_vars4_lag4_student_t_mcar10_structure.txt (deflated 37%)\n",
            "  adding: content/output_mcar/linear_ts_n5000_vars4_lag2_student_t_mcar30_complete.csv (deflated 59%)\n",
            "  adding: content/output_mcar/linear_ts_n1000_vars6_lag4_student_t_mcar10_missing_pattern.png (deflated 7%)\n",
            "  adding: content/output_mcar/linear_ts_n500_vars8_lag2_gaussian_mcar20_missing_pattern.png (deflated 4%)\n",
            "  adding: content/output_mcar/linear_ts_n1000_vars8_lag3_gaussian_mcar10_missing.csv (deflated 56%)\n",
            "  adding: content/output_mcar/linear_ts_n500_vars8_lag2_student_t_mcar10_missing.csv (deflated 54%)\n",
            "  adding: content/output_mcar/linear_ts_n5000_vars6_lag3_student_t_mcar10_missing_pattern.png (deflated 4%)\n",
            "  adding: content/output_mcar/linear_ts_n5000_vars6_lag2_gaussian_mcar20_structure.txt (deflated 44%)\n",
            "  adding: content/output_mcar/linear_ts_n500_vars6_lag2_student_t_mcar20_missing.csv (deflated 52%)\n",
            "  adding: content/output_mcar/linear_ts_n5000_vars6_lag3_gaussian_mcar30_missing_pattern.png (deflated 4%)\n",
            "  adding: content/output_mcar/linear_ts_n5000_vars6_lag2_student_t_mcar30_complete.csv (deflated 55%)\n",
            "  adding: content/output_mcar/linear_ts_n3000_vars4_lag4_student_t_mcar20_series.png (deflated 4%)\n",
            "  adding: content/output_mcar/linear_ts_n5000_vars8_lag4_gaussian_mcar10_missing.csv (deflated 57%)\n",
            "  adding: content/output_mcar/linear_ts_n500_vars4_lag3_student_t_mcar30_series.png (deflated 3%)\n",
            "  adding: content/output_mcar/linear_ts_n3000_vars6_lag3_gaussian_mcar30_series.png (deflated 1%)\n",
            "  adding: content/output_mcar/linear_ts_n5000_vars6_lag3_gaussian_mcar10_complete.csv (deflated 57%)\n",
            "  adding: content/output_mcar/linear_ts_n1000_vars8_lag2_student_t_mcar20_structure.txt (deflated 49%)\n",
            "  adding: content/output_mcar/linear_ts_n500_vars6_lag4_student_t_mcar10_complete.csv (deflated 54%)\n",
            "  adding: content/output_mcar/linear_ts_n1000_vars8_lag3_student_t_mcar20_series.png (deflated 3%)\n",
            "  adding: content/output_mcar/linear_ts_n1000_vars8_lag2_student_t_mcar20_missing_pattern.png (deflated 4%)\n",
            "  adding: content/output_mcar/linear_ts_n3000_vars4_lag3_student_t_mcar30_series.png (deflated 4%)\n",
            "  adding: content/output_mcar/linear_ts_n5000_vars4_lag2_student_t_mcar20_graph.png (deflated 8%)\n",
            "  adding: content/output_mcar/linear_ts_n1000_vars4_lag3_gaussian_mcar30_series.png (deflated 2%)\n",
            "  adding: content/output_mcar/linear_ts_n1000_vars4_lag4_student_t_mcar10_series.png (deflated 4%)\n",
            "  adding: content/output_mcar/linear_ts_n1000_vars4_lag4_gaussian_mcar20_complete.csv (deflated 58%)\n",
            "  adding: content/output_mcar/linear_ts_n3000_vars4_lag4_student_t_mcar10_complete.csv (deflated 59%)\n",
            "  adding: content/output_mcar/linear_ts_n5000_vars6_lag3_student_t_mcar30_series.png (deflated 3%)\n",
            "  adding: content/output_mcar/linear_ts_n3000_vars8_lag2_student_t_mcar10_graph.png (deflated 7%)\n",
            "  adding: content/output_mcar/linear_ts_n500_vars6_lag2_gaussian_mcar10_complete.csv (deflated 53%)\n",
            "  adding: content/output_mcar/linear_ts_n3000_vars8_lag4_gaussian_mcar10_structure.txt (deflated 48%)\n",
            "  adding: content/output_mcar/linear_ts_n5000_vars6_lag3_student_t_mcar30_missing.csv (deflated 56%)\n",
            "  adding: content/output_mcar/linear_ts_n5000_vars6_lag4_gaussian_mcar10_series.png (deflated 1%)\n",
            "  adding: content/output_mcar/linear_ts_n500_vars6_lag2_student_t_mcar10_missing_pattern.png (deflated 6%)\n",
            "  adding: content/output_mcar/linear_ts_n1000_vars8_lag3_gaussian_mcar30_graph.png (deflated 5%)\n",
            "  adding: content/output_mcar/linear_ts_n500_vars4_lag2_gaussian_mcar30_missing.csv (deflated 56%)\n",
            "  adding: content/output_mcar/linear_ts_n1000_vars8_lag3_student_t_mcar30_complete.csv (deflated 56%)\n",
            "  adding: content/output_mcar/linear_ts_n3000_vars8_lag3_student_t_mcar30_series.png (deflated 4%)\n",
            "  adding: content/output_mcar/linear_ts_n1000_vars4_lag2_gaussian_mcar10_series.png (deflated 2%)\n",
            "  adding: content/output_mcar/linear_ts_n5000_vars6_lag4_gaussian_mcar10_structure.txt (deflated 43%)\n",
            "  adding: content/output_mcar/linear_ts_n1000_vars6_lag3_gaussian_mcar20_complete.csv (deflated 55%)\n",
            "  adding: content/output_mcar/linear_ts_n5000_vars4_lag2_student_t_mcar10_complete.csv (deflated 59%)\n",
            "  adding: content/output_mcar/linear_ts_n5000_vars6_lag2_student_t_mcar10_complete.csv (deflated 55%)\n",
            "  adding: content/output_mcar/linear_ts_n1000_vars8_lag2_gaussian_mcar10_missing_pattern.png (deflated 5%)\n",
            "  adding: content/output_mcar/linear_ts_n5000_vars4_lag3_student_t_mcar30_missing.csv (deflated 58%)\n",
            "  adding: content/output_mcar/linear_ts_n3000_vars4_lag3_student_t_mcar30_structure.txt (deflated 37%)\n",
            "  adding: content/output_mcar/linear_ts_n5000_vars4_lag3_student_t_mcar30_series.png (deflated 4%)\n",
            "  adding: content/output_mcar/linear_ts_n5000_vars8_lag3_student_t_mcar20_structure.txt (deflated 48%)\n",
            "  adding: content/output_mcar/linear_ts_n500_vars4_lag3_gaussian_mcar20_missing_pattern.png (deflated 5%)\n",
            "  adding: content/output_mcar/linear_ts_n1000_vars4_lag2_student_t_mcar10_series.png (deflated 5%)\n",
            "  adding: content/output_mcar/linear_ts_n1000_vars4_lag3_gaussian_mcar20_structure.txt (deflated 37%)\n",
            "  adding: content/output_mcar/linear_ts_n500_vars6_lag4_gaussian_mcar30_complete.csv (deflated 55%)\n",
            "  adding: content/output_mcar/linear_ts_n500_vars8_lag3_gaussian_mcar30_missing.csv (deflated 55%)\n",
            "  adding: content/output_mcar/linear_ts_n500_vars4_lag4_student_t_mcar30_graph.png (deflated 6%)\n",
            "  adding: content/output_mcar/linear_ts_n5000_vars6_lag2_gaussian_mcar20_graph.png (deflated 9%)\n",
            "  adding: content/output_mcar/linear_ts_n1000_vars4_lag2_gaussian_mcar30_series.png (deflated 2%)\n",
            "  adding: content/output_mcar/linear_ts_n500_vars8_lag4_gaussian_mcar10_complete.csv (deflated 56%)\n",
            "  adding: content/output_mcar/linear_ts_n500_vars4_lag4_student_t_mcar10_complete.csv (deflated 57%)\n",
            "  adding: content/output_mcar/linear_ts_n1000_vars6_lag3_gaussian_mcar10_missing.csv (deflated 55%)\n",
            "  adding: content/output_mcar/linear_ts_n1000_vars4_lag3_gaussian_mcar20_missing.csv (deflated 56%)\n",
            "  adding: content/output_mcar/linear_ts_n1000_vars6_lag2_gaussian_mcar10_complete.csv (deflated 54%)\n",
            "  adding: content/output_mcar/linear_ts_n1000_vars6_lag4_student_t_mcar10_series.png (deflated 4%)\n",
            "  adding: content/output_mcar/linear_ts_n1000_vars4_lag3_student_t_mcar20_complete.csv (deflated 58%)\n",
            "  adding: content/output_mcar/linear_ts_n1000_vars8_lag4_gaussian_mcar20_complete.csv (deflated 56%)\n",
            "  adding: content/output_mcar/linear_ts_n500_vars4_lag4_student_t_mcar30_missing_pattern.png (deflated 4%)\n",
            "  adding: content/output_mcar/linear_ts_n5000_vars4_lag3_gaussian_mcar30_missing.csv (deflated 58%)\n",
            "  adding: content/output_mcar/linear_ts_n5000_vars8_lag3_gaussian_mcar20_series.png (deflated 1%)\n",
            "  adding: content/output_mcar/linear_ts_n1000_vars6_lag2_student_t_mcar10_missing_pattern.png (deflated 7%)\n",
            "  adding: content/output_mcar/linear_ts_n3000_vars4_lag3_gaussian_mcar20_complete.csv (deflated 59%)\n",
            "  adding: content/output_mcar/linear_ts_n3000_vars8_lag2_student_t_mcar30_missing_pattern.png (deflated 4%)\n",
            "  adding: content/output_mcar/linear_ts_n3000_vars8_lag3_gaussian_mcar10_structure.txt (deflated 48%)\n",
            "  adding: content/output_mcar/linear_ts_n3000_vars6_lag2_gaussian_mcar30_missing_pattern.png (deflated 4%)\n",
            "  adding: content/output_mcar/linear_ts_n3000_vars6_lag3_student_t_mcar20_series.png (deflated 3%)\n",
            "  adding: content/output_mcar/linear_ts_n3000_vars8_lag3_gaussian_mcar20_missing.csv (deflated 57%)\n",
            "  adding: content/output_mcar/linear_ts_n3000_vars8_lag2_student_t_mcar10_series.png (deflated 3%)\n",
            "  adding: content/output_mcar/linear_ts_n5000_vars6_lag4_gaussian_mcar20_missing.csv (deflated 56%)\n",
            "  adding: content/output_mcar/linear_ts_n500_vars4_lag4_gaussian_mcar30_structure.txt (deflated 37%)\n",
            "  adding: content/output_mcar/linear_ts_n5000_vars4_lag2_student_t_mcar30_missing_pattern.png (deflated 4%)\n",
            "  adding: content/output_mcar/linear_ts_n1000_vars8_lag3_gaussian_mcar30_complete.csv (deflated 56%)\n",
            "  adding: content/output_mcar/linear_ts_n3000_vars4_lag4_student_t_mcar10_missing_pattern.png (deflated 4%)\n",
            "  adding: content/output_mcar/linear_ts_n3000_vars8_lag4_gaussian_mcar10_missing.csv (deflated 57%)\n",
            "  adding: content/output_mcar/linear_ts_n1000_vars8_lag3_student_t_mcar10_missing.csv (deflated 56%)\n",
            "  adding: content/output_mcar/linear_ts_n5000_vars6_lag2_gaussian_mcar10_series.png (deflated 1%)\n",
            "  adding: content/output_mcar/linear_ts_n5000_vars6_lag3_student_t_mcar20_graph.png (deflated 6%)\n",
            "  adding: content/output_mcar/linear_ts_n5000_vars8_lag2_student_t_mcar20_complete.csv (deflated 56%)\n",
            "  adding: content/output_mcar/linear_ts_n3000_vars4_lag3_gaussian_mcar10_series.png (deflated 1%)\n",
            "  adding: content/output_mcar/linear_ts_n500_vars6_lag2_gaussian_mcar30_graph.png (deflated 9%)\n",
            "  adding: content/output_mcar/linear_ts_n3000_vars6_lag4_student_t_mcar10_complete.csv (deflated 56%)\n",
            "  adding: content/output_mcar/linear_ts_n500_vars6_lag3_gaussian_mcar20_graph.png (deflated 6%)\n",
            "  adding: content/output_mcar/linear_ts_n1000_vars4_lag4_student_t_mcar20_missing.csv (deflated 56%)\n",
            "  adding: content/output_mcar/linear_ts_n1000_vars6_lag4_student_t_mcar30_graph.png (deflated 6%)\n",
            "  adding: content/output_mcar/linear_ts_n3000_vars4_lag2_student_t_mcar10_missing.csv (deflated 58%)\n",
            "  adding: content/output_mcar/linear_ts_n500_vars6_lag2_gaussian_mcar20_graph.png (deflated 8%)\n",
            "  adding: content/output_mcar/linear_ts_n3000_vars4_lag2_student_t_mcar10_structure.txt (deflated 34%)\n",
            "  adding: content/output_mcar/linear_ts_n3000_vars6_lag4_gaussian_mcar10_missing_pattern.png (deflated 4%)\n",
            "  adding: content/output_mcar/linear_ts_n1000_vars8_lag3_student_t_mcar30_graph.png (deflated 5%)\n",
            "  adding: content/output_mcar/linear_ts_n5000_vars4_lag3_gaussian_mcar10_complete.csv (deflated 60%)\n",
            "  adding: content/output_mcar/linear_ts_n1000_vars6_lag3_student_t_mcar20_structure.txt (deflated 43%)\n",
            "  adding: content/output_mcar/linear_ts_n500_vars8_lag4_student_t_mcar10_structure.txt (deflated 48%)\n",
            "  adding: content/output_mcar/linear_ts_n3000_vars4_lag3_student_t_mcar10_missing.csv (deflated 58%)\n",
            "  adding: content/output_mcar/linear_ts_n500_vars4_lag2_student_t_mcar10_missing_pattern.png (deflated 6%)\n",
            "  adding: content/output_mcar/linear_ts_n500_vars8_lag3_student_t_mcar20_graph.png (deflated 6%)\n",
            "  adding: content/output_mcar/linear_ts_n3000_vars4_lag4_gaussian_mcar30_missing.csv (deflated 58%)\n",
            "  adding: content/output_mcar/linear_ts_n1000_vars8_lag2_student_t_mcar10_missing_pattern.png (deflated 5%)\n",
            "  adding: content/output_mcar/linear_ts_n1000_vars6_lag3_gaussian_mcar20_missing_pattern.png (deflated 6%)\n",
            "  adding: content/output_mcar/linear_ts_n1000_vars8_lag4_student_t_mcar10_series.png (deflated 3%)\n",
            "  adding: content/output_mcar/linear_ts_n5000_vars6_lag3_gaussian_mcar30_graph.png (deflated 6%)\n",
            "  adding: content/output_mcar/linear_ts_n3000_vars6_lag3_student_t_mcar30_structure.txt (deflated 43%)\n",
            "  adding: content/output_mcar/linear_ts_n3000_vars8_lag4_gaussian_mcar20_structure.txt (deflated 48%)\n",
            "  adding: content/output_mcar/linear_ts_n500_vars8_lag3_student_t_mcar20_complete.csv (deflated 56%)\n",
            "  adding: content/output_mcar/linear_ts_n500_vars8_lag3_gaussian_mcar10_missing_pattern.png (deflated 5%)\n",
            "  adding: content/output_mcar/linear_ts_n500_vars8_lag2_gaussian_mcar30_complete.csv (deflated 54%)\n",
            "  adding: content/output_mcar/linear_ts_n500_vars4_lag3_gaussian_mcar20_series.png (deflated 2%)\n",
            "  adding: content/output_mcar/linear_ts_n500_vars8_lag2_student_t_mcar30_series.png (deflated 3%)\n",
            "  adding: content/output_mcar/linear_ts_n500_vars6_lag3_student_t_mcar10_graph.png (deflated 6%)\n",
            "  adding: content/output_mcar/linear_ts_n1000_vars8_lag2_student_t_mcar10_structure.txt (deflated 49%)\n",
            "  adding: content/output_mcar/linear_ts_n3000_vars8_lag2_gaussian_mcar10_complete.csv (deflated 56%)\n",
            "  adding: content/output_mcar/linear_ts_n500_vars6_lag4_student_t_mcar30_structure.txt (deflated 43%)\n",
            "  adding: content/output_mcar/linear_ts_n1000_vars8_lag2_gaussian_mcar30_missing_pattern.png (deflated 4%)\n",
            "  adding: content/output_mcar/linear_ts_n3000_vars8_lag4_gaussian_mcar10_series.png (deflated 1%)\n",
            "  adding: content/output_mcar/linear_ts_n3000_vars6_lag4_gaussian_mcar30_structure.txt (deflated 43%)\n",
            "  adding: content/output_mcar/linear_ts_n3000_vars8_lag3_student_t_mcar30_missing_pattern.png (deflated 4%)\n",
            "  adding: content/output_mcar/linear_ts_n5000_vars4_lag4_student_t_mcar30_missing.csv (deflated 58%)\n",
            "  adding: content/output_mcar/linear_ts_n500_vars4_lag2_gaussian_mcar20_structure.txt (deflated 34%)\n",
            "  adding: content/output_mcar/linear_ts_n3000_vars8_lag2_gaussian_mcar10_missing_pattern.png (deflated 4%)\n",
            "  adding: content/output_mcar/linear_ts_n3000_vars8_lag4_student_t_mcar30_complete.csv (deflated 57%)\n",
            "  adding: content/output_mcar/linear_ts_n500_vars4_lag4_gaussian_mcar10_structure.txt (deflated 37%)\n",
            "  adding: content/output_mcar/linear_ts_n3000_vars8_lag3_student_t_mcar20_complete.csv (deflated 57%)\n",
            "  adding: content/output_mcar/linear_ts_n5000_vars6_lag3_student_t_mcar10_series.png (deflated 3%)\n",
            "  adding: content/output_mcar/linear_ts_n1000_vars4_lag4_student_t_mcar30_missing.csv (deflated 56%)\n",
            "  adding: content/output_mcar/linear_ts_n500_vars6_lag2_gaussian_mcar10_missing_pattern.png (deflated 6%)\n",
            "  adding: content/output_mcar/linear_ts_n3000_vars8_lag4_gaussian_mcar20_missing.csv (deflated 57%)\n",
            "  adding: content/output_mcar/linear_ts_n3000_vars4_lag2_student_t_mcar10_missing_pattern.png (deflated 4%)\n",
            "  adding: content/output_mcar/linear_ts_n5000_vars4_lag3_gaussian_mcar20_graph.png (deflated 6%)\n",
            "  adding: content/output_mcar/linear_ts_n5000_vars8_lag3_gaussian_mcar20_missing_pattern.png (deflated 4%)\n",
            "  adding: content/output_mcar/linear_ts_n3000_vars6_lag2_student_t_mcar20_graph.png (deflated 8%)\n",
            "  adding: content/output_mcar/linear_ts_n3000_vars8_lag2_student_t_mcar30_graph.png (deflated 7%)\n",
            "  adding: content/output_mcar/linear_ts_n5000_vars6_lag3_gaussian_mcar30_series.png (deflated 1%)\n",
            "  adding: content/output_mcar/linear_ts_n5000_vars4_lag2_gaussian_mcar20_structure.txt (deflated 34%)\n",
            "  adding: content/output_mcar/linear_ts_n3000_vars6_lag4_student_t_mcar20_missing.csv (deflated 56%)\n",
            "  adding: content/output_mcar/linear_ts_n3000_vars6_lag2_student_t_mcar10_graph.png (deflated 8%)\n",
            "  adding: content/output_mcar/linear_ts_n5000_vars8_lag4_student_t_mcar30_complete.csv (deflated 57%)\n",
            "  adding: content/output_mcar/linear_ts_n1000_vars8_lag2_student_t_mcar10_graph.png (deflated 7%)\n",
            "  adding: content/output_mcar/linear_ts_n1000_vars6_lag3_student_t_mcar30_structure.txt (deflated 43%)\n",
            "  adding: content/output_mcar/linear_ts_n5000_vars8_lag2_student_t_mcar20_missing_pattern.png (deflated 4%)\n",
            "  adding: content/output_mcar/linear_ts_n5000_vars6_lag4_gaussian_mcar30_missing_pattern.png (deflated 4%)\n",
            "  adding: content/output_mcar/linear_ts_n3000_vars6_lag3_gaussian_mcar10_structure.txt (deflated 43%)\n",
            "  adding: content/output_mcar/linear_ts_n3000_vars6_lag2_student_t_mcar20_missing_pattern.png (deflated 4%)\n",
            "  adding: content/output_mcar/linear_ts_n3000_vars8_lag3_gaussian_mcar20_structure.txt (deflated 48%)\n",
            "  adding: content/output_mcar/linear_ts_n5000_vars6_lag2_gaussian_mcar10_missing_pattern.png (deflated 4%)\n",
            "  adding: content/output_mcar/linear_ts_n500_vars4_lag3_student_t_mcar10_series.png (deflated 3%)\n",
            "  adding: content/output_mcar/linear_ts_n500_vars6_lag2_gaussian_mcar20_missing_pattern.png (deflated 5%)\n",
            "  adding: content/output_mcar/linear_ts_n3000_vars8_lag2_student_t_mcar20_complete.csv (deflated 56%)\n",
            "  adding: content/output_mcar/linear_ts_n3000_vars4_lag3_gaussian_mcar30_series.png (deflated 2%)\n",
            "  adding: content/output_mcar/linear_ts_n3000_vars8_lag3_gaussian_mcar10_missing.csv (deflated 57%)\n",
            "  adding: content/output_mcar/linear_ts_n3000_vars4_lag2_gaussian_mcar10_complete.csv (deflated 59%)\n",
            "  adding: content/output_mcar/linear_ts_n500_vars8_lag4_gaussian_mcar30_series.png (deflated 2%)\n",
            "  adding: content/output_mcar/linear_ts_n5000_vars6_lag3_student_t_mcar20_structure.txt (deflated 43%)\n",
            "  adding: content/output_mcar/linear_ts_n5000_vars6_lag4_student_t_mcar10_structure.txt (deflated 43%)\n",
            "  adding: content/output_mcar/linear_ts_n500_vars6_lag4_student_t_mcar20_missing_pattern.png (deflated 5%)\n",
            "  adding: content/output_mcar/linear_ts_n1000_vars4_lag3_student_t_mcar30_missing_pattern.png (deflated 4%)\n",
            "  adding: content/output_mcar/linear_ts_n1000_vars4_lag3_gaussian_mcar20_complete.csv (deflated 58%)\n",
            "  adding: content/output_mcar/linear_ts_n1000_vars4_lag3_student_t_mcar30_graph.png (deflated 5%)\n",
            "  adding: content/output_mcar/linear_ts_n3000_vars4_lag4_gaussian_mcar20_missing.csv (deflated 58%)\n",
            "  adding: content/output_mcar/linear_ts_n500_vars8_lag2_gaussian_mcar20_graph.png (deflated 6%)\n",
            "  adding: content/output_mcar/linear_ts_n1000_vars6_lag4_gaussian_mcar30_structure.txt (deflated 43%)\n",
            "  adding: content/output_mcar/linear_ts_n5000_vars6_lag2_gaussian_mcar10_complete.csv (deflated 55%)\n",
            "  adding: content/output_mcar/linear_ts_n5000_vars6_lag3_gaussian_mcar30_missing.csv (deflated 56%)\n",
            "  adding: content/output_mcar/linear_ts_n500_vars8_lag4_student_t_mcar20_missing.csv (deflated 55%)\n",
            "  adding: content/output_mcar/linear_ts_n3000_vars4_lag2_student_t_mcar30_complete.csv (deflated 59%)\n",
            "  adding: content/output_mcar/linear_ts_n3000_vars8_lag2_gaussian_mcar30_complete.csv (deflated 56%)\n",
            "  adding: content/output_mcar/linear_ts_n5000_vars6_lag3_gaussian_mcar10_graph.png (deflated 6%)\n",
            "  adding: content/output_mcar/linear_ts_n500_vars6_lag2_gaussian_mcar10_structure.txt (deflated 44%)\n",
            "  adding: content/output_mcar/linear_ts_n500_vars6_lag4_gaussian_mcar20_missing_pattern.png (deflated 5%)\n",
            "  adding: content/output_mcar/linear_ts_n5000_vars8_lag2_student_t_mcar30_missing.csv (deflated 55%)\n",
            "  adding: content/output_mcar/linear_ts_n500_vars8_lag4_student_t_mcar30_graph.png (deflated 5%)\n",
            "  adding: content/output_mcar/linear_ts_n500_vars4_lag3_student_t_mcar20_structure.txt (deflated 37%)\n",
            "  adding: content/output_mcar/linear_ts_n1000_vars6_lag2_student_t_mcar30_missing_pattern.png (deflated 5%)\n",
            "  adding: content/output_mcar/linear_ts_n5000_vars8_lag3_student_t_mcar10_series.png (deflated 3%)\n",
            "  adding: content/output_mcar/linear_ts_n5000_vars8_lag3_student_t_mcar10_complete.csv (deflated 57%)\n",
            "  adding: content/output_mcar/linear_ts_n500_vars8_lag2_gaussian_mcar30_missing_pattern.png (deflated 4%)\n",
            "  adding: content/output_mcar/linear_ts_n3000_vars6_lag3_student_t_mcar10_missing_pattern.png (deflated 4%)\n",
            "  adding: content/output_mcar/linear_ts_n1000_vars8_lag2_student_t_mcar10_series.png (deflated 3%)\n",
            "  adding: content/output_mcar/linear_ts_n5000_vars4_lag2_gaussian_mcar30_graph.png (deflated 8%)\n",
            "  adding: content/output_mcar/linear_ts_n500_vars6_lag3_student_t_mcar30_missing_pattern.png (deflated 4%)\n",
            "  adding: content/output_mcar/linear_ts_n5000_vars4_lag2_gaussian_mcar30_series.png (deflated 1%)\n",
            "  adding: content/output_mcar/linear_ts_n3000_vars8_lag4_gaussian_mcar30_series.png (deflated 1%)\n",
            "  adding: content/output_mcar/linear_ts_n500_vars4_lag3_gaussian_mcar10_missing_pattern.png (deflated 6%)\n",
            "  adding: content/output_mcar/linear_ts_n3000_vars4_lag4_student_t_mcar30_missing_pattern.png (deflated 4%)\n",
            "  adding: content/output_mcar/linear_ts_n500_vars6_lag3_gaussian_mcar30_missing_pattern.png (deflated 4%)\n",
            "  adding: content/output_mcar/linear_ts_n1000_vars6_lag4_gaussian_mcar20_structure.txt (deflated 43%)\n",
            "  adding: content/output_mcar/linear_ts_n500_vars8_lag3_student_t_mcar10_missing_pattern.png (deflated 5%)\n",
            "  adding: content/output_mcar/linear_ts_n3000_vars8_lag3_gaussian_mcar30_structure.txt (deflated 48%)\n",
            "  adding: content/output_mcar/linear_ts_n500_vars6_lag4_student_t_mcar30_series.png (deflated 4%)\n",
            "  adding: content/output_mcar/linear_ts_n3000_vars8_lag2_student_t_mcar10_complete.csv (deflated 56%)\n",
            "  adding: content/output_mcar/linear_ts_n5000_vars8_lag2_gaussian_mcar10_complete.csv (deflated 56%)\n",
            "  adding: content/output_mcar/linear_ts_n1000_vars4_lag2_gaussian_mcar20_missing_pattern.png (deflated 4%)\n",
            "  adding: content/output_mcar/linear_ts_n500_vars6_lag4_student_t_mcar30_complete.csv (deflated 54%)\n",
            "  adding: content/output_mcar/linear_ts_n1000_vars4_lag3_gaussian_mcar10_series.png (deflated 2%)\n",
            "  adding: content/output_mcar/linear_ts_n1000_vars6_lag2_student_t_mcar20_missing.csv (deflated 53%)\n",
            "  adding: content/output_mcar/linear_ts_n1000_vars4_lag4_student_t_mcar20_complete.csv (deflated 58%)\n",
            "  adding: content/output_mcar/linear_ts_n3000_vars8_lag2_student_t_mcar20_graph.png (deflated 6%)\n",
            "  adding: content/output_mcar/linear_ts_n3000_vars8_lag3_student_t_mcar20_structure.txt (deflated 48%)\n",
            "  adding: content/output_mcar/linear_ts_n5000_vars6_lag2_student_t_mcar20_missing.csv (deflated 54%)\n",
            "  adding: content/output_mcar/linear_ts_n3000_vars8_lag3_student_t_mcar20_series.png (deflated 4%)\n",
            "  adding: content/output_mcar/linear_ts_n1000_vars8_lag4_student_t_mcar30_structure.txt (deflated 48%)\n",
            "  adding: content/output_mcar/linear_ts_n5000_vars8_lag2_gaussian_mcar30_series.png (deflated 1%)\n",
            "  adding: content/output_mcar/linear_ts_n500_vars6_lag4_gaussian_mcar30_missing_pattern.png (deflated 4%)\n",
            "  adding: content/output_mcar/linear_ts_n1000_vars4_lag3_gaussian_mcar10_structure.txt (deflated 37%)\n",
            "  adding: content/output_mcar/linear_ts_n5000_vars4_lag2_student_t_mcar10_series.png (deflated 4%)\n",
            "  adding: content/output_mcar/linear_ts_n1000_vars4_lag2_student_t_mcar20_series.png (deflated 5%)\n",
            "  adding: content/output_mcar/linear_ts_n5000_vars6_lag2_gaussian_mcar30_complete.csv (deflated 55%)\n",
            "  adding: content/output_mcar/linear_ts_n3000_vars6_lag2_student_t_mcar10_series.png (deflated 3%)\n",
            "  adding: content/output_mcar/linear_ts_n1000_vars8_lag4_student_t_mcar30_missing.csv (deflated 55%)\n",
            "  adding: content/output_mcar/linear_ts_n500_vars4_lag2_student_t_mcar10_missing.csv (deflated 56%)\n",
            "  adding: content/output_mcar/linear_ts_n5000_vars4_lag4_student_t_mcar20_complete.csv (deflated 59%)\n",
            "  adding: content/output_mcar/linear_ts_n1000_vars4_lag2_gaussian_mcar10_structure.txt (deflated 34%)\n",
            "  adding: content/output_mcar/linear_ts_n5000_vars6_lag2_student_t_mcar30_graph.png (deflated 8%)\n",
            "  adding: content/output_mcar/linear_ts_n5000_vars8_lag4_student_t_mcar10_missing.csv (deflated 57%)\n",
            "  adding: content/output_mcar/linear_ts_n500_vars4_lag2_gaussian_mcar20_complete.csv (deflated 57%)\n",
            "  adding: content/output_mcar/linear_ts_n1000_vars8_lag4_gaussian_mcar30_structure.txt (deflated 48%)\n",
            "  adding: content/output_mcar/linear_ts_n1000_vars6_lag3_gaussian_mcar20_graph.png (deflated 6%)\n",
            "  adding: content/output_mcar/linear_ts_n5000_vars8_lag2_gaussian_mcar30_missing.csv (deflated 55%)\n",
            "  adding: content/output_mcar/linear_ts_n1000_vars8_lag2_gaussian_mcar20_series.png (deflated 1%)\n",
            "  adding: content/output_mcar/linear_ts_n500_vars4_lag4_gaussian_mcar10_series.png (deflated 2%)\n",
            "  adding: content/output_mcar/linear_ts_n500_vars6_lag3_student_t_mcar10_missing_pattern.png (deflated 6%)\n",
            "  adding: content/output_mcar/linear_ts_n5000_vars4_lag3_gaussian_mcar20_structure.txt (deflated 37%)\n",
            "  adding: content/output_mcar/linear_ts_n500_vars6_lag2_student_t_mcar10_graph.png (deflated 9%)\n",
            "  adding: content/output_mcar/linear_ts_n1000_vars6_lag4_student_t_mcar20_graph.png (deflated 6%)\n",
            "  adding: content/output_mcar/linear_ts_n3000_vars6_lag3_student_t_mcar20_missing_pattern.png (deflated 4%)\n",
            "  adding: content/output_mcar/linear_ts_n5000_vars6_lag4_student_t_mcar30_structure.txt (deflated 43%)\n",
            "  adding: content/output_mcar/linear_ts_n500_vars6_lag4_gaussian_mcar10_structure.txt (deflated 43%)\n",
            "  adding: content/output_mcar/linear_ts_n3000_vars6_lag4_student_t_mcar10_graph.png (deflated 6%)\n",
            "  adding: content/output_mcar/linear_ts_n1000_vars8_lag2_gaussian_mcar30_structure.txt (deflated 49%)\n",
            "  adding: content/output_mcar/linear_ts_n500_vars6_lag3_student_t_mcar20_missing.csv (deflated 54%)\n",
            "  adding: content/output_mcar/linear_ts_n1000_vars4_lag4_gaussian_mcar20_missing.csv (deflated 56%)\n",
            "  adding: content/output_mcar/linear_ts_n3000_vars4_lag3_student_t_mcar10_structure.txt (deflated 37%)\n",
            "  adding: content/output_mcar/linear_ts_n5000_vars4_lag4_student_t_mcar10_series.png (deflated 4%)\n",
            "  adding: content/output_mcar/linear_ts_n1000_vars4_lag4_student_t_mcar10_complete.csv (deflated 58%)\n",
            "  adding: content/output_mcar/linear_ts_n1000_vars6_lag4_student_t_mcar30_complete.csv (deflated 55%)\n",
            "  adding: content/output_mcar/linear_ts_n500_vars6_lag2_student_t_mcar20_complete.csv (deflated 53%)\n",
            "  adding: content/output_mcar/linear_ts_n500_vars8_lag3_student_t_mcar20_series.png (deflated 3%)\n",
            "  adding: content/output_mcar/linear_ts_n3000_vars8_lag3_student_t_mcar30_missing.csv (deflated 56%)\n",
            "  adding: content/output_mcar/linear_ts_n1000_vars4_lag3_gaussian_mcar30_missing_pattern.png (deflated 4%)\n",
            "  adding: content/output_mcar/linear_ts_n5000_vars6_lag3_gaussian_mcar20_missing_pattern.png (deflated 4%)\n",
            "  adding: content/output_mcar/linear_ts_n1000_vars6_lag2_student_t_mcar10_graph.png (deflated 8%)\n",
            "  adding: content/output_mcar/linear_ts_n1000_vars8_lag4_student_t_mcar20_structure.txt (deflated 48%)\n",
            "  adding: content/output_mcar/linear_ts_n1000_vars4_lag4_student_t_mcar30_graph.png (deflated 6%)\n",
            "  adding: content/output_mcar/linear_ts_n1000_vars6_lag3_student_t_mcar30_graph.png (deflated 6%)\n",
            "  adding: content/output_mcar/linear_ts_n1000_vars4_lag2_gaussian_mcar20_graph.png (deflated 8%)\n",
            "  adding: content/output_mcar/linear_ts_n3000_vars8_lag4_student_t_mcar20_missing_pattern.png (deflated 4%)\n",
            "  adding: content/output_mcar/linear_ts_n5000_vars4_lag3_gaussian_mcar10_missing_pattern.png (deflated 5%)\n",
            "  adding: content/output_mcar/linear_ts_n500_vars6_lag4_gaussian_mcar10_complete.csv (deflated 55%)\n",
            "  adding: content/output_mcar/linear_ts_n500_vars8_lag2_student_t_mcar30_structure.txt (deflated 49%)\n",
            "  adding: content/output_mcar/linear_ts_n3000_vars8_lag3_student_t_mcar30_structure.txt (deflated 48%)\n",
            "  adding: content/output_mcar/linear_ts_n5000_vars8_lag4_gaussian_mcar30_structure.txt (deflated 48%)\n",
            "  adding: content/output_mcar/linear_ts_n500_vars6_lag3_gaussian_mcar30_structure.txt (deflated 43%)\n",
            "  adding: content/output_mcar/linear_ts_n1000_vars6_lag3_student_t_mcar10_series.png (deflated 4%)\n",
            "  adding: content/output_mcar/linear_ts_n3000_vars6_lag4_student_t_mcar30_missing.csv (deflated 56%)\n",
            "  adding: content/output_mcar/linear_ts_n1000_vars6_lag2_gaussian_mcar30_series.png (deflated 1%)\n",
            "  adding: content/output_mcar/linear_ts_n1000_vars4_lag3_gaussian_mcar30_structure.txt (deflated 37%)\n",
            "  adding: content/output_mcar/linear_ts_n5000_vars8_lag3_gaussian_mcar20_graph.png (deflated 5%)\n",
            "  adding: content/output_mcar/linear_ts_n5000_vars4_lag4_gaussian_mcar20_series.png (deflated 1%)\n",
            "  adding: content/output_mcar/linear_ts_n5000_vars8_lag3_student_t_mcar30_series.png (deflated 3%)\n",
            "  adding: content/output_mcar/linear_ts_n5000_vars4_lag3_gaussian_mcar10_series.png (deflated 1%)\n",
            "  adding: content/output_mcar/linear_ts_n500_vars8_lag2_gaussian_mcar20_complete.csv (deflated 54%)\n",
            "  adding: content/output_mcar/linear_ts_n5000_vars6_lag4_gaussian_mcar30_structure.txt (deflated 43%)\n",
            "  adding: content/output_mcar/linear_ts_n1000_vars6_lag3_student_t_mcar20_graph.png (deflated 6%)\n",
            "  adding: content/output_mcar/linear_ts_n3000_vars8_lag3_student_t_mcar10_series.png (deflated 3%)\n",
            "  adding: content/output_mcar/linear_ts_n500_vars6_lag3_student_t_mcar30_structure.txt (deflated 43%)\n",
            "  adding: content/output_mcar/linear_ts_n1000_vars6_lag4_gaussian_mcar10_missing_pattern.png (deflated 7%)\n",
            "  adding: content/output_mcar/linear_ts_n3000_vars4_lag4_gaussian_mcar30_structure.txt (deflated 37%)\n",
            "  adding: content/output_mcar/linear_ts_n500_vars8_lag2_gaussian_mcar10_missing.csv (deflated 54%)\n",
            "  adding: content/output_mcar/linear_ts_n3000_vars6_lag3_student_t_mcar10_complete.csv (deflated 56%)\n",
            "  adding: content/output_mcar/linear_ts_n500_vars8_lag2_gaussian_mcar10_complete.csv (deflated 54%)\n",
            "  adding: content/output_mcar/linear_ts_n500_vars4_lag2_student_t_mcar10_structure.txt (deflated 34%)\n",
            "  adding: content/output_mcar/linear_ts_n5000_vars6_lag3_gaussian_mcar10_structure.txt (deflated 43%)\n",
            "  adding: content/output_mcar/linear_ts_n500_vars8_lag4_gaussian_mcar30_missing.csv (deflated 55%)\n",
            "  adding: content/output_mcar/linear_ts_n500_vars4_lag3_gaussian_mcar20_graph.png (deflated 6%)\n",
            "  adding: content/output_mcar/linear_ts_n1000_vars6_lag4_student_t_mcar20_missing.csv (deflated 54%)\n",
            "  adding: content/output_mcar/linear_ts_n5000_vars4_lag4_gaussian_mcar10_missing_pattern.png (deflated 5%)\n",
            "  adding: content/output_mcar/linear_ts_n1000_vars4_lag4_student_t_mcar10_graph.png (deflated 6%)\n",
            "  adding: content/output_mcar/linear_ts_n1000_vars8_lag4_gaussian_mcar20_series.png (deflated 1%)\n",
            "  adding: content/output_mcar/linear_ts_n5000_vars8_lag3_gaussian_mcar10_structure.txt (deflated 48%)\n",
            "  adding: content/output_mcar/linear_ts_n500_vars4_lag3_gaussian_mcar20_complete.csv (deflated 57%)\n",
            "  adding: content/output_mcar/linear_ts_n1000_vars8_lag3_student_t_mcar30_structure.txt (deflated 48%)\n",
            "  adding: content/output_mcar/linear_ts_n500_vars6_lag4_gaussian_mcar10_graph.png (deflated 6%)\n",
            "  adding: content/output_mcar/linear_ts_n3000_vars4_lag2_student_t_mcar20_missing_pattern.png (deflated 5%)\n",
            "  adding: content/output_mcar/linear_ts_n500_vars8_lag2_student_t_mcar30_graph.png (deflated 6%)\n",
            "  adding: content/output_mcar/linear_ts_n1000_vars4_lag2_student_t_mcar10_missing.csv (deflated 57%)\n",
            "  adding: content/output_mcar/linear_ts_n5000_vars8_lag2_gaussian_mcar10_series.png (deflated 1%)\n",
            "  adding: content/output_mcar/linear_ts_n3000_vars6_lag2_gaussian_mcar10_series.png (deflated 1%)\n",
            "  adding: content/output_mcar/linear_ts_n3000_vars6_lag4_student_t_mcar30_series.png (deflated 3%)\n",
            "  adding: content/output_mcar/linear_ts_n3000_vars6_lag3_student_t_mcar30_complete.csv (deflated 56%)\n",
            "  adding: content/output_mcar/linear_ts_n3000_vars4_lag3_student_t_mcar20_complete.csv (deflated 59%)\n",
            "  adding: content/output_mcar/linear_ts_n5000_vars4_lag4_gaussian_mcar20_complete.csv (deflated 60%)\n",
            "  adding: content/output_mcar/linear_ts_n5000_vars8_lag4_student_t_mcar20_structure.txt (deflated 48%)\n",
            "  adding: content/output_mcar/linear_ts_n500_vars4_lag4_student_t_mcar20_missing_pattern.png (deflated 5%)\n",
            "  adding: content/output_mcar/linear_ts_n500_vars4_lag4_student_t_mcar20_series.png (deflated 4%)\n",
            "  adding: content/output_mcar/linear_ts_n500_vars4_lag2_gaussian_mcar20_series.png (deflated 2%)\n",
            "  adding: content/output_mcar/linear_ts_n3000_vars8_lag4_student_t_mcar20_graph.png (deflated 5%)\n",
            "  adding: content/output_mcar/linear_ts_n5000_vars6_lag3_gaussian_mcar20_missing.csv (deflated 56%)\n",
            "  adding: content/output_mcar/linear_ts_n500_vars4_lag2_gaussian_mcar30_complete.csv (deflated 57%)\n",
            "  adding: content/output_mcar/linear_ts_n1000_vars6_lag3_student_t_mcar10_graph.png (deflated 6%)\n",
            "  adding: content/output_mcar/linear_ts_n5000_vars4_lag3_gaussian_mcar30_complete.csv (deflated 60%)\n",
            "  adding: content/output_mcar/linear_ts_n3000_vars6_lag4_gaussian_mcar20_missing_pattern.png (deflated 4%)\n",
            "  adding: content/output_mcar/linear_ts_n5000_vars8_lag4_student_t_mcar20_series.png (deflated 3%)\n",
            "  adding: content/output_mcar/linear_ts_n3000_vars6_lag3_student_t_mcar30_missing_pattern.png (deflated 4%)\n",
            "  adding: content/output_mcar/linear_ts_n500_vars8_lag4_student_t_mcar20_complete.csv (deflated 56%)\n",
            "  adding: content/output_mcar/linear_ts_n3000_vars4_lag3_student_t_mcar10_missing_pattern.png (deflated 4%)\n",
            "  adding: content/output_mcar/linear_ts_n5000_vars8_lag4_student_t_mcar10_graph.png (deflated 6%)\n",
            "  adding: content/output_mcar/linear_ts_n1000_vars6_lag3_student_t_mcar20_missing.csv (deflated 54%)\n",
            "  adding: content/output_mcar/linear_ts_n1000_vars6_lag2_student_t_mcar10_structure.txt (deflated 44%)\n",
            "  adding: content/output_mcar/linear_ts_n3000_vars6_lag2_student_t_mcar30_missing.csv (deflated 54%)\n",
            "  adding: content/output_mcar/linear_ts_n500_vars6_lag2_student_t_mcar20_graph.png (deflated 8%)\n",
            "  adding: content/output_mcar/linear_ts_n1000_vars4_lag2_gaussian_mcar30_missing.csv (deflated 56%)\n",
            "  adding: content/output_mcar/linear_ts_n5000_vars4_lag4_student_t_mcar20_missing.csv (deflated 58%)\n",
            "  adding: content/output_mcar/linear_ts_n500_vars8_lag4_gaussian_mcar20_structure.txt (deflated 48%)\n",
            "  adding: content/output_mcar/linear_ts_n500_vars4_lag4_gaussian_mcar20_structure.txt (deflated 37%)\n",
            "  adding: content/output_mcar/linear_ts_n5000_vars8_lag3_student_t_mcar20_missing.csv (deflated 57%)\n",
            "  adding: content/output_mcar/linear_ts_n3000_vars4_lag2_student_t_mcar30_structure.txt (deflated 34%)\n",
            "  adding: content/output_mcar/linear_ts_n3000_vars4_lag4_gaussian_mcar10_graph.png (deflated 6%)\n",
            "  adding: content/output_mcar/linear_ts_n1000_vars8_lag3_student_t_mcar20_structure.txt (deflated 48%)\n",
            "  adding: content/output_mcar/linear_ts_n1000_vars6_lag4_student_t_mcar20_complete.csv (deflated 55%)\n",
            "  adding: content/output_mcar/linear_ts_n1000_vars4_lag2_gaussian_mcar30_missing_pattern.png (deflated 4%)\n",
            "  adding: content/output_mcar/linear_ts_n1000_vars8_lag3_gaussian_mcar20_missing_pattern.png (deflated 4%)\n",
            "  adding: content/output_mcar/linear_ts_n500_vars6_lag2_student_t_mcar20_series.png (deflated 3%)\n",
            "  adding: content/output_mcar/linear_ts_n500_vars8_lag2_gaussian_mcar30_missing.csv (deflated 53%)\n",
            "  adding: content/output_mcar/linear_ts_n3000_vars6_lag2_gaussian_mcar20_missing.csv (deflated 54%)\n",
            "  adding: content/output_mcar/linear_ts_n3000_vars8_lag3_gaussian_mcar30_missing.csv (deflated 56%)\n",
            "  adding: content/output_mcar/linear_ts_n5000_vars4_lag2_student_t_mcar20_missing_pattern.png (deflated 4%)\n",
            "  adding: content/output_mcar/linear_ts_n5000_vars8_lag2_student_t_mcar30_series.png (deflated 3%)\n",
            "  adding: content/output_mcar/linear_ts_n5000_vars6_lag4_student_t_mcar30_missing_pattern.png (deflated 4%)\n",
            "  adding: content/output_mcar/linear_ts_n5000_vars8_lag4_gaussian_mcar20_complete.csv (deflated 58%)\n",
            "  adding: content/output_mcar/linear_ts_n5000_vars4_lag3_gaussian_mcar20_missing_pattern.png (deflated 5%)\n",
            "  adding: content/output_mcar/linear_ts_n500_vars8_lag2_student_t_mcar30_missing.csv (deflated 53%)\n",
            "  adding: content/output_mcar/linear_ts_n5000_vars4_lag4_gaussian_mcar30_missing.csv (deflated 58%)\n",
            "  adding: content/output_mcar/linear_ts_n3000_vars6_lag3_student_t_mcar30_graph.png (deflated 6%)\n",
            "  adding: content/output_mcar/linear_ts_n5000_vars8_lag4_gaussian_mcar30_series.png (deflated 1%)\n",
            "  adding: content/output_mcar/linear_ts_n5000_vars4_lag3_gaussian_mcar20_series.png (deflated 1%)\n",
            "  adding: content/output_mcar/linear_ts_n3000_vars4_lag2_gaussian_mcar20_graph.png (deflated 8%)\n",
            "  adding: content/output_mcar/linear_ts_n5000_vars6_lag4_student_t_mcar20_structure.txt (deflated 43%)\n",
            "  adding: content/output_mcar/linear_ts_n500_vars8_lag2_student_t_mcar30_missing_pattern.png (deflated 4%)\n",
            "  adding: content/output_mcar/linear_ts_n5000_vars8_lag4_student_t_mcar30_series.png (deflated 4%)\n",
            "  adding: content/output_mcar/linear_ts_n500_vars8_lag4_gaussian_mcar20_series.png (deflated 2%)\n",
            "  adding: content/output_mcar/linear_ts_n1000_vars6_lag3_student_t_mcar10_missing.csv (deflated 55%)\n",
            "  adding: content/output_mcar/linear_ts_n500_vars4_lag2_student_t_mcar30_structure.txt (deflated 34%)\n",
            "  adding: content/output_mcar/linear_ts_n1000_vars6_lag3_gaussian_mcar30_series.png (deflated 2%)\n",
            "  adding: content/output_mcar/linear_ts_n500_vars4_lag2_gaussian_mcar10_complete.csv (deflated 57%)\n",
            "  adding: content/output_mcar/linear_ts_n500_vars6_lag4_student_t_mcar10_missing_pattern.png (deflated 6%)\n",
            "  adding: content/output_mcar/linear_ts_n1000_vars6_lag2_student_t_mcar30_structure.txt (deflated 44%)\n",
            "  adding: content/output_mcar/linear_ts_n1000_vars8_lag3_gaussian_mcar20_series.png (deflated 1%)\n",
            "  adding: content/output_mcar/linear_ts_n500_vars8_lag2_gaussian_mcar30_series.png (deflated 2%)\n",
            "  adding: content/output_mcar/linear_ts_n1000_vars4_lag4_gaussian_mcar20_series.png (deflated 2%)\n",
            "  adding: content/output_mcar/linear_ts_n3000_vars8_lag4_gaussian_mcar10_complete.csv (deflated 57%)\n",
            "  adding: content/output_mcar/linear_ts_n3000_vars8_lag3_student_t_mcar10_graph.png (deflated 5%)\n",
            "  adding: content/output_mcar/linear_ts_n1000_vars6_lag2_gaussian_mcar10_missing_pattern.png (deflated 7%)\n",
            "  adding: content/output_mcar/linear_ts_n5000_vars6_lag4_student_t_mcar30_complete.csv (deflated 56%)\n",
            "  adding: content/output_mcar/linear_ts_n3000_vars6_lag4_student_t_mcar20_complete.csv (deflated 56%)\n",
            "  adding: content/output_mcar/linear_ts_n500_vars6_lag2_gaussian_mcar20_series.png (deflated 2%)\n",
            "  adding: content/output_mcar/linear_ts_n5000_vars4_lag2_gaussian_mcar10_structure.txt (deflated 34%)\n",
            "  adding: content/output_mcar/linear_ts_n500_vars4_lag3_student_t_mcar10_missing.csv (deflated 56%)\n",
            "  adding: content/output_mcar/linear_ts_n5000_vars4_lag4_gaussian_mcar10_missing.csv (deflated 59%)\n",
            "  adding: content/output_mcar/linear_ts_n5000_vars4_lag2_student_t_mcar30_missing.csv (deflated 58%)\n",
            "  adding: content/output_mcar/linear_ts_n3000_vars8_lag2_gaussian_mcar20_graph.png (deflated 6%)\n",
            "  adding: content/output_mcar/linear_ts_n5000_vars4_lag4_gaussian_mcar10_complete.csv (deflated 60%)\n",
            "  adding: content/output_mcar/linear_ts_n500_vars8_lag3_student_t_mcar20_structure.txt (deflated 48%)\n",
            "  adding: content/output_mcar/linear_ts_n5000_vars6_lag4_gaussian_mcar20_complete.csv (deflated 57%)\n",
            "  adding: content/output_mcar/linear_ts_n500_vars6_lag2_gaussian_mcar20_complete.csv (deflated 53%)\n",
            "  adding: content/output_mcar/linear_ts_n500_vars4_lag4_student_t_mcar10_missing_pattern.png (deflated 6%)\n",
            "  adding: content/output_mcar/linear_ts_n500_vars8_lag2_gaussian_mcar30_graph.png (deflated 7%)\n",
            "  adding: content/output_mcar/linear_ts_n3000_vars6_lag3_gaussian_mcar20_series.png (deflated 1%)\n",
            "  adding: content/output_mcar/linear_ts_n500_vars8_lag3_student_t_mcar10_graph.png (deflated 5%)\n",
            "  adding: content/output_mcar/linear_ts_n500_vars4_lag4_gaussian_mcar10_graph.png (deflated 6%)\n",
            "  adding: content/output_mcar/linear_ts_n1000_vars6_lag4_gaussian_mcar30_complete.csv (deflated 55%)\n",
            "  adding: content/output_mcar/linear_ts_n5000_vars6_lag2_student_t_mcar10_graph.png (deflated 8%)\n",
            "  adding: content/output_mcar/linear_ts_n1000_vars6_lag4_student_t_mcar10_structure.txt (deflated 43%)\n",
            "  adding: content/output_mcar/linear_ts_n500_vars8_lag2_student_t_mcar10_complete.csv (deflated 54%)\n",
            "  adding: content/output_mcar/linear_ts_n5000_vars6_lag3_student_t_mcar30_missing_pattern.png (deflated 4%)\n",
            "  adding: content/output_mcar/linear_ts_n5000_vars8_lag2_gaussian_mcar10_graph.png (deflated 6%)\n",
            "  adding: content/output_mcar/linear_ts_n500_vars4_lag4_student_t_mcar30_missing.csv (deflated 55%)\n",
            "  adding: content/output_mcar/linear_ts_n1000_vars6_lag4_gaussian_mcar10_graph.png (deflated 6%)\n",
            "  adding: content/output_mcar/linear_ts_n5000_vars8_lag4_student_t_mcar30_missing.csv (deflated 57%)\n",
            "  adding: content/output_mcar/linear_ts_n500_vars4_lag3_student_t_mcar10_complete.csv (deflated 57%)\n",
            "  adding: content/output_mcar/linear_ts_n3000_vars8_lag3_student_t_mcar30_graph.png (deflated 5%)\n",
            "  adding: content/output_mcar/linear_ts_n1000_vars6_lag2_gaussian_mcar30_complete.csv (deflated 54%)\n",
            "  adding: content/output_mcar/linear_ts_n5000_vars4_lag2_student_t_mcar20_missing.csv (deflated 58%)\n",
            "  adding: content/output_mcar/linear_ts_n3000_vars8_lag4_student_t_mcar10_series.png (deflated 3%)\n",
            "  adding: content/output_mcar/linear_ts_n5000_vars4_lag2_student_t_mcar10_missing.csv (deflated 59%)\n",
            "  adding: content/output_mcar/linear_ts_n3000_vars4_lag3_student_t_mcar10_complete.csv (deflated 59%)\n",
            "  adding: content/output_mcar/linear_ts_n3000_vars4_lag3_student_t_mcar20_missing.csv (deflated 58%)\n",
            "  adding: content/output_mcar/linear_ts_n5000_vars4_lag3_student_t_mcar20_series.png (deflated 4%)\n",
            "  adding: content/output_mcar/linear_ts_n1000_vars6_lag3_student_t_mcar20_missing_pattern.png (deflated 5%)\n",
            "  adding: content/output_mcar/linear_ts_n500_vars6_lag4_student_t_mcar20_graph.png (deflated 6%)\n",
            "  adding: content/output_mcar/linear_ts_n3000_vars4_lag3_student_t_mcar10_series.png (deflated 4%)\n",
            "  adding: content/output_mcar/linear_ts_n5000_vars6_lag4_student_t_mcar30_graph.png (deflated 6%)\n",
            "  adding: content/output_mcar/linear_ts_n500_vars6_lag2_student_t_mcar20_missing_pattern.png (deflated 5%)\n",
            "  adding: content/output_mcar/linear_ts_n5000_vars8_lag4_student_t_mcar10_structure.txt (deflated 48%)\n",
            "  adding: content/output_mcar/linear_ts_n3000_vars4_lag2_gaussian_mcar10_series.png (deflated 1%)\n",
            "  adding: content/output_mcar/linear_ts_n3000_vars6_lag2_student_t_mcar20_series.png (deflated 4%)\n",
            "  adding: content/output_mcar/linear_ts_n500_vars4_lag4_gaussian_mcar10_missing.csv (deflated 57%)\n",
            "  adding: content/output_mcar/linear_ts_n500_vars8_lag3_gaussian_mcar20_complete.csv (deflated 56%)\n",
            "  adding: content/output_mcar/linear_ts_n1000_vars6_lag3_gaussian_mcar10_structure.txt (deflated 43%)\n",
            "  adding: content/output_mcar/linear_ts_n500_vars8_lag3_student_t_mcar30_series.png (deflated 3%)\n",
            "  adding: content/output_mcar/linear_ts_n1000_vars6_lag4_student_t_mcar10_complete.csv (deflated 55%)\n",
            "  adding: content/output_mcar/linear_ts_n500_vars6_lag4_gaussian_mcar10_missing_pattern.png (deflated 6%)\n",
            "  adding: content/output_mcar/linear_ts_n500_vars8_lag4_gaussian_mcar20_missing_pattern.png (deflated 4%)\n",
            "  adding: content/output_mcar/linear_ts_n5000_vars4_lag4_student_t_mcar30_structure.txt (deflated 37%)\n"
          ]
        }
      ]
    },
    {
      "cell_type": "code",
      "source": [
        "from google.colab import files\n",
        "files.download('/content/output_D1.zip')"
      ],
      "metadata": {
        "colab": {
          "base_uri": "https://localhost:8080/",
          "height": 17
        },
        "id": "dIoIpheivOrb",
        "outputId": "c24a9e89-b46f-49da-c001-00c27139a0dc"
      },
      "execution_count": 5,
      "outputs": [
        {
          "output_type": "display_data",
          "data": {
            "text/plain": [
              "<IPython.core.display.Javascript object>"
            ],
            "application/javascript": [
              "\n",
              "    async function download(id, filename, size) {\n",
              "      if (!google.colab.kernel.accessAllowed) {\n",
              "        return;\n",
              "      }\n",
              "      const div = document.createElement('div');\n",
              "      const label = document.createElement('label');\n",
              "      label.textContent = `Downloading \"${filename}\": `;\n",
              "      div.appendChild(label);\n",
              "      const progress = document.createElement('progress');\n",
              "      progress.max = size;\n",
              "      div.appendChild(progress);\n",
              "      document.body.appendChild(div);\n",
              "\n",
              "      const buffers = [];\n",
              "      let downloaded = 0;\n",
              "\n",
              "      const channel = await google.colab.kernel.comms.open(id);\n",
              "      // Send a message to notify the kernel that we're ready.\n",
              "      channel.send({})\n",
              "\n",
              "      for await (const message of channel.messages) {\n",
              "        // Send a message to notify the kernel that we're ready.\n",
              "        channel.send({})\n",
              "        if (message.buffers) {\n",
              "          for (const buffer of message.buffers) {\n",
              "            buffers.push(buffer);\n",
              "            downloaded += buffer.byteLength;\n",
              "            progress.value = downloaded;\n",
              "          }\n",
              "        }\n",
              "      }\n",
              "      const blob = new Blob(buffers, {type: 'application/binary'});\n",
              "      const a = document.createElement('a');\n",
              "      a.href = window.URL.createObjectURL(blob);\n",
              "      a.download = filename;\n",
              "      div.appendChild(a);\n",
              "      a.click();\n",
              "      div.remove();\n",
              "    }\n",
              "  "
            ]
          },
          "metadata": {}
        },
        {
          "output_type": "display_data",
          "data": {
            "text/plain": [
              "<IPython.core.display.Javascript object>"
            ],
            "application/javascript": [
              "download(\"download_9b784422-c171-4276-af3a-9e8f470316dc\", \"output_D1.zip\", 181817582)"
            ]
          },
          "metadata": {}
        }
      ]
    }
  ]
}