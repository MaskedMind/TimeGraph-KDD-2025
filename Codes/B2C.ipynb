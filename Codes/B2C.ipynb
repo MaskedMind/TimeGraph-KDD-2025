{
  "nbformat": 4,
  "nbformat_minor": 0,
  "metadata": {
    "colab": {
      "provenance": []
    },
    "kernelspec": {
      "name": "python3",
      "display_name": "Python 3"
    },
    "language_info": {
      "name": "python"
    }
  },
  "cells": [
    {
      "cell_type": "code",
      "execution_count": 1,
      "metadata": {
        "colab": {
          "base_uri": "https://localhost:8080/"
        },
        "id": "zUCRZRUJAPmz",
        "outputId": "c1d4a40f-c592-45e5-a258-e2208b622776"
      },
      "outputs": [
        {
          "output_type": "stream",
          "name": "stdout",
          "text": [
            "Collecting tigramite\n",
            "  Downloading tigramite-5.2.7.0-py3-none-any.whl.metadata (11 kB)\n",
            "Requirement already satisfied: numpy>=1.18 in /usr/local/lib/python3.11/dist-packages (from tigramite) (1.26.4)\n",
            "Requirement already satisfied: scipy>=1.10.0 in /usr/local/lib/python3.11/dist-packages (from tigramite) (1.13.1)\n",
            "Requirement already satisfied: six in /usr/local/lib/python3.11/dist-packages (from tigramite) (1.17.0)\n",
            "Downloading tigramite-5.2.7.0-py3-none-any.whl (309 kB)\n",
            "\u001b[2K   \u001b[90m━━━━━━━━━━━━━━━━━━━━━━━━━━━━━━━━━━━━━━━━\u001b[0m \u001b[32m309.6/309.6 kB\u001b[0m \u001b[31m9.1 MB/s\u001b[0m eta \u001b[36m0:00:00\u001b[0m\n",
            "\u001b[?25hInstalling collected packages: tigramite\n",
            "Successfully installed tigramite-5.2.7.0\n"
          ]
        }
      ],
      "source": [
        "!pip install tigramite"
      ]
    },
    {
      "cell_type": "code",
      "source": [
        "import numpy as np\n",
        "import pandas as pd\n",
        "from scipy import stats\n",
        "from tigramite import plotting as tp\n",
        "import matplotlib.pyplot as plt\n",
        "from pathlib import Path"
      ],
      "metadata": {
        "id": "lx9xylj6AdO3"
      },
      "execution_count": 2,
      "outputs": []
    },
    {
      "cell_type": "code",
      "source": [
        "def get_nonlinear_equations_with_confounder(n_vars, max_lag):\n",
        "    \"\"\"Get nonlinear equations with confounder U\"\"\"\n",
        "    if n_vars == 4:\n",
        "        if max_lag == 2:\n",
        "            return [\n",
        "                \"X4[t] = 0.25 * X1[t-2]^2 - 0.1 * X1[t-2]^3 + e4\",\n",
        "                \"X3[t] = 0.35 * X4[t]^2 - 0.15 * X4[t]^3 + 0.3 * U[t]^2 + e3\",\n",
        "                \"X2[t] = 0.3 * X3[t-1]^2 - 0.05 * X3[t-1]^3 + e2\",\n",
        "                \"X1[t] = 0.4 * X2[t]^2 - 0.2 * X2[t]^3 + 0.5 * U[t]^2 + e1\",\n",
        "                \"U[t] = eU\"\n",
        "            ]\n",
        "        elif max_lag == 3:\n",
        "            return [\n",
        "                \"X4[t] = 0.25 * X1[t-2]^2 - 0.1 * X1[t-2]^3 + e4\",\n",
        "                \"X3[t] = 0.35 * X4[t]^2 - 0.15 * X4[t]^3 + 0.2 * X2[t-3]^2 + 0.3 * U[t]^2 + e3\",\n",
        "                \"X2[t] = 0.3 * X3[t-1]^2 - 0.05 * X3[t-1]^3 + e2\",\n",
        "                \"X1[t] = 0.4 * X2[t]^2 - 0.2 * X2[t]^3 + 0.5 * U[t]^2 + e1\",\n",
        "                \"U[t] = eU\"\n",
        "            ]\n",
        "        elif max_lag == 4:\n",
        "            return [\n",
        "                \"X4[t] = 0.25 * X1[t-4]^2 - 0.1 * X1[t-4]^3 + e4\",\n",
        "                \"X3[t] = 0.35 * X4[t]^2 - 0.15 * X4[t]^3 + 0.2 * X2[t-3]^2 + 0.3 * U[t]^2 + e3\",\n",
        "                \"X2[t] = 0.3 * X3[t-1]^2 - 0.05 * X3[t-1]^3 + e2\",\n",
        "                \"X1[t] = 0.4 * X2[t]^2 - 0.2 * X2[t]^3 + 0.5 * U[t]^2 + e1\",\n",
        "                \"U[t] = eU\"\n",
        "            ]\n",
        "    elif n_vars == 6:\n",
        "        base_equations = get_nonlinear_equations_with_confounder(4, max_lag)\n",
        "        additional = [\n",
        "            \"X6[t] = 0.45 * X5[t]^2 - 0.15 * X5[t]^3 + 0.4 * U[t]^2 + e6\",\n",
        "            \"X5[t] = 0.3 * X4[t-1]^2 - 0.1 * X4[t-1]^3 + e5\"\n",
        "        ]\n",
        "        return additional + base_equations\n",
        "    elif n_vars == 8:\n",
        "        base_equations = get_nonlinear_equations_with_confounder(6, max_lag)\n",
        "        additional = [\n",
        "            \"X8[t] = 0.4 * X7[t]^2 - 0.12 * X7[t]^3 + 0.35 * U[t]^2 + e8\",\n",
        "            \"X7[t] = 0.35 * X6[t-1]^2 - 0.08 * X6[t-1]^3 + e7\"\n",
        "        ]\n",
        "        return additional + base_equations\n",
        "    return []\n",
        "\n",
        "class MixedNonlinearConfoundedGenerator:\n",
        "    def __init__(self, noise_mix_ratio=0.5, noise_params={'scale': 0.1}, random_state=None):\n",
        "        \"\"\"\n",
        "        Initialize generator with mixed Gaussian and Laplace noise and confounder\n",
        "\n",
        "        Parameters:\n",
        "        noise_mix_ratio: float between 0 and 1, proportion of Gaussian noise\n",
        "        noise_params: dict with 'scale' parameter for noise distributions\n",
        "        random_state: int, random seed\n",
        "        \"\"\"\n",
        "        self.noise_mix_ratio = noise_mix_ratio\n",
        "        self.noise_params = noise_params\n",
        "        self.random_state = random_state\n",
        "        if random_state is not None:\n",
        "            np.random.seed(random_state)\n",
        "\n",
        "    def generate_mixed_noise(self, size):\n",
        "        \"\"\"Generate mixed Gaussian and Laplace noise\"\"\"\n",
        "        mask = np.random.random(size) < self.noise_mix_ratio\n",
        "        gaussian_noise = np.random.normal(0, self.noise_params['scale'], size=size)\n",
        "        laplace_noise = np.random.laplace(0, self.noise_params['scale'], size=size)\n",
        "        return np.where(mask, gaussian_noise, laplace_noise)\n",
        "\n",
        "    def generate_irregular_timestamps(self, n_points, total_time, min_gap=0.1):\n",
        "        \"\"\"Generate irregular sampling times\"\"\"\n",
        "        times = np.zeros(n_points)\n",
        "        times[0] = np.random.uniform(0, min_gap)\n",
        "\n",
        "        for i in range(1, n_points):\n",
        "            gap = np.random.exponential(scale=(total_time-times[i-1])/(n_points-i))\n",
        "            times[i] = times[i-1] + max(gap, min_gap)\n",
        "\n",
        "            if times[i] > total_time:\n",
        "                times = times * (total_time / times[i])\n",
        "\n",
        "        return times\n",
        "\n",
        "    def find_nearest_lag_idx(self, timestamps, current_idx, lag_time):\n",
        "        \"\"\"Find index of nearest available past observation for given lag\"\"\"\n",
        "        target_time = timestamps[current_idx] - lag_time\n",
        "        past_timestamps = timestamps[:current_idx]\n",
        "        if len(past_timestamps) == 0:\n",
        "            return 0\n",
        "        return (np.abs(past_timestamps - target_time)).argmin()\n",
        "\n",
        "    def generate_equations(self, t, X, U, lag_indices, n_vars, max_lag):\n",
        "        \"\"\"Execute nonlinear polynomial equations with confounder\"\"\"\n",
        "        noise = self.generate_mixed_noise(n_vars + 1)  # +1 for U\n",
        "        equations = get_nonlinear_equations_with_confounder(n_vars, max_lag)\n",
        "        true_links = extract_coefficients_from_equations(equations)\n",
        "\n",
        "        # Generate U first as it's a confounder\n",
        "        U[t] = noise[-1]\n",
        "\n",
        "        # Generate values based on nonlinear relationships\n",
        "        for i in range(n_vars-1, -1, -1):\n",
        "            var_name = f'X{i+1}'\n",
        "            value = 0\n",
        "\n",
        "            # Add causal influences with polynomial terms\n",
        "            for (source, lag, target, power), coef in true_links.items():\n",
        "                if target == var_name:\n",
        "                    if source == 'U':\n",
        "                        value += coef * (U[t] ** power)\n",
        "                    else:\n",
        "                        source_idx = int(source[1:]) - 1\n",
        "                        if lag == 0:\n",
        "                            value += coef * (X[t, source_idx] ** power)\n",
        "                        else:\n",
        "                            lag_idx = lag_indices[abs(lag)-1]\n",
        "                            value += coef * (X[lag_idx, source_idx] ** power)\n",
        "\n",
        "            # Add noise term\n",
        "            X[t, i] = value + noise[i]\n",
        "\n",
        "    def generate_multivariate_ts(self, n_points, n_vars, max_lag, total_time=100, min_gap=0.1):\n",
        "        \"\"\"Generate multivariate time series with irregular sampling and confounder\"\"\"\n",
        "        # Initialize arrays\n",
        "        X = np.zeros((n_points, n_vars))\n",
        "        U = np.zeros(n_points)  # Array for confounder U\n",
        "\n",
        "        # Generate irregular timestamps\n",
        "        timestamps = self.generate_irregular_timestamps(n_points, total_time, min_gap)\n",
        "\n",
        "        # Initialize first steps with noise\n",
        "        for i in range(max_lag):\n",
        "            X[i] = self.generate_mixed_noise(n_vars)\n",
        "            U[i] = self.generate_mixed_noise(1)[0]\n",
        "\n",
        "        # Generate time series\n",
        "        for t in range(max_lag, n_points):\n",
        "            mean_diff = np.mean(np.diff(timestamps))\n",
        "            lag_indices = [self.find_nearest_lag_idx(timestamps, t, i * mean_diff)\n",
        "                         for i in range(1, max_lag + 1)]\n",
        "\n",
        "            self.generate_equations(t, X, U, lag_indices, n_vars, max_lag)\n",
        "\n",
        "        # Create DataFrame\n",
        "        columns = [f'X{i+1}' for i in range(n_vars)] + ['U']\n",
        "        df = pd.DataFrame(np.column_stack([X, U[:, np.newaxis]]), columns=columns)\n",
        "        df['time'] = timestamps\n",
        "\n",
        "        return df\n",
        "\n",
        "def extract_coefficients_from_equations(equations):\n",
        "    \"\"\"Extract coefficients and relationships from equations including U\"\"\"\n",
        "    causal_links = {}\n",
        "\n",
        "    for eq in equations:\n",
        "        if '=' not in eq:\n",
        "            continue\n",
        "\n",
        "        left, right = [side.strip() for side in eq.split('=')]\n",
        "        if 'e' in right and len(right.split('+')) == 1:\n",
        "            continue  # Skip pure noise equations\n",
        "\n",
        "        target = left.split('[')[0]\n",
        "        terms = [term.strip() for term in right.split('+')]\n",
        "\n",
        "        for term in terms:\n",
        "            if '*' not in term or not ('X' in term or 'U' in term):\n",
        "                continue\n",
        "\n",
        "            parts = term.split('*')\n",
        "            coeff = float(parts[0].strip())\n",
        "            var_part = parts[1].strip()\n",
        "            base_var = var_part.split('^')[0] if '^' in var_part else var_part\n",
        "            var = base_var.split('[')[0]\n",
        "\n",
        "            power = 1\n",
        "            if '^' in var_part:\n",
        "                power = int(var_part.split('^')[1].split(' ')[0])\n",
        "\n",
        "            if var == 'U':\n",
        "                lag = 0\n",
        "            else:\n",
        "                lag_part = base_var.split('[')[1].split(']')[0]\n",
        "                lag = 0 if lag_part == 't' else -int(lag_part.split('-')[1])\n",
        "\n",
        "            causal_links[(var, lag, target, power)] = coeff\n",
        "\n",
        "    return causal_links\n",
        "\n",
        "def extract_linear_links_for_graph(equations):\n",
        "    \"\"\"Extract linear causal links for graph visualization\"\"\"\n",
        "    links = {}\n",
        "\n",
        "    for eq in equations:\n",
        "        if '=' in eq:\n",
        "            left, right = [side.strip() for side in eq.split('=')]\n",
        "            target = left.split('[')[0]\n",
        "\n",
        "            if target != 'U':  # Skip U's equation\n",
        "                terms = [term.strip() for term in right.split('+')]\n",
        "                for term in terms:\n",
        "                    if '*' in term and ('X' in term or 'U' in term):\n",
        "                        parts = term.split('*')\n",
        "                        coeff = float(parts[0].strip())\n",
        "                        var_part = parts[1].strip()\n",
        "                        var = var_part.split('^')[0].split('[')[0]\n",
        "\n",
        "                        if var == 'U':\n",
        "                            lag = 0\n",
        "                        else:\n",
        "                            lag_part = var_part.split('[')[1].split(']')[0]\n",
        "                            lag = 0 if lag_part == 't' else -int(lag_part.split('-')[1])\n",
        "\n",
        "                        links[(var, lag, target)] = coeff\n",
        "\n",
        "    return links\n",
        "\n",
        "def save_dataset_and_graph(df, n_vars, max_lag, sample_size, gaussian_ratio, output_dir=\"output_mixed_confounded\"):\n",
        "    \"\"\"Save dataset and create causal graph visualization\"\"\"\n",
        "    gaussian_pct = int(gaussian_ratio * 100)\n",
        "    laplace_pct = 100 - gaussian_pct\n",
        "    dir_path = f\"{output_dir}/gaussian_{gaussian_pct}_laplace_{laplace_pct}\"\n",
        "    Path(dir_path).mkdir(parents=True, exist_ok=True)\n",
        "\n",
        "    base_filename = f'{dir_path}/mixed_confounded_ts_n{sample_size}_vars{n_vars}_lag{max_lag}'\n",
        "\n",
        "    # Save dataset\n",
        "    df.to_csv(f'{base_filename}.csv', index=False)\n",
        "\n",
        "    # Get equations and extract links\n",
        "    equations = get_nonlinear_equations_with_confounder(n_vars, max_lag)\n",
        "    true_links = extract_linear_links_for_graph(equations)\n",
        "\n",
        "    # Create variable names including U\n",
        "    var_names = [f'X{i+1}' for i in range(n_vars)] + ['U']\n",
        "    n_total_vars = n_vars + 1\n",
        "    val_matrix = np.zeros((n_total_vars, n_total_vars, max_lag + 1))\n",
        "    graph_matrix = np.zeros((n_total_vars, n_total_vars, max_lag + 1), dtype='bool')\n",
        "\n",
        "    # Fill matrices based on true links\n",
        "    for (source, lag, target), weight in true_links.items():\n",
        "        if source == 'U':\n",
        "            source_idx = n_vars\n",
        "        else:\n",
        "            source_idx = int(source[1:]) - 1\n",
        "\n",
        "        target_idx = int(target[1:]) - 1\n",
        "        lag_idx = abs(lag)\n",
        "\n",
        "        # Add the link to the matrices\n",
        "        val_matrix[source_idx, target_idx, lag_idx] = weight\n",
        "        graph_matrix[source_idx, target_idx, lag_idx] = True\n",
        "\n",
        "        # For contemporaneous links, make val_matrix symmetric\n",
        "        if lag == 0:\n",
        "            val_matrix[target_idx, source_idx, lag_idx] = weight\n",
        "\n",
        "    # Plot and save causal graph\n",
        "    plt.figure(figsize=(12, 12))\n",
        "    tp.plot_time_series_graph(\n",
        "        val_matrix=val_matrix,\n",
        "        graph=graph_matrix,\n",
        "        var_names=var_names,\n",
        "        link_colorbar_label='Nonlinear Effect Strength',\n",
        "        node_size=0.05\n",
        "    )\n",
        "    plt.title(f'Nonlinear Causal Graph with Confounder\\n(n={sample_size}, vars={n_vars}, lag={max_lag})\\nGaussian: {gaussian_pct}%, Laplace: {laplace_pct}%')\n",
        "    plt.savefig(f'{base_filename}_graph.png')\n",
        "    plt.close()\n",
        "\n",
        "    # Plot time series\n",
        "    plt.figure(figsize=(15, 10))\n",
        "    for col in df.columns[:-2]:  # Exclude U and time\n",
        "        plt.plot(df['time'], df[col], label=col, alpha=0.7)\n",
        "    plt.title(f'Time Series (n={sample_size}, vars={n_vars}, lag={max_lag})')\n",
        "    plt.xlabel('Time')\n",
        "    plt.ylabel('Value')\n",
        "    plt.legend()\n",
        "    plt.grid(True)\n",
        "    plt.savefig(f'{base_filename}_series.png')\n",
        "    plt.close()\n",
        "\n",
        "    # Plot sampling intervals\n",
        "    plt.figure(figsize=(10, 6))\n",
        "    time_diffs = np.diff(df['time'])\n",
        "    plt.hist(time_diffs, bins=50, density=True)\n",
        "    plt.title('Distribution of Sampling Intervals')\n",
        "    plt.xlabel('Time Difference')\n",
        "    plt.ylabel('Density')\n",
        "    plt.grid(True)\n",
        "    plt.savefig(f'{base_filename}_sampling.png')\n",
        "    plt.close()\n",
        "\n",
        "    # Save causal structure description\n",
        "    with open(f'{base_filename}_structure.txt', 'w') as f:\n",
        "        f.write(f\"True Nonlinear Causal Structure with Confounder (Gaussian: {gaussian_pct}%, Laplace: {laplace_pct}%):\\n\")\n",
        "        f.write(\"Format: (source, lag, target) => weight\\n\")\n",
        "        f.write(\"\\nEquations:\\n\")\n",
        "        for eq in equations:\n",
        "            f.write(f\"{eq}\\n\")\n",
        "        f.write(\"\\nCausal Links:\\n\")\n",
        "        for link, weight in true_links.items():\n",
        "            f.write(f\"{link} => {weight}\\n\")\n",
        "\n",
        "def analyze_mixed_confounded_data(df, title=\"Mixed Error Time Series Analysis with Confounder\"):\n",
        "    \"\"\"Analyze and plot the time series data with confounder\"\"\"\n",
        "    print(f\"\\nAnalyzing {title}\")\n",
        "    print(\"=\" * 50)\n",
        "\n",
        "    # Time Series Plot\n",
        "    plt.figure(figsize=(15, 10))\n",
        "    plt.subplot(2, 1, 1)\n",
        "    for col in df.columns:\n",
        "        if col != 'time':\n",
        "            plt.plot(df['time'], df[col], label=col, alpha=0.7)\n",
        "    plt.title(f\"{title} - Time Series\")\n",
        "    plt.xlabel(\"Time\")\n",
        "    plt.ylabel(\"Value\")\n",
        "    plt.legend()\n",
        "    plt.grid(True)\n",
        "\n",
        "    # Sampling Intervals\n",
        "    plt.subplot(2, 1, 2)\n",
        "    time_diffs = np.diff(df['time'])\n",
        "    plt.hist(time_diffs, bins=50, density=True)\n",
        "    plt.title(\"Distribution of Sampling Intervals\")\n",
        "    plt.xlabel(\"Time Difference\")\n",
        "    plt.ylabel(\"Density\")\n",
        "    plt.grid(True)\n",
        "    plt.tight_layout()\n",
        "    plt.show()\n",
        "\n",
        "    # Summary Statistics\n",
        "    print(\"\\nSummary Statistics:\")\n",
        "    print(\"-\" * 30)\n",
        "    print(df.drop('time', axis=1).describe())\n",
        "\n",
        "    # Correlation Analysis\n",
        "    print(\"\\nCorrelation with Confounder U:\")\n",
        "    print(\"-\" * 30)\n",
        "    u_corr = df.drop('time', axis=1).corr()['U'].sort_values(ascending=False)\n",
        "    print(u_corr)\n",
        "\n",
        "def generate_all_combinations():\n",
        "    \"\"\"Generate datasets for all combinations\"\"\"\n",
        "    sample_sizes = [500, 1000, 3000, 5000]\n",
        "    n_vars_list = [4, 6, 8]\n",
        "    max_lags = [2, 3, 4]\n",
        "    mix_ratios = [0.3, 0.5, 0.7]\n",
        "\n",
        "    for n in sample_sizes:\n",
        "        for vars in n_vars_list:\n",
        "            for lag in max_lags:\n",
        "                for ratio in mix_ratios:\n",
        "                    gaussian_pct = int(ratio * 100)\n",
        "                    laplace_pct = 100 - gaussian_pct\n",
        "                    print(f\"\\nGenerating dataset: n={n}, vars={vars}, lag={lag}, gaussian={gaussian_pct}%, laplace={laplace_pct}%\")\n",
        "\n",
        "                    generator = MixedNonlinearConfoundedGenerator(\n",
        "                        noise_mix_ratio=ratio,\n",
        "                        noise_params={'scale': 0.1},\n",
        "                        random_state=42\n",
        "                    )\n",
        "\n",
        "                    df = generator.generate_multivariate_ts(\n",
        "                        n_points=n,\n",
        "                        n_vars=vars,\n",
        "                        max_lag=lag,\n",
        "                        total_time=100,\n",
        "                        min_gap=0.1\n",
        "                    )\n",
        "\n",
        "                    # Save dataset and create visualizations\n",
        "                    save_dataset_and_graph(\n",
        "                        df=df,\n",
        "                        n_vars=vars,\n",
        "                        max_lag=lag,\n",
        "                        sample_size=n,\n",
        "                        gaussian_ratio=ratio\n",
        "                    )\n",
        "                    print(\"Dataset and visualizations saved successfully\")\n",
        "\n",
        "if __name__ == \"__main__\":\n",
        "    print(\"Generating mixed error time series with confounder...\")\n",
        "\n",
        "    # # Example case\n",
        "    # n_points = 1000\n",
        "    # n_vars = 4\n",
        "    # max_lag = 2\n",
        "    # ratio = 0.7\n",
        "\n",
        "    # generator = MixedNonlinearConfoundedGenerator(\n",
        "    #     noise_mix_ratio=ratio,\n",
        "    #     noise_params={'scale': 0.1},\n",
        "    #     random_state=42\n",
        "    # )\n",
        "\n",
        "    # df = generator.generate_multivariate_ts(\n",
        "    #     n_points=n_points,\n",
        "    #     n_vars=n_vars,\n",
        "    #     max_lag=max_lag,\n",
        "    #     total_time=100,\n",
        "    #     min_gap=0.1\n",
        "    # )\n",
        "\n",
        "    # # Save and analyze example case\n",
        "    # save_dataset_and_graph(\n",
        "    #     df=df,\n",
        "    #     n_vars=n_vars,\n",
        "    #     max_lag=max_lag,\n",
        "    #     sample_size=n_points,\n",
        "    #     gaussian_ratio=ratio\n",
        "    # )\n",
        "\n",
        "    # analyze_mixed_confounded_data(df, \"Mixed Gaussian-Laplace Example with Confounder\")\n",
        "\n",
        "    # Generate all combinations\n",
        "    generate_all_combinations()"
      ],
      "metadata": {
        "colab": {
          "base_uri": "https://localhost:8080/",
          "height": 1000
        },
        "id": "LFGh-QV-Em6H",
        "outputId": "c6fe928e-e2f1-444c-beb4-0916bd383ba1"
      },
      "execution_count": 3,
      "outputs": [
        {
          "output_type": "stream",
          "name": "stdout",
          "text": [
            "Generating mixed error time series with confounder...\n",
            "\n",
            "Generating dataset: n=500, vars=4, lag=2, gaussian=30%, laplace=70%\n",
            "Dataset and visualizations saved successfully\n",
            "\n",
            "Generating dataset: n=500, vars=4, lag=2, gaussian=50%, laplace=50%\n",
            "Dataset and visualizations saved successfully\n",
            "\n",
            "Generating dataset: n=500, vars=4, lag=2, gaussian=70%, laplace=30%\n",
            "Dataset and visualizations saved successfully\n",
            "\n",
            "Generating dataset: n=500, vars=4, lag=3, gaussian=30%, laplace=70%\n",
            "Dataset and visualizations saved successfully\n",
            "\n",
            "Generating dataset: n=500, vars=4, lag=3, gaussian=50%, laplace=50%\n",
            "Dataset and visualizations saved successfully\n",
            "\n",
            "Generating dataset: n=500, vars=4, lag=3, gaussian=70%, laplace=30%\n",
            "Dataset and visualizations saved successfully\n",
            "\n",
            "Generating dataset: n=500, vars=4, lag=4, gaussian=30%, laplace=70%\n",
            "Dataset and visualizations saved successfully\n",
            "\n",
            "Generating dataset: n=500, vars=4, lag=4, gaussian=50%, laplace=50%\n",
            "Dataset and visualizations saved successfully\n",
            "\n",
            "Generating dataset: n=500, vars=4, lag=4, gaussian=70%, laplace=30%\n",
            "Dataset and visualizations saved successfully\n",
            "\n",
            "Generating dataset: n=500, vars=6, lag=2, gaussian=30%, laplace=70%\n",
            "Dataset and visualizations saved successfully\n",
            "\n",
            "Generating dataset: n=500, vars=6, lag=2, gaussian=50%, laplace=50%\n",
            "Dataset and visualizations saved successfully\n",
            "\n",
            "Generating dataset: n=500, vars=6, lag=2, gaussian=70%, laplace=30%\n",
            "Dataset and visualizations saved successfully\n",
            "\n",
            "Generating dataset: n=500, vars=6, lag=3, gaussian=30%, laplace=70%\n",
            "Dataset and visualizations saved successfully\n",
            "\n",
            "Generating dataset: n=500, vars=6, lag=3, gaussian=50%, laplace=50%\n",
            "Dataset and visualizations saved successfully\n",
            "\n",
            "Generating dataset: n=500, vars=6, lag=3, gaussian=70%, laplace=30%\n",
            "Dataset and visualizations saved successfully\n",
            "\n",
            "Generating dataset: n=500, vars=6, lag=4, gaussian=30%, laplace=70%\n",
            "Dataset and visualizations saved successfully\n",
            "\n",
            "Generating dataset: n=500, vars=6, lag=4, gaussian=50%, laplace=50%\n",
            "Dataset and visualizations saved successfully\n",
            "\n",
            "Generating dataset: n=500, vars=6, lag=4, gaussian=70%, laplace=30%\n",
            "Dataset and visualizations saved successfully\n",
            "\n",
            "Generating dataset: n=500, vars=8, lag=2, gaussian=30%, laplace=70%\n",
            "Dataset and visualizations saved successfully\n",
            "\n",
            "Generating dataset: n=500, vars=8, lag=2, gaussian=50%, laplace=50%\n"
          ]
        },
        {
          "output_type": "stream",
          "name": "stderr",
          "text": [
            "/usr/local/lib/python3.11/dist-packages/tigramite/plotting.py:3203: RuntimeWarning: More than 20 figures have been opened. Figures created through the pyplot interface (`matplotlib.pyplot.figure`) are retained until explicitly closed and may consume too much memory. (To control this warning, see the rcParam `figure.max_open_warning`). Consider using `matplotlib.pyplot.close()`.\n",
            "  fig = pyplot.figure(figsize=figsize)\n",
            "<ipython-input-3-3f8de2056720>:269: RuntimeWarning: More than 20 figures have been opened. Figures created through the pyplot interface (`matplotlib.pyplot.figure`) are retained until explicitly closed and may consume too much memory. (To control this warning, see the rcParam `figure.max_open_warning`). Consider using `matplotlib.pyplot.close()`.\n",
            "  plt.figure(figsize=(15, 10))\n",
            "<ipython-input-3-3f8de2056720>:281: RuntimeWarning: More than 20 figures have been opened. Figures created through the pyplot interface (`matplotlib.pyplot.figure`) are retained until explicitly closed and may consume too much memory. (To control this warning, see the rcParam `figure.max_open_warning`). Consider using `matplotlib.pyplot.close()`.\n",
            "  plt.figure(figsize=(10, 6))\n"
          ]
        },
        {
          "output_type": "stream",
          "name": "stdout",
          "text": [
            "Dataset and visualizations saved successfully\n",
            "\n",
            "Generating dataset: n=500, vars=8, lag=2, gaussian=70%, laplace=30%\n"
          ]
        },
        {
          "output_type": "stream",
          "name": "stderr",
          "text": [
            "<ipython-input-3-3f8de2056720>:256: RuntimeWarning: More than 20 figures have been opened. Figures created through the pyplot interface (`matplotlib.pyplot.figure`) are retained until explicitly closed and may consume too much memory. (To control this warning, see the rcParam `figure.max_open_warning`). Consider using `matplotlib.pyplot.close()`.\n",
            "  plt.figure(figsize=(12, 12))\n"
          ]
        },
        {
          "output_type": "stream",
          "name": "stdout",
          "text": [
            "Dataset and visualizations saved successfully\n",
            "\n",
            "Generating dataset: n=500, vars=8, lag=3, gaussian=30%, laplace=70%\n",
            "Dataset and visualizations saved successfully\n",
            "\n",
            "Generating dataset: n=500, vars=8, lag=3, gaussian=50%, laplace=50%\n",
            "Dataset and visualizations saved successfully\n",
            "\n",
            "Generating dataset: n=500, vars=8, lag=3, gaussian=70%, laplace=30%\n",
            "Dataset and visualizations saved successfully\n",
            "\n",
            "Generating dataset: n=500, vars=8, lag=4, gaussian=30%, laplace=70%\n",
            "Dataset and visualizations saved successfully\n",
            "\n",
            "Generating dataset: n=500, vars=8, lag=4, gaussian=50%, laplace=50%\n",
            "Dataset and visualizations saved successfully\n",
            "\n",
            "Generating dataset: n=500, vars=8, lag=4, gaussian=70%, laplace=30%\n",
            "Dataset and visualizations saved successfully\n",
            "\n",
            "Generating dataset: n=1000, vars=4, lag=2, gaussian=30%, laplace=70%\n",
            "Dataset and visualizations saved successfully\n",
            "\n",
            "Generating dataset: n=1000, vars=4, lag=2, gaussian=50%, laplace=50%\n",
            "Dataset and visualizations saved successfully\n",
            "\n",
            "Generating dataset: n=1000, vars=4, lag=2, gaussian=70%, laplace=30%\n",
            "Dataset and visualizations saved successfully\n",
            "\n",
            "Generating dataset: n=1000, vars=4, lag=3, gaussian=30%, laplace=70%\n",
            "Dataset and visualizations saved successfully\n",
            "\n",
            "Generating dataset: n=1000, vars=4, lag=3, gaussian=50%, laplace=50%\n",
            "Dataset and visualizations saved successfully\n",
            "\n",
            "Generating dataset: n=1000, vars=4, lag=3, gaussian=70%, laplace=30%\n",
            "Dataset and visualizations saved successfully\n",
            "\n",
            "Generating dataset: n=1000, vars=4, lag=4, gaussian=30%, laplace=70%\n",
            "Dataset and visualizations saved successfully\n",
            "\n",
            "Generating dataset: n=1000, vars=4, lag=4, gaussian=50%, laplace=50%\n",
            "Dataset and visualizations saved successfully\n",
            "\n",
            "Generating dataset: n=1000, vars=4, lag=4, gaussian=70%, laplace=30%\n",
            "Dataset and visualizations saved successfully\n",
            "\n",
            "Generating dataset: n=1000, vars=6, lag=2, gaussian=30%, laplace=70%\n",
            "Dataset and visualizations saved successfully\n",
            "\n",
            "Generating dataset: n=1000, vars=6, lag=2, gaussian=50%, laplace=50%\n",
            "Dataset and visualizations saved successfully\n",
            "\n",
            "Generating dataset: n=1000, vars=6, lag=2, gaussian=70%, laplace=30%\n",
            "Dataset and visualizations saved successfully\n",
            "\n",
            "Generating dataset: n=1000, vars=6, lag=3, gaussian=30%, laplace=70%\n",
            "Dataset and visualizations saved successfully\n",
            "\n",
            "Generating dataset: n=1000, vars=6, lag=3, gaussian=50%, laplace=50%\n",
            "Dataset and visualizations saved successfully\n",
            "\n",
            "Generating dataset: n=1000, vars=6, lag=3, gaussian=70%, laplace=30%\n",
            "Dataset and visualizations saved successfully\n",
            "\n",
            "Generating dataset: n=1000, vars=6, lag=4, gaussian=30%, laplace=70%\n",
            "Dataset and visualizations saved successfully\n",
            "\n",
            "Generating dataset: n=1000, vars=6, lag=4, gaussian=50%, laplace=50%\n",
            "Dataset and visualizations saved successfully\n",
            "\n",
            "Generating dataset: n=1000, vars=6, lag=4, gaussian=70%, laplace=30%\n",
            "Dataset and visualizations saved successfully\n",
            "\n",
            "Generating dataset: n=1000, vars=8, lag=2, gaussian=30%, laplace=70%\n",
            "Dataset and visualizations saved successfully\n",
            "\n",
            "Generating dataset: n=1000, vars=8, lag=2, gaussian=50%, laplace=50%\n",
            "Dataset and visualizations saved successfully\n",
            "\n",
            "Generating dataset: n=1000, vars=8, lag=2, gaussian=70%, laplace=30%\n",
            "Dataset and visualizations saved successfully\n",
            "\n",
            "Generating dataset: n=1000, vars=8, lag=3, gaussian=30%, laplace=70%\n",
            "Dataset and visualizations saved successfully\n",
            "\n",
            "Generating dataset: n=1000, vars=8, lag=3, gaussian=50%, laplace=50%\n",
            "Dataset and visualizations saved successfully\n",
            "\n",
            "Generating dataset: n=1000, vars=8, lag=3, gaussian=70%, laplace=30%\n",
            "Dataset and visualizations saved successfully\n",
            "\n",
            "Generating dataset: n=1000, vars=8, lag=4, gaussian=30%, laplace=70%\n",
            "Dataset and visualizations saved successfully\n",
            "\n",
            "Generating dataset: n=1000, vars=8, lag=4, gaussian=50%, laplace=50%\n",
            "Dataset and visualizations saved successfully\n",
            "\n",
            "Generating dataset: n=1000, vars=8, lag=4, gaussian=70%, laplace=30%\n",
            "Dataset and visualizations saved successfully\n",
            "\n",
            "Generating dataset: n=3000, vars=4, lag=2, gaussian=30%, laplace=70%\n",
            "Dataset and visualizations saved successfully\n",
            "\n",
            "Generating dataset: n=3000, vars=4, lag=2, gaussian=50%, laplace=50%\n",
            "Dataset and visualizations saved successfully\n",
            "\n",
            "Generating dataset: n=3000, vars=4, lag=2, gaussian=70%, laplace=30%\n",
            "Dataset and visualizations saved successfully\n",
            "\n",
            "Generating dataset: n=3000, vars=4, lag=3, gaussian=30%, laplace=70%\n",
            "Dataset and visualizations saved successfully\n",
            "\n",
            "Generating dataset: n=3000, vars=4, lag=3, gaussian=50%, laplace=50%\n",
            "Dataset and visualizations saved successfully\n",
            "\n",
            "Generating dataset: n=3000, vars=4, lag=3, gaussian=70%, laplace=30%\n",
            "Dataset and visualizations saved successfully\n",
            "\n",
            "Generating dataset: n=3000, vars=4, lag=4, gaussian=30%, laplace=70%\n",
            "Dataset and visualizations saved successfully\n",
            "\n",
            "Generating dataset: n=3000, vars=4, lag=4, gaussian=50%, laplace=50%\n",
            "Dataset and visualizations saved successfully\n",
            "\n",
            "Generating dataset: n=3000, vars=4, lag=4, gaussian=70%, laplace=30%\n",
            "Dataset and visualizations saved successfully\n",
            "\n",
            "Generating dataset: n=3000, vars=6, lag=2, gaussian=30%, laplace=70%\n",
            "Dataset and visualizations saved successfully\n",
            "\n",
            "Generating dataset: n=3000, vars=6, lag=2, gaussian=50%, laplace=50%\n",
            "Dataset and visualizations saved successfully\n",
            "\n",
            "Generating dataset: n=3000, vars=6, lag=2, gaussian=70%, laplace=30%\n",
            "Dataset and visualizations saved successfully\n",
            "\n",
            "Generating dataset: n=3000, vars=6, lag=3, gaussian=30%, laplace=70%\n",
            "Dataset and visualizations saved successfully\n",
            "\n",
            "Generating dataset: n=3000, vars=6, lag=3, gaussian=50%, laplace=50%\n",
            "Dataset and visualizations saved successfully\n",
            "\n",
            "Generating dataset: n=3000, vars=6, lag=3, gaussian=70%, laplace=30%\n",
            "Dataset and visualizations saved successfully\n",
            "\n",
            "Generating dataset: n=3000, vars=6, lag=4, gaussian=30%, laplace=70%\n",
            "Dataset and visualizations saved successfully\n",
            "\n",
            "Generating dataset: n=3000, vars=6, lag=4, gaussian=50%, laplace=50%\n",
            "Dataset and visualizations saved successfully\n",
            "\n",
            "Generating dataset: n=3000, vars=6, lag=4, gaussian=70%, laplace=30%\n",
            "Dataset and visualizations saved successfully\n",
            "\n",
            "Generating dataset: n=3000, vars=8, lag=2, gaussian=30%, laplace=70%\n",
            "Dataset and visualizations saved successfully\n",
            "\n",
            "Generating dataset: n=3000, vars=8, lag=2, gaussian=50%, laplace=50%\n",
            "Dataset and visualizations saved successfully\n",
            "\n",
            "Generating dataset: n=3000, vars=8, lag=2, gaussian=70%, laplace=30%\n",
            "Dataset and visualizations saved successfully\n",
            "\n",
            "Generating dataset: n=3000, vars=8, lag=3, gaussian=30%, laplace=70%\n",
            "Dataset and visualizations saved successfully\n",
            "\n",
            "Generating dataset: n=3000, vars=8, lag=3, gaussian=50%, laplace=50%\n",
            "Dataset and visualizations saved successfully\n",
            "\n",
            "Generating dataset: n=3000, vars=8, lag=3, gaussian=70%, laplace=30%\n",
            "Dataset and visualizations saved successfully\n",
            "\n",
            "Generating dataset: n=3000, vars=8, lag=4, gaussian=30%, laplace=70%\n",
            "Dataset and visualizations saved successfully\n",
            "\n",
            "Generating dataset: n=3000, vars=8, lag=4, gaussian=50%, laplace=50%\n",
            "Dataset and visualizations saved successfully\n",
            "\n",
            "Generating dataset: n=3000, vars=8, lag=4, gaussian=70%, laplace=30%\n",
            "Dataset and visualizations saved successfully\n",
            "\n",
            "Generating dataset: n=5000, vars=4, lag=2, gaussian=30%, laplace=70%\n",
            "Dataset and visualizations saved successfully\n",
            "\n",
            "Generating dataset: n=5000, vars=4, lag=2, gaussian=50%, laplace=50%\n",
            "Dataset and visualizations saved successfully\n",
            "\n",
            "Generating dataset: n=5000, vars=4, lag=2, gaussian=70%, laplace=30%\n",
            "Dataset and visualizations saved successfully\n",
            "\n",
            "Generating dataset: n=5000, vars=4, lag=3, gaussian=30%, laplace=70%\n",
            "Dataset and visualizations saved successfully\n",
            "\n",
            "Generating dataset: n=5000, vars=4, lag=3, gaussian=50%, laplace=50%\n",
            "Dataset and visualizations saved successfully\n",
            "\n",
            "Generating dataset: n=5000, vars=4, lag=3, gaussian=70%, laplace=30%\n",
            "Dataset and visualizations saved successfully\n",
            "\n",
            "Generating dataset: n=5000, vars=4, lag=4, gaussian=30%, laplace=70%\n",
            "Dataset and visualizations saved successfully\n",
            "\n",
            "Generating dataset: n=5000, vars=4, lag=4, gaussian=50%, laplace=50%\n",
            "Dataset and visualizations saved successfully\n",
            "\n",
            "Generating dataset: n=5000, vars=4, lag=4, gaussian=70%, laplace=30%\n",
            "Dataset and visualizations saved successfully\n",
            "\n",
            "Generating dataset: n=5000, vars=6, lag=2, gaussian=30%, laplace=70%\n",
            "Dataset and visualizations saved successfully\n",
            "\n",
            "Generating dataset: n=5000, vars=6, lag=2, gaussian=50%, laplace=50%\n",
            "Dataset and visualizations saved successfully\n",
            "\n",
            "Generating dataset: n=5000, vars=6, lag=2, gaussian=70%, laplace=30%\n",
            "Dataset and visualizations saved successfully\n",
            "\n",
            "Generating dataset: n=5000, vars=6, lag=3, gaussian=30%, laplace=70%\n",
            "Dataset and visualizations saved successfully\n",
            "\n",
            "Generating dataset: n=5000, vars=6, lag=3, gaussian=50%, laplace=50%\n",
            "Dataset and visualizations saved successfully\n",
            "\n",
            "Generating dataset: n=5000, vars=6, lag=3, gaussian=70%, laplace=30%\n",
            "Dataset and visualizations saved successfully\n",
            "\n",
            "Generating dataset: n=5000, vars=6, lag=4, gaussian=30%, laplace=70%\n",
            "Dataset and visualizations saved successfully\n",
            "\n",
            "Generating dataset: n=5000, vars=6, lag=4, gaussian=50%, laplace=50%\n",
            "Dataset and visualizations saved successfully\n",
            "\n",
            "Generating dataset: n=5000, vars=6, lag=4, gaussian=70%, laplace=30%\n",
            "Dataset and visualizations saved successfully\n",
            "\n",
            "Generating dataset: n=5000, vars=8, lag=2, gaussian=30%, laplace=70%\n",
            "Dataset and visualizations saved successfully\n",
            "\n",
            "Generating dataset: n=5000, vars=8, lag=2, gaussian=50%, laplace=50%\n",
            "Dataset and visualizations saved successfully\n",
            "\n",
            "Generating dataset: n=5000, vars=8, lag=2, gaussian=70%, laplace=30%\n",
            "Dataset and visualizations saved successfully\n",
            "\n",
            "Generating dataset: n=5000, vars=8, lag=3, gaussian=30%, laplace=70%\n",
            "Dataset and visualizations saved successfully\n",
            "\n",
            "Generating dataset: n=5000, vars=8, lag=3, gaussian=50%, laplace=50%\n",
            "Dataset and visualizations saved successfully\n",
            "\n",
            "Generating dataset: n=5000, vars=8, lag=3, gaussian=70%, laplace=30%\n",
            "Dataset and visualizations saved successfully\n",
            "\n",
            "Generating dataset: n=5000, vars=8, lag=4, gaussian=30%, laplace=70%\n",
            "Dataset and visualizations saved successfully\n",
            "\n",
            "Generating dataset: n=5000, vars=8, lag=4, gaussian=50%, laplace=50%\n",
            "Dataset and visualizations saved successfully\n",
            "\n",
            "Generating dataset: n=5000, vars=8, lag=4, gaussian=70%, laplace=30%\n",
            "Dataset and visualizations saved successfully\n"
          ]
        },
        {
          "output_type": "display_data",
          "data": {
            "text/plain": [
              "<Figure size 1200x1200 with 0 Axes>"
            ]
          },
          "metadata": {}
        },
        {
          "output_type": "display_data",
          "data": {
            "text/plain": [
              "<Figure size 1200x1200 with 0 Axes>"
            ]
          },
          "metadata": {}
        },
        {
          "output_type": "display_data",
          "data": {
            "text/plain": [
              "<Figure size 1200x1200 with 0 Axes>"
            ]
          },
          "metadata": {}
        },
        {
          "output_type": "display_data",
          "data": {
            "text/plain": [
              "<Figure size 1200x1200 with 0 Axes>"
            ]
          },
          "metadata": {}
        },
        {
          "output_type": "display_data",
          "data": {
            "text/plain": [
              "<Figure size 1200x1200 with 0 Axes>"
            ]
          },
          "metadata": {}
        },
        {
          "output_type": "display_data",
          "data": {
            "text/plain": [
              "<Figure size 1200x1200 with 0 Axes>"
            ]
          },
          "metadata": {}
        },
        {
          "output_type": "display_data",
          "data": {
            "text/plain": [
              "<Figure size 1200x1200 with 0 Axes>"
            ]
          },
          "metadata": {}
        },
        {
          "output_type": "display_data",
          "data": {
            "text/plain": [
              "<Figure size 1200x1200 with 0 Axes>"
            ]
          },
          "metadata": {}
        },
        {
          "output_type": "display_data",
          "data": {
            "text/plain": [
              "<Figure size 1200x1200 with 0 Axes>"
            ]
          },
          "metadata": {}
        },
        {
          "output_type": "display_data",
          "data": {
            "text/plain": [
              "<Figure size 1200x1200 with 0 Axes>"
            ]
          },
          "metadata": {}
        },
        {
          "output_type": "display_data",
          "data": {
            "text/plain": [
              "<Figure size 1200x1200 with 0 Axes>"
            ]
          },
          "metadata": {}
        },
        {
          "output_type": "display_data",
          "data": {
            "text/plain": [
              "<Figure size 1200x1200 with 0 Axes>"
            ]
          },
          "metadata": {}
        },
        {
          "output_type": "display_data",
          "data": {
            "text/plain": [
              "<Figure size 1200x1200 with 0 Axes>"
            ]
          },
          "metadata": {}
        },
        {
          "output_type": "display_data",
          "data": {
            "text/plain": [
              "<Figure size 1200x1200 with 0 Axes>"
            ]
          },
          "metadata": {}
        },
        {
          "output_type": "display_data",
          "data": {
            "text/plain": [
              "<Figure size 1200x1200 with 0 Axes>"
            ]
          },
          "metadata": {}
        },
        {
          "output_type": "display_data",
          "data": {
            "text/plain": [
              "<Figure size 1200x1200 with 0 Axes>"
            ]
          },
          "metadata": {}
        },
        {
          "output_type": "display_data",
          "data": {
            "text/plain": [
              "<Figure size 1200x1200 with 0 Axes>"
            ]
          },
          "metadata": {}
        },
        {
          "output_type": "display_data",
          "data": {
            "text/plain": [
              "<Figure size 1200x1200 with 0 Axes>"
            ]
          },
          "metadata": {}
        },
        {
          "output_type": "display_data",
          "data": {
            "text/plain": [
              "<Figure size 1200x1200 with 0 Axes>"
            ]
          },
          "metadata": {}
        },
        {
          "output_type": "display_data",
          "data": {
            "text/plain": [
              "<Figure size 1200x1200 with 0 Axes>"
            ]
          },
          "metadata": {}
        },
        {
          "output_type": "display_data",
          "data": {
            "text/plain": [
              "<Figure size 1200x1200 with 0 Axes>"
            ]
          },
          "metadata": {}
        },
        {
          "output_type": "display_data",
          "data": {
            "text/plain": [
              "<Figure size 1200x1200 with 0 Axes>"
            ]
          },
          "metadata": {}
        },
        {
          "output_type": "display_data",
          "data": {
            "text/plain": [
              "<Figure size 1200x1200 with 0 Axes>"
            ]
          },
          "metadata": {}
        },
        {
          "output_type": "display_data",
          "data": {
            "text/plain": [
              "<Figure size 1200x1200 with 0 Axes>"
            ]
          },
          "metadata": {}
        },
        {
          "output_type": "display_data",
          "data": {
            "text/plain": [
              "<Figure size 1200x1200 with 0 Axes>"
            ]
          },
          "metadata": {}
        },
        {
          "output_type": "display_data",
          "data": {
            "text/plain": [
              "<Figure size 1200x1200 with 0 Axes>"
            ]
          },
          "metadata": {}
        },
        {
          "output_type": "display_data",
          "data": {
            "text/plain": [
              "<Figure size 1200x1200 with 0 Axes>"
            ]
          },
          "metadata": {}
        },
        {
          "output_type": "display_data",
          "data": {
            "text/plain": [
              "<Figure size 1200x1200 with 0 Axes>"
            ]
          },
          "metadata": {}
        },
        {
          "output_type": "display_data",
          "data": {
            "text/plain": [
              "<Figure size 1200x1200 with 0 Axes>"
            ]
          },
          "metadata": {}
        },
        {
          "output_type": "display_data",
          "data": {
            "text/plain": [
              "<Figure size 1200x1200 with 0 Axes>"
            ]
          },
          "metadata": {}
        },
        {
          "output_type": "display_data",
          "data": {
            "text/plain": [
              "<Figure size 1200x1200 with 0 Axes>"
            ]
          },
          "metadata": {}
        },
        {
          "output_type": "display_data",
          "data": {
            "text/plain": [
              "<Figure size 1200x1200 with 0 Axes>"
            ]
          },
          "metadata": {}
        },
        {
          "output_type": "display_data",
          "data": {
            "text/plain": [
              "<Figure size 1200x1200 with 0 Axes>"
            ]
          },
          "metadata": {}
        },
        {
          "output_type": "display_data",
          "data": {
            "text/plain": [
              "<Figure size 1200x1200 with 0 Axes>"
            ]
          },
          "metadata": {}
        },
        {
          "output_type": "display_data",
          "data": {
            "text/plain": [
              "<Figure size 1200x1200 with 0 Axes>"
            ]
          },
          "metadata": {}
        },
        {
          "output_type": "display_data",
          "data": {
            "text/plain": [
              "<Figure size 1200x1200 with 0 Axes>"
            ]
          },
          "metadata": {}
        },
        {
          "output_type": "display_data",
          "data": {
            "text/plain": [
              "<Figure size 1200x1200 with 0 Axes>"
            ]
          },
          "metadata": {}
        },
        {
          "output_type": "display_data",
          "data": {
            "text/plain": [
              "<Figure size 1200x1200 with 0 Axes>"
            ]
          },
          "metadata": {}
        },
        {
          "output_type": "display_data",
          "data": {
            "text/plain": [
              "<Figure size 1200x1200 with 0 Axes>"
            ]
          },
          "metadata": {}
        },
        {
          "output_type": "display_data",
          "data": {
            "text/plain": [
              "<Figure size 1200x1200 with 0 Axes>"
            ]
          },
          "metadata": {}
        },
        {
          "output_type": "display_data",
          "data": {
            "text/plain": [
              "<Figure size 1200x1200 with 0 Axes>"
            ]
          },
          "metadata": {}
        },
        {
          "output_type": "display_data",
          "data": {
            "text/plain": [
              "<Figure size 1200x1200 with 0 Axes>"
            ]
          },
          "metadata": {}
        },
        {
          "output_type": "display_data",
          "data": {
            "text/plain": [
              "<Figure size 1200x1200 with 0 Axes>"
            ]
          },
          "metadata": {}
        },
        {
          "output_type": "display_data",
          "data": {
            "text/plain": [
              "<Figure size 1200x1200 with 0 Axes>"
            ]
          },
          "metadata": {}
        },
        {
          "output_type": "display_data",
          "data": {
            "text/plain": [
              "<Figure size 1200x1200 with 0 Axes>"
            ]
          },
          "metadata": {}
        },
        {
          "output_type": "display_data",
          "data": {
            "text/plain": [
              "<Figure size 1200x1200 with 0 Axes>"
            ]
          },
          "metadata": {}
        },
        {
          "output_type": "display_data",
          "data": {
            "text/plain": [
              "<Figure size 1200x1200 with 0 Axes>"
            ]
          },
          "metadata": {}
        },
        {
          "output_type": "display_data",
          "data": {
            "text/plain": [
              "<Figure size 1200x1200 with 0 Axes>"
            ]
          },
          "metadata": {}
        },
        {
          "output_type": "display_data",
          "data": {
            "text/plain": [
              "<Figure size 1200x1200 with 0 Axes>"
            ]
          },
          "metadata": {}
        },
        {
          "output_type": "display_data",
          "data": {
            "text/plain": [
              "<Figure size 1200x1200 with 0 Axes>"
            ]
          },
          "metadata": {}
        },
        {
          "output_type": "display_data",
          "data": {
            "text/plain": [
              "<Figure size 1200x1200 with 0 Axes>"
            ]
          },
          "metadata": {}
        },
        {
          "output_type": "display_data",
          "data": {
            "text/plain": [
              "<Figure size 1200x1200 with 0 Axes>"
            ]
          },
          "metadata": {}
        },
        {
          "output_type": "display_data",
          "data": {
            "text/plain": [
              "<Figure size 1200x1200 with 0 Axes>"
            ]
          },
          "metadata": {}
        },
        {
          "output_type": "display_data",
          "data": {
            "text/plain": [
              "<Figure size 1200x1200 with 0 Axes>"
            ]
          },
          "metadata": {}
        },
        {
          "output_type": "display_data",
          "data": {
            "text/plain": [
              "<Figure size 1200x1200 with 0 Axes>"
            ]
          },
          "metadata": {}
        },
        {
          "output_type": "display_data",
          "data": {
            "text/plain": [
              "<Figure size 1200x1200 with 0 Axes>"
            ]
          },
          "metadata": {}
        },
        {
          "output_type": "display_data",
          "data": {
            "text/plain": [
              "<Figure size 1200x1200 with 0 Axes>"
            ]
          },
          "metadata": {}
        },
        {
          "output_type": "display_data",
          "data": {
            "text/plain": [
              "<Figure size 1200x1200 with 0 Axes>"
            ]
          },
          "metadata": {}
        },
        {
          "output_type": "display_data",
          "data": {
            "text/plain": [
              "<Figure size 1200x1200 with 0 Axes>"
            ]
          },
          "metadata": {}
        },
        {
          "output_type": "display_data",
          "data": {
            "text/plain": [
              "<Figure size 1200x1200 with 0 Axes>"
            ]
          },
          "metadata": {}
        },
        {
          "output_type": "display_data",
          "data": {
            "text/plain": [
              "<Figure size 1200x1200 with 0 Axes>"
            ]
          },
          "metadata": {}
        },
        {
          "output_type": "display_data",
          "data": {
            "text/plain": [
              "<Figure size 1200x1200 with 0 Axes>"
            ]
          },
          "metadata": {}
        },
        {
          "output_type": "display_data",
          "data": {
            "text/plain": [
              "<Figure size 1200x1200 with 0 Axes>"
            ]
          },
          "metadata": {}
        },
        {
          "output_type": "display_data",
          "data": {
            "text/plain": [
              "<Figure size 1200x1200 with 0 Axes>"
            ]
          },
          "metadata": {}
        },
        {
          "output_type": "display_data",
          "data": {
            "text/plain": [
              "<Figure size 1200x1200 with 0 Axes>"
            ]
          },
          "metadata": {}
        },
        {
          "output_type": "display_data",
          "data": {
            "text/plain": [
              "<Figure size 1200x1200 with 0 Axes>"
            ]
          },
          "metadata": {}
        },
        {
          "output_type": "display_data",
          "data": {
            "text/plain": [
              "<Figure size 1200x1200 with 0 Axes>"
            ]
          },
          "metadata": {}
        },
        {
          "output_type": "display_data",
          "data": {
            "text/plain": [
              "<Figure size 1200x1200 with 0 Axes>"
            ]
          },
          "metadata": {}
        },
        {
          "output_type": "display_data",
          "data": {
            "text/plain": [
              "<Figure size 1200x1200 with 0 Axes>"
            ]
          },
          "metadata": {}
        },
        {
          "output_type": "display_data",
          "data": {
            "text/plain": [
              "<Figure size 1200x1200 with 0 Axes>"
            ]
          },
          "metadata": {}
        },
        {
          "output_type": "display_data",
          "data": {
            "text/plain": [
              "<Figure size 1200x1200 with 0 Axes>"
            ]
          },
          "metadata": {}
        },
        {
          "output_type": "display_data",
          "data": {
            "text/plain": [
              "<Figure size 1200x1200 with 0 Axes>"
            ]
          },
          "metadata": {}
        },
        {
          "output_type": "display_data",
          "data": {
            "text/plain": [
              "<Figure size 1200x1200 with 0 Axes>"
            ]
          },
          "metadata": {}
        },
        {
          "output_type": "display_data",
          "data": {
            "text/plain": [
              "<Figure size 1200x1200 with 0 Axes>"
            ]
          },
          "metadata": {}
        },
        {
          "output_type": "display_data",
          "data": {
            "text/plain": [
              "<Figure size 1200x1200 with 0 Axes>"
            ]
          },
          "metadata": {}
        },
        {
          "output_type": "display_data",
          "data": {
            "text/plain": [
              "<Figure size 1200x1200 with 0 Axes>"
            ]
          },
          "metadata": {}
        },
        {
          "output_type": "display_data",
          "data": {
            "text/plain": [
              "<Figure size 1200x1200 with 0 Axes>"
            ]
          },
          "metadata": {}
        },
        {
          "output_type": "display_data",
          "data": {
            "text/plain": [
              "<Figure size 1200x1200 with 0 Axes>"
            ]
          },
          "metadata": {}
        },
        {
          "output_type": "display_data",
          "data": {
            "text/plain": [
              "<Figure size 1200x1200 with 0 Axes>"
            ]
          },
          "metadata": {}
        },
        {
          "output_type": "display_data",
          "data": {
            "text/plain": [
              "<Figure size 1200x1200 with 0 Axes>"
            ]
          },
          "metadata": {}
        },
        {
          "output_type": "display_data",
          "data": {
            "text/plain": [
              "<Figure size 1200x1200 with 0 Axes>"
            ]
          },
          "metadata": {}
        },
        {
          "output_type": "display_data",
          "data": {
            "text/plain": [
              "<Figure size 1200x1200 with 0 Axes>"
            ]
          },
          "metadata": {}
        },
        {
          "output_type": "display_data",
          "data": {
            "text/plain": [
              "<Figure size 1200x1200 with 0 Axes>"
            ]
          },
          "metadata": {}
        },
        {
          "output_type": "display_data",
          "data": {
            "text/plain": [
              "<Figure size 1200x1200 with 0 Axes>"
            ]
          },
          "metadata": {}
        },
        {
          "output_type": "display_data",
          "data": {
            "text/plain": [
              "<Figure size 1200x1200 with 0 Axes>"
            ]
          },
          "metadata": {}
        },
        {
          "output_type": "display_data",
          "data": {
            "text/plain": [
              "<Figure size 1200x1200 with 0 Axes>"
            ]
          },
          "metadata": {}
        },
        {
          "output_type": "display_data",
          "data": {
            "text/plain": [
              "<Figure size 1200x1200 with 0 Axes>"
            ]
          },
          "metadata": {}
        },
        {
          "output_type": "display_data",
          "data": {
            "text/plain": [
              "<Figure size 1200x1200 with 0 Axes>"
            ]
          },
          "metadata": {}
        },
        {
          "output_type": "display_data",
          "data": {
            "text/plain": [
              "<Figure size 1200x1200 with 0 Axes>"
            ]
          },
          "metadata": {}
        },
        {
          "output_type": "display_data",
          "data": {
            "text/plain": [
              "<Figure size 1200x1200 with 0 Axes>"
            ]
          },
          "metadata": {}
        },
        {
          "output_type": "display_data",
          "data": {
            "text/plain": [
              "<Figure size 1200x1200 with 0 Axes>"
            ]
          },
          "metadata": {}
        },
        {
          "output_type": "display_data",
          "data": {
            "text/plain": [
              "<Figure size 1200x1200 with 0 Axes>"
            ]
          },
          "metadata": {}
        },
        {
          "output_type": "display_data",
          "data": {
            "text/plain": [
              "<Figure size 1200x1200 with 0 Axes>"
            ]
          },
          "metadata": {}
        },
        {
          "output_type": "display_data",
          "data": {
            "text/plain": [
              "<Figure size 1200x1200 with 0 Axes>"
            ]
          },
          "metadata": {}
        },
        {
          "output_type": "display_data",
          "data": {
            "text/plain": [
              "<Figure size 1200x1200 with 0 Axes>"
            ]
          },
          "metadata": {}
        },
        {
          "output_type": "display_data",
          "data": {
            "text/plain": [
              "<Figure size 1200x1200 with 0 Axes>"
            ]
          },
          "metadata": {}
        },
        {
          "output_type": "display_data",
          "data": {
            "text/plain": [
              "<Figure size 1200x1200 with 0 Axes>"
            ]
          },
          "metadata": {}
        },
        {
          "output_type": "display_data",
          "data": {
            "text/plain": [
              "<Figure size 1200x1200 with 0 Axes>"
            ]
          },
          "metadata": {}
        },
        {
          "output_type": "display_data",
          "data": {
            "text/plain": [
              "<Figure size 1200x1200 with 0 Axes>"
            ]
          },
          "metadata": {}
        },
        {
          "output_type": "display_data",
          "data": {
            "text/plain": [
              "<Figure size 1200x1200 with 0 Axes>"
            ]
          },
          "metadata": {}
        },
        {
          "output_type": "display_data",
          "data": {
            "text/plain": [
              "<Figure size 1200x1200 with 0 Axes>"
            ]
          },
          "metadata": {}
        },
        {
          "output_type": "display_data",
          "data": {
            "text/plain": [
              "<Figure size 1200x1200 with 0 Axes>"
            ]
          },
          "metadata": {}
        },
        {
          "output_type": "display_data",
          "data": {
            "text/plain": [
              "<Figure size 1200x1200 with 0 Axes>"
            ]
          },
          "metadata": {}
        },
        {
          "output_type": "display_data",
          "data": {
            "text/plain": [
              "<Figure size 1200x1200 with 0 Axes>"
            ]
          },
          "metadata": {}
        },
        {
          "output_type": "display_data",
          "data": {
            "text/plain": [
              "<Figure size 1200x1200 with 0 Axes>"
            ]
          },
          "metadata": {}
        },
        {
          "output_type": "display_data",
          "data": {
            "text/plain": [
              "<Figure size 1200x1200 with 0 Axes>"
            ]
          },
          "metadata": {}
        },
        {
          "output_type": "display_data",
          "data": {
            "text/plain": [
              "<Figure size 1200x1200 with 0 Axes>"
            ]
          },
          "metadata": {}
        },
        {
          "output_type": "display_data",
          "data": {
            "text/plain": [
              "<Figure size 1200x1200 with 0 Axes>"
            ]
          },
          "metadata": {}
        }
      ]
    },
    {
      "cell_type": "code",
      "source": [
        "!zip -r /content/output_B2C.zip /content/output_mixed_confounded"
      ],
      "metadata": {
        "colab": {
          "base_uri": "https://localhost:8080/"
        },
        "id": "6wqdftTHomVq",
        "outputId": "f40371d9-39c5-439b-d5cc-67648315c858"
      },
      "execution_count": 5,
      "outputs": [
        {
          "output_type": "stream",
          "name": "stdout",
          "text": [
            "  adding: content/output_mixed_confounded/ (stored 0%)\n",
            "  adding: content/output_mixed_confounded/gaussian_30_laplace_70/ (stored 0%)\n",
            "  adding: content/output_mixed_confounded/gaussian_30_laplace_70/mixed_confounded_ts_n5000_vars4_lag2_structure.txt (deflated 46%)\n",
            "  adding: content/output_mixed_confounded/gaussian_30_laplace_70/mixed_confounded_ts_n3000_vars8_lag4_structure.txt (deflated 59%)\n",
            "  adding: content/output_mixed_confounded/gaussian_30_laplace_70/mixed_confounded_ts_n500_vars6_lag3_graph.png (deflated 4%)\n",
            "  adding: content/output_mixed_confounded/gaussian_30_laplace_70/mixed_confounded_ts_n3000_vars4_lag4_sampling.png (deflated 25%)\n",
            "  adding: content/output_mixed_confounded/gaussian_30_laplace_70/mixed_confounded_ts_n3000_vars4_lag3_series.png (deflated 3%)\n",
            "  adding: content/output_mixed_confounded/gaussian_30_laplace_70/mixed_confounded_ts_n500_vars4_lag2_series.png (deflated 2%)\n",
            "  adding: content/output_mixed_confounded/gaussian_30_laplace_70/mixed_confounded_ts_n3000_vars6_lag4_series.png (deflated 3%)\n",
            "  adding: content/output_mixed_confounded/gaussian_30_laplace_70/mixed_confounded_ts_n3000_vars4_lag3.csv (deflated 54%)\n",
            "  adding: content/output_mixed_confounded/gaussian_30_laplace_70/mixed_confounded_ts_n5000_vars4_lag3_sampling.png (deflated 25%)\n",
            "  adding: content/output_mixed_confounded/gaussian_30_laplace_70/mixed_confounded_ts_n5000_vars4_lag4_series.png (deflated 3%)\n",
            "  adding: content/output_mixed_confounded/gaussian_30_laplace_70/mixed_confounded_ts_n3000_vars4_lag2.csv (deflated 54%)\n",
            "  adding: content/output_mixed_confounded/gaussian_30_laplace_70/mixed_confounded_ts_n5000_vars8_lag3.csv (deflated 54%)\n",
            "  adding: content/output_mixed_confounded/gaussian_30_laplace_70/mixed_confounded_ts_n500_vars4_lag3_sampling.png (deflated 27%)\n",
            "  adding: content/output_mixed_confounded/gaussian_30_laplace_70/mixed_confounded_ts_n3000_vars8_lag3.csv (deflated 54%)\n",
            "  adding: content/output_mixed_confounded/gaussian_30_laplace_70/mixed_confounded_ts_n500_vars4_lag2_structure.txt (deflated 46%)\n",
            "  adding: content/output_mixed_confounded/gaussian_30_laplace_70/mixed_confounded_ts_n500_vars6_lag2_graph.png (deflated 4%)\n",
            "  adding: content/output_mixed_confounded/gaussian_30_laplace_70/mixed_confounded_ts_n1000_vars6_lag3_sampling.png (deflated 27%)\n",
            "  adding: content/output_mixed_confounded/gaussian_30_laplace_70/mixed_confounded_ts_n1000_vars8_lag3.csv (deflated 54%)\n",
            "  adding: content/output_mixed_confounded/gaussian_30_laplace_70/mixed_confounded_ts_n500_vars8_lag2_sampling.png (deflated 27%)\n",
            "  adding: content/output_mixed_confounded/gaussian_30_laplace_70/mixed_confounded_ts_n1000_vars6_lag4.csv (deflated 53%)\n",
            "  adding: content/output_mixed_confounded/gaussian_30_laplace_70/mixed_confounded_ts_n500_vars8_lag2.csv (deflated 53%)\n",
            "  adding: content/output_mixed_confounded/gaussian_30_laplace_70/mixed_confounded_ts_n500_vars4_lag4_series.png (deflated 2%)\n",
            "  adding: content/output_mixed_confounded/gaussian_30_laplace_70/mixed_confounded_ts_n5000_vars8_lag4_sampling.png (deflated 25%)\n",
            "  adding: content/output_mixed_confounded/gaussian_30_laplace_70/mixed_confounded_ts_n500_vars4_lag3_graph.png (deflated 4%)\n",
            "  adding: content/output_mixed_confounded/gaussian_30_laplace_70/mixed_confounded_ts_n5000_vars8_lag2_sampling.png (deflated 25%)\n",
            "  adding: content/output_mixed_confounded/gaussian_30_laplace_70/mixed_confounded_ts_n500_vars6_lag3_structure.txt (deflated 55%)\n",
            "  adding: content/output_mixed_confounded/gaussian_30_laplace_70/mixed_confounded_ts_n5000_vars4_lag3_graph.png (deflated 4%)\n",
            "  adding: content/output_mixed_confounded/gaussian_30_laplace_70/mixed_confounded_ts_n3000_vars8_lag3_structure.txt (deflated 59%)\n",
            "  adding: content/output_mixed_confounded/gaussian_30_laplace_70/mixed_confounded_ts_n500_vars8_lag4_structure.txt (deflated 59%)\n",
            "  adding: content/output_mixed_confounded/gaussian_30_laplace_70/mixed_confounded_ts_n5000_vars6_lag3_series.png (deflated 3%)\n",
            "  adding: content/output_mixed_confounded/gaussian_30_laplace_70/mixed_confounded_ts_n3000_vars8_lag2_series.png (deflated 3%)\n",
            "  adding: content/output_mixed_confounded/gaussian_30_laplace_70/mixed_confounded_ts_n3000_vars4_lag2_structure.txt (deflated 46%)\n",
            "  adding: content/output_mixed_confounded/gaussian_30_laplace_70/mixed_confounded_ts_n5000_vars6_lag4_series.png (deflated 3%)\n",
            "  adding: content/output_mixed_confounded/gaussian_30_laplace_70/mixed_confounded_ts_n5000_vars6_lag3_graph.png (deflated 4%)\n",
            "  adding: content/output_mixed_confounded/gaussian_30_laplace_70/mixed_confounded_ts_n500_vars4_lag2_sampling.png (deflated 27%)\n",
            "  adding: content/output_mixed_confounded/gaussian_30_laplace_70/mixed_confounded_ts_n3000_vars4_lag4.csv (deflated 54%)\n",
            "  adding: content/output_mixed_confounded/gaussian_30_laplace_70/mixed_confounded_ts_n500_vars6_lag4_series.png (deflated 2%)\n",
            "  adding: content/output_mixed_confounded/gaussian_30_laplace_70/mixed_confounded_ts_n1000_vars8_lag2.csv (deflated 54%)\n",
            "  adding: content/output_mixed_confounded/gaussian_30_laplace_70/mixed_confounded_ts_n1000_vars6_lag4_graph.png (deflated 4%)\n",
            "  adding: content/output_mixed_confounded/gaussian_30_laplace_70/mixed_confounded_ts_n5000_vars8_lag2.csv (deflated 55%)\n",
            "  adding: content/output_mixed_confounded/gaussian_30_laplace_70/mixed_confounded_ts_n5000_vars6_lag3_structure.txt (deflated 55%)\n",
            "  adding: content/output_mixed_confounded/gaussian_30_laplace_70/mixed_confounded_ts_n5000_vars8_lag3_structure.txt (deflated 59%)\n",
            "  adding: content/output_mixed_confounded/gaussian_30_laplace_70/mixed_confounded_ts_n5000_vars8_lag2_graph.png (deflated 4%)\n",
            "  adding: content/output_mixed_confounded/gaussian_30_laplace_70/mixed_confounded_ts_n3000_vars6_lag4_sampling.png (deflated 25%)\n",
            "  adding: content/output_mixed_confounded/gaussian_30_laplace_70/mixed_confounded_ts_n1000_vars4_lag4_structure.txt (deflated 48%)\n",
            "  adding: content/output_mixed_confounded/gaussian_30_laplace_70/mixed_confounded_ts_n1000_vars8_lag4_graph.png (deflated 4%)\n",
            "  adding: content/output_mixed_confounded/gaussian_30_laplace_70/mixed_confounded_ts_n500_vars6_lag2_series.png (deflated 2%)\n",
            "  adding: content/output_mixed_confounded/gaussian_30_laplace_70/mixed_confounded_ts_n1000_vars6_lag2.csv (deflated 53%)\n",
            "  adding: content/output_mixed_confounded/gaussian_30_laplace_70/mixed_confounded_ts_n3000_vars8_lag3_graph.png (deflated 4%)\n",
            "  adding: content/output_mixed_confounded/gaussian_30_laplace_70/mixed_confounded_ts_n1000_vars6_lag2_structure.txt (deflated 54%)\n",
            "  adding: content/output_mixed_confounded/gaussian_30_laplace_70/mixed_confounded_ts_n5000_vars6_lag3_sampling.png (deflated 25%)\n",
            "  adding: content/output_mixed_confounded/gaussian_30_laplace_70/mixed_confounded_ts_n3000_vars4_lag3_graph.png (deflated 4%)\n",
            "  adding: content/output_mixed_confounded/gaussian_30_laplace_70/mixed_confounded_ts_n5000_vars4_lag4_structure.txt (deflated 48%)\n",
            "  adding: content/output_mixed_confounded/gaussian_30_laplace_70/mixed_confounded_ts_n500_vars6_lag4.csv (deflated 53%)\n",
            "  adding: content/output_mixed_confounded/gaussian_30_laplace_70/mixed_confounded_ts_n3000_vars6_lag4_graph.png (deflated 4%)\n",
            "  adding: content/output_mixed_confounded/gaussian_30_laplace_70/mixed_confounded_ts_n1000_vars4_lag2_structure.txt (deflated 46%)\n",
            "  adding: content/output_mixed_confounded/gaussian_30_laplace_70/mixed_confounded_ts_n1000_vars4_lag3_series.png (deflated 2%)\n",
            "  adding: content/output_mixed_confounded/gaussian_30_laplace_70/mixed_confounded_ts_n5000_vars4_lag3_structure.txt (deflated 48%)\n",
            "  adding: content/output_mixed_confounded/gaussian_30_laplace_70/mixed_confounded_ts_n1000_vars8_lag4_series.png (deflated 2%)\n",
            "  adding: content/output_mixed_confounded/gaussian_30_laplace_70/mixed_confounded_ts_n3000_vars4_lag4_structure.txt (deflated 48%)\n",
            "  adding: content/output_mixed_confounded/gaussian_30_laplace_70/mixed_confounded_ts_n1000_vars4_lag3_structure.txt (deflated 48%)\n",
            "  adding: content/output_mixed_confounded/gaussian_30_laplace_70/mixed_confounded_ts_n5000_vars6_lag4_sampling.png (deflated 25%)\n",
            "  adding: content/output_mixed_confounded/gaussian_30_laplace_70/mixed_confounded_ts_n3000_vars4_lag2_sampling.png (deflated 25%)\n",
            "  adding: content/output_mixed_confounded/gaussian_30_laplace_70/mixed_confounded_ts_n500_vars4_lag2.csv (deflated 52%)\n",
            "  adding: content/output_mixed_confounded/gaussian_30_laplace_70/mixed_confounded_ts_n5000_vars8_lag2_structure.txt (deflated 58%)\n",
            "  adding: content/output_mixed_confounded/gaussian_30_laplace_70/mixed_confounded_ts_n1000_vars4_lag4_graph.png (deflated 4%)\n",
            "  adding: content/output_mixed_confounded/gaussian_30_laplace_70/mixed_confounded_ts_n1000_vars8_lag4_sampling.png (deflated 27%)\n",
            "  adding: content/output_mixed_confounded/gaussian_30_laplace_70/mixed_confounded_ts_n3000_vars6_lag3_sampling.png (deflated 25%)\n",
            "  adding: content/output_mixed_confounded/gaussian_30_laplace_70/mixed_confounded_ts_n1000_vars4_lag2_graph.png (deflated 5%)\n",
            "  adding: content/output_mixed_confounded/gaussian_30_laplace_70/mixed_confounded_ts_n1000_vars4_lag2.csv (deflated 53%)\n",
            "  adding: content/output_mixed_confounded/gaussian_30_laplace_70/mixed_confounded_ts_n3000_vars8_lag2_structure.txt (deflated 58%)\n",
            "  adding: content/output_mixed_confounded/gaussian_30_laplace_70/mixed_confounded_ts_n1000_vars8_lag2_series.png (deflated 2%)\n",
            "  adding: content/output_mixed_confounded/gaussian_30_laplace_70/mixed_confounded_ts_n500_vars8_lag3.csv (deflated 53%)\n",
            "  adding: content/output_mixed_confounded/gaussian_30_laplace_70/mixed_confounded_ts_n5000_vars4_lag2_sampling.png (deflated 25%)\n",
            "  adding: content/output_mixed_confounded/gaussian_30_laplace_70/mixed_confounded_ts_n500_vars6_lag4_structure.txt (deflated 55%)\n",
            "  adding: content/output_mixed_confounded/gaussian_30_laplace_70/mixed_confounded_ts_n1000_vars6_lag2_series.png (deflated 2%)\n",
            "  adding: content/output_mixed_confounded/gaussian_30_laplace_70/mixed_confounded_ts_n3000_vars8_lag4_graph.png (deflated 4%)\n",
            "  adding: content/output_mixed_confounded/gaussian_30_laplace_70/mixed_confounded_ts_n3000_vars6_lag4_structure.txt (deflated 55%)\n",
            "  adding: content/output_mixed_confounded/gaussian_30_laplace_70/mixed_confounded_ts_n1000_vars8_lag3_sampling.png (deflated 27%)\n",
            "  adding: content/output_mixed_confounded/gaussian_30_laplace_70/mixed_confounded_ts_n500_vars8_lag2_graph.png (deflated 4%)\n",
            "  adding: content/output_mixed_confounded/gaussian_30_laplace_70/mixed_confounded_ts_n5000_vars8_lag4_graph.png (deflated 4%)\n",
            "  adding: content/output_mixed_confounded/gaussian_30_laplace_70/mixed_confounded_ts_n3000_vars8_lag4_sampling.png (deflated 25%)\n",
            "  adding: content/output_mixed_confounded/gaussian_30_laplace_70/mixed_confounded_ts_n1000_vars4_lag3_graph.png (deflated 4%)\n",
            "  adding: content/output_mixed_confounded/gaussian_30_laplace_70/mixed_confounded_ts_n1000_vars8_lag2_graph.png (deflated 5%)\n",
            "  adding: content/output_mixed_confounded/gaussian_30_laplace_70/mixed_confounded_ts_n500_vars6_lag3.csv (deflated 53%)\n",
            "  adding: content/output_mixed_confounded/gaussian_30_laplace_70/mixed_confounded_ts_n1000_vars8_lag3_graph.png (deflated 4%)\n",
            "  adding: content/output_mixed_confounded/gaussian_30_laplace_70/mixed_confounded_ts_n5000_vars8_lag4_structure.txt (deflated 59%)\n",
            "  adding: content/output_mixed_confounded/gaussian_30_laplace_70/mixed_confounded_ts_n1000_vars8_lag2_structure.txt (deflated 58%)\n",
            "  adding: content/output_mixed_confounded/gaussian_30_laplace_70/mixed_confounded_ts_n500_vars6_lag3_sampling.png (deflated 27%)\n",
            "  adding: content/output_mixed_confounded/gaussian_30_laplace_70/mixed_confounded_ts_n5000_vars4_lag4_graph.png (deflated 4%)\n",
            "  adding: content/output_mixed_confounded/gaussian_30_laplace_70/mixed_confounded_ts_n500_vars8_lag4.csv (deflated 53%)\n",
            "  adding: content/output_mixed_confounded/gaussian_30_laplace_70/mixed_confounded_ts_n500_vars4_lag3_structure.txt (deflated 48%)\n",
            "  adding: content/output_mixed_confounded/gaussian_30_laplace_70/mixed_confounded_ts_n3000_vars4_lag3_structure.txt (deflated 48%)\n",
            "  adding: content/output_mixed_confounded/gaussian_30_laplace_70/mixed_confounded_ts_n3000_vars4_lag2_graph.png (deflated 5%)\n",
            "  adding: content/output_mixed_confounded/gaussian_30_laplace_70/mixed_confounded_ts_n1000_vars6_lag3_graph.png (deflated 4%)\n",
            "  adding: content/output_mixed_confounded/gaussian_30_laplace_70/mixed_confounded_ts_n5000_vars4_lag4.csv (deflated 54%)\n",
            "  adding: content/output_mixed_confounded/gaussian_30_laplace_70/mixed_confounded_ts_n1000_vars4_lag2_series.png (deflated 2%)\n",
            "  adding: content/output_mixed_confounded/gaussian_30_laplace_70/mixed_confounded_ts_n5000_vars8_lag3_series.png (deflated 3%)\n",
            "  adding: content/output_mixed_confounded/gaussian_30_laplace_70/mixed_confounded_ts_n500_vars8_lag2_series.png (deflated 2%)\n",
            "  adding: content/output_mixed_confounded/gaussian_30_laplace_70/mixed_confounded_ts_n3000_vars6_lag2.csv (deflated 54%)\n",
            "  adding: content/output_mixed_confounded/gaussian_30_laplace_70/mixed_confounded_ts_n5000_vars6_lag4.csv (deflated 54%)\n",
            "  adding: content/output_mixed_confounded/gaussian_30_laplace_70/mixed_confounded_ts_n500_vars8_lag3_graph.png (deflated 4%)\n",
            "  adding: content/output_mixed_confounded/gaussian_30_laplace_70/mixed_confounded_ts_n500_vars8_lag3_sampling.png (deflated 27%)\n",
            "  adding: content/output_mixed_confounded/gaussian_30_laplace_70/mixed_confounded_ts_n3000_vars4_lag2_series.png (deflated 3%)\n",
            "  adding: content/output_mixed_confounded/gaussian_30_laplace_70/mixed_confounded_ts_n500_vars6_lag2_structure.txt (deflated 54%)\n",
            "  adding: content/output_mixed_confounded/gaussian_30_laplace_70/mixed_confounded_ts_n500_vars4_lag4.csv (deflated 52%)\n",
            "  adding: content/output_mixed_confounded/gaussian_30_laplace_70/mixed_confounded_ts_n500_vars6_lag2.csv (deflated 53%)\n",
            "  adding: content/output_mixed_confounded/gaussian_30_laplace_70/mixed_confounded_ts_n3000_vars6_lag3_series.png (deflated 3%)\n",
            "  adding: content/output_mixed_confounded/gaussian_30_laplace_70/mixed_confounded_ts_n5000_vars4_lag2.csv (deflated 54%)\n",
            "  adding: content/output_mixed_confounded/gaussian_30_laplace_70/mixed_confounded_ts_n3000_vars6_lag2_series.png (deflated 3%)\n",
            "  adding: content/output_mixed_confounded/gaussian_30_laplace_70/mixed_confounded_ts_n500_vars6_lag4_sampling.png (deflated 27%)\n",
            "  adding: content/output_mixed_confounded/gaussian_30_laplace_70/mixed_confounded_ts_n1000_vars4_lag3.csv (deflated 53%)\n",
            "  adding: content/output_mixed_confounded/gaussian_30_laplace_70/mixed_confounded_ts_n3000_vars8_lag4_series.png (deflated 2%)\n",
            "  adding: content/output_mixed_confounded/gaussian_30_laplace_70/mixed_confounded_ts_n3000_vars4_lag3_sampling.png (deflated 25%)\n",
            "  adding: content/output_mixed_confounded/gaussian_30_laplace_70/mixed_confounded_ts_n500_vars4_lag4_graph.png (deflated 4%)\n",
            "  adding: content/output_mixed_confounded/gaussian_30_laplace_70/mixed_confounded_ts_n1000_vars6_lag3_series.png (deflated 2%)\n",
            "  adding: content/output_mixed_confounded/gaussian_30_laplace_70/mixed_confounded_ts_n1000_vars6_lag4_sampling.png (deflated 27%)\n",
            "  adding: content/output_mixed_confounded/gaussian_30_laplace_70/mixed_confounded_ts_n3000_vars4_lag4_series.png (deflated 3%)\n",
            "  adding: content/output_mixed_confounded/gaussian_30_laplace_70/mixed_confounded_ts_n5000_vars8_lag3_graph.png (deflated 4%)\n",
            "  adding: content/output_mixed_confounded/gaussian_30_laplace_70/mixed_confounded_ts_n5000_vars4_lag2_series.png (deflated 3%)\n",
            "  adding: content/output_mixed_confounded/gaussian_30_laplace_70/mixed_confounded_ts_n5000_vars6_lag2_structure.txt (deflated 54%)\n",
            "  adding: content/output_mixed_confounded/gaussian_30_laplace_70/mixed_confounded_ts_n5000_vars6_lag2_sampling.png (deflated 25%)\n",
            "  adding: content/output_mixed_confounded/gaussian_30_laplace_70/mixed_confounded_ts_n5000_vars8_lag2_series.png (deflated 3%)\n",
            "  adding: content/output_mixed_confounded/gaussian_30_laplace_70/mixed_confounded_ts_n5000_vars8_lag4_series.png (deflated 3%)\n",
            "  adding: content/output_mixed_confounded/gaussian_30_laplace_70/mixed_confounded_ts_n1000_vars6_lag2_graph.png (deflated 4%)\n",
            "  adding: content/output_mixed_confounded/gaussian_30_laplace_70/mixed_confounded_ts_n3000_vars8_lag2_sampling.png (deflated 25%)\n",
            "  adding: content/output_mixed_confounded/gaussian_30_laplace_70/mixed_confounded_ts_n1000_vars4_lag4_series.png (deflated 2%)\n",
            "  adding: content/output_mixed_confounded/gaussian_30_laplace_70/mixed_confounded_ts_n1000_vars6_lag4_series.png (deflated 2%)\n",
            "  adding: content/output_mixed_confounded/gaussian_30_laplace_70/mixed_confounded_ts_n1000_vars6_lag2_sampling.png (deflated 27%)\n",
            "  adding: content/output_mixed_confounded/gaussian_30_laplace_70/mixed_confounded_ts_n5000_vars4_lag2_graph.png (deflated 5%)\n",
            "  adding: content/output_mixed_confounded/gaussian_30_laplace_70/mixed_confounded_ts_n1000_vars4_lag4.csv (deflated 53%)\n",
            "  adding: content/output_mixed_confounded/gaussian_30_laplace_70/mixed_confounded_ts_n3000_vars8_lag3_sampling.png (deflated 25%)\n",
            "  adding: content/output_mixed_confounded/gaussian_30_laplace_70/mixed_confounded_ts_n500_vars4_lag4_structure.txt (deflated 48%)\n",
            "  adding: content/output_mixed_confounded/gaussian_30_laplace_70/mixed_confounded_ts_n3000_vars8_lag2_graph.png (deflated 4%)\n",
            "  adding: content/output_mixed_confounded/gaussian_30_laplace_70/mixed_confounded_ts_n3000_vars6_lag2_sampling.png (deflated 25%)\n",
            "  adding: content/output_mixed_confounded/gaussian_30_laplace_70/mixed_confounded_ts_n1000_vars8_lag2_sampling.png (deflated 27%)\n",
            "  adding: content/output_mixed_confounded/gaussian_30_laplace_70/mixed_confounded_ts_n500_vars4_lag3_series.png (deflated 2%)\n",
            "  adding: content/output_mixed_confounded/gaussian_30_laplace_70/mixed_confounded_ts_n3000_vars6_lag3.csv (deflated 54%)\n",
            "  adding: content/output_mixed_confounded/gaussian_30_laplace_70/mixed_confounded_ts_n500_vars6_lag3_series.png (deflated 2%)\n",
            "  adding: content/output_mixed_confounded/gaussian_30_laplace_70/mixed_confounded_ts_n3000_vars6_lag2_graph.png (deflated 4%)\n",
            "  adding: content/output_mixed_confounded/gaussian_30_laplace_70/mixed_confounded_ts_n500_vars6_lag4_graph.png (deflated 4%)\n",
            "  adding: content/output_mixed_confounded/gaussian_30_laplace_70/mixed_confounded_ts_n3000_vars6_lag3_graph.png (deflated 4%)\n",
            "  adding: content/output_mixed_confounded/gaussian_30_laplace_70/mixed_confounded_ts_n500_vars4_lag2_graph.png (deflated 5%)\n",
            "  adding: content/output_mixed_confounded/gaussian_30_laplace_70/mixed_confounded_ts_n5000_vars8_lag3_sampling.png (deflated 25%)\n",
            "  adding: content/output_mixed_confounded/gaussian_30_laplace_70/mixed_confounded_ts_n5000_vars6_lag2_series.png (deflated 3%)\n",
            "  adding: content/output_mixed_confounded/gaussian_30_laplace_70/mixed_confounded_ts_n1000_vars6_lag3_structure.txt (deflated 55%)\n",
            "  adding: content/output_mixed_confounded/gaussian_30_laplace_70/mixed_confounded_ts_n500_vars8_lag4_sampling.png (deflated 27%)\n",
            "  adding: content/output_mixed_confounded/gaussian_30_laplace_70/mixed_confounded_ts_n5000_vars4_lag3_series.png (deflated 3%)\n",
            "  adding: content/output_mixed_confounded/gaussian_30_laplace_70/mixed_confounded_ts_n3000_vars4_lag4_graph.png (deflated 4%)\n",
            "  adding: content/output_mixed_confounded/gaussian_30_laplace_70/mixed_confounded_ts_n500_vars6_lag2_sampling.png (deflated 27%)\n",
            "  adding: content/output_mixed_confounded/gaussian_30_laplace_70/mixed_confounded_ts_n5000_vars4_lag3.csv (deflated 54%)\n",
            "  adding: content/output_mixed_confounded/gaussian_30_laplace_70/mixed_confounded_ts_n500_vars4_lag3.csv (deflated 52%)\n",
            "  adding: content/output_mixed_confounded/gaussian_30_laplace_70/mixed_confounded_ts_n500_vars8_lag4_series.png (deflated 2%)\n",
            "  adding: content/output_mixed_confounded/gaussian_30_laplace_70/mixed_confounded_ts_n500_vars8_lag4_graph.png (deflated 4%)\n",
            "  adding: content/output_mixed_confounded/gaussian_30_laplace_70/mixed_confounded_ts_n5000_vars6_lag2.csv (deflated 54%)\n",
            "  adding: content/output_mixed_confounded/gaussian_30_laplace_70/mixed_confounded_ts_n5000_vars8_lag4.csv (deflated 54%)\n",
            "  adding: content/output_mixed_confounded/gaussian_30_laplace_70/mixed_confounded_ts_n500_vars4_lag4_sampling.png (deflated 27%)\n",
            "  adding: content/output_mixed_confounded/gaussian_30_laplace_70/mixed_confounded_ts_n1000_vars8_lag4.csv (deflated 54%)\n",
            "  adding: content/output_mixed_confounded/gaussian_30_laplace_70/mixed_confounded_ts_n3000_vars6_lag2_structure.txt (deflated 54%)\n",
            "  adding: content/output_mixed_confounded/gaussian_30_laplace_70/mixed_confounded_ts_n500_vars8_lag3_series.png (deflated 2%)\n",
            "  adding: content/output_mixed_confounded/gaussian_30_laplace_70/mixed_confounded_ts_n5000_vars6_lag4_structure.txt (deflated 55%)\n",
            "  adding: content/output_mixed_confounded/gaussian_30_laplace_70/mixed_confounded_ts_n5000_vars6_lag4_graph.png (deflated 4%)\n",
            "  adding: content/output_mixed_confounded/gaussian_30_laplace_70/mixed_confounded_ts_n5000_vars4_lag4_sampling.png (deflated 25%)\n",
            "  adding: content/output_mixed_confounded/gaussian_30_laplace_70/mixed_confounded_ts_n5000_vars6_lag3.csv (deflated 54%)\n",
            "  adding: content/output_mixed_confounded/gaussian_30_laplace_70/mixed_confounded_ts_n1000_vars4_lag2_sampling.png (deflated 27%)\n",
            "  adding: content/output_mixed_confounded/gaussian_30_laplace_70/mixed_confounded_ts_n1000_vars4_lag4_sampling.png (deflated 27%)\n",
            "  adding: content/output_mixed_confounded/gaussian_30_laplace_70/mixed_confounded_ts_n3000_vars8_lag3_series.png (deflated 3%)\n",
            "  adding: content/output_mixed_confounded/gaussian_30_laplace_70/mixed_confounded_ts_n5000_vars6_lag2_graph.png (deflated 4%)\n",
            "  adding: content/output_mixed_confounded/gaussian_30_laplace_70/mixed_confounded_ts_n1000_vars8_lag3_series.png (deflated 2%)\n",
            "  adding: content/output_mixed_confounded/gaussian_30_laplace_70/mixed_confounded_ts_n1000_vars4_lag3_sampling.png (deflated 27%)\n",
            "  adding: content/output_mixed_confounded/gaussian_30_laplace_70/mixed_confounded_ts_n3000_vars6_lag3_structure.txt (deflated 55%)\n",
            "  adding: content/output_mixed_confounded/gaussian_30_laplace_70/mixed_confounded_ts_n500_vars8_lag3_structure.txt (deflated 59%)\n",
            "  adding: content/output_mixed_confounded/gaussian_30_laplace_70/mixed_confounded_ts_n1000_vars6_lag4_structure.txt (deflated 55%)\n",
            "  adding: content/output_mixed_confounded/gaussian_30_laplace_70/mixed_confounded_ts_n1000_vars6_lag3.csv (deflated 53%)\n",
            "  adding: content/output_mixed_confounded/gaussian_30_laplace_70/mixed_confounded_ts_n500_vars8_lag2_structure.txt (deflated 58%)\n",
            "  adding: content/output_mixed_confounded/gaussian_30_laplace_70/mixed_confounded_ts_n3000_vars8_lag2.csv (deflated 54%)\n",
            "  adding: content/output_mixed_confounded/gaussian_30_laplace_70/mixed_confounded_ts_n3000_vars6_lag4.csv (deflated 54%)\n",
            "  adding: content/output_mixed_confounded/gaussian_30_laplace_70/mixed_confounded_ts_n1000_vars8_lag4_structure.txt (deflated 59%)\n",
            "  adding: content/output_mixed_confounded/gaussian_30_laplace_70/mixed_confounded_ts_n3000_vars8_lag4.csv (deflated 54%)\n",
            "  adding: content/output_mixed_confounded/gaussian_30_laplace_70/mixed_confounded_ts_n1000_vars8_lag3_structure.txt (deflated 59%)\n",
            "  adding: content/output_mixed_confounded/gaussian_70_laplace_30/ (stored 0%)\n",
            "  adding: content/output_mixed_confounded/gaussian_70_laplace_30/mixed_confounded_ts_n5000_vars4_lag2_structure.txt (deflated 46%)\n",
            "  adding: content/output_mixed_confounded/gaussian_70_laplace_30/mixed_confounded_ts_n3000_vars8_lag4_structure.txt (deflated 59%)\n",
            "  adding: content/output_mixed_confounded/gaussian_70_laplace_30/mixed_confounded_ts_n500_vars6_lag3_graph.png (deflated 4%)\n",
            "  adding: content/output_mixed_confounded/gaussian_70_laplace_30/mixed_confounded_ts_n3000_vars4_lag4_sampling.png (deflated 25%)\n",
            "  adding: content/output_mixed_confounded/gaussian_70_laplace_30/mixed_confounded_ts_n3000_vars4_lag3_series.png (deflated 3%)\n",
            "  adding: content/output_mixed_confounded/gaussian_70_laplace_30/mixed_confounded_ts_n500_vars4_lag2_series.png (deflated 2%)\n",
            "  adding: content/output_mixed_confounded/gaussian_70_laplace_30/mixed_confounded_ts_n3000_vars6_lag4_series.png (deflated 3%)\n",
            "  adding: content/output_mixed_confounded/gaussian_70_laplace_30/mixed_confounded_ts_n3000_vars4_lag3.csv (deflated 54%)\n",
            "  adding: content/output_mixed_confounded/gaussian_70_laplace_30/mixed_confounded_ts_n5000_vars4_lag3_sampling.png (deflated 25%)\n",
            "  adding: content/output_mixed_confounded/gaussian_70_laplace_30/mixed_confounded_ts_n5000_vars4_lag4_series.png (deflated 3%)\n",
            "  adding: content/output_mixed_confounded/gaussian_70_laplace_30/mixed_confounded_ts_n3000_vars4_lag2.csv (deflated 54%)\n",
            "  adding: content/output_mixed_confounded/gaussian_70_laplace_30/mixed_confounded_ts_n5000_vars8_lag3.csv (deflated 55%)\n",
            "  adding: content/output_mixed_confounded/gaussian_70_laplace_30/mixed_confounded_ts_n500_vars4_lag3_sampling.png (deflated 27%)\n",
            "  adding: content/output_mixed_confounded/gaussian_70_laplace_30/mixed_confounded_ts_n3000_vars8_lag3.csv (deflated 54%)\n",
            "  adding: content/output_mixed_confounded/gaussian_70_laplace_30/mixed_confounded_ts_n500_vars4_lag2_structure.txt (deflated 46%)\n",
            "  adding: content/output_mixed_confounded/gaussian_70_laplace_30/mixed_confounded_ts_n500_vars6_lag2_graph.png (deflated 4%)\n",
            "  adding: content/output_mixed_confounded/gaussian_70_laplace_30/mixed_confounded_ts_n1000_vars6_lag3_sampling.png (deflated 27%)\n",
            "  adding: content/output_mixed_confounded/gaussian_70_laplace_30/mixed_confounded_ts_n1000_vars8_lag3.csv (deflated 54%)\n",
            "  adding: content/output_mixed_confounded/gaussian_70_laplace_30/mixed_confounded_ts_n500_vars8_lag2_sampling.png (deflated 27%)\n",
            "  adding: content/output_mixed_confounded/gaussian_70_laplace_30/mixed_confounded_ts_n1000_vars6_lag4.csv (deflated 54%)\n",
            "  adding: content/output_mixed_confounded/gaussian_70_laplace_30/mixed_confounded_ts_n500_vars8_lag2.csv (deflated 53%)\n",
            "  adding: content/output_mixed_confounded/gaussian_70_laplace_30/mixed_confounded_ts_n500_vars4_lag4_series.png (deflated 2%)\n",
            "  adding: content/output_mixed_confounded/gaussian_70_laplace_30/mixed_confounded_ts_n5000_vars8_lag4_sampling.png (deflated 25%)\n",
            "  adding: content/output_mixed_confounded/gaussian_70_laplace_30/mixed_confounded_ts_n500_vars4_lag3_graph.png (deflated 4%)\n",
            "  adding: content/output_mixed_confounded/gaussian_70_laplace_30/mixed_confounded_ts_n5000_vars8_lag2_sampling.png (deflated 25%)\n",
            "  adding: content/output_mixed_confounded/gaussian_70_laplace_30/mixed_confounded_ts_n500_vars6_lag3_structure.txt (deflated 55%)\n",
            "  adding: content/output_mixed_confounded/gaussian_70_laplace_30/mixed_confounded_ts_n5000_vars4_lag3_graph.png (deflated 4%)\n",
            "  adding: content/output_mixed_confounded/gaussian_70_laplace_30/mixed_confounded_ts_n3000_vars8_lag3_structure.txt (deflated 59%)\n",
            "  adding: content/output_mixed_confounded/gaussian_70_laplace_30/mixed_confounded_ts_n500_vars8_lag4_structure.txt (deflated 59%)\n",
            "  adding: content/output_mixed_confounded/gaussian_70_laplace_30/mixed_confounded_ts_n5000_vars6_lag3_series.png (deflated 4%)\n",
            "  adding: content/output_mixed_confounded/gaussian_70_laplace_30/mixed_confounded_ts_n3000_vars8_lag2_series.png (deflated 3%)\n",
            "  adding: content/output_mixed_confounded/gaussian_70_laplace_30/mixed_confounded_ts_n3000_vars4_lag2_structure.txt (deflated 46%)\n",
            "  adding: content/output_mixed_confounded/gaussian_70_laplace_30/mixed_confounded_ts_n5000_vars6_lag4_series.png (deflated 4%)\n",
            "  adding: content/output_mixed_confounded/gaussian_70_laplace_30/mixed_confounded_ts_n5000_vars6_lag3_graph.png (deflated 4%)\n",
            "  adding: content/output_mixed_confounded/gaussian_70_laplace_30/mixed_confounded_ts_n500_vars4_lag2_sampling.png (deflated 27%)\n",
            "  adding: content/output_mixed_confounded/gaussian_70_laplace_30/mixed_confounded_ts_n3000_vars4_lag4.csv (deflated 54%)\n",
            "  adding: content/output_mixed_confounded/gaussian_70_laplace_30/mixed_confounded_ts_n500_vars6_lag4_series.png (deflated 2%)\n",
            "  adding: content/output_mixed_confounded/gaussian_70_laplace_30/mixed_confounded_ts_n1000_vars8_lag2.csv (deflated 54%)\n",
            "  adding: content/output_mixed_confounded/gaussian_70_laplace_30/mixed_confounded_ts_n1000_vars6_lag4_graph.png (deflated 4%)\n",
            "  adding: content/output_mixed_confounded/gaussian_70_laplace_30/mixed_confounded_ts_n5000_vars8_lag2.csv (deflated 55%)\n",
            "  adding: content/output_mixed_confounded/gaussian_70_laplace_30/mixed_confounded_ts_n5000_vars6_lag3_structure.txt (deflated 55%)\n",
            "  adding: content/output_mixed_confounded/gaussian_70_laplace_30/mixed_confounded_ts_n5000_vars8_lag3_structure.txt (deflated 59%)\n",
            "  adding: content/output_mixed_confounded/gaussian_70_laplace_30/mixed_confounded_ts_n5000_vars8_lag2_graph.png (deflated 4%)\n",
            "  adding: content/output_mixed_confounded/gaussian_70_laplace_30/mixed_confounded_ts_n3000_vars6_lag4_sampling.png (deflated 25%)\n",
            "  adding: content/output_mixed_confounded/gaussian_70_laplace_30/mixed_confounded_ts_n1000_vars4_lag4_structure.txt (deflated 48%)\n",
            "  adding: content/output_mixed_confounded/gaussian_70_laplace_30/mixed_confounded_ts_n1000_vars8_lag4_graph.png (deflated 4%)\n",
            "  adding: content/output_mixed_confounded/gaussian_70_laplace_30/mixed_confounded_ts_n500_vars6_lag2_series.png (deflated 2%)\n",
            "  adding: content/output_mixed_confounded/gaussian_70_laplace_30/mixed_confounded_ts_n1000_vars6_lag2.csv (deflated 54%)\n",
            "  adding: content/output_mixed_confounded/gaussian_70_laplace_30/mixed_confounded_ts_n3000_vars8_lag3_graph.png (deflated 4%)\n",
            "  adding: content/output_mixed_confounded/gaussian_70_laplace_30/mixed_confounded_ts_n1000_vars6_lag2_structure.txt (deflated 54%)\n",
            "  adding: content/output_mixed_confounded/gaussian_70_laplace_30/mixed_confounded_ts_n5000_vars6_lag3_sampling.png (deflated 25%)\n",
            "  adding: content/output_mixed_confounded/gaussian_70_laplace_30/mixed_confounded_ts_n3000_vars4_lag3_graph.png (deflated 4%)\n",
            "  adding: content/output_mixed_confounded/gaussian_70_laplace_30/mixed_confounded_ts_n5000_vars4_lag4_structure.txt (deflated 48%)\n",
            "  adding: content/output_mixed_confounded/gaussian_70_laplace_30/mixed_confounded_ts_n500_vars6_lag4.csv (deflated 53%)\n",
            "  adding: content/output_mixed_confounded/gaussian_70_laplace_30/mixed_confounded_ts_n3000_vars6_lag4_graph.png (deflated 4%)\n",
            "  adding: content/output_mixed_confounded/gaussian_70_laplace_30/mixed_confounded_ts_n1000_vars4_lag2_structure.txt (deflated 46%)\n",
            "  adding: content/output_mixed_confounded/gaussian_70_laplace_30/mixed_confounded_ts_n1000_vars4_lag3_series.png (deflated 2%)\n",
            "  adding: content/output_mixed_confounded/gaussian_70_laplace_30/mixed_confounded_ts_n5000_vars4_lag3_structure.txt (deflated 48%)\n",
            "  adding: content/output_mixed_confounded/gaussian_70_laplace_30/mixed_confounded_ts_n1000_vars8_lag4_series.png (deflated 2%)\n",
            "  adding: content/output_mixed_confounded/gaussian_70_laplace_30/mixed_confounded_ts_n3000_vars4_lag4_structure.txt (deflated 48%)\n",
            "  adding: content/output_mixed_confounded/gaussian_70_laplace_30/mixed_confounded_ts_n1000_vars4_lag3_structure.txt (deflated 48%)\n",
            "  adding: content/output_mixed_confounded/gaussian_70_laplace_30/mixed_confounded_ts_n5000_vars6_lag4_sampling.png (deflated 25%)\n",
            "  adding: content/output_mixed_confounded/gaussian_70_laplace_30/mixed_confounded_ts_n3000_vars4_lag2_sampling.png (deflated 25%)\n",
            "  adding: content/output_mixed_confounded/gaussian_70_laplace_30/mixed_confounded_ts_n500_vars4_lag2.csv (deflated 52%)\n",
            "  adding: content/output_mixed_confounded/gaussian_70_laplace_30/mixed_confounded_ts_n5000_vars8_lag2_structure.txt (deflated 58%)\n",
            "  adding: content/output_mixed_confounded/gaussian_70_laplace_30/mixed_confounded_ts_n1000_vars4_lag4_graph.png (deflated 4%)\n",
            "  adding: content/output_mixed_confounded/gaussian_70_laplace_30/mixed_confounded_ts_n1000_vars8_lag4_sampling.png (deflated 27%)\n",
            "  adding: content/output_mixed_confounded/gaussian_70_laplace_30/mixed_confounded_ts_n3000_vars6_lag3_sampling.png (deflated 25%)\n",
            "  adding: content/output_mixed_confounded/gaussian_70_laplace_30/mixed_confounded_ts_n1000_vars4_lag2_graph.png (deflated 5%)\n",
            "  adding: content/output_mixed_confounded/gaussian_70_laplace_30/mixed_confounded_ts_n1000_vars4_lag2.csv (deflated 53%)\n",
            "  adding: content/output_mixed_confounded/gaussian_70_laplace_30/mixed_confounded_ts_n3000_vars8_lag2_structure.txt (deflated 58%)\n",
            "  adding: content/output_mixed_confounded/gaussian_70_laplace_30/mixed_confounded_ts_n1000_vars8_lag2_series.png (deflated 2%)\n",
            "  adding: content/output_mixed_confounded/gaussian_70_laplace_30/mixed_confounded_ts_n500_vars8_lag3.csv (deflated 53%)\n",
            "  adding: content/output_mixed_confounded/gaussian_70_laplace_30/mixed_confounded_ts_n5000_vars4_lag2_sampling.png (deflated 25%)\n",
            "  adding: content/output_mixed_confounded/gaussian_70_laplace_30/mixed_confounded_ts_n500_vars6_lag4_structure.txt (deflated 55%)\n",
            "  adding: content/output_mixed_confounded/gaussian_70_laplace_30/mixed_confounded_ts_n1000_vars6_lag2_series.png (deflated 2%)\n",
            "  adding: content/output_mixed_confounded/gaussian_70_laplace_30/mixed_confounded_ts_n3000_vars8_lag4_graph.png (deflated 4%)\n",
            "  adding: content/output_mixed_confounded/gaussian_70_laplace_30/mixed_confounded_ts_n3000_vars6_lag4_structure.txt (deflated 55%)\n",
            "  adding: content/output_mixed_confounded/gaussian_70_laplace_30/mixed_confounded_ts_n1000_vars8_lag3_sampling.png (deflated 27%)\n",
            "  adding: content/output_mixed_confounded/gaussian_70_laplace_30/mixed_confounded_ts_n500_vars8_lag2_graph.png (deflated 4%)\n",
            "  adding: content/output_mixed_confounded/gaussian_70_laplace_30/mixed_confounded_ts_n5000_vars8_lag4_graph.png (deflated 4%)\n",
            "  adding: content/output_mixed_confounded/gaussian_70_laplace_30/mixed_confounded_ts_n3000_vars8_lag4_sampling.png (deflated 25%)\n",
            "  adding: content/output_mixed_confounded/gaussian_70_laplace_30/mixed_confounded_ts_n1000_vars4_lag3_graph.png (deflated 4%)\n",
            "  adding: content/output_mixed_confounded/gaussian_70_laplace_30/mixed_confounded_ts_n1000_vars8_lag2_graph.png (deflated 4%)\n",
            "  adding: content/output_mixed_confounded/gaussian_70_laplace_30/mixed_confounded_ts_n500_vars6_lag3.csv (deflated 53%)\n",
            "  adding: content/output_mixed_confounded/gaussian_70_laplace_30/mixed_confounded_ts_n1000_vars8_lag3_graph.png (deflated 4%)\n",
            "  adding: content/output_mixed_confounded/gaussian_70_laplace_30/mixed_confounded_ts_n5000_vars8_lag4_structure.txt (deflated 59%)\n",
            "  adding: content/output_mixed_confounded/gaussian_70_laplace_30/mixed_confounded_ts_n1000_vars8_lag2_structure.txt (deflated 58%)\n",
            "  adding: content/output_mixed_confounded/gaussian_70_laplace_30/mixed_confounded_ts_n500_vars6_lag3_sampling.png (deflated 27%)\n",
            "  adding: content/output_mixed_confounded/gaussian_70_laplace_30/mixed_confounded_ts_n5000_vars4_lag4_graph.png (deflated 4%)\n",
            "  adding: content/output_mixed_confounded/gaussian_70_laplace_30/mixed_confounded_ts_n500_vars8_lag4.csv (deflated 53%)\n",
            "  adding: content/output_mixed_confounded/gaussian_70_laplace_30/mixed_confounded_ts_n500_vars4_lag3_structure.txt (deflated 48%)\n",
            "  adding: content/output_mixed_confounded/gaussian_70_laplace_30/mixed_confounded_ts_n3000_vars4_lag3_structure.txt (deflated 48%)\n",
            "  adding: content/output_mixed_confounded/gaussian_70_laplace_30/mixed_confounded_ts_n3000_vars4_lag2_graph.png (deflated 5%)\n",
            "  adding: content/output_mixed_confounded/gaussian_70_laplace_30/mixed_confounded_ts_n1000_vars6_lag3_graph.png (deflated 4%)\n",
            "  adding: content/output_mixed_confounded/gaussian_70_laplace_30/mixed_confounded_ts_n5000_vars4_lag4.csv (deflated 54%)\n",
            "  adding: content/output_mixed_confounded/gaussian_70_laplace_30/mixed_confounded_ts_n1000_vars4_lag2_series.png (deflated 2%)\n",
            "  adding: content/output_mixed_confounded/gaussian_70_laplace_30/mixed_confounded_ts_n5000_vars8_lag3_series.png (deflated 3%)\n",
            "  adding: content/output_mixed_confounded/gaussian_70_laplace_30/mixed_confounded_ts_n500_vars8_lag2_series.png (deflated 2%)\n",
            "  adding: content/output_mixed_confounded/gaussian_70_laplace_30/mixed_confounded_ts_n3000_vars6_lag2.csv (deflated 54%)\n",
            "  adding: content/output_mixed_confounded/gaussian_70_laplace_30/mixed_confounded_ts_n5000_vars6_lag4.csv (deflated 54%)\n",
            "  adding: content/output_mixed_confounded/gaussian_70_laplace_30/mixed_confounded_ts_n500_vars8_lag3_graph.png (deflated 4%)\n",
            "  adding: content/output_mixed_confounded/gaussian_70_laplace_30/mixed_confounded_ts_n500_vars8_lag3_sampling.png (deflated 27%)\n",
            "  adding: content/output_mixed_confounded/gaussian_70_laplace_30/mixed_confounded_ts_n3000_vars4_lag2_series.png (deflated 3%)\n",
            "  adding: content/output_mixed_confounded/gaussian_70_laplace_30/mixed_confounded_ts_n500_vars6_lag2_structure.txt (deflated 54%)\n",
            "  adding: content/output_mixed_confounded/gaussian_70_laplace_30/mixed_confounded_ts_n500_vars4_lag4.csv (deflated 52%)\n",
            "  adding: content/output_mixed_confounded/gaussian_70_laplace_30/mixed_confounded_ts_n500_vars6_lag2.csv (deflated 53%)\n",
            "  adding: content/output_mixed_confounded/gaussian_70_laplace_30/mixed_confounded_ts_n3000_vars6_lag3_series.png (deflated 3%)\n",
            "  adding: content/output_mixed_confounded/gaussian_70_laplace_30/mixed_confounded_ts_n5000_vars4_lag2.csv (deflated 54%)\n",
            "  adding: content/output_mixed_confounded/gaussian_70_laplace_30/mixed_confounded_ts_n3000_vars6_lag2_series.png (deflated 3%)\n",
            "  adding: content/output_mixed_confounded/gaussian_70_laplace_30/mixed_confounded_ts_n500_vars6_lag4_sampling.png (deflated 27%)\n",
            "  adding: content/output_mixed_confounded/gaussian_70_laplace_30/mixed_confounded_ts_n1000_vars4_lag3.csv (deflated 53%)\n",
            "  adding: content/output_mixed_confounded/gaussian_70_laplace_30/mixed_confounded_ts_n3000_vars8_lag4_series.png (deflated 3%)\n",
            "  adding: content/output_mixed_confounded/gaussian_70_laplace_30/mixed_confounded_ts_n3000_vars4_lag3_sampling.png (deflated 25%)\n",
            "  adding: content/output_mixed_confounded/gaussian_70_laplace_30/mixed_confounded_ts_n500_vars4_lag4_graph.png (deflated 4%)\n",
            "  adding: content/output_mixed_confounded/gaussian_70_laplace_30/mixed_confounded_ts_n1000_vars6_lag3_series.png (deflated 2%)\n",
            "  adding: content/output_mixed_confounded/gaussian_70_laplace_30/mixed_confounded_ts_n1000_vars6_lag4_sampling.png (deflated 27%)\n",
            "  adding: content/output_mixed_confounded/gaussian_70_laplace_30/mixed_confounded_ts_n3000_vars4_lag4_series.png (deflated 3%)\n",
            "  adding: content/output_mixed_confounded/gaussian_70_laplace_30/mixed_confounded_ts_n5000_vars8_lag3_graph.png (deflated 4%)\n",
            "  adding: content/output_mixed_confounded/gaussian_70_laplace_30/mixed_confounded_ts_n5000_vars4_lag2_series.png (deflated 3%)\n",
            "  adding: content/output_mixed_confounded/gaussian_70_laplace_30/mixed_confounded_ts_n5000_vars6_lag2_structure.txt (deflated 54%)\n",
            "  adding: content/output_mixed_confounded/gaussian_70_laplace_30/mixed_confounded_ts_n5000_vars6_lag2_sampling.png (deflated 25%)\n",
            "  adding: content/output_mixed_confounded/gaussian_70_laplace_30/mixed_confounded_ts_n5000_vars8_lag2_series.png (deflated 3%)\n",
            "  adding: content/output_mixed_confounded/gaussian_70_laplace_30/mixed_confounded_ts_n5000_vars8_lag4_series.png (deflated 3%)\n",
            "  adding: content/output_mixed_confounded/gaussian_70_laplace_30/mixed_confounded_ts_n1000_vars6_lag2_graph.png (deflated 4%)\n",
            "  adding: content/output_mixed_confounded/gaussian_70_laplace_30/mixed_confounded_ts_n3000_vars8_lag2_sampling.png (deflated 25%)\n",
            "  adding: content/output_mixed_confounded/gaussian_70_laplace_30/mixed_confounded_ts_n1000_vars4_lag4_series.png (deflated 2%)\n",
            "  adding: content/output_mixed_confounded/gaussian_70_laplace_30/mixed_confounded_ts_n1000_vars6_lag4_series.png (deflated 2%)\n",
            "  adding: content/output_mixed_confounded/gaussian_70_laplace_30/mixed_confounded_ts_n1000_vars6_lag2_sampling.png (deflated 27%)\n",
            "  adding: content/output_mixed_confounded/gaussian_70_laplace_30/mixed_confounded_ts_n5000_vars4_lag2_graph.png (deflated 5%)\n",
            "  adding: content/output_mixed_confounded/gaussian_70_laplace_30/mixed_confounded_ts_n1000_vars4_lag4.csv (deflated 53%)\n",
            "  adding: content/output_mixed_confounded/gaussian_70_laplace_30/mixed_confounded_ts_n3000_vars8_lag3_sampling.png (deflated 25%)\n",
            "  adding: content/output_mixed_confounded/gaussian_70_laplace_30/mixed_confounded_ts_n500_vars4_lag4_structure.txt (deflated 48%)\n",
            "  adding: content/output_mixed_confounded/gaussian_70_laplace_30/mixed_confounded_ts_n3000_vars8_lag2_graph.png (deflated 4%)\n",
            "  adding: content/output_mixed_confounded/gaussian_70_laplace_30/mixed_confounded_ts_n3000_vars6_lag2_sampling.png (deflated 25%)\n",
            "  adding: content/output_mixed_confounded/gaussian_70_laplace_30/mixed_confounded_ts_n1000_vars8_lag2_sampling.png (deflated 27%)\n",
            "  adding: content/output_mixed_confounded/gaussian_70_laplace_30/mixed_confounded_ts_n500_vars4_lag3_series.png (deflated 2%)\n",
            "  adding: content/output_mixed_confounded/gaussian_70_laplace_30/mixed_confounded_ts_n3000_vars6_lag3.csv (deflated 54%)\n",
            "  adding: content/output_mixed_confounded/gaussian_70_laplace_30/mixed_confounded_ts_n500_vars6_lag3_series.png (deflated 2%)\n",
            "  adding: content/output_mixed_confounded/gaussian_70_laplace_30/mixed_confounded_ts_n3000_vars6_lag2_graph.png (deflated 4%)\n",
            "  adding: content/output_mixed_confounded/gaussian_70_laplace_30/mixed_confounded_ts_n500_vars6_lag4_graph.png (deflated 4%)\n",
            "  adding: content/output_mixed_confounded/gaussian_70_laplace_30/mixed_confounded_ts_n3000_vars6_lag3_graph.png (deflated 4%)\n",
            "  adding: content/output_mixed_confounded/gaussian_70_laplace_30/mixed_confounded_ts_n500_vars4_lag2_graph.png (deflated 5%)\n",
            "  adding: content/output_mixed_confounded/gaussian_70_laplace_30/mixed_confounded_ts_n5000_vars8_lag3_sampling.png (deflated 25%)\n",
            "  adding: content/output_mixed_confounded/gaussian_70_laplace_30/mixed_confounded_ts_n5000_vars6_lag2_series.png (deflated 4%)\n",
            "  adding: content/output_mixed_confounded/gaussian_70_laplace_30/mixed_confounded_ts_n1000_vars6_lag3_structure.txt (deflated 55%)\n",
            "  adding: content/output_mixed_confounded/gaussian_70_laplace_30/mixed_confounded_ts_n500_vars8_lag4_sampling.png (deflated 27%)\n",
            "  adding: content/output_mixed_confounded/gaussian_70_laplace_30/mixed_confounded_ts_n5000_vars4_lag3_series.png (deflated 3%)\n",
            "  adding: content/output_mixed_confounded/gaussian_70_laplace_30/mixed_confounded_ts_n3000_vars4_lag4_graph.png (deflated 4%)\n",
            "  adding: content/output_mixed_confounded/gaussian_70_laplace_30/mixed_confounded_ts_n500_vars6_lag2_sampling.png (deflated 27%)\n",
            "  adding: content/output_mixed_confounded/gaussian_70_laplace_30/mixed_confounded_ts_n5000_vars4_lag3.csv (deflated 54%)\n",
            "  adding: content/output_mixed_confounded/gaussian_70_laplace_30/mixed_confounded_ts_n500_vars4_lag3.csv (deflated 52%)\n",
            "  adding: content/output_mixed_confounded/gaussian_70_laplace_30/mixed_confounded_ts_n500_vars8_lag4_series.png (deflated 2%)\n",
            "  adding: content/output_mixed_confounded/gaussian_70_laplace_30/mixed_confounded_ts_n500_vars8_lag4_graph.png (deflated 5%)\n",
            "  adding: content/output_mixed_confounded/gaussian_70_laplace_30/mixed_confounded_ts_n5000_vars6_lag2.csv (deflated 54%)\n",
            "  adding: content/output_mixed_confounded/gaussian_70_laplace_30/mixed_confounded_ts_n5000_vars8_lag4.csv (deflated 55%)\n",
            "  adding: content/output_mixed_confounded/gaussian_70_laplace_30/mixed_confounded_ts_n500_vars4_lag4_sampling.png (deflated 27%)\n",
            "  adding: content/output_mixed_confounded/gaussian_70_laplace_30/mixed_confounded_ts_n1000_vars8_lag4.csv (deflated 54%)\n",
            "  adding: content/output_mixed_confounded/gaussian_70_laplace_30/mixed_confounded_ts_n3000_vars6_lag2_structure.txt (deflated 54%)\n",
            "  adding: content/output_mixed_confounded/gaussian_70_laplace_30/mixed_confounded_ts_n500_vars8_lag3_series.png (deflated 2%)\n",
            "  adding: content/output_mixed_confounded/gaussian_70_laplace_30/mixed_confounded_ts_n5000_vars6_lag4_structure.txt (deflated 55%)\n",
            "  adding: content/output_mixed_confounded/gaussian_70_laplace_30/mixed_confounded_ts_n5000_vars6_lag4_graph.png (deflated 4%)\n",
            "  adding: content/output_mixed_confounded/gaussian_70_laplace_30/mixed_confounded_ts_n5000_vars4_lag4_sampling.png (deflated 25%)\n",
            "  adding: content/output_mixed_confounded/gaussian_70_laplace_30/mixed_confounded_ts_n5000_vars6_lag3.csv (deflated 54%)\n",
            "  adding: content/output_mixed_confounded/gaussian_70_laplace_30/mixed_confounded_ts_n1000_vars4_lag2_sampling.png (deflated 27%)\n",
            "  adding: content/output_mixed_confounded/gaussian_70_laplace_30/mixed_confounded_ts_n1000_vars4_lag4_sampling.png (deflated 27%)\n",
            "  adding: content/output_mixed_confounded/gaussian_70_laplace_30/mixed_confounded_ts_n3000_vars8_lag3_series.png (deflated 3%)\n",
            "  adding: content/output_mixed_confounded/gaussian_70_laplace_30/mixed_confounded_ts_n5000_vars6_lag2_graph.png (deflated 4%)\n",
            "  adding: content/output_mixed_confounded/gaussian_70_laplace_30/mixed_confounded_ts_n1000_vars8_lag3_series.png (deflated 2%)\n",
            "  adding: content/output_mixed_confounded/gaussian_70_laplace_30/mixed_confounded_ts_n1000_vars4_lag3_sampling.png (deflated 27%)\n",
            "  adding: content/output_mixed_confounded/gaussian_70_laplace_30/mixed_confounded_ts_n3000_vars6_lag3_structure.txt (deflated 55%)\n",
            "  adding: content/output_mixed_confounded/gaussian_70_laplace_30/mixed_confounded_ts_n500_vars8_lag3_structure.txt (deflated 59%)\n",
            "  adding: content/output_mixed_confounded/gaussian_70_laplace_30/mixed_confounded_ts_n1000_vars6_lag4_structure.txt (deflated 55%)\n",
            "  adding: content/output_mixed_confounded/gaussian_70_laplace_30/mixed_confounded_ts_n1000_vars6_lag3.csv (deflated 54%)\n",
            "  adding: content/output_mixed_confounded/gaussian_70_laplace_30/mixed_confounded_ts_n500_vars8_lag2_structure.txt (deflated 58%)\n",
            "  adding: content/output_mixed_confounded/gaussian_70_laplace_30/mixed_confounded_ts_n3000_vars8_lag2.csv (deflated 54%)\n",
            "  adding: content/output_mixed_confounded/gaussian_70_laplace_30/mixed_confounded_ts_n3000_vars6_lag4.csv (deflated 54%)\n",
            "  adding: content/output_mixed_confounded/gaussian_70_laplace_30/mixed_confounded_ts_n1000_vars8_lag4_structure.txt (deflated 59%)\n",
            "  adding: content/output_mixed_confounded/gaussian_70_laplace_30/mixed_confounded_ts_n3000_vars8_lag4.csv (deflated 54%)\n",
            "  adding: content/output_mixed_confounded/gaussian_70_laplace_30/mixed_confounded_ts_n1000_vars8_lag3_structure.txt (deflated 59%)\n",
            "  adding: content/output_mixed_confounded/gaussian_50_laplace_50/ (stored 0%)\n",
            "  adding: content/output_mixed_confounded/gaussian_50_laplace_50/mixed_confounded_ts_n5000_vars4_lag2_structure.txt (deflated 47%)\n",
            "  adding: content/output_mixed_confounded/gaussian_50_laplace_50/mixed_confounded_ts_n3000_vars8_lag4_structure.txt (deflated 59%)\n",
            "  adding: content/output_mixed_confounded/gaussian_50_laplace_50/mixed_confounded_ts_n500_vars6_lag3_graph.png (deflated 4%)\n",
            "  adding: content/output_mixed_confounded/gaussian_50_laplace_50/mixed_confounded_ts_n3000_vars4_lag4_sampling.png (deflated 25%)\n",
            "  adding: content/output_mixed_confounded/gaussian_50_laplace_50/mixed_confounded_ts_n3000_vars4_lag3_series.png (deflated 3%)\n",
            "  adding: content/output_mixed_confounded/gaussian_50_laplace_50/mixed_confounded_ts_n500_vars4_lag2_series.png (deflated 2%)\n",
            "  adding: content/output_mixed_confounded/gaussian_50_laplace_50/mixed_confounded_ts_n3000_vars6_lag4_series.png (deflated 3%)\n",
            "  adding: content/output_mixed_confounded/gaussian_50_laplace_50/mixed_confounded_ts_n3000_vars4_lag3.csv (deflated 54%)\n",
            "  adding: content/output_mixed_confounded/gaussian_50_laplace_50/mixed_confounded_ts_n5000_vars4_lag3_sampling.png (deflated 25%)\n",
            "  adding: content/output_mixed_confounded/gaussian_50_laplace_50/mixed_confounded_ts_n5000_vars4_lag4_series.png (deflated 3%)\n",
            "  adding: content/output_mixed_confounded/gaussian_50_laplace_50/mixed_confounded_ts_n3000_vars4_lag2.csv (deflated 54%)\n",
            "  adding: content/output_mixed_confounded/gaussian_50_laplace_50/mixed_confounded_ts_n5000_vars8_lag3.csv (deflated 55%)\n",
            "  adding: content/output_mixed_confounded/gaussian_50_laplace_50/mixed_confounded_ts_n500_vars4_lag3_sampling.png (deflated 27%)\n",
            "  adding: content/output_mixed_confounded/gaussian_50_laplace_50/mixed_confounded_ts_n3000_vars8_lag3.csv (deflated 54%)\n",
            "  adding: content/output_mixed_confounded/gaussian_50_laplace_50/mixed_confounded_ts_n500_vars4_lag2_structure.txt (deflated 47%)\n",
            "  adding: content/output_mixed_confounded/gaussian_50_laplace_50/mixed_confounded_ts_n500_vars6_lag2_graph.png (deflated 4%)\n",
            "  adding: content/output_mixed_confounded/gaussian_50_laplace_50/mixed_confounded_ts_n1000_vars6_lag3_sampling.png (deflated 27%)\n",
            "  adding: content/output_mixed_confounded/gaussian_50_laplace_50/mixed_confounded_ts_n1000_vars8_lag3.csv (deflated 54%)\n",
            "  adding: content/output_mixed_confounded/gaussian_50_laplace_50/mixed_confounded_ts_n500_vars8_lag2_sampling.png (deflated 27%)\n",
            "  adding: content/output_mixed_confounded/gaussian_50_laplace_50/mixed_confounded_ts_n1000_vars6_lag4.csv (deflated 53%)\n",
            "  adding: content/output_mixed_confounded/gaussian_50_laplace_50/mixed_confounded_ts_n500_vars8_lag2.csv (deflated 53%)\n",
            "  adding: content/output_mixed_confounded/gaussian_50_laplace_50/mixed_confounded_ts_n500_vars4_lag4_series.png (deflated 2%)\n",
            "  adding: content/output_mixed_confounded/gaussian_50_laplace_50/mixed_confounded_ts_n5000_vars8_lag4_sampling.png (deflated 25%)\n",
            "  adding: content/output_mixed_confounded/gaussian_50_laplace_50/mixed_confounded_ts_n500_vars4_lag3_graph.png (deflated 4%)\n",
            "  adding: content/output_mixed_confounded/gaussian_50_laplace_50/mixed_confounded_ts_n5000_vars8_lag2_sampling.png (deflated 25%)\n",
            "  adding: content/output_mixed_confounded/gaussian_50_laplace_50/mixed_confounded_ts_n500_vars6_lag3_structure.txt (deflated 55%)\n",
            "  adding: content/output_mixed_confounded/gaussian_50_laplace_50/mixed_confounded_ts_n5000_vars4_lag3_graph.png (deflated 4%)\n",
            "  adding: content/output_mixed_confounded/gaussian_50_laplace_50/mixed_confounded_ts_n3000_vars8_lag3_structure.txt (deflated 59%)\n",
            "  adding: content/output_mixed_confounded/gaussian_50_laplace_50/mixed_confounded_ts_n500_vars8_lag4_structure.txt (deflated 59%)\n",
            "  adding: content/output_mixed_confounded/gaussian_50_laplace_50/mixed_confounded_ts_n5000_vars6_lag3_series.png (deflated 3%)\n",
            "  adding: content/output_mixed_confounded/gaussian_50_laplace_50/mixed_confounded_ts_n3000_vars8_lag2_series.png (deflated 3%)\n",
            "  adding: content/output_mixed_confounded/gaussian_50_laplace_50/mixed_confounded_ts_n3000_vars4_lag2_structure.txt (deflated 47%)\n",
            "  adding: content/output_mixed_confounded/gaussian_50_laplace_50/mixed_confounded_ts_n5000_vars6_lag4_series.png (deflated 3%)\n",
            "  adding: content/output_mixed_confounded/gaussian_50_laplace_50/mixed_confounded_ts_n5000_vars6_lag3_graph.png (deflated 4%)\n",
            "  adding: content/output_mixed_confounded/gaussian_50_laplace_50/mixed_confounded_ts_n500_vars4_lag2_sampling.png (deflated 27%)\n",
            "  adding: content/output_mixed_confounded/gaussian_50_laplace_50/mixed_confounded_ts_n3000_vars4_lag4.csv (deflated 54%)\n",
            "  adding: content/output_mixed_confounded/gaussian_50_laplace_50/mixed_confounded_ts_n500_vars6_lag4_series.png (deflated 2%)\n",
            "  adding: content/output_mixed_confounded/gaussian_50_laplace_50/mixed_confounded_ts_n1000_vars8_lag2.csv (deflated 54%)\n",
            "  adding: content/output_mixed_confounded/gaussian_50_laplace_50/mixed_confounded_ts_n1000_vars6_lag4_graph.png (deflated 4%)\n",
            "  adding: content/output_mixed_confounded/gaussian_50_laplace_50/mixed_confounded_ts_n5000_vars8_lag2.csv (deflated 55%)\n",
            "  adding: content/output_mixed_confounded/gaussian_50_laplace_50/mixed_confounded_ts_n5000_vars6_lag3_structure.txt (deflated 55%)\n",
            "  adding: content/output_mixed_confounded/gaussian_50_laplace_50/mixed_confounded_ts_n5000_vars8_lag3_structure.txt (deflated 59%)\n",
            "  adding: content/output_mixed_confounded/gaussian_50_laplace_50/mixed_confounded_ts_n5000_vars8_lag2_graph.png (deflated 5%)\n",
            "  adding: content/output_mixed_confounded/gaussian_50_laplace_50/mixed_confounded_ts_n3000_vars6_lag4_sampling.png (deflated 25%)\n",
            "  adding: content/output_mixed_confounded/gaussian_50_laplace_50/mixed_confounded_ts_n1000_vars4_lag4_structure.txt (deflated 48%)\n",
            "  adding: content/output_mixed_confounded/gaussian_50_laplace_50/mixed_confounded_ts_n1000_vars8_lag4_graph.png (deflated 4%)\n",
            "  adding: content/output_mixed_confounded/gaussian_50_laplace_50/mixed_confounded_ts_n500_vars6_lag2_series.png (deflated 2%)\n",
            "  adding: content/output_mixed_confounded/gaussian_50_laplace_50/mixed_confounded_ts_n1000_vars6_lag2.csv (deflated 53%)\n",
            "  adding: content/output_mixed_confounded/gaussian_50_laplace_50/mixed_confounded_ts_n3000_vars8_lag3_graph.png (deflated 4%)\n",
            "  adding: content/output_mixed_confounded/gaussian_50_laplace_50/mixed_confounded_ts_n1000_vars6_lag2_structure.txt (deflated 54%)\n",
            "  adding: content/output_mixed_confounded/gaussian_50_laplace_50/mixed_confounded_ts_n5000_vars6_lag3_sampling.png (deflated 25%)\n",
            "  adding: content/output_mixed_confounded/gaussian_50_laplace_50/mixed_confounded_ts_n3000_vars4_lag3_graph.png (deflated 4%)\n",
            "  adding: content/output_mixed_confounded/gaussian_50_laplace_50/mixed_confounded_ts_n5000_vars4_lag4_structure.txt (deflated 48%)\n",
            "  adding: content/output_mixed_confounded/gaussian_50_laplace_50/mixed_confounded_ts_n500_vars6_lag4.csv (deflated 53%)\n",
            "  adding: content/output_mixed_confounded/gaussian_50_laplace_50/mixed_confounded_ts_n3000_vars6_lag4_graph.png (deflated 4%)\n",
            "  adding: content/output_mixed_confounded/gaussian_50_laplace_50/mixed_confounded_ts_n1000_vars4_lag2_structure.txt (deflated 47%)\n",
            "  adding: content/output_mixed_confounded/gaussian_50_laplace_50/mixed_confounded_ts_n1000_vars4_lag3_series.png (deflated 2%)\n",
            "  adding: content/output_mixed_confounded/gaussian_50_laplace_50/mixed_confounded_ts_n5000_vars4_lag3_structure.txt (deflated 48%)\n",
            "  adding: content/output_mixed_confounded/gaussian_50_laplace_50/mixed_confounded_ts_n1000_vars8_lag4_series.png (deflated 2%)\n",
            "  adding: content/output_mixed_confounded/gaussian_50_laplace_50/mixed_confounded_ts_n3000_vars4_lag4_structure.txt (deflated 48%)\n",
            "  adding: content/output_mixed_confounded/gaussian_50_laplace_50/mixed_confounded_ts_n1000_vars4_lag3_structure.txt (deflated 48%)\n",
            "  adding: content/output_mixed_confounded/gaussian_50_laplace_50/mixed_confounded_ts_n5000_vars6_lag4_sampling.png (deflated 25%)\n",
            "  adding: content/output_mixed_confounded/gaussian_50_laplace_50/mixed_confounded_ts_n3000_vars4_lag2_sampling.png (deflated 25%)\n",
            "  adding: content/output_mixed_confounded/gaussian_50_laplace_50/mixed_confounded_ts_n500_vars4_lag2.csv (deflated 52%)\n",
            "  adding: content/output_mixed_confounded/gaussian_50_laplace_50/mixed_confounded_ts_n5000_vars8_lag2_structure.txt (deflated 58%)\n",
            "  adding: content/output_mixed_confounded/gaussian_50_laplace_50/mixed_confounded_ts_n1000_vars4_lag4_graph.png (deflated 4%)\n",
            "  adding: content/output_mixed_confounded/gaussian_50_laplace_50/mixed_confounded_ts_n1000_vars8_lag4_sampling.png (deflated 27%)\n",
            "  adding: content/output_mixed_confounded/gaussian_50_laplace_50/mixed_confounded_ts_n3000_vars6_lag3_sampling.png (deflated 25%)\n",
            "  adding: content/output_mixed_confounded/gaussian_50_laplace_50/mixed_confounded_ts_n1000_vars4_lag2_graph.png (deflated 5%)\n",
            "  adding: content/output_mixed_confounded/gaussian_50_laplace_50/mixed_confounded_ts_n1000_vars4_lag2.csv (deflated 53%)\n",
            "  adding: content/output_mixed_confounded/gaussian_50_laplace_50/mixed_confounded_ts_n3000_vars8_lag2_structure.txt (deflated 58%)\n",
            "  adding: content/output_mixed_confounded/gaussian_50_laplace_50/mixed_confounded_ts_n1000_vars8_lag2_series.png (deflated 2%)\n",
            "  adding: content/output_mixed_confounded/gaussian_50_laplace_50/mixed_confounded_ts_n500_vars8_lag3.csv (deflated 53%)\n",
            "  adding: content/output_mixed_confounded/gaussian_50_laplace_50/mixed_confounded_ts_n5000_vars4_lag2_sampling.png (deflated 25%)\n",
            "  adding: content/output_mixed_confounded/gaussian_50_laplace_50/mixed_confounded_ts_n500_vars6_lag4_structure.txt (deflated 55%)\n",
            "  adding: content/output_mixed_confounded/gaussian_50_laplace_50/mixed_confounded_ts_n1000_vars6_lag2_series.png (deflated 2%)\n",
            "  adding: content/output_mixed_confounded/gaussian_50_laplace_50/mixed_confounded_ts_n3000_vars8_lag4_graph.png (deflated 4%)\n",
            "  adding: content/output_mixed_confounded/gaussian_50_laplace_50/mixed_confounded_ts_n3000_vars6_lag4_structure.txt (deflated 55%)\n",
            "  adding: content/output_mixed_confounded/gaussian_50_laplace_50/mixed_confounded_ts_n1000_vars8_lag3_sampling.png (deflated 27%)\n",
            "  adding: content/output_mixed_confounded/gaussian_50_laplace_50/mixed_confounded_ts_n500_vars8_lag2_graph.png (deflated 4%)\n",
            "  adding: content/output_mixed_confounded/gaussian_50_laplace_50/mixed_confounded_ts_n5000_vars8_lag4_graph.png (deflated 4%)\n",
            "  adding: content/output_mixed_confounded/gaussian_50_laplace_50/mixed_confounded_ts_n3000_vars8_lag4_sampling.png (deflated 25%)\n",
            "  adding: content/output_mixed_confounded/gaussian_50_laplace_50/mixed_confounded_ts_n1000_vars4_lag3_graph.png (deflated 4%)\n",
            "  adding: content/output_mixed_confounded/gaussian_50_laplace_50/mixed_confounded_ts_n1000_vars8_lag2_graph.png (deflated 5%)\n",
            "  adding: content/output_mixed_confounded/gaussian_50_laplace_50/mixed_confounded_ts_n500_vars6_lag3.csv (deflated 53%)\n",
            "  adding: content/output_mixed_confounded/gaussian_50_laplace_50/mixed_confounded_ts_n1000_vars8_lag3_graph.png (deflated 4%)\n",
            "  adding: content/output_mixed_confounded/gaussian_50_laplace_50/mixed_confounded_ts_n5000_vars8_lag4_structure.txt (deflated 59%)\n",
            "  adding: content/output_mixed_confounded/gaussian_50_laplace_50/mixed_confounded_ts_n1000_vars8_lag2_structure.txt (deflated 58%)\n",
            "  adding: content/output_mixed_confounded/gaussian_50_laplace_50/mixed_confounded_ts_n500_vars6_lag3_sampling.png (deflated 27%)\n",
            "  adding: content/output_mixed_confounded/gaussian_50_laplace_50/mixed_confounded_ts_n5000_vars4_lag4_graph.png (deflated 4%)\n",
            "  adding: content/output_mixed_confounded/gaussian_50_laplace_50/mixed_confounded_ts_n500_vars8_lag4.csv (deflated 53%)\n",
            "  adding: content/output_mixed_confounded/gaussian_50_laplace_50/mixed_confounded_ts_n500_vars4_lag3_structure.txt (deflated 48%)\n",
            "  adding: content/output_mixed_confounded/gaussian_50_laplace_50/mixed_confounded_ts_n3000_vars4_lag3_structure.txt (deflated 48%)\n",
            "  adding: content/output_mixed_confounded/gaussian_50_laplace_50/mixed_confounded_ts_n3000_vars4_lag2_graph.png (deflated 5%)\n",
            "  adding: content/output_mixed_confounded/gaussian_50_laplace_50/mixed_confounded_ts_n1000_vars6_lag3_graph.png (deflated 4%)\n",
            "  adding: content/output_mixed_confounded/gaussian_50_laplace_50/mixed_confounded_ts_n5000_vars4_lag4.csv (deflated 54%)\n",
            "  adding: content/output_mixed_confounded/gaussian_50_laplace_50/mixed_confounded_ts_n1000_vars4_lag2_series.png (deflated 2%)\n",
            "  adding: content/output_mixed_confounded/gaussian_50_laplace_50/mixed_confounded_ts_n5000_vars8_lag3_series.png (deflated 3%)\n",
            "  adding: content/output_mixed_confounded/gaussian_50_laplace_50/mixed_confounded_ts_n500_vars8_lag2_series.png (deflated 2%)\n",
            "  adding: content/output_mixed_confounded/gaussian_50_laplace_50/mixed_confounded_ts_n3000_vars6_lag2.csv (deflated 54%)\n",
            "  adding: content/output_mixed_confounded/gaussian_50_laplace_50/mixed_confounded_ts_n5000_vars6_lag4.csv (deflated 54%)\n",
            "  adding: content/output_mixed_confounded/gaussian_50_laplace_50/mixed_confounded_ts_n500_vars8_lag3_graph.png (deflated 4%)\n",
            "  adding: content/output_mixed_confounded/gaussian_50_laplace_50/mixed_confounded_ts_n500_vars8_lag3_sampling.png (deflated 27%)\n",
            "  adding: content/output_mixed_confounded/gaussian_50_laplace_50/mixed_confounded_ts_n3000_vars4_lag2_series.png (deflated 3%)\n",
            "  adding: content/output_mixed_confounded/gaussian_50_laplace_50/mixed_confounded_ts_n500_vars6_lag2_structure.txt (deflated 54%)\n",
            "  adding: content/output_mixed_confounded/gaussian_50_laplace_50/mixed_confounded_ts_n500_vars4_lag4.csv (deflated 52%)\n",
            "  adding: content/output_mixed_confounded/gaussian_50_laplace_50/mixed_confounded_ts_n500_vars6_lag2.csv (deflated 53%)\n",
            "  adding: content/output_mixed_confounded/gaussian_50_laplace_50/mixed_confounded_ts_n3000_vars6_lag3_series.png (deflated 3%)\n",
            "  adding: content/output_mixed_confounded/gaussian_50_laplace_50/mixed_confounded_ts_n5000_vars4_lag2.csv (deflated 54%)\n",
            "  adding: content/output_mixed_confounded/gaussian_50_laplace_50/mixed_confounded_ts_n3000_vars6_lag2_series.png (deflated 3%)\n",
            "  adding: content/output_mixed_confounded/gaussian_50_laplace_50/mixed_confounded_ts_n500_vars6_lag4_sampling.png (deflated 27%)\n",
            "  adding: content/output_mixed_confounded/gaussian_50_laplace_50/mixed_confounded_ts_n1000_vars4_lag3.csv (deflated 53%)\n",
            "  adding: content/output_mixed_confounded/gaussian_50_laplace_50/mixed_confounded_ts_n3000_vars8_lag4_series.png (deflated 3%)\n",
            "  adding: content/output_mixed_confounded/gaussian_50_laplace_50/mixed_confounded_ts_n3000_vars4_lag3_sampling.png (deflated 25%)\n",
            "  adding: content/output_mixed_confounded/gaussian_50_laplace_50/mixed_confounded_ts_n500_vars4_lag4_graph.png (deflated 4%)\n",
            "  adding: content/output_mixed_confounded/gaussian_50_laplace_50/mixed_confounded_ts_n1000_vars6_lag3_series.png (deflated 2%)\n",
            "  adding: content/output_mixed_confounded/gaussian_50_laplace_50/mixed_confounded_ts_n1000_vars6_lag4_sampling.png (deflated 27%)\n",
            "  adding: content/output_mixed_confounded/gaussian_50_laplace_50/mixed_confounded_ts_n3000_vars4_lag4_series.png (deflated 3%)\n",
            "  adding: content/output_mixed_confounded/gaussian_50_laplace_50/mixed_confounded_ts_n5000_vars8_lag3_graph.png (deflated 4%)\n",
            "  adding: content/output_mixed_confounded/gaussian_50_laplace_50/mixed_confounded_ts_n5000_vars4_lag2_series.png (deflated 3%)\n",
            "  adding: content/output_mixed_confounded/gaussian_50_laplace_50/mixed_confounded_ts_n5000_vars6_lag2_structure.txt (deflated 54%)\n",
            "  adding: content/output_mixed_confounded/gaussian_50_laplace_50/mixed_confounded_ts_n5000_vars6_lag2_sampling.png (deflated 25%)\n",
            "  adding: content/output_mixed_confounded/gaussian_50_laplace_50/mixed_confounded_ts_n5000_vars8_lag2_series.png (deflated 3%)\n",
            "  adding: content/output_mixed_confounded/gaussian_50_laplace_50/mixed_confounded_ts_n5000_vars8_lag4_series.png (deflated 3%)\n",
            "  adding: content/output_mixed_confounded/gaussian_50_laplace_50/mixed_confounded_ts_n1000_vars6_lag2_graph.png (deflated 4%)\n",
            "  adding: content/output_mixed_confounded/gaussian_50_laplace_50/mixed_confounded_ts_n3000_vars8_lag2_sampling.png (deflated 25%)\n",
            "  adding: content/output_mixed_confounded/gaussian_50_laplace_50/mixed_confounded_ts_n1000_vars4_lag4_series.png (deflated 2%)\n",
            "  adding: content/output_mixed_confounded/gaussian_50_laplace_50/mixed_confounded_ts_n1000_vars6_lag4_series.png (deflated 2%)\n",
            "  adding: content/output_mixed_confounded/gaussian_50_laplace_50/mixed_confounded_ts_n1000_vars6_lag2_sampling.png (deflated 27%)\n",
            "  adding: content/output_mixed_confounded/gaussian_50_laplace_50/mixed_confounded_ts_n5000_vars4_lag2_graph.png (deflated 5%)\n",
            "  adding: content/output_mixed_confounded/gaussian_50_laplace_50/mixed_confounded_ts_n1000_vars4_lag4.csv (deflated 53%)\n",
            "  adding: content/output_mixed_confounded/gaussian_50_laplace_50/mixed_confounded_ts_n3000_vars8_lag3_sampling.png (deflated 25%)\n",
            "  adding: content/output_mixed_confounded/gaussian_50_laplace_50/mixed_confounded_ts_n500_vars4_lag4_structure.txt (deflated 48%)\n",
            "  adding: content/output_mixed_confounded/gaussian_50_laplace_50/mixed_confounded_ts_n3000_vars8_lag2_graph.png (deflated 4%)\n",
            "  adding: content/output_mixed_confounded/gaussian_50_laplace_50/mixed_confounded_ts_n3000_vars6_lag2_sampling.png (deflated 25%)\n",
            "  adding: content/output_mixed_confounded/gaussian_50_laplace_50/mixed_confounded_ts_n1000_vars8_lag2_sampling.png (deflated 27%)\n",
            "  adding: content/output_mixed_confounded/gaussian_50_laplace_50/mixed_confounded_ts_n500_vars4_lag3_series.png (deflated 2%)\n",
            "  adding: content/output_mixed_confounded/gaussian_50_laplace_50/mixed_confounded_ts_n3000_vars6_lag3.csv (deflated 54%)\n",
            "  adding: content/output_mixed_confounded/gaussian_50_laplace_50/mixed_confounded_ts_n500_vars6_lag3_series.png (deflated 2%)\n",
            "  adding: content/output_mixed_confounded/gaussian_50_laplace_50/mixed_confounded_ts_n3000_vars6_lag2_graph.png (deflated 4%)\n",
            "  adding: content/output_mixed_confounded/gaussian_50_laplace_50/mixed_confounded_ts_n500_vars6_lag4_graph.png (deflated 4%)\n",
            "  adding: content/output_mixed_confounded/gaussian_50_laplace_50/mixed_confounded_ts_n3000_vars6_lag3_graph.png (deflated 4%)\n",
            "  adding: content/output_mixed_confounded/gaussian_50_laplace_50/mixed_confounded_ts_n500_vars4_lag2_graph.png (deflated 5%)\n",
            "  adding: content/output_mixed_confounded/gaussian_50_laplace_50/mixed_confounded_ts_n5000_vars8_lag3_sampling.png (deflated 25%)\n",
            "  adding: content/output_mixed_confounded/gaussian_50_laplace_50/mixed_confounded_ts_n5000_vars6_lag2_series.png (deflated 3%)\n",
            "  adding: content/output_mixed_confounded/gaussian_50_laplace_50/mixed_confounded_ts_n1000_vars6_lag3_structure.txt (deflated 55%)\n",
            "  adding: content/output_mixed_confounded/gaussian_50_laplace_50/mixed_confounded_ts_n500_vars8_lag4_sampling.png (deflated 27%)\n",
            "  adding: content/output_mixed_confounded/gaussian_50_laplace_50/mixed_confounded_ts_n5000_vars4_lag3_series.png (deflated 3%)\n",
            "  adding: content/output_mixed_confounded/gaussian_50_laplace_50/mixed_confounded_ts_n3000_vars4_lag4_graph.png (deflated 4%)\n",
            "  adding: content/output_mixed_confounded/gaussian_50_laplace_50/mixed_confounded_ts_n500_vars6_lag2_sampling.png (deflated 27%)\n",
            "  adding: content/output_mixed_confounded/gaussian_50_laplace_50/mixed_confounded_ts_n5000_vars4_lag3.csv (deflated 54%)\n",
            "  adding: content/output_mixed_confounded/gaussian_50_laplace_50/mixed_confounded_ts_n500_vars4_lag3.csv (deflated 52%)\n",
            "  adding: content/output_mixed_confounded/gaussian_50_laplace_50/mixed_confounded_ts_n500_vars8_lag4_series.png (deflated 2%)\n",
            "  adding: content/output_mixed_confounded/gaussian_50_laplace_50/mixed_confounded_ts_n500_vars8_lag4_graph.png (deflated 4%)\n",
            "  adding: content/output_mixed_confounded/gaussian_50_laplace_50/mixed_confounded_ts_n5000_vars6_lag2.csv (deflated 54%)\n",
            "  adding: content/output_mixed_confounded/gaussian_50_laplace_50/mixed_confounded_ts_n5000_vars8_lag4.csv (deflated 55%)\n",
            "  adding: content/output_mixed_confounded/gaussian_50_laplace_50/mixed_confounded_ts_n500_vars4_lag4_sampling.png (deflated 27%)\n",
            "  adding: content/output_mixed_confounded/gaussian_50_laplace_50/mixed_confounded_ts_n1000_vars8_lag4.csv (deflated 54%)\n",
            "  adding: content/output_mixed_confounded/gaussian_50_laplace_50/mixed_confounded_ts_n3000_vars6_lag2_structure.txt (deflated 54%)\n",
            "  adding: content/output_mixed_confounded/gaussian_50_laplace_50/mixed_confounded_ts_n500_vars8_lag3_series.png (deflated 2%)\n",
            "  adding: content/output_mixed_confounded/gaussian_50_laplace_50/mixed_confounded_ts_n5000_vars6_lag4_structure.txt (deflated 55%)\n",
            "  adding: content/output_mixed_confounded/gaussian_50_laplace_50/mixed_confounded_ts_n5000_vars6_lag4_graph.png (deflated 4%)\n",
            "  adding: content/output_mixed_confounded/gaussian_50_laplace_50/mixed_confounded_ts_n5000_vars4_lag4_sampling.png (deflated 25%)\n",
            "  adding: content/output_mixed_confounded/gaussian_50_laplace_50/mixed_confounded_ts_n5000_vars6_lag3.csv (deflated 54%)\n",
            "  adding: content/output_mixed_confounded/gaussian_50_laplace_50/mixed_confounded_ts_n1000_vars4_lag2_sampling.png (deflated 27%)\n",
            "  adding: content/output_mixed_confounded/gaussian_50_laplace_50/mixed_confounded_ts_n1000_vars4_lag4_sampling.png (deflated 27%)\n",
            "  adding: content/output_mixed_confounded/gaussian_50_laplace_50/mixed_confounded_ts_n3000_vars8_lag3_series.png (deflated 3%)\n",
            "  adding: content/output_mixed_confounded/gaussian_50_laplace_50/mixed_confounded_ts_n5000_vars6_lag2_graph.png (deflated 4%)\n",
            "  adding: content/output_mixed_confounded/gaussian_50_laplace_50/mixed_confounded_ts_n1000_vars8_lag3_series.png (deflated 2%)\n",
            "  adding: content/output_mixed_confounded/gaussian_50_laplace_50/mixed_confounded_ts_n1000_vars4_lag3_sampling.png (deflated 27%)\n",
            "  adding: content/output_mixed_confounded/gaussian_50_laplace_50/mixed_confounded_ts_n3000_vars6_lag3_structure.txt (deflated 55%)\n",
            "  adding: content/output_mixed_confounded/gaussian_50_laplace_50/mixed_confounded_ts_n500_vars8_lag3_structure.txt (deflated 59%)\n",
            "  adding: content/output_mixed_confounded/gaussian_50_laplace_50/mixed_confounded_ts_n1000_vars6_lag4_structure.txt (deflated 55%)\n",
            "  adding: content/output_mixed_confounded/gaussian_50_laplace_50/mixed_confounded_ts_n1000_vars6_lag3.csv (deflated 53%)\n",
            "  adding: content/output_mixed_confounded/gaussian_50_laplace_50/mixed_confounded_ts_n500_vars8_lag2_structure.txt (deflated 58%)\n",
            "  adding: content/output_mixed_confounded/gaussian_50_laplace_50/mixed_confounded_ts_n3000_vars8_lag2.csv (deflated 54%)\n",
            "  adding: content/output_mixed_confounded/gaussian_50_laplace_50/mixed_confounded_ts_n3000_vars6_lag4.csv (deflated 54%)\n",
            "  adding: content/output_mixed_confounded/gaussian_50_laplace_50/mixed_confounded_ts_n1000_vars8_lag4_structure.txt (deflated 59%)\n",
            "  adding: content/output_mixed_confounded/gaussian_50_laplace_50/mixed_confounded_ts_n3000_vars8_lag4.csv (deflated 54%)\n",
            "  adding: content/output_mixed_confounded/gaussian_50_laplace_50/mixed_confounded_ts_n1000_vars8_lag3_structure.txt (deflated 59%)\n"
          ]
        }
      ]
    },
    {
      "cell_type": "code",
      "source": [
        "from google.colab import files\n",
        "files.download('/content/output_B2C.zip')"
      ],
      "metadata": {
        "colab": {
          "base_uri": "https://localhost:8080/",
          "height": 17
        },
        "id": "Jnr-R4oho0jX",
        "outputId": "0c39d3ca-d5c5-48af-faa1-f336814d6184"
      },
      "execution_count": 6,
      "outputs": [
        {
          "output_type": "display_data",
          "data": {
            "text/plain": [
              "<IPython.core.display.Javascript object>"
            ],
            "application/javascript": [
              "\n",
              "    async function download(id, filename, size) {\n",
              "      if (!google.colab.kernel.accessAllowed) {\n",
              "        return;\n",
              "      }\n",
              "      const div = document.createElement('div');\n",
              "      const label = document.createElement('label');\n",
              "      label.textContent = `Downloading \"${filename}\": `;\n",
              "      div.appendChild(label);\n",
              "      const progress = document.createElement('progress');\n",
              "      progress.max = size;\n",
              "      div.appendChild(progress);\n",
              "      document.body.appendChild(div);\n",
              "\n",
              "      const buffers = [];\n",
              "      let downloaded = 0;\n",
              "\n",
              "      const channel = await google.colab.kernel.comms.open(id);\n",
              "      // Send a message to notify the kernel that we're ready.\n",
              "      channel.send({})\n",
              "\n",
              "      for await (const message of channel.messages) {\n",
              "        // Send a message to notify the kernel that we're ready.\n",
              "        channel.send({})\n",
              "        if (message.buffers) {\n",
              "          for (const buffer of message.buffers) {\n",
              "            buffers.push(buffer);\n",
              "            downloaded += buffer.byteLength;\n",
              "            progress.value = downloaded;\n",
              "          }\n",
              "        }\n",
              "      }\n",
              "      const blob = new Blob(buffers, {type: 'application/binary'});\n",
              "      const a = document.createElement('a');\n",
              "      a.href = window.URL.createObjectURL(blob);\n",
              "      a.download = filename;\n",
              "      div.appendChild(a);\n",
              "      a.click();\n",
              "      div.remove();\n",
              "    }\n",
              "  "
            ]
          },
          "metadata": {}
        },
        {
          "output_type": "display_data",
          "data": {
            "text/plain": [
              "<IPython.core.display.Javascript object>"
            ],
            "application/javascript": [
              "download(\"download_c614337b-38f6-40b7-a08a-786f44ddcfee\", \"output_B2C.zip\", 55103380)"
            ]
          },
          "metadata": {}
        }
      ]
    }
  ]
}