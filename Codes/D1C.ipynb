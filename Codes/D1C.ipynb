{
  "nbformat": 4,
  "nbformat_minor": 0,
  "metadata": {
    "colab": {
      "provenance": []
    },
    "kernelspec": {
      "name": "python3",
      "display_name": "Python 3"
    },
    "language_info": {
      "name": "python"
    }
  },
  "cells": [
    {
      "cell_type": "code",
      "execution_count": 1,
      "metadata": {
        "colab": {
          "base_uri": "https://localhost:8080/"
        },
        "id": "mNgPytSK1cTd",
        "outputId": "3d55cf47-ca36-4af7-a77a-11d31101ecf1"
      },
      "outputs": [
        {
          "output_type": "stream",
          "name": "stdout",
          "text": [
            "Collecting tigramite\n",
            "  Downloading tigramite-5.2.7.0-py3-none-any.whl.metadata (11 kB)\n",
            "Requirement already satisfied: numpy>=1.18 in /usr/local/lib/python3.11/dist-packages (from tigramite) (1.26.4)\n",
            "Requirement already satisfied: scipy>=1.10.0 in /usr/local/lib/python3.11/dist-packages (from tigramite) (1.13.1)\n",
            "Requirement already satisfied: six in /usr/local/lib/python3.11/dist-packages (from tigramite) (1.17.0)\n",
            "Downloading tigramite-5.2.7.0-py3-none-any.whl (309 kB)\n",
            "\u001b[2K   \u001b[90m━━━━━━━━━━━━━━━━━━━━━━━━━━━━━━━━━━━━━━━━\u001b[0m \u001b[32m309.6/309.6 kB\u001b[0m \u001b[31m4.8 MB/s\u001b[0m eta \u001b[36m0:00:00\u001b[0m\n",
            "\u001b[?25hInstalling collected packages: tigramite\n",
            "Successfully installed tigramite-5.2.7.0\n"
          ]
        }
      ],
      "source": [
        "!pip install tigramite"
      ]
    },
    {
      "cell_type": "code",
      "source": [
        "import numpy as np\n",
        "import pandas as pd\n",
        "from tigramite import plotting as tp\n",
        "import matplotlib.pyplot as plt\n",
        "from pathlib import Path\n",
        "from scipy import stats"
      ],
      "metadata": {
        "id": "RveBCXlv1jfR"
      },
      "execution_count": 2,
      "outputs": []
    },
    {
      "cell_type": "code",
      "source": [
        "def get_linear_equations(n_vars, max_lag):\n",
        "    \"\"\"Get linear equations with confounder U (max 2 edges from U)\"\"\"\n",
        "    if n_vars == 4:\n",
        "        if max_lag == 2:\n",
        "            return [\n",
        "                \"X4[t] = 0.25 * X1[t-2] + e4\",\n",
        "                \"X3[t] = 0.35 * X4[t] + 0.3 * U[t] + e3\",\n",
        "                \"X2[t] = 0.3 * X3[t-1] + e2\",\n",
        "                \"X1[t] = 0.4 * X2[t] + 0.5 * U[t] + e1\",\n",
        "                \"U[t] = eU\"\n",
        "            ]\n",
        "        elif max_lag == 3:\n",
        "            return [\n",
        "                \"X4[t] = 0.25 * X1[t-2] + e4\",\n",
        "                \"X3[t] = 0.35 * X4[t] + 0.2 * X2[t-3] + 0.3 * U[t] + e3\",\n",
        "                \"X2[t] = 0.3 * X3[t-1] + e2\",\n",
        "                \"X1[t] = 0.4 * X2[t] + 0.5 * U[t] + e1\",\n",
        "                \"U[t] = eU\"\n",
        "            ]\n",
        "        elif max_lag == 4:\n",
        "            return [\n",
        "                \"X4[t] = 0.25 * X1[t-4] + e4\",\n",
        "                \"X3[t] = 0.35 * X4[t] + 0.2 * X2[t-3] + 0.3 * U[t] + e3\",\n",
        "                \"X2[t] = 0.3 * X3[t-1] + e2\",\n",
        "                \"X1[t] = 0.4 * X2[t] + 0.5 * U[t] + e1\",\n",
        "                \"U[t] = eU\"\n",
        "            ]\n",
        "    elif n_vars == 6:\n",
        "        if max_lag == 2:\n",
        "            return [\n",
        "                \"X6[t] = 0.85 * X5[t] + 0.4 * U[t] + e6\",\n",
        "                \"X5[t] = 0.4 * X4[t-1] + e5\",\n",
        "                \"X4[t] = 0.25 * X1[t-2] + 0.3 * X5[t-1] + e4\",\n",
        "                \"X3[t] = 0.35 * X4[t] + e3\",\n",
        "                \"X2[t] = 0.3 * X3[t-1] + e2\",\n",
        "                \"X1[t] = 0.4 * X2[t] + 0.5 * U[t] + e1\",\n",
        "                \"U[t] = eU\"\n",
        "            ]\n",
        "        elif max_lag == 3:\n",
        "            return [\n",
        "                \"X6[t] = 0.85 * X5[t] + 0.4 * U[t] + e6\",\n",
        "                \"X5[t] = 0.4 * X4[t-1] + e5\",\n",
        "                \"X4[t] = 0.25 * X1[t-2] + e4\",\n",
        "                \"X3[t] = 0.35 * X4[t] + 0.2 * X2[t-3] + e3\",\n",
        "                \"X2[t] = 0.3 * X3[t-1] + e2\",\n",
        "                \"X1[t] = 0.4 * X2[t] + 0.5 * U[t] + e1\",\n",
        "                \"U[t] = eU\"\n",
        "            ]\n",
        "        elif max_lag == 4:\n",
        "            return [\n",
        "                \"X6[t] = 0.85 * X5[t] + 0.4 * U[t] + e6\",\n",
        "                \"X5[t] = 0.4 * X4[t-1] + e5\",\n",
        "                \"X4[t] = 0.25 * X1[t-4] + e4\",\n",
        "                \"X3[t] = 0.35 * X4[t] + 0.2 * X2[t-3] + e3\",\n",
        "                \"X2[t] = 0.3 * X3[t-1] + e2\",\n",
        "                \"X1[t] = 0.4 * X2[t] + 0.5 * U[t] + e1\",\n",
        "                \"U[t] = eU\"\n",
        "            ]\n",
        "    elif n_vars == 8:\n",
        "        if max_lag == 2:\n",
        "            return [\n",
        "                \"X8[t] = 0.4 * X7[t] + 0.35 * U[t] + e8\",\n",
        "                \"X7[t] = 0.35 * X6[t-1] + e7\",\n",
        "                \"X6[t] = 0.45 * X5[t] + e6\",\n",
        "                \"X5[t] = 0.4 * X4[t-1] + e5\",\n",
        "                \"X4[t] = 0.25 * X1[t-2] + 0.3 * X5[t-1] + e4\",\n",
        "                \"X3[t] = 0.35 * X4[t] + e3\",\n",
        "                \"X2[t] = 0.3 * X3[t-1] + e2\",\n",
        "                \"X1[t] = 0.4 * X2[t] + 0.5 * U[t] + e1\",\n",
        "                \"U[t] = eU\"\n",
        "            ]\n",
        "        elif max_lag == 3:\n",
        "            return [\n",
        "                \"X8[t] = 0.4 * X7[t] + 0.35 * U[t] + e8\",\n",
        "                \"X7[t] = 0.35 * X6[t-1] + e7\",\n",
        "                \"X6[t] = 0.45 * X5[t] + e6\",\n",
        "                \"X5[t] = 0.4 * X4[t-1] + e5\",\n",
        "                \"X4[t] = 0.25 * X1[t-2] + e4\",\n",
        "                \"X3[t] = 0.35 * X4[t] + 0.2 * X2[t-3] + e3\",\n",
        "                \"X2[t] = 0.3 * X3[t-1] + e2\",\n",
        "                \"X1[t] = 0.4 * X2[t] + 0.5 * U[t] + e1\",\n",
        "                \"U[t] = eU\"\n",
        "            ]\n",
        "        elif max_lag == 4:\n",
        "            return [\n",
        "                \"X8[t] = 0.4 * X7[t] + 0.35 * U[t] + e8\",\n",
        "                \"X7[t] = 0.35 * X6[t-1] + e7\",\n",
        "                \"X6[t] = 0.45 * X5[t] + e6\",\n",
        "                \"X5[t] = 0.4 * X4[t-1] + e5\",\n",
        "                \"X4[t] = 0.25 * X1[t-4] + e4\",\n",
        "                \"X3[t] = 0.35 * X4[t] + 0.2 * X2[t-3] + e3\",\n",
        "                \"X2[t] = 0.3 * X3[t-1] + e2\",\n",
        "                \"X1[t] = 0.4 * X2[t] + 0.5 * U[t] + e1\",\n",
        "                \"U[t] = eU\"\n",
        "            ]\n",
        "    return []\n",
        "\n",
        "class LinearTimeSeriesGeneratorMCAR:\n",
        "    def __init__(self, noise_type='gaussian', noise_params={'scale': 0.1, 'df': 3},\n",
        "                 missing_rate=0.2, random_state=None):\n",
        "        self.noise_type = noise_type\n",
        "        self.noise_params = noise_params\n",
        "        self.missing_rate = missing_rate\n",
        "        self.random_state = random_state\n",
        "        if random_state is not None:\n",
        "            np.random.seed(random_state)\n",
        "\n",
        "    def generate_noise(self, size):\n",
        "        if self.noise_type == 'gaussian':\n",
        "            return np.random.normal(0, self.noise_params['scale'], size=size)\n",
        "        elif self.noise_type == 'student_t':\n",
        "            return stats.t.rvs(df=self.noise_params['df'],\n",
        "                             loc=0,\n",
        "                             scale=self.noise_params['scale'],\n",
        "                             size=size)\n",
        "\n",
        "    def generate_linear_equations(self, t, X, U, n_vars, max_lag):\n",
        "        \"\"\"Execute linear equations with confounder\"\"\"\n",
        "        noise = self.generate_noise(n_vars + 1)  # +1 for U\n",
        "        equations = get_linear_equations(n_vars, max_lag)\n",
        "        var_values = {}\n",
        "\n",
        "        # Generate U first (confounder)\n",
        "        U[t] = noise[-1]\n",
        "        var_values['U'] = U[t]\n",
        "\n",
        "        # First pass: process equations that don't depend on current time step values\n",
        "        for eq in equations:\n",
        "            if '=' not in eq or eq.startswith('U[t]'):\n",
        "                continue\n",
        "\n",
        "            left, right = eq.split('=')\n",
        "            var_name = left.split('[')[0]\n",
        "            var_idx = int(var_name[1:]) - 1\n",
        "\n",
        "            # Skip if equation depends on current time values\n",
        "            if any('t]' in term for term in right.split('+')):\n",
        "                continue\n",
        "\n",
        "            terms = [term.strip() for term in right.split('+')]\n",
        "            value = 0\n",
        "\n",
        "            for term in terms:\n",
        "                if term.startswith('e'):  # Noise term\n",
        "                    value += noise[var_idx]\n",
        "                else:\n",
        "                    coef = float(term.split('*')[0].strip())\n",
        "                    var = term.split('*')[1].strip()\n",
        "                    var_name = var.split('[')[0].strip()\n",
        "                    time_idx = var.split('[')[1].split(']')[0].strip()\n",
        "\n",
        "                    if var_name == 'U':\n",
        "                        value += coef * U[t]\n",
        "                    else:\n",
        "                        var_idx_source = int(var_name[1:]) - 1\n",
        "                        lag = int(time_idx.split('-')[1])\n",
        "                        value += coef * X[t-lag, var_idx_source]\n",
        "\n",
        "            X[t, var_idx] = value\n",
        "            var_values[var_name] = value\n",
        "\n",
        "        # Second pass: process equations that depend on current time step values\n",
        "        for eq in equations:\n",
        "            if '=' not in eq or eq.startswith('U[t]'):\n",
        "                continue\n",
        "\n",
        "            left, right = eq.split('=')\n",
        "            var_name = left.split('[')[0]\n",
        "            var_idx = int(var_name[1:]) - 1\n",
        "\n",
        "            # Skip if already processed\n",
        "            if var_name in var_values:\n",
        "                continue\n",
        "\n",
        "            terms = [term.strip() for term in right.split('+')]\n",
        "            value = 0\n",
        "\n",
        "            for term in terms:\n",
        "                if term.startswith('e'):  # Noise term\n",
        "                    value += noise[var_idx]\n",
        "                else:\n",
        "                    coef = float(term.split('*')[0].strip())\n",
        "                    var = term.split('*')[1].strip()\n",
        "                    var_name_source = var.split('[')[0].strip()\n",
        "                    time_idx = var.split('[')[1].split(']')[0].strip()\n",
        "\n",
        "                    if var_name_source == 'U':\n",
        "                        value += coef * U[t]\n",
        "                    else:\n",
        "                        var_idx_source = int(var_name_source[1:]) - 1\n",
        "                        if time_idx == 't':\n",
        "                            value += coef * var_values.get(var_name_source, X[t, var_idx_source])\n",
        "                        else:\n",
        "                            lag = int(time_idx.split('-')[1])\n",
        "                            value += coef * X[t-lag, var_idx_source]\n",
        "\n",
        "            X[t, var_idx] = value\n",
        "            var_values[var_name] = value\n",
        "\n",
        "    def apply_mcar(self, X):\n",
        "        \"\"\"Apply MCAR missing pattern to the observed variables (not U)\"\"\"\n",
        "        mask = np.random.random(X.shape) < self.missing_rate\n",
        "        X_missing = X.copy()\n",
        "        X_missing[mask] = np.nan\n",
        "        return X_missing\n",
        "\n",
        "    def generate_multivariate_ts(self, n_points, n_vars, max_lag):\n",
        "        \"\"\"Generate multivariate time series with MCAR missing data and confounder\"\"\"\n",
        "        # Initialize arrays\n",
        "        X = np.zeros((n_points, n_vars))\n",
        "        U = np.zeros(n_points)  # Array for confounder U\n",
        "\n",
        "        # Initialize first steps with noise\n",
        "        for i in range(max_lag):\n",
        "            X[i] = self.generate_noise(n_vars)\n",
        "            U[i] = self.generate_noise(1)[0]\n",
        "\n",
        "        # Generate time series\n",
        "        for t in range(max_lag, n_points):\n",
        "            self.generate_linear_equations(t, X, U, n_vars, max_lag)\n",
        "\n",
        "        # Apply MCAR missing pattern to observed variables\n",
        "        X_missing = self.apply_mcar(X)\n",
        "\n",
        "        # Create DataFrame including U (U is fully observed)\n",
        "        columns = [f'X{i+1}' for i in range(n_vars)]\n",
        "        df_missing = pd.DataFrame(X_missing, columns=columns)\n",
        "        df_missing['U'] = U\n",
        "        df_missing['time'] = np.arange(n_points)\n",
        "\n",
        "        # Create complete data DataFrame\n",
        "        df_complete = pd.DataFrame(X, columns=columns)\n",
        "        df_complete['U'] = U\n",
        "        df_complete['time'] = np.arange(n_points)\n",
        "\n",
        "        return df_missing, df_complete\n",
        "\n",
        "def extract_linear_links(equations):\n",
        "    \"\"\"Extract all linear causal links from the equations\"\"\"\n",
        "    links = {}\n",
        "\n",
        "    for eq in equations:\n",
        "        if '=' in eq:\n",
        "            left, right = [side.strip() for side in eq.split('=')]\n",
        "            target = left.split('[')[0]\n",
        "\n",
        "            if target != 'U':  # Skip U's equation\n",
        "                terms = [term.strip() for term in right.split('+')]\n",
        "                for term in terms:\n",
        "                    if '*' in term and ('X' in term or 'U' in term):\n",
        "                        parts = term.split('*')\n",
        "                        coeff = float(parts[0].strip())\n",
        "                        var_part = parts[1].strip()\n",
        "                        var = var_part.split('[')[0]\n",
        "                        lag_part = var_part.split('[')[1].split(']')[0]\n",
        "\n",
        "                        lag = 0 if lag_part == 't' else -int(lag_part.split('-')[1])\n",
        "                        links[(var, lag, target)] = coeff\n",
        "\n",
        "    return links\n",
        "\n",
        "def save_dataset_and_graph(df_missing, df_complete, n_vars, max_lag, sample_size,\n",
        "                         noise_type, missing_rate, output_dir=\"output_mcar_confounded\"):\n",
        "    \"\"\"Save dataset and create causal graph visualization\"\"\"\n",
        "    Path(output_dir).mkdir(parents=True, exist_ok=True)\n",
        "\n",
        "    base_filename = f'{output_dir}/linear_ts_n{sample_size}_vars{n_vars}_lag{max_lag}_{noise_type}_mcar{int(missing_rate*100)}'\n",
        "\n",
        "    # Save datasets (both missing and complete)\n",
        "    df_missing.to_csv(f'{base_filename}_missing.csv', index=False)\n",
        "    df_complete.to_csv(f'{base_filename}_complete.csv', index=False)\n",
        "\n",
        "    # Get equations and extract links\n",
        "    equations = get_linear_equations(n_vars, max_lag)\n",
        "    true_links = extract_linear_links(equations)\n",
        "\n",
        "    # Create matrices for tigramite plotting\n",
        "    var_names = [f'X{i+1}' for i in range(n_vars)] + ['U']\n",
        "    n_total_vars = n_vars + 1\n",
        "    val_matrix = np.zeros((n_total_vars, n_total_vars, max_lag + 1))\n",
        "    graph_matrix = np.zeros((n_total_vars, n_total_vars, max_lag + 1), dtype='bool')\n",
        "\n",
        "    # Fill matrices based on true links\n",
        "    for (source, lag, target), weight in true_links.items():\n",
        "        if source == 'U':\n",
        "            source_idx = n_vars\n",
        "        else:\n",
        "            source_idx = int(source[1:]) - 1\n",
        "\n",
        "        target_idx = int(target[1:]) - 1\n",
        "        lag_idx = abs(lag)\n",
        "\n",
        "        # Add the link to the matrices\n",
        "        val_matrix[source_idx, target_idx, lag_idx] = weight\n",
        "        graph_matrix[source_idx, target_idx, lag_idx] = True\n",
        "\n",
        "        # For contemporaneous links, make val_matrix symmetric\n",
        "        if lag == 0:\n",
        "            val_matrix[target_idx, source_idx, lag_idx] = weight\n",
        "\n",
        "    # Plot and save causal graph\n",
        "    plt.figure(figsize=(12, 12))\n",
        "    tp.plot_time_series_graph(\n",
        "        val_matrix=val_matrix,\n",
        "        graph=graph_matrix,\n",
        "        var_names=var_names,\n",
        "        link_colorbar_label='Linear Effect Strength',\n",
        "        node_size=0.05\n",
        "    )\n",
        "    plt.title(f'Linear Causal Graph with Confounder\\n(n={sample_size}, vars={n_vars}, lag={max_lag})\\n{noise_type}, MCAR {int(missing_rate*100)}%')\n",
        "    plt.savefig(f'{base_filename}_graph.png')\n",
        "    plt.close()\n",
        "\n",
        "    # Plot time series with missing data\n",
        "    plt.figure(figsize=(15, 10))\n",
        "\n",
        "    # Plot observed variables\n",
        "    for col in df_missing.columns[:-2]:  # Exclude U and time\n",
        "        # Plot complete data as solid line\n",
        "        plt.plot(df_complete['time'], df_complete[col],\n",
        "                label=f'{col} (complete)', alpha=0.3)\n",
        "        # Plot available data points as scatter\n",
        "        mask = ~df_missing[col].isna()\n",
        "        plt.scatter(df_missing.loc[mask, 'time'],\n",
        "                   df_missing.loc[mask, col],\n",
        "                   label=f'{col} (observed)', alpha=0.7, s=20)\n",
        "\n",
        "    # Plot confounder U (always fully observed)\n",
        "    plt.plot(df_missing['time'], df_missing['U'],\n",
        "            label='U (confounder)', linestyle='--', alpha=0.7)\n",
        "\n",
        "    plt.title(f'Time Series with MCAR {int(missing_rate*100)}% Missing Data\\n(n={sample_size}, vars={n_vars}, lag={max_lag})')\n",
        "    plt.xlabel('Time')\n",
        "    plt.ylabel('Value')\n",
        "    plt.legend()\n",
        "    plt.grid(True)\n",
        "    plt.savefig(f'{base_filename}_series.png')\n",
        "    plt.close()\n",
        "\n",
        "    # Save missing data pattern visualization\n",
        "    plt.figure(figsize=(15, 5))\n",
        "    missing_matrix = df_missing.drop(['time', 'U'], axis=1).isna()\n",
        "    plt.imshow(missing_matrix.T, aspect='auto', cmap='binary')\n",
        "    plt.title(f'Missing Data Pattern (black = missing)\\nMCAR {int(missing_rate*100)}%')\n",
        "    plt.xlabel('Time')\n",
        "    plt.ylabel('Variable')\n",
        "    plt.yticks(range(n_vars), [f'X{i+1}' for i in range(n_vars)])\n",
        "    plt.colorbar(label='Missing')\n",
        "    plt.savefig(f'{base_filename}_missing_pattern.png')\n",
        "    plt.close()\n",
        "\n",
        "    # Save causal structure description\n",
        "    with open(f'{base_filename}_structure.txt', 'w') as f:\n",
        "        f.write(f\"True Linear Causal Structure with Confounder ({noise_type}, MCAR {int(missing_rate*100)}%):\\n\")\n",
        "        f.write(\"Format: (source, lag, target) => coefficient\\n\")\n",
        "        f.write(\"\\nEquations:\\n\")\n",
        "        for eq in equations:\n",
        "            f.write(f\"{eq}\\n\")\n",
        "        f.write(\"\\nCausal Links:\\n\")\n",
        "        for (source, lag, target), coef in true_links.items():\n",
        "            f.write(f\"({source}, {lag}, {target}) => {coef}\\n\")\n",
        "\n",
        "def analyze_mcar_confounded_data(df_missing, df_complete, title=\"Linear Time Series Analysis with MCAR and Confounder\"):\n",
        "    \"\"\"Analyze and plot the time series data with MCAR missing values and confounder\"\"\"\n",
        "    print(f\"\\nAnalyzing {title}\")\n",
        "    print(\"=\" * 50)\n",
        "\n",
        "    # Basic statistics\n",
        "    n_total = df_missing.drop(['time', 'U'], axis=1).size\n",
        "    n_missing = df_missing.drop(['time', 'U'], axis=1).isna().sum().sum()\n",
        "    missing_rate = n_missing / n_total\n",
        "\n",
        "    print(f\"\\nMissing Data Summary:\")\n",
        "    print(f\"Total values: {n_total}\")\n",
        "    print(f\"Missing values: {n_missing}\")\n",
        "    print(f\"Missing rate: {missing_rate:.2%}\")\n",
        "\n",
        "    # Missing pattern by variable\n",
        "    print(\"\\nMissing Data by Variable:\")\n",
        "    missing_by_var = df_missing.drop(['time', 'U'], axis=1).isna().sum()\n",
        "    print(missing_by_var)\n",
        "\n",
        "    # Statistical comparison between complete and observed data\n",
        "    print(\"\\nStatistical Comparison (Complete vs. Observed):\")\n",
        "    for col in df_missing.columns[:-2]:  # Exclude U and time\n",
        "        complete_stats = df_complete[col]\n",
        "        observed_stats = df_missing[col].dropna()\n",
        "\n",
        "        print(f\"\\n{col}:\")\n",
        "        print(f\"Complete  - Mean: {np.mean(complete_stats):.3f}, Std: {np.std(complete_stats):.3f}\")\n",
        "        print(f\"Observed - Mean: {np.mean(observed_stats):.3f}, Std: {np.std(observed_stats):.3f}\")\n",
        "\n",
        "    # Confounder analysis\n",
        "    print(\"\\nConfounder (U) Analysis:\")\n",
        "    print(f\"U - Mean: {np.mean(df_missing['U']):.3f}, Std: {np.std(df_missing['U']):.3f}\")\n",
        "    print(\"\\nCorrelations with U:\")\n",
        "    correlations = df_missing.drop('time', axis=1).corr()['U'].sort_values(ascending=False)\n",
        "    print(correlations)\n",
        "\n",
        "def generate_all_combinations():\n",
        "    \"\"\"Generate datasets for all combinations\"\"\"\n",
        "    sample_sizes = [500, 1000, 3000, 5000]\n",
        "    n_vars_list = [4, 6, 8]\n",
        "    max_lags = [2, 3, 4]\n",
        "    noise_types = ['gaussian', 'student_t']\n",
        "    missing_rates = [0.1, 0.2, 0.3]\n",
        "\n",
        "    for n in sample_sizes:\n",
        "        for vars in n_vars_list:\n",
        "            for lag in max_lags:\n",
        "                for noise_type in noise_types:\n",
        "                    for rate in missing_rates:\n",
        "                        print(f\"\\nGenerating dataset: n={n}, vars={vars}, lag={lag}, \"\n",
        "                              f\"noise={noise_type}, missing={rate:.0%}\")\n",
        "\n",
        "                        noise_params = {'scale': 0.1, 'df': 3} if noise_type == 'student_t' else {'scale': 0.1}\n",
        "                        generator = LinearTimeSeriesGeneratorMCAR(\n",
        "                            noise_type=noise_type,\n",
        "                            noise_params=noise_params,\n",
        "                            missing_rate=rate,\n",
        "                            random_state=42\n",
        "                        )\n",
        "\n",
        "                        df_missing, df_complete = generator.generate_multivariate_ts(\n",
        "                            n_points=n,\n",
        "                            n_vars=vars,\n",
        "                            max_lag=lag\n",
        "                        )\n",
        "\n",
        "                        save_dataset_and_graph(\n",
        "                            df_missing=df_missing,\n",
        "                            df_complete=df_complete,\n",
        "                            n_vars=vars,\n",
        "                            max_lag=lag,\n",
        "                            sample_size=n,\n",
        "                            noise_type=noise_type,\n",
        "                            missing_rate=rate\n",
        "                        )\n",
        "                        print(\"Dataset and visualizations saved successfully\")\n",
        "\n",
        "if __name__ == \"__main__\":\n",
        "    print(\"Generating linear time series with MCAR missing data and confounder...\")\n",
        "\n",
        "    # # Example case for testing\n",
        "    # n_points = 1000\n",
        "    # n_vars = 4\n",
        "    # max_lag = 2\n",
        "    # missing_rate = 0.2\n",
        "\n",
        "    # # Generate example with Gaussian noise\n",
        "    # generator = LinearTimeSeriesGeneratorMCAR(\n",
        "    #     noise_type='gaussian',\n",
        "    #     noise_params={'scale': 0.1},\n",
        "    #     missing_rate=missing_rate,\n",
        "    #     random_state=42\n",
        "    # )\n",
        "\n",
        "    # df_missing, df_complete = generator.generate_multivariate_ts(\n",
        "    #     n_points=n_points,\n",
        "    #     n_vars=n_vars,\n",
        "    #     max_lag=max_lag\n",
        "    # )\n",
        "\n",
        "    # # Save and analyze example case\n",
        "    # save_dataset_and_graph(\n",
        "    #     df_missing=df_missing,\n",
        "    #     df_complete=df_complete,\n",
        "    #     n_vars=n_vars,\n",
        "    #     max_lag=max_lag,\n",
        "    #     sample_size=n_points,\n",
        "    #     noise_type='gaussian',\n",
        "    #     missing_rate=missing_rate\n",
        "    # )\n",
        "\n",
        "    # analyze_mcar_confounded_data(df_missing, df_complete, \"Gaussian Example with MCAR and Confounder\")\n",
        "\n",
        "    # Generate all combinations\n",
        "    # Uncomment the following line to generate all combinations\n",
        "    generate_all_combinations()"
      ],
      "metadata": {
        "colab": {
          "base_uri": "https://localhost:8080/",
          "height": 1000
        },
        "id": "8e128ThS1jx_",
        "outputId": "263dcd26-4d2b-447f-a079-9d326912b192"
      },
      "execution_count": 3,
      "outputs": [
        {
          "output_type": "stream",
          "name": "stdout",
          "text": [
            "Generating linear time series with MCAR missing data and confounder...\n",
            "\n",
            "Generating dataset: n=500, vars=4, lag=2, noise=gaussian, missing=10%\n",
            "Dataset and visualizations saved successfully\n",
            "\n",
            "Generating dataset: n=500, vars=4, lag=2, noise=gaussian, missing=20%\n",
            "Dataset and visualizations saved successfully\n",
            "\n",
            "Generating dataset: n=500, vars=4, lag=2, noise=gaussian, missing=30%\n",
            "Dataset and visualizations saved successfully\n",
            "\n",
            "Generating dataset: n=500, vars=4, lag=2, noise=student_t, missing=10%\n",
            "Dataset and visualizations saved successfully\n",
            "\n",
            "Generating dataset: n=500, vars=4, lag=2, noise=student_t, missing=20%\n",
            "Dataset and visualizations saved successfully\n",
            "\n",
            "Generating dataset: n=500, vars=4, lag=2, noise=student_t, missing=30%\n",
            "Dataset and visualizations saved successfully\n",
            "\n",
            "Generating dataset: n=500, vars=4, lag=3, noise=gaussian, missing=10%\n",
            "Dataset and visualizations saved successfully\n",
            "\n",
            "Generating dataset: n=500, vars=4, lag=3, noise=gaussian, missing=20%\n",
            "Dataset and visualizations saved successfully\n",
            "\n",
            "Generating dataset: n=500, vars=4, lag=3, noise=gaussian, missing=30%\n",
            "Dataset and visualizations saved successfully\n",
            "\n",
            "Generating dataset: n=500, vars=4, lag=3, noise=student_t, missing=10%\n",
            "Dataset and visualizations saved successfully\n",
            "\n",
            "Generating dataset: n=500, vars=4, lag=3, noise=student_t, missing=20%\n",
            "Dataset and visualizations saved successfully\n",
            "\n",
            "Generating dataset: n=500, vars=4, lag=3, noise=student_t, missing=30%\n",
            "Dataset and visualizations saved successfully\n",
            "\n",
            "Generating dataset: n=500, vars=4, lag=4, noise=gaussian, missing=10%\n",
            "Dataset and visualizations saved successfully\n",
            "\n",
            "Generating dataset: n=500, vars=4, lag=4, noise=gaussian, missing=20%\n",
            "Dataset and visualizations saved successfully\n",
            "\n",
            "Generating dataset: n=500, vars=4, lag=4, noise=gaussian, missing=30%\n",
            "Dataset and visualizations saved successfully\n",
            "\n",
            "Generating dataset: n=500, vars=4, lag=4, noise=student_t, missing=10%\n",
            "Dataset and visualizations saved successfully\n",
            "\n",
            "Generating dataset: n=500, vars=4, lag=4, noise=student_t, missing=20%\n",
            "Dataset and visualizations saved successfully\n",
            "\n",
            "Generating dataset: n=500, vars=4, lag=4, noise=student_t, missing=30%\n",
            "Dataset and visualizations saved successfully\n",
            "\n",
            "Generating dataset: n=500, vars=6, lag=2, noise=gaussian, missing=10%\n",
            "Dataset and visualizations saved successfully\n",
            "\n",
            "Generating dataset: n=500, vars=6, lag=2, noise=gaussian, missing=20%\n"
          ]
        },
        {
          "output_type": "stream",
          "name": "stderr",
          "text": [
            "/usr/local/lib/python3.11/dist-packages/tigramite/plotting.py:3203: RuntimeWarning: More than 20 figures have been opened. Figures created through the pyplot interface (`matplotlib.pyplot.figure`) are retained until explicitly closed and may consume too much memory. (To control this warning, see the rcParam `figure.max_open_warning`). Consider using `matplotlib.pyplot.close()`.\n",
            "  fig = pyplot.figure(figsize=figsize)\n",
            "<ipython-input-3-22921fc33825>:315: RuntimeWarning: More than 20 figures have been opened. Figures created through the pyplot interface (`matplotlib.pyplot.figure`) are retained until explicitly closed and may consume too much memory. (To control this warning, see the rcParam `figure.max_open_warning`). Consider using `matplotlib.pyplot.close()`.\n",
            "  plt.figure(figsize=(15, 10))\n",
            "<ipython-input-3-22921fc33825>:341: RuntimeWarning: More than 20 figures have been opened. Figures created through the pyplot interface (`matplotlib.pyplot.figure`) are retained until explicitly closed and may consume too much memory. (To control this warning, see the rcParam `figure.max_open_warning`). Consider using `matplotlib.pyplot.close()`.\n",
            "  plt.figure(figsize=(15, 5))\n"
          ]
        },
        {
          "output_type": "stream",
          "name": "stdout",
          "text": [
            "Dataset and visualizations saved successfully\n",
            "\n",
            "Generating dataset: n=500, vars=6, lag=2, noise=gaussian, missing=30%\n"
          ]
        },
        {
          "output_type": "stream",
          "name": "stderr",
          "text": [
            "<ipython-input-3-22921fc33825>:302: RuntimeWarning: More than 20 figures have been opened. Figures created through the pyplot interface (`matplotlib.pyplot.figure`) are retained until explicitly closed and may consume too much memory. (To control this warning, see the rcParam `figure.max_open_warning`). Consider using `matplotlib.pyplot.close()`.\n",
            "  plt.figure(figsize=(12, 12))\n"
          ]
        },
        {
          "output_type": "stream",
          "name": "stdout",
          "text": [
            "Dataset and visualizations saved successfully\n",
            "\n",
            "Generating dataset: n=500, vars=6, lag=2, noise=student_t, missing=10%\n",
            "Dataset and visualizations saved successfully\n",
            "\n",
            "Generating dataset: n=500, vars=6, lag=2, noise=student_t, missing=20%\n",
            "Dataset and visualizations saved successfully\n",
            "\n",
            "Generating dataset: n=500, vars=6, lag=2, noise=student_t, missing=30%\n",
            "Dataset and visualizations saved successfully\n",
            "\n",
            "Generating dataset: n=500, vars=6, lag=3, noise=gaussian, missing=10%\n",
            "Dataset and visualizations saved successfully\n",
            "\n",
            "Generating dataset: n=500, vars=6, lag=3, noise=gaussian, missing=20%\n",
            "Dataset and visualizations saved successfully\n",
            "\n",
            "Generating dataset: n=500, vars=6, lag=3, noise=gaussian, missing=30%\n",
            "Dataset and visualizations saved successfully\n",
            "\n",
            "Generating dataset: n=500, vars=6, lag=3, noise=student_t, missing=10%\n",
            "Dataset and visualizations saved successfully\n",
            "\n",
            "Generating dataset: n=500, vars=6, lag=3, noise=student_t, missing=20%\n",
            "Dataset and visualizations saved successfully\n",
            "\n",
            "Generating dataset: n=500, vars=6, lag=3, noise=student_t, missing=30%\n",
            "Dataset and visualizations saved successfully\n",
            "\n",
            "Generating dataset: n=500, vars=6, lag=4, noise=gaussian, missing=10%\n",
            "Dataset and visualizations saved successfully\n",
            "\n",
            "Generating dataset: n=500, vars=6, lag=4, noise=gaussian, missing=20%\n",
            "Dataset and visualizations saved successfully\n",
            "\n",
            "Generating dataset: n=500, vars=6, lag=4, noise=gaussian, missing=30%\n",
            "Dataset and visualizations saved successfully\n",
            "\n",
            "Generating dataset: n=500, vars=6, lag=4, noise=student_t, missing=10%\n",
            "Dataset and visualizations saved successfully\n",
            "\n",
            "Generating dataset: n=500, vars=6, lag=4, noise=student_t, missing=20%\n",
            "Dataset and visualizations saved successfully\n",
            "\n",
            "Generating dataset: n=500, vars=6, lag=4, noise=student_t, missing=30%\n",
            "Dataset and visualizations saved successfully\n",
            "\n",
            "Generating dataset: n=500, vars=8, lag=2, noise=gaussian, missing=10%\n",
            "Dataset and visualizations saved successfully\n",
            "\n",
            "Generating dataset: n=500, vars=8, lag=2, noise=gaussian, missing=20%\n",
            "Dataset and visualizations saved successfully\n",
            "\n",
            "Generating dataset: n=500, vars=8, lag=2, noise=gaussian, missing=30%\n",
            "Dataset and visualizations saved successfully\n",
            "\n",
            "Generating dataset: n=500, vars=8, lag=2, noise=student_t, missing=10%\n",
            "Dataset and visualizations saved successfully\n",
            "\n",
            "Generating dataset: n=500, vars=8, lag=2, noise=student_t, missing=20%\n",
            "Dataset and visualizations saved successfully\n",
            "\n",
            "Generating dataset: n=500, vars=8, lag=2, noise=student_t, missing=30%\n",
            "Dataset and visualizations saved successfully\n",
            "\n",
            "Generating dataset: n=500, vars=8, lag=3, noise=gaussian, missing=10%\n",
            "Dataset and visualizations saved successfully\n",
            "\n",
            "Generating dataset: n=500, vars=8, lag=3, noise=gaussian, missing=20%\n",
            "Dataset and visualizations saved successfully\n",
            "\n",
            "Generating dataset: n=500, vars=8, lag=3, noise=gaussian, missing=30%\n",
            "Dataset and visualizations saved successfully\n",
            "\n",
            "Generating dataset: n=500, vars=8, lag=3, noise=student_t, missing=10%\n",
            "Dataset and visualizations saved successfully\n",
            "\n",
            "Generating dataset: n=500, vars=8, lag=3, noise=student_t, missing=20%\n",
            "Dataset and visualizations saved successfully\n",
            "\n",
            "Generating dataset: n=500, vars=8, lag=3, noise=student_t, missing=30%\n",
            "Dataset and visualizations saved successfully\n",
            "\n",
            "Generating dataset: n=500, vars=8, lag=4, noise=gaussian, missing=10%\n",
            "Dataset and visualizations saved successfully\n",
            "\n",
            "Generating dataset: n=500, vars=8, lag=4, noise=gaussian, missing=20%\n",
            "Dataset and visualizations saved successfully\n",
            "\n",
            "Generating dataset: n=500, vars=8, lag=4, noise=gaussian, missing=30%\n",
            "Dataset and visualizations saved successfully\n",
            "\n",
            "Generating dataset: n=500, vars=8, lag=4, noise=student_t, missing=10%\n",
            "Dataset and visualizations saved successfully\n",
            "\n",
            "Generating dataset: n=500, vars=8, lag=4, noise=student_t, missing=20%\n",
            "Dataset and visualizations saved successfully\n",
            "\n",
            "Generating dataset: n=500, vars=8, lag=4, noise=student_t, missing=30%\n",
            "Dataset and visualizations saved successfully\n",
            "\n",
            "Generating dataset: n=1000, vars=4, lag=2, noise=gaussian, missing=10%\n",
            "Dataset and visualizations saved successfully\n",
            "\n",
            "Generating dataset: n=1000, vars=4, lag=2, noise=gaussian, missing=20%\n",
            "Dataset and visualizations saved successfully\n",
            "\n",
            "Generating dataset: n=1000, vars=4, lag=2, noise=gaussian, missing=30%\n",
            "Dataset and visualizations saved successfully\n",
            "\n",
            "Generating dataset: n=1000, vars=4, lag=2, noise=student_t, missing=10%\n",
            "Dataset and visualizations saved successfully\n",
            "\n",
            "Generating dataset: n=1000, vars=4, lag=2, noise=student_t, missing=20%\n",
            "Dataset and visualizations saved successfully\n",
            "\n",
            "Generating dataset: n=1000, vars=4, lag=2, noise=student_t, missing=30%\n",
            "Dataset and visualizations saved successfully\n",
            "\n",
            "Generating dataset: n=1000, vars=4, lag=3, noise=gaussian, missing=10%\n",
            "Dataset and visualizations saved successfully\n",
            "\n",
            "Generating dataset: n=1000, vars=4, lag=3, noise=gaussian, missing=20%\n",
            "Dataset and visualizations saved successfully\n",
            "\n",
            "Generating dataset: n=1000, vars=4, lag=3, noise=gaussian, missing=30%\n",
            "Dataset and visualizations saved successfully\n",
            "\n",
            "Generating dataset: n=1000, vars=4, lag=3, noise=student_t, missing=10%\n",
            "Dataset and visualizations saved successfully\n",
            "\n",
            "Generating dataset: n=1000, vars=4, lag=3, noise=student_t, missing=20%\n",
            "Dataset and visualizations saved successfully\n",
            "\n",
            "Generating dataset: n=1000, vars=4, lag=3, noise=student_t, missing=30%\n",
            "Dataset and visualizations saved successfully\n",
            "\n",
            "Generating dataset: n=1000, vars=4, lag=4, noise=gaussian, missing=10%\n",
            "Dataset and visualizations saved successfully\n",
            "\n",
            "Generating dataset: n=1000, vars=4, lag=4, noise=gaussian, missing=20%\n",
            "Dataset and visualizations saved successfully\n",
            "\n",
            "Generating dataset: n=1000, vars=4, lag=4, noise=gaussian, missing=30%\n",
            "Dataset and visualizations saved successfully\n",
            "\n",
            "Generating dataset: n=1000, vars=4, lag=4, noise=student_t, missing=10%\n",
            "Dataset and visualizations saved successfully\n",
            "\n",
            "Generating dataset: n=1000, vars=4, lag=4, noise=student_t, missing=20%\n",
            "Dataset and visualizations saved successfully\n",
            "\n",
            "Generating dataset: n=1000, vars=4, lag=4, noise=student_t, missing=30%\n",
            "Dataset and visualizations saved successfully\n",
            "\n",
            "Generating dataset: n=1000, vars=6, lag=2, noise=gaussian, missing=10%\n",
            "Dataset and visualizations saved successfully\n",
            "\n",
            "Generating dataset: n=1000, vars=6, lag=2, noise=gaussian, missing=20%\n",
            "Dataset and visualizations saved successfully\n",
            "\n",
            "Generating dataset: n=1000, vars=6, lag=2, noise=gaussian, missing=30%\n",
            "Dataset and visualizations saved successfully\n",
            "\n",
            "Generating dataset: n=1000, vars=6, lag=2, noise=student_t, missing=10%\n",
            "Dataset and visualizations saved successfully\n",
            "\n",
            "Generating dataset: n=1000, vars=6, lag=2, noise=student_t, missing=20%\n",
            "Dataset and visualizations saved successfully\n",
            "\n",
            "Generating dataset: n=1000, vars=6, lag=2, noise=student_t, missing=30%\n",
            "Dataset and visualizations saved successfully\n",
            "\n",
            "Generating dataset: n=1000, vars=6, lag=3, noise=gaussian, missing=10%\n",
            "Dataset and visualizations saved successfully\n",
            "\n",
            "Generating dataset: n=1000, vars=6, lag=3, noise=gaussian, missing=20%\n",
            "Dataset and visualizations saved successfully\n",
            "\n",
            "Generating dataset: n=1000, vars=6, lag=3, noise=gaussian, missing=30%\n",
            "Dataset and visualizations saved successfully\n",
            "\n",
            "Generating dataset: n=1000, vars=6, lag=3, noise=student_t, missing=10%\n",
            "Dataset and visualizations saved successfully\n",
            "\n",
            "Generating dataset: n=1000, vars=6, lag=3, noise=student_t, missing=20%\n",
            "Dataset and visualizations saved successfully\n",
            "\n",
            "Generating dataset: n=1000, vars=6, lag=3, noise=student_t, missing=30%\n",
            "Dataset and visualizations saved successfully\n",
            "\n",
            "Generating dataset: n=1000, vars=6, lag=4, noise=gaussian, missing=10%\n",
            "Dataset and visualizations saved successfully\n",
            "\n",
            "Generating dataset: n=1000, vars=6, lag=4, noise=gaussian, missing=20%\n",
            "Dataset and visualizations saved successfully\n",
            "\n",
            "Generating dataset: n=1000, vars=6, lag=4, noise=gaussian, missing=30%\n",
            "Dataset and visualizations saved successfully\n",
            "\n",
            "Generating dataset: n=1000, vars=6, lag=4, noise=student_t, missing=10%\n",
            "Dataset and visualizations saved successfully\n",
            "\n",
            "Generating dataset: n=1000, vars=6, lag=4, noise=student_t, missing=20%\n",
            "Dataset and visualizations saved successfully\n",
            "\n",
            "Generating dataset: n=1000, vars=6, lag=4, noise=student_t, missing=30%\n",
            "Dataset and visualizations saved successfully\n",
            "\n",
            "Generating dataset: n=1000, vars=8, lag=2, noise=gaussian, missing=10%\n",
            "Dataset and visualizations saved successfully\n",
            "\n",
            "Generating dataset: n=1000, vars=8, lag=2, noise=gaussian, missing=20%\n",
            "Dataset and visualizations saved successfully\n",
            "\n",
            "Generating dataset: n=1000, vars=8, lag=2, noise=gaussian, missing=30%\n",
            "Dataset and visualizations saved successfully\n",
            "\n",
            "Generating dataset: n=1000, vars=8, lag=2, noise=student_t, missing=10%\n",
            "Dataset and visualizations saved successfully\n",
            "\n",
            "Generating dataset: n=1000, vars=8, lag=2, noise=student_t, missing=20%\n",
            "Dataset and visualizations saved successfully\n",
            "\n",
            "Generating dataset: n=1000, vars=8, lag=2, noise=student_t, missing=30%\n",
            "Dataset and visualizations saved successfully\n",
            "\n",
            "Generating dataset: n=1000, vars=8, lag=3, noise=gaussian, missing=10%\n",
            "Dataset and visualizations saved successfully\n",
            "\n",
            "Generating dataset: n=1000, vars=8, lag=3, noise=gaussian, missing=20%\n",
            "Dataset and visualizations saved successfully\n",
            "\n",
            "Generating dataset: n=1000, vars=8, lag=3, noise=gaussian, missing=30%\n",
            "Dataset and visualizations saved successfully\n",
            "\n",
            "Generating dataset: n=1000, vars=8, lag=3, noise=student_t, missing=10%\n",
            "Dataset and visualizations saved successfully\n",
            "\n",
            "Generating dataset: n=1000, vars=8, lag=3, noise=student_t, missing=20%\n",
            "Dataset and visualizations saved successfully\n",
            "\n",
            "Generating dataset: n=1000, vars=8, lag=3, noise=student_t, missing=30%\n",
            "Dataset and visualizations saved successfully\n",
            "\n",
            "Generating dataset: n=1000, vars=8, lag=4, noise=gaussian, missing=10%\n",
            "Dataset and visualizations saved successfully\n",
            "\n",
            "Generating dataset: n=1000, vars=8, lag=4, noise=gaussian, missing=20%\n",
            "Dataset and visualizations saved successfully\n",
            "\n",
            "Generating dataset: n=1000, vars=8, lag=4, noise=gaussian, missing=30%\n",
            "Dataset and visualizations saved successfully\n",
            "\n",
            "Generating dataset: n=1000, vars=8, lag=4, noise=student_t, missing=10%\n",
            "Dataset and visualizations saved successfully\n",
            "\n",
            "Generating dataset: n=1000, vars=8, lag=4, noise=student_t, missing=20%\n",
            "Dataset and visualizations saved successfully\n",
            "\n",
            "Generating dataset: n=1000, vars=8, lag=4, noise=student_t, missing=30%\n",
            "Dataset and visualizations saved successfully\n",
            "\n",
            "Generating dataset: n=3000, vars=4, lag=2, noise=gaussian, missing=10%\n",
            "Dataset and visualizations saved successfully\n",
            "\n",
            "Generating dataset: n=3000, vars=4, lag=2, noise=gaussian, missing=20%\n",
            "Dataset and visualizations saved successfully\n",
            "\n",
            "Generating dataset: n=3000, vars=4, lag=2, noise=gaussian, missing=30%\n",
            "Dataset and visualizations saved successfully\n",
            "\n",
            "Generating dataset: n=3000, vars=4, lag=2, noise=student_t, missing=10%\n",
            "Dataset and visualizations saved successfully\n",
            "\n",
            "Generating dataset: n=3000, vars=4, lag=2, noise=student_t, missing=20%\n",
            "Dataset and visualizations saved successfully\n",
            "\n",
            "Generating dataset: n=3000, vars=4, lag=2, noise=student_t, missing=30%\n",
            "Dataset and visualizations saved successfully\n",
            "\n",
            "Generating dataset: n=3000, vars=4, lag=3, noise=gaussian, missing=10%\n",
            "Dataset and visualizations saved successfully\n",
            "\n",
            "Generating dataset: n=3000, vars=4, lag=3, noise=gaussian, missing=20%\n",
            "Dataset and visualizations saved successfully\n",
            "\n",
            "Generating dataset: n=3000, vars=4, lag=3, noise=gaussian, missing=30%\n",
            "Dataset and visualizations saved successfully\n",
            "\n",
            "Generating dataset: n=3000, vars=4, lag=3, noise=student_t, missing=10%\n",
            "Dataset and visualizations saved successfully\n",
            "\n",
            "Generating dataset: n=3000, vars=4, lag=3, noise=student_t, missing=20%\n",
            "Dataset and visualizations saved successfully\n",
            "\n",
            "Generating dataset: n=3000, vars=4, lag=3, noise=student_t, missing=30%\n",
            "Dataset and visualizations saved successfully\n",
            "\n",
            "Generating dataset: n=3000, vars=4, lag=4, noise=gaussian, missing=10%\n",
            "Dataset and visualizations saved successfully\n",
            "\n",
            "Generating dataset: n=3000, vars=4, lag=4, noise=gaussian, missing=20%\n",
            "Dataset and visualizations saved successfully\n",
            "\n",
            "Generating dataset: n=3000, vars=4, lag=4, noise=gaussian, missing=30%\n",
            "Dataset and visualizations saved successfully\n",
            "\n",
            "Generating dataset: n=3000, vars=4, lag=4, noise=student_t, missing=10%\n",
            "Dataset and visualizations saved successfully\n",
            "\n",
            "Generating dataset: n=3000, vars=4, lag=4, noise=student_t, missing=20%\n",
            "Dataset and visualizations saved successfully\n",
            "\n",
            "Generating dataset: n=3000, vars=4, lag=4, noise=student_t, missing=30%\n",
            "Dataset and visualizations saved successfully\n",
            "\n",
            "Generating dataset: n=3000, vars=6, lag=2, noise=gaussian, missing=10%\n",
            "Dataset and visualizations saved successfully\n",
            "\n",
            "Generating dataset: n=3000, vars=6, lag=2, noise=gaussian, missing=20%\n",
            "Dataset and visualizations saved successfully\n",
            "\n",
            "Generating dataset: n=3000, vars=6, lag=2, noise=gaussian, missing=30%\n",
            "Dataset and visualizations saved successfully\n",
            "\n",
            "Generating dataset: n=3000, vars=6, lag=2, noise=student_t, missing=10%\n",
            "Dataset and visualizations saved successfully\n",
            "\n",
            "Generating dataset: n=3000, vars=6, lag=2, noise=student_t, missing=20%\n",
            "Dataset and visualizations saved successfully\n",
            "\n",
            "Generating dataset: n=3000, vars=6, lag=2, noise=student_t, missing=30%\n",
            "Dataset and visualizations saved successfully\n",
            "\n",
            "Generating dataset: n=3000, vars=6, lag=3, noise=gaussian, missing=10%\n",
            "Dataset and visualizations saved successfully\n",
            "\n",
            "Generating dataset: n=3000, vars=6, lag=3, noise=gaussian, missing=20%\n",
            "Dataset and visualizations saved successfully\n",
            "\n",
            "Generating dataset: n=3000, vars=6, lag=3, noise=gaussian, missing=30%\n",
            "Dataset and visualizations saved successfully\n",
            "\n",
            "Generating dataset: n=3000, vars=6, lag=3, noise=student_t, missing=10%\n",
            "Dataset and visualizations saved successfully\n",
            "\n",
            "Generating dataset: n=3000, vars=6, lag=3, noise=student_t, missing=20%\n",
            "Dataset and visualizations saved successfully\n",
            "\n",
            "Generating dataset: n=3000, vars=6, lag=3, noise=student_t, missing=30%\n",
            "Dataset and visualizations saved successfully\n",
            "\n",
            "Generating dataset: n=3000, vars=6, lag=4, noise=gaussian, missing=10%\n",
            "Dataset and visualizations saved successfully\n",
            "\n",
            "Generating dataset: n=3000, vars=6, lag=4, noise=gaussian, missing=20%\n",
            "Dataset and visualizations saved successfully\n",
            "\n",
            "Generating dataset: n=3000, vars=6, lag=4, noise=gaussian, missing=30%\n",
            "Dataset and visualizations saved successfully\n",
            "\n",
            "Generating dataset: n=3000, vars=6, lag=4, noise=student_t, missing=10%\n",
            "Dataset and visualizations saved successfully\n",
            "\n",
            "Generating dataset: n=3000, vars=6, lag=4, noise=student_t, missing=20%\n",
            "Dataset and visualizations saved successfully\n",
            "\n",
            "Generating dataset: n=3000, vars=6, lag=4, noise=student_t, missing=30%\n",
            "Dataset and visualizations saved successfully\n",
            "\n",
            "Generating dataset: n=3000, vars=8, lag=2, noise=gaussian, missing=10%\n",
            "Dataset and visualizations saved successfully\n",
            "\n",
            "Generating dataset: n=3000, vars=8, lag=2, noise=gaussian, missing=20%\n",
            "Dataset and visualizations saved successfully\n",
            "\n",
            "Generating dataset: n=3000, vars=8, lag=2, noise=gaussian, missing=30%\n",
            "Dataset and visualizations saved successfully\n",
            "\n",
            "Generating dataset: n=3000, vars=8, lag=2, noise=student_t, missing=10%\n",
            "Dataset and visualizations saved successfully\n",
            "\n",
            "Generating dataset: n=3000, vars=8, lag=2, noise=student_t, missing=20%\n",
            "Dataset and visualizations saved successfully\n",
            "\n",
            "Generating dataset: n=3000, vars=8, lag=2, noise=student_t, missing=30%\n",
            "Dataset and visualizations saved successfully\n",
            "\n",
            "Generating dataset: n=3000, vars=8, lag=3, noise=gaussian, missing=10%\n",
            "Dataset and visualizations saved successfully\n",
            "\n",
            "Generating dataset: n=3000, vars=8, lag=3, noise=gaussian, missing=20%\n",
            "Dataset and visualizations saved successfully\n",
            "\n",
            "Generating dataset: n=3000, vars=8, lag=3, noise=gaussian, missing=30%\n",
            "Dataset and visualizations saved successfully\n",
            "\n",
            "Generating dataset: n=3000, vars=8, lag=3, noise=student_t, missing=10%\n",
            "Dataset and visualizations saved successfully\n",
            "\n",
            "Generating dataset: n=3000, vars=8, lag=3, noise=student_t, missing=20%\n",
            "Dataset and visualizations saved successfully\n",
            "\n",
            "Generating dataset: n=3000, vars=8, lag=3, noise=student_t, missing=30%\n",
            "Dataset and visualizations saved successfully\n",
            "\n",
            "Generating dataset: n=3000, vars=8, lag=4, noise=gaussian, missing=10%\n",
            "Dataset and visualizations saved successfully\n",
            "\n",
            "Generating dataset: n=3000, vars=8, lag=4, noise=gaussian, missing=20%\n",
            "Dataset and visualizations saved successfully\n",
            "\n",
            "Generating dataset: n=3000, vars=8, lag=4, noise=gaussian, missing=30%\n",
            "Dataset and visualizations saved successfully\n",
            "\n",
            "Generating dataset: n=3000, vars=8, lag=4, noise=student_t, missing=10%\n",
            "Dataset and visualizations saved successfully\n",
            "\n",
            "Generating dataset: n=3000, vars=8, lag=4, noise=student_t, missing=20%\n",
            "Dataset and visualizations saved successfully\n",
            "\n",
            "Generating dataset: n=3000, vars=8, lag=4, noise=student_t, missing=30%\n",
            "Dataset and visualizations saved successfully\n",
            "\n",
            "Generating dataset: n=5000, vars=4, lag=2, noise=gaussian, missing=10%\n",
            "Dataset and visualizations saved successfully\n",
            "\n",
            "Generating dataset: n=5000, vars=4, lag=2, noise=gaussian, missing=20%\n",
            "Dataset and visualizations saved successfully\n",
            "\n",
            "Generating dataset: n=5000, vars=4, lag=2, noise=gaussian, missing=30%\n",
            "Dataset and visualizations saved successfully\n",
            "\n",
            "Generating dataset: n=5000, vars=4, lag=2, noise=student_t, missing=10%\n",
            "Dataset and visualizations saved successfully\n",
            "\n",
            "Generating dataset: n=5000, vars=4, lag=2, noise=student_t, missing=20%\n",
            "Dataset and visualizations saved successfully\n",
            "\n",
            "Generating dataset: n=5000, vars=4, lag=2, noise=student_t, missing=30%\n",
            "Dataset and visualizations saved successfully\n",
            "\n",
            "Generating dataset: n=5000, vars=4, lag=3, noise=gaussian, missing=10%\n",
            "Dataset and visualizations saved successfully\n",
            "\n",
            "Generating dataset: n=5000, vars=4, lag=3, noise=gaussian, missing=20%\n",
            "Dataset and visualizations saved successfully\n",
            "\n",
            "Generating dataset: n=5000, vars=4, lag=3, noise=gaussian, missing=30%\n",
            "Dataset and visualizations saved successfully\n",
            "\n",
            "Generating dataset: n=5000, vars=4, lag=3, noise=student_t, missing=10%\n",
            "Dataset and visualizations saved successfully\n",
            "\n",
            "Generating dataset: n=5000, vars=4, lag=3, noise=student_t, missing=20%\n",
            "Dataset and visualizations saved successfully\n",
            "\n",
            "Generating dataset: n=5000, vars=4, lag=3, noise=student_t, missing=30%\n",
            "Dataset and visualizations saved successfully\n",
            "\n",
            "Generating dataset: n=5000, vars=4, lag=4, noise=gaussian, missing=10%\n",
            "Dataset and visualizations saved successfully\n",
            "\n",
            "Generating dataset: n=5000, vars=4, lag=4, noise=gaussian, missing=20%\n",
            "Dataset and visualizations saved successfully\n",
            "\n",
            "Generating dataset: n=5000, vars=4, lag=4, noise=gaussian, missing=30%\n",
            "Dataset and visualizations saved successfully\n",
            "\n",
            "Generating dataset: n=5000, vars=4, lag=4, noise=student_t, missing=10%\n",
            "Dataset and visualizations saved successfully\n",
            "\n",
            "Generating dataset: n=5000, vars=4, lag=4, noise=student_t, missing=20%\n",
            "Dataset and visualizations saved successfully\n",
            "\n",
            "Generating dataset: n=5000, vars=4, lag=4, noise=student_t, missing=30%\n",
            "Dataset and visualizations saved successfully\n",
            "\n",
            "Generating dataset: n=5000, vars=6, lag=2, noise=gaussian, missing=10%\n",
            "Dataset and visualizations saved successfully\n",
            "\n",
            "Generating dataset: n=5000, vars=6, lag=2, noise=gaussian, missing=20%\n",
            "Dataset and visualizations saved successfully\n",
            "\n",
            "Generating dataset: n=5000, vars=6, lag=2, noise=gaussian, missing=30%\n",
            "Dataset and visualizations saved successfully\n",
            "\n",
            "Generating dataset: n=5000, vars=6, lag=2, noise=student_t, missing=10%\n",
            "Dataset and visualizations saved successfully\n",
            "\n",
            "Generating dataset: n=5000, vars=6, lag=2, noise=student_t, missing=20%\n",
            "Dataset and visualizations saved successfully\n",
            "\n",
            "Generating dataset: n=5000, vars=6, lag=2, noise=student_t, missing=30%\n",
            "Dataset and visualizations saved successfully\n",
            "\n",
            "Generating dataset: n=5000, vars=6, lag=3, noise=gaussian, missing=10%\n",
            "Dataset and visualizations saved successfully\n",
            "\n",
            "Generating dataset: n=5000, vars=6, lag=3, noise=gaussian, missing=20%\n",
            "Dataset and visualizations saved successfully\n",
            "\n",
            "Generating dataset: n=5000, vars=6, lag=3, noise=gaussian, missing=30%\n",
            "Dataset and visualizations saved successfully\n",
            "\n",
            "Generating dataset: n=5000, vars=6, lag=3, noise=student_t, missing=10%\n",
            "Dataset and visualizations saved successfully\n",
            "\n",
            "Generating dataset: n=5000, vars=6, lag=3, noise=student_t, missing=20%\n",
            "Dataset and visualizations saved successfully\n",
            "\n",
            "Generating dataset: n=5000, vars=6, lag=3, noise=student_t, missing=30%\n",
            "Dataset and visualizations saved successfully\n",
            "\n",
            "Generating dataset: n=5000, vars=6, lag=4, noise=gaussian, missing=10%\n",
            "Dataset and visualizations saved successfully\n",
            "\n",
            "Generating dataset: n=5000, vars=6, lag=4, noise=gaussian, missing=20%\n",
            "Dataset and visualizations saved successfully\n",
            "\n",
            "Generating dataset: n=5000, vars=6, lag=4, noise=gaussian, missing=30%\n",
            "Dataset and visualizations saved successfully\n",
            "\n",
            "Generating dataset: n=5000, vars=6, lag=4, noise=student_t, missing=10%\n",
            "Dataset and visualizations saved successfully\n",
            "\n",
            "Generating dataset: n=5000, vars=6, lag=4, noise=student_t, missing=20%\n",
            "Dataset and visualizations saved successfully\n",
            "\n",
            "Generating dataset: n=5000, vars=6, lag=4, noise=student_t, missing=30%\n",
            "Dataset and visualizations saved successfully\n",
            "\n",
            "Generating dataset: n=5000, vars=8, lag=2, noise=gaussian, missing=10%\n",
            "Dataset and visualizations saved successfully\n",
            "\n",
            "Generating dataset: n=5000, vars=8, lag=2, noise=gaussian, missing=20%\n",
            "Dataset and visualizations saved successfully\n",
            "\n",
            "Generating dataset: n=5000, vars=8, lag=2, noise=gaussian, missing=30%\n",
            "Dataset and visualizations saved successfully\n",
            "\n",
            "Generating dataset: n=5000, vars=8, lag=2, noise=student_t, missing=10%\n",
            "Dataset and visualizations saved successfully\n",
            "\n",
            "Generating dataset: n=5000, vars=8, lag=2, noise=student_t, missing=20%\n",
            "Dataset and visualizations saved successfully\n",
            "\n",
            "Generating dataset: n=5000, vars=8, lag=2, noise=student_t, missing=30%\n",
            "Dataset and visualizations saved successfully\n",
            "\n",
            "Generating dataset: n=5000, vars=8, lag=3, noise=gaussian, missing=10%\n",
            "Dataset and visualizations saved successfully\n",
            "\n",
            "Generating dataset: n=5000, vars=8, lag=3, noise=gaussian, missing=20%\n",
            "Dataset and visualizations saved successfully\n",
            "\n",
            "Generating dataset: n=5000, vars=8, lag=3, noise=gaussian, missing=30%\n",
            "Dataset and visualizations saved successfully\n",
            "\n",
            "Generating dataset: n=5000, vars=8, lag=3, noise=student_t, missing=10%\n",
            "Dataset and visualizations saved successfully\n",
            "\n",
            "Generating dataset: n=5000, vars=8, lag=3, noise=student_t, missing=20%\n",
            "Dataset and visualizations saved successfully\n",
            "\n",
            "Generating dataset: n=5000, vars=8, lag=3, noise=student_t, missing=30%\n",
            "Dataset and visualizations saved successfully\n",
            "\n",
            "Generating dataset: n=5000, vars=8, lag=4, noise=gaussian, missing=10%\n",
            "Dataset and visualizations saved successfully\n",
            "\n",
            "Generating dataset: n=5000, vars=8, lag=4, noise=gaussian, missing=20%\n",
            "Dataset and visualizations saved successfully\n",
            "\n",
            "Generating dataset: n=5000, vars=8, lag=4, noise=gaussian, missing=30%\n",
            "Dataset and visualizations saved successfully\n",
            "\n",
            "Generating dataset: n=5000, vars=8, lag=4, noise=student_t, missing=10%\n",
            "Dataset and visualizations saved successfully\n",
            "\n",
            "Generating dataset: n=5000, vars=8, lag=4, noise=student_t, missing=20%\n",
            "Dataset and visualizations saved successfully\n",
            "\n",
            "Generating dataset: n=5000, vars=8, lag=4, noise=student_t, missing=30%\n",
            "Dataset and visualizations saved successfully\n"
          ]
        },
        {
          "output_type": "display_data",
          "data": {
            "text/plain": [
              "<Figure size 1200x1200 with 0 Axes>"
            ]
          },
          "metadata": {}
        },
        {
          "output_type": "display_data",
          "data": {
            "text/plain": [
              "<Figure size 1200x1200 with 0 Axes>"
            ]
          },
          "metadata": {}
        },
        {
          "output_type": "display_data",
          "data": {
            "text/plain": [
              "<Figure size 1200x1200 with 0 Axes>"
            ]
          },
          "metadata": {}
        },
        {
          "output_type": "display_data",
          "data": {
            "text/plain": [
              "<Figure size 1200x1200 with 0 Axes>"
            ]
          },
          "metadata": {}
        },
        {
          "output_type": "display_data",
          "data": {
            "text/plain": [
              "<Figure size 1200x1200 with 0 Axes>"
            ]
          },
          "metadata": {}
        },
        {
          "output_type": "display_data",
          "data": {
            "text/plain": [
              "<Figure size 1200x1200 with 0 Axes>"
            ]
          },
          "metadata": {}
        },
        {
          "output_type": "display_data",
          "data": {
            "text/plain": [
              "<Figure size 1200x1200 with 0 Axes>"
            ]
          },
          "metadata": {}
        },
        {
          "output_type": "display_data",
          "data": {
            "text/plain": [
              "<Figure size 1200x1200 with 0 Axes>"
            ]
          },
          "metadata": {}
        },
        {
          "output_type": "display_data",
          "data": {
            "text/plain": [
              "<Figure size 1200x1200 with 0 Axes>"
            ]
          },
          "metadata": {}
        },
        {
          "output_type": "display_data",
          "data": {
            "text/plain": [
              "<Figure size 1200x1200 with 0 Axes>"
            ]
          },
          "metadata": {}
        },
        {
          "output_type": "display_data",
          "data": {
            "text/plain": [
              "<Figure size 1200x1200 with 0 Axes>"
            ]
          },
          "metadata": {}
        },
        {
          "output_type": "display_data",
          "data": {
            "text/plain": [
              "<Figure size 1200x1200 with 0 Axes>"
            ]
          },
          "metadata": {}
        },
        {
          "output_type": "display_data",
          "data": {
            "text/plain": [
              "<Figure size 1200x1200 with 0 Axes>"
            ]
          },
          "metadata": {}
        },
        {
          "output_type": "display_data",
          "data": {
            "text/plain": [
              "<Figure size 1200x1200 with 0 Axes>"
            ]
          },
          "metadata": {}
        },
        {
          "output_type": "display_data",
          "data": {
            "text/plain": [
              "<Figure size 1200x1200 with 0 Axes>"
            ]
          },
          "metadata": {}
        },
        {
          "output_type": "display_data",
          "data": {
            "text/plain": [
              "<Figure size 1200x1200 with 0 Axes>"
            ]
          },
          "metadata": {}
        },
        {
          "output_type": "display_data",
          "data": {
            "text/plain": [
              "<Figure size 1200x1200 with 0 Axes>"
            ]
          },
          "metadata": {}
        },
        {
          "output_type": "display_data",
          "data": {
            "text/plain": [
              "<Figure size 1200x1200 with 0 Axes>"
            ]
          },
          "metadata": {}
        },
        {
          "output_type": "display_data",
          "data": {
            "text/plain": [
              "<Figure size 1200x1200 with 0 Axes>"
            ]
          },
          "metadata": {}
        },
        {
          "output_type": "display_data",
          "data": {
            "text/plain": [
              "<Figure size 1200x1200 with 0 Axes>"
            ]
          },
          "metadata": {}
        },
        {
          "output_type": "display_data",
          "data": {
            "text/plain": [
              "<Figure size 1200x1200 with 0 Axes>"
            ]
          },
          "metadata": {}
        },
        {
          "output_type": "display_data",
          "data": {
            "text/plain": [
              "<Figure size 1200x1200 with 0 Axes>"
            ]
          },
          "metadata": {}
        },
        {
          "output_type": "display_data",
          "data": {
            "text/plain": [
              "<Figure size 1200x1200 with 0 Axes>"
            ]
          },
          "metadata": {}
        },
        {
          "output_type": "display_data",
          "data": {
            "text/plain": [
              "<Figure size 1200x1200 with 0 Axes>"
            ]
          },
          "metadata": {}
        },
        {
          "output_type": "display_data",
          "data": {
            "text/plain": [
              "<Figure size 1200x1200 with 0 Axes>"
            ]
          },
          "metadata": {}
        },
        {
          "output_type": "display_data",
          "data": {
            "text/plain": [
              "<Figure size 1200x1200 with 0 Axes>"
            ]
          },
          "metadata": {}
        },
        {
          "output_type": "display_data",
          "data": {
            "text/plain": [
              "<Figure size 1200x1200 with 0 Axes>"
            ]
          },
          "metadata": {}
        },
        {
          "output_type": "display_data",
          "data": {
            "text/plain": [
              "<Figure size 1200x1200 with 0 Axes>"
            ]
          },
          "metadata": {}
        },
        {
          "output_type": "display_data",
          "data": {
            "text/plain": [
              "<Figure size 1200x1200 with 0 Axes>"
            ]
          },
          "metadata": {}
        },
        {
          "output_type": "display_data",
          "data": {
            "text/plain": [
              "<Figure size 1200x1200 with 0 Axes>"
            ]
          },
          "metadata": {}
        },
        {
          "output_type": "display_data",
          "data": {
            "text/plain": [
              "<Figure size 1200x1200 with 0 Axes>"
            ]
          },
          "metadata": {}
        },
        {
          "output_type": "display_data",
          "data": {
            "text/plain": [
              "<Figure size 1200x1200 with 0 Axes>"
            ]
          },
          "metadata": {}
        },
        {
          "output_type": "display_data",
          "data": {
            "text/plain": [
              "<Figure size 1200x1200 with 0 Axes>"
            ]
          },
          "metadata": {}
        },
        {
          "output_type": "display_data",
          "data": {
            "text/plain": [
              "<Figure size 1200x1200 with 0 Axes>"
            ]
          },
          "metadata": {}
        },
        {
          "output_type": "display_data",
          "data": {
            "text/plain": [
              "<Figure size 1200x1200 with 0 Axes>"
            ]
          },
          "metadata": {}
        },
        {
          "output_type": "display_data",
          "data": {
            "text/plain": [
              "<Figure size 1200x1200 with 0 Axes>"
            ]
          },
          "metadata": {}
        },
        {
          "output_type": "display_data",
          "data": {
            "text/plain": [
              "<Figure size 1200x1200 with 0 Axes>"
            ]
          },
          "metadata": {}
        },
        {
          "output_type": "display_data",
          "data": {
            "text/plain": [
              "<Figure size 1200x1200 with 0 Axes>"
            ]
          },
          "metadata": {}
        },
        {
          "output_type": "display_data",
          "data": {
            "text/plain": [
              "<Figure size 1200x1200 with 0 Axes>"
            ]
          },
          "metadata": {}
        },
        {
          "output_type": "display_data",
          "data": {
            "text/plain": [
              "<Figure size 1200x1200 with 0 Axes>"
            ]
          },
          "metadata": {}
        },
        {
          "output_type": "display_data",
          "data": {
            "text/plain": [
              "<Figure size 1200x1200 with 0 Axes>"
            ]
          },
          "metadata": {}
        },
        {
          "output_type": "display_data",
          "data": {
            "text/plain": [
              "<Figure size 1200x1200 with 0 Axes>"
            ]
          },
          "metadata": {}
        },
        {
          "output_type": "display_data",
          "data": {
            "text/plain": [
              "<Figure size 1200x1200 with 0 Axes>"
            ]
          },
          "metadata": {}
        },
        {
          "output_type": "display_data",
          "data": {
            "text/plain": [
              "<Figure size 1200x1200 with 0 Axes>"
            ]
          },
          "metadata": {}
        },
        {
          "output_type": "display_data",
          "data": {
            "text/plain": [
              "<Figure size 1200x1200 with 0 Axes>"
            ]
          },
          "metadata": {}
        },
        {
          "output_type": "display_data",
          "data": {
            "text/plain": [
              "<Figure size 1200x1200 with 0 Axes>"
            ]
          },
          "metadata": {}
        },
        {
          "output_type": "display_data",
          "data": {
            "text/plain": [
              "<Figure size 1200x1200 with 0 Axes>"
            ]
          },
          "metadata": {}
        },
        {
          "output_type": "display_data",
          "data": {
            "text/plain": [
              "<Figure size 1200x1200 with 0 Axes>"
            ]
          },
          "metadata": {}
        },
        {
          "output_type": "display_data",
          "data": {
            "text/plain": [
              "<Figure size 1200x1200 with 0 Axes>"
            ]
          },
          "metadata": {}
        },
        {
          "output_type": "display_data",
          "data": {
            "text/plain": [
              "<Figure size 1200x1200 with 0 Axes>"
            ]
          },
          "metadata": {}
        },
        {
          "output_type": "display_data",
          "data": {
            "text/plain": [
              "<Figure size 1200x1200 with 0 Axes>"
            ]
          },
          "metadata": {}
        },
        {
          "output_type": "display_data",
          "data": {
            "text/plain": [
              "<Figure size 1200x1200 with 0 Axes>"
            ]
          },
          "metadata": {}
        },
        {
          "output_type": "display_data",
          "data": {
            "text/plain": [
              "<Figure size 1200x1200 with 0 Axes>"
            ]
          },
          "metadata": {}
        },
        {
          "output_type": "display_data",
          "data": {
            "text/plain": [
              "<Figure size 1200x1200 with 0 Axes>"
            ]
          },
          "metadata": {}
        },
        {
          "output_type": "display_data",
          "data": {
            "text/plain": [
              "<Figure size 1200x1200 with 0 Axes>"
            ]
          },
          "metadata": {}
        },
        {
          "output_type": "display_data",
          "data": {
            "text/plain": [
              "<Figure size 1200x1200 with 0 Axes>"
            ]
          },
          "metadata": {}
        },
        {
          "output_type": "display_data",
          "data": {
            "text/plain": [
              "<Figure size 1200x1200 with 0 Axes>"
            ]
          },
          "metadata": {}
        },
        {
          "output_type": "display_data",
          "data": {
            "text/plain": [
              "<Figure size 1200x1200 with 0 Axes>"
            ]
          },
          "metadata": {}
        },
        {
          "output_type": "display_data",
          "data": {
            "text/plain": [
              "<Figure size 1200x1200 with 0 Axes>"
            ]
          },
          "metadata": {}
        },
        {
          "output_type": "display_data",
          "data": {
            "text/plain": [
              "<Figure size 1200x1200 with 0 Axes>"
            ]
          },
          "metadata": {}
        },
        {
          "output_type": "display_data",
          "data": {
            "text/plain": [
              "<Figure size 1200x1200 with 0 Axes>"
            ]
          },
          "metadata": {}
        },
        {
          "output_type": "display_data",
          "data": {
            "text/plain": [
              "<Figure size 1200x1200 with 0 Axes>"
            ]
          },
          "metadata": {}
        },
        {
          "output_type": "display_data",
          "data": {
            "text/plain": [
              "<Figure size 1200x1200 with 0 Axes>"
            ]
          },
          "metadata": {}
        },
        {
          "output_type": "display_data",
          "data": {
            "text/plain": [
              "<Figure size 1200x1200 with 0 Axes>"
            ]
          },
          "metadata": {}
        },
        {
          "output_type": "display_data",
          "data": {
            "text/plain": [
              "<Figure size 1200x1200 with 0 Axes>"
            ]
          },
          "metadata": {}
        },
        {
          "output_type": "display_data",
          "data": {
            "text/plain": [
              "<Figure size 1200x1200 with 0 Axes>"
            ]
          },
          "metadata": {}
        },
        {
          "output_type": "display_data",
          "data": {
            "text/plain": [
              "<Figure size 1200x1200 with 0 Axes>"
            ]
          },
          "metadata": {}
        },
        {
          "output_type": "display_data",
          "data": {
            "text/plain": [
              "<Figure size 1200x1200 with 0 Axes>"
            ]
          },
          "metadata": {}
        },
        {
          "output_type": "display_data",
          "data": {
            "text/plain": [
              "<Figure size 1200x1200 with 0 Axes>"
            ]
          },
          "metadata": {}
        },
        {
          "output_type": "display_data",
          "data": {
            "text/plain": [
              "<Figure size 1200x1200 with 0 Axes>"
            ]
          },
          "metadata": {}
        },
        {
          "output_type": "display_data",
          "data": {
            "text/plain": [
              "<Figure size 1200x1200 with 0 Axes>"
            ]
          },
          "metadata": {}
        },
        {
          "output_type": "display_data",
          "data": {
            "text/plain": [
              "<Figure size 1200x1200 with 0 Axes>"
            ]
          },
          "metadata": {}
        },
        {
          "output_type": "display_data",
          "data": {
            "text/plain": [
              "<Figure size 1200x1200 with 0 Axes>"
            ]
          },
          "metadata": {}
        },
        {
          "output_type": "display_data",
          "data": {
            "text/plain": [
              "<Figure size 1200x1200 with 0 Axes>"
            ]
          },
          "metadata": {}
        },
        {
          "output_type": "display_data",
          "data": {
            "text/plain": [
              "<Figure size 1200x1200 with 0 Axes>"
            ]
          },
          "metadata": {}
        },
        {
          "output_type": "display_data",
          "data": {
            "text/plain": [
              "<Figure size 1200x1200 with 0 Axes>"
            ]
          },
          "metadata": {}
        },
        {
          "output_type": "display_data",
          "data": {
            "text/plain": [
              "<Figure size 1200x1200 with 0 Axes>"
            ]
          },
          "metadata": {}
        },
        {
          "output_type": "display_data",
          "data": {
            "text/plain": [
              "<Figure size 1200x1200 with 0 Axes>"
            ]
          },
          "metadata": {}
        },
        {
          "output_type": "display_data",
          "data": {
            "text/plain": [
              "<Figure size 1200x1200 with 0 Axes>"
            ]
          },
          "metadata": {}
        },
        {
          "output_type": "display_data",
          "data": {
            "text/plain": [
              "<Figure size 1200x1200 with 0 Axes>"
            ]
          },
          "metadata": {}
        },
        {
          "output_type": "display_data",
          "data": {
            "text/plain": [
              "<Figure size 1200x1200 with 0 Axes>"
            ]
          },
          "metadata": {}
        },
        {
          "output_type": "display_data",
          "data": {
            "text/plain": [
              "<Figure size 1200x1200 with 0 Axes>"
            ]
          },
          "metadata": {}
        },
        {
          "output_type": "display_data",
          "data": {
            "text/plain": [
              "<Figure size 1200x1200 with 0 Axes>"
            ]
          },
          "metadata": {}
        },
        {
          "output_type": "display_data",
          "data": {
            "text/plain": [
              "<Figure size 1200x1200 with 0 Axes>"
            ]
          },
          "metadata": {}
        },
        {
          "output_type": "display_data",
          "data": {
            "text/plain": [
              "<Figure size 1200x1200 with 0 Axes>"
            ]
          },
          "metadata": {}
        },
        {
          "output_type": "display_data",
          "data": {
            "text/plain": [
              "<Figure size 1200x1200 with 0 Axes>"
            ]
          },
          "metadata": {}
        },
        {
          "output_type": "display_data",
          "data": {
            "text/plain": [
              "<Figure size 1200x1200 with 0 Axes>"
            ]
          },
          "metadata": {}
        },
        {
          "output_type": "display_data",
          "data": {
            "text/plain": [
              "<Figure size 1200x1200 with 0 Axes>"
            ]
          },
          "metadata": {}
        },
        {
          "output_type": "display_data",
          "data": {
            "text/plain": [
              "<Figure size 1200x1200 with 0 Axes>"
            ]
          },
          "metadata": {}
        },
        {
          "output_type": "display_data",
          "data": {
            "text/plain": [
              "<Figure size 1200x1200 with 0 Axes>"
            ]
          },
          "metadata": {}
        },
        {
          "output_type": "display_data",
          "data": {
            "text/plain": [
              "<Figure size 1200x1200 with 0 Axes>"
            ]
          },
          "metadata": {}
        },
        {
          "output_type": "display_data",
          "data": {
            "text/plain": [
              "<Figure size 1200x1200 with 0 Axes>"
            ]
          },
          "metadata": {}
        },
        {
          "output_type": "display_data",
          "data": {
            "text/plain": [
              "<Figure size 1200x1200 with 0 Axes>"
            ]
          },
          "metadata": {}
        },
        {
          "output_type": "display_data",
          "data": {
            "text/plain": [
              "<Figure size 1200x1200 with 0 Axes>"
            ]
          },
          "metadata": {}
        },
        {
          "output_type": "display_data",
          "data": {
            "text/plain": [
              "<Figure size 1200x1200 with 0 Axes>"
            ]
          },
          "metadata": {}
        },
        {
          "output_type": "display_data",
          "data": {
            "text/plain": [
              "<Figure size 1200x1200 with 0 Axes>"
            ]
          },
          "metadata": {}
        },
        {
          "output_type": "display_data",
          "data": {
            "text/plain": [
              "<Figure size 1200x1200 with 0 Axes>"
            ]
          },
          "metadata": {}
        },
        {
          "output_type": "display_data",
          "data": {
            "text/plain": [
              "<Figure size 1200x1200 with 0 Axes>"
            ]
          },
          "metadata": {}
        },
        {
          "output_type": "display_data",
          "data": {
            "text/plain": [
              "<Figure size 1200x1200 with 0 Axes>"
            ]
          },
          "metadata": {}
        },
        {
          "output_type": "display_data",
          "data": {
            "text/plain": [
              "<Figure size 1200x1200 with 0 Axes>"
            ]
          },
          "metadata": {}
        },
        {
          "output_type": "display_data",
          "data": {
            "text/plain": [
              "<Figure size 1200x1200 with 0 Axes>"
            ]
          },
          "metadata": {}
        },
        {
          "output_type": "display_data",
          "data": {
            "text/plain": [
              "<Figure size 1200x1200 with 0 Axes>"
            ]
          },
          "metadata": {}
        },
        {
          "output_type": "display_data",
          "data": {
            "text/plain": [
              "<Figure size 1200x1200 with 0 Axes>"
            ]
          },
          "metadata": {}
        },
        {
          "output_type": "display_data",
          "data": {
            "text/plain": [
              "<Figure size 1200x1200 with 0 Axes>"
            ]
          },
          "metadata": {}
        },
        {
          "output_type": "display_data",
          "data": {
            "text/plain": [
              "<Figure size 1200x1200 with 0 Axes>"
            ]
          },
          "metadata": {}
        },
        {
          "output_type": "display_data",
          "data": {
            "text/plain": [
              "<Figure size 1200x1200 with 0 Axes>"
            ]
          },
          "metadata": {}
        },
        {
          "output_type": "display_data",
          "data": {
            "text/plain": [
              "<Figure size 1200x1200 with 0 Axes>"
            ]
          },
          "metadata": {}
        },
        {
          "output_type": "display_data",
          "data": {
            "text/plain": [
              "<Figure size 1200x1200 with 0 Axes>"
            ]
          },
          "metadata": {}
        },
        {
          "output_type": "display_data",
          "data": {
            "text/plain": [
              "<Figure size 1200x1200 with 0 Axes>"
            ]
          },
          "metadata": {}
        },
        {
          "output_type": "display_data",
          "data": {
            "text/plain": [
              "<Figure size 1200x1200 with 0 Axes>"
            ]
          },
          "metadata": {}
        },
        {
          "output_type": "display_data",
          "data": {
            "text/plain": [
              "<Figure size 1200x1200 with 0 Axes>"
            ]
          },
          "metadata": {}
        },
        {
          "output_type": "display_data",
          "data": {
            "text/plain": [
              "<Figure size 1200x1200 with 0 Axes>"
            ]
          },
          "metadata": {}
        },
        {
          "output_type": "display_data",
          "data": {
            "text/plain": [
              "<Figure size 1200x1200 with 0 Axes>"
            ]
          },
          "metadata": {}
        },
        {
          "output_type": "display_data",
          "data": {
            "text/plain": [
              "<Figure size 1200x1200 with 0 Axes>"
            ]
          },
          "metadata": {}
        },
        {
          "output_type": "display_data",
          "data": {
            "text/plain": [
              "<Figure size 1200x1200 with 0 Axes>"
            ]
          },
          "metadata": {}
        },
        {
          "output_type": "display_data",
          "data": {
            "text/plain": [
              "<Figure size 1200x1200 with 0 Axes>"
            ]
          },
          "metadata": {}
        },
        {
          "output_type": "display_data",
          "data": {
            "text/plain": [
              "<Figure size 1200x1200 with 0 Axes>"
            ]
          },
          "metadata": {}
        },
        {
          "output_type": "display_data",
          "data": {
            "text/plain": [
              "<Figure size 1200x1200 with 0 Axes>"
            ]
          },
          "metadata": {}
        },
        {
          "output_type": "display_data",
          "data": {
            "text/plain": [
              "<Figure size 1200x1200 with 0 Axes>"
            ]
          },
          "metadata": {}
        },
        {
          "output_type": "display_data",
          "data": {
            "text/plain": [
              "<Figure size 1200x1200 with 0 Axes>"
            ]
          },
          "metadata": {}
        },
        {
          "output_type": "display_data",
          "data": {
            "text/plain": [
              "<Figure size 1200x1200 with 0 Axes>"
            ]
          },
          "metadata": {}
        },
        {
          "output_type": "display_data",
          "data": {
            "text/plain": [
              "<Figure size 1200x1200 with 0 Axes>"
            ]
          },
          "metadata": {}
        },
        {
          "output_type": "display_data",
          "data": {
            "text/plain": [
              "<Figure size 1200x1200 with 0 Axes>"
            ]
          },
          "metadata": {}
        },
        {
          "output_type": "display_data",
          "data": {
            "text/plain": [
              "<Figure size 1200x1200 with 0 Axes>"
            ]
          },
          "metadata": {}
        },
        {
          "output_type": "display_data",
          "data": {
            "text/plain": [
              "<Figure size 1200x1200 with 0 Axes>"
            ]
          },
          "metadata": {}
        },
        {
          "output_type": "display_data",
          "data": {
            "text/plain": [
              "<Figure size 1200x1200 with 0 Axes>"
            ]
          },
          "metadata": {}
        },
        {
          "output_type": "display_data",
          "data": {
            "text/plain": [
              "<Figure size 1200x1200 with 0 Axes>"
            ]
          },
          "metadata": {}
        },
        {
          "output_type": "display_data",
          "data": {
            "text/plain": [
              "<Figure size 1200x1200 with 0 Axes>"
            ]
          },
          "metadata": {}
        },
        {
          "output_type": "display_data",
          "data": {
            "text/plain": [
              "<Figure size 1200x1200 with 0 Axes>"
            ]
          },
          "metadata": {}
        },
        {
          "output_type": "display_data",
          "data": {
            "text/plain": [
              "<Figure size 1200x1200 with 0 Axes>"
            ]
          },
          "metadata": {}
        },
        {
          "output_type": "display_data",
          "data": {
            "text/plain": [
              "<Figure size 1200x1200 with 0 Axes>"
            ]
          },
          "metadata": {}
        },
        {
          "output_type": "display_data",
          "data": {
            "text/plain": [
              "<Figure size 1200x1200 with 0 Axes>"
            ]
          },
          "metadata": {}
        },
        {
          "output_type": "display_data",
          "data": {
            "text/plain": [
              "<Figure size 1200x1200 with 0 Axes>"
            ]
          },
          "metadata": {}
        },
        {
          "output_type": "display_data",
          "data": {
            "text/plain": [
              "<Figure size 1200x1200 with 0 Axes>"
            ]
          },
          "metadata": {}
        },
        {
          "output_type": "display_data",
          "data": {
            "text/plain": [
              "<Figure size 1200x1200 with 0 Axes>"
            ]
          },
          "metadata": {}
        },
        {
          "output_type": "display_data",
          "data": {
            "text/plain": [
              "<Figure size 1200x1200 with 0 Axes>"
            ]
          },
          "metadata": {}
        },
        {
          "output_type": "display_data",
          "data": {
            "text/plain": [
              "<Figure size 1200x1200 with 0 Axes>"
            ]
          },
          "metadata": {}
        },
        {
          "output_type": "display_data",
          "data": {
            "text/plain": [
              "<Figure size 1200x1200 with 0 Axes>"
            ]
          },
          "metadata": {}
        },
        {
          "output_type": "display_data",
          "data": {
            "text/plain": [
              "<Figure size 1200x1200 with 0 Axes>"
            ]
          },
          "metadata": {}
        },
        {
          "output_type": "display_data",
          "data": {
            "text/plain": [
              "<Figure size 1200x1200 with 0 Axes>"
            ]
          },
          "metadata": {}
        },
        {
          "output_type": "display_data",
          "data": {
            "text/plain": [
              "<Figure size 1200x1200 with 0 Axes>"
            ]
          },
          "metadata": {}
        },
        {
          "output_type": "display_data",
          "data": {
            "text/plain": [
              "<Figure size 1200x1200 with 0 Axes>"
            ]
          },
          "metadata": {}
        },
        {
          "output_type": "display_data",
          "data": {
            "text/plain": [
              "<Figure size 1200x1200 with 0 Axes>"
            ]
          },
          "metadata": {}
        },
        {
          "output_type": "display_data",
          "data": {
            "text/plain": [
              "<Figure size 1200x1200 with 0 Axes>"
            ]
          },
          "metadata": {}
        },
        {
          "output_type": "display_data",
          "data": {
            "text/plain": [
              "<Figure size 1200x1200 with 0 Axes>"
            ]
          },
          "metadata": {}
        },
        {
          "output_type": "display_data",
          "data": {
            "text/plain": [
              "<Figure size 1200x1200 with 0 Axes>"
            ]
          },
          "metadata": {}
        },
        {
          "output_type": "display_data",
          "data": {
            "text/plain": [
              "<Figure size 1200x1200 with 0 Axes>"
            ]
          },
          "metadata": {}
        },
        {
          "output_type": "display_data",
          "data": {
            "text/plain": [
              "<Figure size 1200x1200 with 0 Axes>"
            ]
          },
          "metadata": {}
        },
        {
          "output_type": "display_data",
          "data": {
            "text/plain": [
              "<Figure size 1200x1200 with 0 Axes>"
            ]
          },
          "metadata": {}
        },
        {
          "output_type": "display_data",
          "data": {
            "text/plain": [
              "<Figure size 1200x1200 with 0 Axes>"
            ]
          },
          "metadata": {}
        },
        {
          "output_type": "display_data",
          "data": {
            "text/plain": [
              "<Figure size 1200x1200 with 0 Axes>"
            ]
          },
          "metadata": {}
        },
        {
          "output_type": "display_data",
          "data": {
            "text/plain": [
              "<Figure size 1200x1200 with 0 Axes>"
            ]
          },
          "metadata": {}
        },
        {
          "output_type": "display_data",
          "data": {
            "text/plain": [
              "<Figure size 1200x1200 with 0 Axes>"
            ]
          },
          "metadata": {}
        },
        {
          "output_type": "display_data",
          "data": {
            "text/plain": [
              "<Figure size 1200x1200 with 0 Axes>"
            ]
          },
          "metadata": {}
        },
        {
          "output_type": "display_data",
          "data": {
            "text/plain": [
              "<Figure size 1200x1200 with 0 Axes>"
            ]
          },
          "metadata": {}
        },
        {
          "output_type": "display_data",
          "data": {
            "text/plain": [
              "<Figure size 1200x1200 with 0 Axes>"
            ]
          },
          "metadata": {}
        },
        {
          "output_type": "display_data",
          "data": {
            "text/plain": [
              "<Figure size 1200x1200 with 0 Axes>"
            ]
          },
          "metadata": {}
        },
        {
          "output_type": "display_data",
          "data": {
            "text/plain": [
              "<Figure size 1200x1200 with 0 Axes>"
            ]
          },
          "metadata": {}
        },
        {
          "output_type": "display_data",
          "data": {
            "text/plain": [
              "<Figure size 1200x1200 with 0 Axes>"
            ]
          },
          "metadata": {}
        },
        {
          "output_type": "display_data",
          "data": {
            "text/plain": [
              "<Figure size 1200x1200 with 0 Axes>"
            ]
          },
          "metadata": {}
        },
        {
          "output_type": "display_data",
          "data": {
            "text/plain": [
              "<Figure size 1200x1200 with 0 Axes>"
            ]
          },
          "metadata": {}
        },
        {
          "output_type": "display_data",
          "data": {
            "text/plain": [
              "<Figure size 1200x1200 with 0 Axes>"
            ]
          },
          "metadata": {}
        },
        {
          "output_type": "display_data",
          "data": {
            "text/plain": [
              "<Figure size 1200x1200 with 0 Axes>"
            ]
          },
          "metadata": {}
        },
        {
          "output_type": "display_data",
          "data": {
            "text/plain": [
              "<Figure size 1200x1200 with 0 Axes>"
            ]
          },
          "metadata": {}
        },
        {
          "output_type": "display_data",
          "data": {
            "text/plain": [
              "<Figure size 1200x1200 with 0 Axes>"
            ]
          },
          "metadata": {}
        },
        {
          "output_type": "display_data",
          "data": {
            "text/plain": [
              "<Figure size 1200x1200 with 0 Axes>"
            ]
          },
          "metadata": {}
        },
        {
          "output_type": "display_data",
          "data": {
            "text/plain": [
              "<Figure size 1200x1200 with 0 Axes>"
            ]
          },
          "metadata": {}
        },
        {
          "output_type": "display_data",
          "data": {
            "text/plain": [
              "<Figure size 1200x1200 with 0 Axes>"
            ]
          },
          "metadata": {}
        },
        {
          "output_type": "display_data",
          "data": {
            "text/plain": [
              "<Figure size 1200x1200 with 0 Axes>"
            ]
          },
          "metadata": {}
        },
        {
          "output_type": "display_data",
          "data": {
            "text/plain": [
              "<Figure size 1200x1200 with 0 Axes>"
            ]
          },
          "metadata": {}
        },
        {
          "output_type": "display_data",
          "data": {
            "text/plain": [
              "<Figure size 1200x1200 with 0 Axes>"
            ]
          },
          "metadata": {}
        },
        {
          "output_type": "display_data",
          "data": {
            "text/plain": [
              "<Figure size 1200x1200 with 0 Axes>"
            ]
          },
          "metadata": {}
        },
        {
          "output_type": "display_data",
          "data": {
            "text/plain": [
              "<Figure size 1200x1200 with 0 Axes>"
            ]
          },
          "metadata": {}
        },
        {
          "output_type": "display_data",
          "data": {
            "text/plain": [
              "<Figure size 1200x1200 with 0 Axes>"
            ]
          },
          "metadata": {}
        },
        {
          "output_type": "display_data",
          "data": {
            "text/plain": [
              "<Figure size 1200x1200 with 0 Axes>"
            ]
          },
          "metadata": {}
        },
        {
          "output_type": "display_data",
          "data": {
            "text/plain": [
              "<Figure size 1200x1200 with 0 Axes>"
            ]
          },
          "metadata": {}
        },
        {
          "output_type": "display_data",
          "data": {
            "text/plain": [
              "<Figure size 1200x1200 with 0 Axes>"
            ]
          },
          "metadata": {}
        },
        {
          "output_type": "display_data",
          "data": {
            "text/plain": [
              "<Figure size 1200x1200 with 0 Axes>"
            ]
          },
          "metadata": {}
        },
        {
          "output_type": "display_data",
          "data": {
            "text/plain": [
              "<Figure size 1200x1200 with 0 Axes>"
            ]
          },
          "metadata": {}
        },
        {
          "output_type": "display_data",
          "data": {
            "text/plain": [
              "<Figure size 1200x1200 with 0 Axes>"
            ]
          },
          "metadata": {}
        },
        {
          "output_type": "display_data",
          "data": {
            "text/plain": [
              "<Figure size 1200x1200 with 0 Axes>"
            ]
          },
          "metadata": {}
        },
        {
          "output_type": "display_data",
          "data": {
            "text/plain": [
              "<Figure size 1200x1200 with 0 Axes>"
            ]
          },
          "metadata": {}
        },
        {
          "output_type": "display_data",
          "data": {
            "text/plain": [
              "<Figure size 1200x1200 with 0 Axes>"
            ]
          },
          "metadata": {}
        },
        {
          "output_type": "display_data",
          "data": {
            "text/plain": [
              "<Figure size 1200x1200 with 0 Axes>"
            ]
          },
          "metadata": {}
        },
        {
          "output_type": "display_data",
          "data": {
            "text/plain": [
              "<Figure size 1200x1200 with 0 Axes>"
            ]
          },
          "metadata": {}
        },
        {
          "output_type": "display_data",
          "data": {
            "text/plain": [
              "<Figure size 1200x1200 with 0 Axes>"
            ]
          },
          "metadata": {}
        },
        {
          "output_type": "display_data",
          "data": {
            "text/plain": [
              "<Figure size 1200x1200 with 0 Axes>"
            ]
          },
          "metadata": {}
        },
        {
          "output_type": "display_data",
          "data": {
            "text/plain": [
              "<Figure size 1200x1200 with 0 Axes>"
            ]
          },
          "metadata": {}
        },
        {
          "output_type": "display_data",
          "data": {
            "text/plain": [
              "<Figure size 1200x1200 with 0 Axes>"
            ]
          },
          "metadata": {}
        },
        {
          "output_type": "display_data",
          "data": {
            "text/plain": [
              "<Figure size 1200x1200 with 0 Axes>"
            ]
          },
          "metadata": {}
        },
        {
          "output_type": "display_data",
          "data": {
            "text/plain": [
              "<Figure size 1200x1200 with 0 Axes>"
            ]
          },
          "metadata": {}
        },
        {
          "output_type": "display_data",
          "data": {
            "text/plain": [
              "<Figure size 1200x1200 with 0 Axes>"
            ]
          },
          "metadata": {}
        },
        {
          "output_type": "display_data",
          "data": {
            "text/plain": [
              "<Figure size 1200x1200 with 0 Axes>"
            ]
          },
          "metadata": {}
        },
        {
          "output_type": "display_data",
          "data": {
            "text/plain": [
              "<Figure size 1200x1200 with 0 Axes>"
            ]
          },
          "metadata": {}
        },
        {
          "output_type": "display_data",
          "data": {
            "text/plain": [
              "<Figure size 1200x1200 with 0 Axes>"
            ]
          },
          "metadata": {}
        },
        {
          "output_type": "display_data",
          "data": {
            "text/plain": [
              "<Figure size 1200x1200 with 0 Axes>"
            ]
          },
          "metadata": {}
        },
        {
          "output_type": "display_data",
          "data": {
            "text/plain": [
              "<Figure size 1200x1200 with 0 Axes>"
            ]
          },
          "metadata": {}
        },
        {
          "output_type": "display_data",
          "data": {
            "text/plain": [
              "<Figure size 1200x1200 with 0 Axes>"
            ]
          },
          "metadata": {}
        },
        {
          "output_type": "display_data",
          "data": {
            "text/plain": [
              "<Figure size 1200x1200 with 0 Axes>"
            ]
          },
          "metadata": {}
        },
        {
          "output_type": "display_data",
          "data": {
            "text/plain": [
              "<Figure size 1200x1200 with 0 Axes>"
            ]
          },
          "metadata": {}
        },
        {
          "output_type": "display_data",
          "data": {
            "text/plain": [
              "<Figure size 1200x1200 with 0 Axes>"
            ]
          },
          "metadata": {}
        },
        {
          "output_type": "display_data",
          "data": {
            "text/plain": [
              "<Figure size 1200x1200 with 0 Axes>"
            ]
          },
          "metadata": {}
        },
        {
          "output_type": "display_data",
          "data": {
            "text/plain": [
              "<Figure size 1200x1200 with 0 Axes>"
            ]
          },
          "metadata": {}
        },
        {
          "output_type": "display_data",
          "data": {
            "text/plain": [
              "<Figure size 1200x1200 with 0 Axes>"
            ]
          },
          "metadata": {}
        },
        {
          "output_type": "display_data",
          "data": {
            "text/plain": [
              "<Figure size 1200x1200 with 0 Axes>"
            ]
          },
          "metadata": {}
        },
        {
          "output_type": "display_data",
          "data": {
            "text/plain": [
              "<Figure size 1200x1200 with 0 Axes>"
            ]
          },
          "metadata": {}
        },
        {
          "output_type": "display_data",
          "data": {
            "text/plain": [
              "<Figure size 1200x1200 with 0 Axes>"
            ]
          },
          "metadata": {}
        },
        {
          "output_type": "display_data",
          "data": {
            "text/plain": [
              "<Figure size 1200x1200 with 0 Axes>"
            ]
          },
          "metadata": {}
        },
        {
          "output_type": "display_data",
          "data": {
            "text/plain": [
              "<Figure size 1200x1200 with 0 Axes>"
            ]
          },
          "metadata": {}
        },
        {
          "output_type": "display_data",
          "data": {
            "text/plain": [
              "<Figure size 1200x1200 with 0 Axes>"
            ]
          },
          "metadata": {}
        },
        {
          "output_type": "display_data",
          "data": {
            "text/plain": [
              "<Figure size 1200x1200 with 0 Axes>"
            ]
          },
          "metadata": {}
        },
        {
          "output_type": "display_data",
          "data": {
            "text/plain": [
              "<Figure size 1200x1200 with 0 Axes>"
            ]
          },
          "metadata": {}
        },
        {
          "output_type": "display_data",
          "data": {
            "text/plain": [
              "<Figure size 1200x1200 with 0 Axes>"
            ]
          },
          "metadata": {}
        },
        {
          "output_type": "display_data",
          "data": {
            "text/plain": [
              "<Figure size 1200x1200 with 0 Axes>"
            ]
          },
          "metadata": {}
        },
        {
          "output_type": "display_data",
          "data": {
            "text/plain": [
              "<Figure size 1200x1200 with 0 Axes>"
            ]
          },
          "metadata": {}
        },
        {
          "output_type": "display_data",
          "data": {
            "text/plain": [
              "<Figure size 1200x1200 with 0 Axes>"
            ]
          },
          "metadata": {}
        }
      ]
    },
    {
      "cell_type": "code",
      "source": [
        "!zip -r /content/output_D1C.zip /content/output_mcar_confounded"
      ],
      "metadata": {
        "colab": {
          "base_uri": "https://localhost:8080/"
        },
        "id": "y5ucxPSX4254",
        "outputId": "5b68199f-f4ed-4a84-dd9a-20a4ec63c1dc"
      },
      "execution_count": 4,
      "outputs": [
        {
          "output_type": "stream",
          "name": "stdout",
          "text": [
            "  adding: content/output_mcar_confounded/ (stored 0%)\n",
            "  adding: content/output_mcar_confounded/linear_ts_n500_vars8_lag4_gaussian_mcar10_missing.csv (deflated 55%)\n",
            "  adding: content/output_mcar_confounded/linear_ts_n500_vars6_lag3_gaussian_mcar20_series.png (deflated 2%)\n",
            "  adding: content/output_mcar_confounded/linear_ts_n1000_vars6_lag4_gaussian_mcar30_missing_pattern.png (deflated 5%)\n",
            "  adding: content/output_mcar_confounded/linear_ts_n3000_vars4_lag4_student_t_mcar30_missing.csv (deflated 56%)\n",
            "  adding: content/output_mcar_confounded/linear_ts_n1000_vars8_lag4_gaussian_mcar10_missing.csv (deflated 56%)\n",
            "  adding: content/output_mcar_confounded/linear_ts_n1000_vars4_lag3_gaussian_mcar20_graph.png (deflated 4%)\n",
            "  adding: content/output_mcar_confounded/linear_ts_n1000_vars8_lag4_student_t_mcar20_missing.csv (deflated 55%)\n",
            "  adding: content/output_mcar_confounded/linear_ts_n3000_vars6_lag3_student_t_mcar10_graph.png (deflated 4%)\n",
            "  adding: content/output_mcar_confounded/linear_ts_n3000_vars8_lag2_student_t_mcar30_complete.csv (deflated 55%)\n",
            "  adding: content/output_mcar_confounded/linear_ts_n1000_vars4_lag4_gaussian_mcar10_missing.csv (deflated 56%)\n",
            "  adding: content/output_mcar_confounded/linear_ts_n500_vars8_lag3_gaussian_mcar30_missing_pattern.png (deflated 4%)\n",
            "  adding: content/output_mcar_confounded/linear_ts_n5000_vars4_lag3_student_t_mcar10_series.png (deflated 3%)\n",
            "  adding: content/output_mcar_confounded/linear_ts_n1000_vars4_lag2_student_t_mcar20_missing.csv (deflated 55%)\n",
            "  adding: content/output_mcar_confounded/linear_ts_n1000_vars8_lag2_gaussian_mcar30_missing.csv (deflated 54%)\n",
            "  adding: content/output_mcar_confounded/linear_ts_n500_vars8_lag4_gaussian_mcar30_structure.txt (deflated 50%)\n",
            "  adding: content/output_mcar_confounded/linear_ts_n3000_vars6_lag2_student_t_mcar20_missing.csv (deflated 54%)\n",
            "  adding: content/output_mcar_confounded/linear_ts_n3000_vars4_lag3_gaussian_mcar30_missing.csv (deflated 56%)\n",
            "  adding: content/output_mcar_confounded/linear_ts_n1000_vars4_lag2_student_t_mcar10_structure.txt (deflated 39%)\n",
            "  adding: content/output_mcar_confounded/linear_ts_n1000_vars4_lag2_gaussian_mcar20_complete.csv (deflated 56%)\n",
            "  adding: content/output_mcar_confounded/linear_ts_n1000_vars8_lag2_student_t_mcar30_complete.csv (deflated 55%)\n",
            "  adding: content/output_mcar_confounded/linear_ts_n1000_vars8_lag2_gaussian_mcar10_structure.txt (deflated 52%)\n",
            "  adding: content/output_mcar_confounded/linear_ts_n5000_vars8_lag4_gaussian_mcar10_complete.csv (deflated 57%)\n",
            "  adding: content/output_mcar_confounded/linear_ts_n3000_vars6_lag2_gaussian_mcar30_series.png (deflated 1%)\n",
            "  adding: content/output_mcar_confounded/linear_ts_n500_vars8_lag3_student_t_mcar20_missing_pattern.png (deflated 4%)\n",
            "  adding: content/output_mcar_confounded/linear_ts_n3000_vars6_lag3_gaussian_mcar30_structure.txt (deflated 47%)\n",
            "  adding: content/output_mcar_confounded/linear_ts_n1000_vars4_lag2_gaussian_mcar10_missing.csv (deflated 56%)\n",
            "  adding: content/output_mcar_confounded/linear_ts_n5000_vars6_lag2_student_t_mcar10_missing.csv (deflated 55%)\n",
            "  adding: content/output_mcar_confounded/linear_ts_n5000_vars4_lag4_student_t_mcar20_structure.txt (deflated 41%)\n",
            "  adding: content/output_mcar_confounded/linear_ts_n1000_vars4_lag3_gaussian_mcar20_series.png (deflated 1%)\n",
            "  adding: content/output_mcar_confounded/linear_ts_n3000_vars8_lag3_gaussian_mcar20_graph.png (deflated 4%)\n",
            "  adding: content/output_mcar_confounded/linear_ts_n5000_vars8_lag3_gaussian_mcar20_structure.txt (deflated 50%)\n",
            "  adding: content/output_mcar_confounded/linear_ts_n3000_vars8_lag2_student_t_mcar20_missing_pattern.png (deflated 3%)\n",
            "  adding: content/output_mcar_confounded/linear_ts_n1000_vars8_lag3_gaussian_mcar10_missing_pattern.png (deflated 5%)\n",
            "  adding: content/output_mcar_confounded/linear_ts_n500_vars4_lag3_gaussian_mcar30_complete.csv (deflated 55%)\n",
            "  adding: content/output_mcar_confounded/linear_ts_n3000_vars4_lag3_gaussian_mcar20_graph.png (deflated 4%)\n",
            "  adding: content/output_mcar_confounded/linear_ts_n5000_vars8_lag3_gaussian_mcar20_missing.csv (deflated 56%)\n",
            "  adding: content/output_mcar_confounded/linear_ts_n3000_vars8_lag4_student_t_mcar30_missing_pattern.png (deflated 4%)\n",
            "  adding: content/output_mcar_confounded/linear_ts_n500_vars4_lag4_gaussian_mcar10_missing_pattern.png (deflated 7%)\n",
            "  adding: content/output_mcar_confounded/linear_ts_n1000_vars6_lag2_student_t_mcar30_series.png (deflated 3%)\n",
            "  adding: content/output_mcar_confounded/linear_ts_n500_vars4_lag2_student_t_mcar10_complete.csv (deflated 55%)\n",
            "  adding: content/output_mcar_confounded/linear_ts_n3000_vars6_lag3_gaussian_mcar30_complete.csv (deflated 56%)\n",
            "  adding: content/output_mcar_confounded/linear_ts_n3000_vars8_lag2_student_t_mcar10_missing_pattern.png (deflated 4%)\n",
            "  adding: content/output_mcar_confounded/linear_ts_n1000_vars6_lag4_gaussian_mcar10_complete.csv (deflated 55%)\n",
            "  adding: content/output_mcar_confounded/linear_ts_n5000_vars6_lag3_gaussian_mcar10_series.png (deflated 1%)\n",
            "  adding: content/output_mcar_confounded/linear_ts_n500_vars6_lag2_student_t_mcar30_series.png (deflated 3%)\n",
            "  adding: content/output_mcar_confounded/linear_ts_n1000_vars4_lag2_student_t_mcar10_graph.png (deflated 4%)\n",
            "  adding: content/output_mcar_confounded/linear_ts_n3000_vars4_lag4_gaussian_mcar20_graph.png (deflated 4%)\n",
            "  adding: content/output_mcar_confounded/linear_ts_n500_vars6_lag4_gaussian_mcar20_graph.png (deflated 4%)\n",
            "  adding: content/output_mcar_confounded/linear_ts_n5000_vars8_lag2_student_t_mcar30_graph.png (deflated 5%)\n",
            "  adding: content/output_mcar_confounded/linear_ts_n1000_vars4_lag2_gaussian_mcar30_graph.png (deflated 5%)\n",
            "  adding: content/output_mcar_confounded/linear_ts_n5000_vars8_lag3_gaussian_mcar10_complete.csv (deflated 57%)\n",
            "  adding: content/output_mcar_confounded/linear_ts_n3000_vars8_lag3_gaussian_mcar30_missing_pattern.png (deflated 4%)\n",
            "  adding: content/output_mcar_confounded/linear_ts_n5000_vars6_lag3_student_t_mcar30_complete.csv (deflated 56%)\n",
            "  adding: content/output_mcar_confounded/linear_ts_n5000_vars8_lag4_gaussian_mcar20_missing.csv (deflated 56%)\n",
            "  adding: content/output_mcar_confounded/linear_ts_n5000_vars6_lag2_gaussian_mcar20_series.png (deflated 1%)\n",
            "  adding: content/output_mcar_confounded/linear_ts_n3000_vars6_lag4_gaussian_mcar10_complete.csv (deflated 56%)\n",
            "  adding: content/output_mcar_confounded/linear_ts_n5000_vars6_lag3_student_t_mcar10_complete.csv (deflated 56%)\n",
            "  adding: content/output_mcar_confounded/linear_ts_n3000_vars4_lag3_gaussian_mcar10_structure.txt (deflated 41%)\n",
            "  adding: content/output_mcar_confounded/linear_ts_n1000_vars8_lag2_gaussian_mcar20_graph.png (deflated 5%)\n",
            "  adding: content/output_mcar_confounded/linear_ts_n3000_vars8_lag2_gaussian_mcar30_graph.png (deflated 4%)\n",
            "  adding: content/output_mcar_confounded/linear_ts_n5000_vars8_lag2_student_t_mcar10_missing.csv (deflated 55%)\n",
            "  adding: content/output_mcar_confounded/linear_ts_n500_vars6_lag2_gaussian_mcar30_structure.txt (deflated 47%)\n",
            "  adding: content/output_mcar_confounded/linear_ts_n3000_vars6_lag3_gaussian_mcar20_missing_pattern.png (deflated 4%)\n",
            "  adding: content/output_mcar_confounded/linear_ts_n3000_vars4_lag4_gaussian_mcar10_structure.txt (deflated 42%)\n",
            "  adding: content/output_mcar_confounded/linear_ts_n3000_vars8_lag3_gaussian_mcar20_series.png (deflated 1%)\n",
            "  adding: content/output_mcar_confounded/linear_ts_n500_vars8_lag3_gaussian_mcar10_complete.csv (deflated 55%)\n",
            "  adding: content/output_mcar_confounded/linear_ts_n500_vars4_lag2_gaussian_mcar30_series.png (deflated 2%)\n",
            "  adding: content/output_mcar_confounded/linear_ts_n1000_vars8_lag4_gaussian_mcar30_series.png (deflated 1%)\n",
            "  adding: content/output_mcar_confounded/linear_ts_n5000_vars6_lag4_student_t_mcar30_series.png (deflated 3%)\n",
            "  adding: content/output_mcar_confounded/linear_ts_n500_vars8_lag3_gaussian_mcar20_structure.txt (deflated 50%)\n",
            "  adding: content/output_mcar_confounded/linear_ts_n1000_vars6_lag2_gaussian_mcar10_series.png (deflated 1%)\n",
            "  adding: content/output_mcar_confounded/linear_ts_n3000_vars4_lag3_gaussian_mcar20_series.png (deflated 1%)\n",
            "  adding: content/output_mcar_confounded/linear_ts_n500_vars8_lag4_student_t_mcar10_series.png (deflated 4%)\n",
            "  adding: content/output_mcar_confounded/linear_ts_n3000_vars8_lag2_student_t_mcar30_structure.txt (deflated 52%)\n",
            "  adding: content/output_mcar_confounded/linear_ts_n3000_vars6_lag4_student_t_mcar10_missing.csv (deflated 56%)\n",
            "  adding: content/output_mcar_confounded/linear_ts_n500_vars4_lag2_student_t_mcar20_graph.png (deflated 5%)\n",
            "  adding: content/output_mcar_confounded/linear_ts_n500_vars8_lag4_student_t_mcar10_missing.csv (deflated 55%)\n",
            "  adding: content/output_mcar_confounded/linear_ts_n1000_vars6_lag2_gaussian_mcar30_missing.csv (deflated 53%)\n",
            "  adding: content/output_mcar_confounded/linear_ts_n5000_vars8_lag4_gaussian_mcar10_graph.png (deflated 5%)\n",
            "  adding: content/output_mcar_confounded/linear_ts_n3000_vars4_lag2_gaussian_mcar30_missing_pattern.png (deflated 4%)\n",
            "  adding: content/output_mcar_confounded/linear_ts_n1000_vars8_lag4_gaussian_mcar10_missing_pattern.png (deflated 5%)\n",
            "  adding: content/output_mcar_confounded/linear_ts_n3000_vars6_lag4_gaussian_mcar30_complete.csv (deflated 56%)\n",
            "  adding: content/output_mcar_confounded/linear_ts_n3000_vars6_lag2_student_t_mcar20_complete.csv (deflated 55%)\n",
            "  adding: content/output_mcar_confounded/linear_ts_n500_vars6_lag4_gaussian_mcar20_complete.csv (deflated 55%)\n",
            "  adding: content/output_mcar_confounded/linear_ts_n1000_vars6_lag2_gaussian_mcar30_missing_pattern.png (deflated 5%)\n",
            "  adding: content/output_mcar_confounded/linear_ts_n500_vars4_lag2_gaussian_mcar10_structure.txt (deflated 40%)\n",
            "  adding: content/output_mcar_confounded/linear_ts_n3000_vars8_lag3_student_t_mcar10_missing_pattern.png (deflated 4%)\n",
            "  adding: content/output_mcar_confounded/linear_ts_n1000_vars8_lag3_student_t_mcar30_missing_pattern.png (deflated 4%)\n",
            "  adding: content/output_mcar_confounded/linear_ts_n500_vars8_lag3_gaussian_mcar10_series.png (deflated 1%)\n",
            "  adding: content/output_mcar_confounded/linear_ts_n5000_vars8_lag2_student_t_mcar10_missing_pattern.png (deflated 4%)\n",
            "  adding: content/output_mcar_confounded/linear_ts_n5000_vars4_lag4_student_t_mcar10_graph.png (deflated 4%)\n",
            "  adding: content/output_mcar_confounded/linear_ts_n1000_vars4_lag2_student_t_mcar20_complete.csv (deflated 56%)\n",
            "  adding: content/output_mcar_confounded/linear_ts_n500_vars6_lag3_student_t_mcar30_complete.csv (deflated 54%)\n",
            "  adding: content/output_mcar_confounded/linear_ts_n1000_vars6_lag4_student_t_mcar10_graph.png (deflated 4%)\n",
            "  adding: content/output_mcar_confounded/linear_ts_n3000_vars4_lag4_gaussian_mcar30_missing_pattern.png (deflated 4%)\n",
            "  adding: content/output_mcar_confounded/linear_ts_n5000_vars8_lag4_gaussian_mcar30_complete.csv (deflated 57%)\n",
            "  adding: content/output_mcar_confounded/linear_ts_n1000_vars4_lag4_gaussian_mcar30_complete.csv (deflated 56%)\n",
            "  adding: content/output_mcar_confounded/linear_ts_n500_vars4_lag3_student_t_mcar30_missing_pattern.png (deflated 4%)\n",
            "  adding: content/output_mcar_confounded/linear_ts_n1000_vars6_lag4_student_t_mcar20_series.png (deflated 3%)\n",
            "  adding: content/output_mcar_confounded/linear_ts_n3000_vars8_lag3_student_t_mcar20_missing.csv (deflated 56%)\n",
            "  adding: content/output_mcar_confounded/linear_ts_n3000_vars4_lag2_student_t_mcar30_graph.png (deflated 5%)\n",
            "  adding: content/output_mcar_confounded/linear_ts_n5000_vars4_lag4_gaussian_mcar30_graph.png (deflated 4%)\n",
            "  adding: content/output_mcar_confounded/linear_ts_n3000_vars4_lag4_gaussian_mcar20_complete.csv (deflated 57%)\n",
            "  adding: content/output_mcar_confounded/linear_ts_n500_vars8_lag3_gaussian_mcar10_graph.png (deflated 5%)\n",
            "  adding: content/output_mcar_confounded/linear_ts_n500_vars4_lag3_student_t_mcar30_graph.png (deflated 4%)\n",
            "  adding: content/output_mcar_confounded/linear_ts_n5000_vars4_lag4_gaussian_mcar10_series.png (deflated 1%)\n",
            "  adding: content/output_mcar_confounded/linear_ts_n5000_vars4_lag4_student_t_mcar20_graph.png (deflated 3%)\n",
            "  adding: content/output_mcar_confounded/linear_ts_n1000_vars4_lag2_gaussian_mcar20_missing.csv (deflated 55%)\n",
            "  adding: content/output_mcar_confounded/linear_ts_n500_vars4_lag4_gaussian_mcar10_complete.csv (deflated 55%)\n",
            "  adding: content/output_mcar_confounded/linear_ts_n1000_vars8_lag4_gaussian_mcar30_graph.png (deflated 5%)\n",
            "  adding: content/output_mcar_confounded/linear_ts_n500_vars6_lag3_gaussian_mcar10_graph.png (deflated 4%)\n",
            "  adding: content/output_mcar_confounded/linear_ts_n1000_vars8_lag4_gaussian_mcar20_structure.txt (deflated 50%)\n",
            "  adding: content/output_mcar_confounded/linear_ts_n1000_vars8_lag4_gaussian_mcar30_missing_pattern.png (deflated 4%)\n",
            "  adding: content/output_mcar_confounded/linear_ts_n5000_vars6_lag4_gaussian_mcar10_complete.csv (deflated 56%)\n",
            "  adding: content/output_mcar_confounded/linear_ts_n3000_vars6_lag2_gaussian_mcar10_missing_pattern.png (deflated 4%)\n",
            "  adding: content/output_mcar_confounded/linear_ts_n5000_vars6_lag3_gaussian_mcar20_complete.csv (deflated 56%)\n",
            "  adding: content/output_mcar_confounded/linear_ts_n1000_vars4_lag2_student_t_mcar30_complete.csv (deflated 56%)\n",
            "  adding: content/output_mcar_confounded/linear_ts_n3000_vars6_lag2_student_t_mcar30_structure.txt (deflated 47%)\n",
            "  adding: content/output_mcar_confounded/linear_ts_n1000_vars8_lag3_student_t_mcar20_graph.png (deflated 4%)\n",
            "  adding: content/output_mcar_confounded/linear_ts_n500_vars4_lag3_gaussian_mcar10_graph.png (deflated 4%)\n",
            "  adding: content/output_mcar_confounded/linear_ts_n5000_vars8_lag3_gaussian_mcar30_missing_pattern.png (deflated 3%)\n",
            "  adding: content/output_mcar_confounded/linear_ts_n500_vars6_lag3_gaussian_mcar10_missing.csv (deflated 54%)\n",
            "  adding: content/output_mcar_confounded/linear_ts_n500_vars4_lag4_gaussian_mcar20_graph.png (deflated 4%)\n",
            "  adding: content/output_mcar_confounded/linear_ts_n5000_vars8_lag4_gaussian_mcar30_missing.csv (deflated 56%)\n",
            "  adding: content/output_mcar_confounded/linear_ts_n5000_vars8_lag3_student_t_mcar20_missing_pattern.png (deflated 4%)\n",
            "  adding: content/output_mcar_confounded/linear_ts_n3000_vars8_lag3_gaussian_mcar10_graph.png (deflated 4%)\n",
            "  adding: content/output_mcar_confounded/linear_ts_n3000_vars8_lag3_student_t_mcar20_graph.png (deflated 4%)\n",
            "  adding: content/output_mcar_confounded/linear_ts_n500_vars6_lag3_student_t_mcar20_missing_pattern.png (deflated 5%)\n",
            "  adding: content/output_mcar_confounded/linear_ts_n500_vars8_lag4_gaussian_mcar30_graph.png (deflated 4%)\n",
            "  adding: content/output_mcar_confounded/linear_ts_n500_vars6_lag4_gaussian_mcar10_missing.csv (deflated 54%)\n",
            "  adding: content/output_mcar_confounded/linear_ts_n3000_vars8_lag3_gaussian_mcar30_graph.png (deflated 4%)\n",
            "  adding: content/output_mcar_confounded/linear_ts_n5000_vars4_lag3_gaussian_mcar10_missing.csv (deflated 57%)\n",
            "  adding: content/output_mcar_confounded/linear_ts_n3000_vars4_lag4_student_t_mcar10_structure.txt (deflated 41%)\n",
            "  adding: content/output_mcar_confounded/linear_ts_n1000_vars8_lag4_gaussian_mcar10_series.png (deflated 1%)\n",
            "  adding: content/output_mcar_confounded/linear_ts_n1000_vars8_lag3_student_t_mcar20_complete.csv (deflated 56%)\n",
            "  adding: content/output_mcar_confounded/linear_ts_n3000_vars6_lag4_gaussian_mcar30_graph.png (deflated 4%)\n",
            "  adding: content/output_mcar_confounded/linear_ts_n5000_vars4_lag2_gaussian_mcar20_missing.csv (deflated 57%)\n",
            "  adding: content/output_mcar_confounded/linear_ts_n1000_vars4_lag4_student_t_mcar20_missing_pattern.png (deflated 4%)\n",
            "  adding: content/output_mcar_confounded/linear_ts_n500_vars6_lag3_gaussian_mcar30_missing.csv (deflated 54%)\n",
            "  adding: content/output_mcar_confounded/linear_ts_n500_vars8_lag2_gaussian_mcar20_structure.txt (deflated 52%)\n",
            "  adding: content/output_mcar_confounded/linear_ts_n3000_vars6_lag4_gaussian_mcar10_series.png (deflated 1%)\n",
            "  adding: content/output_mcar_confounded/linear_ts_n500_vars6_lag3_student_t_mcar10_missing.csv (deflated 54%)\n",
            "  adding: content/output_mcar_confounded/linear_ts_n1000_vars8_lag3_student_t_mcar10_graph.png (deflated 4%)\n",
            "  adding: content/output_mcar_confounded/linear_ts_n3000_vars4_lag2_gaussian_mcar10_missing.csv (deflated 57%)\n",
            "  adding: content/output_mcar_confounded/linear_ts_n1000_vars6_lag3_gaussian_mcar30_missing.csv (deflated 54%)\n",
            "  adding: content/output_mcar_confounded/linear_ts_n3000_vars6_lag2_student_t_mcar10_structure.txt (deflated 47%)\n",
            "  adding: content/output_mcar_confounded/linear_ts_n1000_vars8_lag2_gaussian_mcar30_series.png (deflated 1%)\n",
            "  adding: content/output_mcar_confounded/linear_ts_n3000_vars8_lag4_student_t_mcar20_structure.txt (deflated 51%)\n",
            "  adding: content/output_mcar_confounded/linear_ts_n3000_vars8_lag4_gaussian_mcar30_missing_pattern.png (deflated 4%)\n",
            "  adding: content/output_mcar_confounded/linear_ts_n3000_vars8_lag4_student_t_mcar10_missing.csv (deflated 56%)\n",
            "  adding: content/output_mcar_confounded/linear_ts_n500_vars4_lag4_gaussian_mcar30_series.png (deflated 2%)\n",
            "  adding: content/output_mcar_confounded/linear_ts_n5000_vars4_lag3_gaussian_mcar20_complete.csv (deflated 58%)\n",
            "  adding: content/output_mcar_confounded/linear_ts_n500_vars6_lag2_gaussian_mcar10_graph.png (deflated 4%)\n",
            "  adding: content/output_mcar_confounded/linear_ts_n500_vars6_lag4_student_t_mcar20_series.png (deflated 2%)\n",
            "  adding: content/output_mcar_confounded/linear_ts_n500_vars8_lag4_student_t_mcar20_graph.png (deflated 5%)\n",
            "  adding: content/output_mcar_confounded/linear_ts_n500_vars4_lag3_student_t_mcar30_complete.csv (deflated 55%)\n",
            "  adding: content/output_mcar_confounded/linear_ts_n5000_vars8_lag3_gaussian_mcar10_series.png (deflated 1%)\n",
            "  adding: content/output_mcar_confounded/linear_ts_n500_vars8_lag2_gaussian_mcar30_structure.txt (deflated 52%)\n",
            "  adding: content/output_mcar_confounded/linear_ts_n1000_vars4_lag3_student_t_mcar10_missing.csv (deflated 55%)\n",
            "  adding: content/output_mcar_confounded/linear_ts_n3000_vars4_lag2_gaussian_mcar30_graph.png (deflated 4%)\n",
            "  adding: content/output_mcar_confounded/linear_ts_n500_vars8_lag3_student_t_mcar30_missing.csv (deflated 54%)\n",
            "  adding: content/output_mcar_confounded/linear_ts_n1000_vars4_lag2_gaussian_mcar10_complete.csv (deflated 56%)\n",
            "  adding: content/output_mcar_confounded/linear_ts_n5000_vars4_lag3_gaussian_mcar30_missing_pattern.png (deflated 4%)\n",
            "  adding: content/output_mcar_confounded/linear_ts_n5000_vars4_lag4_gaussian_mcar30_missing_pattern.png (deflated 4%)\n",
            "  adding: content/output_mcar_confounded/linear_ts_n500_vars6_lag3_student_t_mcar10_series.png (deflated 2%)\n",
            "  adding: content/output_mcar_confounded/linear_ts_n500_vars8_lag3_gaussian_mcar20_series.png (deflated 1%)\n",
            "  adding: content/output_mcar_confounded/linear_ts_n3000_vars4_lag4_student_t_mcar30_graph.png (deflated 4%)\n",
            "  adding: content/output_mcar_confounded/linear_ts_n5000_vars6_lag4_gaussian_mcar30_series.png (deflated 1%)\n",
            "  adding: content/output_mcar_confounded/linear_ts_n1000_vars8_lag2_gaussian_mcar30_graph.png (deflated 5%)\n",
            "  adding: content/output_mcar_confounded/linear_ts_n3000_vars4_lag3_gaussian_mcar10_complete.csv (deflated 57%)\n",
            "  adding: content/output_mcar_confounded/linear_ts_n500_vars8_lag4_student_t_mcar30_series.png (deflated 4%)\n",
            "  adding: content/output_mcar_confounded/linear_ts_n1000_vars6_lag3_student_t_mcar20_series.png (deflated 3%)\n",
            "  adding: content/output_mcar_confounded/linear_ts_n500_vars4_lag2_gaussian_mcar30_missing_pattern.png (deflated 4%)\n",
            "  adding: content/output_mcar_confounded/linear_ts_n1000_vars6_lag2_student_t_mcar10_series.png (deflated 3%)\n",
            "  adding: content/output_mcar_confounded/linear_ts_n500_vars4_lag3_student_t_mcar10_graph.png (deflated 4%)\n",
            "  adding: content/output_mcar_confounded/linear_ts_n5000_vars8_lag3_student_t_mcar20_series.png (deflated 3%)\n",
            "  adding: content/output_mcar_confounded/linear_ts_n1000_vars6_lag3_gaussian_mcar30_complete.csv (deflated 55%)\n",
            "  adding: content/output_mcar_confounded/linear_ts_n500_vars8_lag3_student_t_mcar30_missing_pattern.png (deflated 4%)\n",
            "  adding: content/output_mcar_confounded/linear_ts_n5000_vars6_lag2_gaussian_mcar30_graph.png (deflated 4%)\n",
            "  adding: content/output_mcar_confounded/linear_ts_n500_vars8_lag2_gaussian_mcar10_structure.txt (deflated 52%)\n",
            "  adding: content/output_mcar_confounded/linear_ts_n3000_vars8_lag2_student_t_mcar10_structure.txt (deflated 52%)\n",
            "  adding: content/output_mcar_confounded/linear_ts_n3000_vars8_lag4_gaussian_mcar10_missing_pattern.png (deflated 4%)\n",
            "  adding: content/output_mcar_confounded/linear_ts_n500_vars4_lag2_student_t_mcar30_complete.csv (deflated 55%)\n",
            "  adding: content/output_mcar_confounded/linear_ts_n500_vars6_lag3_gaussian_mcar20_structure.txt (deflated 47%)\n",
            "  adding: content/output_mcar_confounded/linear_ts_n500_vars8_lag2_student_t_mcar20_graph.png (deflated 5%)\n",
            "  adding: content/output_mcar_confounded/linear_ts_n1000_vars6_lag2_student_t_mcar20_series.png (deflated 3%)\n",
            "  adding: content/output_mcar_confounded/linear_ts_n3000_vars4_lag4_gaussian_mcar10_missing.csv (deflated 57%)\n",
            "  adding: content/output_mcar_confounded/linear_ts_n500_vars8_lag2_gaussian_mcar10_missing_pattern.png (deflated 5%)\n",
            "  adding: content/output_mcar_confounded/linear_ts_n500_vars4_lag4_gaussian_mcar20_missing.csv (deflated 54%)\n",
            "  adding: content/output_mcar_confounded/linear_ts_n500_vars4_lag4_gaussian_mcar30_missing_pattern.png (deflated 4%)\n",
            "  adding: content/output_mcar_confounded/linear_ts_n3000_vars4_lag3_gaussian_mcar20_structure.txt (deflated 42%)\n",
            "  adding: content/output_mcar_confounded/linear_ts_n1000_vars4_lag3_student_t_mcar30_series.png (deflated 3%)\n",
            "  adding: content/output_mcar_confounded/linear_ts_n1000_vars6_lag4_student_t_mcar30_missing.csv (deflated 54%)\n",
            "  adding: content/output_mcar_confounded/linear_ts_n5000_vars6_lag3_student_t_mcar10_graph.png (deflated 4%)\n",
            "  adding: content/output_mcar_confounded/linear_ts_n1000_vars4_lag3_student_t_mcar10_structure.txt (deflated 41%)\n",
            "  adding: content/output_mcar_confounded/linear_ts_n500_vars4_lag3_student_t_mcar20_graph.png (deflated 4%)\n",
            "  adding: content/output_mcar_confounded/linear_ts_n5000_vars8_lag2_student_t_mcar30_complete.csv (deflated 56%)\n",
            "  adding: content/output_mcar_confounded/linear_ts_n1000_vars8_lag2_gaussian_mcar10_series.png (deflated 1%)\n",
            "  adding: content/output_mcar_confounded/linear_ts_n1000_vars6_lag4_student_t_mcar20_missing_pattern.png (deflated 5%)\n",
            "  adding: content/output_mcar_confounded/linear_ts_n3000_vars8_lag3_gaussian_mcar30_series.png (deflated 1%)\n",
            "  adding: content/output_mcar_confounded/linear_ts_n5000_vars4_lag3_student_t_mcar10_complete.csv (deflated 57%)\n",
            "  adding: content/output_mcar_confounded/linear_ts_n5000_vars8_lag2_student_t_mcar10_graph.png (deflated 5%)\n",
            "  adding: content/output_mcar_confounded/linear_ts_n1000_vars6_lag2_gaussian_mcar10_structure.txt (deflated 47%)\n",
            "  adding: content/output_mcar_confounded/linear_ts_n500_vars6_lag2_gaussian_mcar20_missing.csv (deflated 53%)\n",
            "  adding: content/output_mcar_confounded/linear_ts_n5000_vars4_lag3_student_t_mcar20_graph.png (deflated 4%)\n",
            "  adding: content/output_mcar_confounded/linear_ts_n1000_vars6_lag3_gaussian_mcar20_series.png (deflated 1%)\n",
            "  adding: content/output_mcar_confounded/linear_ts_n5000_vars8_lag2_student_t_mcar10_series.png (deflated 3%)\n",
            "  adding: content/output_mcar_confounded/linear_ts_n1000_vars4_lag4_gaussian_mcar10_structure.txt (deflated 42%)\n",
            "  adding: content/output_mcar_confounded/linear_ts_n1000_vars6_lag2_gaussian_mcar10_missing.csv (deflated 54%)\n",
            "  adding: content/output_mcar_confounded/linear_ts_n500_vars6_lag4_student_t_mcar20_structure.txt (deflated 46%)\n",
            "  adding: content/output_mcar_confounded/linear_ts_n1000_vars4_lag4_gaussian_mcar10_complete.csv (deflated 56%)\n",
            "  adding: content/output_mcar_confounded/linear_ts_n1000_vars6_lag4_gaussian_mcar10_series.png (deflated 1%)\n",
            "  adding: content/output_mcar_confounded/linear_ts_n500_vars6_lag4_gaussian_mcar20_series.png (deflated 2%)\n",
            "  adding: content/output_mcar_confounded/linear_ts_n1000_vars8_lag2_gaussian_mcar10_missing.csv (deflated 54%)\n",
            "  adding: content/output_mcar_confounded/linear_ts_n1000_vars8_lag2_student_t_mcar30_missing_pattern.png (deflated 4%)\n",
            "  adding: content/output_mcar_confounded/linear_ts_n500_vars4_lag3_student_t_mcar20_series.png (deflated 2%)\n",
            "  adding: content/output_mcar_confounded/linear_ts_n3000_vars8_lag3_student_t_mcar10_missing.csv (deflated 56%)\n",
            "  adding: content/output_mcar_confounded/linear_ts_n500_vars8_lag4_student_t_mcar30_structure.txt (deflated 51%)\n",
            "  adding: content/output_mcar_confounded/linear_ts_n3000_vars4_lag4_student_t_mcar20_complete.csv (deflated 57%)\n",
            "  adding: content/output_mcar_confounded/linear_ts_n1000_vars4_lag2_gaussian_mcar20_series.png (deflated 1%)\n",
            "  adding: content/output_mcar_confounded/linear_ts_n500_vars6_lag3_gaussian_mcar10_structure.txt (deflated 47%)\n",
            "  adding: content/output_mcar_confounded/linear_ts_n1000_vars8_lag3_student_t_mcar20_missing.csv (deflated 55%)\n",
            "  adding: content/output_mcar_confounded/linear_ts_n5000_vars4_lag4_gaussian_mcar20_graph.png (deflated 4%)\n",
            "  adding: content/output_mcar_confounded/linear_ts_n1000_vars4_lag2_student_t_mcar10_missing_pattern.png (deflated 7%)\n",
            "  adding: content/output_mcar_confounded/linear_ts_n500_vars4_lag3_student_t_mcar30_missing.csv (deflated 54%)\n",
            "  adding: content/output_mcar_confounded/linear_ts_n1000_vars6_lag3_gaussian_mcar10_complete.csv (deflated 55%)\n",
            "  adding: content/output_mcar_confounded/linear_ts_n5000_vars6_lag3_gaussian_mcar20_graph.png (deflated 4%)\n",
            "  adding: content/output_mcar_confounded/linear_ts_n500_vars8_lag3_gaussian_mcar30_structure.txt (deflated 50%)\n",
            "  adding: content/output_mcar_confounded/linear_ts_n1000_vars4_lag4_gaussian_mcar30_series.png (deflated 1%)\n",
            "  adding: content/output_mcar_confounded/linear_ts_n3000_vars4_lag3_student_t_mcar10_graph.png (deflated 4%)\n",
            "  adding: content/output_mcar_confounded/linear_ts_n3000_vars8_lag2_gaussian_mcar10_graph.png (deflated 4%)\n",
            "  adding: content/output_mcar_confounded/linear_ts_n1000_vars8_lag2_student_t_mcar30_structure.txt (deflated 52%)\n",
            "  adding: content/output_mcar_confounded/linear_ts_n500_vars8_lag2_gaussian_mcar10_graph.png (deflated 5%)\n",
            "  adding: content/output_mcar_confounded/linear_ts_n1000_vars8_lag4_student_t_mcar30_series.png (deflated 4%)\n",
            "  adding: content/output_mcar_confounded/linear_ts_n500_vars6_lag2_gaussian_mcar30_series.png (deflated 1%)\n",
            "  adding: content/output_mcar_confounded/linear_ts_n1000_vars4_lag4_gaussian_mcar10_missing_pattern.png (deflated 6%)\n",
            "  adding: content/output_mcar_confounded/linear_ts_n500_vars4_lag2_student_t_mcar20_complete.csv (deflated 55%)\n",
            "  adding: content/output_mcar_confounded/linear_ts_n1000_vars4_lag3_student_t_mcar30_missing.csv (deflated 55%)\n",
            "  adding: content/output_mcar_confounded/linear_ts_n500_vars4_lag2_student_t_mcar10_graph.png (deflated 5%)\n",
            "  adding: content/output_mcar_confounded/linear_ts_n3000_vars6_lag4_student_t_mcar30_graph.png (deflated 4%)\n",
            "  adding: content/output_mcar_confounded/linear_ts_n5000_vars8_lag4_gaussian_mcar10_series.png (deflated 1%)\n",
            "  adding: content/output_mcar_confounded/linear_ts_n3000_vars6_lag2_student_t_mcar10_complete.csv (deflated 55%)\n",
            "  adding: content/output_mcar_confounded/linear_ts_n1000_vars4_lag2_student_t_mcar20_missing_pattern.png (deflated 4%)\n",
            "  adding: content/output_mcar_confounded/linear_ts_n500_vars8_lag4_student_t_mcar10_missing_pattern.png (deflated 6%)\n",
            "  adding: content/output_mcar_confounded/linear_ts_n5000_vars4_lag2_gaussian_mcar10_missing_pattern.png (deflated 5%)\n",
            "  adding: content/output_mcar_confounded/linear_ts_n3000_vars6_lag4_student_t_mcar10_missing_pattern.png (deflated 4%)\n",
            "  adding: content/output_mcar_confounded/linear_ts_n500_vars4_lag2_student_t_mcar20_series.png (deflated 2%)\n",
            "  adding: content/output_mcar_confounded/linear_ts_n500_vars4_lag2_gaussian_mcar10_series.png (deflated 2%)\n",
            "  adding: content/output_mcar_confounded/linear_ts_n3000_vars4_lag4_student_t_mcar20_graph.png (deflated 4%)\n",
            "  adding: content/output_mcar_confounded/linear_ts_n500_vars4_lag4_gaussian_mcar20_series.png (deflated 2%)\n",
            "  adding: content/output_mcar_confounded/linear_ts_n500_vars6_lag3_student_t_mcar30_missing.csv (deflated 53%)\n",
            "  adding: content/output_mcar_confounded/linear_ts_n1000_vars6_lag3_gaussian_mcar30_structure.txt (deflated 47%)\n",
            "  adding: content/output_mcar_confounded/linear_ts_n1000_vars6_lag4_gaussian_mcar20_missing_pattern.png (deflated 6%)\n",
            "  adding: content/output_mcar_confounded/linear_ts_n3000_vars4_lag2_gaussian_mcar20_missing_pattern.png (deflated 5%)\n",
            "  adding: content/output_mcar_confounded/linear_ts_n500_vars6_lag3_student_t_mcar30_graph.png (deflated 4%)\n",
            "  adding: content/output_mcar_confounded/linear_ts_n3000_vars8_lag2_student_t_mcar20_missing.csv (deflated 55%)\n",
            "  adding: content/output_mcar_confounded/linear_ts_n3000_vars8_lag2_gaussian_mcar10_structure.txt (deflated 52%)\n",
            "  adding: content/output_mcar_confounded/linear_ts_n1000_vars8_lag4_student_t_mcar30_graph.png (deflated 5%)\n",
            "  adding: content/output_mcar_confounded/linear_ts_n500_vars6_lag4_student_t_mcar20_missing.csv (deflated 54%)\n",
            "  adding: content/output_mcar_confounded/linear_ts_n500_vars4_lag2_gaussian_mcar30_graph.png (deflated 5%)\n",
            "  adding: content/output_mcar_confounded/linear_ts_n500_vars8_lag3_student_t_mcar30_complete.csv (deflated 55%)\n",
            "  adding: content/output_mcar_confounded/linear_ts_n1000_vars6_lag4_gaussian_mcar30_missing.csv (deflated 54%)\n",
            "  adding: content/output_mcar_confounded/linear_ts_n500_vars8_lag4_student_t_mcar30_missing.csv (deflated 54%)\n",
            "  adding: content/output_mcar_confounded/linear_ts_n1000_vars4_lag3_student_t_mcar20_missing.csv (deflated 55%)\n",
            "  adding: content/output_mcar_confounded/linear_ts_n1000_vars8_lag3_student_t_mcar20_missing_pattern.png (deflated 5%)\n",
            "  adding: content/output_mcar_confounded/linear_ts_n3000_vars8_lag3_gaussian_mcar20_complete.csv (deflated 57%)\n",
            "  adding: content/output_mcar_confounded/linear_ts_n1000_vars8_lag4_student_t_mcar10_structure.txt (deflated 51%)\n",
            "  adding: content/output_mcar_confounded/linear_ts_n1000_vars4_lag3_student_t_mcar20_structure.txt (deflated 41%)\n",
            "  adding: content/output_mcar_confounded/linear_ts_n500_vars6_lag3_gaussian_mcar20_missing.csv (deflated 54%)\n",
            "  adding: content/output_mcar_confounded/linear_ts_n1000_vars4_lag3_student_t_mcar10_graph.png (deflated 4%)\n",
            "  adding: content/output_mcar_confounded/linear_ts_n3000_vars4_lag3_gaussian_mcar30_structure.txt (deflated 42%)\n",
            "  adding: content/output_mcar_confounded/linear_ts_n1000_vars8_lag2_gaussian_mcar10_complete.csv (deflated 55%)\n",
            "  adding: content/output_mcar_confounded/linear_ts_n5000_vars8_lag2_student_t_mcar10_complete.csv (deflated 56%)\n",
            "  adding: content/output_mcar_confounded/linear_ts_n500_vars6_lag3_student_t_mcar20_complete.csv (deflated 54%)\n",
            "  adding: content/output_mcar_confounded/linear_ts_n5000_vars8_lag2_student_t_mcar20_series.png (deflated 3%)\n",
            "  adding: content/output_mcar_confounded/linear_ts_n3000_vars6_lag3_student_t_mcar10_series.png (deflated 3%)\n",
            "  adding: content/output_mcar_confounded/linear_ts_n1000_vars6_lag2_gaussian_mcar20_graph.png (deflated 4%)\n",
            "  adding: content/output_mcar_confounded/linear_ts_n5000_vars8_lag3_gaussian_mcar30_structure.txt (deflated 50%)\n",
            "  adding: content/output_mcar_confounded/linear_ts_n3000_vars6_lag2_gaussian_mcar10_complete.csv (deflated 55%)\n",
            "  adding: content/output_mcar_confounded/linear_ts_n5000_vars6_lag3_gaussian_mcar10_missing_pattern.png (deflated 4%)\n",
            "  adding: content/output_mcar_confounded/linear_ts_n5000_vars6_lag4_student_t_mcar20_series.png (deflated 3%)\n",
            "  adding: content/output_mcar_confounded/linear_ts_n5000_vars6_lag2_gaussian_mcar20_missing_pattern.png (deflated 4%)\n",
            "  adding: content/output_mcar_confounded/linear_ts_n500_vars8_lag2_student_t_mcar10_structure.txt (deflated 52%)\n",
            "  adding: content/output_mcar_confounded/linear_ts_n1000_vars8_lag3_gaussian_mcar20_graph.png (deflated 4%)\n",
            "  adding: content/output_mcar_confounded/linear_ts_n1000_vars6_lag3_student_t_mcar30_complete.csv (deflated 55%)\n",
            "  adding: content/output_mcar_confounded/linear_ts_n5000_vars4_lag2_student_t_mcar20_complete.csv (deflated 57%)\n",
            "  adding: content/output_mcar_confounded/linear_ts_n3000_vars4_lag2_student_t_mcar20_structure.txt (deflated 39%)\n",
            "  adding: content/output_mcar_confounded/linear_ts_n500_vars8_lag3_student_t_mcar10_missing.csv (deflated 55%)\n",
            "  adding: content/output_mcar_confounded/linear_ts_n5000_vars4_lag2_gaussian_mcar10_series.png (deflated 1%)\n",
            "  adding: content/output_mcar_confounded/linear_ts_n500_vars8_lag3_student_t_mcar30_structure.txt (deflated 51%)\n",
            "  adding: content/output_mcar_confounded/linear_ts_n5000_vars6_lag2_gaussian_mcar20_missing.csv (deflated 55%)\n",
            "  adding: content/output_mcar_confounded/linear_ts_n3000_vars8_lag2_gaussian_mcar20_structure.txt (deflated 52%)\n",
            "  adding: content/output_mcar_confounded/linear_ts_n5000_vars6_lag4_gaussian_mcar30_complete.csv (deflated 56%)\n",
            "  adding: content/output_mcar_confounded/linear_ts_n5000_vars8_lag4_gaussian_mcar30_missing_pattern.png (deflated 3%)\n",
            "  adding: content/output_mcar_confounded/linear_ts_n5000_vars6_lag4_gaussian_mcar30_missing.csv (deflated 56%)\n",
            "  adding: content/output_mcar_confounded/linear_ts_n500_vars4_lag3_gaussian_mcar30_missing.csv (deflated 54%)\n",
            "  adding: content/output_mcar_confounded/linear_ts_n500_vars4_lag3_gaussian_mcar20_structure.txt (deflated 42%)\n",
            "  adding: content/output_mcar_confounded/linear_ts_n500_vars8_lag4_gaussian_mcar30_missing_pattern.png (deflated 4%)\n",
            "  adding: content/output_mcar_confounded/linear_ts_n500_vars8_lag3_student_t_mcar10_complete.csv (deflated 55%)\n",
            "  adding: content/output_mcar_confounded/linear_ts_n1000_vars4_lag2_student_t_mcar30_missing_pattern.png (deflated 4%)\n",
            "  adding: content/output_mcar_confounded/linear_ts_n1000_vars8_lag2_student_t_mcar20_graph.png (deflated 4%)\n",
            "  adding: content/output_mcar_confounded/linear_ts_n5000_vars4_lag4_student_t_mcar20_series.png (deflated 3%)\n",
            "  adding: content/output_mcar_confounded/linear_ts_n1000_vars8_lag2_student_t_mcar20_complete.csv (deflated 55%)\n",
            "  adding: content/output_mcar_confounded/linear_ts_n500_vars6_lag2_student_t_mcar30_missing.csv (deflated 52%)\n",
            "  adding: content/output_mcar_confounded/linear_ts_n3000_vars4_lag4_gaussian_mcar10_complete.csv (deflated 57%)\n",
            "  adding: content/output_mcar_confounded/linear_ts_n3000_vars6_lag3_student_t_mcar30_missing.csv (deflated 55%)\n",
            "  adding: content/output_mcar_confounded/linear_ts_n500_vars6_lag2_student_t_mcar10_series.png (deflated 3%)\n",
            "  adding: content/output_mcar_confounded/linear_ts_n1000_vars6_lag3_student_t_mcar20_complete.csv (deflated 55%)\n",
            "  adding: content/output_mcar_confounded/linear_ts_n500_vars8_lag2_gaussian_mcar10_series.png (deflated 1%)\n",
            "  adding: content/output_mcar_confounded/linear_ts_n5000_vars6_lag2_student_t_mcar30_missing_pattern.png (deflated 4%)\n",
            "  adding: content/output_mcar_confounded/linear_ts_n5000_vars8_lag3_gaussian_mcar30_complete.csv (deflated 57%)\n",
            "  adding: content/output_mcar_confounded/linear_ts_n500_vars4_lag3_student_t_mcar30_structure.txt (deflated 41%)\n",
            "  adding: content/output_mcar_confounded/linear_ts_n1000_vars8_lag3_gaussian_mcar10_series.png (deflated 1%)\n",
            "  adding: content/output_mcar_confounded/linear_ts_n3000_vars4_lag2_gaussian_mcar30_missing.csv (deflated 56%)\n",
            "  adding: content/output_mcar_confounded/linear_ts_n3000_vars4_lag2_student_t_mcar20_series.png (deflated 3%)\n",
            "  adding: content/output_mcar_confounded/linear_ts_n3000_vars6_lag2_gaussian_mcar20_structure.txt (deflated 47%)\n",
            "  adding: content/output_mcar_confounded/linear_ts_n1000_vars6_lag4_gaussian_mcar20_graph.png (deflated 4%)\n",
            "  adding: content/output_mcar_confounded/linear_ts_n1000_vars4_lag2_student_t_mcar30_structure.txt (deflated 39%)\n",
            "  adding: content/output_mcar_confounded/linear_ts_n5000_vars4_lag2_gaussian_mcar10_graph.png (deflated 5%)\n",
            "  adding: content/output_mcar_confounded/linear_ts_n5000_vars4_lag3_gaussian_mcar10_graph.png (deflated 4%)\n",
            "  adding: content/output_mcar_confounded/linear_ts_n3000_vars6_lag4_gaussian_mcar20_graph.png (deflated 4%)\n",
            "  adding: content/output_mcar_confounded/linear_ts_n5000_vars4_lag3_student_t_mcar10_graph.png (deflated 4%)\n",
            "  adding: content/output_mcar_confounded/linear_ts_n1000_vars8_lag4_student_t_mcar20_series.png (deflated 4%)\n",
            "  adding: content/output_mcar_confounded/linear_ts_n1000_vars8_lag2_student_t_mcar30_series.png (deflated 4%)\n",
            "  adding: content/output_mcar_confounded/linear_ts_n3000_vars8_lag2_gaussian_mcar30_series.png (deflated 1%)\n",
            "  adding: content/output_mcar_confounded/linear_ts_n500_vars6_lag4_student_t_mcar10_series.png (deflated 2%)\n",
            "  adding: content/output_mcar_confounded/linear_ts_n5000_vars6_lag4_student_t_mcar10_missing_pattern.png (deflated 4%)\n",
            "  adding: content/output_mcar_confounded/linear_ts_n1000_vars8_lag2_student_t_mcar30_graph.png (deflated 4%)\n",
            "  adding: content/output_mcar_confounded/linear_ts_n1000_vars8_lag2_student_t_mcar20_missing.csv (deflated 54%)\n",
            "  adding: content/output_mcar_confounded/linear_ts_n5000_vars6_lag3_gaussian_mcar30_complete.csv (deflated 56%)\n",
            "  adding: content/output_mcar_confounded/linear_ts_n3000_vars8_lag3_gaussian_mcar10_missing_pattern.png (deflated 4%)\n",
            "  adding: content/output_mcar_confounded/linear_ts_n1000_vars4_lag3_student_t_mcar30_structure.txt (deflated 41%)\n",
            "  adding: content/output_mcar_confounded/linear_ts_n3000_vars6_lag3_student_t_mcar20_complete.csv (deflated 56%)\n",
            "  adding: content/output_mcar_confounded/linear_ts_n1000_vars8_lag3_student_t_mcar30_missing.csv (deflated 55%)\n",
            "  adding: content/output_mcar_confounded/linear_ts_n3000_vars8_lag2_student_t_mcar30_missing.csv (deflated 55%)\n",
            "  adding: content/output_mcar_confounded/linear_ts_n1000_vars8_lag4_student_t_mcar20_graph.png (deflated 4%)\n",
            "  adding: content/output_mcar_confounded/linear_ts_n5000_vars4_lag4_gaussian_mcar10_graph.png (deflated 4%)\n",
            "  adding: content/output_mcar_confounded/linear_ts_n3000_vars6_lag3_gaussian_mcar10_complete.csv (deflated 56%)\n",
            "  adding: content/output_mcar_confounded/linear_ts_n5000_vars4_lag3_student_t_mcar20_missing_pattern.png (deflated 4%)\n",
            "  adding: content/output_mcar_confounded/linear_ts_n5000_vars6_lag4_gaussian_mcar20_structure.txt (deflated 46%)\n",
            "  adding: content/output_mcar_confounded/linear_ts_n5000_vars8_lag3_student_t_mcar10_graph.png (deflated 5%)\n",
            "  adding: content/output_mcar_confounded/linear_ts_n5000_vars4_lag3_gaussian_mcar30_graph.png (deflated 4%)\n",
            "  adding: content/output_mcar_confounded/linear_ts_n5000_vars8_lag2_gaussian_mcar20_series.png (deflated 1%)\n",
            "  adding: content/output_mcar_confounded/linear_ts_n500_vars6_lag4_gaussian_mcar20_structure.txt (deflated 46%)\n",
            "  adding: content/output_mcar_confounded/linear_ts_n3000_vars4_lag2_student_t_mcar10_graph.png (deflated 4%)\n",
            "  adding: content/output_mcar_confounded/linear_ts_n3000_vars4_lag4_student_t_mcar30_series.png (deflated 3%)\n",
            "  adding: content/output_mcar_confounded/linear_ts_n3000_vars6_lag3_gaussian_mcar30_missing.csv (deflated 55%)\n",
            "  adding: content/output_mcar_confounded/linear_ts_n5000_vars4_lag3_student_t_mcar20_complete.csv (deflated 57%)\n",
            "  adding: content/output_mcar_confounded/linear_ts_n500_vars8_lag4_student_t_mcar30_missing_pattern.png (deflated 4%)\n",
            "  adding: content/output_mcar_confounded/linear_ts_n3000_vars6_lag4_student_t_mcar30_complete.csv (deflated 56%)\n",
            "  adding: content/output_mcar_confounded/linear_ts_n1000_vars8_lag4_student_t_mcar20_complete.csv (deflated 56%)\n",
            "  adding: content/output_mcar_confounded/linear_ts_n5000_vars6_lag2_student_t_mcar20_graph.png (deflated 4%)\n",
            "  adding: content/output_mcar_confounded/linear_ts_n5000_vars6_lag4_student_t_mcar20_missing.csv (deflated 56%)\n",
            "  adding: content/output_mcar_confounded/linear_ts_n500_vars6_lag4_student_t_mcar30_missing_pattern.png (deflated 4%)\n",
            "  adding: content/output_mcar_confounded/linear_ts_n1000_vars6_lag3_student_t_mcar10_structure.txt (deflated 46%)\n",
            "  adding: content/output_mcar_confounded/linear_ts_n1000_vars4_lag4_student_t_mcar20_graph.png (deflated 4%)\n",
            "  adding: content/output_mcar_confounded/linear_ts_n5000_vars8_lag3_student_t_mcar20_graph.png (deflated 4%)\n",
            "  adding: content/output_mcar_confounded/linear_ts_n5000_vars4_lag4_gaussian_mcar20_missing_pattern.png (deflated 4%)\n",
            "  adding: content/output_mcar_confounded/linear_ts_n500_vars4_lag2_gaussian_mcar20_missing.csv (deflated 54%)\n",
            "  adding: content/output_mcar_confounded/linear_ts_n5000_vars4_lag4_gaussian_mcar20_missing.csv (deflated 57%)\n",
            "  adding: content/output_mcar_confounded/linear_ts_n3000_vars8_lag4_gaussian_mcar30_graph.png (deflated 4%)\n",
            "  adding: content/output_mcar_confounded/linear_ts_n5000_vars8_lag2_student_t_mcar20_graph.png (deflated 4%)\n",
            "  adding: content/output_mcar_confounded/linear_ts_n1000_vars8_lag3_student_t_mcar10_complete.csv (deflated 56%)\n",
            "  adding: content/output_mcar_confounded/linear_ts_n3000_vars8_lag4_student_t_mcar20_missing.csv (deflated 56%)\n",
            "  adding: content/output_mcar_confounded/linear_ts_n3000_vars4_lag4_student_t_mcar10_series.png (deflated 3%)\n",
            "  adding: content/output_mcar_confounded/linear_ts_n1000_vars6_lag3_gaussian_mcar10_graph.png (deflated 4%)\n",
            "  adding: content/output_mcar_confounded/linear_ts_n3000_vars6_lag2_student_t_mcar30_graph.png (deflated 4%)\n",
            "  adding: content/output_mcar_confounded/linear_ts_n500_vars4_lag3_gaussian_mcar30_structure.txt (deflated 42%)\n",
            "  adding: content/output_mcar_confounded/linear_ts_n3000_vars6_lag2_gaussian_mcar30_graph.png (deflated 4%)\n",
            "  adding: content/output_mcar_confounded/linear_ts_n5000_vars8_lag2_gaussian_mcar10_structure.txt (deflated 52%)\n",
            "  adding: content/output_mcar_confounded/linear_ts_n5000_vars6_lag3_student_t_mcar30_structure.txt (deflated 46%)\n",
            "  adding: content/output_mcar_confounded/linear_ts_n500_vars8_lag2_student_t_mcar20_missing.csv (deflated 54%)\n",
            "  adding: content/output_mcar_confounded/linear_ts_n3000_vars6_lag2_student_t_mcar20_structure.txt (deflated 47%)\n",
            "  adding: content/output_mcar_confounded/linear_ts_n5000_vars4_lag4_gaussian_mcar30_series.png (deflated 1%)\n",
            "  adding: content/output_mcar_confounded/linear_ts_n5000_vars8_lag2_student_t_mcar30_missing_pattern.png (deflated 3%)\n",
            "  adding: content/output_mcar_confounded/linear_ts_n1000_vars4_lag2_gaussian_mcar30_complete.csv (deflated 56%)\n",
            "  adding: content/output_mcar_confounded/linear_ts_n500_vars8_lag3_student_t_mcar10_structure.txt (deflated 51%)\n",
            "  adding: content/output_mcar_confounded/linear_ts_n3000_vars8_lag3_gaussian_mcar30_complete.csv (deflated 57%)\n",
            "  adding: content/output_mcar_confounded/linear_ts_n5000_vars6_lag3_student_t_mcar30_graph.png (deflated 4%)\n",
            "  adding: content/output_mcar_confounded/linear_ts_n500_vars4_lag3_gaussian_mcar20_missing.csv (deflated 54%)\n",
            "  adding: content/output_mcar_confounded/linear_ts_n3000_vars6_lag4_gaussian_mcar20_complete.csv (deflated 56%)\n",
            "  adding: content/output_mcar_confounded/linear_ts_n500_vars6_lag2_student_t_mcar10_structure.txt (deflated 47%)\n",
            "  adding: content/output_mcar_confounded/linear_ts_n3000_vars8_lag3_gaussian_mcar20_missing_pattern.png (deflated 4%)\n",
            "  adding: content/output_mcar_confounded/linear_ts_n500_vars6_lag4_gaussian_mcar30_structure.txt (deflated 46%)\n",
            "  adding: content/output_mcar_confounded/linear_ts_n500_vars6_lag2_student_t_mcar30_graph.png (deflated 4%)\n",
            "  adding: content/output_mcar_confounded/linear_ts_n5000_vars8_lag2_student_t_mcar30_structure.txt (deflated 52%)\n",
            "  adding: content/output_mcar_confounded/linear_ts_n1000_vars8_lag3_student_t_mcar10_structure.txt (deflated 51%)\n",
            "  adding: content/output_mcar_confounded/linear_ts_n3000_vars4_lag2_gaussian_mcar20_complete.csv (deflated 57%)\n",
            "  adding: content/output_mcar_confounded/linear_ts_n5000_vars8_lag4_gaussian_mcar30_graph.png (deflated 4%)\n",
            "  adding: content/output_mcar_confounded/linear_ts_n3000_vars6_lag3_gaussian_mcar10_series.png (deflated 1%)\n",
            "  adding: content/output_mcar_confounded/linear_ts_n3000_vars4_lag2_gaussian_mcar10_graph.png (deflated 4%)\n",
            "  adding: content/output_mcar_confounded/linear_ts_n1000_vars8_lag3_gaussian_mcar20_complete.csv (deflated 56%)\n",
            "  adding: content/output_mcar_confounded/linear_ts_n1000_vars6_lag4_student_t_mcar20_structure.txt (deflated 46%)\n",
            "  adding: content/output_mcar_confounded/linear_ts_n3000_vars6_lag4_student_t_mcar10_series.png (deflated 3%)\n",
            "  adding: content/output_mcar_confounded/linear_ts_n1000_vars4_lag4_student_t_mcar30_series.png (deflated 3%)\n",
            "  adding: content/output_mcar_confounded/linear_ts_n5000_vars6_lag4_gaussian_mcar30_graph.png (deflated 4%)\n",
            "  adding: content/output_mcar_confounded/linear_ts_n1000_vars8_lag3_student_t_mcar10_missing_pattern.png (deflated 5%)\n",
            "  adding: content/output_mcar_confounded/linear_ts_n3000_vars4_lag4_gaussian_mcar30_graph.png (deflated 4%)\n",
            "  adding: content/output_mcar_confounded/linear_ts_n3000_vars6_lag2_gaussian_mcar30_structure.txt (deflated 47%)\n",
            "  adding: content/output_mcar_confounded/linear_ts_n3000_vars4_lag4_student_t_mcar20_missing_pattern.png (deflated 5%)\n",
            "  adding: content/output_mcar_confounded/linear_ts_n500_vars4_lag2_student_t_mcar20_missing.csv (deflated 54%)\n",
            "  adding: content/output_mcar_confounded/linear_ts_n1000_vars6_lag4_gaussian_mcar10_missing.csv (deflated 55%)\n",
            "  adding: content/output_mcar_confounded/linear_ts_n500_vars8_lag4_gaussian_mcar20_graph.png (deflated 4%)\n",
            "  adding: content/output_mcar_confounded/linear_ts_n1000_vars4_lag4_gaussian_mcar30_missing.csv (deflated 55%)\n",
            "  adding: content/output_mcar_confounded/linear_ts_n500_vars8_lag2_student_t_mcar10_series.png (deflated 3%)\n",
            "  adding: content/output_mcar_confounded/linear_ts_n3000_vars8_lag4_gaussian_mcar30_complete.csv (deflated 57%)\n",
            "  adding: content/output_mcar_confounded/linear_ts_n5000_vars6_lag2_gaussian_mcar20_complete.csv (deflated 55%)\n",
            "  adding: content/output_mcar_confounded/linear_ts_n3000_vars8_lag2_gaussian_mcar20_missing.csv (deflated 55%)\n",
            "  adding: content/output_mcar_confounded/linear_ts_n1000_vars8_lag3_gaussian_mcar30_missing_pattern.png (deflated 4%)\n",
            "  adding: content/output_mcar_confounded/linear_ts_n5000_vars8_lag4_student_t_mcar30_missing_pattern.png (deflated 3%)\n",
            "  adding: content/output_mcar_confounded/linear_ts_n3000_vars6_lag3_gaussian_mcar20_missing.csv (deflated 56%)\n",
            "  adding: content/output_mcar_confounded/linear_ts_n5000_vars6_lag2_student_t_mcar10_structure.txt (deflated 47%)\n",
            "  adding: content/output_mcar_confounded/linear_ts_n1000_vars6_lag4_student_t_mcar30_series.png (deflated 3%)\n",
            "  adding: content/output_mcar_confounded/linear_ts_n5000_vars8_lag3_gaussian_mcar10_graph.png (deflated 5%)\n",
            "  adding: content/output_mcar_confounded/linear_ts_n500_vars6_lag2_gaussian_mcar10_series.png (deflated 1%)\n",
            "  adding: content/output_mcar_confounded/linear_ts_n500_vars4_lag4_student_t_mcar30_complete.csv (deflated 55%)\n",
            "  adding: content/output_mcar_confounded/linear_ts_n500_vars6_lag4_student_t_mcar10_structure.txt (deflated 46%)\n",
            "  adding: content/output_mcar_confounded/linear_ts_n1000_vars6_lag2_student_t_mcar10_missing.csv (deflated 53%)\n",
            "  adding: content/output_mcar_confounded/linear_ts_n1000_vars4_lag2_student_t_mcar30_series.png (deflated 3%)\n",
            "  adding: content/output_mcar_confounded/linear_ts_n5000_vars6_lag4_student_t_mcar10_graph.png (deflated 4%)\n",
            "  adding: content/output_mcar_confounded/linear_ts_n5000_vars4_lag4_gaussian_mcar20_structure.txt (deflated 42%)\n",
            "  adding: content/output_mcar_confounded/linear_ts_n5000_vars4_lag4_student_t_mcar10_missing.csv (deflated 57%)\n",
            "  adding: content/output_mcar_confounded/linear_ts_n500_vars8_lag2_student_t_mcar20_missing_pattern.png (deflated 4%)\n",
            "  adding: content/output_mcar_confounded/linear_ts_n1000_vars6_lag4_gaussian_mcar20_complete.csv (deflated 55%)\n",
            "  adding: content/output_mcar_confounded/linear_ts_n1000_vars8_lag4_gaussian_mcar20_missing_pattern.png (deflated 4%)\n",
            "  adding: content/output_mcar_confounded/linear_ts_n5000_vars6_lag2_gaussian_mcar30_missing_pattern.png (deflated 4%)\n",
            "  adding: content/output_mcar_confounded/linear_ts_n3000_vars8_lag4_gaussian_mcar20_series.png (deflated 1%)\n",
            "  adding: content/output_mcar_confounded/linear_ts_n5000_vars6_lag2_student_t_mcar20_structure.txt (deflated 47%)\n",
            "  adding: content/output_mcar_confounded/linear_ts_n1000_vars8_lag4_student_t_mcar10_missing_pattern.png (deflated 5%)\n",
            "  adding: content/output_mcar_confounded/linear_ts_n1000_vars6_lag4_gaussian_mcar30_series.png (deflated 1%)\n",
            "  adding: content/output_mcar_confounded/linear_ts_n3000_vars6_lag4_gaussian_mcar30_missing_pattern.png (deflated 4%)\n",
            "  adding: content/output_mcar_confounded/linear_ts_n500_vars4_lag2_gaussian_mcar10_missing.csv (deflated 55%)\n",
            "  adding: content/output_mcar_confounded/linear_ts_n500_vars8_lag2_student_t_mcar20_series.png (deflated 4%)\n",
            "  adding: content/output_mcar_confounded/linear_ts_n3000_vars4_lag2_gaussian_mcar10_structure.txt (deflated 40%)\n",
            "  adding: content/output_mcar_confounded/linear_ts_n500_vars6_lag3_gaussian_mcar20_missing_pattern.png (deflated 5%)\n",
            "  adding: content/output_mcar_confounded/linear_ts_n500_vars6_lag4_gaussian_mcar30_graph.png (deflated 4%)\n",
            "  adding: content/output_mcar_confounded/linear_ts_n3000_vars6_lag3_student_t_mcar10_missing.csv (deflated 56%)\n",
            "  adding: content/output_mcar_confounded/linear_ts_n5000_vars4_lag2_student_t_mcar10_missing_pattern.png (deflated 5%)\n",
            "  adding: content/output_mcar_confounded/linear_ts_n5000_vars6_lag3_student_t_mcar20_missing_pattern.png (deflated 4%)\n",
            "  adding: content/output_mcar_confounded/linear_ts_n5000_vars6_lag2_gaussian_mcar30_structure.txt (deflated 47%)\n",
            "  adding: content/output_mcar_confounded/linear_ts_n5000_vars8_lag4_gaussian_mcar20_structure.txt (deflated 50%)\n",
            "  adding: content/output_mcar_confounded/linear_ts_n5000_vars8_lag3_student_t_mcar30_missing.csv (deflated 56%)\n",
            "  adding: content/output_mcar_confounded/linear_ts_n500_vars8_lag3_gaussian_mcar10_missing.csv (deflated 55%)\n",
            "  adding: content/output_mcar_confounded/linear_ts_n1000_vars8_lag3_student_t_mcar10_series.png (deflated 4%)\n",
            "  adding: content/output_mcar_confounded/linear_ts_n3000_vars8_lag4_student_t_mcar10_structure.txt (deflated 51%)\n",
            "  adding: content/output_mcar_confounded/linear_ts_n500_vars6_lag2_student_t_mcar30_complete.csv (deflated 53%)\n",
            "  adding: content/output_mcar_confounded/linear_ts_n1000_vars6_lag2_gaussian_mcar20_complete.csv (deflated 54%)\n",
            "  adding: content/output_mcar_confounded/linear_ts_n1000_vars6_lag2_student_t_mcar30_complete.csv (deflated 54%)\n",
            "  adding: content/output_mcar_confounded/linear_ts_n1000_vars6_lag3_gaussian_mcar30_graph.png (deflated 4%)\n",
            "  adding: content/output_mcar_confounded/linear_ts_n3000_vars4_lag4_gaussian_mcar30_series.png (deflated 1%)\n",
            "  adding: content/output_mcar_confounded/linear_ts_n500_vars4_lag2_gaussian_mcar20_graph.png (deflated 4%)\n",
            "  adding: content/output_mcar_confounded/linear_ts_n500_vars6_lag3_student_t_mcar30_series.png (deflated 2%)\n",
            "  adding: content/output_mcar_confounded/linear_ts_n500_vars8_lag2_student_t_mcar20_structure.txt (deflated 52%)\n",
            "  adding: content/output_mcar_confounded/linear_ts_n5000_vars4_lag3_student_t_mcar20_structure.txt (deflated 41%)\n",
            "  adding: content/output_mcar_confounded/linear_ts_n5000_vars4_lag4_student_t_mcar20_missing_pattern.png (deflated 4%)\n",
            "  adding: content/output_mcar_confounded/linear_ts_n500_vars8_lag4_student_t_mcar10_complete.csv (deflated 55%)\n",
            "  adding: content/output_mcar_confounded/linear_ts_n1000_vars4_lag4_student_t_mcar30_complete.csv (deflated 56%)\n",
            "  adding: content/output_mcar_confounded/linear_ts_n3000_vars4_lag3_gaussian_mcar10_missing.csv (deflated 57%)\n",
            "  adding: content/output_mcar_confounded/linear_ts_n1000_vars6_lag2_gaussian_mcar20_series.png (deflated 1%)\n",
            "  adding: content/output_mcar_confounded/linear_ts_n5000_vars6_lag3_student_t_mcar20_series.png (deflated 3%)\n",
            "  adding: content/output_mcar_confounded/linear_ts_n5000_vars8_lag2_gaussian_mcar30_structure.txt (deflated 52%)\n",
            "  adding: content/output_mcar_confounded/linear_ts_n1000_vars8_lag2_gaussian_mcar20_missing_pattern.png (deflated 4%)\n",
            "  adding: content/output_mcar_confounded/linear_ts_n3000_vars6_lag3_gaussian_mcar30_graph.png (deflated 4%)\n",
            "  adding: content/output_mcar_confounded/linear_ts_n3000_vars4_lag2_gaussian_mcar30_series.png (deflated 1%)\n",
            "  adding: content/output_mcar_confounded/linear_ts_n1000_vars4_lag4_gaussian_mcar30_graph.png (deflated 4%)\n",
            "  adding: content/output_mcar_confounded/linear_ts_n3000_vars8_lag4_gaussian_mcar20_missing_pattern.png (deflated 4%)\n",
            "  adding: content/output_mcar_confounded/linear_ts_n500_vars6_lag3_student_t_mcar20_structure.txt (deflated 46%)\n",
            "  adding: content/output_mcar_confounded/linear_ts_n3000_vars4_lag2_student_t_mcar30_missing_pattern.png (deflated 4%)\n",
            "  adding: content/output_mcar_confounded/linear_ts_n3000_vars6_lag2_student_t_mcar10_missing.csv (deflated 54%)\n",
            "  adding: content/output_mcar_confounded/linear_ts_n500_vars4_lag3_gaussian_mcar30_series.png (deflated 2%)\n",
            "  adding: content/output_mcar_confounded/linear_ts_n500_vars4_lag2_gaussian_mcar30_structure.txt (deflated 40%)\n",
            "  adding: content/output_mcar_confounded/linear_ts_n1000_vars6_lag2_gaussian_mcar30_structure.txt (deflated 47%)\n",
            "  adding: content/output_mcar_confounded/linear_ts_n5000_vars6_lag2_gaussian_mcar30_missing.csv (deflated 55%)\n",
            "  adding: content/output_mcar_confounded/linear_ts_n500_vars4_lag3_student_t_mcar20_missing.csv (deflated 54%)\n",
            "  adding: content/output_mcar_confounded/linear_ts_n1000_vars4_lag2_gaussian_mcar10_graph.png (deflated 5%)\n",
            "  adding: content/output_mcar_confounded/linear_ts_n3000_vars8_lag4_gaussian_mcar10_graph.png (deflated 4%)\n",
            "  adding: content/output_mcar_confounded/linear_ts_n500_vars8_lag4_student_t_mcar20_series.png (deflated 4%)\n",
            "  adding: content/output_mcar_confounded/linear_ts_n5000_vars6_lag3_gaussian_mcar30_structure.txt (deflated 47%)\n",
            "  adding: content/output_mcar_confounded/linear_ts_n5000_vars4_lag4_gaussian_mcar10_structure.txt (deflated 42%)\n",
            "  adding: content/output_mcar_confounded/linear_ts_n1000_vars6_lag4_student_t_mcar30_structure.txt (deflated 46%)\n",
            "  adding: content/output_mcar_confounded/linear_ts_n1000_vars4_lag3_student_t_mcar20_graph.png (deflated 4%)\n",
            "  adding: content/output_mcar_confounded/linear_ts_n500_vars6_lag2_gaussian_mcar20_structure.txt (deflated 47%)\n",
            "  adding: content/output_mcar_confounded/linear_ts_n500_vars4_lag2_student_t_mcar30_graph.png (deflated 5%)\n",
            "  adding: content/output_mcar_confounded/linear_ts_n5000_vars4_lag2_student_t_mcar10_structure.txt (deflated 39%)\n",
            "  adding: content/output_mcar_confounded/linear_ts_n3000_vars4_lag2_gaussian_mcar10_missing_pattern.png (deflated 4%)\n",
            "  adding: content/output_mcar_confounded/linear_ts_n500_vars8_lag3_student_t_mcar30_graph.png (deflated 4%)\n",
            "  adding: content/output_mcar_confounded/linear_ts_n3000_vars6_lag4_student_t_mcar20_series.png (deflated 3%)\n",
            "  adding: content/output_mcar_confounded/linear_ts_n3000_vars4_lag4_student_t_mcar30_structure.txt (deflated 41%)\n",
            "  adding: content/output_mcar_confounded/linear_ts_n3000_vars4_lag3_student_t_mcar20_series.png (deflated 3%)\n",
            "  adding: content/output_mcar_confounded/linear_ts_n1000_vars4_lag3_student_t_mcar10_complete.csv (deflated 56%)\n",
            "  adding: content/output_mcar_confounded/linear_ts_n1000_vars8_lag3_gaussian_mcar10_structure.txt (deflated 50%)\n",
            "  adding: content/output_mcar_confounded/linear_ts_n500_vars8_lag4_student_t_mcar20_structure.txt (deflated 51%)\n",
            "  adding: content/output_mcar_confounded/linear_ts_n3000_vars4_lag3_gaussian_mcar30_graph.png (deflated 4%)\n",
            "  adding: content/output_mcar_confounded/linear_ts_n500_vars4_lag2_student_t_mcar30_missing.csv (deflated 54%)\n",
            "  adding: content/output_mcar_confounded/linear_ts_n3000_vars4_lag2_student_t_mcar30_series.png (deflated 3%)\n",
            "  adding: content/output_mcar_confounded/linear_ts_n5000_vars8_lag3_student_t_mcar20_complete.csv (deflated 57%)\n",
            "  adding: content/output_mcar_confounded/linear_ts_n3000_vars4_lag3_gaussian_mcar30_complete.csv (deflated 57%)\n",
            "  adding: content/output_mcar_confounded/linear_ts_n1000_vars4_lag3_gaussian_mcar30_graph.png (deflated 4%)\n",
            "  adding: content/output_mcar_confounded/linear_ts_n1000_vars8_lag4_gaussian_mcar30_missing.csv (deflated 55%)\n",
            "  adding: content/output_mcar_confounded/linear_ts_n5000_vars4_lag3_student_t_mcar30_structure.txt (deflated 41%)\n",
            "  adding: content/output_mcar_confounded/linear_ts_n3000_vars4_lag4_gaussian_mcar30_complete.csv (deflated 57%)\n",
            "  adding: content/output_mcar_confounded/linear_ts_n500_vars4_lag4_student_t_mcar20_complete.csv (deflated 55%)\n",
            "  adding: content/output_mcar_confounded/linear_ts_n3000_vars4_lag2_gaussian_mcar20_series.png (deflated 1%)\n",
            "  adding: content/output_mcar_confounded/linear_ts_n5000_vars8_lag3_student_t_mcar30_missing_pattern.png (deflated 3%)\n",
            "  adding: content/output_mcar_confounded/linear_ts_n3000_vars4_lag3_student_t_mcar20_missing_pattern.png (deflated 5%)\n",
            "  adding: content/output_mcar_confounded/linear_ts_n1000_vars8_lag4_student_t_mcar30_missing_pattern.png (deflated 4%)\n",
            "  adding: content/output_mcar_confounded/linear_ts_n5000_vars4_lag4_gaussian_mcar30_structure.txt (deflated 42%)\n",
            "  adding: content/output_mcar_confounded/linear_ts_n3000_vars4_lag4_gaussian_mcar20_missing_pattern.png (deflated 5%)\n",
            "  adding: content/output_mcar_confounded/linear_ts_n3000_vars6_lag3_student_t_mcar10_structure.txt (deflated 46%)\n",
            "  adding: content/output_mcar_confounded/linear_ts_n1000_vars6_lag2_student_t_mcar30_missing.csv (deflated 53%)\n",
            "  adding: content/output_mcar_confounded/linear_ts_n5000_vars8_lag3_student_t_mcar10_missing_pattern.png (deflated 4%)\n",
            "  adding: content/output_mcar_confounded/linear_ts_n3000_vars6_lag2_gaussian_mcar10_missing.csv (deflated 55%)\n",
            "  adding: content/output_mcar_confounded/linear_ts_n3000_vars4_lag2_student_t_mcar10_series.png (deflated 3%)\n",
            "  adding: content/output_mcar_confounded/linear_ts_n500_vars6_lag4_gaussian_mcar30_series.png (deflated 2%)\n",
            "  adding: content/output_mcar_confounded/linear_ts_n1000_vars6_lag3_student_t_mcar10_complete.csv (deflated 55%)\n",
            "  adding: content/output_mcar_confounded/linear_ts_n3000_vars8_lag2_student_t_mcar20_structure.txt (deflated 52%)\n",
            "  adding: content/output_mcar_confounded/linear_ts_n500_vars6_lag4_student_t_mcar30_graph.png (deflated 4%)\n",
            "  adding: content/output_mcar_confounded/linear_ts_n1000_vars8_lag4_gaussian_mcar20_graph.png (deflated 5%)\n",
            "  adding: content/output_mcar_confounded/linear_ts_n3000_vars6_lag4_gaussian_mcar10_missing.csv (deflated 56%)\n",
            "  adding: content/output_mcar_confounded/linear_ts_n5000_vars4_lag2_gaussian_mcar10_missing.csv (deflated 57%)\n",
            "  adding: content/output_mcar_confounded/linear_ts_n1000_vars4_lag4_gaussian_mcar10_graph.png (deflated 3%)\n",
            "  adding: content/output_mcar_confounded/linear_ts_n500_vars4_lag2_gaussian_mcar10_graph.png (deflated 4%)\n",
            "  adding: content/output_mcar_confounded/linear_ts_n3000_vars4_lag2_student_t_mcar20_graph.png (deflated 4%)\n",
            "  adding: content/output_mcar_confounded/linear_ts_n3000_vars8_lag3_student_t_mcar30_complete.csv (deflated 57%)\n",
            "  adding: content/output_mcar_confounded/linear_ts_n1000_vars8_lag3_gaussian_mcar10_complete.csv (deflated 56%)\n",
            "  adding: content/output_mcar_confounded/linear_ts_n1000_vars4_lag2_student_t_mcar30_graph.png (deflated 4%)\n",
            "  adding: content/output_mcar_confounded/linear_ts_n3000_vars8_lag2_gaussian_mcar30_missing_pattern.png (deflated 4%)\n",
            "  adding: content/output_mcar_confounded/linear_ts_n3000_vars6_lag2_gaussian_mcar20_missing_pattern.png (deflated 4%)\n",
            "  adding: content/output_mcar_confounded/linear_ts_n1000_vars4_lag4_gaussian_mcar20_graph.png (deflated 4%)\n",
            "  adding: content/output_mcar_confounded/linear_ts_n5000_vars6_lag4_gaussian_mcar20_series.png (deflated 1%)\n",
            "  adding: content/output_mcar_confounded/linear_ts_n500_vars8_lag4_gaussian_mcar10_series.png (deflated 1%)\n",
            "  adding: content/output_mcar_confounded/linear_ts_n5000_vars4_lag2_student_t_mcar30_series.png (deflated 3%)\n",
            "  adding: content/output_mcar_confounded/linear_ts_n5000_vars6_lag3_student_t_mcar10_missing.csv (deflated 56%)\n",
            "  adding: content/output_mcar_confounded/linear_ts_n3000_vars6_lag4_student_t_mcar30_structure.txt (deflated 46%)\n",
            "  adding: content/output_mcar_confounded/linear_ts_n3000_vars6_lag4_student_t_mcar30_missing_pattern.png (deflated 4%)\n",
            "  adding: content/output_mcar_confounded/linear_ts_n1000_vars4_lag4_gaussian_mcar20_missing_pattern.png (deflated 4%)\n",
            "  adding: content/output_mcar_confounded/linear_ts_n3000_vars6_lag3_gaussian_mcar30_missing_pattern.png (deflated 4%)\n",
            "  adding: content/output_mcar_confounded/linear_ts_n500_vars4_lag4_student_t_mcar20_graph.png (deflated 4%)\n",
            "  adding: content/output_mcar_confounded/linear_ts_n500_vars6_lag2_student_t_mcar10_complete.csv (deflated 53%)\n",
            "  adding: content/output_mcar_confounded/linear_ts_n1000_vars6_lag3_gaussian_mcar10_missing_pattern.png (deflated 7%)\n",
            "  adding: content/output_mcar_confounded/linear_ts_n1000_vars6_lag4_student_t_mcar30_missing_pattern.png (deflated 5%)\n",
            "  adding: content/output_mcar_confounded/linear_ts_n500_vars4_lag3_gaussian_mcar10_missing.csv (deflated 55%)\n",
            "  adding: content/output_mcar_confounded/linear_ts_n1000_vars4_lag3_student_t_mcar10_series.png (deflated 3%)\n",
            "  adding: content/output_mcar_confounded/linear_ts_n500_vars4_lag4_gaussian_mcar20_complete.csv (deflated 55%)\n",
            "  adding: content/output_mcar_confounded/linear_ts_n500_vars8_lag2_student_t_mcar20_complete.csv (deflated 54%)\n",
            "  adding: content/output_mcar_confounded/linear_ts_n1000_vars6_lag3_student_t_mcar30_missing_pattern.png (deflated 5%)\n",
            "  adding: content/output_mcar_confounded/linear_ts_n500_vars6_lag4_gaussian_mcar10_series.png (deflated 2%)\n",
            "  adding: content/output_mcar_confounded/linear_ts_n500_vars8_lag2_gaussian_mcar20_missing.csv (deflated 54%)\n",
            "  adding: content/output_mcar_confounded/linear_ts_n500_vars6_lag3_gaussian_mcar30_series.png (deflated 2%)\n",
            "  adding: content/output_mcar_confounded/linear_ts_n3000_vars6_lag2_gaussian_mcar30_complete.csv (deflated 55%)\n",
            "  adding: content/output_mcar_confounded/linear_ts_n3000_vars4_lag3_gaussian_mcar20_missing_pattern.png (deflated 5%)\n",
            "  adding: content/output_mcar_confounded/linear_ts_n5000_vars4_lag4_student_t_mcar10_complete.csv (deflated 57%)\n",
            "  adding: content/output_mcar_confounded/linear_ts_n5000_vars8_lag4_student_t_mcar30_structure.txt (deflated 51%)\n",
            "  adding: content/output_mcar_confounded/linear_ts_n1000_vars6_lag2_gaussian_mcar20_missing.csv (deflated 54%)\n",
            "  adding: content/output_mcar_confounded/linear_ts_n3000_vars8_lag4_gaussian_mcar30_structure.txt (deflated 50%)\n",
            "  adding: content/output_mcar_confounded/linear_ts_n1000_vars6_lag2_gaussian_mcar20_structure.txt (deflated 47%)\n",
            "  adding: content/output_mcar_confounded/linear_ts_n3000_vars4_lag3_student_t_mcar20_graph.png (deflated 3%)\n",
            "  adding: content/output_mcar_confounded/linear_ts_n5000_vars4_lag2_gaussian_mcar10_complete.csv (deflated 58%)\n",
            "  adding: content/output_mcar_confounded/linear_ts_n5000_vars6_lag2_student_t_mcar30_missing.csv (deflated 54%)\n",
            "  adding: content/output_mcar_confounded/linear_ts_n5000_vars6_lag3_student_t_mcar20_complete.csv (deflated 56%)\n",
            "  adding: content/output_mcar_confounded/linear_ts_n5000_vars8_lag4_student_t_mcar20_missing.csv (deflated 56%)\n",
            "  adding: content/output_mcar_confounded/linear_ts_n5000_vars8_lag3_student_t_mcar30_graph.png (deflated 4%)\n",
            "  adding: content/output_mcar_confounded/linear_ts_n3000_vars6_lag2_student_t_mcar30_complete.csv (deflated 55%)\n",
            "  adding: content/output_mcar_confounded/linear_ts_n1000_vars6_lag2_gaussian_mcar10_graph.png (deflated 4%)\n",
            "  adding: content/output_mcar_confounded/linear_ts_n3000_vars6_lag2_gaussian_mcar30_missing.csv (deflated 54%)\n",
            "  adding: content/output_mcar_confounded/linear_ts_n5000_vars4_lag3_gaussian_mcar30_series.png (deflated 1%)\n",
            "  adding: content/output_mcar_confounded/linear_ts_n1000_vars8_lag4_student_t_mcar30_complete.csv (deflated 56%)\n",
            "  adding: content/output_mcar_confounded/linear_ts_n5000_vars6_lag4_gaussian_mcar20_graph.png (deflated 4%)\n",
            "  adding: content/output_mcar_confounded/linear_ts_n1000_vars4_lag4_student_t_mcar30_structure.txt (deflated 41%)\n",
            "  adding: content/output_mcar_confounded/linear_ts_n3000_vars8_lag4_student_t_mcar10_missing_pattern.png (deflated 4%)\n",
            "  adding: content/output_mcar_confounded/linear_ts_n500_vars8_lag3_gaussian_mcar20_missing_pattern.png (deflated 4%)\n",
            "  adding: content/output_mcar_confounded/linear_ts_n5000_vars6_lag2_student_t_mcar20_series.png (deflated 3%)\n",
            "  adding: content/output_mcar_confounded/linear_ts_n1000_vars4_lag4_student_t_mcar10_missing.csv (deflated 55%)\n",
            "  adding: content/output_mcar_confounded/linear_ts_n3000_vars4_lag4_student_t_mcar20_structure.txt (deflated 41%)\n",
            "  adding: content/output_mcar_confounded/linear_ts_n500_vars6_lag4_student_t_mcar30_missing.csv (deflated 53%)\n",
            "  adding: content/output_mcar_confounded/linear_ts_n3000_vars4_lag3_student_t_mcar30_missing_pattern.png (deflated 4%)\n",
            "  adding: content/output_mcar_confounded/linear_ts_n1000_vars8_lag2_student_t_mcar10_complete.csv (deflated 55%)\n",
            "  adding: content/output_mcar_confounded/linear_ts_n1000_vars8_lag3_gaussian_mcar20_missing.csv (deflated 55%)\n",
            "  adding: content/output_mcar_confounded/linear_ts_n1000_vars8_lag3_gaussian_mcar30_missing.csv (deflated 55%)\n",
            "  adding: content/output_mcar_confounded/linear_ts_n3000_vars8_lag4_student_t_mcar20_series.png (deflated 3%)\n",
            "  adding: content/output_mcar_confounded/linear_ts_n5000_vars6_lag3_student_t_mcar20_missing.csv (deflated 56%)\n",
            "  adding: content/output_mcar_confounded/linear_ts_n5000_vars8_lag2_gaussian_mcar20_missing_pattern.png (deflated 4%)\n",
            "  adding: content/output_mcar_confounded/linear_ts_n3000_vars8_lag2_student_t_mcar30_series.png (deflated 3%)\n",
            "  adding: content/output_mcar_confounded/linear_ts_n3000_vars6_lag2_student_t_mcar30_missing_pattern.png (deflated 4%)\n",
            "  adding: content/output_mcar_confounded/linear_ts_n500_vars6_lag4_gaussian_mcar20_missing.csv (deflated 54%)\n",
            "  adding: content/output_mcar_confounded/linear_ts_n3000_vars4_lag4_gaussian_mcar10_series.png (deflated 1%)\n",
            "  adding: content/output_mcar_confounded/linear_ts_n5000_vars4_lag4_gaussian_mcar30_complete.csv (deflated 58%)\n",
            "  adding: content/output_mcar_confounded/linear_ts_n3000_vars8_lag2_gaussian_mcar20_complete.csv (deflated 56%)\n",
            "  adding: content/output_mcar_confounded/linear_ts_n1000_vars6_lag2_student_t_mcar20_missing_pattern.png (deflated 5%)\n",
            "  adding: content/output_mcar_confounded/linear_ts_n3000_vars8_lag4_gaussian_mcar20_complete.csv (deflated 57%)\n",
            "  adding: content/output_mcar_confounded/linear_ts_n500_vars6_lag3_student_t_mcar20_graph.png (deflated 4%)\n",
            "  adding: content/output_mcar_confounded/linear_ts_n1000_vars6_lag2_student_t_mcar10_complete.csv (deflated 54%)\n",
            "  adding: content/output_mcar_confounded/linear_ts_n5000_vars8_lag3_gaussian_mcar20_complete.csv (deflated 57%)\n",
            "  adding: content/output_mcar_confounded/linear_ts_n3000_vars6_lag4_gaussian_mcar30_missing.csv (deflated 55%)\n",
            "  adding: content/output_mcar_confounded/linear_ts_n3000_vars8_lag4_student_t_mcar10_graph.png (deflated 5%)\n",
            "  adding: content/output_mcar_confounded/linear_ts_n1000_vars4_lag4_student_t_mcar20_structure.txt (deflated 41%)\n",
            "  adding: content/output_mcar_confounded/linear_ts_n500_vars4_lag4_student_t_mcar20_missing.csv (deflated 54%)\n",
            "  adding: content/output_mcar_confounded/linear_ts_n1000_vars8_lag2_gaussian_mcar10_graph.png (deflated 5%)\n",
            "  adding: content/output_mcar_confounded/linear_ts_n1000_vars8_lag2_student_t_mcar30_missing.csv (deflated 54%)\n",
            "  adding: content/output_mcar_confounded/linear_ts_n1000_vars4_lag4_gaussian_mcar30_missing_pattern.png (deflated 4%)\n",
            "  adding: content/output_mcar_confounded/linear_ts_n5000_vars4_lag2_gaussian_mcar20_series.png (deflated 1%)\n",
            "  adding: content/output_mcar_confounded/linear_ts_n500_vars6_lag2_student_t_mcar10_missing.csv (deflated 53%)\n",
            "  adding: content/output_mcar_confounded/linear_ts_n5000_vars8_lag4_student_t_mcar10_series.png (deflated 3%)\n",
            "  adding: content/output_mcar_confounded/linear_ts_n1000_vars8_lag2_student_t_mcar10_missing.csv (deflated 54%)\n",
            "  adding: content/output_mcar_confounded/linear_ts_n5000_vars8_lag4_student_t_mcar20_graph.png (deflated 5%)\n",
            "  adding: content/output_mcar_confounded/linear_ts_n1000_vars8_lag4_student_t_mcar10_graph.png (deflated 5%)\n",
            "  adding: content/output_mcar_confounded/linear_ts_n3000_vars6_lag2_gaussian_mcar10_structure.txt (deflated 47%)\n",
            "  adding: content/output_mcar_confounded/linear_ts_n500_vars4_lag4_student_t_mcar10_graph.png (deflated 4%)\n",
            "  adding: content/output_mcar_confounded/linear_ts_n500_vars8_lag2_student_t_mcar30_complete.csv (deflated 54%)\n",
            "  adding: content/output_mcar_confounded/linear_ts_n500_vars4_lag4_gaussian_mcar30_missing.csv (deflated 54%)\n",
            "  adding: content/output_mcar_confounded/linear_ts_n3000_vars4_lag4_student_t_mcar10_missing.csv (deflated 56%)\n",
            "  adding: content/output_mcar_confounded/linear_ts_n3000_vars6_lag3_gaussian_mcar20_graph.png (deflated 4%)\n",
            "  adding: content/output_mcar_confounded/linear_ts_n1000_vars6_lag2_gaussian_mcar20_missing_pattern.png (deflated 6%)\n",
            "  adding: content/output_mcar_confounded/linear_ts_n500_vars8_lag3_gaussian_mcar20_missing.csv (deflated 55%)\n",
            "  adding: content/output_mcar_confounded/linear_ts_n1000_vars6_lag3_student_t_mcar30_series.png (deflated 2%)\n",
            "  adding: content/output_mcar_confounded/linear_ts_n3000_vars6_lag3_student_t_mcar20_missing.csv (deflated 55%)\n",
            "  adding: content/output_mcar_confounded/linear_ts_n1000_vars8_lag4_gaussian_mcar20_missing.csv (deflated 55%)\n",
            "  adding: content/output_mcar_confounded/linear_ts_n1000_vars6_lag3_student_t_mcar10_missing_pattern.png (deflated 7%)\n",
            "  adding: content/output_mcar_confounded/linear_ts_n500_vars6_lag3_student_t_mcar10_structure.txt (deflated 46%)\n",
            "  adding: content/output_mcar_confounded/linear_ts_n3000_vars6_lag3_gaussian_mcar20_structure.txt (deflated 47%)\n",
            "  adding: content/output_mcar_confounded/linear_ts_n500_vars6_lag2_gaussian_mcar30_missing.csv (deflated 53%)\n",
            "  adding: content/output_mcar_confounded/linear_ts_n5000_vars8_lag2_gaussian_mcar10_missing_pattern.png (deflated 4%)\n",
            "  adding: content/output_mcar_confounded/linear_ts_n500_vars6_lag3_gaussian_mcar10_complete.csv (deflated 55%)\n",
            "  adding: content/output_mcar_confounded/linear_ts_n5000_vars6_lag4_student_t_mcar20_complete.csv (deflated 56%)\n",
            "  adding: content/output_mcar_confounded/linear_ts_n3000_vars4_lag3_gaussian_mcar20_missing.csv (deflated 56%)\n",
            "  adding: content/output_mcar_confounded/linear_ts_n500_vars4_lag4_gaussian_mcar30_complete.csv (deflated 55%)\n",
            "  adding: content/output_mcar_confounded/linear_ts_n500_vars4_lag2_student_t_mcar10_series.png (deflated 2%)\n",
            "  adding: content/output_mcar_confounded/linear_ts_n1000_vars4_lag2_student_t_mcar30_missing.csv (deflated 55%)\n",
            "  adding: content/output_mcar_confounded/linear_ts_n5000_vars4_lag3_gaussian_mcar20_missing.csv (deflated 57%)\n",
            "  adding: content/output_mcar_confounded/linear_ts_n3000_vars6_lag2_gaussian_mcar20_series.png (deflated 1%)\n",
            "  adding: content/output_mcar_confounded/linear_ts_n1000_vars4_lag4_gaussian_mcar10_series.png (deflated 1%)\n",
            "  adding: content/output_mcar_confounded/linear_ts_n5000_vars4_lag2_gaussian_mcar20_missing_pattern.png (deflated 4%)\n",
            "  adding: content/output_mcar_confounded/linear_ts_n5000_vars8_lag4_student_t_mcar20_missing_pattern.png (deflated 4%)\n",
            "  adding: content/output_mcar_confounded/linear_ts_n500_vars6_lag3_student_t_mcar20_series.png (deflated 2%)\n",
            "  adding: content/output_mcar_confounded/linear_ts_n1000_vars4_lag2_gaussian_mcar30_structure.txt (deflated 40%)\n",
            "  adding: content/output_mcar_confounded/linear_ts_n1000_vars6_lag4_gaussian_mcar30_graph.png (deflated 4%)\n",
            "  adding: content/output_mcar_confounded/linear_ts_n1000_vars6_lag2_student_t_mcar20_structure.txt (deflated 47%)\n",
            "  adding: content/output_mcar_confounded/linear_ts_n5000_vars8_lag2_student_t_mcar20_structure.txt (deflated 52%)\n",
            "  adding: content/output_mcar_confounded/linear_ts_n1000_vars4_lag3_gaussian_mcar10_graph.png (deflated 3%)\n",
            "  adding: content/output_mcar_confounded/linear_ts_n500_vars8_lag4_gaussian_mcar10_missing_pattern.png (deflated 5%)\n",
            "  adding: content/output_mcar_confounded/linear_ts_n3000_vars4_lag2_student_t_mcar30_missing.csv (deflated 56%)\n",
            "  adding: content/output_mcar_confounded/linear_ts_n5000_vars8_lag4_student_t_mcar10_complete.csv (deflated 57%)\n",
            "  adding: content/output_mcar_confounded/linear_ts_n5000_vars4_lag2_gaussian_mcar30_complete.csv (deflated 58%)\n",
            "  adding: content/output_mcar_confounded/linear_ts_n500_vars4_lag3_gaussian_mcar30_graph.png (deflated 4%)\n",
            "  adding: content/output_mcar_confounded/linear_ts_n1000_vars4_lag3_student_t_mcar30_complete.csv (deflated 56%)\n",
            "  adding: content/output_mcar_confounded/linear_ts_n500_vars8_lag4_gaussian_mcar20_complete.csv (deflated 55%)\n",
            "  adding: content/output_mcar_confounded/linear_ts_n5000_vars6_lag2_student_t_mcar30_series.png (deflated 3%)\n",
            "  adding: content/output_mcar_confounded/linear_ts_n5000_vars4_lag2_student_t_mcar20_series.png (deflated 3%)\n",
            "  adding: content/output_mcar_confounded/linear_ts_n3000_vars6_lag4_gaussian_mcar30_series.png (deflated 1%)\n",
            "  adding: content/output_mcar_confounded/linear_ts_n5000_vars6_lag3_gaussian_mcar10_missing.csv (deflated 56%)\n",
            "  adding: content/output_mcar_confounded/linear_ts_n3000_vars6_lag4_gaussian_mcar20_structure.txt (deflated 46%)\n",
            "  adding: content/output_mcar_confounded/linear_ts_n5000_vars6_lag2_gaussian_mcar10_graph.png (deflated 4%)\n",
            "  adding: content/output_mcar_confounded/linear_ts_n1000_vars6_lag2_gaussian_mcar30_graph.png (deflated 4%)\n",
            "  adding: content/output_mcar_confounded/linear_ts_n5000_vars8_lag4_gaussian_mcar10_missing_pattern.png (deflated 4%)\n",
            "  adding: content/output_mcar_confounded/linear_ts_n5000_vars6_lag4_gaussian_mcar10_missing.csv (deflated 56%)\n",
            "  adding: content/output_mcar_confounded/linear_ts_n1000_vars8_lag4_gaussian_mcar10_complete.csv (deflated 56%)\n",
            "  adding: content/output_mcar_confounded/linear_ts_n5000_vars4_lag3_gaussian_mcar10_structure.txt (deflated 41%)\n",
            "  adding: content/output_mcar_confounded/linear_ts_n5000_vars8_lag2_gaussian_mcar30_missing_pattern.png (deflated 3%)\n",
            "  adding: content/output_mcar_confounded/linear_ts_n1000_vars4_lag4_student_t_mcar10_structure.txt (deflated 41%)\n",
            "  adding: content/output_mcar_confounded/linear_ts_n500_vars6_lag3_student_t_mcar10_complete.csv (deflated 54%)\n",
            "  adding: content/output_mcar_confounded/linear_ts_n500_vars4_lag3_gaussian_mcar10_structure.txt (deflated 41%)\n",
            "  adding: content/output_mcar_confounded/linear_ts_n1000_vars8_lag2_gaussian_mcar30_complete.csv (deflated 55%)\n",
            "  adding: content/output_mcar_confounded/linear_ts_n5000_vars6_lag2_gaussian_mcar10_missing.csv (deflated 55%)\n",
            "  adding: content/output_mcar_confounded/linear_ts_n5000_vars8_lag4_gaussian_mcar20_missing_pattern.png (deflated 4%)\n",
            "  adding: content/output_mcar_confounded/linear_ts_n3000_vars8_lag3_student_t_mcar20_missing_pattern.png (deflated 3%)\n",
            "  adding: content/output_mcar_confounded/linear_ts_n5000_vars6_lag2_student_t_mcar10_series.png (deflated 3%)\n",
            "  adding: content/output_mcar_confounded/linear_ts_n3000_vars6_lag4_student_t_mcar20_graph.png (deflated 4%)\n",
            "  adding: content/output_mcar_confounded/linear_ts_n3000_vars4_lag3_student_t_mcar30_complete.csv (deflated 57%)\n",
            "  adding: content/output_mcar_confounded/linear_ts_n500_vars4_lag2_student_t_mcar30_series.png (deflated 2%)\n",
            "  adding: content/output_mcar_confounded/linear_ts_n500_vars6_lag2_gaussian_mcar30_missing_pattern.png (deflated 4%)\n",
            "  adding: content/output_mcar_confounded/linear_ts_n500_vars6_lag3_gaussian_mcar30_graph.png (deflated 4%)\n",
            "  adding: content/output_mcar_confounded/linear_ts_n5000_vars4_lag4_student_t_mcar30_graph.png (deflated 4%)\n",
            "  adding: content/output_mcar_confounded/linear_ts_n1000_vars8_lag4_student_t_mcar10_missing.csv (deflated 55%)\n",
            "  adding: content/output_mcar_confounded/linear_ts_n500_vars8_lag2_student_t_mcar10_missing_pattern.png (deflated 6%)\n",
            "  adding: content/output_mcar_confounded/linear_ts_n500_vars4_lag3_gaussian_mcar10_series.png (deflated 2%)\n",
            "  adding: content/output_mcar_confounded/linear_ts_n1000_vars8_lag4_gaussian_mcar30_complete.csv (deflated 56%)\n",
            "  adding: content/output_mcar_confounded/linear_ts_n3000_vars6_lag4_gaussian_mcar10_structure.txt (deflated 46%)\n",
            "  adding: content/output_mcar_confounded/linear_ts_n500_vars6_lag3_gaussian_mcar10_missing_pattern.png (deflated 6%)\n",
            "  adding: content/output_mcar_confounded/linear_ts_n1000_vars6_lag4_student_t_mcar10_missing.csv (deflated 55%)\n",
            "  adding: content/output_mcar_confounded/linear_ts_n500_vars8_lag4_gaussian_mcar10_structure.txt (deflated 50%)\n",
            "  adding: content/output_mcar_confounded/linear_ts_n500_vars8_lag3_gaussian_mcar30_complete.csv (deflated 55%)\n",
            "  adding: content/output_mcar_confounded/linear_ts_n500_vars4_lag3_student_t_mcar10_missing_pattern.png (deflated 6%)\n",
            "  adding: content/output_mcar_confounded/linear_ts_n3000_vars8_lag3_student_t_mcar10_structure.txt (deflated 51%)\n",
            "  adding: content/output_mcar_confounded/linear_ts_n3000_vars6_lag2_gaussian_mcar20_graph.png (deflated 4%)\n",
            "  adding: content/output_mcar_confounded/linear_ts_n500_vars6_lag3_gaussian_mcar10_series.png (deflated 2%)\n",
            "  adding: content/output_mcar_confounded/linear_ts_n5000_vars6_lag2_gaussian_mcar10_structure.txt (deflated 47%)\n",
            "  adding: content/output_mcar_confounded/linear_ts_n1000_vars8_lag3_student_t_mcar30_series.png (deflated 4%)\n",
            "  adding: content/output_mcar_confounded/linear_ts_n5000_vars4_lag2_student_t_mcar30_graph.png (deflated 4%)\n",
            "  adding: content/output_mcar_confounded/linear_ts_n5000_vars6_lag2_student_t_mcar10_missing_pattern.png (deflated 4%)\n",
            "  adding: content/output_mcar_confounded/linear_ts_n3000_vars6_lag4_gaussian_mcar20_series.png (deflated 1%)\n",
            "  adding: content/output_mcar_confounded/linear_ts_n500_vars4_lag3_student_t_mcar20_missing_pattern.png (deflated 5%)\n",
            "  adding: content/output_mcar_confounded/linear_ts_n5000_vars4_lag4_student_t_mcar10_structure.txt (deflated 41%)\n",
            "  adding: content/output_mcar_confounded/linear_ts_n500_vars6_lag4_gaussian_mcar30_missing.csv (deflated 54%)\n",
            "  adding: content/output_mcar_confounded/linear_ts_n1000_vars4_lag3_gaussian_mcar10_missing.csv (deflated 56%)\n",
            "  adding: content/output_mcar_confounded/linear_ts_n3000_vars4_lag4_gaussian_mcar10_missing_pattern.png (deflated 4%)\n",
            "  adding: content/output_mcar_confounded/linear_ts_n1000_vars4_lag2_gaussian_mcar20_structure.txt (deflated 40%)\n",
            "  adding: content/output_mcar_confounded/linear_ts_n500_vars4_lag3_gaussian_mcar10_complete.csv (deflated 55%)\n",
            "  adding: content/output_mcar_confounded/linear_ts_n3000_vars4_lag4_gaussian_mcar20_series.png (deflated 1%)\n",
            "  adding: content/output_mcar_confounded/linear_ts_n5000_vars6_lag2_student_t_mcar30_structure.txt (deflated 47%)\n",
            "  adding: content/output_mcar_confounded/linear_ts_n3000_vars4_lag4_student_t_mcar30_complete.csv (deflated 57%)\n",
            "  adding: content/output_mcar_confounded/linear_ts_n1000_vars6_lag4_gaussian_mcar10_structure.txt (deflated 46%)\n",
            "  adding: content/output_mcar_confounded/linear_ts_n3000_vars8_lag2_gaussian_mcar30_missing.csv (deflated 55%)\n",
            "  adding: content/output_mcar_confounded/linear_ts_n500_vars4_lag4_student_t_mcar10_series.png (deflated 2%)\n",
            "  adding: content/output_mcar_confounded/linear_ts_n3000_vars6_lag3_gaussian_mcar20_complete.csv (deflated 56%)\n",
            "  adding: content/output_mcar_confounded/linear_ts_n3000_vars4_lag2_gaussian_mcar30_complete.csv (deflated 57%)\n",
            "  adding: content/output_mcar_confounded/linear_ts_n500_vars8_lag3_gaussian_mcar30_series.png (deflated 1%)\n",
            "  adding: content/output_mcar_confounded/linear_ts_n3000_vars4_lag4_student_t_mcar10_graph.png (deflated 4%)\n",
            "  adding: content/output_mcar_confounded/linear_ts_n5000_vars4_lag2_gaussian_mcar30_missing.csv (deflated 57%)\n",
            "  adding: content/output_mcar_confounded/linear_ts_n500_vars8_lag3_student_t_mcar10_series.png (deflated 4%)\n",
            "  adding: content/output_mcar_confounded/linear_ts_n5000_vars6_lag3_student_t_mcar10_structure.txt (deflated 46%)\n",
            "  adding: content/output_mcar_confounded/linear_ts_n5000_vars4_lag3_student_t_mcar10_structure.txt (deflated 41%)\n",
            "  adding: content/output_mcar_confounded/linear_ts_n500_vars4_lag3_student_t_mcar20_complete.csv (deflated 55%)\n",
            "  adding: content/output_mcar_confounded/linear_ts_n3000_vars6_lag3_gaussian_mcar10_missing_pattern.png (deflated 4%)\n",
            "  adding: content/output_mcar_confounded/linear_ts_n3000_vars4_lag3_gaussian_mcar30_missing_pattern.png (deflated 4%)\n",
            "  adding: content/output_mcar_confounded/linear_ts_n5000_vars4_lag4_student_t_mcar10_missing_pattern.png (deflated 5%)\n",
            "  adding: content/output_mcar_confounded/linear_ts_n500_vars8_lag3_gaussian_mcar30_graph.png (deflated 4%)\n",
            "  adding: content/output_mcar_confounded/linear_ts_n5000_vars4_lag3_student_t_mcar30_complete.csv (deflated 57%)\n",
            "  adding: content/output_mcar_confounded/linear_ts_n5000_vars8_lag4_gaussian_mcar10_structure.txt (deflated 50%)\n",
            "  adding: content/output_mcar_confounded/linear_ts_n5000_vars8_lag2_student_t_mcar10_structure.txt (deflated 52%)\n",
            "  adding: content/output_mcar_confounded/linear_ts_n3000_vars4_lag3_student_t_mcar20_structure.txt (deflated 41%)\n",
            "  adding: content/output_mcar_confounded/linear_ts_n5000_vars8_lag3_student_t_mcar10_structure.txt (deflated 51%)\n",
            "  adding: content/output_mcar_confounded/linear_ts_n500_vars8_lag3_gaussian_mcar10_structure.txt (deflated 50%)\n",
            "  adding: content/output_mcar_confounded/linear_ts_n1000_vars4_lag4_student_t_mcar20_series.png (deflated 3%)\n",
            "  adding: content/output_mcar_confounded/linear_ts_n500_vars4_lag3_gaussian_mcar30_missing_pattern.png (deflated 4%)\n",
            "  adding: content/output_mcar_confounded/linear_ts_n5000_vars6_lag4_gaussian_mcar10_graph.png (deflated 4%)\n",
            "  adding: content/output_mcar_confounded/linear_ts_n5000_vars8_lag2_gaussian_mcar30_complete.csv (deflated 56%)\n",
            "  adding: content/output_mcar_confounded/linear_ts_n500_vars6_lag4_student_t_mcar10_graph.png (deflated 4%)\n",
            "  adding: content/output_mcar_confounded/linear_ts_n3000_vars6_lag3_student_t_mcar20_graph.png (deflated 4%)\n",
            "  adding: content/output_mcar_confounded/linear_ts_n3000_vars4_lag2_student_t_mcar20_missing.csv (deflated 56%)\n",
            "  adding: content/output_mcar_confounded/linear_ts_n1000_vars8_lag2_gaussian_mcar20_complete.csv (deflated 55%)\n",
            "  adding: content/output_mcar_confounded/linear_ts_n5000_vars8_lag2_gaussian_mcar10_missing.csv (deflated 55%)\n",
            "  adding: content/output_mcar_confounded/linear_ts_n500_vars4_lag2_student_t_mcar30_missing_pattern.png (deflated 4%)\n",
            "  adding: content/output_mcar_confounded/linear_ts_n3000_vars8_lag3_gaussian_mcar10_complete.csv (deflated 57%)\n",
            "  adding: content/output_mcar_confounded/linear_ts_n500_vars4_lag4_student_t_mcar10_missing.csv (deflated 54%)\n",
            "  adding: content/output_mcar_confounded/linear_ts_n3000_vars6_lag3_gaussian_mcar10_missing.csv (deflated 56%)\n",
            "  adding: content/output_mcar_confounded/linear_ts_n1000_vars4_lag3_gaussian_mcar20_missing_pattern.png (deflated 4%)\n",
            "  adding: content/output_mcar_confounded/linear_ts_n1000_vars6_lag3_gaussian_mcar20_structure.txt (deflated 47%)\n",
            "  adding: content/output_mcar_confounded/linear_ts_n500_vars8_lag4_gaussian_mcar30_complete.csv (deflated 55%)\n",
            "  adding: content/output_mcar_confounded/linear_ts_n5000_vars4_lag2_student_t_mcar30_structure.txt (deflated 39%)\n",
            "  adding: content/output_mcar_confounded/linear_ts_n500_vars6_lag3_gaussian_mcar30_complete.csv (deflated 55%)\n",
            "  adding: content/output_mcar_confounded/linear_ts_n5000_vars4_lag2_gaussian_mcar30_structure.txt (deflated 40%)\n",
            "  adding: content/output_mcar_confounded/linear_ts_n5000_vars4_lag2_student_t_mcar20_structure.txt (deflated 39%)\n",
            "  adding: content/output_mcar_confounded/linear_ts_n1000_vars8_lag2_gaussian_mcar20_missing.csv (deflated 54%)\n",
            "  adding: content/output_mcar_confounded/linear_ts_n1000_vars4_lag3_gaussian_mcar30_missing.csv (deflated 55%)\n",
            "  adding: content/output_mcar_confounded/linear_ts_n3000_vars8_lag4_student_t_mcar30_graph.png (deflated 4%)\n",
            "  adding: content/output_mcar_confounded/linear_ts_n5000_vars8_lag4_student_t_mcar10_missing_pattern.png (deflated 4%)\n",
            "  adding: content/output_mcar_confounded/linear_ts_n1000_vars4_lag2_gaussian_mcar10_missing_pattern.png (deflated 6%)\n",
            "  adding: content/output_mcar_confounded/linear_ts_n1000_vars8_lag4_gaussian_mcar10_structure.txt (deflated 50%)\n",
            "  adding: content/output_mcar_confounded/linear_ts_n3000_vars8_lag2_gaussian_mcar10_missing.csv (deflated 55%)\n",
            "  adding: content/output_mcar_confounded/linear_ts_n5000_vars4_lag2_gaussian_mcar30_missing_pattern.png (deflated 4%)\n",
            "  adding: content/output_mcar_confounded/linear_ts_n1000_vars4_lag4_student_t_mcar10_missing_pattern.png (deflated 7%)\n",
            "  adding: content/output_mcar_confounded/linear_ts_n3000_vars4_lag4_student_t_mcar20_missing.csv (deflated 56%)\n",
            "  adding: content/output_mcar_confounded/linear_ts_n5000_vars8_lag4_gaussian_mcar20_graph.png (deflated 4%)\n",
            "  adding: content/output_mcar_confounded/linear_ts_n3000_vars8_lag2_gaussian_mcar20_missing_pattern.png (deflated 4%)\n",
            "  adding: content/output_mcar_confounded/linear_ts_n3000_vars4_lag2_gaussian_mcar20_missing.csv (deflated 56%)\n",
            "  adding: content/output_mcar_confounded/linear_ts_n1000_vars4_lag3_student_t_mcar10_missing_pattern.png (deflated 7%)\n",
            "  adding: content/output_mcar_confounded/linear_ts_n500_vars4_lag4_student_t_mcar30_structure.txt (deflated 41%)\n",
            "  adding: content/output_mcar_confounded/linear_ts_n500_vars4_lag2_student_t_mcar20_missing_pattern.png (deflated 5%)\n",
            "  adding: content/output_mcar_confounded/linear_ts_n3000_vars8_lag4_student_t_mcar10_complete.csv (deflated 57%)\n",
            "  adding: content/output_mcar_confounded/linear_ts_n3000_vars4_lag3_student_t_mcar30_missing.csv (deflated 56%)\n",
            "  adding: content/output_mcar_confounded/linear_ts_n1000_vars4_lag3_gaussian_mcar10_missing_pattern.png (deflated 6%)\n",
            "  adding: content/output_mcar_confounded/linear_ts_n3000_vars8_lag4_student_t_mcar30_series.png (deflated 3%)\n",
            "  adding: content/output_mcar_confounded/linear_ts_n500_vars6_lag4_student_t_mcar20_complete.csv (deflated 54%)\n",
            "  adding: content/output_mcar_confounded/linear_ts_n500_vars8_lag2_student_t_mcar10_graph.png (deflated 5%)\n",
            "  adding: content/output_mcar_confounded/linear_ts_n5000_vars8_lag3_gaussian_mcar10_missing.csv (deflated 57%)\n",
            "  adding: content/output_mcar_confounded/linear_ts_n1000_vars4_lag2_student_t_mcar10_complete.csv (deflated 56%)\n",
            "  adding: content/output_mcar_confounded/linear_ts_n1000_vars6_lag2_student_t_mcar20_complete.csv (deflated 54%)\n",
            "  adding: content/output_mcar_confounded/linear_ts_n5000_vars4_lag3_student_t_mcar10_missing.csv (deflated 57%)\n",
            "  adding: content/output_mcar_confounded/linear_ts_n5000_vars8_lag3_gaussian_mcar30_graph.png (deflated 5%)\n",
            "  adding: content/output_mcar_confounded/linear_ts_n3000_vars8_lag4_student_t_mcar30_missing.csv (deflated 56%)\n",
            "  adding: content/output_mcar_confounded/linear_ts_n500_vars4_lag2_student_t_mcar20_structure.txt (deflated 39%)\n",
            "  adding: content/output_mcar_confounded/linear_ts_n500_vars8_lag4_student_t_mcar20_missing_pattern.png (deflated 4%)\n",
            "  adding: content/output_mcar_confounded/linear_ts_n1000_vars8_lag3_gaussian_mcar30_structure.txt (deflated 50%)\n",
            "  adding: content/output_mcar_confounded/linear_ts_n1000_vars6_lag3_gaussian_mcar10_series.png (deflated 1%)\n",
            "  adding: content/output_mcar_confounded/linear_ts_n500_vars4_lag4_student_t_mcar20_structure.txt (deflated 41%)\n",
            "  adding: content/output_mcar_confounded/linear_ts_n500_vars8_lag4_student_t_mcar10_graph.png (deflated 5%)\n",
            "  adding: content/output_mcar_confounded/linear_ts_n5000_vars8_lag4_student_t_mcar30_graph.png (deflated 5%)\n",
            "  adding: content/output_mcar_confounded/linear_ts_n3000_vars4_lag4_gaussian_mcar20_structure.txt (deflated 42%)\n",
            "  adding: content/output_mcar_confounded/linear_ts_n5000_vars8_lag2_gaussian_mcar30_graph.png (deflated 5%)\n",
            "  adding: content/output_mcar_confounded/linear_ts_n1000_vars4_lag3_gaussian_mcar30_complete.csv (deflated 56%)\n",
            "  adding: content/output_mcar_confounded/linear_ts_n500_vars4_lag4_gaussian_mcar20_missing_pattern.png (deflated 5%)\n",
            "  adding: content/output_mcar_confounded/linear_ts_n5000_vars8_lag3_student_t_mcar30_structure.txt (deflated 51%)\n",
            "  adding: content/output_mcar_confounded/linear_ts_n5000_vars8_lag3_gaussian_mcar10_missing_pattern.png (deflated 4%)\n",
            "  adding: content/output_mcar_confounded/linear_ts_n1000_vars8_lag2_gaussian_mcar20_structure.txt (deflated 52%)\n",
            "  adding: content/output_mcar_confounded/linear_ts_n5000_vars4_lag2_student_t_mcar10_graph.png (deflated 5%)\n",
            "  adding: content/output_mcar_confounded/linear_ts_n5000_vars6_lag3_gaussian_mcar20_structure.txt (deflated 47%)\n",
            "  adding: content/output_mcar_confounded/linear_ts_n1000_vars8_lag4_student_t_mcar10_complete.csv (deflated 56%)\n",
            "  adding: content/output_mcar_confounded/linear_ts_n1000_vars6_lag4_gaussian_mcar20_missing.csv (deflated 55%)\n",
            "  adding: content/output_mcar_confounded/linear_ts_n5000_vars6_lag4_student_t_mcar20_graph.png (deflated 4%)\n",
            "  adding: content/output_mcar_confounded/linear_ts_n3000_vars6_lag4_gaussian_mcar10_graph.png (deflated 4%)\n",
            "  adding: content/output_mcar_confounded/linear_ts_n3000_vars6_lag2_student_t_mcar10_missing_pattern.png (deflated 4%)\n",
            "  adding: content/output_mcar_confounded/linear_ts_n5000_vars6_lag3_gaussian_mcar20_series.png (deflated 1%)\n",
            "  adding: content/output_mcar_confounded/linear_ts_n5000_vars4_lag3_student_t_mcar30_graph.png (deflated 4%)\n",
            "  adding: content/output_mcar_confounded/linear_ts_n1000_vars4_lag4_student_t_mcar30_missing_pattern.png (deflated 4%)\n",
            "  adding: content/output_mcar_confounded/linear_ts_n3000_vars8_lag2_gaussian_mcar30_structure.txt (deflated 52%)\n",
            "  adding: content/output_mcar_confounded/linear_ts_n500_vars4_lag4_gaussian_mcar30_graph.png (deflated 4%)\n",
            "  adding: content/output_mcar_confounded/linear_ts_n1000_vars8_lag3_gaussian_mcar30_series.png (deflated 1%)\n",
            "  adding: content/output_mcar_confounded/linear_ts_n1000_vars8_lag4_gaussian_mcar10_graph.png (deflated 5%)\n",
            "  adding: content/output_mcar_confounded/linear_ts_n5000_vars4_lag2_gaussian_mcar20_complete.csv (deflated 58%)\n",
            "  adding: content/output_mcar_confounded/linear_ts_n3000_vars8_lag3_student_t_mcar10_complete.csv (deflated 57%)\n",
            "  adding: content/output_mcar_confounded/linear_ts_n500_vars4_lag3_student_t_mcar10_structure.txt (deflated 41%)\n",
            "  adding: content/output_mcar_confounded/linear_ts_n3000_vars4_lag3_gaussian_mcar10_graph.png (deflated 4%)\n",
            "  adding: content/output_mcar_confounded/linear_ts_n5000_vars8_lag4_gaussian_mcar20_series.png (deflated 1%)\n",
            "  adding: content/output_mcar_confounded/linear_ts_n3000_vars8_lag2_gaussian_mcar20_series.png (deflated 1%)\n",
            "  adding: content/output_mcar_confounded/linear_ts_n500_vars8_lag3_student_t_mcar20_missing.csv (deflated 54%)\n",
            "  adding: content/output_mcar_confounded/linear_ts_n1000_vars6_lag3_gaussian_mcar30_missing_pattern.png (deflated 5%)\n",
            "  adding: content/output_mcar_confounded/linear_ts_n3000_vars4_lag3_gaussian_mcar10_missing_pattern.png (deflated 4%)\n",
            "  adding: content/output_mcar_confounded/linear_ts_n500_vars6_lag2_gaussian_mcar30_complete.csv (deflated 53%)\n",
            "  adding: content/output_mcar_confounded/linear_ts_n500_vars8_lag2_gaussian_mcar20_series.png (deflated 1%)\n",
            "  adding: content/output_mcar_confounded/linear_ts_n3000_vars8_lag2_student_t_mcar10_missing.csv (deflated 55%)\n",
            "  adding: content/output_mcar_confounded/linear_ts_n3000_vars6_lag4_gaussian_mcar20_missing.csv (deflated 56%)\n",
            "  adding: content/output_mcar_confounded/linear_ts_n5000_vars8_lag3_gaussian_mcar30_series.png (deflated 1%)\n",
            "  adding: content/output_mcar_confounded/linear_ts_n1000_vars6_lag2_student_t_mcar30_graph.png (deflated 4%)\n",
            "  adding: content/output_mcar_confounded/linear_ts_n1000_vars4_lag2_student_t_mcar20_graph.png (deflated 5%)\n",
            "  adding: content/output_mcar_confounded/linear_ts_n1000_vars6_lag3_student_t_mcar30_missing.csv (deflated 54%)\n",
            "  adding: content/output_mcar_confounded/linear_ts_n1000_vars4_lag4_gaussian_mcar30_structure.txt (deflated 42%)\n",
            "  adding: content/output_mcar_confounded/linear_ts_n500_vars6_lag2_student_t_mcar30_structure.txt (deflated 47%)\n",
            "  adding: content/output_mcar_confounded/linear_ts_n1000_vars4_lag3_student_t_mcar20_series.png (deflated 3%)\n",
            "  adding: content/output_mcar_confounded/linear_ts_n5000_vars8_lag3_student_t_mcar30_complete.csv (deflated 57%)\n",
            "  adding: content/output_mcar_confounded/linear_ts_n3000_vars6_lag2_gaussian_mcar10_graph.png (deflated 4%)\n",
            "  adding: content/output_mcar_confounded/linear_ts_n1000_vars8_lag2_student_t_mcar20_series.png (deflated 3%)\n",
            "  adding: content/output_mcar_confounded/linear_ts_n500_vars6_lag2_student_t_mcar20_structure.txt (deflated 47%)\n",
            "  adding: content/output_mcar_confounded/linear_ts_n5000_vars6_lag4_gaussian_mcar20_missing_pattern.png (deflated 4%)\n",
            "  adding: content/output_mcar_confounded/linear_ts_n3000_vars4_lag2_student_t_mcar20_complete.csv (deflated 57%)\n",
            "  adding: content/output_mcar_confounded/linear_ts_n5000_vars6_lag4_student_t_mcar10_series.png (deflated 3%)\n",
            "  adding: content/output_mcar_confounded/linear_ts_n5000_vars8_lag2_student_t_mcar20_missing.csv (deflated 55%)\n",
            "  adding: content/output_mcar_confounded/linear_ts_n1000_vars8_lag4_student_t_mcar20_missing_pattern.png (deflated 5%)\n",
            "  adding: content/output_mcar_confounded/linear_ts_n1000_vars4_lag3_student_t_mcar20_missing_pattern.png (deflated 4%)\n",
            "  adding: content/output_mcar_confounded/linear_ts_n5000_vars4_lag4_student_t_mcar30_complete.csv (deflated 57%)\n",
            "  adding: content/output_mcar_confounded/linear_ts_n1000_vars4_lag4_gaussian_mcar20_structure.txt (deflated 42%)\n",
            "  adding: content/output_mcar_confounded/linear_ts_n5000_vars8_lag2_gaussian_mcar20_complete.csv (deflated 56%)\n",
            "  adding: content/output_mcar_confounded/linear_ts_n1000_vars6_lag2_student_t_mcar20_graph.png (deflated 4%)\n",
            "  adding: content/output_mcar_confounded/linear_ts_n3000_vars8_lag4_student_t_mcar30_structure.txt (deflated 51%)\n",
            "  adding: content/output_mcar_confounded/linear_ts_n500_vars6_lag2_gaussian_mcar10_missing.csv (deflated 53%)\n",
            "  adding: content/output_mcar_confounded/linear_ts_n500_vars8_lag3_gaussian_mcar20_graph.png (deflated 4%)\n",
            "  adding: content/output_mcar_confounded/linear_ts_n5000_vars6_lag2_gaussian_mcar30_series.png (deflated 1%)\n",
            "  adding: content/output_mcar_confounded/linear_ts_n3000_vars6_lag4_student_t_mcar20_missing_pattern.png (deflated 4%)\n",
            "  adding: content/output_mcar_confounded/linear_ts_n5000_vars4_lag4_student_t_mcar30_missing_pattern.png (deflated 5%)\n",
            "  adding: content/output_mcar_confounded/linear_ts_n3000_vars4_lag2_student_t_mcar10_complete.csv (deflated 57%)\n",
            "  adding: content/output_mcar_confounded/linear_ts_n500_vars8_lag4_student_t_mcar30_complete.csv (deflated 55%)\n",
            "  adding: content/output_mcar_confounded/linear_ts_n1000_vars4_lag3_gaussian_mcar10_complete.csv (deflated 56%)\n",
            "  adding: content/output_mcar_confounded/linear_ts_n3000_vars6_lag4_student_t_mcar20_structure.txt (deflated 46%)\n",
            "  adding: content/output_mcar_confounded/linear_ts_n5000_vars4_lag3_student_t_mcar30_missing_pattern.png (deflated 5%)\n",
            "  adding: content/output_mcar_confounded/linear_ts_n500_vars4_lag4_student_t_mcar30_series.png (deflated 2%)\n",
            "  adding: content/output_mcar_confounded/linear_ts_n500_vars6_lag4_student_t_mcar10_missing.csv (deflated 54%)\n",
            "  adding: content/output_mcar_confounded/linear_ts_n500_vars8_lag4_gaussian_mcar20_missing.csv (deflated 55%)\n",
            "  adding: content/output_mcar_confounded/linear_ts_n5000_vars4_lag3_student_t_mcar20_missing.csv (deflated 57%)\n",
            "  adding: content/output_mcar_confounded/linear_ts_n3000_vars8_lag3_gaussian_mcar10_series.png (deflated 1%)\n",
            "  adding: content/output_mcar_confounded/linear_ts_n500_vars6_lag2_student_t_mcar30_missing_pattern.png (deflated 4%)\n",
            "  adding: content/output_mcar_confounded/linear_ts_n5000_vars6_lag4_student_t_mcar30_missing.csv (deflated 55%)\n",
            "  adding: content/output_mcar_confounded/linear_ts_n5000_vars6_lag2_student_t_mcar20_complete.csv (deflated 55%)\n",
            "  adding: content/output_mcar_confounded/linear_ts_n3000_vars8_lag2_gaussian_mcar10_series.png (deflated 1%)\n",
            "  adding: content/output_mcar_confounded/linear_ts_n500_vars4_lag2_gaussian_mcar20_missing_pattern.png (deflated 5%)\n",
            "  adding: content/output_mcar_confounded/linear_ts_n5000_vars4_lag2_gaussian_mcar20_graph.png (deflated 4%)\n",
            "  adding: content/output_mcar_confounded/linear_ts_n5000_vars8_lag2_gaussian_mcar20_missing.csv (deflated 55%)\n",
            "  adding: content/output_mcar_confounded/linear_ts_n500_vars4_lag2_gaussian_mcar10_missing_pattern.png (deflated 7%)\n",
            "  adding: content/output_mcar_confounded/linear_ts_n500_vars8_lag4_gaussian_mcar10_graph.png (deflated 5%)\n",
            "  adding: content/output_mcar_confounded/linear_ts_n5000_vars8_lag3_gaussian_mcar30_missing.csv (deflated 56%)\n",
            "  adding: content/output_mcar_confounded/linear_ts_n3000_vars4_lag2_gaussian_mcar30_structure.txt (deflated 40%)\n",
            "  adding: content/output_mcar_confounded/linear_ts_n3000_vars4_lag2_gaussian_mcar20_structure.txt (deflated 40%)\n",
            "  adding: content/output_mcar_confounded/linear_ts_n3000_vars6_lag3_gaussian_mcar10_graph.png (deflated 4%)\n",
            "  adding: content/output_mcar_confounded/linear_ts_n3000_vars6_lag3_student_t_mcar20_structure.txt (deflated 46%)\n",
            "  adding: content/output_mcar_confounded/linear_ts_n5000_vars6_lag2_student_t_mcar20_missing_pattern.png (deflated 4%)\n",
            "  adding: content/output_mcar_confounded/linear_ts_n1000_vars6_lag3_gaussian_mcar20_missing.csv (deflated 55%)\n",
            "  adding: content/output_mcar_confounded/linear_ts_n5000_vars4_lag4_student_t_mcar30_series.png (deflated 3%)\n",
            "  adding: content/output_mcar_confounded/linear_ts_n3000_vars8_lag2_student_t_mcar20_series.png (deflated 3%)\n",
            "  adding: content/output_mcar_confounded/linear_ts_n3000_vars4_lag3_student_t_mcar30_graph.png (deflated 4%)\n",
            "  adding: content/output_mcar_confounded/linear_ts_n3000_vars6_lag4_student_t_mcar10_structure.txt (deflated 46%)\n",
            "  adding: content/output_mcar_confounded/linear_ts_n500_vars6_lag3_gaussian_mcar20_complete.csv (deflated 55%)\n",
            "  adding: content/output_mcar_confounded/linear_ts_n1000_vars8_lag3_gaussian_mcar20_structure.txt (deflated 50%)\n",
            "  adding: content/output_mcar_confounded/linear_ts_n1000_vars6_lag4_gaussian_mcar20_series.png (deflated 1%)\n",
            "  adding: content/output_mcar_confounded/linear_ts_n3000_vars6_lag2_gaussian_mcar20_complete.csv (deflated 55%)\n",
            "  adding: content/output_mcar_confounded/linear_ts_n5000_vars6_lag4_student_t_mcar20_missing_pattern.png (deflated 4%)\n",
            "  adding: content/output_mcar_confounded/linear_ts_n5000_vars8_lag4_student_t_mcar20_complete.csv (deflated 57%)\n",
            "  adding: content/output_mcar_confounded/linear_ts_n5000_vars6_lag4_student_t_mcar10_missing.csv (deflated 56%)\n",
            "  adding: content/output_mcar_confounded/linear_ts_n5000_vars4_lag3_gaussian_mcar30_structure.txt (deflated 42%)\n",
            "  adding: content/output_mcar_confounded/linear_ts_n5000_vars8_lag2_gaussian_mcar20_graph.png (deflated 5%)\n",
            "  adding: content/output_mcar_confounded/linear_ts_n3000_vars8_lag4_gaussian_mcar20_graph.png (deflated 5%)\n",
            "  adding: content/output_mcar_confounded/linear_ts_n1000_vars4_lag2_student_t_mcar20_structure.txt (deflated 39%)\n",
            "  adding: content/output_mcar_confounded/linear_ts_n5000_vars4_lag3_student_t_mcar10_missing_pattern.png (deflated 5%)\n",
            "  adding: content/output_mcar_confounded/linear_ts_n5000_vars8_lag3_student_t_mcar10_missing.csv (deflated 56%)\n",
            "  adding: content/output_mcar_confounded/linear_ts_n1000_vars8_lag3_gaussian_mcar10_graph.png (deflated 4%)\n",
            "  adding: content/output_mcar_confounded/linear_ts_n5000_vars8_lag2_gaussian_mcar20_structure.txt (deflated 52%)\n",
            "  adding: content/output_mcar_confounded/linear_ts_n3000_vars8_lag4_gaussian_mcar30_missing.csv (deflated 56%)\n",
            "  adding: content/output_mcar_confounded/linear_ts_n3000_vars8_lag4_student_t_mcar20_complete.csv (deflated 57%)\n",
            "  adding: content/output_mcar_confounded/linear_ts_n5000_vars6_lag4_student_t_mcar10_complete.csv (deflated 56%)\n",
            "  adding: content/output_mcar_confounded/linear_ts_n3000_vars6_lag3_student_t_mcar30_series.png (deflated 3%)\n",
            "  adding: content/output_mcar_confounded/linear_ts_n5000_vars6_lag4_gaussian_mcar10_missing_pattern.png (deflated 4%)\n",
            "  adding: content/output_mcar_confounded/linear_ts_n3000_vars6_lag2_student_t_mcar30_series.png (deflated 3%)\n",
            "  adding: content/output_mcar_confounded/linear_ts_n500_vars4_lag4_student_t_mcar10_structure.txt (deflated 41%)\n",
            "  adding: content/output_mcar_confounded/linear_ts_n5000_vars4_lag2_student_t_mcar30_complete.csv (deflated 57%)\n",
            "  adding: content/output_mcar_confounded/linear_ts_n1000_vars6_lag4_student_t_mcar10_missing_pattern.png (deflated 7%)\n",
            "  adding: content/output_mcar_confounded/linear_ts_n500_vars8_lag2_gaussian_mcar20_missing_pattern.png (deflated 4%)\n",
            "  adding: content/output_mcar_confounded/linear_ts_n1000_vars8_lag3_gaussian_mcar10_missing.csv (deflated 56%)\n",
            "  adding: content/output_mcar_confounded/linear_ts_n500_vars8_lag2_student_t_mcar10_missing.csv (deflated 54%)\n",
            "  adding: content/output_mcar_confounded/linear_ts_n5000_vars6_lag3_student_t_mcar10_missing_pattern.png (deflated 4%)\n",
            "  adding: content/output_mcar_confounded/linear_ts_n5000_vars6_lag2_gaussian_mcar20_structure.txt (deflated 47%)\n",
            "  adding: content/output_mcar_confounded/linear_ts_n500_vars6_lag2_student_t_mcar20_missing.csv (deflated 53%)\n",
            "  adding: content/output_mcar_confounded/linear_ts_n5000_vars6_lag3_gaussian_mcar30_missing_pattern.png (deflated 4%)\n",
            "  adding: content/output_mcar_confounded/linear_ts_n5000_vars6_lag2_student_t_mcar30_complete.csv (deflated 55%)\n",
            "  adding: content/output_mcar_confounded/linear_ts_n3000_vars4_lag4_student_t_mcar20_series.png (deflated 3%)\n",
            "  adding: content/output_mcar_confounded/linear_ts_n5000_vars8_lag4_gaussian_mcar10_missing.csv (deflated 57%)\n",
            "  adding: content/output_mcar_confounded/linear_ts_n500_vars4_lag3_student_t_mcar30_series.png (deflated 3%)\n",
            "  adding: content/output_mcar_confounded/linear_ts_n3000_vars6_lag3_gaussian_mcar30_series.png (deflated 1%)\n",
            "  adding: content/output_mcar_confounded/linear_ts_n5000_vars6_lag3_gaussian_mcar10_complete.csv (deflated 56%)\n",
            "  adding: content/output_mcar_confounded/linear_ts_n1000_vars8_lag2_student_t_mcar20_structure.txt (deflated 52%)\n",
            "  adding: content/output_mcar_confounded/linear_ts_n500_vars6_lag4_student_t_mcar10_complete.csv (deflated 54%)\n",
            "  adding: content/output_mcar_confounded/linear_ts_n1000_vars8_lag3_student_t_mcar20_series.png (deflated 4%)\n",
            "  adding: content/output_mcar_confounded/linear_ts_n1000_vars8_lag2_student_t_mcar20_missing_pattern.png (deflated 5%)\n",
            "  adding: content/output_mcar_confounded/linear_ts_n3000_vars4_lag3_student_t_mcar30_series.png (deflated 3%)\n",
            "  adding: content/output_mcar_confounded/linear_ts_n5000_vars4_lag2_student_t_mcar20_graph.png (deflated 5%)\n",
            "  adding: content/output_mcar_confounded/linear_ts_n1000_vars4_lag3_gaussian_mcar30_series.png (deflated 1%)\n",
            "  adding: content/output_mcar_confounded/linear_ts_n1000_vars4_lag4_student_t_mcar10_series.png (deflated 3%)\n",
            "  adding: content/output_mcar_confounded/linear_ts_n1000_vars4_lag4_gaussian_mcar20_complete.csv (deflated 56%)\n",
            "  adding: content/output_mcar_confounded/linear_ts_n3000_vars4_lag4_student_t_mcar10_complete.csv (deflated 57%)\n",
            "  adding: content/output_mcar_confounded/linear_ts_n5000_vars6_lag3_student_t_mcar30_series.png (deflated 3%)\n",
            "  adding: content/output_mcar_confounded/linear_ts_n3000_vars8_lag2_student_t_mcar10_graph.png (deflated 5%)\n",
            "  adding: content/output_mcar_confounded/linear_ts_n500_vars6_lag2_gaussian_mcar10_complete.csv (deflated 53%)\n",
            "  adding: content/output_mcar_confounded/linear_ts_n3000_vars8_lag4_gaussian_mcar10_structure.txt (deflated 50%)\n",
            "  adding: content/output_mcar_confounded/linear_ts_n5000_vars6_lag3_student_t_mcar30_missing.csv (deflated 55%)\n",
            "  adding: content/output_mcar_confounded/linear_ts_n5000_vars6_lag4_gaussian_mcar10_series.png (deflated 1%)\n",
            "  adding: content/output_mcar_confounded/linear_ts_n500_vars6_lag2_student_t_mcar10_missing_pattern.png (deflated 6%)\n",
            "  adding: content/output_mcar_confounded/linear_ts_n1000_vars8_lag3_gaussian_mcar30_graph.png (deflated 5%)\n",
            "  adding: content/output_mcar_confounded/linear_ts_n500_vars4_lag2_gaussian_mcar30_missing.csv (deflated 54%)\n",
            "  adding: content/output_mcar_confounded/linear_ts_n1000_vars8_lag3_student_t_mcar30_complete.csv (deflated 56%)\n",
            "  adding: content/output_mcar_confounded/linear_ts_n3000_vars8_lag3_student_t_mcar30_series.png (deflated 3%)\n",
            "  adding: content/output_mcar_confounded/linear_ts_n1000_vars4_lag2_gaussian_mcar10_series.png (deflated 1%)\n",
            "  adding: content/output_mcar_confounded/linear_ts_n5000_vars6_lag4_gaussian_mcar10_structure.txt (deflated 46%)\n",
            "  adding: content/output_mcar_confounded/linear_ts_n1000_vars6_lag3_gaussian_mcar20_complete.csv (deflated 55%)\n",
            "  adding: content/output_mcar_confounded/linear_ts_n5000_vars4_lag2_student_t_mcar10_complete.csv (deflated 57%)\n",
            "  adding: content/output_mcar_confounded/linear_ts_n5000_vars6_lag2_student_t_mcar10_complete.csv (deflated 55%)\n",
            "  adding: content/output_mcar_confounded/linear_ts_n1000_vars8_lag2_gaussian_mcar10_missing_pattern.png (deflated 5%)\n",
            "  adding: content/output_mcar_confounded/linear_ts_n5000_vars4_lag3_student_t_mcar30_missing.csv (deflated 56%)\n",
            "  adding: content/output_mcar_confounded/linear_ts_n3000_vars4_lag3_student_t_mcar30_structure.txt (deflated 41%)\n",
            "  adding: content/output_mcar_confounded/linear_ts_n5000_vars4_lag3_student_t_mcar30_series.png (deflated 3%)\n",
            "  adding: content/output_mcar_confounded/linear_ts_n5000_vars8_lag3_student_t_mcar20_structure.txt (deflated 51%)\n",
            "  adding: content/output_mcar_confounded/linear_ts_n500_vars4_lag3_gaussian_mcar20_missing_pattern.png (deflated 5%)\n",
            "  adding: content/output_mcar_confounded/linear_ts_n1000_vars4_lag2_student_t_mcar10_series.png (deflated 3%)\n",
            "  adding: content/output_mcar_confounded/linear_ts_n1000_vars4_lag3_gaussian_mcar20_structure.txt (deflated 42%)\n",
            "  adding: content/output_mcar_confounded/linear_ts_n500_vars6_lag4_gaussian_mcar30_complete.csv (deflated 55%)\n",
            "  adding: content/output_mcar_confounded/linear_ts_n500_vars8_lag3_gaussian_mcar30_missing.csv (deflated 54%)\n",
            "  adding: content/output_mcar_confounded/linear_ts_n500_vars4_lag4_student_t_mcar30_graph.png (deflated 4%)\n",
            "  adding: content/output_mcar_confounded/linear_ts_n5000_vars6_lag2_gaussian_mcar20_graph.png (deflated 4%)\n",
            "  adding: content/output_mcar_confounded/linear_ts_n1000_vars4_lag2_gaussian_mcar30_series.png (deflated 1%)\n",
            "  adding: content/output_mcar_confounded/linear_ts_n500_vars8_lag4_gaussian_mcar10_complete.csv (deflated 55%)\n",
            "  adding: content/output_mcar_confounded/linear_ts_n500_vars4_lag4_student_t_mcar10_complete.csv (deflated 55%)\n",
            "  adding: content/output_mcar_confounded/linear_ts_n1000_vars6_lag3_gaussian_mcar10_missing.csv (deflated 55%)\n",
            "  adding: content/output_mcar_confounded/linear_ts_n1000_vars4_lag3_gaussian_mcar20_missing.csv (deflated 55%)\n",
            "  adding: content/output_mcar_confounded/linear_ts_n1000_vars6_lag2_gaussian_mcar10_complete.csv (deflated 54%)\n",
            "  adding: content/output_mcar_confounded/linear_ts_n1000_vars6_lag4_student_t_mcar10_series.png (deflated 3%)\n",
            "  adding: content/output_mcar_confounded/linear_ts_n1000_vars4_lag3_student_t_mcar20_complete.csv (deflated 56%)\n",
            "  adding: content/output_mcar_confounded/linear_ts_n1000_vars8_lag4_gaussian_mcar20_complete.csv (deflated 56%)\n",
            "  adding: content/output_mcar_confounded/linear_ts_n500_vars4_lag4_student_t_mcar30_missing_pattern.png (deflated 4%)\n",
            "  adding: content/output_mcar_confounded/linear_ts_n5000_vars4_lag3_gaussian_mcar30_missing.csv (deflated 57%)\n",
            "  adding: content/output_mcar_confounded/linear_ts_n5000_vars8_lag3_gaussian_mcar20_series.png (deflated 1%)\n",
            "  adding: content/output_mcar_confounded/linear_ts_n1000_vars6_lag2_student_t_mcar10_missing_pattern.png (deflated 7%)\n",
            "  adding: content/output_mcar_confounded/linear_ts_n3000_vars4_lag3_gaussian_mcar20_complete.csv (deflated 57%)\n",
            "  adding: content/output_mcar_confounded/linear_ts_n3000_vars8_lag2_student_t_mcar30_missing_pattern.png (deflated 4%)\n",
            "  adding: content/output_mcar_confounded/linear_ts_n3000_vars8_lag3_gaussian_mcar10_structure.txt (deflated 50%)\n",
            "  adding: content/output_mcar_confounded/linear_ts_n3000_vars6_lag2_gaussian_mcar30_missing_pattern.png (deflated 4%)\n",
            "  adding: content/output_mcar_confounded/linear_ts_n3000_vars6_lag3_student_t_mcar20_series.png (deflated 3%)\n",
            "  adding: content/output_mcar_confounded/linear_ts_n3000_vars8_lag3_gaussian_mcar20_missing.csv (deflated 56%)\n",
            "  adding: content/output_mcar_confounded/linear_ts_n3000_vars8_lag2_student_t_mcar10_series.png (deflated 3%)\n",
            "  adding: content/output_mcar_confounded/linear_ts_n5000_vars6_lag4_gaussian_mcar20_missing.csv (deflated 56%)\n",
            "  adding: content/output_mcar_confounded/linear_ts_n500_vars4_lag4_gaussian_mcar30_structure.txt (deflated 42%)\n",
            "  adding: content/output_mcar_confounded/linear_ts_n5000_vars4_lag2_student_t_mcar30_missing_pattern.png (deflated 5%)\n",
            "  adding: content/output_mcar_confounded/linear_ts_n1000_vars8_lag3_gaussian_mcar30_complete.csv (deflated 56%)\n",
            "  adding: content/output_mcar_confounded/linear_ts_n3000_vars4_lag4_student_t_mcar10_missing_pattern.png (deflated 4%)\n",
            "  adding: content/output_mcar_confounded/linear_ts_n3000_vars8_lag4_gaussian_mcar10_missing.csv (deflated 56%)\n",
            "  adding: content/output_mcar_confounded/linear_ts_n1000_vars8_lag3_student_t_mcar10_missing.csv (deflated 55%)\n",
            "  adding: content/output_mcar_confounded/linear_ts_n5000_vars6_lag2_gaussian_mcar10_series.png (deflated 1%)\n",
            "  adding: content/output_mcar_confounded/linear_ts_n5000_vars6_lag3_student_t_mcar20_graph.png (deflated 4%)\n",
            "  adding: content/output_mcar_confounded/linear_ts_n5000_vars8_lag2_student_t_mcar20_complete.csv (deflated 56%)\n",
            "  adding: content/output_mcar_confounded/linear_ts_n3000_vars4_lag3_gaussian_mcar10_series.png (deflated 1%)\n",
            "  adding: content/output_mcar_confounded/linear_ts_n500_vars6_lag2_gaussian_mcar30_graph.png (deflated 4%)\n",
            "  adding: content/output_mcar_confounded/linear_ts_n3000_vars6_lag4_student_t_mcar10_complete.csv (deflated 56%)\n",
            "  adding: content/output_mcar_confounded/linear_ts_n500_vars6_lag3_gaussian_mcar20_graph.png (deflated 4%)\n",
            "  adding: content/output_mcar_confounded/linear_ts_n1000_vars4_lag4_student_t_mcar20_missing.csv (deflated 55%)\n",
            "  adding: content/output_mcar_confounded/linear_ts_n1000_vars6_lag4_student_t_mcar30_graph.png (deflated 4%)\n",
            "  adding: content/output_mcar_confounded/linear_ts_n3000_vars4_lag2_student_t_mcar10_missing.csv (deflated 56%)\n",
            "  adding: content/output_mcar_confounded/linear_ts_n500_vars6_lag2_gaussian_mcar20_graph.png (deflated 4%)\n",
            "  adding: content/output_mcar_confounded/linear_ts_n3000_vars4_lag2_student_t_mcar10_structure.txt (deflated 39%)\n",
            "  adding: content/output_mcar_confounded/linear_ts_n3000_vars6_lag4_gaussian_mcar10_missing_pattern.png (deflated 4%)\n",
            "  adding: content/output_mcar_confounded/linear_ts_n1000_vars8_lag3_student_t_mcar30_graph.png (deflated 4%)\n",
            "  adding: content/output_mcar_confounded/linear_ts_n5000_vars4_lag3_gaussian_mcar10_complete.csv (deflated 58%)\n",
            "  adding: content/output_mcar_confounded/linear_ts_n1000_vars6_lag3_student_t_mcar20_structure.txt (deflated 46%)\n",
            "  adding: content/output_mcar_confounded/linear_ts_n500_vars8_lag4_student_t_mcar10_structure.txt (deflated 51%)\n",
            "  adding: content/output_mcar_confounded/linear_ts_n3000_vars4_lag3_student_t_mcar10_missing.csv (deflated 56%)\n",
            "  adding: content/output_mcar_confounded/linear_ts_n500_vars4_lag2_student_t_mcar10_missing_pattern.png (deflated 6%)\n",
            "  adding: content/output_mcar_confounded/linear_ts_n500_vars8_lag3_student_t_mcar20_graph.png (deflated 4%)\n",
            "  adding: content/output_mcar_confounded/linear_ts_n3000_vars4_lag4_gaussian_mcar30_missing.csv (deflated 56%)\n",
            "  adding: content/output_mcar_confounded/linear_ts_n1000_vars8_lag2_student_t_mcar10_missing_pattern.png (deflated 5%)\n",
            "  adding: content/output_mcar_confounded/linear_ts_n1000_vars6_lag3_gaussian_mcar20_missing_pattern.png (deflated 6%)\n",
            "  adding: content/output_mcar_confounded/linear_ts_n1000_vars8_lag4_student_t_mcar10_series.png (deflated 4%)\n",
            "  adding: content/output_mcar_confounded/linear_ts_n5000_vars6_lag3_gaussian_mcar30_graph.png (deflated 4%)\n",
            "  adding: content/output_mcar_confounded/linear_ts_n3000_vars6_lag3_student_t_mcar30_structure.txt (deflated 46%)\n",
            "  adding: content/output_mcar_confounded/linear_ts_n3000_vars8_lag4_gaussian_mcar20_structure.txt (deflated 50%)\n",
            "  adding: content/output_mcar_confounded/linear_ts_n500_vars8_lag3_student_t_mcar20_complete.csv (deflated 55%)\n",
            "  adding: content/output_mcar_confounded/linear_ts_n500_vars8_lag3_gaussian_mcar10_missing_pattern.png (deflated 5%)\n",
            "  adding: content/output_mcar_confounded/linear_ts_n500_vars8_lag2_gaussian_mcar30_complete.csv (deflated 54%)\n",
            "  adding: content/output_mcar_confounded/linear_ts_n500_vars4_lag3_gaussian_mcar20_series.png (deflated 2%)\n",
            "  adding: content/output_mcar_confounded/linear_ts_n500_vars8_lag2_student_t_mcar30_series.png (deflated 3%)\n",
            "  adding: content/output_mcar_confounded/linear_ts_n500_vars6_lag3_student_t_mcar10_graph.png (deflated 4%)\n",
            "  adding: content/output_mcar_confounded/linear_ts_n1000_vars8_lag2_student_t_mcar10_structure.txt (deflated 52%)\n",
            "  adding: content/output_mcar_confounded/linear_ts_n3000_vars8_lag2_gaussian_mcar10_complete.csv (deflated 56%)\n",
            "  adding: content/output_mcar_confounded/linear_ts_n500_vars6_lag4_student_t_mcar30_structure.txt (deflated 46%)\n",
            "  adding: content/output_mcar_confounded/linear_ts_n1000_vars8_lag2_gaussian_mcar30_missing_pattern.png (deflated 4%)\n",
            "  adding: content/output_mcar_confounded/linear_ts_n3000_vars8_lag4_gaussian_mcar10_series.png (deflated 1%)\n",
            "  adding: content/output_mcar_confounded/linear_ts_n3000_vars6_lag4_gaussian_mcar30_structure.txt (deflated 46%)\n",
            "  adding: content/output_mcar_confounded/linear_ts_n3000_vars8_lag3_student_t_mcar30_missing_pattern.png (deflated 4%)\n",
            "  adding: content/output_mcar_confounded/linear_ts_n5000_vars4_lag4_student_t_mcar30_missing.csv (deflated 56%)\n",
            "  adding: content/output_mcar_confounded/linear_ts_n500_vars4_lag2_gaussian_mcar20_structure.txt (deflated 40%)\n",
            "  adding: content/output_mcar_confounded/linear_ts_n3000_vars8_lag2_gaussian_mcar10_missing_pattern.png (deflated 4%)\n",
            "  adding: content/output_mcar_confounded/linear_ts_n3000_vars8_lag4_student_t_mcar30_complete.csv (deflated 57%)\n",
            "  adding: content/output_mcar_confounded/linear_ts_n500_vars4_lag4_gaussian_mcar10_structure.txt (deflated 42%)\n",
            "  adding: content/output_mcar_confounded/linear_ts_n3000_vars8_lag3_student_t_mcar20_complete.csv (deflated 57%)\n",
            "  adding: content/output_mcar_confounded/linear_ts_n5000_vars6_lag3_student_t_mcar10_series.png (deflated 3%)\n",
            "  adding: content/output_mcar_confounded/linear_ts_n1000_vars4_lag4_student_t_mcar30_missing.csv (deflated 55%)\n",
            "  adding: content/output_mcar_confounded/linear_ts_n500_vars6_lag2_gaussian_mcar10_missing_pattern.png (deflated 6%)\n",
            "  adding: content/output_mcar_confounded/linear_ts_n3000_vars8_lag4_gaussian_mcar20_missing.csv (deflated 56%)\n",
            "  adding: content/output_mcar_confounded/linear_ts_n3000_vars4_lag2_student_t_mcar10_missing_pattern.png (deflated 4%)\n",
            "  adding: content/output_mcar_confounded/linear_ts_n5000_vars4_lag3_gaussian_mcar20_graph.png (deflated 4%)\n",
            "  adding: content/output_mcar_confounded/linear_ts_n5000_vars8_lag3_gaussian_mcar20_missing_pattern.png (deflated 4%)\n",
            "  adding: content/output_mcar_confounded/linear_ts_n3000_vars6_lag2_student_t_mcar20_graph.png (deflated 4%)\n",
            "  adding: content/output_mcar_confounded/linear_ts_n3000_vars8_lag2_student_t_mcar30_graph.png (deflated 5%)\n",
            "  adding: content/output_mcar_confounded/linear_ts_n5000_vars6_lag3_gaussian_mcar30_series.png (deflated 1%)\n",
            "  adding: content/output_mcar_confounded/linear_ts_n5000_vars4_lag2_gaussian_mcar20_structure.txt (deflated 40%)\n",
            "  adding: content/output_mcar_confounded/linear_ts_n3000_vars6_lag4_student_t_mcar20_missing.csv (deflated 55%)\n",
            "  adding: content/output_mcar_confounded/linear_ts_n3000_vars6_lag2_student_t_mcar10_graph.png (deflated 4%)\n",
            "  adding: content/output_mcar_confounded/linear_ts_n5000_vars8_lag4_student_t_mcar30_complete.csv (deflated 57%)\n",
            "  adding: content/output_mcar_confounded/linear_ts_n1000_vars8_lag2_student_t_mcar10_graph.png (deflated 4%)\n",
            "  adding: content/output_mcar_confounded/linear_ts_n1000_vars6_lag3_student_t_mcar30_structure.txt (deflated 46%)\n",
            "  adding: content/output_mcar_confounded/linear_ts_n5000_vars8_lag2_student_t_mcar20_missing_pattern.png (deflated 4%)\n",
            "  adding: content/output_mcar_confounded/linear_ts_n5000_vars6_lag4_gaussian_mcar30_missing_pattern.png (deflated 4%)\n",
            "  adding: content/output_mcar_confounded/linear_ts_n3000_vars6_lag3_gaussian_mcar10_structure.txt (deflated 47%)\n",
            "  adding: content/output_mcar_confounded/linear_ts_n3000_vars6_lag2_student_t_mcar20_missing_pattern.png (deflated 4%)\n",
            "  adding: content/output_mcar_confounded/linear_ts_n3000_vars8_lag3_gaussian_mcar20_structure.txt (deflated 50%)\n",
            "  adding: content/output_mcar_confounded/linear_ts_n5000_vars6_lag2_gaussian_mcar10_missing_pattern.png (deflated 4%)\n",
            "  adding: content/output_mcar_confounded/linear_ts_n500_vars4_lag3_student_t_mcar10_series.png (deflated 2%)\n",
            "  adding: content/output_mcar_confounded/linear_ts_n500_vars6_lag2_gaussian_mcar20_missing_pattern.png (deflated 5%)\n",
            "  adding: content/output_mcar_confounded/linear_ts_n3000_vars8_lag2_student_t_mcar20_complete.csv (deflated 55%)\n",
            "  adding: content/output_mcar_confounded/linear_ts_n3000_vars4_lag3_gaussian_mcar30_series.png (deflated 1%)\n",
            "  adding: content/output_mcar_confounded/linear_ts_n3000_vars8_lag3_gaussian_mcar10_missing.csv (deflated 56%)\n",
            "  adding: content/output_mcar_confounded/linear_ts_n3000_vars4_lag2_gaussian_mcar10_complete.csv (deflated 57%)\n",
            "  adding: content/output_mcar_confounded/linear_ts_n500_vars8_lag4_gaussian_mcar30_series.png (deflated 1%)\n",
            "  adding: content/output_mcar_confounded/linear_ts_n5000_vars6_lag3_student_t_mcar20_structure.txt (deflated 46%)\n",
            "  adding: content/output_mcar_confounded/linear_ts_n5000_vars6_lag4_student_t_mcar10_structure.txt (deflated 46%)\n",
            "  adding: content/output_mcar_confounded/linear_ts_n500_vars6_lag4_student_t_mcar20_missing_pattern.png (deflated 5%)\n",
            "  adding: content/output_mcar_confounded/linear_ts_n1000_vars4_lag3_student_t_mcar30_missing_pattern.png (deflated 4%)\n",
            "  adding: content/output_mcar_confounded/linear_ts_n1000_vars4_lag3_gaussian_mcar20_complete.csv (deflated 56%)\n",
            "  adding: content/output_mcar_confounded/linear_ts_n1000_vars4_lag3_student_t_mcar30_graph.png (deflated 3%)\n",
            "  adding: content/output_mcar_confounded/linear_ts_n3000_vars4_lag4_gaussian_mcar20_missing.csv (deflated 56%)\n",
            "  adding: content/output_mcar_confounded/linear_ts_n500_vars8_lag2_gaussian_mcar20_graph.png (deflated 5%)\n",
            "  adding: content/output_mcar_confounded/linear_ts_n1000_vars6_lag4_gaussian_mcar30_structure.txt (deflated 46%)\n",
            "  adding: content/output_mcar_confounded/linear_ts_n5000_vars6_lag2_gaussian_mcar10_complete.csv (deflated 55%)\n",
            "  adding: content/output_mcar_confounded/linear_ts_n5000_vars6_lag3_gaussian_mcar30_missing.csv (deflated 56%)\n",
            "  adding: content/output_mcar_confounded/linear_ts_n500_vars8_lag4_student_t_mcar20_missing.csv (deflated 54%)\n",
            "  adding: content/output_mcar_confounded/linear_ts_n3000_vars4_lag2_student_t_mcar30_complete.csv (deflated 57%)\n",
            "  adding: content/output_mcar_confounded/linear_ts_n3000_vars8_lag2_gaussian_mcar30_complete.csv (deflated 56%)\n",
            "  adding: content/output_mcar_confounded/linear_ts_n5000_vars6_lag3_gaussian_mcar10_graph.png (deflated 4%)\n",
            "  adding: content/output_mcar_confounded/linear_ts_n500_vars6_lag2_gaussian_mcar10_structure.txt (deflated 47%)\n",
            "  adding: content/output_mcar_confounded/linear_ts_n500_vars6_lag4_gaussian_mcar20_missing_pattern.png (deflated 5%)\n",
            "  adding: content/output_mcar_confounded/linear_ts_n5000_vars8_lag2_student_t_mcar30_missing.csv (deflated 55%)\n",
            "  adding: content/output_mcar_confounded/linear_ts_n500_vars8_lag4_student_t_mcar30_graph.png (deflated 4%)\n",
            "  adding: content/output_mcar_confounded/linear_ts_n500_vars4_lag3_student_t_mcar20_structure.txt (deflated 41%)\n",
            "  adding: content/output_mcar_confounded/linear_ts_n1000_vars6_lag2_student_t_mcar30_missing_pattern.png (deflated 5%)\n",
            "  adding: content/output_mcar_confounded/linear_ts_n5000_vars8_lag3_student_t_mcar10_series.png (deflated 3%)\n",
            "  adding: content/output_mcar_confounded/linear_ts_n5000_vars8_lag3_student_t_mcar10_complete.csv (deflated 57%)\n",
            "  adding: content/output_mcar_confounded/linear_ts_n500_vars8_lag2_gaussian_mcar30_missing_pattern.png (deflated 4%)\n",
            "  adding: content/output_mcar_confounded/linear_ts_n3000_vars6_lag3_student_t_mcar10_missing_pattern.png (deflated 4%)\n",
            "  adding: content/output_mcar_confounded/linear_ts_n1000_vars8_lag2_student_t_mcar10_series.png (deflated 3%)\n",
            "  adding: content/output_mcar_confounded/linear_ts_n5000_vars4_lag2_gaussian_mcar30_graph.png (deflated 5%)\n",
            "  adding: content/output_mcar_confounded/linear_ts_n500_vars6_lag3_student_t_mcar30_missing_pattern.png (deflated 4%)\n",
            "  adding: content/output_mcar_confounded/linear_ts_n5000_vars4_lag2_gaussian_mcar30_series.png (deflated 1%)\n",
            "  adding: content/output_mcar_confounded/linear_ts_n3000_vars8_lag4_gaussian_mcar30_series.png (deflated 1%)\n",
            "  adding: content/output_mcar_confounded/linear_ts_n500_vars4_lag3_gaussian_mcar10_missing_pattern.png (deflated 7%)\n",
            "  adding: content/output_mcar_confounded/linear_ts_n3000_vars4_lag4_student_t_mcar30_missing_pattern.png (deflated 4%)\n",
            "  adding: content/output_mcar_confounded/linear_ts_n500_vars6_lag3_gaussian_mcar30_missing_pattern.png (deflated 4%)\n",
            "  adding: content/output_mcar_confounded/linear_ts_n1000_vars6_lag4_gaussian_mcar20_structure.txt (deflated 46%)\n",
            "  adding: content/output_mcar_confounded/linear_ts_n500_vars8_lag3_student_t_mcar10_missing_pattern.png (deflated 6%)\n",
            "  adding: content/output_mcar_confounded/linear_ts_n3000_vars8_lag3_gaussian_mcar30_structure.txt (deflated 50%)\n",
            "  adding: content/output_mcar_confounded/linear_ts_n500_vars6_lag4_student_t_mcar30_series.png (deflated 2%)\n",
            "  adding: content/output_mcar_confounded/linear_ts_n3000_vars8_lag2_student_t_mcar10_complete.csv (deflated 55%)\n",
            "  adding: content/output_mcar_confounded/linear_ts_n5000_vars8_lag2_gaussian_mcar10_complete.csv (deflated 56%)\n",
            "  adding: content/output_mcar_confounded/linear_ts_n1000_vars4_lag2_gaussian_mcar20_missing_pattern.png (deflated 4%)\n",
            "  adding: content/output_mcar_confounded/linear_ts_n500_vars6_lag4_student_t_mcar30_complete.csv (deflated 54%)\n",
            "  adding: content/output_mcar_confounded/linear_ts_n1000_vars4_lag3_gaussian_mcar10_series.png (deflated 1%)\n",
            "  adding: content/output_mcar_confounded/linear_ts_n1000_vars6_lag2_student_t_mcar20_missing.csv (deflated 53%)\n",
            "  adding: content/output_mcar_confounded/linear_ts_n1000_vars4_lag4_student_t_mcar20_complete.csv (deflated 56%)\n",
            "  adding: content/output_mcar_confounded/linear_ts_n3000_vars8_lag2_student_t_mcar20_graph.png (deflated 4%)\n",
            "  adding: content/output_mcar_confounded/linear_ts_n3000_vars8_lag3_student_t_mcar20_structure.txt (deflated 51%)\n",
            "  adding: content/output_mcar_confounded/linear_ts_n5000_vars6_lag2_student_t_mcar20_missing.csv (deflated 54%)\n",
            "  adding: content/output_mcar_confounded/linear_ts_n3000_vars8_lag3_student_t_mcar20_series.png (deflated 3%)\n",
            "  adding: content/output_mcar_confounded/linear_ts_n1000_vars8_lag4_student_t_mcar30_structure.txt (deflated 51%)\n",
            "  adding: content/output_mcar_confounded/linear_ts_n5000_vars8_lag2_gaussian_mcar30_series.png (deflated 1%)\n",
            "  adding: content/output_mcar_confounded/linear_ts_n500_vars6_lag4_gaussian_mcar30_missing_pattern.png (deflated 4%)\n",
            "  adding: content/output_mcar_confounded/linear_ts_n1000_vars4_lag3_gaussian_mcar10_structure.txt (deflated 41%)\n",
            "  adding: content/output_mcar_confounded/linear_ts_n5000_vars4_lag2_student_t_mcar10_series.png (deflated 3%)\n",
            "  adding: content/output_mcar_confounded/linear_ts_n1000_vars4_lag2_student_t_mcar20_series.png (deflated 3%)\n",
            "  adding: content/output_mcar_confounded/linear_ts_n5000_vars6_lag2_gaussian_mcar30_complete.csv (deflated 55%)\n",
            "  adding: content/output_mcar_confounded/linear_ts_n3000_vars6_lag2_student_t_mcar10_series.png (deflated 3%)\n",
            "  adding: content/output_mcar_confounded/linear_ts_n1000_vars8_lag4_student_t_mcar30_missing.csv (deflated 55%)\n",
            "  adding: content/output_mcar_confounded/linear_ts_n500_vars4_lag2_student_t_mcar10_missing.csv (deflated 55%)\n",
            "  adding: content/output_mcar_confounded/linear_ts_n5000_vars4_lag4_student_t_mcar20_complete.csv (deflated 57%)\n",
            "  adding: content/output_mcar_confounded/linear_ts_n1000_vars4_lag2_gaussian_mcar10_structure.txt (deflated 40%)\n",
            "  adding: content/output_mcar_confounded/linear_ts_n5000_vars6_lag2_student_t_mcar30_graph.png (deflated 4%)\n",
            "  adding: content/output_mcar_confounded/linear_ts_n5000_vars8_lag4_student_t_mcar10_missing.csv (deflated 56%)\n",
            "  adding: content/output_mcar_confounded/linear_ts_n500_vars4_lag2_gaussian_mcar20_complete.csv (deflated 55%)\n",
            "  adding: content/output_mcar_confounded/linear_ts_n1000_vars8_lag4_gaussian_mcar30_structure.txt (deflated 50%)\n",
            "  adding: content/output_mcar_confounded/linear_ts_n1000_vars6_lag3_gaussian_mcar20_graph.png (deflated 4%)\n",
            "  adding: content/output_mcar_confounded/linear_ts_n5000_vars8_lag2_gaussian_mcar30_missing.csv (deflated 55%)\n",
            "  adding: content/output_mcar_confounded/linear_ts_n1000_vars8_lag2_gaussian_mcar20_series.png (deflated 1%)\n",
            "  adding: content/output_mcar_confounded/linear_ts_n500_vars4_lag4_gaussian_mcar10_series.png (deflated 2%)\n",
            "  adding: content/output_mcar_confounded/linear_ts_n500_vars6_lag3_student_t_mcar10_missing_pattern.png (deflated 6%)\n",
            "  adding: content/output_mcar_confounded/linear_ts_n5000_vars4_lag3_gaussian_mcar20_structure.txt (deflated 42%)\n",
            "  adding: content/output_mcar_confounded/linear_ts_n500_vars6_lag2_student_t_mcar10_graph.png (deflated 4%)\n",
            "  adding: content/output_mcar_confounded/linear_ts_n1000_vars6_lag4_student_t_mcar20_graph.png (deflated 4%)\n",
            "  adding: content/output_mcar_confounded/linear_ts_n3000_vars6_lag3_student_t_mcar20_missing_pattern.png (deflated 4%)\n",
            "  adding: content/output_mcar_confounded/linear_ts_n5000_vars6_lag4_student_t_mcar30_structure.txt (deflated 46%)\n",
            "  adding: content/output_mcar_confounded/linear_ts_n500_vars6_lag4_gaussian_mcar10_structure.txt (deflated 46%)\n",
            "  adding: content/output_mcar_confounded/linear_ts_n3000_vars6_lag4_student_t_mcar10_graph.png (deflated 4%)\n",
            "  adding: content/output_mcar_confounded/linear_ts_n1000_vars8_lag2_gaussian_mcar30_structure.txt (deflated 52%)\n",
            "  adding: content/output_mcar_confounded/linear_ts_n500_vars6_lag3_student_t_mcar20_missing.csv (deflated 54%)\n",
            "  adding: content/output_mcar_confounded/linear_ts_n1000_vars4_lag4_gaussian_mcar20_missing.csv (deflated 55%)\n",
            "  adding: content/output_mcar_confounded/linear_ts_n3000_vars4_lag3_student_t_mcar10_structure.txt (deflated 41%)\n",
            "  adding: content/output_mcar_confounded/linear_ts_n5000_vars4_lag4_student_t_mcar10_series.png (deflated 3%)\n",
            "  adding: content/output_mcar_confounded/linear_ts_n1000_vars4_lag4_student_t_mcar10_complete.csv (deflated 56%)\n",
            "  adding: content/output_mcar_confounded/linear_ts_n1000_vars6_lag4_student_t_mcar30_complete.csv (deflated 55%)\n",
            "  adding: content/output_mcar_confounded/linear_ts_n500_vars6_lag2_student_t_mcar20_complete.csv (deflated 53%)\n",
            "  adding: content/output_mcar_confounded/linear_ts_n500_vars8_lag3_student_t_mcar20_series.png (deflated 4%)\n",
            "  adding: content/output_mcar_confounded/linear_ts_n3000_vars8_lag3_student_t_mcar30_missing.csv (deflated 56%)\n",
            "  adding: content/output_mcar_confounded/linear_ts_n1000_vars4_lag3_gaussian_mcar30_missing_pattern.png (deflated 4%)\n",
            "  adding: content/output_mcar_confounded/linear_ts_n5000_vars6_lag3_gaussian_mcar20_missing_pattern.png (deflated 4%)\n",
            "  adding: content/output_mcar_confounded/linear_ts_n1000_vars6_lag2_student_t_mcar10_graph.png (deflated 4%)\n",
            "  adding: content/output_mcar_confounded/linear_ts_n1000_vars8_lag4_student_t_mcar20_structure.txt (deflated 51%)\n",
            "  adding: content/output_mcar_confounded/linear_ts_n1000_vars4_lag4_student_t_mcar30_graph.png (deflated 4%)\n",
            "  adding: content/output_mcar_confounded/linear_ts_n1000_vars6_lag3_student_t_mcar30_graph.png (deflated 4%)\n",
            "  adding: content/output_mcar_confounded/linear_ts_n1000_vars4_lag2_gaussian_mcar20_graph.png (deflated 4%)\n",
            "  adding: content/output_mcar_confounded/linear_ts_n3000_vars8_lag4_student_t_mcar20_missing_pattern.png (deflated 3%)\n",
            "  adding: content/output_mcar_confounded/linear_ts_n5000_vars4_lag3_gaussian_mcar10_missing_pattern.png (deflated 5%)\n",
            "  adding: content/output_mcar_confounded/linear_ts_n500_vars6_lag4_gaussian_mcar10_complete.csv (deflated 55%)\n",
            "  adding: content/output_mcar_confounded/linear_ts_n500_vars8_lag2_student_t_mcar30_structure.txt (deflated 52%)\n",
            "  adding: content/output_mcar_confounded/linear_ts_n3000_vars8_lag3_student_t_mcar30_structure.txt (deflated 51%)\n",
            "  adding: content/output_mcar_confounded/linear_ts_n5000_vars8_lag4_gaussian_mcar30_structure.txt (deflated 50%)\n",
            "  adding: content/output_mcar_confounded/linear_ts_n500_vars6_lag3_gaussian_mcar30_structure.txt (deflated 47%)\n",
            "  adding: content/output_mcar_confounded/linear_ts_n1000_vars6_lag3_student_t_mcar10_series.png (deflated 3%)\n",
            "  adding: content/output_mcar_confounded/linear_ts_n3000_vars6_lag4_student_t_mcar30_missing.csv (deflated 55%)\n",
            "  adding: content/output_mcar_confounded/linear_ts_n1000_vars6_lag2_gaussian_mcar30_series.png (deflated 1%)\n",
            "  adding: content/output_mcar_confounded/linear_ts_n1000_vars4_lag3_gaussian_mcar30_structure.txt (deflated 42%)\n",
            "  adding: content/output_mcar_confounded/linear_ts_n5000_vars8_lag3_gaussian_mcar20_graph.png (deflated 4%)\n",
            "  adding: content/output_mcar_confounded/linear_ts_n5000_vars4_lag4_gaussian_mcar20_series.png (deflated 1%)\n",
            "  adding: content/output_mcar_confounded/linear_ts_n5000_vars8_lag3_student_t_mcar30_series.png (deflated 3%)\n",
            "  adding: content/output_mcar_confounded/linear_ts_n5000_vars4_lag3_gaussian_mcar10_series.png (deflated 1%)\n",
            "  adding: content/output_mcar_confounded/linear_ts_n500_vars8_lag2_gaussian_mcar20_complete.csv (deflated 54%)\n",
            "  adding: content/output_mcar_confounded/linear_ts_n5000_vars6_lag4_gaussian_mcar30_structure.txt (deflated 46%)\n",
            "  adding: content/output_mcar_confounded/linear_ts_n1000_vars6_lag3_student_t_mcar20_graph.png (deflated 4%)\n",
            "  adding: content/output_mcar_confounded/linear_ts_n3000_vars8_lag3_student_t_mcar10_series.png (deflated 3%)\n",
            "  adding: content/output_mcar_confounded/linear_ts_n500_vars6_lag3_student_t_mcar30_structure.txt (deflated 46%)\n",
            "  adding: content/output_mcar_confounded/linear_ts_n1000_vars6_lag4_gaussian_mcar10_missing_pattern.png (deflated 7%)\n",
            "  adding: content/output_mcar_confounded/linear_ts_n3000_vars4_lag4_gaussian_mcar30_structure.txt (deflated 42%)\n",
            "  adding: content/output_mcar_confounded/linear_ts_n500_vars8_lag2_gaussian_mcar10_missing.csv (deflated 54%)\n",
            "  adding: content/output_mcar_confounded/linear_ts_n3000_vars6_lag3_student_t_mcar10_complete.csv (deflated 56%)\n",
            "  adding: content/output_mcar_confounded/linear_ts_n500_vars8_lag2_gaussian_mcar10_complete.csv (deflated 54%)\n",
            "  adding: content/output_mcar_confounded/linear_ts_n500_vars4_lag2_student_t_mcar10_structure.txt (deflated 39%)\n",
            "  adding: content/output_mcar_confounded/linear_ts_n5000_vars6_lag3_gaussian_mcar10_structure.txt (deflated 47%)\n",
            "  adding: content/output_mcar_confounded/linear_ts_n500_vars8_lag4_gaussian_mcar30_missing.csv (deflated 54%)\n",
            "  adding: content/output_mcar_confounded/linear_ts_n500_vars4_lag3_gaussian_mcar20_graph.png (deflated 4%)\n",
            "  adding: content/output_mcar_confounded/linear_ts_n1000_vars6_lag4_student_t_mcar20_missing.csv (deflated 54%)\n",
            "  adding: content/output_mcar_confounded/linear_ts_n5000_vars4_lag4_gaussian_mcar10_missing_pattern.png (deflated 5%)\n",
            "  adding: content/output_mcar_confounded/linear_ts_n1000_vars4_lag4_student_t_mcar10_graph.png (deflated 4%)\n",
            "  adding: content/output_mcar_confounded/linear_ts_n1000_vars8_lag4_gaussian_mcar20_series.png (deflated 1%)\n",
            "  adding: content/output_mcar_confounded/linear_ts_n5000_vars8_lag3_gaussian_mcar10_structure.txt (deflated 50%)\n",
            "  adding: content/output_mcar_confounded/linear_ts_n500_vars4_lag3_gaussian_mcar20_complete.csv (deflated 55%)\n",
            "  adding: content/output_mcar_confounded/linear_ts_n1000_vars8_lag3_student_t_mcar30_structure.txt (deflated 51%)\n",
            "  adding: content/output_mcar_confounded/linear_ts_n500_vars6_lag4_gaussian_mcar10_graph.png (deflated 4%)\n",
            "  adding: content/output_mcar_confounded/linear_ts_n3000_vars4_lag2_student_t_mcar20_missing_pattern.png (deflated 5%)\n",
            "  adding: content/output_mcar_confounded/linear_ts_n500_vars8_lag2_student_t_mcar30_graph.png (deflated 5%)\n",
            "  adding: content/output_mcar_confounded/linear_ts_n1000_vars4_lag2_student_t_mcar10_missing.csv (deflated 55%)\n",
            "  adding: content/output_mcar_confounded/linear_ts_n5000_vars8_lag2_gaussian_mcar10_series.png (deflated 1%)\n",
            "  adding: content/output_mcar_confounded/linear_ts_n3000_vars6_lag2_gaussian_mcar10_series.png (deflated 1%)\n",
            "  adding: content/output_mcar_confounded/linear_ts_n3000_vars6_lag4_student_t_mcar30_series.png (deflated 3%)\n",
            "  adding: content/output_mcar_confounded/linear_ts_n3000_vars6_lag3_student_t_mcar30_complete.csv (deflated 56%)\n",
            "  adding: content/output_mcar_confounded/linear_ts_n3000_vars4_lag3_student_t_mcar20_complete.csv (deflated 57%)\n",
            "  adding: content/output_mcar_confounded/linear_ts_n5000_vars4_lag4_gaussian_mcar20_complete.csv (deflated 58%)\n",
            "  adding: content/output_mcar_confounded/linear_ts_n5000_vars8_lag4_student_t_mcar20_structure.txt (deflated 51%)\n",
            "  adding: content/output_mcar_confounded/linear_ts_n500_vars4_lag4_student_t_mcar20_missing_pattern.png (deflated 5%)\n",
            "  adding: content/output_mcar_confounded/linear_ts_n500_vars4_lag4_student_t_mcar20_series.png (deflated 2%)\n",
            "  adding: content/output_mcar_confounded/linear_ts_n500_vars4_lag2_gaussian_mcar20_series.png (deflated 2%)\n",
            "  adding: content/output_mcar_confounded/linear_ts_n3000_vars8_lag4_student_t_mcar20_graph.png (deflated 5%)\n",
            "  adding: content/output_mcar_confounded/linear_ts_n5000_vars6_lag3_gaussian_mcar20_missing.csv (deflated 56%)\n",
            "  adding: content/output_mcar_confounded/linear_ts_n500_vars4_lag2_gaussian_mcar30_complete.csv (deflated 55%)\n",
            "  adding: content/output_mcar_confounded/linear_ts_n1000_vars6_lag3_student_t_mcar10_graph.png (deflated 4%)\n",
            "  adding: content/output_mcar_confounded/linear_ts_n5000_vars4_lag3_gaussian_mcar30_complete.csv (deflated 58%)\n",
            "  adding: content/output_mcar_confounded/linear_ts_n3000_vars6_lag4_gaussian_mcar20_missing_pattern.png (deflated 4%)\n",
            "  adding: content/output_mcar_confounded/linear_ts_n5000_vars8_lag4_student_t_mcar20_series.png (deflated 3%)\n",
            "  adding: content/output_mcar_confounded/linear_ts_n3000_vars6_lag3_student_t_mcar30_missing_pattern.png (deflated 4%)\n",
            "  adding: content/output_mcar_confounded/linear_ts_n500_vars8_lag4_student_t_mcar20_complete.csv (deflated 55%)\n",
            "  adding: content/output_mcar_confounded/linear_ts_n3000_vars4_lag3_student_t_mcar10_missing_pattern.png (deflated 4%)\n",
            "  adding: content/output_mcar_confounded/linear_ts_n5000_vars8_lag4_student_t_mcar10_graph.png (deflated 5%)\n",
            "  adding: content/output_mcar_confounded/linear_ts_n1000_vars6_lag3_student_t_mcar20_missing.csv (deflated 54%)\n",
            "  adding: content/output_mcar_confounded/linear_ts_n1000_vars6_lag2_student_t_mcar10_structure.txt (deflated 47%)\n",
            "  adding: content/output_mcar_confounded/linear_ts_n3000_vars6_lag2_student_t_mcar30_missing.csv (deflated 54%)\n",
            "  adding: content/output_mcar_confounded/linear_ts_n500_vars6_lag2_student_t_mcar20_graph.png (deflated 4%)\n",
            "  adding: content/output_mcar_confounded/linear_ts_n1000_vars4_lag2_gaussian_mcar30_missing.csv (deflated 55%)\n",
            "  adding: content/output_mcar_confounded/linear_ts_n5000_vars4_lag4_student_t_mcar20_missing.csv (deflated 57%)\n",
            "  adding: content/output_mcar_confounded/linear_ts_n500_vars8_lag4_gaussian_mcar20_structure.txt (deflated 50%)\n",
            "  adding: content/output_mcar_confounded/linear_ts_n500_vars4_lag4_gaussian_mcar20_structure.txt (deflated 42%)\n",
            "  adding: content/output_mcar_confounded/linear_ts_n5000_vars8_lag3_student_t_mcar20_missing.csv (deflated 56%)\n",
            "  adding: content/output_mcar_confounded/linear_ts_n3000_vars4_lag2_student_t_mcar30_structure.txt (deflated 39%)\n",
            "  adding: content/output_mcar_confounded/linear_ts_n3000_vars4_lag4_gaussian_mcar10_graph.png (deflated 4%)\n",
            "  adding: content/output_mcar_confounded/linear_ts_n1000_vars8_lag3_student_t_mcar20_structure.txt (deflated 51%)\n",
            "  adding: content/output_mcar_confounded/linear_ts_n1000_vars6_lag4_student_t_mcar20_complete.csv (deflated 55%)\n",
            "  adding: content/output_mcar_confounded/linear_ts_n1000_vars4_lag2_gaussian_mcar30_missing_pattern.png (deflated 4%)\n",
            "  adding: content/output_mcar_confounded/linear_ts_n1000_vars8_lag3_gaussian_mcar20_missing_pattern.png (deflated 4%)\n",
            "  adding: content/output_mcar_confounded/linear_ts_n500_vars6_lag2_student_t_mcar20_series.png (deflated 3%)\n",
            "  adding: content/output_mcar_confounded/linear_ts_n500_vars8_lag2_gaussian_mcar30_missing.csv (deflated 53%)\n",
            "  adding: content/output_mcar_confounded/linear_ts_n3000_vars6_lag2_gaussian_mcar20_missing.csv (deflated 55%)\n",
            "  adding: content/output_mcar_confounded/linear_ts_n3000_vars8_lag3_gaussian_mcar30_missing.csv (deflated 56%)\n",
            "  adding: content/output_mcar_confounded/linear_ts_n5000_vars4_lag2_student_t_mcar20_missing_pattern.png (deflated 4%)\n",
            "  adding: content/output_mcar_confounded/linear_ts_n5000_vars8_lag2_student_t_mcar30_series.png (deflated 3%)\n",
            "  adding: content/output_mcar_confounded/linear_ts_n5000_vars6_lag4_student_t_mcar30_missing_pattern.png (deflated 4%)\n",
            "  adding: content/output_mcar_confounded/linear_ts_n5000_vars8_lag4_gaussian_mcar20_complete.csv (deflated 57%)\n",
            "  adding: content/output_mcar_confounded/linear_ts_n5000_vars4_lag3_gaussian_mcar20_missing_pattern.png (deflated 4%)\n",
            "  adding: content/output_mcar_confounded/linear_ts_n500_vars8_lag2_student_t_mcar30_missing.csv (deflated 53%)\n",
            "  adding: content/output_mcar_confounded/linear_ts_n5000_vars4_lag4_gaussian_mcar30_missing.csv (deflated 57%)\n",
            "  adding: content/output_mcar_confounded/linear_ts_n3000_vars6_lag3_student_t_mcar30_graph.png (deflated 4%)\n",
            "  adding: content/output_mcar_confounded/linear_ts_n5000_vars8_lag4_gaussian_mcar30_series.png (deflated 1%)\n",
            "  adding: content/output_mcar_confounded/linear_ts_n5000_vars4_lag3_gaussian_mcar20_series.png (deflated 1%)\n",
            "  adding: content/output_mcar_confounded/linear_ts_n3000_vars4_lag2_gaussian_mcar20_graph.png (deflated 5%)\n",
            "  adding: content/output_mcar_confounded/linear_ts_n5000_vars6_lag4_student_t_mcar20_structure.txt (deflated 46%)\n",
            "  adding: content/output_mcar_confounded/linear_ts_n500_vars8_lag2_student_t_mcar30_missing_pattern.png (deflated 4%)\n",
            "  adding: content/output_mcar_confounded/linear_ts_n5000_vars8_lag4_student_t_mcar30_series.png (deflated 3%)\n",
            "  adding: content/output_mcar_confounded/linear_ts_n500_vars8_lag4_gaussian_mcar20_series.png (deflated 1%)\n",
            "  adding: content/output_mcar_confounded/linear_ts_n1000_vars6_lag3_student_t_mcar10_missing.csv (deflated 55%)\n",
            "  adding: content/output_mcar_confounded/linear_ts_n500_vars4_lag2_student_t_mcar30_structure.txt (deflated 39%)\n",
            "  adding: content/output_mcar_confounded/linear_ts_n1000_vars6_lag3_gaussian_mcar30_series.png (deflated 1%)\n",
            "  adding: content/output_mcar_confounded/linear_ts_n500_vars4_lag2_gaussian_mcar10_complete.csv (deflated 55%)\n",
            "  adding: content/output_mcar_confounded/linear_ts_n500_vars6_lag4_student_t_mcar10_missing_pattern.png (deflated 6%)\n",
            "  adding: content/output_mcar_confounded/linear_ts_n1000_vars6_lag2_student_t_mcar30_structure.txt (deflated 47%)\n",
            "  adding: content/output_mcar_confounded/linear_ts_n1000_vars8_lag3_gaussian_mcar20_series.png (deflated 1%)\n",
            "  adding: content/output_mcar_confounded/linear_ts_n500_vars8_lag2_gaussian_mcar30_series.png (deflated 1%)\n",
            "  adding: content/output_mcar_confounded/linear_ts_n1000_vars4_lag4_gaussian_mcar20_series.png (deflated 1%)\n",
            "  adding: content/output_mcar_confounded/linear_ts_n3000_vars8_lag4_gaussian_mcar10_complete.csv (deflated 57%)\n",
            "  adding: content/output_mcar_confounded/linear_ts_n3000_vars8_lag3_student_t_mcar10_graph.png (deflated 4%)\n",
            "  adding: content/output_mcar_confounded/linear_ts_n1000_vars6_lag2_gaussian_mcar10_missing_pattern.png (deflated 7%)\n",
            "  adding: content/output_mcar_confounded/linear_ts_n5000_vars6_lag4_student_t_mcar30_complete.csv (deflated 56%)\n",
            "  adding: content/output_mcar_confounded/linear_ts_n3000_vars6_lag4_student_t_mcar20_complete.csv (deflated 56%)\n",
            "  adding: content/output_mcar_confounded/linear_ts_n500_vars6_lag2_gaussian_mcar20_series.png (deflated 1%)\n",
            "  adding: content/output_mcar_confounded/linear_ts_n5000_vars4_lag2_gaussian_mcar10_structure.txt (deflated 40%)\n",
            "  adding: content/output_mcar_confounded/linear_ts_n500_vars4_lag3_student_t_mcar10_missing.csv (deflated 55%)\n",
            "  adding: content/output_mcar_confounded/linear_ts_n5000_vars4_lag4_gaussian_mcar10_missing.csv (deflated 57%)\n",
            "  adding: content/output_mcar_confounded/linear_ts_n5000_vars4_lag2_student_t_mcar30_missing.csv (deflated 56%)\n",
            "  adding: content/output_mcar_confounded/linear_ts_n3000_vars8_lag2_gaussian_mcar20_graph.png (deflated 5%)\n",
            "  adding: content/output_mcar_confounded/linear_ts_n5000_vars4_lag4_gaussian_mcar10_complete.csv (deflated 58%)\n",
            "  adding: content/output_mcar_confounded/linear_ts_n500_vars8_lag3_student_t_mcar20_structure.txt (deflated 51%)\n",
            "  adding: content/output_mcar_confounded/linear_ts_n5000_vars6_lag4_gaussian_mcar20_complete.csv (deflated 56%)\n",
            "  adding: content/output_mcar_confounded/linear_ts_n500_vars6_lag2_gaussian_mcar20_complete.csv (deflated 53%)\n",
            "  adding: content/output_mcar_confounded/linear_ts_n500_vars4_lag4_student_t_mcar10_missing_pattern.png (deflated 6%)\n",
            "  adding: content/output_mcar_confounded/linear_ts_n500_vars8_lag2_gaussian_mcar30_graph.png (deflated 5%)\n",
            "  adding: content/output_mcar_confounded/linear_ts_n3000_vars6_lag3_gaussian_mcar20_series.png (deflated 1%)\n",
            "  adding: content/output_mcar_confounded/linear_ts_n500_vars8_lag3_student_t_mcar10_graph.png (deflated 5%)\n",
            "  adding: content/output_mcar_confounded/linear_ts_n500_vars4_lag4_gaussian_mcar10_graph.png (deflated 4%)\n",
            "  adding: content/output_mcar_confounded/linear_ts_n1000_vars6_lag4_gaussian_mcar30_complete.csv (deflated 55%)\n",
            "  adding: content/output_mcar_confounded/linear_ts_n5000_vars6_lag2_student_t_mcar10_graph.png (deflated 4%)\n",
            "  adding: content/output_mcar_confounded/linear_ts_n1000_vars6_lag4_student_t_mcar10_structure.txt (deflated 46%)\n",
            "  adding: content/output_mcar_confounded/linear_ts_n500_vars8_lag2_student_t_mcar10_complete.csv (deflated 54%)\n",
            "  adding: content/output_mcar_confounded/linear_ts_n5000_vars6_lag3_student_t_mcar30_missing_pattern.png (deflated 4%)\n",
            "  adding: content/output_mcar_confounded/linear_ts_n5000_vars8_lag2_gaussian_mcar10_graph.png (deflated 5%)\n",
            "  adding: content/output_mcar_confounded/linear_ts_n500_vars4_lag4_student_t_mcar30_missing.csv (deflated 54%)\n",
            "  adding: content/output_mcar_confounded/linear_ts_n1000_vars6_lag4_gaussian_mcar10_graph.png (deflated 4%)\n",
            "  adding: content/output_mcar_confounded/linear_ts_n5000_vars8_lag4_student_t_mcar30_missing.csv (deflated 56%)\n",
            "  adding: content/output_mcar_confounded/linear_ts_n500_vars4_lag3_student_t_mcar10_complete.csv (deflated 55%)\n",
            "  adding: content/output_mcar_confounded/linear_ts_n3000_vars8_lag3_student_t_mcar30_graph.png (deflated 4%)\n",
            "  adding: content/output_mcar_confounded/linear_ts_n1000_vars6_lag2_gaussian_mcar30_complete.csv (deflated 54%)\n",
            "  adding: content/output_mcar_confounded/linear_ts_n5000_vars4_lag2_student_t_mcar20_missing.csv (deflated 57%)\n",
            "  adding: content/output_mcar_confounded/linear_ts_n3000_vars8_lag4_student_t_mcar10_series.png (deflated 3%)\n",
            "  adding: content/output_mcar_confounded/linear_ts_n5000_vars4_lag2_student_t_mcar10_missing.csv (deflated 57%)\n",
            "  adding: content/output_mcar_confounded/linear_ts_n3000_vars4_lag3_student_t_mcar10_complete.csv (deflated 57%)\n",
            "  adding: content/output_mcar_confounded/linear_ts_n3000_vars4_lag3_student_t_mcar20_missing.csv (deflated 56%)\n",
            "  adding: content/output_mcar_confounded/linear_ts_n5000_vars4_lag3_student_t_mcar20_series.png (deflated 3%)\n",
            "  adding: content/output_mcar_confounded/linear_ts_n1000_vars6_lag3_student_t_mcar20_missing_pattern.png (deflated 5%)\n",
            "  adding: content/output_mcar_confounded/linear_ts_n500_vars6_lag4_student_t_mcar20_graph.png (deflated 4%)\n",
            "  adding: content/output_mcar_confounded/linear_ts_n3000_vars4_lag3_student_t_mcar10_series.png (deflated 3%)\n",
            "  adding: content/output_mcar_confounded/linear_ts_n5000_vars6_lag4_student_t_mcar30_graph.png (deflated 4%)\n",
            "  adding: content/output_mcar_confounded/linear_ts_n500_vars6_lag2_student_t_mcar20_missing_pattern.png (deflated 5%)\n",
            "  adding: content/output_mcar_confounded/linear_ts_n5000_vars8_lag4_student_t_mcar10_structure.txt (deflated 51%)\n",
            "  adding: content/output_mcar_confounded/linear_ts_n3000_vars4_lag2_gaussian_mcar10_series.png (deflated 1%)\n",
            "  adding: content/output_mcar_confounded/linear_ts_n3000_vars6_lag2_student_t_mcar20_series.png (deflated 3%)\n",
            "  adding: content/output_mcar_confounded/linear_ts_n500_vars4_lag4_gaussian_mcar10_missing.csv (deflated 55%)\n",
            "  adding: content/output_mcar_confounded/linear_ts_n500_vars8_lag3_gaussian_mcar20_complete.csv (deflated 55%)\n",
            "  adding: content/output_mcar_confounded/linear_ts_n1000_vars6_lag3_gaussian_mcar10_structure.txt (deflated 47%)\n",
            "  adding: content/output_mcar_confounded/linear_ts_n500_vars8_lag3_student_t_mcar30_series.png (deflated 4%)\n",
            "  adding: content/output_mcar_confounded/linear_ts_n1000_vars6_lag4_student_t_mcar10_complete.csv (deflated 55%)\n",
            "  adding: content/output_mcar_confounded/linear_ts_n500_vars6_lag4_gaussian_mcar10_missing_pattern.png (deflated 6%)\n",
            "  adding: content/output_mcar_confounded/linear_ts_n500_vars8_lag4_gaussian_mcar20_missing_pattern.png (deflated 4%)\n",
            "  adding: content/output_mcar_confounded/linear_ts_n5000_vars4_lag4_student_t_mcar30_structure.txt (deflated 41%)\n"
          ]
        }
      ]
    },
    {
      "cell_type": "code",
      "source": [
        "from google.colab import files\n",
        "files.download('/content/output_D1C.zip')"
      ],
      "metadata": {
        "colab": {
          "base_uri": "https://localhost:8080/",
          "height": 34
        },
        "id": "JHfS88l-5C5V",
        "outputId": "6d11d568-9188-407e-c4b8-ad164d0afcbf"
      },
      "execution_count": 6,
      "outputs": [
        {
          "output_type": "display_data",
          "data": {
            "text/plain": [
              "<IPython.core.display.Javascript object>"
            ],
            "application/javascript": [
              "\n",
              "    async function download(id, filename, size) {\n",
              "      if (!google.colab.kernel.accessAllowed) {\n",
              "        return;\n",
              "      }\n",
              "      const div = document.createElement('div');\n",
              "      const label = document.createElement('label');\n",
              "      label.textContent = `Downloading \"${filename}\": `;\n",
              "      div.appendChild(label);\n",
              "      const progress = document.createElement('progress');\n",
              "      progress.max = size;\n",
              "      div.appendChild(progress);\n",
              "      document.body.appendChild(div);\n",
              "\n",
              "      const buffers = [];\n",
              "      let downloaded = 0;\n",
              "\n",
              "      const channel = await google.colab.kernel.comms.open(id);\n",
              "      // Send a message to notify the kernel that we're ready.\n",
              "      channel.send({})\n",
              "\n",
              "      for await (const message of channel.messages) {\n",
              "        // Send a message to notify the kernel that we're ready.\n",
              "        channel.send({})\n",
              "        if (message.buffers) {\n",
              "          for (const buffer of message.buffers) {\n",
              "            buffers.push(buffer);\n",
              "            downloaded += buffer.byteLength;\n",
              "            progress.value = downloaded;\n",
              "          }\n",
              "        }\n",
              "      }\n",
              "      const blob = new Blob(buffers, {type: 'application/binary'});\n",
              "      const a = document.createElement('a');\n",
              "      a.href = window.URL.createObjectURL(blob);\n",
              "      a.download = filename;\n",
              "      div.appendChild(a);\n",
              "      a.click();\n",
              "      div.remove();\n",
              "    }\n",
              "  "
            ]
          },
          "metadata": {}
        },
        {
          "output_type": "display_data",
          "data": {
            "text/plain": [
              "<IPython.core.display.Javascript object>"
            ],
            "application/javascript": [
              "download(\"download_9a6bcf8b-6e06-4ac8-bb55-754d8713c682\", \"output_D1C.zip\", 206786573)"
            ]
          },
          "metadata": {}
        }
      ]
    }
  ]
}