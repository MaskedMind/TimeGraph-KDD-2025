{
  "nbformat": 4,
  "nbformat_minor": 0,
  "metadata": {
    "colab": {
      "provenance": []
    },
    "kernelspec": {
      "name": "python3",
      "display_name": "Python 3"
    },
    "language_info": {
      "name": "python"
    }
  },
  "cells": [
    {
      "cell_type": "code",
      "execution_count": 1,
      "metadata": {
        "colab": {
          "base_uri": "https://localhost:8080/"
        },
        "id": "sUKGh7kuEN-k",
        "outputId": "bd2d5444-ecd7-4891-8c43-7462f338931a"
      },
      "outputs": [
        {
          "output_type": "stream",
          "name": "stdout",
          "text": [
            "Collecting tigramite\n",
            "  Downloading tigramite-5.2.7.0-py3-none-any.whl.metadata (11 kB)\n",
            "Requirement already satisfied: numpy>=1.18 in /usr/local/lib/python3.11/dist-packages (from tigramite) (1.26.4)\n",
            "Requirement already satisfied: scipy>=1.10.0 in /usr/local/lib/python3.11/dist-packages (from tigramite) (1.13.1)\n",
            "Requirement already satisfied: six in /usr/local/lib/python3.11/dist-packages (from tigramite) (1.17.0)\n",
            "Downloading tigramite-5.2.7.0-py3-none-any.whl (309 kB)\n",
            "\u001b[2K   \u001b[90m━━━━━━━━━━━━━━━━━━━━━━━━━━━━━━━━━━━━━━━━\u001b[0m \u001b[32m309.6/309.6 kB\u001b[0m \u001b[31m11.0 MB/s\u001b[0m eta \u001b[36m0:00:00\u001b[0m\n",
            "\u001b[?25hInstalling collected packages: tigramite\n",
            "Successfully installed tigramite-5.2.7.0\n"
          ]
        }
      ],
      "source": [
        "!pip install tigramite"
      ]
    },
    {
      "cell_type": "code",
      "source": [
        "import numpy as np\n",
        "import pandas as pd\n",
        "from tigramite import plotting as tp\n",
        "import matplotlib.pyplot as plt\n",
        "from pathlib import Path"
      ],
      "metadata": {
        "id": "e3OSTJu_J1Pp"
      },
      "execution_count": 6,
      "outputs": []
    },
    {
      "cell_type": "code",
      "source": [
        "def get_linear_equations(n_vars, max_lag):\n",
        "    \"\"\"Get linear equations for specified configuration with confounder\"\"\"\n",
        "    if n_vars == 4:\n",
        "        if max_lag == 2:\n",
        "            return [\n",
        "                \"X4[t] = 0.25 * X1[t-2] + e4\",\n",
        "                \"X3[t] = 0.35 * X4[t] + 0.3 * U[t] + e3\",\n",
        "                \"X2[t] = 0.3 * X3[t-1] + e2\",\n",
        "                \"X1[t] = 0.4 * X2[t] + 0.5 * U[t] + e1\",\n",
        "                \"U[t] = eU\"\n",
        "            ]\n",
        "        elif max_lag == 3:\n",
        "            return [\n",
        "                \"X4[t] = 0.25 * X1[t-2] + e4\",\n",
        "                \"X3[t] = 0.35 * X4[t] + 0.2 * X2[t-3] + 0.3 * U[t] + e3\",\n",
        "                \"X2[t] = 0.3 * X3[t-1] + e2\",\n",
        "                \"X1[t] = 0.4 * X2[t] + 0.5 * U[t] + e1\",\n",
        "                \"U[t] = eU\"\n",
        "            ]\n",
        "        elif max_lag == 4:\n",
        "            return [\n",
        "                \"X4[t] = 0.25 * X1[t-4] + e4\",\n",
        "                \"X3[t] = 0.35 * X4[t] + 0.2 * X2[t-3] + 0.3 * U[t] + e3\",\n",
        "                \"X2[t] = 0.3 * X3[t-1] + e2\",\n",
        "                \"X1[t] = 0.4 * X2[t] + 0.5 * U[t] + e1\",\n",
        "                \"U[t] = eU\"\n",
        "            ]\n",
        "    elif n_vars == 6:\n",
        "        if max_lag == 2:\n",
        "            return [\n",
        "                \"X6[t] = 0.85 * X5[t] + 0.4 * U[t] + e6\",\n",
        "                \"X5[t] = e5\",  # exogenous\n",
        "                \"X4[t] = 0.25 * X1[t-2] + 0.3 * X5[t-1] + e4\",\n",
        "                \"X3[t] = 0.35 * X4[t] + 0.3 * U[t] + e3\",\n",
        "                \"X2[t] = 0.3 * X3[t-1] + e2\",\n",
        "                \"X1[t] = 0.4 * X2[t] + 0.5 * U[t] + e1\",\n",
        "                \"U[t] = eU\"\n",
        "            ]\n",
        "        elif max_lag == 3:\n",
        "            return [\n",
        "                \"X6[t] = 0.85 * X5[t] + 0.4 * U[t] + e6\",\n",
        "                \"X5[t] = e5\",  # exogenous\n",
        "                \"X4[t] = 0.25 * X1[t-2] + e4\",\n",
        "                \"X3[t] = 0.35 * X4[t] + 0.2 * X2[t-3] + 0.3 * U[t] + e3\",\n",
        "                \"X2[t] = 0.3 * X3[t-1] + e2\",\n",
        "                \"X1[t] = 0.4 * X2[t] + 0.5 * U[t] + e1\",\n",
        "                \"U[t] = eU\"\n",
        "            ]\n",
        "        elif max_lag == 4:\n",
        "            return [\n",
        "                \"X6[t] = 0.85 * X5[t] + 0.4 * U[t] + e6\",\n",
        "                \"X5[t] = e5\",  # exogenous\n",
        "                \"X4[t] = 0.25 * X1[t-4] + e4\",\n",
        "                \"X3[t] = 0.35 * X4[t] + 0.2 * X2[t-3] + 0.3 * U[t] + e3\",\n",
        "                \"X2[t] = 0.3 * X3[t-1] + e2\",\n",
        "                \"X1[t] = 0.4 * X2[t] + 0.5 * U[t] + e1\",\n",
        "                \"U[t] = eU\"\n",
        "            ]\n",
        "    elif n_vars == 8:\n",
        "        if max_lag == 2:\n",
        "            return [\n",
        "                \"X8[t] = 0.4 * X7[t] + 0.35 * U[t] + e8\",\n",
        "                \"X7[t] = 0.35 * X6[t-1] + e7\",\n",
        "                \"X6[t] = 0.45 * X5[t] + 0.4 * U[t] + e6\",\n",
        "                \"X5[t] = e5\",  # exogenous\n",
        "                \"X4[t] = 0.25 * X1[t-2] + 0.3 * X5[t-1] + e4\",\n",
        "                \"X3[t] = 0.35 * X4[t] + 0.3 * U[t] + e3\",\n",
        "                \"X2[t] = 0.3 * X3[t-1] + e2\",\n",
        "                \"X1[t] = 0.4 * X2[t] + 0.5 * U[t] + e1\",\n",
        "                \"U[t] = eU\"\n",
        "            ]\n",
        "        elif max_lag == 3:\n",
        "            return [\n",
        "                \"X8[t] = 0.4 * X7[t] + 0.35 * U[t] + e8\",\n",
        "                \"X7[t] = 0.35 * X6[t-1] + e7\",\n",
        "                \"X6[t] = 0.45 * X5[t] + 0.4 * U[t] + e6\",\n",
        "                \"X5[t] = e5\",  # exogenous\n",
        "                \"X4[t] = 0.25 * X1[t-2] + e4\",\n",
        "                \"X3[t] = 0.35 * X4[t] + 0.2 * X2[t-3] + 0.3 * U[t] + e3\",\n",
        "                \"X2[t] = 0.3 * X3[t-1] + e2\",\n",
        "                \"X1[t] = 0.4 * X2[t] + 0.5 * U[t] + e1\",\n",
        "                \"U[t] = eU\"\n",
        "            ]\n",
        "        elif max_lag == 4:\n",
        "            return [\n",
        "                \"X8[t] = 0.4 * X7[t] + 0.35 * U[t] + e8\",\n",
        "                \"X7[t] = 0.35 * X6[t-1] + e7\",\n",
        "                \"X6[t] = 0.45 * X5[t] + 0.4 * U[t] + e6\",\n",
        "                \"X5[t] = e5\",  # exogenous\n",
        "                \"X4[t] = 0.25 * X1[t-4] + e4\",\n",
        "                \"X3[t] = 0.35 * X4[t] + 0.2 * X2[t-3] + 0.3 * U[t] + e3\",\n",
        "                \"X2[t] = 0.3 * X3[t-1] + e2\",\n",
        "                \"X1[t] = 0.4 * X2[t] + 0.5 * U[t] + e1\",\n",
        "                \"U[t] = eU\"\n",
        "            ]\n",
        "    return []\n",
        "\n",
        "class LinearTimeSeriesGenerator:\n",
        "    def __init__(self, noise_scale=0.1, random_state=None):\n",
        "        self.noise_scale = noise_scale\n",
        "        self.random_state = random_state\n",
        "        if random_state is not None:\n",
        "            np.random.seed(random_state)\n",
        "\n",
        "    def generate_noise(self, size):\n",
        "        return np.random.normal(0, self.noise_scale, size=size)\n",
        "\n",
        "    def generate_linear_equations(self, t, X, U, n_vars, max_lag):\n",
        "        \"\"\"Execute linear equations with confounder\"\"\"\n",
        "        noise = self.generate_noise(n_vars + 1)  # +1 for U\n",
        "        equations = get_linear_equations(n_vars, max_lag)\n",
        "        var_values = {}\n",
        "\n",
        "        # Generate U first (confounder)\n",
        "        U[t] = noise[-1]\n",
        "        var_values['U'] = U[t]\n",
        "\n",
        "        # Generate X5 if present (exogenous)\n",
        "        if n_vars >= 6:\n",
        "            X[t, 4] = noise[4]  # X5 is exogenous\n",
        "            var_values['X5'] = X[t, 4]\n",
        "\n",
        "        # Helper function to evaluate a linear term\n",
        "        def evaluate_linear_term(term):\n",
        "            if '*' not in term:\n",
        "                return 0\n",
        "\n",
        "            parts = term.split('*')\n",
        "            coef = float(parts[0].strip())\n",
        "            var = parts[1].strip()\n",
        "\n",
        "            # Extract variable name and time index\n",
        "            var_name = var.split('[')[0].strip()  # e.g., 'X1' or 'U'\n",
        "            time_idx = var.split('[')[1].split(']')[0].strip()  # e.g., 't' or 't-2'\n",
        "\n",
        "            if var_name == 'U':\n",
        "                if time_idx == 't':\n",
        "                    return coef * U[t]\n",
        "                else:\n",
        "                    lag = int(time_idx.split('-')[1])\n",
        "                    return coef * U[t-lag]\n",
        "            else:\n",
        "                # Extract the numeric part of variable name (e.g., '1' from 'X1')\n",
        "                var_idx = int(var_name[1:]) - 1\n",
        "                if time_idx == 't':\n",
        "                    return coef * var_values.get(var_name, X[t, var_idx])\n",
        "                else:\n",
        "                    lag = int(time_idx.split('-')[1])\n",
        "                    return coef * X[t-lag, var_idx]\n",
        "\n",
        "        # Generate values for each variable\n",
        "        for eq in equations:\n",
        "            if '=' not in eq or eq.startswith('U[t]') or (n_vars >= 6 and eq.startswith('X5[t]')):\n",
        "                continue\n",
        "\n",
        "            left, right = eq.split('=')\n",
        "            var_name = left.split('[')[0]\n",
        "            var_idx = int(var_name[1:]) - 1\n",
        "\n",
        "            # Split right side into terms\n",
        "            terms = [term.strip() for term in right.split('+')]\n",
        "            value = 0\n",
        "\n",
        "            # Evaluate each term\n",
        "            for term in terms:\n",
        "                if term.startswith('e'):  # Noise term\n",
        "                    value += noise[var_idx]\n",
        "                else:\n",
        "                    value += evaluate_linear_term(term)\n",
        "\n",
        "            X[t, var_idx] = value\n",
        "            var_values[var_name] = value\n",
        "\n",
        "    def generate_multivariate_ts(self, n_points, n_vars, max_lag):\n",
        "        \"\"\"Generate multivariate time series with regular sampling\"\"\"\n",
        "        X = np.zeros((n_points, n_vars))\n",
        "        U = np.zeros(n_points)  # Array for the confounder\n",
        "\n",
        "        # Initialize first steps with noise\n",
        "        for i in range(max_lag):\n",
        "            X[i] = self.generate_noise(n_vars)\n",
        "            U[i] = self.generate_noise(1)[0]\n",
        "\n",
        "        # Generate time series\n",
        "        for t in range(max_lag, n_points):\n",
        "            self.generate_linear_equations(t, X, U, n_vars, max_lag)\n",
        "\n",
        "        # Create DataFrame\n",
        "        timestamps = np.arange(n_points)\n",
        "        columns = [f'X{i+1}' for i in range(n_vars)]\n",
        "        df = pd.DataFrame(X, columns=columns)\n",
        "        df['U'] = U\n",
        "        df['time'] = timestamps\n",
        "\n",
        "        return df\n",
        "\n",
        "def extract_linear_links(equations):\n",
        "    \"\"\"Extract all linear causal links from the equations\"\"\"\n",
        "    links = {}\n",
        "\n",
        "    for eq in equations:\n",
        "        if '=' in eq:\n",
        "            left, right = [side.strip() for side in eq.split('=')]\n",
        "            target = left.split('[')[0]\n",
        "\n",
        "            if target != 'U':  # Skip U's equation\n",
        "                terms = [term.strip() for term in right.split('+')]\n",
        "                for term in terms:\n",
        "                    if '*' in term and ('X' in term or 'U' in term):\n",
        "                        parts = term.split('*')\n",
        "                        coeff = float(parts[0].strip())\n",
        "                        var_part = parts[1].strip()\n",
        "                        var = var_part.split('[')[0]\n",
        "                        lag_part = var_part.split('[')[1].split(']')[0]\n",
        "\n",
        "                        lag = 0 if lag_part == 't' else -int(lag_part.split('-')[1])\n",
        "                        links[(var, lag, target)] = coeff\n",
        "\n",
        "    return links\n",
        "\n",
        "def save_dataset_and_graph(df, n_vars, max_lag, sample_size, output_dir=\"output\"):\n",
        "    \"\"\"Save dataset and create causal graph\"\"\"\n",
        "    Path(output_dir).mkdir(parents=True, exist_ok=True)\n",
        "\n",
        "    # Save dataset\n",
        "    filename = f'{output_dir}/linear_ts_with_confounder_n{sample_size}_vars{n_vars}_lag{max_lag}.csv'\n",
        "    df.to_csv(filename, index=False)\n",
        "\n",
        "    # Get equations and extract links\n",
        "    equations = get_linear_equations(n_vars, max_lag)\n",
        "    true_links = extract_linear_links(equations)\n",
        "\n",
        "    # Create matrices for tigramite plotting\n",
        "    var_names = [f'X{i+1}' for i in range(n_vars)] + ['U']\n",
        "    n_total_vars = n_vars + 1\n",
        "    val_matrix = np.zeros((n_total_vars, n_total_vars, max_lag + 1))\n",
        "    graph_matrix = np.zeros((n_total_vars, n_total_vars, max_lag + 1), dtype='bool')\n",
        "\n",
        "    # Fill matrices based on true links\n",
        "    for (source, lag, target), weight in true_links.items():\n",
        "        if source == 'U':\n",
        "            source_idx = n_vars\n",
        "        else:\n",
        "            source_idx = int(source[1:]) - 1\n",
        "\n",
        "        if target == 'U':\n",
        "            target_idx = n_vars\n",
        "        else:\n",
        "            target_idx = int(target[1:]) - 1\n",
        "\n",
        "        lag_idx = abs(lag)\n",
        "\n",
        "        # Add the link to the matrices\n",
        "        val_matrix[source_idx, target_idx, lag_idx] = weight\n",
        "        graph_matrix[source_idx, target_idx, lag_idx] = True\n",
        "\n",
        "        # For contemporaneous links, make val_matrix symmetric\n",
        "        if lag == 0:\n",
        "            val_matrix[target_idx, source_idx, lag_idx] = weight\n",
        "\n",
        "    # Plot and save causal graph\n",
        "    plt.figure(figsize=(12, 12))\n",
        "    tp.plot_time_series_graph(\n",
        "        val_matrix=val_matrix,\n",
        "        graph=graph_matrix,\n",
        "        var_names=var_names,\n",
        "        link_colorbar_label='Linear Effect Strength',\n",
        "        node_size=0.05\n",
        "    )\n",
        "    plt.title(f'Linear Causal Graph with Confounder (n={sample_size}, vars={n_vars}, lag={max_lag})')\n",
        "    plt.savefig(f'{output_dir}/linear_causal_graph_with_confounder_n{sample_size}_vars{n_vars}_lag{max_lag}.png')\n",
        "    plt.close()\n",
        "\n",
        "    # Plot time series\n",
        "    plt.figure(figsize=(15, 10))\n",
        "    for col in df.columns[:-2]:  # Exclude U and time columns\n",
        "        plt.plot(df['time'], df[col], label=col, alpha=0.7)\n",
        "    plt.title(f'Linear Time Series (n={sample_size}, vars={n_vars}, lag={max_lag})')\n",
        "    plt.xlabel('Time')\n",
        "    plt.ylabel('Value')\n",
        "    plt.legend()\n",
        "    plt.grid(True)\n",
        "    plt.savefig(f'{output_dir}/linear_ts_plot_n{sample_size}_vars{n_vars}_lag{max_lag}.png')\n",
        "    plt.close()\n",
        "\n",
        "    # Save causal structure description\n",
        "    with open(f'{output_dir}/linear_causal_structure_vars{n_vars}_lag{max_lag}.txt', 'w') as f:\n",
        "        f.write(\"True Linear Causal Structure with Confounder:\\n\")\n",
        "        f.write(\"Format: (source, lag, target) => coefficient\\n\")\n",
        "        f.write(\"\\nEquations:\\n\")\n",
        "        for eq in equations:\n",
        "            f.write(f\"{eq}\\n\")\n",
        "        f.write(\"\\nCausal Links:\\n\")\n",
        "        for (source, lag, target), coef in true_links.items():\n",
        "            f.write(f\"({source}, {lag}, {target}) => {coef}\\n\")\n",
        "\n",
        "def generate_all_combinations():\n",
        "    \"\"\"Generate datasets for all combinations\"\"\"\n",
        "    n_vars_list = [4, 6, 8]\n",
        "    max_lags = [2, 3, 4]\n",
        "    sample_sizes = [500, 1000, 3000, 5000]\n",
        "\n",
        "    for n in sample_sizes:\n",
        "        for vars in n_vars_list:\n",
        "            for lag in max_lags:\n",
        "                print(f\"\\nGenerating dataset: n={n}, vars={vars}, lag={lag}\")\n",
        "\n",
        "                # Generate dataset\n",
        "                generator = LinearTimeSeriesGenerator(noise_scale=0.1, random_state=42)\n",
        "                df = generator.generate_multivariate_ts(\n",
        "                    n_points=n,\n",
        "                    n_vars=vars,\n",
        "                    max_lag=lag\n",
        "                )\n",
        "\n",
        "                # Save dataset and create visualizations\n",
        "                save_dataset_and_graph(df, vars, lag, n)\n",
        "                print(f\"Dataset and visualizations saved successfully\")\n",
        "\n",
        "if __name__ == \"__main__\":\n",
        "    generate_all_combinations()"
      ],
      "metadata": {
        "colab": {
          "base_uri": "https://localhost:8080/",
          "height": 1000
        },
        "id": "lBAVasAKEO4v",
        "outputId": "416431a1-7438-406e-8df0-c5611870c9a7"
      },
      "execution_count": 9,
      "outputs": [
        {
          "output_type": "stream",
          "name": "stdout",
          "text": [
            "\n",
            "Generating dataset: n=500, vars=4, lag=2\n",
            "Dataset and visualizations saved successfully\n",
            "\n",
            "Generating dataset: n=500, vars=4, lag=3\n",
            "Dataset and visualizations saved successfully\n",
            "\n",
            "Generating dataset: n=500, vars=4, lag=4\n",
            "Dataset and visualizations saved successfully\n",
            "\n",
            "Generating dataset: n=500, vars=6, lag=2\n",
            "Dataset and visualizations saved successfully\n",
            "\n",
            "Generating dataset: n=500, vars=6, lag=3\n",
            "Dataset and visualizations saved successfully\n",
            "\n",
            "Generating dataset: n=500, vars=6, lag=4\n",
            "Dataset and visualizations saved successfully\n",
            "\n",
            "Generating dataset: n=500, vars=8, lag=2\n",
            "Dataset and visualizations saved successfully\n",
            "\n",
            "Generating dataset: n=500, vars=8, lag=3\n",
            "Dataset and visualizations saved successfully\n",
            "\n",
            "Generating dataset: n=500, vars=8, lag=4\n",
            "Dataset and visualizations saved successfully\n",
            "\n",
            "Generating dataset: n=1000, vars=4, lag=2\n",
            "Dataset and visualizations saved successfully\n",
            "\n",
            "Generating dataset: n=1000, vars=4, lag=3\n",
            "Dataset and visualizations saved successfully\n",
            "\n",
            "Generating dataset: n=1000, vars=4, lag=4\n",
            "Dataset and visualizations saved successfully\n",
            "\n",
            "Generating dataset: n=1000, vars=6, lag=2\n",
            "Dataset and visualizations saved successfully\n",
            "\n",
            "Generating dataset: n=1000, vars=6, lag=3\n",
            "Dataset and visualizations saved successfully\n",
            "\n",
            "Generating dataset: n=1000, vars=6, lag=4\n",
            "Dataset and visualizations saved successfully\n",
            "\n",
            "Generating dataset: n=1000, vars=8, lag=2\n",
            "Dataset and visualizations saved successfully\n",
            "\n",
            "Generating dataset: n=1000, vars=8, lag=3\n",
            "Dataset and visualizations saved successfully\n",
            "\n",
            "Generating dataset: n=1000, vars=8, lag=4\n",
            "Dataset and visualizations saved successfully\n",
            "\n",
            "Generating dataset: n=3000, vars=4, lag=2\n",
            "Dataset and visualizations saved successfully\n",
            "\n",
            "Generating dataset: n=3000, vars=4, lag=3\n"
          ]
        },
        {
          "output_type": "stream",
          "name": "stderr",
          "text": [
            "/usr/local/lib/python3.11/dist-packages/tigramite/plotting.py:3203: RuntimeWarning: More than 20 figures have been opened. Figures created through the pyplot interface (`matplotlib.pyplot.figure`) are retained until explicitly closed and may consume too much memory. (To control this warning, see the rcParam `figure.max_open_warning`). Consider using `matplotlib.pyplot.close()`.\n",
            "  fig = pyplot.figure(figsize=figsize)\n",
            "<ipython-input-9-d88b19cb559e>:282: RuntimeWarning: More than 20 figures have been opened. Figures created through the pyplot interface (`matplotlib.pyplot.figure`) are retained until explicitly closed and may consume too much memory. (To control this warning, see the rcParam `figure.max_open_warning`). Consider using `matplotlib.pyplot.close()`.\n",
            "  plt.figure(figsize=(15, 10))\n"
          ]
        },
        {
          "output_type": "stream",
          "name": "stdout",
          "text": [
            "Dataset and visualizations saved successfully\n",
            "\n",
            "Generating dataset: n=3000, vars=4, lag=4\n"
          ]
        },
        {
          "output_type": "stream",
          "name": "stderr",
          "text": [
            "<ipython-input-9-d88b19cb559e>:269: RuntimeWarning: More than 20 figures have been opened. Figures created through the pyplot interface (`matplotlib.pyplot.figure`) are retained until explicitly closed and may consume too much memory. (To control this warning, see the rcParam `figure.max_open_warning`). Consider using `matplotlib.pyplot.close()`.\n",
            "  plt.figure(figsize=(12, 12))\n"
          ]
        },
        {
          "output_type": "stream",
          "name": "stdout",
          "text": [
            "Dataset and visualizations saved successfully\n",
            "\n",
            "Generating dataset: n=3000, vars=6, lag=2\n",
            "Dataset and visualizations saved successfully\n",
            "\n",
            "Generating dataset: n=3000, vars=6, lag=3\n",
            "Dataset and visualizations saved successfully\n",
            "\n",
            "Generating dataset: n=3000, vars=6, lag=4\n",
            "Dataset and visualizations saved successfully\n",
            "\n",
            "Generating dataset: n=3000, vars=8, lag=2\n",
            "Dataset and visualizations saved successfully\n",
            "\n",
            "Generating dataset: n=3000, vars=8, lag=3\n",
            "Dataset and visualizations saved successfully\n",
            "\n",
            "Generating dataset: n=3000, vars=8, lag=4\n",
            "Dataset and visualizations saved successfully\n",
            "\n",
            "Generating dataset: n=5000, vars=4, lag=2\n",
            "Dataset and visualizations saved successfully\n",
            "\n",
            "Generating dataset: n=5000, vars=4, lag=3\n",
            "Dataset and visualizations saved successfully\n",
            "\n",
            "Generating dataset: n=5000, vars=4, lag=4\n",
            "Dataset and visualizations saved successfully\n",
            "\n",
            "Generating dataset: n=5000, vars=6, lag=2\n",
            "Dataset and visualizations saved successfully\n",
            "\n",
            "Generating dataset: n=5000, vars=6, lag=3\n",
            "Dataset and visualizations saved successfully\n",
            "\n",
            "Generating dataset: n=5000, vars=6, lag=4\n",
            "Dataset and visualizations saved successfully\n",
            "\n",
            "Generating dataset: n=5000, vars=8, lag=2\n",
            "Dataset and visualizations saved successfully\n",
            "\n",
            "Generating dataset: n=5000, vars=8, lag=3\n",
            "Dataset and visualizations saved successfully\n",
            "\n",
            "Generating dataset: n=5000, vars=8, lag=4\n",
            "Dataset and visualizations saved successfully\n"
          ]
        },
        {
          "output_type": "display_data",
          "data": {
            "text/plain": [
              "<Figure size 1200x1200 with 0 Axes>"
            ]
          },
          "metadata": {}
        },
        {
          "output_type": "display_data",
          "data": {
            "text/plain": [
              "<Figure size 1200x1200 with 0 Axes>"
            ]
          },
          "metadata": {}
        },
        {
          "output_type": "display_data",
          "data": {
            "text/plain": [
              "<Figure size 1200x1200 with 0 Axes>"
            ]
          },
          "metadata": {}
        },
        {
          "output_type": "display_data",
          "data": {
            "text/plain": [
              "<Figure size 1200x1200 with 0 Axes>"
            ]
          },
          "metadata": {}
        },
        {
          "output_type": "display_data",
          "data": {
            "text/plain": [
              "<Figure size 1200x1200 with 0 Axes>"
            ]
          },
          "metadata": {}
        },
        {
          "output_type": "display_data",
          "data": {
            "text/plain": [
              "<Figure size 1200x1200 with 0 Axes>"
            ]
          },
          "metadata": {}
        },
        {
          "output_type": "display_data",
          "data": {
            "text/plain": [
              "<Figure size 1200x1200 with 0 Axes>"
            ]
          },
          "metadata": {}
        },
        {
          "output_type": "display_data",
          "data": {
            "text/plain": [
              "<Figure size 1200x1200 with 0 Axes>"
            ]
          },
          "metadata": {}
        },
        {
          "output_type": "display_data",
          "data": {
            "text/plain": [
              "<Figure size 1200x1200 with 0 Axes>"
            ]
          },
          "metadata": {}
        },
        {
          "output_type": "display_data",
          "data": {
            "text/plain": [
              "<Figure size 1200x1200 with 0 Axes>"
            ]
          },
          "metadata": {}
        },
        {
          "output_type": "display_data",
          "data": {
            "text/plain": [
              "<Figure size 1200x1200 with 0 Axes>"
            ]
          },
          "metadata": {}
        },
        {
          "output_type": "display_data",
          "data": {
            "text/plain": [
              "<Figure size 1200x1200 with 0 Axes>"
            ]
          },
          "metadata": {}
        },
        {
          "output_type": "display_data",
          "data": {
            "text/plain": [
              "<Figure size 1200x1200 with 0 Axes>"
            ]
          },
          "metadata": {}
        },
        {
          "output_type": "display_data",
          "data": {
            "text/plain": [
              "<Figure size 1200x1200 with 0 Axes>"
            ]
          },
          "metadata": {}
        },
        {
          "output_type": "display_data",
          "data": {
            "text/plain": [
              "<Figure size 1200x1200 with 0 Axes>"
            ]
          },
          "metadata": {}
        },
        {
          "output_type": "display_data",
          "data": {
            "text/plain": [
              "<Figure size 1200x1200 with 0 Axes>"
            ]
          },
          "metadata": {}
        },
        {
          "output_type": "display_data",
          "data": {
            "text/plain": [
              "<Figure size 1200x1200 with 0 Axes>"
            ]
          },
          "metadata": {}
        },
        {
          "output_type": "display_data",
          "data": {
            "text/plain": [
              "<Figure size 1200x1200 with 0 Axes>"
            ]
          },
          "metadata": {}
        },
        {
          "output_type": "display_data",
          "data": {
            "text/plain": [
              "<Figure size 1200x1200 with 0 Axes>"
            ]
          },
          "metadata": {}
        },
        {
          "output_type": "display_data",
          "data": {
            "text/plain": [
              "<Figure size 1200x1200 with 0 Axes>"
            ]
          },
          "metadata": {}
        },
        {
          "output_type": "display_data",
          "data": {
            "text/plain": [
              "<Figure size 1200x1200 with 0 Axes>"
            ]
          },
          "metadata": {}
        },
        {
          "output_type": "display_data",
          "data": {
            "text/plain": [
              "<Figure size 1200x1200 with 0 Axes>"
            ]
          },
          "metadata": {}
        },
        {
          "output_type": "display_data",
          "data": {
            "text/plain": [
              "<Figure size 1200x1200 with 0 Axes>"
            ]
          },
          "metadata": {}
        },
        {
          "output_type": "display_data",
          "data": {
            "text/plain": [
              "<Figure size 1200x1200 with 0 Axes>"
            ]
          },
          "metadata": {}
        },
        {
          "output_type": "display_data",
          "data": {
            "text/plain": [
              "<Figure size 1200x1200 with 0 Axes>"
            ]
          },
          "metadata": {}
        },
        {
          "output_type": "display_data",
          "data": {
            "text/plain": [
              "<Figure size 1200x1200 with 0 Axes>"
            ]
          },
          "metadata": {}
        },
        {
          "output_type": "display_data",
          "data": {
            "text/plain": [
              "<Figure size 1200x1200 with 0 Axes>"
            ]
          },
          "metadata": {}
        },
        {
          "output_type": "display_data",
          "data": {
            "text/plain": [
              "<Figure size 1200x1200 with 0 Axes>"
            ]
          },
          "metadata": {}
        },
        {
          "output_type": "display_data",
          "data": {
            "text/plain": [
              "<Figure size 1200x1200 with 0 Axes>"
            ]
          },
          "metadata": {}
        },
        {
          "output_type": "display_data",
          "data": {
            "text/plain": [
              "<Figure size 1200x1200 with 0 Axes>"
            ]
          },
          "metadata": {}
        },
        {
          "output_type": "display_data",
          "data": {
            "text/plain": [
              "<Figure size 1200x1200 with 0 Axes>"
            ]
          },
          "metadata": {}
        },
        {
          "output_type": "display_data",
          "data": {
            "text/plain": [
              "<Figure size 1200x1200 with 0 Axes>"
            ]
          },
          "metadata": {}
        },
        {
          "output_type": "display_data",
          "data": {
            "text/plain": [
              "<Figure size 1200x1200 with 0 Axes>"
            ]
          },
          "metadata": {}
        },
        {
          "output_type": "display_data",
          "data": {
            "text/plain": [
              "<Figure size 1200x1200 with 0 Axes>"
            ]
          },
          "metadata": {}
        },
        {
          "output_type": "display_data",
          "data": {
            "text/plain": [
              "<Figure size 1200x1200 with 0 Axes>"
            ]
          },
          "metadata": {}
        },
        {
          "output_type": "display_data",
          "data": {
            "text/plain": [
              "<Figure size 1200x1200 with 0 Axes>"
            ]
          },
          "metadata": {}
        }
      ]
    },
    {
      "cell_type": "code",
      "source": [
        "!zip -r /content/output.zip /content/output"
      ],
      "metadata": {
        "colab": {
          "base_uri": "https://localhost:8080/"
        },
        "id": "OFIFURrmMe_v",
        "outputId": "fc019b96-2132-498d-c8b5-af3dbe943b30"
      },
      "execution_count": 10,
      "outputs": [
        {
          "output_type": "stream",
          "name": "stdout",
          "text": [
            "  adding: content/output/ (stored 0%)\n",
            "  adding: content/output/linear_causal_graph_with_confounder_n500_vars8_lag3.png (deflated 4%)\n",
            "  adding: content/output/linear_ts_with_confounder_n1000_vars8_lag4.csv (deflated 54%)\n",
            "  adding: content/output/linear_ts_plot_with_confounder_n500_vars8_lag3.png (deflated 1%)\n",
            "  adding: content/output/linear_ts_with_confounder_n500_vars8_lag4.csv (deflated 53%)\n",
            "  adding: content/output/linear_ts_with_confounder_n3000_vars8_lag4.csv (deflated 55%)\n",
            "  adding: content/output/linear_ts_plot_n500_vars4_lag4.png (deflated 1%)\n",
            "  adding: content/output/linear_causal_graph_with_confounder_n1000_vars4_lag3.png (deflated 4%)\n",
            "  adding: content/output/linear_ts_plot_n500_vars6_lag2.png (deflated 1%)\n",
            "  adding: content/output/linear_ts_plot_with_confounder_n5000_vars4_lag2.png (deflated 3%)\n",
            "  adding: content/output/linear_causal_graph_with_confounder_n500_vars4_lag4.png (deflated 4%)\n",
            "  adding: content/output/linear_ts_plot_with_confounder_n500_vars8_lag2.png (deflated 1%)\n",
            "  adding: content/output/linear_causal_structure_vars6_lag4.txt (deflated 47%)\n",
            "  adding: content/output/linear_ts_with_confounder_n1000_vars8_lag3.csv (deflated 54%)\n",
            "  adding: content/output/linear_ts_with_confounder_n500_vars4_lag3.csv (deflated 52%)\n",
            "  adding: content/output/linear_causal_structure_with_confounder_vars8_lag4.txt (deflated 46%)\n",
            "  adding: content/output/linear_causal_graph_with_confounder_n500_vars6_lag4.png (deflated 4%)\n",
            "  adding: content/output/linear_causal_structure_with_confounder_vars6_lag3.txt (deflated 40%)\n",
            "  adding: content/output/linear_causal_graph_with_confounder_n3000_vars6_lag4.png (deflated 4%)\n",
            "  adding: content/output/linear_ts_with_confounder_n500_vars4_lag4.csv (deflated 52%)\n",
            "  adding: content/output/linear_ts_plot_with_confounder_n3000_vars6_lag3.png (deflated 3%)\n",
            "  adding: content/output/linear_causal_graph_with_confounder_n1000_vars4_lag4.png (deflated 4%)\n",
            "  adding: content/output/linear_ts_plot_with_confounder_n3000_vars6_lag4.png (deflated 3%)\n",
            "  adding: content/output/linear_ts_plot_n5000_vars8_lag4.png (deflated 3%)\n",
            "  adding: content/output/linear_ts_plot_with_confounder_n1000_vars4_lag4.png (deflated 2%)\n",
            "  adding: content/output/linear_ts_plot_with_confounder_n5000_vars4_lag4.png (deflated 3%)\n",
            "  adding: content/output/linear_causal_graph_with_confounder_n500_vars4_lag3.png (deflated 4%)\n",
            "  adding: content/output/linear_ts_plot_with_confounder_n3000_vars4_lag3.png (deflated 3%)\n",
            "  adding: content/output/linear_ts_plot_n3000_vars4_lag4.png (deflated 2%)\n",
            "  adding: content/output/linear_causal_structure_with_confounder_vars8_lag2.txt (deflated 47%)\n",
            "  adding: content/output/linear_ts_plot_n500_vars4_lag3.png (deflated 1%)\n",
            "  adding: content/output/linear_ts_plot_with_confounder_n1000_vars6_lag4.png (deflated 2%)\n",
            "  adding: content/output/linear_ts_with_confounder_n3000_vars8_lag2.csv (deflated 55%)\n",
            "  adding: content/output/linear_ts_plot_n500_vars8_lag2.png (deflated 1%)\n",
            "  adding: content/output/linear_ts_plot_with_confounder_n500_vars8_lag4.png (deflated 1%)\n",
            "  adding: content/output/linear_ts_plot_n1000_vars4_lag2.png (deflated 2%)\n",
            "  adding: content/output/linear_ts_plot_with_confounder_n1000_vars8_lag4.png (deflated 2%)\n",
            "  adding: content/output/linear_causal_graph_with_confounder_n5000_vars4_lag3.png (deflated 4%)\n",
            "  adding: content/output/linear_ts_plot_with_confounder_n1000_vars6_lag2.png (deflated 2%)\n",
            "  adding: content/output/linear_ts_with_confounder_n1000_vars4_lag3.csv (deflated 53%)\n",
            "  adding: content/output/linear_ts_with_confounder_n500_vars8_lag3.csv (deflated 53%)\n",
            "  adding: content/output/linear_ts_plot_n3000_vars6_lag4.png (deflated 3%)\n",
            "  adding: content/output/linear_ts_plot_with_confounder_n3000_vars8_lag2.png (deflated 3%)\n",
            "  adding: content/output/linear_causal_graph_with_confounder_n5000_vars4_lag4.png (deflated 4%)\n",
            "  adding: content/output/linear_causal_graph_with_confounder_n3000_vars8_lag3.png (deflated 4%)\n",
            "  adding: content/output/linear_causal_graph_with_confounder_n3000_vars4_lag2.png (deflated 5%)\n",
            "  adding: content/output/linear_ts_plot_n1000_vars6_lag3.png (deflated 2%)\n",
            "  adding: content/output/linear_ts_plot_n1000_vars8_lag3.png (deflated 2%)\n",
            "  adding: content/output/linear_causal_structure_vars4_lag3.txt (deflated 43%)\n",
            "  adding: content/output/linear_ts_plot_n1000_vars6_lag4.png (deflated 2%)\n",
            "  adding: content/output/linear_causal_graph_with_confounder_n500_vars6_lag2.png (deflated 5%)\n",
            "  adding: content/output/linear_causal_graph_with_confounder_n1000_vars4_lag2.png (deflated 5%)\n",
            "  adding: content/output/linear_causal_graph_with_confounder_n3000_vars8_lag2.png (deflated 5%)\n",
            "  adding: content/output/linear_ts_plot_with_confounder_n500_vars4_lag2.png (deflated 2%)\n",
            "  adding: content/output/linear_causal_graph_with_confounder_n3000_vars6_lag3.png (deflated 4%)\n",
            "  adding: content/output/linear_ts_with_confounder_n500_vars8_lag2.csv (deflated 53%)\n",
            "  adding: content/output/linear_ts_plot_with_confounder_n500_vars4_lag4.png (deflated 2%)\n",
            "  adding: content/output/linear_ts_plot_n3000_vars6_lag3.png (deflated 3%)\n",
            "  adding: content/output/linear_ts_with_confounder_n3000_vars4_lag3.csv (deflated 54%)\n",
            "  adding: content/output/linear_causal_structure_vars6_lag2.txt (deflated 49%)\n",
            "  adding: content/output/linear_ts_with_confounder_n3000_vars8_lag3.csv (deflated 55%)\n",
            "  adding: content/output/linear_ts_plot_with_confounder_n3000_vars4_lag4.png (deflated 3%)\n",
            "  adding: content/output/linear_causal_graph_with_confounder_n1000_vars8_lag2.png (deflated 5%)\n",
            "  adding: content/output/linear_ts_plot_with_confounder_n5000_vars8_lag4.png (deflated 3%)\n",
            "  adding: content/output/linear_ts_with_confounder_n1000_vars6_lag2.csv (deflated 54%)\n",
            "  adding: content/output/linear_causal_graph_with_confounder_n500_vars8_lag4.png (deflated 4%)\n",
            "  adding: content/output/linear_causal_graph_with_confounder_n1000_vars8_lag4.png (deflated 4%)\n",
            "  adding: content/output/linear_ts_plot_with_confounder_n3000_vars4_lag2.png (deflated 3%)\n",
            "  adding: content/output/linear_ts_plot_n3000_vars4_lag2.png (deflated 2%)\n",
            "  adding: content/output/linear_causal_graph_with_confounder_n5000_vars6_lag3.png (deflated 4%)\n",
            "  adding: content/output/linear_ts_plot_with_confounder_n3000_vars8_lag4.png (deflated 2%)\n",
            "  adding: content/output/linear_ts_plot_with_confounder_n3000_vars8_lag3.png (deflated 2%)\n",
            "  adding: content/output/linear_causal_structure_vars8_lag4.txt (deflated 53%)\n",
            "  adding: content/output/linear_ts_plot_n5000_vars6_lag4.png (deflated 3%)\n",
            "  adding: content/output/linear_ts_plot_n5000_vars6_lag3.png (deflated 3%)\n",
            "  adding: content/output/linear_causal_graph_with_confounder_n1000_vars6_lag4.png (deflated 4%)\n",
            "  adding: content/output/linear_ts_plot_with_confounder_n500_vars4_lag3.png (deflated 2%)\n",
            "  adding: content/output/linear_causal_structure_vars6_lag3.txt (deflated 47%)\n",
            "  adding: content/output/linear_ts_plot_n500_vars8_lag3.png (deflated 1%)\n",
            "  adding: content/output/linear_causal_structure_vars8_lag3.txt (deflated 53%)\n",
            "  adding: content/output/linear_ts_plot_with_confounder_n3000_vars6_lag2.png (deflated 3%)\n",
            "  adding: content/output/linear_causal_graph_with_confounder_n500_vars4_lag2.png (deflated 5%)\n",
            "  adding: content/output/linear_ts_plot_n5000_vars4_lag2.png (deflated 3%)\n",
            "  adding: content/output/linear_causal_graph_with_confounder_n1000_vars6_lag2.png (deflated 5%)\n",
            "  adding: content/output/linear_ts_plot_n3000_vars4_lag3.png (deflated 2%)\n",
            "  adding: content/output/linear_ts_plot_with_confounder_n5000_vars8_lag3.png (deflated 3%)\n",
            "  adding: content/output/linear_causal_graph_with_confounder_n5000_vars8_lag4.png (deflated 4%)\n",
            "  adding: content/output/linear_causal_graph_with_confounder_n500_vars8_lag2.png (deflated 5%)\n",
            "  adding: content/output/linear_causal_graph_with_confounder_n3000_vars8_lag4.png (deflated 4%)\n",
            "  adding: content/output/linear_causal_graph_with_confounder_n5000_vars8_lag3.png (deflated 4%)\n",
            "  adding: content/output/linear_ts_plot_with_confounder_n1000_vars4_lag2.png (deflated 2%)\n",
            "  adding: content/output/linear_ts_plot_n5000_vars6_lag2.png (deflated 3%)\n",
            "  adding: content/output/linear_causal_graph_with_confounder_n5000_vars8_lag2.png (deflated 5%)\n",
            "  adding: content/output/linear_ts_plot_with_confounder_n1000_vars6_lag3.png (deflated 2%)\n",
            "  adding: content/output/linear_causal_graph_with_confounder_n1000_vars8_lag3.png (deflated 4%)\n",
            "  adding: content/output/linear_ts_plot_with_confounder_n500_vars6_lag4.png (deflated 1%)\n",
            "  adding: content/output/linear_ts_plot_with_confounder_n5000_vars6_lag4.png (deflated 3%)\n",
            "  adding: content/output/linear_causal_graph_with_confounder_n5000_vars4_lag2.png (deflated 5%)\n",
            "  adding: content/output/linear_ts_plot_with_confounder_n500_vars6_lag2.png (deflated 1%)\n",
            "  adding: content/output/linear_ts_with_confounder_n500_vars6_lag2.csv (deflated 53%)\n",
            "  adding: content/output/linear_ts_with_confounder_n5000_vars8_lag2.csv (deflated 55%)\n",
            "  adding: content/output/linear_ts_with_confounder_n3000_vars6_lag4.csv (deflated 54%)\n",
            "  adding: content/output/linear_causal_structure_with_confounder_vars4_lag3.txt (deflated 35%)\n",
            "  adding: content/output/linear_ts_plot_n3000_vars8_lag3.png (deflated 2%)\n",
            "  adding: content/output/linear_ts_plot_n3000_vars6_lag2.png (deflated 3%)\n",
            "  adding: content/output/linear_ts_plot_n3000_vars8_lag2.png (deflated 2%)\n",
            "  adding: content/output/linear_ts_plot_n1000_vars8_lag2.png (deflated 2%)\n",
            "  adding: content/output/linear_ts_plot_n5000_vars8_lag2.png (deflated 3%)\n",
            "  adding: content/output/linear_ts_with_confounder_n500_vars4_lag2.csv (deflated 52%)\n",
            "  adding: content/output/linear_ts_plot_with_confounder_n1000_vars4_lag3.png (deflated 2%)\n",
            "  adding: content/output/linear_causal_graph_with_confounder_n5000_vars6_lag2.png (deflated 5%)\n",
            "  adding: content/output/linear_ts_plot_n500_vars6_lag3.png (deflated 1%)\n",
            "  adding: content/output/linear_causal_structure_vars4_lag2.txt (deflated 40%)\n",
            "  adding: content/output/linear_ts_with_confounder_n1000_vars8_lag2.csv (deflated 54%)\n",
            "  adding: content/output/linear_causal_structure_with_confounder_vars4_lag4.txt (deflated 35%)\n",
            "  adding: content/output/linear_ts_with_confounder_n1000_vars4_lag4.csv (deflated 53%)\n",
            "  adding: content/output/linear_ts_with_confounder_n1000_vars6_lag3.csv (deflated 54%)\n",
            "  adding: content/output/linear_ts_plot_with_confounder_n5000_vars6_lag3.png (deflated 3%)\n",
            "  adding: content/output/linear_ts_plot_with_confounder_n500_vars6_lag3.png (deflated 1%)\n",
            "  adding: content/output/linear_causal_graph_with_confounder_n3000_vars4_lag3.png (deflated 4%)\n",
            "  adding: content/output/linear_ts_plot_n500_vars4_lag2.png (deflated 1%)\n",
            "  adding: content/output/linear_ts_plot_n5000_vars4_lag4.png (deflated 3%)\n",
            "  adding: content/output/linear_ts_with_confounder_n5000_vars8_lag3.csv (deflated 55%)\n",
            "  adding: content/output/linear_ts_plot_n500_vars8_lag4.png (deflated 1%)\n",
            "  adding: content/output/linear_causal_structure_with_confounder_vars6_lag4.txt (deflated 40%)\n",
            "  adding: content/output/linear_ts_plot_with_confounder_n1000_vars8_lag2.png (deflated 2%)\n",
            "  adding: content/output/linear_ts_plot_with_confounder_n5000_vars6_lag2.png (deflated 3%)\n",
            "  adding: content/output/linear_ts_with_confounder_n5000_vars6_lag4.csv (deflated 55%)\n",
            "  adding: content/output/linear_causal_graph_with_confounder_n1000_vars6_lag3.png (deflated 4%)\n",
            "  adding: content/output/linear_ts_with_confounder_n500_vars6_lag3.csv (deflated 53%)\n",
            "  adding: content/output/linear_ts_with_confounder_n5000_vars8_lag4.csv (deflated 55%)\n",
            "  adding: content/output/linear_ts_with_confounder_n5000_vars4_lag4.csv (deflated 54%)\n",
            "  adding: content/output/linear_ts_with_confounder_n5000_vars6_lag2.csv (deflated 55%)\n",
            "  adding: content/output/linear_ts_with_confounder_n1000_vars4_lag2.csv (deflated 53%)\n",
            "  adding: content/output/linear_ts_with_confounder_n3000_vars6_lag3.csv (deflated 54%)\n",
            "  adding: content/output/linear_causal_graph_with_confounder_n3000_vars6_lag2.png (deflated 5%)\n",
            "  adding: content/output/linear_ts_plot_n5000_vars4_lag3.png (deflated 3%)\n",
            "  adding: content/output/linear_causal_structure_with_confounder_vars8_lag3.txt (deflated 47%)\n",
            "  adding: content/output/linear_causal_structure_with_confounder_vars4_lag2.txt (deflated 32%)\n",
            "  adding: content/output/linear_ts_plot_n1000_vars4_lag3.png (deflated 2%)\n",
            "  adding: content/output/linear_ts_with_confounder_n5000_vars6_lag3.csv (deflated 55%)\n",
            "  adding: content/output/linear_ts_plot_with_confounder_n5000_vars4_lag3.png (deflated 3%)\n",
            "  adding: content/output/linear_ts_with_confounder_n1000_vars6_lag4.csv (deflated 54%)\n",
            "  adding: content/output/linear_ts_with_confounder_n3000_vars4_lag4.csv (deflated 54%)\n",
            "  adding: content/output/linear_ts_plot_n3000_vars8_lag4.png (deflated 2%)\n",
            "  adding: content/output/linear_ts_plot_n500_vars6_lag4.png (deflated 1%)\n",
            "  adding: content/output/linear_causal_graph_with_confounder_n3000_vars4_lag4.png (deflated 4%)\n",
            "  adding: content/output/linear_ts_with_confounder_n5000_vars4_lag2.csv (deflated 54%)\n",
            "  adding: content/output/linear_causal_structure_with_confounder_vars6_lag2.txt (deflated 42%)\n",
            "  adding: content/output/linear_ts_with_confounder_n500_vars6_lag4.csv (deflated 53%)\n",
            "  adding: content/output/linear_ts_with_confounder_n3000_vars4_lag2.csv (deflated 54%)\n",
            "  adding: content/output/linear_causal_structure_vars8_lag2.txt (deflated 54%)\n",
            "  adding: content/output/linear_ts_plot_with_confounder_n1000_vars8_lag3.png (deflated 2%)\n",
            "  adding: content/output/linear_ts_plot_with_confounder_n5000_vars8_lag2.png (deflated 3%)\n",
            "  adding: content/output/linear_ts_with_confounder_n3000_vars6_lag2.csv (deflated 54%)\n",
            "  adding: content/output/linear_ts_plot_n1000_vars4_lag4.png (deflated 2%)\n",
            "  adding: content/output/linear_ts_plot_n5000_vars8_lag3.png (deflated 3%)\n",
            "  adding: content/output/linear_ts_plot_n1000_vars6_lag2.png (deflated 2%)\n",
            "  adding: content/output/linear_causal_graph_with_confounder_n5000_vars6_lag4.png (deflated 4%)\n",
            "  adding: content/output/linear_ts_plot_n1000_vars8_lag4.png (deflated 2%)\n",
            "  adding: content/output/linear_causal_graph_with_confounder_n500_vars6_lag3.png (deflated 4%)\n",
            "  adding: content/output/linear_causal_structure_vars4_lag4.txt (deflated 43%)\n",
            "  adding: content/output/linear_ts_with_confounder_n5000_vars4_lag3.csv (deflated 54%)\n"
          ]
        }
      ]
    },
    {
      "cell_type": "code",
      "source": [
        "from google.colab import files\n",
        "files.download('/content/output.zip')"
      ],
      "metadata": {
        "colab": {
          "base_uri": "https://localhost:8080/",
          "height": 17
        },
        "id": "0XjBDJCIMkiY",
        "outputId": "4173d3b0-ebf8-4c65-d39c-3cbd80af3956"
      },
      "execution_count": 11,
      "outputs": [
        {
          "output_type": "display_data",
          "data": {
            "text/plain": [
              "<IPython.core.display.Javascript object>"
            ],
            "application/javascript": [
              "\n",
              "    async function download(id, filename, size) {\n",
              "      if (!google.colab.kernel.accessAllowed) {\n",
              "        return;\n",
              "      }\n",
              "      const div = document.createElement('div');\n",
              "      const label = document.createElement('label');\n",
              "      label.textContent = `Downloading \"${filename}\": `;\n",
              "      div.appendChild(label);\n",
              "      const progress = document.createElement('progress');\n",
              "      progress.max = size;\n",
              "      div.appendChild(progress);\n",
              "      document.body.appendChild(div);\n",
              "\n",
              "      const buffers = [];\n",
              "      let downloaded = 0;\n",
              "\n",
              "      const channel = await google.colab.kernel.comms.open(id);\n",
              "      // Send a message to notify the kernel that we're ready.\n",
              "      channel.send({})\n",
              "\n",
              "      for await (const message of channel.messages) {\n",
              "        // Send a message to notify the kernel that we're ready.\n",
              "        channel.send({})\n",
              "        if (message.buffers) {\n",
              "          for (const buffer of message.buffers) {\n",
              "            buffers.push(buffer);\n",
              "            downloaded += buffer.byteLength;\n",
              "            progress.value = downloaded;\n",
              "          }\n",
              "        }\n",
              "      }\n",
              "      const blob = new Blob(buffers, {type: 'application/binary'});\n",
              "      const a = document.createElement('a');\n",
              "      a.href = window.URL.createObjectURL(blob);\n",
              "      a.download = filename;\n",
              "      div.appendChild(a);\n",
              "      a.click();\n",
              "      div.remove();\n",
              "    }\n",
              "  "
            ]
          },
          "metadata": {}
        },
        {
          "output_type": "display_data",
          "data": {
            "text/plain": [
              "<IPython.core.display.Javascript object>"
            ],
            "application/javascript": [
              "download(\"download_fb17af62-25e8-499b-bce6-576fa1bb97c2\", \"output.zip\", 28901516)"
            ]
          },
          "metadata": {}
        }
      ]
    }
  ]
}